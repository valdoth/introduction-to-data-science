{
 "cells": [
  {
   "cell_type": "markdown",
   "id": "e1a2d55e-855c-43bf-90d6-d7c4ea39c311",
   "metadata": {
    "deletable": false,
    "editable": false
   },
   "source": [
    "<font size=\"+3\"><strong>5.1. Working with JSON files</strong></font>"
   ]
  },
  {
   "cell_type": "markdown",
   "id": "94810d73-7954-4d31-ba93-524c3ae779c8",
   "metadata": {
    "deletable": false,
    "editable": false
   },
   "source": [
    "In this project, we'll be looking at tracking corporate bankruptcies in Poland. To do that, we'll need to get data that's been stored in a `JSON` file, explore it, and turn it into a DataFrame that we'll use to train our model."
   ]
  },
  {
   "cell_type": "code",
   "execution_count": null,
   "id": "0ce7e7e1-14e1-4e67-9b2c-cac8939af21a",
   "metadata": {
    "deletable": false,
    "editable": false,
    "init_cell": true,
    "tags": []
   },
   "outputs": [],
   "source": [
    "import gzip\n",
    "import json\n",
    "\n",
    "import pandas as pd\n",
    "import wqet_grader\n",
    "from IPython.display import VimeoVideo\n",
    "\n",
    "wqet_grader.init(\"Project 5 Assessment\")\n"
   ]
  },
  {
   "cell_type": "code",
   "execution_count": null,
   "id": "468a9ae7-1cc1-41f8-a7f6-813ce1938c4f",
   "metadata": {
    "deletable": false,
    "editable": false,
    "init_cell": true
   },
   "outputs": [],
   "source": [
    "VimeoVideo(\"694158732\", h=\"73c2fb4e4f\", width=600)"
   ]
  },
  {
   "cell_type": "markdown",
   "id": "d51973f2-1da4-477c-9770-97ed5174dada",
   "metadata": {
    "deletable": false,
    "editable": false
   },
   "source": [
    "# Prepare Data"
   ]
  },
  {
   "cell_type": "markdown",
   "id": "d040de7c-daf6-4817-8c55-18b8f29a785d",
   "metadata": {
    "deletable": false,
    "editable": false
   },
   "source": [
    "## Open"
   ]
  },
  {
   "cell_type": "markdown",
   "id": "46981355-9c3d-44ce-81bb-257fb30fb1f4",
   "metadata": {
    "deletable": false,
    "editable": false
   },
   "source": [
    "The first thing we need to do is access the file that contains the data we need. We've done this using multiple strategies before, but this time around, we're going to use the command line."
   ]
  },
  {
   "cell_type": "code",
   "execution_count": null,
   "id": "13a55cca-df6f-486e-a6ee-8823369cbf1b",
   "metadata": {
    "deletable": false,
    "editable": false,
    "init_cell": true
   },
   "outputs": [],
   "source": [
    "VimeoVideo(\"693794546\", h=\"6e1fab0a5e\", width=600)"
   ]
  },
  {
   "cell_type": "markdown",
   "id": "44adf074-0355-43e1-9f57-42dc3e8c7ae6",
   "metadata": {
    "deletable": false,
    "editable": false
   },
   "source": [
    "**Task 5.1.1:** Open a terminal window and navigate to the directory where the data for this project is located.\n",
    "\n",
    "- [What's the  Linux command line?](../%40textbook/19-linux-command-line.ipynb)\n",
    "- [Navigate a file system using the Linux command line.](../%40textbook/19-linux-command-line.ipynb) "
   ]
  },
  {
   "cell_type": "markdown",
   "id": "998596d3-576e-480c-a148-8532e10308a9",
   "metadata": {
    "deletable": false,
    "editable": false
   },
   "source": [
    "As we've seen in our other projects, datasets can be large or small, messy or clean, and complex or easy to understand. Regardless of how the data looks, though, it needs to be saved in a file somewhere, and when that file gets too big, we need to *compress* it. Compressed files are easier to store because they take up less space. If you've ever come across a `ZIP` file, you've worked with compressed data. \n",
    "\n",
    "The file we're using for this project is compressed, so we'll need to use a file utility called `gzip` to open it up."
   ]
  },
  {
   "cell_type": "code",
   "execution_count": null,
   "id": "96077600-8d0d-421c-88a4-00c4d871feca",
   "metadata": {
    "deletable": false,
    "editable": false,
    "init_cell": true
   },
   "outputs": [],
   "source": [
    "VimeoVideo(\"693794604\", h=\"a8c0f15712\", width=600)"
   ]
  },
  {
   "cell_type": "markdown",
   "id": "0c3ed9a1-67ec-4004-adc3-bd36452bc924",
   "metadata": {
    "deletable": false,
    "editable": false
   },
   "source": [
    "**Task 5.1.2:** In the terminal window, locate the data file for this project and decompress it.\n",
    "\n",
    "- [What's gzip?](../%40textbook/19-linux-command-line.ipynb#gzip)\n",
    "- [What's data compression?](../%40textbook/19-linux-command-line.ipynb#Data-Compressing)\n",
    "- [Decompress a file using gzip.](../%40textbook/19-linux-command-line.ipynb#gzip)"
   ]
  },
  {
   "cell_type": "code",
   "execution_count": null,
   "id": "1504adbf-fa93-42a9-a98d-18b265020f5f",
   "metadata": {
    "deletable": false,
    "editable": false,
    "init_cell": true
   },
   "outputs": [],
   "source": [
    "VimeoVideo(\"693794641\", h=\"d77bf46d41\", width=600)"
   ]
  },
  {
   "cell_type": "code",
   "execution_count": null,
   "id": "1c38ec4c-447e-44e6-8198-1574a15b318e",
   "metadata": {
    "deletable": false
   },
   "outputs": [],
   "source": [
    "%%bash\n",
    "\n"
   ]
  },
  {
   "cell_type": "markdown",
   "id": "7119c915-6023-45ff-969d-9178bdf9c55a",
   "metadata": {
    "deletable": false,
    "editable": false
   },
   "source": [
    "## Explore"
   ]
  },
  {
   "cell_type": "markdown",
   "id": "80b5e424-15f3-4984-afa9-0b0b38a6a5eb",
   "metadata": {
    "deletable": false,
    "editable": false
   },
   "source": [
    "Now that we've decompressed the data, let's take a look and see what's there."
   ]
  },
  {
   "cell_type": "code",
   "execution_count": null,
   "id": "f438b1c2-8b82-498d-bad6-731de5db4f79",
   "metadata": {
    "deletable": false,
    "editable": false,
    "init_cell": true
   },
   "outputs": [],
   "source": [
    "VimeoVideo(\"693794658\", h=\"c8f1bba831\", width=600)"
   ]
  },
  {
   "cell_type": "markdown",
   "id": "2b6c0ac5-1bb2-4f00-8555-76b3c907a9ff",
   "metadata": {
    "deletable": false,
    "editable": false
   },
   "source": [
    "**Task 5.1.3:** In the terminal window, examine the first 10 lines of `poland-bankruptcy-data-2009.json`.\n",
    "\n",
    "- [Print lines from a file in the Linux command line.](../%40textbook/19-linux-command-line.ipynb#Viewing-File-Contents)"
   ]
  },
  {
   "cell_type": "markdown",
   "id": "79f64022-60f3-4643-a4f9-780254df8a72",
   "metadata": {
    "deletable": false,
    "editable": false
   },
   "source": [
    "Does this look like any of the data structures we've seen in previous projects?"
   ]
  },
  {
   "cell_type": "code",
   "execution_count": null,
   "id": "47f04563-b4d4-4262-829e-d7929a6e3a94",
   "metadata": {
    "deletable": false,
    "editable": false,
    "init_cell": true
   },
   "outputs": [],
   "source": [
    "VimeoVideo(\"693794680\", h=\"7f1302444b\", width=600)"
   ]
  },
  {
   "cell_type": "markdown",
   "id": "1afa9bc9-bcfe-4814-ad2f-b35866feacf6",
   "metadata": {
    "deletable": false,
    "editable": false
   },
   "source": [
    "**Task 5.1.4:** Open `poland-bankruptcy-data-2009.json` by opening the `data` folder to the left and then double-clicking on the file. 👈 "
   ]
  },
  {
   "cell_type": "markdown",
   "id": "5ea0bc23-8e21-4f55-8c39-db0384bd10b5",
   "metadata": {
    "deletable": false,
    "editable": false
   },
   "source": [
    "How is the data organized? "
   ]
  },
  {
   "cell_type": "markdown",
   "id": "a2628097-59e1-4ab7-9979-c9dd9a0debba",
   "metadata": {
    "deletable": false,
    "editable": false
   },
   "source": [
    "Curly brackets? Key-value pairs? It looks similar to a Python dictionary. It's important to note that JSON is not _exactly_ the same as a dictionary, but a lot of the same concepts apply. Let's try reading the file into a DataFrame and see what happens."
   ]
  },
  {
   "cell_type": "code",
   "execution_count": null,
   "id": "b94eaabd-a128-46e0-a764-fffbe1d48fb9",
   "metadata": {
    "deletable": false,
    "editable": false,
    "init_cell": true
   },
   "outputs": [],
   "source": [
    "VimeoVideo(\"693794696\", h=\"dd5b5ad116\", width=600)"
   ]
  },
  {
   "cell_type": "markdown",
   "id": "111acd3e-28a6-43ab-84b0-4fa82eace401",
   "metadata": {
    "deletable": false,
    "editable": false
   },
   "source": [
    "**Task 5.1.5:** Load the data into a DataFrame. \n",
    "\n",
    "- [Read a JSON file into a DataFrame using pandas.](../%40textbook/03-pandas-getting-started.ipynb#JSON-Files)"
   ]
  },
  {
   "cell_type": "code",
   "execution_count": null,
   "id": "0fca0a10-98b4-4d33-b155-632dfec7b0a8",
   "metadata": {
    "deletable": false,
    "tags": [
     "raises-exception"
    ]
   },
   "outputs": [],
   "source": [
    "df = ...\n",
    "df.head()"
   ]
  },
  {
   "cell_type": "code",
   "execution_count": null,
   "id": "4ae3246e-eafc-4172-9a10-53f2222ae355",
   "metadata": {
    "deletable": false,
    "editable": false,
    "init_cell": true
   },
   "outputs": [],
   "source": [
    "VimeoVideo(\"693794711\", h=\"fdb009c4eb\", width=600)"
   ]
  },
  {
   "cell_type": "markdown",
   "id": "f1ec41c9-8bf4-4285-ad3e-62a57e115074",
   "metadata": {
    "deletable": false,
    "editable": false
   },
   "source": [
    "Hmmm. It looks like something went wrong, and we're going to have to fix it. Luckily for us, there's an error message to help us figure out what's happening here:\n",
    "\n",
    "<code style=\"background-color:#FEDDDE;\"><span style=\"color:#E45E5C\">ValueError</span>: Mixing dicts with non-Series may lead to ambiguous ordering.\n",
    "</code>\n",
    "\n",
    "What should we do? That error sounds serious, but the world is big, and we can't possibly be the first people to encounter this problem. When you come across an error, copy the message into a search engine and see what comes back. You'll get lots of results. The web has lots of places to look for solutions to problems like this one, and [Stack Overflow](https://stackoverflow.com/) is one of the best. [Click here to check out a possible solution to our problem.](https://stackoverflow.com/questions/57018859/valueerror-mixing-dicts-with-non-series-may-lead-to-ambiguous-ordering)\n",
    "\n",
    "There are three things to look for when you're browsing through solutions on Stack Overflow. \n",
    "\n",
    "1. **Context:** A good question is specific; if you click through that link, you'll see that the person asks a **specific** question, gives some relevant information about their OS and hardware, and then offers the code that threw the error. That's important, because we need...\n",
    "2. **Reproducible Code:** A good question also includes enough information for you to reproduce the problem yourself. After all, the only way to make sure the solution actually applies to your situation is to see if the code in the question throws the error you're having trouble with! In this case, the person included not only the code they used to get the error, but the actual error message itself. That would be useful on its own, but since you're looking for an actual solution to your problem, you're really looking for...\n",
    "3. **An answer:** Not every question on Stack Overflow gets answered. Luckily for us, the one we've been looking at did. There's a big green check mark next to the first solution, which means that the person who asked the question thought that solution was the best one.\n",
    "\n",
    "Let's try it and see if it works for us too!"
   ]
  },
  {
   "cell_type": "code",
   "execution_count": null,
   "id": "d3b9a1d0-341f-4b22-8b25-8a4c61b4b074",
   "metadata": {
    "deletable": false,
    "editable": false,
    "init_cell": true
   },
   "outputs": [],
   "source": [
    "VimeoVideo(\"693794734\", h=\"fecea6a81e\", width=600)"
   ]
  },
  {
   "cell_type": "markdown",
   "id": "6991d9b9-997b-4b49-a30f-013ea02d8bf8",
   "metadata": {
    "deletable": false,
    "editable": false
   },
   "source": [
    "**Task 5.1.6:** Using a context manager, open the file `poland-bankruptcy-data-2009.json` and load it as a dictionary with the variable name `poland_data`.\n",
    "\n",
    "- [What's a context manager?](../%40textbook/02-python-advanced.ipynb#Create-files-using-Context-Manager)\n",
    "- [Open a file in Python.](../%40textbook/02-python-advanced.ipynb#Create-files-using-Context-Manager)\n",
    "- [Load a JSON file into a dictionary using Python.](../%40textbook/01-python-getting-started.ipynb#Working-with-Dictionaries)"
   ]
  },
  {
   "cell_type": "code",
   "execution_count": null,
   "id": "f9e77c69-2afb-4c18-b03f-6bc4b7b855a9",
   "metadata": {
    "deletable": false
   },
   "outputs": [],
   "source": [
    "# Open file and load JSON\n",
    "\n",
    "\n",
    "print(type(poland_data))"
   ]
  },
  {
   "cell_type": "markdown",
   "id": "f9d1d062-074b-4a39-ab29-e8320c5a3977",
   "metadata": {
    "deletable": false,
    "editable": false
   },
   "source": [
    "Okay! Now that we've successfully opened up our dataset, let's take a look and see what's there, starting with the keys. Remember, the **keys** in a dictionary are categories of things in a dataset."
   ]
  },
  {
   "cell_type": "code",
   "execution_count": null,
   "id": "f4004d58-c427-4774-95e5-242350bb6c94",
   "metadata": {
    "deletable": false,
    "editable": false,
    "init_cell": true
   },
   "outputs": [],
   "source": [
    "VimeoVideo(\"693794754\", h=\"18e70f4225\", width=600)"
   ]
  },
  {
   "cell_type": "markdown",
   "id": "da816b30-050a-4387-ac01-39c0dc2e8a49",
   "metadata": {
    "deletable": false,
    "editable": false
   },
   "source": [
    "**Task 5.1.7:** Print the keys for `poland_data`.\n",
    "\n",
    "- [List the keys of a dictionary in Python.](../%40textbook/01-python-getting-started.ipynb#Dictionary-Keys)"
   ]
  },
  {
   "cell_type": "code",
   "execution_count": null,
   "id": "e5c9deb5-13a0-4d0d-959b-ac83eada9d43",
   "metadata": {
    "deletable": false
   },
   "outputs": [],
   "source": [
    "# Print `poland_data` keys\n"
   ]
  },
  {
   "cell_type": "markdown",
   "id": "65d49916-782c-4fb8-84d0-21bf4644e478",
   "metadata": {
    "deletable": false,
    "editable": false
   },
   "source": [
    "`schema` tells us how the data is structured, `metadata` tells us where the data comes from, and `data` is the data itself."
   ]
  },
  {
   "cell_type": "markdown",
   "id": "2ddbac0e-cb76-4a7d-99f9-020269507dae",
   "metadata": {
    "deletable": false,
    "editable": false
   },
   "source": [
    "Now let's take a look at the values. Remember, the **values** in a dictionary are ways to describe the variable that belongs to a key."
   ]
  },
  {
   "cell_type": "code",
   "execution_count": null,
   "id": "ce5e14ac-c044-4bb8-912b-6e087724dcab",
   "metadata": {
    "deletable": false,
    "editable": false,
    "init_cell": true
   },
   "outputs": [],
   "source": [
    "VimeoVideo(\"693794768\", h=\"8e5b53b0ca\", width=600)"
   ]
  },
  {
   "cell_type": "markdown",
   "id": "59a2b7b2-4daf-4a2b-a408-58c712dda746",
   "metadata": {
    "deletable": false,
    "editable": false
   },
   "source": [
    "**Task 5.1.8:** Explore the values associated with the keys in `poland_data`. What do each of them represent? How is the information associated with the `\"data\"` key organized?"
   ]
  },
  {
   "cell_type": "code",
   "execution_count": null,
   "id": "28b9916e-aa13-4453-9a23-c9bb2a4c17ec",
   "metadata": {
    "deletable": false
   },
   "outputs": [],
   "source": [
    "# Continue Exploring `poland_data`\n"
   ]
  },
  {
   "cell_type": "markdown",
   "id": "dd887da8-d504-455b-adb2-332123298dc1",
   "metadata": {
    "deletable": false,
    "editable": false
   },
   "source": [
    "This dataset includes all the information we need to figure whether or not a Polish company went bankrupt in 2009. There's a bunch of features included in the dataset, each of which corresponds to some element of a company's balance sheet. You can explore the features by looking at the [data dictionary](./056-data-dictionary.ipynb). Most importantly, we also know whether or not the company went bankrupt. That's the last key-value pair."
   ]
  },
  {
   "cell_type": "markdown",
   "id": "2b5b25e6-4a78-414f-8286-b667d24c2826",
   "metadata": {
    "deletable": false,
    "editable": false
   },
   "source": [
    "Now that we know what data we have for each company, let's take a look at how many companies there are."
   ]
  },
  {
   "cell_type": "code",
   "execution_count": null,
   "id": "bb74f065-07ae-4547-97c7-79601f4ae3e3",
   "metadata": {
    "deletable": false,
    "editable": false,
    "init_cell": true
   },
   "outputs": [],
   "source": [
    "VimeoVideo(\"693794783\", h=\"8d333027cc\", width=600)"
   ]
  },
  {
   "cell_type": "markdown",
   "id": "e8b5393c-7c8a-41b9-b8e9-91e6afa46f94",
   "metadata": {
    "deletable": false,
    "editable": false
   },
   "source": [
    "**Task 5.1.9:** Calculate the number of companies included in the dataset.\n",
    "\n",
    "- [Calculate the length of a list in Python.](../%40textbook/01-python-getting-started.ipynb#Working-with-Lists)\n",
    "- [List the keys of a dictionary in Python.](../%40textbook/01-python-getting-started.ipynb#Dictionary-Keys)"
   ]
  },
  {
   "cell_type": "code",
   "execution_count": null,
   "id": "a062458c-18d3-4001-b716-bc2d70f4bc8b",
   "metadata": {
    "deletable": false
   },
   "outputs": [],
   "source": [
    "# Calculate number of companies\n"
   ]
  },
  {
   "cell_type": "markdown",
   "id": "2d030ed0-def1-4dd9-82a9-5e6b4ad15a1c",
   "metadata": {
    "deletable": false,
    "editable": false
   },
   "source": [
    "And then let's see how many features were included for one of the companies."
   ]
  },
  {
   "cell_type": "code",
   "execution_count": null,
   "id": "fa923953-d59f-4311-996d-2bc41f65dace",
   "metadata": {
    "deletable": false,
    "editable": false,
    "init_cell": true
   },
   "outputs": [],
   "source": [
    "VimeoVideo(\"693794797\", h=\"3c1eff82dc\", width=600)"
   ]
  },
  {
   "cell_type": "markdown",
   "id": "2068732e-830b-465e-9f73-02043e7a5a93",
   "metadata": {
    "deletable": false,
    "editable": false
   },
   "source": [
    "**Task 5.1.10:** Calculate the number of features associated with `\"company_1\"`."
   ]
  },
  {
   "cell_type": "code",
   "execution_count": null,
   "id": "e455d7c7-72df-41d0-8987-aa9dc26e7eff",
   "metadata": {
    "deletable": false
   },
   "outputs": [],
   "source": [
    "# Calculate number of features\n"
   ]
  },
  {
   "cell_type": "markdown",
   "id": "04b24ce6-00b3-4b09-bbd1-325780a80cb5",
   "metadata": {
    "deletable": false,
    "editable": false
   },
   "source": [
    "Since we're dealing with data stored in a JSON file, which is common for semi-structured data, we can't assume that all companies have the same features. So let's check!"
   ]
  },
  {
   "cell_type": "code",
   "execution_count": null,
   "id": "bc52a27f-4409-4850-92eb-fd3bae9665cc",
   "metadata": {
    "deletable": false,
    "editable": false,
    "init_cell": true
   },
   "outputs": [],
   "source": [
    "VimeoVideo(\"693794810\", h=\"80e195944b\", width=600)"
   ]
  },
  {
   "cell_type": "markdown",
   "id": "d4aef7a8-09fc-466c-b27e-59a2eb1faaba",
   "metadata": {
    "deletable": false,
    "editable": false
   },
   "source": [
    "**Task 5.1.11:** Iterate through the companies in `poland_data[\"data\"]` and check that they all have the same number of features.\n",
    "\n",
    "- [What's an iterator?](../%40textbook/02-python-advanced.ipynb#Iterators-and-Iterables)\n",
    "- [Access the items in a dictionary in Python.](../%40textbook/01-python-getting-started.ipynb#Working-with-Lists)\n",
    "- [Write a for loop in Python.](../%40textbook/01-python-getting-started.ipynb#Working-with-for-Loops)"
   ]
  },
  {
   "cell_type": "code",
   "execution_count": null,
   "id": "abf4ddaa-aa83-4cfe-817c-886cce0ece35",
   "metadata": {
    "deletable": false
   },
   "outputs": [],
   "source": [
    "# Iterate through companies\n"
   ]
  },
  {
   "cell_type": "markdown",
   "id": "477cba81-0a53-42d6-971f-20d79ca3eabb",
   "metadata": {
    "deletable": false,
    "editable": false
   },
   "source": [
    "It looks like they do! "
   ]
  },
  {
   "cell_type": "markdown",
   "id": "664e47ff-6c88-44fa-bf33-a0ce2bb253ab",
   "metadata": {
    "deletable": false,
    "editable": false
   },
   "source": [
    "Let's put all this together. First, open up the compressed dataset and load it directly into a dictionary."
   ]
  },
  {
   "cell_type": "code",
   "execution_count": null,
   "id": "f5a5c6e0-9da7-4e7f-ae49-3b57afaa650e",
   "metadata": {
    "deletable": false,
    "editable": false,
    "init_cell": true
   },
   "outputs": [],
   "source": [
    "VimeoVideo(\"693794824\", h=\"dbfc9b43ee\", width=600)"
   ]
  },
  {
   "cell_type": "markdown",
   "id": "9133e0fe-fa33-485f-975a-224028432782",
   "metadata": {
    "deletable": false,
    "editable": false
   },
   "source": [
    "**Task 5.1.12:** Using a context manager, open the file `poland-bankruptcy-data-2009.json.gz` and load it as a dictionary with the variable name `poland_data_gz`. \n",
    "\n",
    "- [What's a context manager?](../%40textbook/02-python-advanced.ipynb#Create-files-using-Context-Manager)\n",
    "- [Open a file in Python.](../%40textbook/02-python-advanced.ipynb#Create-files-using-Context-Manager)\n",
    "- [Load a JSON file into a dictionary using Python.](../%40textbook/01-python-getting-started.ipynb#Working-with-Dictionaries)"
   ]
  },
  {
   "cell_type": "code",
   "execution_count": null,
   "id": "66f08f8d-3e3d-4ca7-a0e9-939e0ac1c570",
   "metadata": {
    "deletable": false
   },
   "outputs": [],
   "source": [
    "# Open compressed file and load contents\n",
    "\n",
    "print(type(poland_data_gz))"
   ]
  },
  {
   "cell_type": "markdown",
   "id": "e2590f8f-0c9c-4eb4-a317-d65fed808a85",
   "metadata": {
    "deletable": false,
    "editable": false
   },
   "source": [
    "Since we now have two versions of the dataset — one compressed and one uncompressed — we need to compare them to make sure they're the same."
   ]
  },
  {
   "cell_type": "code",
   "execution_count": null,
   "id": "ebe76fcb-fbfd-491b-8da3-51d71aaf9dfb",
   "metadata": {
    "deletable": false,
    "editable": false,
    "init_cell": true
   },
   "outputs": [],
   "source": [
    "VimeoVideo(\"693794837\", h=\"925b5e4e5a\", width=600)"
   ]
  },
  {
   "cell_type": "markdown",
   "id": "3dba18a9-df27-4c1c-a5ab-f0382011fbbe",
   "metadata": {
    "deletable": false,
    "editable": false
   },
   "source": [
    "**Task 5.1.13:** Explore `poland_data_gz` to confirm that is contains the same data as `data`, in the same format. <span style=\"display: none\">WorldQuant University Canary</span> "
   ]
  },
  {
   "cell_type": "code",
   "execution_count": null,
   "id": "16aaa185-fd67-4d75-bf52-97568b2d31c0",
   "metadata": {
    "deletable": false
   },
   "outputs": [],
   "source": [
    "# Explore `poland_data_gz`\n"
   ]
  },
  {
   "cell_type": "markdown",
   "id": "f41b5df8-2638-4364-a8ce-a8ade23e5d27",
   "metadata": {
    "deletable": false,
    "editable": false
   },
   "source": [
    "Looks good! Now that we have an uncompressed dataset, we can turn it into a DataFrame using `pandas`."
   ]
  },
  {
   "cell_type": "code",
   "execution_count": null,
   "id": "ee85b6f6-b998-4b64-b3d9-51d14d65c5e0",
   "metadata": {
    "deletable": false,
    "editable": false,
    "init_cell": true
   },
   "outputs": [],
   "source": [
    "VimeoVideo(\"693794853\", h=\"b74ef86783\", width=600)"
   ]
  },
  {
   "cell_type": "markdown",
   "id": "da3e7183-9363-421b-82ee-68f70639a876",
   "metadata": {
    "deletable": false,
    "editable": false
   },
   "source": [
    "**Task 5.1.14:** Create a DataFrame `df` that contains the all companies in the dataset, indexed by `\"company_id\"`. Remember the principles of *tidy data* that you learned in Project 1, and make sure your DataFrame has shape `(9977, 65)`. \n",
    "\n",
    "- [Create a DataFrame from a dictionary in pandas.](../%40textbook/03-pandas-getting-started.ipynb#Dictionaries)"
   ]
  },
  {
   "cell_type": "code",
   "execution_count": null,
   "id": "10dbd9d5-bfe0-46a8-9601-3b5dd5c10b9e",
   "metadata": {
    "deletable": false
   },
   "outputs": [],
   "source": [
    "df = ...\n",
    "print(df.shape)\n",
    "df.head()"
   ]
  },
  {
   "cell_type": "markdown",
   "id": "14acd9a3-683f-4fe9-859a-76d44260529e",
   "metadata": {
    "deletable": false,
    "editable": false
   },
   "source": [
    "## Import"
   ]
  },
  {
   "cell_type": "markdown",
   "id": "c7b44913-7519-455c-ae90-a079dd36124e",
   "metadata": {
    "deletable": false,
    "editable": false
   },
   "source": [
    "Now that we have everything set up the way we need it to be, let's combine all these steps into a single function that will decompress the file, load it into a DataFrame, and return it to us as something we can use."
   ]
  },
  {
   "cell_type": "code",
   "execution_count": null,
   "id": "068945bd-efdf-45e1-b1ca-047c58922085",
   "metadata": {
    "deletable": false,
    "editable": false,
    "init_cell": true
   },
   "outputs": [],
   "source": [
    "VimeoVideo(\"693794879\", h=\"f51a3a342f\", width=600)"
   ]
  },
  {
   "cell_type": "markdown",
   "id": "1ff20787-5093-4123-af10-2284a7cca708",
   "metadata": {
    "deletable": false,
    "editable": false
   },
   "source": [
    "**Task 5.1.15:** Create a `wrangle` function that takes the name of a compressed file as input and returns a tidy DataFrame. After you confirm that your function is working as intended, submit it to the grader. "
   ]
  },
  {
   "cell_type": "code",
   "execution_count": null,
   "id": "79e174b4-8859-4da1-b238-c02e19ed3181",
   "metadata": {
    "deletable": false
   },
   "outputs": [],
   "source": [
    "def wrangle(filename):\n",
    "    \n",
    "    return df"
   ]
  },
  {
   "cell_type": "code",
   "execution_count": null,
   "id": "11940bd7-820c-4304-b3b9-3249e1ee6693",
   "metadata": {
    "deletable": false
   },
   "outputs": [],
   "source": [
    "df = wrangle(\"data/poland-bankruptcy-data-2009.json.gz\")\n",
    "print(df.shape)\n",
    "df.head()"
   ]
  },
  {
   "cell_type": "code",
   "execution_count": null,
   "id": "8e30a768-4a75-409e-9a9f-8e8040940d28",
   "metadata": {
    "deletable": false,
    "editable": false
   },
   "outputs": [],
   "source": [
    "\n",
    "wqet_grader.grade(\n",
    "    \"Project 5 Assessment\",\n",
    "    \"Task 5.1.15\",\n",
    "    wrangle(\"data/poland-bankruptcy-data-2009.json.gz\"),\n",
    ")"
   ]
  },
  {
   "cell_type": "markdown",
   "id": "d46ee553",
   "metadata": {
    "deletable": false,
    "editable": false
   },
   "source": [
    "---\n",
    "Copyright © 2022 WorldQuant University. This\n",
    "content is licensed solely for personal use. Redistribution or\n",
    "publication of this material is strictly prohibited.\n"
   ]
  }
 ],
 "metadata": {
  "kernelspec": {
   "display_name": "Python 3 (ipykernel)",
   "language": "python",
   "name": "python3"
  },
  "language_info": {
   "codemirror_mode": {
    "name": "ipython",
    "version": 3
   },
   "file_extension": ".py",
   "mimetype": "text/x-python",
   "name": "python",
   "nbconvert_exporter": "python",
   "pygments_lexer": "ipython3",
   "version": "3.9.6"
  }
 },
 "nbformat": 4,
 "nbformat_minor": 5
}
