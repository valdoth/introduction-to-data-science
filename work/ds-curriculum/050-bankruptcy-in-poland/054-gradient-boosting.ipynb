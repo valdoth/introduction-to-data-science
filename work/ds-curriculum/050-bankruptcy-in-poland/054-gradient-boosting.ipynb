{
 "cells": [
  {
   "cell_type": "markdown",
   "id": "6561878f-82ed-4b15-9fdc-065d1367a935",
   "metadata": {
    "deletable": false,
    "editable": false
   },
   "source": [
    "<font size=\"+3\"><strong>5.4. Gradient Boosting Trees</strong></font>"
   ]
  },
  {
   "cell_type": "markdown",
   "id": "f1b81dd3-c78c-4efe-b021-2e4a3a40d549",
   "metadata": {
    "deletable": false,
    "editable": false
   },
   "source": [
    "You've been working hard, and now you have all the tools you need to build and tune  models. We'll start this lesson the same way we've started the others: preparing the data and building our model, and this time with a new ensemble model. Once it's working, we'll learn some new performance metrics to evaluate it. By the end of this lesson, you'll have written your first Python module!  "
   ]
  },
  {
   "cell_type": "code",
   "execution_count": null,
   "id": "7a7a4299-5989-4091-91ed-a3e5608ab633",
   "metadata": {
    "deletable": false,
    "editable": false,
    "init_cell": true
   },
   "outputs": [],
   "source": [
    "import gzip\n",
    "import json\n",
    "import pickle\n",
    "\n",
    "import ipywidgets as widgets\n",
    "import pandas as pd\n",
    "import wqet_grader\n",
    "from imblearn.over_sampling import RandomOverSampler\n",
    "from IPython.display import VimeoVideo\n",
    "from ipywidgets import interact\n",
    "from sklearn.ensemble import GradientBoostingClassifier\n",
    "from sklearn.impute import SimpleImputer\n",
    "from sklearn.metrics import (\n",
    "    ConfusionMatrixDisplay,\n",
    "    classification_report,\n",
    "    confusion_matrix,\n",
    ")\n",
    "from sklearn.model_selection import GridSearchCV, train_test_split\n",
    "from sklearn.pipeline import make_pipeline\n",
    "from teaching_tools.widgets import ConfusionMatrixWidget\n",
    "\n",
    "wqet_grader.init(\"Project 5 Assessment\")"
   ]
  },
  {
   "cell_type": "code",
   "execution_count": null,
   "id": "900ab95b-642f-4d74-89e4-5c05c33d15f6",
   "metadata": {
    "deletable": false,
    "editable": false,
    "init_cell": true
   },
   "outputs": [],
   "source": [
    "VimeoVideo(\"696221191\", h=\"275ffd1421\", width=600)"
   ]
  },
  {
   "cell_type": "markdown",
   "id": "7c7d858a-ba64-4886-a3a4-36fcb21d78c8",
   "metadata": {
    "deletable": false,
    "editable": false
   },
   "source": [
    "# Prepare Data"
   ]
  },
  {
   "cell_type": "markdown",
   "id": "d3e610f8-20f6-44c1-88c8-97af43cc3cf2",
   "metadata": {
    "deletable": false,
    "editable": false
   },
   "source": [
    "All the data preparation for this module is the same as it was last time around. See you on the other side!"
   ]
  },
  {
   "cell_type": "markdown",
   "id": "8188935f-c22e-48b8-ba9b-0e89049691fa",
   "metadata": {
    "deletable": false,
    "editable": false
   },
   "source": [
    "## Import"
   ]
  },
  {
   "cell_type": "markdown",
   "id": "f46941b3-2f3a-4338-a5bb-ea5eedc8852f",
   "metadata": {
    "deletable": false,
    "editable": false
   },
   "source": [
    "**Task 5.4.1:** Complete the `wrangle` function below using the code you developed in the  lesson 5.1. Then use it to import `poland-bankruptcy-data-2009.json.gz` into the DataFrame `df`.\n",
    "\n",
    "- [<span id='technique'>Write a function in <span id='tool'>Python</span></span>.](../%40textbook/02-python-advanced.ipynb#Functions)"
   ]
  },
  {
   "cell_type": "code",
   "execution_count": null,
   "id": "07e0d506-4f52-458a-b3e7-c133eb6225ac",
   "metadata": {
    "deletable": false
   },
   "outputs": [],
   "source": [
    "def wrangle(filename):\n",
    "    \n",
    "    return df"
   ]
  },
  {
   "cell_type": "code",
   "execution_count": null,
   "id": "7cc479f1-fd50-4db6-9619-7ed61b613703",
   "metadata": {
    "deletable": false
   },
   "outputs": [],
   "source": [
    "df = ...\n",
    "print(df.shape)\n",
    "df.head()"
   ]
  },
  {
   "cell_type": "markdown",
   "id": "7d20331e-5c04-41e3-809a-920775f8bc6d",
   "metadata": {
    "deletable": false,
    "editable": false,
    "tags": []
   },
   "source": [
    "## Split"
   ]
  },
  {
   "cell_type": "markdown",
   "id": "1c66332a-8d32-40db-b60a-a397862e181f",
   "metadata": {
    "deletable": false,
    "editable": false
   },
   "source": [
    "**Task 5.4.2:** Create your feature matrix `X` and target vector `y`. Your target is `\"bankrupt\"`. \n",
    "\n",
    "- [What's a <span id='term'>feature matrix</span>?](../%40textbook/15-ml-regression.ipynb#Linear-Regression)\n",
    "- [What's a <span id='term'>target vector</span>?](../%40textbook/15-ml-regression.ipynb#Linear-Regression)\n",
    "- [<span id='technique'>Subset a DataFrame by selecting one or more columns in <span id='tool'>pandas</span></span>.](../%40textbook/04-pandas-advanced.ipynb#Subset-a-DataFrame-by-Selecting-One-or-More-Columns) \n",
    "- [<span id='technique'>Select a Series from a DataFrame in <span id='tool'>pandas</span></span>.](../%40textbook/04-pandas-advanced.ipynb#Combine-multiple-categories-in-a-Series) "
   ]
  },
  {
   "cell_type": "code",
   "execution_count": null,
   "id": "800de6bc-0a8a-4cbb-9e6e-a4c55e5745b3",
   "metadata": {
    "deletable": false
   },
   "outputs": [],
   "source": [
    "target = \"bankrupt\"\n",
    "X = ...\n",
    "y = ...\n",
    "\n",
    "print(\"X shape:\", X.shape)\n",
    "print(\"y shape:\", y.shape)"
   ]
  },
  {
   "cell_type": "markdown",
   "id": "f2820a11-9843-4d4d-9eb4-9eac11fa1a25",
   "metadata": {
    "deletable": false,
    "editable": false
   },
   "source": [
    "**Task 5.4.3:** Divide your data (`X` and `y`) into training and test sets using a randomized train-test split. Your test set should be 20% of your total data. And don't forget to set a `random_state` for reproducibility. \n",
    "\n",
    "- [<span id='technique'>Perform a randomized train-test split using <span id='tool'>scikit-learn</span></span>.](../%40textbook/14-ml-classification.ipynb#Randomized-Train-Test-split)"
   ]
  },
  {
   "cell_type": "code",
   "execution_count": null,
   "id": "dc44fa95-1813-40d8-a2ae-c9dcd0daa1f2",
   "metadata": {
    "deletable": false
   },
   "outputs": [],
   "source": [
    "X_train, X_test, y_train, y_test = ...\n",
    "\n",
    "print(\"X_train shape:\", X_train.shape)\n",
    "print(\"y_train shape:\", y_train.shape)\n",
    "print(\"X_test shape:\", X_test.shape)\n",
    "print(\"y_test shape:\", y_test.shape)"
   ]
  },
  {
   "cell_type": "markdown",
   "id": "762d668c-e5c6-4bbf-afd0-6fcb0f8fac5d",
   "metadata": {
    "deletable": false,
    "editable": false
   },
   "source": [
    "## Resample"
   ]
  },
  {
   "cell_type": "markdown",
   "id": "f336cad2-a9f2-46fb-aa09-c0c609e04820",
   "metadata": {
    "deletable": false,
    "editable": false
   },
   "source": [
    "**Task 5.4.4:** Create a new feature matrix `X_train_over` and target vector `y_train_over` by performing random over-sampling on the training data.\n",
    "\n",
    "- [What is over-sampling?](../%40textbook/13-ml-data-pre-processing-and-production.ipynb#Over-sampling)\n",
    "- [Perform random over-sampling using imbalanced-learn.](../%40textbook/13-ml-data-pre-processing-and-production.ipynb#Over-sampling)"
   ]
  },
  {
   "cell_type": "code",
   "execution_count": null,
   "id": "3b0160f0-5a0c-48ab-b6cf-0e6cf5a07b35",
   "metadata": {
    "deletable": false
   },
   "outputs": [],
   "source": [
    "over_sampler = ...\n",
    "X_train_over, y_train_over = ...\n",
    "print(\"X_train_over shape:\", X_train_over.shape)\n",
    "X_train_over.head()"
   ]
  },
  {
   "cell_type": "markdown",
   "id": "a65ed1ae-0d46-426b-bc94-2f3c18231d8d",
   "metadata": {
    "deletable": false,
    "editable": false
   },
   "source": [
    "# Build Model"
   ]
  },
  {
   "cell_type": "markdown",
   "id": "f6a60638-be78-42d3-9cd5-81ba79d5c169",
   "metadata": {
    "deletable": false,
    "editable": false
   },
   "source": [
    "Now let's put together our model. We'll start by calculating the baseline accuracy, just like we did last time."
   ]
  },
  {
   "cell_type": "markdown",
   "id": "851ebd03-3e95-4cbf-a98c-351184fc6c66",
   "metadata": {
    "deletable": false,
    "editable": false
   },
   "source": [
    "## Baseline"
   ]
  },
  {
   "cell_type": "markdown",
   "id": "5aaad561-eece-48ba-998c-eb18c92d4785",
   "metadata": {
    "deletable": false,
    "editable": false
   },
   "source": [
    "**Task 5.4.5:** Calculate the baseline accuracy score for your model.\n",
    "\n",
    "- [What's <span id='tool'>accuracy score</span>?](../%40textbook/14-ml-classification.ipynb#Calculating-Accuracy-Score)\n",
    "- [<span id='technique'>Aggregate data in a Series using `value_counts` in <span id='tool'>pandas</span></span>.](../%40textbook/04-pandas-advanced.ipynb#Working-with-value_counts-in-a-Series)"
   ]
  },
  {
   "cell_type": "code",
   "execution_count": null,
   "id": "0f1cc467-ab9a-4ca8-908b-4438896e8aad",
   "metadata": {
    "deletable": false
   },
   "outputs": [],
   "source": [
    "acc_baseline = ...\n",
    "print(\"Baseline Accuracy:\", round(acc_baseline, 4))"
   ]
  },
  {
   "cell_type": "markdown",
   "id": "26eb3c53-5864-4c69-9233-f6819e9877fe",
   "metadata": {
    "deletable": false,
    "editable": false
   },
   "source": [
    "## Iterate"
   ]
  },
  {
   "cell_type": "markdown",
   "id": "0eec71c2-1067-4e30-bfb8-4a1e8c44dfc9",
   "metadata": {
    "deletable": false,
    "editable": false
   },
   "source": [
    "Even though the building blocks are the same, here's where we start working with something new. First, we're going to use a new type of ensemble model for our classifier. "
   ]
  },
  {
   "cell_type": "code",
   "execution_count": null,
   "id": "1626187e-66b8-4415-9630-62319afdfb9f",
   "metadata": {
    "deletable": false,
    "editable": false,
    "init_cell": true
   },
   "outputs": [],
   "source": [
    "VimeoVideo(\"696221115\", h=\"44fe95d5d9\", width=600)"
   ]
  },
  {
   "cell_type": "markdown",
   "id": "92b00f4f-c2e3-4abd-b825-055b2f720556",
   "metadata": {
    "deletable": false,
    "editable": false
   },
   "source": [
    "**Task 5.4.6:** Create a pipeline named `clf` (short for \"classifier\") that contains a `SimpleImputer` transformer and a `GradientBoostingClassifier` predictor.\n",
    "\n",
    "- [What's an ensemble model?](../%40textbook/14-ml-classification.ipynb#Classification-with-Ensemble-Models)\n",
    "- [What's a gradient boosting model?](../%40textbook/14-ml-classification.ipynb#Gradient-Boosting-Trees)"
   ]
  },
  {
   "cell_type": "code",
   "execution_count": null,
   "id": "918f7d60-edf2-4997-b3a6-dc97500120d6",
   "metadata": {
    "deletable": false
   },
   "outputs": [],
   "source": [
    "clf = ..."
   ]
  },
  {
   "cell_type": "markdown",
   "id": "a4f98182-0c2a-4757-9465-2f53ec1ed7e4",
   "metadata": {
    "deletable": false,
    "editable": false
   },
   "source": [
    "Remember while we're doing this that we only want to be looking at the *positive* class. Here, the positive class is the one where the companies really did go bankrupt. In the dictionary we made last time, the positive class is made up of the companies with the `bankrupt: true` key-value pair.\n",
    "\n",
    "Next, we're going to tune some of the hyperparameters for our model."
   ]
  },
  {
   "cell_type": "code",
   "execution_count": null,
   "id": "3a4d8c84-3697-42c5-bf9c-d6866046636e",
   "metadata": {
    "deletable": false,
    "editable": false,
    "init_cell": true
   },
   "outputs": [],
   "source": [
    "VimeoVideo(\"696221055\", h=\"b675d7fec0\", width=600)"
   ]
  },
  {
   "cell_type": "markdown",
   "id": "2f6cf456-e27f-4677-9285-4798de66ae95",
   "metadata": {
    "deletable": false,
    "editable": false
   },
   "source": [
    "**Task 5.4.7:** Create a dictionary with the range of hyperparameters that we want to evaluate for our classifier. \n",
    "\n",
    "1. For the `SimpleImputer`, try both the `\"mean\"` and `\"median\"` strategies. \n",
    "2. For the `GradientBoostingClassifier`, try `max_depth` settings between 2 and 5. \n",
    "3. Also for the `GradientBoostingClassifier`, try `n_estimators` settings between 20 and 31, by steps of 5.\n",
    "\n",
    "- [What's a dictionary?](../%40textbook/01-python-getting-started.ipynb#Python-Dictionaries)\n",
    "- [What's a hyperparameter?](../%40textbook/17-ts-core.ipynb#Hyperparameters)\n",
    "- [Create a range in Python.](../%40textbook/18-ts-models.ipynb#Hyperparameters)\n",
    "- [Define a hyperparameter grid for model tuning in scikit-learn.](../%40textbook/14-ml-classification.ipynb#Hyperparameter-Tuning)"
   ]
  },
  {
   "cell_type": "code",
   "execution_count": null,
   "id": "c2b74b45-747b-4e09-b6b4-9c9e8b6f2f3e",
   "metadata": {
    "deletable": false,
    "tags": []
   },
   "outputs": [],
   "source": [
    "params = ...\n",
    "params"
   ]
  },
  {
   "cell_type": "markdown",
   "id": "787c5ede-d6e8-4f59-8c96-2633ccfe9993",
   "metadata": {
    "deletable": false,
    "editable": false
   },
   "source": [
    "Note that we're trying much smaller numbers of `n_estimators`. This is because `GradientBoostingClassifier` is slower to train than the `RandomForestClassifier`. You can try increasing the number of estimators to see if model performance improves, but keep in mind that you could be waiting a long time!"
   ]
  },
  {
   "cell_type": "code",
   "execution_count": null,
   "id": "251a9363-b3b4-417d-b64f-a550e55f05bf",
   "metadata": {
    "deletable": false,
    "editable": false,
    "init_cell": true
   },
   "outputs": [],
   "source": [
    "VimeoVideo(\"696221023\", h=\"218915d38e\", width=600)"
   ]
  },
  {
   "cell_type": "markdown",
   "id": "3182ba88-7f4d-44ef-9da3-cc39642185a3",
   "metadata": {
    "deletable": false,
    "editable": false
   },
   "source": [
    "**Task 5.4.8:** Create a `GridSearchCV` named `model` that includes your classifier and hyperparameter grid. Be sure to use the same arguments for `cv` and `n_jobs` that you used above, and set `verbose` to 1. \n",
    "\n",
    "- [What's cross-validation?](../%40textbook/14-ml-classification.ipynb#Cross-Validation)\n",
    "- [What's a grid search?](../%40textbook/14-ml-classification.ipynb#Grid-Search)\n",
    "- [Perform a hyperparameter grid search in scikit-learn.](../%40textbook/14-ml-classification.ipynb#Grid-Search)"
   ]
  },
  {
   "cell_type": "code",
   "execution_count": null,
   "id": "6b6339c5-13c1-46f1-81d5-01a7193ba5f6",
   "metadata": {
    "deletable": false
   },
   "outputs": [],
   "source": [
    "model = ..."
   ]
  },
  {
   "cell_type": "markdown",
   "id": "4c19d937-1fb7-4dd5-a74a-c32667f3851b",
   "metadata": {
    "deletable": false,
    "editable": false
   },
   "source": [
    "Now that we have everything we need for the model, let's fit it to the data and see what we've got."
   ]
  },
  {
   "cell_type": "code",
   "execution_count": null,
   "id": "36c6cb26-ab95-4f73-bd55-a9276f40c313",
   "metadata": {
    "deletable": false,
    "editable": false,
    "init_cell": true
   },
   "outputs": [],
   "source": [
    "VimeoVideo(\"696220978\", h=\"008d915f33\", width=600)"
   ]
  },
  {
   "cell_type": "markdown",
   "id": "e34cf5e4-b6f7-43f1-9e84-56ee262bd268",
   "metadata": {
    "deletable": false,
    "editable": false
   },
   "source": [
    "**Task 5.4.9:** Fit your `model` to the over-sampled training data."
   ]
  },
  {
   "cell_type": "code",
   "execution_count": null,
   "id": "abc603b5-1a2f-4d79-ad04-6659f52d5f0e",
   "metadata": {
    "deletable": false
   },
   "outputs": [],
   "source": [
    "# Fit model to over-sampled training data\n"
   ]
  },
  {
   "cell_type": "markdown",
   "id": "e2af273e-6152-4403-a6be-0e4241d3a071",
   "metadata": {
    "deletable": false,
    "editable": false
   },
   "source": [
    "This will take longer than our last grid search, so now's a good time to get coffee or cook dinner. 🍲\n",
    "\n",
    "Okay! Let's take a look at the results!"
   ]
  },
  {
   "cell_type": "code",
   "execution_count": null,
   "id": "0568f3d4-ca83-483b-8ef0-2f1ffab6363d",
   "metadata": {
    "deletable": false,
    "editable": false,
    "init_cell": true
   },
   "outputs": [],
   "source": [
    "VimeoVideo(\"696220937\", h=\"9148032400\", width=600)"
   ]
  },
  {
   "cell_type": "markdown",
   "id": "26f9551d-c065-4d32-bd07-1508c7aa535c",
   "metadata": {
    "deletable": false,
    "editable": false
   },
   "source": [
    "**Task 5.4.10:** Extract the cross-validation results from `model` and load them into a DataFrame named `cv_results`.\n",
    "\n",
    "- Get cross-validation results from a hyperparameter search in scikit-learn."
   ]
  },
  {
   "cell_type": "code",
   "execution_count": null,
   "id": "e067484a-3c24-4025-9b73-cf9a889d4e09",
   "metadata": {
    "deletable": false
   },
   "outputs": [],
   "source": [
    "results = ...\n",
    "results.sort_values(\"rank_test_score\").head(10)"
   ]
  },
  {
   "cell_type": "markdown",
   "id": "66902dac-33a5-4202-9406-488b5a95a463",
   "metadata": {
    "deletable": false,
    "editable": false
   },
   "source": [
    "There are quite a few hyperparameters there, so let's pull out the ones that work best for our model."
   ]
  },
  {
   "cell_type": "code",
   "execution_count": null,
   "id": "eb128403-48a3-400e-9452-cd1600e361c3",
   "metadata": {
    "deletable": false,
    "editable": false,
    "init_cell": true
   },
   "outputs": [],
   "source": [
    "VimeoVideo(\"696220899\", h=\"342d55e7d7\", width=600)"
   ]
  },
  {
   "cell_type": "markdown",
   "id": "7d227812-addf-4da9-a1eb-5e1204a9cd61",
   "metadata": {
    "deletable": false,
    "editable": false
   },
   "source": [
    "**Task 5.4.11:** Extract the best hyperparameters from `model`.\n",
    "\n",
    "- [Get settings from a hyperparameter search in scikit-learn.](../%40textbook/14-ml-classification.ipynb#Grid-Search)"
   ]
  },
  {
   "cell_type": "code",
   "execution_count": null,
   "id": "ae01399d-dd9f-4d40-9368-b777c61d994d",
   "metadata": {
    "deletable": false
   },
   "outputs": [],
   "source": [
    "# Extract best hyperparameters\n"
   ]
  },
  {
   "cell_type": "markdown",
   "id": "ef0d71d6-73b5-49b8-a0fd-a5ea4852fe56",
   "metadata": {
    "deletable": false,
    "editable": false
   },
   "source": [
    "## Evaluate"
   ]
  },
  {
   "cell_type": "markdown",
   "id": "91752b0a-c824-4904-9833-e5f6dc214a0b",
   "metadata": {
    "deletable": false,
    "editable": false
   },
   "source": [
    "Now that we have a working model that's actually giving us something useful, let's see how good it really is."
   ]
  },
  {
   "cell_type": "markdown",
   "id": "0bacbe52-aff9-4326-af47-edc58b8e1c8a",
   "metadata": {
    "deletable": false,
    "editable": false
   },
   "source": [
    "**Task 5.4.12:** Calculate the training and test accuracy scores for `model`. \n",
    "\n",
    "- [<span id='technique'>Calculate the accuracy score for a model in <span id='term'>scikit-learn</span></span>.](../%40textbook/14-ml-classification.ipynb#Calculating-Accuracy-Score)"
   ]
  },
  {
   "cell_type": "code",
   "execution_count": null,
   "id": "66f28b5c-67e8-4125-9f2c-7ef3a215351c",
   "metadata": {
    "deletable": false,
    "tags": []
   },
   "outputs": [],
   "source": [
    "acc_train = ...\n",
    "acc_test = ...\n",
    "\n",
    "print(\"Training Accuracy:\", round(acc_train, 4))\n",
    "print(\"Validation Accuracy:\", round(acc_test, 4))"
   ]
  },
  {
   "cell_type": "markdown",
   "id": "c2f18c51-d05f-4056-befe-8fb93ed8d6f5",
   "metadata": {
    "deletable": false,
    "editable": false
   },
   "source": [
    "Just like before, let's make a confusion matrix to see how our model is making its correct and incorrect predictions. "
   ]
  },
  {
   "cell_type": "markdown",
   "id": "987cb21a-336a-4b8a-9048-61061cf18581",
   "metadata": {
    "deletable": false,
    "editable": false
   },
   "source": [
    "**Task 5.4.13:** Plot a confusion matrix that shows how your best model performs on your test set. \n",
    "\n",
    "- [What's a confusion matrix?](../%40textbook/14-ml-classification.ipynb#Confusion-Matrix)\n",
    "- [Create a confusion matrix using scikit-learn.](../%40textbook/14-ml-classification.ipynb#Confusion-Matrix) "
   ]
  },
  {
   "cell_type": "code",
   "execution_count": null,
   "id": "13aabb10-8065-4dc5-9df0-9c76b19bf332",
   "metadata": {
    "deletable": false
   },
   "outputs": [],
   "source": [
    "# Plot confusion matrix\n"
   ]
  },
  {
   "cell_type": "markdown",
   "id": "389c9dce-ca67-4a04-8087-b6ba8b01af40",
   "metadata": {
    "deletable": false,
    "editable": false
   },
   "source": [
    "This matrix is a great reminder of how imbalanced our data is, and of why accuracy isn't always the best metric for judging whether or not a model is giving us what we want. After all, if 95% of the companies in our dataset didn't go bankrupt, all the model has to do is always predict `{\"bankrupt\": False}`, and it'll be right 95% of the time. The accuracy score will be amazing, but it won't tell us what we really need to know.\n",
    "\n",
    "Instead, we can evaluate our model using two new metrics: **precision** and **recall**.  The precision score is important when we want our model to only predict that a company will go bankrupt if its very confident in its prediction. The *recall* score is important if we want to make sure to identify all the companies that will go bankrupt, even if that means being incorrect sometimes. \n",
    "\n",
    "Let's start with a report you can create with scikit-learn to calculate both metrics. Then we'll look at them one-by-one using a visualization tool we've built especially for the Data Science Lab."
   ]
  },
  {
   "cell_type": "code",
   "execution_count": null,
   "id": "4be924d4-ba56-4c5b-92ea-a8e5ec8de75c",
   "metadata": {
    "deletable": false,
    "editable": false,
    "init_cell": true
   },
   "outputs": [],
   "source": [
    "VimeoVideo(\"696297886\", h=\"fac5454b22\", width=600)"
   ]
  },
  {
   "cell_type": "markdown",
   "id": "60e82afd-0cc0-4193-bad5-8560160de19b",
   "metadata": {
    "deletable": false,
    "editable": false
   },
   "source": [
    "**Task 5.4.14:** Print the classification report for your model, using the test set.\n",
    "\n",
    "- [Generate a classification report with scikit-learn.](../%40textbook/14-ml-classification.ipynb#Classification-Report)"
   ]
  },
  {
   "cell_type": "code",
   "execution_count": null,
   "id": "ccf1036c-3949-4d6e-9253-03f29d2e2a12",
   "metadata": {
    "deletable": false
   },
   "outputs": [],
   "source": [
    "# Print classification report\n",
    "print(...)"
   ]
  },
  {
   "cell_type": "code",
   "execution_count": null,
   "id": "2b280716-b3fd-457f-a3e5-34f2e8ea6d53",
   "metadata": {
    "deletable": false,
    "editable": false,
    "init_cell": true
   },
   "outputs": [],
   "source": [
    "VimeoVideo(\"696220837\", h=\"f93be5aba0\", width=600)"
   ]
  },
  {
   "cell_type": "code",
   "execution_count": null,
   "id": "5166dde8-6b60-4b05-b3d4-58fe8dda952e",
   "metadata": {
    "deletable": false,
    "editable": false,
    "init_cell": true
   },
   "outputs": [],
   "source": [
    "VimeoVideo(\"696220785\", h=\"8a4c4bff58\", width=600)"
   ]
  },
  {
   "cell_type": "markdown",
   "id": "2f1c98e4-6864-48ba-bff8-dbf98b96cea9",
   "metadata": {
    "deletable": false,
    "editable": false
   },
   "source": [
    "**Task 5.4.15:** Run the cell below to load the confusion matrix widget.\n",
    "\n",
    "- [What's precision?](../%40textbook/14-ml-classification.ipynb#Precision-Score)\n",
    "- [What's recall?](../%40textbook/14-ml-classification.ipynb#Recall-Score)"
   ]
  },
  {
   "cell_type": "code",
   "execution_count": null,
   "id": "7e141c5e-58ac-4dd7-b2fc-4334144c0c56",
   "metadata": {
    "deletable": false
   },
   "outputs": [],
   "source": [
    "c = ConfusionMatrixWidget(model, X_test, y_test)\n",
    "c.show()"
   ]
  },
  {
   "cell_type": "markdown",
   "id": "f8b564fc-09ed-4e0f-91a3-94b9de706a73",
   "metadata": {
    "deletable": false,
    "editable": false
   },
   "source": [
    "If you move the probability threshold, you can see that there's a tradeoff between precision and recall. That is, as one gets better, the other suffers. As a data scientist, you'll often need to decide whether you want a model with better precision or better recall. What you choose will depend on how to intend to use your model.\n",
    "\n",
    "Let's look at two examples, one where recall is the priority and one where precision is more important. First, let's say you work for a regulatory agency in the European Union that assists companies and investors navigate [insolvency proceedings](https://en.wikipedia.org/wiki/Insolvency_Regulation). You want to build a model to predict which companies could go bankrupt so that you can send debtors information about filing for legal protection before their company becomes insolvent. The administrative costs of sending information to a company is €500. The legal costs to the European court system if a company doesn't file for protection before bankruptcy is €50,000.\n",
    "\n",
    "For a model like this, we want to focus on **recall**, because recall is all about *quantity*. A model that prioritizes recall will cast the widest possible net, which is the way to approach this problem. We want to send information to as many potentially-bankrupt companies as possible, because it costs a lot less to send information to a company that might not become insolvent than it does to skip a company that does. "
   ]
  },
  {
   "cell_type": "code",
   "execution_count": null,
   "id": "d77840dc-e2f2-43c6-95fd-a0939a8c2314",
   "metadata": {
    "deletable": false,
    "editable": false,
    "init_cell": true
   },
   "outputs": [],
   "source": [
    "VimeoVideo(\"696209314\", h=\"36a14b503c\", width=600)"
   ]
  },
  {
   "cell_type": "markdown",
   "id": "9ebf28d5-e3e2-4f60-88cd-d414feb8afcd",
   "metadata": {
    "deletable": false,
    "editable": false
   },
   "source": [
    "**Task 5.4.16:** Run the cell below, and use the slider to change the probability threshold of your model. What relationship do you see between changes in the threshold and changes in wasted administrative and legal costs? In your opinion, which is more important for this model: high precision or high recall?\n",
    "\n",
    "- [What's precision?](../%40textbook/14-ml-classification.ipynb#Precision-Score)\n",
    "- [What's recall?](../%40textbook/14-ml-classification.ipynb#Recall-Score)"
   ]
  },
  {
   "cell_type": "code",
   "execution_count": null,
   "id": "9b39cd96-491f-43ea-ab46-e906c5aa7427",
   "metadata": {
    "deletable": false
   },
   "outputs": [],
   "source": [
    "c.show_eu()"
   ]
  },
  {
   "cell_type": "markdown",
   "id": "e75e2b14-f3c5-4cc4-99bb-411e927b59a5",
   "metadata": {
    "deletable": false,
    "editable": false
   },
   "source": [
    "For the second example, let's say we work at a private equity firm that purchases distressed businesses, improve them, and then sells them for a profit. You want to build a model to predict which companies will go bankrupt so that you can purchase them ahead of your competitors. If the firm purchases a company that is indeed insolvent, it can make a profit of €100 million or more. But if it purchases a company that isn't insolvent and can't be resold at a profit, the firm will lose €250 million. \n",
    "\n",
    "For a model like this, we want to focus on **precision**. If we're trying to maximize our profit, the *quality* of our predictions is much more important than the *quantity* of our predictions. It's not a big deal if we don't catch every single insolvent company, but it's *definitely* a big deal if the companies we catch don't end up becoming insolvent.\n",
    "\n",
    "This time we're going to build the visualization together. "
   ]
  },
  {
   "cell_type": "code",
   "execution_count": null,
   "id": "340cb239-af20-4b57-8bd5-dc8e0113b720",
   "metadata": {
    "deletable": false,
    "editable": false,
    "init_cell": true
   },
   "outputs": [],
   "source": [
    "VimeoVideo(\"696209348\", h=\"f7e1981c9f\", width=600)"
   ]
  },
  {
   "cell_type": "markdown",
   "id": "5d493fdf-85b1-4418-b2af-7914c3cf0179",
   "metadata": {
    "deletable": false,
    "editable": false
   },
   "source": [
    "**Task 5.4.17:** Create an interactive dashboard that shows how company profit and losses change in relationship to your model's probability threshold. Start with the `make_cnf_matrix` function, which should calculate and print profit/losses, and display a confusion matrix. Then create a FloatSlider `thresh_widget` that ranges from 0 to 1. Finally combine your function and slider in the `interact` function.\n",
    "\n",
    "- [What's a function?](../%40textbook/02-python-advanced.ipynb#Functions)\n",
    "- [What's a confusion matrix?](../%40textbook/14-ml-classification.ipynb#Confusion-Matrix)\n",
    "- [Create a confusion matrix using scikit-learn.](../%40textbook/14-ml-classification.ipynb#Confusion-Matrix) "
   ]
  },
  {
   "cell_type": "code",
   "execution_count": null,
   "id": "5305fa70-5d4d-4284-9ada-f362d990be90",
   "metadata": {
    "deletable": false
   },
   "outputs": [],
   "source": [
    "def make_cnf_matrix(threshold):\n",
    "    \n",
    "    pass\n",
    "\n",
    "\n",
    "thresh_widget = ...\n",
    "\n",
    "interact(make_cnf_matrix, threshold=thresh_widget);"
   ]
  },
  {
   "cell_type": "markdown",
   "id": "fbc8abf1-8b50-4d56-9ce0-b02c402ac002",
   "metadata": {
    "deletable": false,
    "editable": false
   },
   "source": [
    "<div class=\"alert alert-info\" role=\"alert\">\n",
    "    <b>Go Further:</b>💡 Some students have suggested that this widget would be better if it showed the sum of profits and losses. Can you add that total?\n",
    "</div>"
   ]
  },
  {
   "cell_type": "markdown",
   "id": "74240ab0-e4f5-48cb-b71a-f267862a72b8",
   "metadata": {
    "deletable": false,
    "editable": false
   },
   "source": [
    "# Communicate"
   ]
  },
  {
   "cell_type": "markdown",
   "id": "56f32790-e80a-4ab8-bade-94416cc9dc09",
   "metadata": {
    "deletable": false,
    "editable": false
   },
   "source": [
    "Almost there! Save the best model so we can share it with other people, then put it all together with what we learned in the last lesson."
   ]
  },
  {
   "cell_type": "markdown",
   "id": "46763be8-0a76-4f80-a0af-fcd5f88d73bd",
   "metadata": {
    "deletable": false,
    "editable": false
   },
   "source": [
    "**Task 5.4.18:** Using a context manager, save your best-performing model to a file named `\"model-5-4.pkl\"`. \n",
    "\n",
    "- [What's serialization?](../%40textbook/03-pandas-getting-started.ipynb#Pickle-Files)\n",
    "- [Store a Python object as a serialized file using pickle.](../%40textbook/03-pandas-getting-started.ipynb#Pickle-Files) "
   ]
  },
  {
   "cell_type": "code",
   "execution_count": null,
   "id": "c49a1791-b590-4621-92f0-0f8bff72577f",
   "metadata": {
    "deletable": false
   },
   "outputs": [],
   "source": [
    "# Save model\n"
   ]
  },
  {
   "cell_type": "code",
   "execution_count": null,
   "id": "b89c8c9b-b534-4a2a-b961-0f9dc7832330",
   "metadata": {
    "deletable": false,
    "editable": false,
    "init_cell": true
   },
   "outputs": [],
   "source": [
    "VimeoVideo(\"696220731\", h=\"8086ff0bcd\", width=600)"
   ]
  },
  {
   "cell_type": "markdown",
   "id": "57772dce-1480-4c6e-9971-6fcd46c28b91",
   "metadata": {
    "deletable": false,
    "editable": false
   },
   "source": [
    "**Task 5.4.19:** Open the file `my_predictor_lesson.py`, add the `wrangle` and `make_predictions` functions from the last lesson, and add all the necessary import statements to the top of the file. Once you're done, save the file. You can check that the contents are correct by running the cell below. \n",
    "\n",
    "- [What's a function?](../%40textbook/02-python-advanced.ipynb#Functions)"
   ]
  },
  {
   "cell_type": "code",
   "execution_count": null,
   "id": "fddba6da-81ea-4d5d-b1c6-afe99e77e1b4",
   "metadata": {
    "deletable": false
   },
   "outputs": [],
   "source": [
    "%%bash\n",
    "\n",
    "cat my_predictor_lesson.py"
   ]
  },
  {
   "cell_type": "markdown",
   "id": "123cfce0-a984-4c3d-a713-cfb8e7c6b29e",
   "metadata": {
    "deletable": false,
    "editable": false
   },
   "source": [
    "Congratulations: You've created your first module!"
   ]
  },
  {
   "cell_type": "code",
   "execution_count": null,
   "id": "ea89d61a-791d-4550-97e9-feed1f09a703",
   "metadata": {
    "deletable": false,
    "editable": false,
    "init_cell": true
   },
   "outputs": [],
   "source": [
    "VimeoVideo(\"696220643\", h=\"8a3f141262\", width=600)"
   ]
  },
  {
   "cell_type": "markdown",
   "id": "21064e25-3458-4a63-89a0-917406dacb69",
   "metadata": {
    "deletable": false,
    "editable": false
   },
   "source": [
    "**Task 5.4.20:** Import your `make_predictions` function from your `my_predictor` module, and use the code below to make sure it works as expected. Once you're satisfied, submit it to the grader.  "
   ]
  },
  {
   "cell_type": "code",
   "execution_count": null,
   "id": "477fbfc1-05ed-4cdd-b00b-c1732fc58ce9",
   "metadata": {
    "deletable": false
   },
   "outputs": [],
   "source": [
    "# Import your module\n",
    "\n",
    "\n",
    "# Generate predictions\n",
    "y_test_pred = make_predictions(\n",
    "    data_filepath=\"data/poland-bankruptcy-data-2009-mvp-features.json.gz\",\n",
    "    model_filepath=\"model-5-4.pkl\",\n",
    ")\n",
    "\n",
    "print(\"predictions shape:\", y_test_pred.shape)\n",
    "y_test_pred.head()"
   ]
  },
  {
   "cell_type": "code",
   "execution_count": null,
   "id": "c67b35ae-d22b-434f-8dc6-1f2a2f295a20",
   "metadata": {
    "deletable": false,
    "editable": false
   },
   "outputs": [],
   "source": [
    "wqet_grader.grade(\n",
    "    \"Project 5 Assessment\",\n",
    "    \"Task 5.4.20\",\n",
    "    make_predictions(\n",
    "        data_filepath=\"data/poland-bankruptcy-data-2009-mvp-features.json.gz\",\n",
    "        model_filepath=\"model-5-4.pkl\",\n",
    "    ),\n",
    ")"
   ]
  },
  {
   "cell_type": "markdown",
   "id": "f6a118d5",
   "metadata": {
    "deletable": false,
    "editable": false
   },
   "source": [
    "---\n",
    "Copyright © 2022 WorldQuant University. This\n",
    "content is licensed solely for personal use. Redistribution or\n",
    "publication of this material is strictly prohibited.\n"
   ]
  }
 ],
 "metadata": {
  "kernelspec": {
   "display_name": "Python 3 (ipykernel)",
   "language": "python",
   "name": "python3"
  },
  "language_info": {
   "codemirror_mode": {
    "name": "ipython",
    "version": 3
   },
   "file_extension": ".py",
   "mimetype": "text/x-python",
   "name": "python",
   "nbconvert_exporter": "python",
   "pygments_lexer": "ipython3",
   "version": "3.9.6"
  }
 },
 "nbformat": 4,
 "nbformat_minor": 5
}
