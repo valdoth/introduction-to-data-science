{
 "cells": [
  {
   "cell_type": "markdown",
   "id": "361b7c4f-1fd2-4e6f-9e60-1d97f3e05afb",
   "metadata": {
    "deletable": false,
    "editable": false
   },
   "source": [
    "<font size=\"+3\"><strong>5.5. Bankruptcy in Taiwan 🇹🇼</strong></font>"
   ]
  },
  {
   "cell_type": "code",
   "execution_count": null,
   "id": "c789a400-a0e9-4665-8eea-55e5b17004be",
   "metadata": {
    "deletable": false,
    "editable": false,
    "init_cell": true,
    "tags": []
   },
   "outputs": [],
   "source": [
    "import wqet_grader\n",
    "\n",
    "wqet_grader.init(\"Project 5 Assessment\")"
   ]
  },
  {
   "cell_type": "code",
   "execution_count": null,
   "id": "bfb5048c-b025-4997-b391-16b806b43f8f",
   "metadata": {
    "deletable": false,
    "tags": []
   },
   "outputs": [],
   "source": [
    "# Import libraries here\n"
   ]
  },
  {
   "cell_type": "markdown",
   "id": "341db403-0701-4165-b646-8d01cb154f8c",
   "metadata": {
    "deletable": false,
    "editable": false
   },
   "source": [
    "# Prepare Data"
   ]
  },
  {
   "cell_type": "markdown",
   "id": "74522f26-cf58-47a8-9f3e-20bb9d0b4324",
   "metadata": {
    "deletable": false,
    "editable": false
   },
   "source": [
    "## Import"
   ]
  },
  {
   "cell_type": "markdown",
   "id": "ad2b932d-e036-4918-9eeb-2d6b2530a3a5",
   "metadata": {
    "deletable": false,
    "editable": false
   },
   "source": [
    "**Task 5.5.1:** Load the contents of the `\"data/taiwan-bankruptcy-data.json.gz\"` and assign it to the variable <code>taiwan_data</code>. \n",
    "\n",
    "Note that <code>taiwan_data</code> should be a dictionary. You'll create a DataFrame in a later task."
   ]
  },
  {
   "cell_type": "code",
   "execution_count": null,
   "id": "b692714a-3837-449c-a617-3173951341e8",
   "metadata": {
    "deletable": false
   },
   "outputs": [],
   "source": [
    "# Load data file\n",
    "\n",
    "print(type(taiwan_data))"
   ]
  },
  {
   "cell_type": "code",
   "execution_count": null,
   "id": "a268754f-e12e-435a-8f60-d8fb76654166",
   "metadata": {
    "deletable": false,
    "editable": false
   },
   "outputs": [],
   "source": [
    "\n",
    "wqet_grader.grade(\"Project 5 Assessment\", \"Task 5.5.1\", taiwan_data[\"metadata\"])"
   ]
  },
  {
   "cell_type": "markdown",
   "id": "233a292e-d47c-42e4-b5d9-7262d707b58b",
   "metadata": {
    "deletable": false,
    "editable": false
   },
   "source": [
    "**Task 5.5.2:** Extract the key names from <code>taiwan_data</code> and assign them to the variable <code>taiwan_data_keys</code>.\n",
    "\n",
    "<div class=\"alert alert-info\" role=\"alert\">\n",
    "    <b>Tip:</b> The data in this assignment might be organized differently than the data from the project, so be sure to inspect it first. \n",
    "</div>"
   ]
  },
  {
   "cell_type": "code",
   "execution_count": null,
   "id": "3b5e0062-1286-40c3-8c04-8b89ecf3e2d1",
   "metadata": {
    "deletable": false
   },
   "outputs": [],
   "source": [
    "taiwan_data_keys = ...\n",
    "print(taiwan_data_keys)"
   ]
  },
  {
   "cell_type": "code",
   "execution_count": null,
   "id": "98c2038e-14a6-4747-a94e-1f40c4ae00a5",
   "metadata": {
    "deletable": false,
    "editable": false
   },
   "outputs": [],
   "source": [
    "wqet_grader.grade(\"Project 5 Assessment\", \"Task 5.5.2\", list(taiwan_data_keys))"
   ]
  },
  {
   "cell_type": "markdown",
   "id": "51e4cebc-dc66-4946-ad06-8e1b2e5b8e8a",
   "metadata": {
    "deletable": false,
    "editable": false
   },
   "source": [
    "**Task 5.5.3:** Calculate how many companies are in `taiwan_data` and assign the result to `n_companies`. "
   ]
  },
  {
   "cell_type": "code",
   "execution_count": null,
   "id": "0ef61745-634f-490b-bdbd-261336c4c7d9",
   "metadata": {
    "deletable": false
   },
   "outputs": [],
   "source": [
    "n_companies = ...\n",
    "print(n_companies)"
   ]
  },
  {
   "cell_type": "code",
   "execution_count": null,
   "id": "4a28f550-faf5-469e-96d9-f86763d6f67f",
   "metadata": {
    "deletable": false,
    "editable": false
   },
   "outputs": [],
   "source": [
    "wqet_grader.grade(\"Project 5 Assessment\", \"Task 5.5.3\", [n_companies])"
   ]
  },
  {
   "cell_type": "markdown",
   "id": "9ba47fc4-6b37-475d-9463-a7eb805ff8d6",
   "metadata": {
    "deletable": false,
    "editable": false
   },
   "source": [
    "**Task 5.5.4:** Calculate the number of features associated with each company and assign the result to `n_features`."
   ]
  },
  {
   "cell_type": "code",
   "execution_count": null,
   "id": "8b6d6d0e-1d03-41e4-852e-d3802317f345",
   "metadata": {
    "deletable": false
   },
   "outputs": [],
   "source": [
    "n_features = ...\n",
    "print(n_features)"
   ]
  },
  {
   "cell_type": "code",
   "execution_count": null,
   "id": "265ce95b-b1b4-43a4-ba96-fe683f40823b",
   "metadata": {
    "deletable": false,
    "editable": false
   },
   "outputs": [],
   "source": [
    "wqet_grader.grade(\"Project 5 Assessment\", \"Task 5.5.4\", [n_features])"
   ]
  },
  {
   "cell_type": "markdown",
   "id": "6df07bb9-5816-4532-a640-840e16023478",
   "metadata": {
    "deletable": false,
    "editable": false
   },
   "source": [
    "**Task 5.5.5:** Create a `wrangle` function that takes as input the path of a compressed JSON file and returns the file's contents as a DataFrame. Be sure that the index of the DataFrame contains the ID of the companies. When your function is complete, use it to load the data into the DataFrame `df`."
   ]
  },
  {
   "cell_type": "code",
   "execution_count": null,
   "id": "bec08e49-fa77-4b55-8c58-5c1dd090c07c",
   "metadata": {
    "deletable": false
   },
   "outputs": [],
   "source": [
    "# Create wrangle function\n"
   ]
  },
  {
   "cell_type": "code",
   "execution_count": null,
   "id": "dd06e4fb-25a2-4582-8051-99bc6f13e57e",
   "metadata": {
    "deletable": false
   },
   "outputs": [],
   "source": [
    "df = ...\n",
    "print(\"df shape:\", df.shape)\n",
    "df.head()"
   ]
  },
  {
   "cell_type": "code",
   "execution_count": null,
   "id": "b0687b86-7350-4b47-9be1-b94857838aeb",
   "metadata": {
    "deletable": false,
    "editable": false
   },
   "outputs": [],
   "source": [
    "\n",
    "wqet_grader.grade(\"Project 5 Assessment\", \"Task 5.5.5\", df)"
   ]
  },
  {
   "cell_type": "markdown",
   "id": "21dff117-59fd-4b60-958e-4f9e91d5db6e",
   "metadata": {
    "deletable": false,
    "editable": false
   },
   "source": [
    "## Explore"
   ]
  },
  {
   "cell_type": "markdown",
   "id": "02d5c558-b7d7-43ff-b646-f4e14db22a06",
   "metadata": {
    "deletable": false,
    "editable": false
   },
   "source": [
    "**Task 5.5.6:** Is there any missing data in the dataset? Create a Series where the index contains the name of the columns in `df` and the values are the number of <code>NaN</code>s in each column. Assign the result to <code>nans_by_col</code>. Neither the Series itself nor its index require a name. "
   ]
  },
  {
   "cell_type": "code",
   "execution_count": null,
   "id": "3177f6b9-80ca-4837-b236-0c9d6d1cf589",
   "metadata": {
    "deletable": false,
    "tags": []
   },
   "outputs": [],
   "source": [
    "nans_by_col = ...\n",
    "print(\"nans_by_col shape:\", nans_by_col.shape)\n",
    "nans_by_col.head()"
   ]
  },
  {
   "cell_type": "code",
   "execution_count": null,
   "id": "9ef5252f-357a-419a-850e-4aa86032ea6a",
   "metadata": {
    "deletable": false,
    "editable": false
   },
   "outputs": [],
   "source": [
    "\n",
    "wqet_grader.grade(\"Project 5 Assessment\", \"Task 5.5.6\", nans_by_col)"
   ]
  },
  {
   "cell_type": "markdown",
   "id": "9cb1aa5a-9ea0-4e99-8bba-ba843ca987f5",
   "metadata": {
    "deletable": false,
    "editable": false
   },
   "source": [
    "**Task 5.5.7:** Is the data imbalanced? Create a bar chart that shows the normalized value counts for the column `df[\"bankrupt\"]`. Be sure to label your x-axis `\"Bankrupt\"`, your y-axis `\"Frequency\"`, and use the title `\"Class Balance\"`."
   ]
  },
  {
   "cell_type": "code",
   "execution_count": null,
   "id": "6a2a5fe0-a1cd-48a5-84ee-525e7fc4cc44",
   "metadata": {
    "deletable": false
   },
   "outputs": [],
   "source": [
    "# Plot class balance\n",
    "\n",
    "# Don't delete the code below 👇\n",
    "plt.savefig(\"images/5-5-7.png\", dpi=150)\n"
   ]
  },
  {
   "cell_type": "code",
   "execution_count": null,
   "id": "481c54fc-e3e8-467d-91ba-65945f550a4f",
   "metadata": {
    "deletable": false,
    "editable": false
   },
   "outputs": [],
   "source": [
    "with open(\"images/5-5-7.png\", \"rb\") as file:\n",
    "    wqet_grader.grade(\"Project 5 Assessment\", \"Task 5.5.7\", file)"
   ]
  },
  {
   "cell_type": "markdown",
   "id": "47242176-15c2-4e50-981a-4a2791e6ea5f",
   "metadata": {
    "deletable": false,
    "editable": false
   },
   "source": [
    "## Split"
   ]
  },
  {
   "cell_type": "markdown",
   "id": "e941ed58-7723-4def-8b0d-24b8b3447c9b",
   "metadata": {
    "deletable": false,
    "editable": false
   },
   "source": [
    "**Task 5.5.8:** Create your feature matrix `X` and target vector `y`. Your target is `\"bankrupt\"`. "
   ]
  },
  {
   "cell_type": "code",
   "execution_count": null,
   "id": "feeb0205-bdd2-493a-aaa9-a5fe4fa030a7",
   "metadata": {
    "deletable": false
   },
   "outputs": [],
   "source": [
    "target = ...\n",
    "X = ...\n",
    "y = ...\n",
    "print(\"X shape:\", X.shape)\n",
    "print(\"y shape:\", y.shape)"
   ]
  },
  {
   "cell_type": "code",
   "execution_count": null,
   "id": "464f5dbb-734b-435b-8ddc-0b26e5400702",
   "metadata": {
    "deletable": false,
    "editable": false
   },
   "outputs": [],
   "source": [
    "\n",
    "wqet_grader.grade(\"Project 5 Assessment\", \"Task 5.5.8a\", X)"
   ]
  },
  {
   "cell_type": "code",
   "execution_count": null,
   "id": "b0925347-11cb-4794-a263-c456c269bf3e",
   "metadata": {
    "deletable": false,
    "editable": false
   },
   "outputs": [],
   "source": [
    "\n",
    "wqet_grader.grade(\"Project 5 Assessment\", \"Task 5.5.8b\", y)"
   ]
  },
  {
   "cell_type": "markdown",
   "id": "b0e5791a-ed64-485e-85cc-998340b3c162",
   "metadata": {
    "deletable": false,
    "editable": false
   },
   "source": [
    "**Task 5.5.9:** Divide your dataset into training and test sets using a randomized split. Your test set should be 20% of your data. Be sure to set `random_state` to `42`."
   ]
  },
  {
   "cell_type": "code",
   "execution_count": null,
   "id": "31d44df7-8211-4066-a399-6c31c1b0864c",
   "metadata": {
    "deletable": false
   },
   "outputs": [],
   "source": [
    "X_train, X_test, y_train, y_test = ...\n",
    "print(\"X_train shape:\", X_train.shape)\n",
    "print(\"y_train shape:\", y_train.shape)\n",
    "print(\"X_test shape:\", X_test.shape)\n",
    "print(\"y_test shape:\", y_test.shape)"
   ]
  },
  {
   "cell_type": "code",
   "execution_count": null,
   "id": "c084e2c5-9476-4f98-ae7b-c566c8f89a87",
   "metadata": {
    "deletable": false,
    "editable": false
   },
   "outputs": [],
   "source": [
    "wqet_grader.grade(\"Project 5 Assessment\", \"Task 5.5.9\", list(X_train.shape))"
   ]
  },
  {
   "cell_type": "markdown",
   "id": "3b51378d-7f0a-4109-861c-1cbbbcbff707",
   "metadata": {
    "deletable": false,
    "editable": false
   },
   "source": [
    "## Resample"
   ]
  },
  {
   "cell_type": "markdown",
   "id": "b4ba1574-15ea-49e8-abe0-13adde0d1513",
   "metadata": {
    "deletable": false,
    "editable": false
   },
   "source": [
    "**Task 5.5.10:** Create a new feature matrix `X_train_over` and target vector `y_train_over` by performing random over-sampling on the training data. Be sure to set the `random_state` to `42`."
   ]
  },
  {
   "cell_type": "code",
   "execution_count": null,
   "id": "40d10781-032f-4b17-9f3b-e4919dbb3af5",
   "metadata": {
    "deletable": false
   },
   "outputs": [],
   "source": [
    "over_sampler = ...\n",
    "X_train_over, y_train_over = ...\n",
    "print(\"X_train_over shape:\", X_train_over.shape)\n",
    "X_train_over.head()"
   ]
  },
  {
   "cell_type": "code",
   "execution_count": null,
   "id": "7ae8233c-4afd-4495-b73a-3cc1d96867b1",
   "metadata": {
    "deletable": false,
    "editable": false
   },
   "outputs": [],
   "source": [
    "wqet_grader.grade(\"Project 5 Assessment\", \"Task 5.5.10\", list(X_train_over.shape))"
   ]
  },
  {
   "cell_type": "markdown",
   "id": "56432e44-2454-4811-828b-61887df09346",
   "metadata": {
    "deletable": false,
    "editable": false
   },
   "source": [
    "# Build Model"
   ]
  },
  {
   "cell_type": "markdown",
   "id": "3783e564-560e-432f-b49e-f2e585a865f8",
   "metadata": {
    "deletable": false,
    "editable": false
   },
   "source": [
    "## Iterate"
   ]
  },
  {
   "cell_type": "markdown",
   "id": "ef7c2d9d-08b1-4668-bf2e-e4910293dbe0",
   "metadata": {
    "deletable": false,
    "editable": false
   },
   "source": [
    "**Task 5.5.11:** Create a classifier <code>clf</code> that can be trained on `(X_train_over, y_train_over)`. You can use any of the predictors you've learned about in the Data Science Lab. "
   ]
  },
  {
   "cell_type": "code",
   "execution_count": null,
   "id": "b37aca3d-8a72-440e-a99c-e069f9850bd2",
   "metadata": {
    "deletable": false
   },
   "outputs": [],
   "source": [
    "clf = ..."
   ]
  },
  {
   "cell_type": "code",
   "execution_count": null,
   "id": "e711d907-7cf6-4667-ab56-ac7aec9d6749",
   "metadata": {
    "deletable": false,
    "editable": false
   },
   "outputs": [],
   "source": [
    "wqet_grader.grade(\"Project 5 Assessment\", \"Task 5.5.11\", clf)"
   ]
  },
  {
   "cell_type": "markdown",
   "id": "ff7a967c-756f-4c2d-998e-90b67e9918ac",
   "metadata": {
    "deletable": false,
    "editable": false
   },
   "source": [
    "**Task 5.5.12:** Perform cross-validation with your classifier using the over-sampled training data, and assign your results to <code>cv_scores</code>. Be sure to set the <code>cv</code> argument to 5. "
   ]
  },
  {
   "cell_type": "markdown",
   "id": "e5ee8f58-aac7-40d8-a2e2-20f3db4898bd",
   "metadata": {
    "deletable": false,
    "editable": false
   },
   "source": [
    "<div class=\"alert alert-info\" role=\"alert\">\n",
    "    <p><b>Tip:</b> Use your CV scores to evaluate different classifiers. Choose the one that gives you the best scores.</p>\n",
    "</div>"
   ]
  },
  {
   "cell_type": "code",
   "execution_count": null,
   "id": "b4e861a8-c2ea-49b2-b789-0b3dbe586384",
   "metadata": {
    "deletable": false
   },
   "outputs": [],
   "source": [
    "cv_scores = ...\n",
    "print(cv_scores)"
   ]
  },
  {
   "cell_type": "code",
   "execution_count": null,
   "id": "6aaabf4c-d484-44ba-bb59-76de9119a708",
   "metadata": {
    "deletable": false,
    "editable": false
   },
   "outputs": [],
   "source": [
    "wqet_grader.grade(\"Project 5 Assessment\", \"Task 5.5.12\", list(cv_scores))"
   ]
  },
  {
   "cell_type": "markdown",
   "id": "bfd434c3-e5af-47f5-b169-8a78a4c9483d",
   "metadata": {
    "deletable": false,
    "editable": false
   },
   "source": [
    "**Ungraded Task:** Create a dictionary <code>params</code> with the range of hyperparameters that you want to evaluate for your classifier. If you're not sure which hyperparameters to tune, check the [scikit-learn](https://scikit-learn.org/stable/) documentation for your predictor for ideas."
   ]
  },
  {
   "cell_type": "markdown",
   "id": "f676fdcf-76c2-4e3b-b619-11fbca6f247e",
   "metadata": {
    "deletable": false,
    "editable": false
   },
   "source": [
    "<div class=\"alert alert-info\" role=\"alert\">\n",
    "<p><b>Tip:</b> If the classifier you built is a predictor only (not a pipeline with multiple steps), you don't need to include the step name in the keys of your <code>params</code> dictionary. For example, if your classifier was only a random forest (not a pipeline containing a random forest), your would access the number of estimators using <code>\"n_estimators\"</code>, not <code>\"randomforestclassifier__n_estimators\"</code>.</p>\n",
    "</div>"
   ]
  },
  {
   "cell_type": "code",
   "execution_count": null,
   "id": "dd75b82b-6b93-49f0-a329-175d75c56cfb",
   "metadata": {
    "deletable": false
   },
   "outputs": [],
   "source": [
    "params = ..."
   ]
  },
  {
   "cell_type": "markdown",
   "id": "fc280d9a-3cd4-4ddb-9c93-01f9b84c748b",
   "metadata": {
    "deletable": false,
    "editable": false
   },
   "source": [
    "**Task 5.5.13:** Create a <code>GridSearchCV</code> named `model` that includes your classifier and hyperparameter grid. Be sure to set `cv` to 5, `n_jobs` to -1, and `verbose` to 1. "
   ]
  },
  {
   "cell_type": "code",
   "execution_count": null,
   "id": "28c7e9a9-0f16-418f-b299-f888df1d7f41",
   "metadata": {
    "deletable": false
   },
   "outputs": [],
   "source": [
    "model = ..."
   ]
  },
  {
   "cell_type": "code",
   "execution_count": null,
   "id": "643a639b-2145-40e7-bd25-74bc3e332af3",
   "metadata": {
    "deletable": false,
    "editable": false
   },
   "outputs": [],
   "source": [
    "\n",
    "wqet_grader.grade(\"Project 5 Assessment\", \"Task 5.5.13\", model)"
   ]
  },
  {
   "cell_type": "markdown",
   "id": "10252f2b-c9cc-4e25-960e-e88e5a13aaa7",
   "metadata": {
    "deletable": false,
    "editable": false
   },
   "source": [
    "**Ungraded Task:** Fit your model to the over-sampled training data. "
   ]
  },
  {
   "cell_type": "code",
   "execution_count": null,
   "id": "ede4b08f-12b6-4f02-91ec-43917193adf3",
   "metadata": {
    "deletable": false
   },
   "outputs": [],
   "source": [
    "model.fit(X_train_over, y_train_over)"
   ]
  },
  {
   "cell_type": "markdown",
   "id": "053c6eea-f08a-4699-8502-3099f2ba6422",
   "metadata": {
    "deletable": false,
    "editable": false
   },
   "source": [
    "**Task 5.5.14:** Extract the cross-validation results from your model, and load them into a DataFrame named <code>cv_results</code>. Looking at the results, which set of hyperparameters led to the best performance?"
   ]
  },
  {
   "cell_type": "code",
   "execution_count": null,
   "id": "47e2ba81-a16c-4563-bb45-885eba3dc953",
   "metadata": {
    "deletable": false
   },
   "outputs": [],
   "source": [
    "cv_results = ...\n",
    "cv_results.head(5)"
   ]
  },
  {
   "cell_type": "code",
   "execution_count": null,
   "id": "8bda80ad-d138-4b5a-b2e0-e2d930b152c5",
   "metadata": {
    "deletable": false,
    "editable": false
   },
   "outputs": [],
   "source": [
    "\n",
    "wqet_grader.grade(\"Project 5 Assessment\", \"Task 5.5.14\", cv_results)"
   ]
  },
  {
   "cell_type": "markdown",
   "id": "3664fb33-2b5d-426d-af7f-0daa582575cc",
   "metadata": {
    "deletable": false,
    "editable": false
   },
   "source": [
    "**Task 5.5.15:** Extract the best hyperparameters from your model and assign them to <code>best_params</code>. "
   ]
  },
  {
   "cell_type": "code",
   "execution_count": null,
   "id": "5bca6dd7-0711-4a4c-8c10-848bbdbba92c",
   "metadata": {
    "deletable": false
   },
   "outputs": [],
   "source": [
    "best_params = ...\n",
    "print(best_params)"
   ]
  },
  {
   "cell_type": "code",
   "execution_count": null,
   "id": "7c57b829-8b42-4edf-a1ed-ef1154c60d6d",
   "metadata": {
    "deletable": false,
    "editable": false
   },
   "outputs": [],
   "source": [
    "wqet_grader.grade(\n",
    "    \"Project 5 Assessment\", \"Task 5.5.15\", [isinstance(best_params, dict)]\n",
    ")"
   ]
  },
  {
   "cell_type": "markdown",
   "id": "6dbab4ae-2376-4a5a-b92e-ccd4bd39ec88",
   "metadata": {
    "deletable": false,
    "editable": false
   },
   "source": [
    "## Evaluate"
   ]
  },
  {
   "cell_type": "markdown",
   "id": "546758ef-9a65-4275-bdf8-0bd3e43c0b30",
   "metadata": {
    "deletable": false,
    "editable": false
   },
   "source": [
    "**Ungraded Task:** Test the quality of your model by calculating accuracy scores for the training and test data."
   ]
  },
  {
   "cell_type": "code",
   "execution_count": null,
   "id": "428e0694-ede2-40ff-aa6f-9cb8665ce024",
   "metadata": {
    "deletable": false
   },
   "outputs": [],
   "source": [
    "acc_train = ...\n",
    "acc_test = ...\n",
    "\n",
    "print(\"Model Training Accuracy:\", round(acc_train, 4))\n",
    "print(\"Model Test Accuracy:\", round(acc_test, 4))"
   ]
  },
  {
   "cell_type": "markdown",
   "id": "00e35b54-acc0-47ea-b053-75212c0b631c",
   "metadata": {
    "deletable": false,
    "editable": false
   },
   "source": [
    "**Task 5.5.16:** Plot a confusion matrix that shows how your model performed on your test set."
   ]
  },
  {
   "cell_type": "code",
   "execution_count": null,
   "id": "4d6875a6-62b7-4198-b8a2-5871dd7dd156",
   "metadata": {
    "deletable": false
   },
   "outputs": [],
   "source": [
    "\n",
    "# Don't delete the code below 👇\n",
    "plt.savefig(\"images/5-5-16.png\", dpi=150)\n"
   ]
  },
  {
   "cell_type": "code",
   "execution_count": null,
   "id": "ff78cdf4-96fb-4d0b-a7ff-6159d128d4b3",
   "metadata": {
    "deletable": false,
    "editable": false
   },
   "outputs": [],
   "source": [
    "with open(\"images/5-5-16.png\", \"rb\") as file:\n",
    "    wqet_grader.grade(\"Project 5 Assessment\", \"Task 5.5.16\", file)"
   ]
  },
  {
   "cell_type": "markdown",
   "id": "5d31978d-b6d8-4397-a884-0ab6d9dc5ddb",
   "metadata": {
    "deletable": false,
    "editable": false
   },
   "source": [
    "**Task 5.5.17:** Generate a classification report for your model's performance on the test data and assign it to `class_report`."
   ]
  },
  {
   "cell_type": "code",
   "execution_count": null,
   "id": "0b04df35-1326-482b-b86c-489f3eeb992f",
   "metadata": {
    "deletable": false
   },
   "outputs": [],
   "source": [
    "class_report = classification_report(y_test, model.predict(X_test))\n",
    "print(class_report)"
   ]
  },
  {
   "cell_type": "code",
   "execution_count": null,
   "id": "7fb56e0f-9386-4b75-989c-0e9d3aea150d",
   "metadata": {
    "deletable": false,
    "editable": false
   },
   "outputs": [],
   "source": [
    "wqet_grader.grade(\"Project 5 Assessment\", \"Task 5.5.17\", class_report)"
   ]
  },
  {
   "cell_type": "markdown",
   "id": "64153890-7c5d-4b8d-9265-08444c4c3068",
   "metadata": {
    "deletable": false,
    "editable": false
   },
   "source": [
    "# Communicate"
   ]
  },
  {
   "cell_type": "markdown",
   "id": "bd293667-cf33-4645-9a6d-6102fed6a8b8",
   "metadata": {
    "deletable": false,
    "editable": false
   },
   "source": [
    "**Task 5.5.18:** Create a horizontal bar chart with the 10 most important features for your model. Be sure to label the x-axis `\"Gini Importance\"`, the y-axis `\"Feature\"`, and use the title `\"Feature Importance\"`."
   ]
  },
  {
   "cell_type": "code",
   "execution_count": null,
   "id": "682d409c-30bd-43b2-8fa9-942b241b26f0",
   "metadata": {
    "deletable": false
   },
   "outputs": [],
   "source": [
    "\n",
    "# Don't delete the code below 👇\n",
    "plt.savefig(\"images/5-5-17.png\", dpi=150)\n"
   ]
  },
  {
   "cell_type": "code",
   "execution_count": null,
   "id": "0ee1cad2-3862-4871-929a-464bb3881c7b",
   "metadata": {
    "deletable": false,
    "editable": false
   },
   "outputs": [],
   "source": [
    "with open(\"images/5-5-17.png\", \"rb\") as file:\n",
    "    wqet_grader.grade(\"Project 5 Assessment\", \"Task 5.5.18\", file)"
   ]
  },
  {
   "cell_type": "markdown",
   "id": "1edec385-98f2-4d33-95a6-72ee4378038c",
   "metadata": {
    "deletable": false,
    "editable": false
   },
   "source": [
    "**Task 5.5.19:** Save your best-performing model to a a file named <code>\"model-5-5.pkl\"</code>."
   ]
  },
  {
   "cell_type": "code",
   "execution_count": null,
   "id": "418d11d0-1f01-4f41-b248-7f9f6fd0bf55",
   "metadata": {
    "deletable": false
   },
   "outputs": [],
   "source": [
    "# Save model\n"
   ]
  },
  {
   "cell_type": "code",
   "execution_count": null,
   "id": "0c4e753c-6321-4fa7-97de-51ea50981b34",
   "metadata": {
    "deletable": false,
    "editable": false
   },
   "outputs": [],
   "source": [
    "\n",
    "with open(\"model-5-5.pkl\", \"rb\") as f:\n",
    "    wqet_grader.grade(\"Project 5 Assessment\", \"Task 5.5.19\", pickle.load(f))"
   ]
  },
  {
   "cell_type": "markdown",
   "id": "93cae90c-fdfd-4295-8bca-0a670185e86a",
   "metadata": {
    "deletable": false,
    "editable": false
   },
   "source": [
    "**Task 5.5.20:** Open the file <code>my_predictor_assignment.py</code>. Add your `wrangle` function, and then create a `make_predictions` function that takes two arguments: `data_filepath` and <code>model_filepath</code>. Use the cell below to test your module. When you're satisfied with the result, submit it to the grader. "
   ]
  },
  {
   "cell_type": "code",
   "execution_count": null,
   "id": "8708d162-ebf0-4f11-92f1-05f65088f576",
   "metadata": {
    "deletable": false
   },
   "outputs": [],
   "source": [
    "# Import your module\n",
    "\n",
    "\n",
    "# Generate predictions\n",
    "y_test_pred = make_predictions(\n",
    "    data_filepath=\"data/taiwan-bankruptcy-data-test-features.json.gz\",\n",
    "    model_filepath=\"model-5-5.pkl\",\n",
    ")\n",
    "\n",
    "print(\"predictions shape:\", y_test_pred.shape)\n",
    "y_test_pred.head()"
   ]
  },
  {
   "cell_type": "markdown",
   "id": "e96df798-3221-44d6-876a-3488c1772300",
   "metadata": {
    "deletable": false,
    "editable": false
   },
   "source": [
    "<div class=\"alert alert-info\" role=\"alert\">\n",
    "    <b>Tip:</b> If you get an <code style=\"color:#E45E5C;background-color:#FEDDDE\">ImportError</code> when you try to import <code>make_predictions</code> from <code>my_predictor_assignment</code>, try restarting your kernel. Go to the <b>Kernel</b> menu and click on  <b>Restart Kernel and Clear All Outputs</b>. Then rerun just the cell above. ☝️\n",
    "</div>"
   ]
  },
  {
   "cell_type": "code",
   "execution_count": null,
   "id": "8024773b-e820-41cb-89a4-abb39cd4d9a2",
   "metadata": {
    "deletable": false,
    "editable": false
   },
   "outputs": [],
   "source": [
    "wqet_grader.grade(\n",
    "    \"Project 5 Assessment\",\n",
    "    \"Task 5.5.20\",\n",
    "    make_predictions(\n",
    "        data_filepath=\"data/taiwan-bankruptcy-data-test-features.json.gz\",\n",
    "        model_filepath=\"model-5-5.pkl\",\n",
    "    ),\n",
    ")"
   ]
  },
  {
   "cell_type": "markdown",
   "id": "dfec05f4",
   "metadata": {
    "deletable": false,
    "editable": false
   },
   "source": [
    "---\n",
    "Copyright © 2022 WorldQuant University. This\n",
    "content is licensed solely for personal use. Redistribution or\n",
    "publication of this material is strictly prohibited.\n"
   ]
  }
 ],
 "metadata": {
  "kernelspec": {
   "display_name": "Python 3 (ipykernel)",
   "language": "python",
   "name": "python3"
  },
  "language_info": {
   "codemirror_mode": {
    "name": "ipython",
    "version": 3
   },
   "file_extension": ".py",
   "mimetype": "text/x-python",
   "name": "python",
   "nbconvert_exporter": "python",
   "pygments_lexer": "ipython3",
   "version": "3.9.6"
  },
  "toc-autonumbering": false
 },
 "nbformat": 4,
 "nbformat_minor": 5
}
