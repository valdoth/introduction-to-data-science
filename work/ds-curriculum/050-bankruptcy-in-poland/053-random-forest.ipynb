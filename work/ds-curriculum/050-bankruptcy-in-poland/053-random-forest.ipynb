{
 "cells": [
  {
   "cell_type": "markdown",
   "id": "7d1f126f-bd15-4c83-b5a2-b255823aecf1",
   "metadata": {
    "deletable": false,
    "editable": false
   },
   "source": [
    "<font size=\"+3\"><strong>5.3. Ensemble Models: Random Forest</strong></font>"
   ]
  },
  {
   "cell_type": "markdown",
   "id": "376a47c5-c097-412a-9ee7-a65b7ed7b8e8",
   "metadata": {
    "deletable": false,
    "editable": false
   },
   "source": [
    "So far in this project, we've learned how to retrieve and decompress data, and how to manage imbalanced data to build a decision-tree model.\n",
    "\n",
    "In this lesson, we're going to expand our decision tree model into an entire forest (an example of something called an **ensemble model**); learn how to use a **grid search** to tune hyperparameters; and create a function that loads data and a pre-trained model, and uses that model to generate a Series of predictions."
   ]
  },
  {
   "cell_type": "code",
   "execution_count": null,
   "id": "8e4a0490-5a15-456a-9925-804c62ec1c7b",
   "metadata": {
    "deletable": false,
    "editable": false,
    "init_cell": true
   },
   "outputs": [],
   "source": [
    "import gzip\n",
    "import json\n",
    "import pickle\n",
    "\n",
    "import matplotlib.pyplot as plt\n",
    "import pandas as pd\n",
    "import wqet_grader\n",
    "from imblearn.over_sampling import RandomOverSampler\n",
    "from IPython.display import VimeoVideo\n",
    "from sklearn.ensemble import RandomForestClassifier\n",
    "from sklearn.impute import SimpleImputer\n",
    "from sklearn.metrics import ConfusionMatrixDisplay\n",
    "from sklearn.model_selection import GridSearchCV, cross_val_score, train_test_split\n",
    "from sklearn.pipeline import make_pipeline\n",
    "\n",
    "wqet_grader.init(\"Project 5 Assessment\")\n"
   ]
  },
  {
   "cell_type": "code",
   "execution_count": null,
   "id": "cc28305a-cf2f-4af9-9d90-cf0facc9ead6",
   "metadata": {
    "deletable": false,
    "editable": false,
    "init_cell": true
   },
   "outputs": [],
   "source": [
    "VimeoVideo(\"694695674\", h=\"538b4d2725\", width=600)"
   ]
  },
  {
   "cell_type": "markdown",
   "id": "fd9c02a5-b79a-41d6-8371-1ca5948979d8",
   "metadata": {
    "deletable": false,
    "editable": false
   },
   "source": [
    "# Prepare Data"
   ]
  },
  {
   "cell_type": "markdown",
   "id": "794a1a5c-5927-46ae-b5f7-786f932bceba",
   "metadata": {
    "deletable": false,
    "editable": false
   },
   "source": [
    "As always, we'll begin by importing the dataset."
   ]
  },
  {
   "cell_type": "markdown",
   "id": "7fc1f61c-c49b-4c96-a173-0c4f45430562",
   "metadata": {
    "deletable": false,
    "editable": false
   },
   "source": [
    "## Import"
   ]
  },
  {
   "cell_type": "markdown",
   "id": "22d9d776-4ab6-4cef-8f2a-ec58505bdf70",
   "metadata": {
    "deletable": false,
    "editable": false
   },
   "source": [
    "**Task 5.3.1:** Complete the `wrangle` function below using the code you developed in the  lesson 5.1. Then use it to import `poland-bankruptcy-data-2009.json.gz` into the DataFrame `df`.\n",
    "\n",
    "- [<span id='technique'>Write a function in <span id='tool'>Python</span></span>.](../%40textbook/02-python-advanced.ipynb#Functions)"
   ]
  },
  {
   "cell_type": "code",
   "execution_count": null,
   "id": "f16a82a1-260d-410b-9c72-97e23e0e302c",
   "metadata": {
    "deletable": false
   },
   "outputs": [],
   "source": [
    "def wrangle(filename):\n",
    "    \n",
    "    return df"
   ]
  },
  {
   "cell_type": "code",
   "execution_count": null,
   "id": "c98d5162-f01f-47a2-a538-dc98e9e896d3",
   "metadata": {
    "deletable": false
   },
   "outputs": [],
   "source": [
    "df = ...\n",
    "print(df.shape)\n",
    "df.head()"
   ]
  },
  {
   "cell_type": "markdown",
   "id": "cafccb53-dc9f-4eaa-98c8-42357ba86eb0",
   "metadata": {
    "deletable": false,
    "editable": false,
    "tags": []
   },
   "source": [
    "## Split"
   ]
  },
  {
   "cell_type": "markdown",
   "id": "b2ecbffd-7743-4102-8b84-bfbbdf98f601",
   "metadata": {
    "deletable": false,
    "editable": false
   },
   "source": [
    "**Task 5.3.2:** Create your feature matrix `X` and target vector `y`. Your target is `\"bankrupt\"`. \n",
    "\n",
    "- [What's a <span id='term'>feature matrix</span>?](../%40textbook/15-ml-regression.ipynb#Linear-Regression)\n",
    "- [What's a <span id='term'>target vector</span>?](../%40textbook/15-ml-regression.ipynb#Linear-Regression)\n",
    "- [<span id='technique'>Subset a DataFrame by selecting one or more columns in <span id='tool'>pandas</span></span>.](../%40textbook/04-pandas-advanced.ipynb#Subset-a-DataFrame-by-Selecting-One-or-More-Columns) \n",
    "- [<span id='technique'>Select a Series from a DataFrame in <span id='tool'>pandas</span></span>.](../%40textbook/04-pandas-advanced.ipynb#Combine-multiple-categories-in-a-Series) "
   ]
  },
  {
   "cell_type": "code",
   "execution_count": null,
   "id": "f1093cff-131c-496f-8f00-13d837774083",
   "metadata": {
    "deletable": false
   },
   "outputs": [],
   "source": [
    "target = \"bankrupt\"\n",
    "X = ...\n",
    "y = ...\n",
    "\n",
    "print(\"X shape:\", X.shape)\n",
    "print(\"y shape:\", y.shape)"
   ]
  },
  {
   "cell_type": "markdown",
   "id": "376f7aa4-1146-4b7f-932b-1834f953fe49",
   "metadata": {
    "deletable": false,
    "editable": false
   },
   "source": [
    "Since we're not working with time series data, we're going to randomly divide our dataset into training and test sets — just like we did in project 4."
   ]
  },
  {
   "cell_type": "markdown",
   "id": "bba7ebc0-5785-4e19-803b-3ab0a28c76ea",
   "metadata": {
    "deletable": false,
    "editable": false
   },
   "source": [
    "**Task 5.3.3:** Divide your data (`X` and `y`) into training and test sets using a randomized train-test split. Your test set should be 20% of your total data. And don't forget to set a `random_state` for reproducibility. \n",
    "\n",
    "- [<span id='technique'>Perform a randomized train-test split using <span id='tool'>scikit-learn</span></span>.](../%40textbook/14-ml-classification.ipynb#Randomized-Train-Test-split)"
   ]
  },
  {
   "cell_type": "code",
   "execution_count": null,
   "id": "37be42f8-bf07-4e7d-921a-e6fe7f9e861f",
   "metadata": {
    "deletable": false
   },
   "outputs": [],
   "source": [
    "X_train, X_test, y_train, y_test = ...\n",
    "\n",
    "print(\"X_train shape:\", X_train.shape)\n",
    "print(\"y_train shape:\", y_train.shape)\n",
    "print(\"X_test shape:\", X_test.shape)\n",
    "print(\"y_test shape:\", y_test.shape)"
   ]
  },
  {
   "cell_type": "markdown",
   "id": "083eb52a-35ee-424b-9594-8427651fc37f",
   "metadata": {
    "deletable": false,
    "editable": false
   },
   "source": [
    "You might have noticed that we didn't create a validation set, even though we're planning on tuning our model's hyperparameters in this lesson. That's because we're going to use cross-validation, which we'll talk about more later on."
   ]
  },
  {
   "cell_type": "markdown",
   "id": "9df75fb0-0c88-40ad-84df-685325039dd7",
   "metadata": {
    "deletable": false,
    "editable": false
   },
   "source": [
    "## Resample"
   ]
  },
  {
   "cell_type": "code",
   "execution_count": null,
   "id": "9f5308b5-95d3-49b8-9845-392cc438b386",
   "metadata": {
    "deletable": false,
    "editable": false,
    "init_cell": true
   },
   "outputs": [],
   "source": [
    "VimeoVideo(\"694695662\", h=\"dc60d76861\", width=600)"
   ]
  },
  {
   "cell_type": "markdown",
   "id": "ecb07cec-9400-4619-813b-92e34eb651ba",
   "metadata": {
    "deletable": false,
    "editable": false
   },
   "source": [
    "**Task 5.3.4:** Create a new feature matrix `X_train_over` and target vector `y_train_over` by performing random over-sampling on the training data.\n",
    "\n",
    "- [What is over-sampling?](../%40textbook/13-ml-data-pre-processing-and-production.ipynb#Over-sampling)\n",
    "- [Perform random over-sampling using imbalanced-learn.](../%40textbook/13-ml-data-pre-processing-and-production.ipynb#Over-sampling)"
   ]
  },
  {
   "cell_type": "code",
   "execution_count": null,
   "id": "5594111e-ab15-43b9-a8dd-0b68ed1ccb20",
   "metadata": {
    "deletable": false
   },
   "outputs": [],
   "source": [
    "over_sampler = ...\n",
    "X_train_over, y_train_over = ...\n",
    "print(\"X_train_over shape:\", X_train_over.shape)\n",
    "X_train_over.head()"
   ]
  },
  {
   "cell_type": "markdown",
   "id": "08127742-3d7c-4f3a-95d8-a1af6d2ba88d",
   "metadata": {
    "deletable": false,
    "editable": false
   },
   "source": [
    "# Build Model"
   ]
  },
  {
   "cell_type": "markdown",
   "id": "99917563-9d78-4653-98d1-d1884722406c",
   "metadata": {
    "deletable": false,
    "editable": false
   },
   "source": [
    "Now that we have our data set up the right way, we can build the model. 🏗"
   ]
  },
  {
   "cell_type": "markdown",
   "id": "f03517a4-e9c7-46f9-ab95-f1ce65a67573",
   "metadata": {
    "deletable": false,
    "editable": false
   },
   "source": [
    "## Baseline"
   ]
  },
  {
   "cell_type": "markdown",
   "id": "7245db1e-6612-4952-8302-4b0fdfeb337a",
   "metadata": {
    "deletable": false,
    "editable": false
   },
   "source": [
    "**Task 5.3.5:** Calculate the baseline accuracy score for your model.\n",
    "\n",
    "- [What's <span id='tool'>accuracy score</span>?](../%40textbook/14-ml-classification.ipynb#Calculating-Accuracy-Score)\n",
    "- [<span id='technique'>Aggregate data in a Series using `value_counts` in <span id='tool'>pandas</span></span>.](../%40textbook/04-pandas-advanced.ipynb#Working-with-value_counts-in-a-Series)"
   ]
  },
  {
   "cell_type": "code",
   "execution_count": null,
   "id": "3a181afb-a78a-4e85-91b1-a07217bccba9",
   "metadata": {
    "deletable": false
   },
   "outputs": [],
   "source": [
    "acc_baseline = ...\n",
    "print(\"Baseline Accuracy:\", round(acc_baseline, 4))"
   ]
  },
  {
   "cell_type": "markdown",
   "id": "7fbd8830-6b46-43a3-ae06-91aaf2400571",
   "metadata": {
    "deletable": false,
    "editable": false
   },
   "source": [
    "## Iterate"
   ]
  },
  {
   "cell_type": "markdown",
   "id": "9b0f9f51-75ff-405c-975e-09a3133d9523",
   "metadata": {
    "deletable": false,
    "editable": false
   },
   "source": [
    "So far, we've built single models that predict a single outcome. That's definitely a useful way to predict the future, but what if the one model we built isn't the *right* one? If we could somehow use more than one model simultaneously, we'd have a more trustworthy prediction.\n",
    "\n",
    "**Ensemble models** work by building multiple models on random subsets of the same data, and then comparing their predictions to make a final prediction. Since we used a decision tree in the last lesson, we're going to create an ensemble of trees here. This type of model is called a **random forest**.\n",
    "\n",
    "We'll start by creating a pipeline to streamline our workflow."
   ]
  },
  {
   "cell_type": "code",
   "execution_count": null,
   "id": "81530a24-952a-4c78-9d59-231529b6b3ea",
   "metadata": {
    "deletable": false,
    "editable": false,
    "init_cell": true
   },
   "outputs": [],
   "source": [
    "VimeoVideo(\"694695643\", h=\"32c3d5b1ed\", width=600)"
   ]
  },
  {
   "cell_type": "markdown",
   "id": "6229c9b5-f739-4a12-a12b-b227eb26674d",
   "metadata": {
    "deletable": false,
    "editable": false
   },
   "source": [
    "**Task 5.3.6:** Create a pipeline named `clf` (short for \"classifier\") that contains a `SimpleImputer` transformer and a `RandomForestClassifier` predictor.\n",
    "\n",
    "- [What's an ensemble model?](../%40textbook/14-ml-classification.ipynb#Classification-with-Ensemble-Models)\n",
    "- [What's a random forest model?](../%40textbook/14-ml-classification.ipynb#Random-Forest)"
   ]
  },
  {
   "cell_type": "code",
   "execution_count": null,
   "id": "23d29542-cf2c-4e17-b43d-7d42a0a3a5d4",
   "metadata": {
    "deletable": false
   },
   "outputs": [],
   "source": [
    "clf = ...\n",
    "print(clf)"
   ]
  },
  {
   "cell_type": "markdown",
   "id": "376b73a6-18a0-4ad7-b501-fb08f08d8254",
   "metadata": {
    "deletable": false,
    "editable": false
   },
   "source": [
    "By default, the number of trees in our forest (`n_estimators`) is set to 100. That means when we train this classifier, we'll be fitting 100 trees. While it will take longer to train, it will hopefully lead to better performance.\n",
    "\n",
    "In order to get the best performance from our model, we need to tune its hyperparameter. But how can we do this if we haven't created a validation set? The answer is **cross-validation**. So, before we look at hyperparameters, let's see how cross-validation works with the classifier we just built."
   ]
  },
  {
   "cell_type": "code",
   "execution_count": null,
   "id": "da86d743-198d-4890-8733-e0919168a87e",
   "metadata": {
    "deletable": false,
    "editable": false,
    "init_cell": true
   },
   "outputs": [],
   "source": [
    "VimeoVideo(\"694695619\", h=\"2c41dca371\", width=600)"
   ]
  },
  {
   "cell_type": "markdown",
   "id": "ae4c6c98-5db2-4347-aa5b-020730a56bd6",
   "metadata": {
    "deletable": false,
    "editable": false
   },
   "source": [
    "**Task 5.3.7:** Perform cross-validation with your classifier, using the over-sampled training data. We want five folds, so set `cv` to 5. We also want to speed up training, to set `n_jobs` to -1.\n",
    "\n",
    "- [What's cross-validation?](../%40textbook/14-ml-classification.ipynb#Cross-Validation)\n",
    "- [Perform k-fold cross-validation on a model in scikit-learn.](../%40textbook/14-ml-classification.ipynb#Cross-Validation)"
   ]
  },
  {
   "cell_type": "code",
   "execution_count": null,
   "id": "2c1a44f4-b2d2-4d5e-b426-d63bba2166a5",
   "metadata": {
    "deletable": false
   },
   "outputs": [],
   "source": [
    "cv_acc_scores = ...\n",
    "print(cv_acc_scores)"
   ]
  },
  {
   "cell_type": "markdown",
   "id": "45c5be54-bd14-4b07-8d9b-abbe4d984e2d",
   "metadata": {
    "deletable": false,
    "editable": false
   },
   "source": [
    "That took kind of a long time, but we just trained 500 random forest classifiers (100 jobs x 5 folds). No wonder it takes so long!\n",
    "\n",
    "Pro tip: even though `cross_val_score` is useful for getting an idea of how cross-validation works, you'll rarely use it. Instead, most people include a `cv` argument when they do a hyperparameter search. "
   ]
  },
  {
   "cell_type": "markdown",
   "id": "40e6180f-51e4-42ad-9753-d2c39a73e7c8",
   "metadata": {
    "deletable": false,
    "editable": false
   },
   "source": [
    "Now that we have an idea of how cross-validation works, let's tune our model. The first step is creating a range of hyperparameters that we want to evaluate. "
   ]
  },
  {
   "cell_type": "code",
   "execution_count": null,
   "id": "34d4abf2-dd15-4b65-acde-cee1c3b4a3e5",
   "metadata": {
    "deletable": false,
    "editable": false,
    "init_cell": true
   },
   "outputs": [],
   "source": [
    "VimeoVideo(\"694695593\", h=\"5143f0b63f\", width=600)"
   ]
  },
  {
   "cell_type": "markdown",
   "id": "4d7c6240-88cd-4a9a-b384-ad049861eff3",
   "metadata": {
    "deletable": false,
    "editable": false
   },
   "source": [
    "**Task 5.3.8:** Create a dictionary with the range of hyperparameters that we want to evaluate for our classifier. \n",
    "\n",
    "1. For the `SimpleImputer`, try both the `\"mean\"` and `\"median\"` strategies. \n",
    "2. For the `RandomForestClassifier`, try `max_depth` settings between 10 and 50, by steps of 10. \n",
    "3. Also for the `RandomForestClassifier`, try `n_estimators` settings between 25 and 100 by steps of 25.\n",
    "\n",
    "- [What's a dictionary?](../%40textbook/01-python-getting-started.ipynb#Python-Dictionaries)\n",
    "- [What's a hyperparameter?](../%40textbook/17-ts-core.ipynb#Hyperparameters)\n",
    "- [Create a range in Python](../%40textbook/18-ts-models.ipynb#Hyperparameters)\n",
    "- [Define a hyperparameter grid for model tuning in scikit-learn.](../%40textbook/14-ml-classification.ipynb#Hyperparameter-Tuning)"
   ]
  },
  {
   "cell_type": "code",
   "execution_count": null,
   "id": "f5330f53-2ddf-4261-a17e-3ba7afc3faea",
   "metadata": {
    "deletable": false
   },
   "outputs": [],
   "source": [
    "params = ...\n",
    "params"
   ]
  },
  {
   "cell_type": "markdown",
   "id": "77360385-ab0f-4d0e-b3ca-3e4faace353c",
   "metadata": {
    "deletable": false,
    "editable": false
   },
   "source": [
    "Now that we have our hyperparameter grid, let's incorporate it into a **grid search**."
   ]
  },
  {
   "cell_type": "code",
   "execution_count": null,
   "id": "93206456-d95b-4d13-8995-ff3acdfe323b",
   "metadata": {
    "deletable": false,
    "editable": false,
    "init_cell": true
   },
   "outputs": [],
   "source": [
    "VimeoVideo(\"694695574\", h=\"8588bf015f\", width=600)"
   ]
  },
  {
   "cell_type": "markdown",
   "id": "2c25ceef-6e09-4453-b638-dfc0b691a1c6",
   "metadata": {
    "deletable": false,
    "editable": false
   },
   "source": [
    "**Task 5.3.9:** Create a `GridSearchCV` named `model` that includes your classifier and hyperparameter grid. Be sure to use the same arguments for `cv` and `n_jobs` that you used above, and set `verbose` to 1. \n",
    "\n",
    "- [What's cross-validation?](../%40textbook/14-ml-classification.ipynb#Cross-Validation)\n",
    "- [What's a grid search?](../%40textbook/14-ml-classification.ipynb#Grid-Search)\n",
    "- [Perform a hyperparameter grid search in scikit-learn.](../%40textbook/14-ml-classification.ipynb#Grid-Search)"
   ]
  },
  {
   "cell_type": "code",
   "execution_count": null,
   "id": "4ee09ca3-07af-4543-828e-46d38a8a05d1",
   "metadata": {
    "deletable": false
   },
   "outputs": [],
   "source": [
    "model = ...\n",
    "model"
   ]
  },
  {
   "cell_type": "markdown",
   "id": "34093b4b-1c94-4c94-99a5-32c48f641322",
   "metadata": {
    "deletable": false,
    "editable": false
   },
   "source": [
    "Finally, now let's fit the model."
   ]
  },
  {
   "cell_type": "code",
   "execution_count": null,
   "id": "e26e1038-e227-435b-945d-e5c1498f2d82",
   "metadata": {
    "deletable": false,
    "editable": false,
    "init_cell": true
   },
   "outputs": [],
   "source": [
    "VimeoVideo(\"694695566\", h=\"f4e9910a9e\", width=600)"
   ]
  },
  {
   "cell_type": "markdown",
   "id": "0c701d28-dad6-4133-9438-70e554761c35",
   "metadata": {
    "deletable": false,
    "editable": false
   },
   "source": [
    "**Task 5.3.10:** Fit `model` to the over-sampled training data."
   ]
  },
  {
   "cell_type": "code",
   "execution_count": null,
   "id": "c8367806-ae6b-46cb-9a16-bffd1a4a070c",
   "metadata": {
    "deletable": false
   },
   "outputs": [],
   "source": [
    "# Train model\n"
   ]
  },
  {
   "cell_type": "markdown",
   "id": "4faafd99-fd3a-49d5-b002-0d88170aecc6",
   "metadata": {
    "deletable": false,
    "editable": false
   },
   "source": [
    "This will take some time to train, so let's take a moment to think about why. How many forests did we just test? 4 different `max_depth`s times 3 `n_estimator`s times 2 imputation strategies... that makes 24 forests. How many fits did we just do? 24 forests times 5 folds is 120. And remember that each forest is comprised of 25-75 trees, which works out to *at least* 3,000 trees. So it's computationally expensive! \n",
    "\n",
    "Okay, now that we've tested all those models, let's take a look at the results."
   ]
  },
  {
   "cell_type": "code",
   "execution_count": null,
   "id": "121ea0ba-8bce-452d-ba85-c42e2b294490",
   "metadata": {
    "deletable": false,
    "editable": false,
    "init_cell": true
   },
   "outputs": [],
   "source": [
    "VimeoVideo(\"694695546\", h=\"4ae60129c4\", width=600)"
   ]
  },
  {
   "cell_type": "markdown",
   "id": "9cb4b8fb-3422-486e-9c00-bb24a685ad3c",
   "metadata": {
    "deletable": false,
    "editable": false
   },
   "source": [
    "**Task 5.3.11:** Extract the cross-validation results from `model` and load them into a DataFrame named `cv_results`.\n",
    "\n",
    "- [Get cross-validation results from a hyperparameter search in scikit-learn.](../%40textbook/14-ml-classification.ipynb#Grid-Search)"
   ]
  },
  {
   "cell_type": "code",
   "execution_count": null,
   "id": "0b2bd176-3c3e-425c-bbbc-6915cb5b9944",
   "metadata": {
    "deletable": false
   },
   "outputs": [],
   "source": [
    "cv_results = ...\n",
    "cv_results.head(10)"
   ]
  },
  {
   "cell_type": "markdown",
   "id": "ce855361-5586-476e-8701-dcafa941947d",
   "metadata": {
    "deletable": false,
    "editable": false
   },
   "source": [
    "In addition to the accuracy scores for all the different models we tried during our grid search, we can see how long it took each model to train. Let's take a closer look at how different hyperparameter settings affect training time. \n",
    "\n",
    "First, we'll look at `n_estimators`. Our grid search evaluated this hyperparameter for various `max_depth` settings, but let's only look at models where `max_depth` equals 10."
   ]
  },
  {
   "cell_type": "code",
   "execution_count": null,
   "id": "ad9ea59f-4479-47c9-bd88-5ac324150a8a",
   "metadata": {
    "deletable": false,
    "editable": false,
    "init_cell": true
   },
   "outputs": [],
   "source": [
    "VimeoVideo(\"694695537\", h=\"e460435664\", width=600)"
   ]
  },
  {
   "cell_type": "markdown",
   "id": "0c189c09-8a8c-474d-8f26-ea4175fde382",
   "metadata": {
    "deletable": false,
    "editable": false
   },
   "source": [
    "**Task 5.3.12:** Create a mask for `cv_results` for rows where `\"param_randomforestclassifier__max_depth\"` equals 10. Then plot `\"param_randomforestclassifier__n_estimators\"` on the x-axis and `\"mean_fit_time\"` on the y-axis. Don't forget to label your axes and include a title. \n",
    "\n",
    "- [Subset a DataFrame with a mask using pandas.](../%40textbook/04-pandas-advanced.ipynb)\n",
    "- [Create a line plot in Matplotlib.](../%40textbook/06-visualization-matplotlib.ipynb)"
   ]
  },
  {
   "cell_type": "code",
   "execution_count": null,
   "id": "a34c23f8-79aa-41e3-b140-39df4a61c7e7",
   "metadata": {
    "deletable": false
   },
   "outputs": [],
   "source": [
    "# Create mask\n",
    "mask = ...\n",
    "# Plot fit time vs n_estimators\n",
    "\n",
    "# Label axes\n",
    "plt.xlabel(\"Number of Estimators\")\n",
    "plt.ylabel(\"Mean Fit Time [seconds]\")\n",
    "plt.title(\"Training Time vs Estimators (max_depth=10)\");"
   ]
  },
  {
   "cell_type": "markdown",
   "id": "9e6bf12e-b7c0-4e67-9181-f74e18a199f0",
   "metadata": {
    "deletable": false,
    "editable": false
   },
   "source": [
    "Next, we'll look at `max_depth`. Here, we'll also limit our data to rows where `n_estimators` equals 25."
   ]
  },
  {
   "cell_type": "code",
   "execution_count": null,
   "id": "f87c4c61-d6b8-476c-86bd-5404b63b8372",
   "metadata": {
    "deletable": false,
    "editable": false,
    "init_cell": true
   },
   "outputs": [],
   "source": [
    "VimeoVideo(\"694695525\", h=\"99f2dfc9eb\", width=600)"
   ]
  },
  {
   "cell_type": "markdown",
   "id": "6aec1af3-6701-452c-a149-fa67904fec79",
   "metadata": {
    "deletable": false,
    "editable": false
   },
   "source": [
    "**Task 5.3.13:** Create a mask for `cv_results` for rows where `\"param_randomforestclassifier__n_estimators\"` equals 25. Then plot `\"param_randomforestclassifier__max_depth\"` on the x-axis and `\"mean_fit_time\"` on the y-axis. Don't forget to label your axes and include a title. \n",
    "\n",
    "- [Subset a DataFrame with a mask using pandas.](../%40textbook/04-pandas-advanced.ipynb)\n",
    "- [Create a line plot in Matplotlib.](../%40textbook/06-visualization-matplotlib.ipynb)"
   ]
  },
  {
   "cell_type": "code",
   "execution_count": null,
   "id": "c68f27d4-ca7a-4572-b29f-98e884802d56",
   "metadata": {
    "deletable": false
   },
   "outputs": [],
   "source": [
    "# Create mask\n",
    "mask = ...\n",
    "# Plot fit time vs max_depth\n",
    "\n",
    "# Label axes\n",
    "plt.xlabel(\"Max Depth\")\n",
    "plt.ylabel(\"Mean Fit Time [seconds]\")\n",
    "plt.title(\"Training Time vs Max Depth (n_estimators=25)\");"
   ]
  },
  {
   "cell_type": "markdown",
   "id": "fea4fdf4-0b13-4b5f-8287-f10445ccc3a6",
   "metadata": {
    "deletable": false,
    "editable": false
   },
   "source": [
    "There's a general upwards trend, but we see a lot of up-and-down here. That's because for each max depth, grid search tries two different imputation strategies: mean and median. Median is a lot faster to calculate, so that speeds up training time. \n",
    "\n",
    "Finally, let's look at the hyperparameters that led to the best performance. "
   ]
  },
  {
   "cell_type": "code",
   "execution_count": null,
   "id": "b9681033-537f-4438-b67a-0290419a4dad",
   "metadata": {
    "deletable": false,
    "editable": false,
    "init_cell": true
   },
   "outputs": [],
   "source": [
    "VimeoVideo(\"694695505\", h=\"f98f660ce1\", width=600)"
   ]
  },
  {
   "cell_type": "markdown",
   "id": "dcfe1215-0bd9-42b7-ba5f-081b6cc05dcb",
   "metadata": {
    "deletable": false,
    "editable": false
   },
   "source": [
    "**Task 5.3.14:** Extract the best hyperparameters from `model`.\n",
    "\n",
    "- [Get settings from a hyperparameter search in scikit-learn.](../%40textbook/14-ml-classification.ipynb#Cross-Validation)"
   ]
  },
  {
   "cell_type": "code",
   "execution_count": null,
   "id": "282a14d4-dddf-4042-b18e-229b46ce5e1b",
   "metadata": {
    "deletable": false
   },
   "outputs": [],
   "source": [
    "# Extract best hyperparameters\n"
   ]
  },
  {
   "cell_type": "markdown",
   "id": "acf32ded-07fb-4452-a439-ac94055ba3b0",
   "metadata": {
    "deletable": false,
    "editable": false
   },
   "source": [
    "Note that we don't need to build and train a new model with these settings. Now that the grid search is complete, when we use `model.predict()`, it will serve up predictions using the best model — something that we'll do at the end of this lesson."
   ]
  },
  {
   "cell_type": "markdown",
   "id": "3aaaaa92-edfe-4e33-b7e8-aa3f076ed00a",
   "metadata": {
    "deletable": false,
    "editable": false
   },
   "source": [
    "## Evaluate"
   ]
  },
  {
   "cell_type": "markdown",
   "id": "087b3534-2488-4b78-bdd0-dfd441b558f9",
   "metadata": {
    "deletable": false,
    "editable": false
   },
   "source": [
    "All right: The moment of truth. Let's see how our model performs."
   ]
  },
  {
   "cell_type": "markdown",
   "id": "a805626d-6ad2-456b-86cc-3cc2c0b4f756",
   "metadata": {
    "deletable": false,
    "editable": false
   },
   "source": [
    "**Task 5.3.15:** Calculate the training and test accuracy scores for `model`. \n",
    "\n",
    "- [<span id='technique'>Calculate the accuracy score for a model in <span id='term'>scikit-learn</span></span>.](../%40textbook/14-ml-classification.ipynb#Calculating-Accuracy-Score)"
   ]
  },
  {
   "cell_type": "code",
   "execution_count": null,
   "id": "c20b2755-83b4-4b06-a5a0-ba73ff92e108",
   "metadata": {
    "deletable": false
   },
   "outputs": [],
   "source": [
    "acc_train = ...\n",
    "acc_test = ...\n",
    "\n",
    "print(\"Training Accuracy:\", round(acc_train, 4))\n",
    "print(\"Test Accuracy:\", round(acc_test, 4))"
   ]
  },
  {
   "cell_type": "markdown",
   "id": "c36a4347-0dfa-431e-8a02-de12eacde35b",
   "metadata": {
    "deletable": false,
    "editable": false
   },
   "source": [
    "We beat the baseline! Just barely, but we beat it. "
   ]
  },
  {
   "cell_type": "markdown",
   "id": "36e54aae-4580-483d-bbb5-d8b70dd25572",
   "metadata": {
    "deletable": false,
    "editable": false
   },
   "source": [
    "Next, we're going to use a confusion matrix to see how our model performs. To better understand the values we'll see in the matrix, let's first count how many observations in our test set belong to the positive and negative classes. "
   ]
  },
  {
   "cell_type": "code",
   "execution_count": null,
   "id": "dfa2b41c-02a0-4a36-8a99-9e515b211d3f",
   "metadata": {
    "deletable": false
   },
   "outputs": [],
   "source": [
    "y_test.value_counts()"
   ]
  },
  {
   "cell_type": "code",
   "execution_count": null,
   "id": "19597e4f-1db4-4e5f-a273-df994676ae5d",
   "metadata": {
    "deletable": false,
    "editable": false,
    "init_cell": true
   },
   "outputs": [],
   "source": [
    "VimeoVideo(\"694695486\", h=\"1d6ac2bf77\", width=600)"
   ]
  },
  {
   "cell_type": "markdown",
   "id": "8552562a-c27a-462f-b99b-637c2e7d2da7",
   "metadata": {
    "deletable": false,
    "editable": false
   },
   "source": [
    "**Task 5.3.16:** Plot a confusion matrix that shows how your best model performs on your test set. \n",
    "\n",
    "- [What's a confusion matrix?](../%40textbook/14-ml-classification.ipynb#Confusion-Matrix)\n",
    "- [Create a confusion matrix using scikit-learn.](../%40textbook/14-ml-classification.ipynb#Confusion-Matrix) "
   ]
  },
  {
   "cell_type": "code",
   "execution_count": null,
   "id": "5d5cb2c9-d296-4363-b26c-240cc71f51a3",
   "metadata": {
    "deletable": false
   },
   "outputs": [],
   "source": [
    "# Plot confusion matrix\n"
   ]
  },
  {
   "cell_type": "markdown",
   "id": "967aca43-c5a3-47fd-b814-54c905897c0f",
   "metadata": {
    "deletable": false,
    "editable": false
   },
   "source": [
    "Notice the relationship between the numbers in this matrix with the count you did the previous task. If you sum the values in the bottom row, you get the total number of positive observations in `y_train` ($72 + 11 = 83$). And the top row sum to the number of negative observations ($1902 + 11 = 1913$)."
   ]
  },
  {
   "cell_type": "markdown",
   "id": "faac53ee-1a0e-423b-b68e-e85cce11bfc9",
   "metadata": {
    "deletable": false,
    "editable": false
   },
   "source": [
    "# Communicate"
   ]
  },
  {
   "cell_type": "code",
   "execution_count": null,
   "id": "dcc8a047-c831-4f31-bc75-8d8b785e8bf4",
   "metadata": {
    "deletable": false,
    "editable": false,
    "init_cell": true
   },
   "outputs": [],
   "source": [
    "VimeoVideo(\"698358615\", h=\"3fd4b2186a\", width=600)"
   ]
  },
  {
   "cell_type": "markdown",
   "id": "e867677d-1700-499d-8a92-c1d620510d1d",
   "metadata": {
    "deletable": false,
    "editable": false
   },
   "source": [
    "**Task 5.3.17:** Create a horizontal bar chart with the 10 most important features for your model. "
   ]
  },
  {
   "cell_type": "code",
   "execution_count": null,
   "id": "6a803d93-9b7c-4529-999b-326144b17fbd",
   "metadata": {
    "deletable": false
   },
   "outputs": [],
   "source": [
    "# Get feature names from training data\n",
    "features = ...\n",
    "# Extract importances from model\n",
    "importances = ...\n",
    "# Create a series with feature names and importances\n",
    "feat_imp = ...\n",
    "# Plot 10 most important features\n",
    "\n",
    "plt.xlabel(\"Gini Importance\")\n",
    "plt.ylabel(\"Feature\")\n",
    "plt.title(\"Feature Importance\");"
   ]
  },
  {
   "cell_type": "markdown",
   "id": "5b0471e4-ac32-4b45-85ba-d7169757293e",
   "metadata": {
    "deletable": false,
    "editable": false
   },
   "source": [
    "The only thing left now is to save your model so that it can be reused."
   ]
  },
  {
   "cell_type": "code",
   "execution_count": null,
   "id": "41330d0b-96b1-4985-bcd8-e75635e2719e",
   "metadata": {
    "deletable": false,
    "editable": false,
    "init_cell": true
   },
   "outputs": [],
   "source": [
    "VimeoVideo(\"694695478\", h=\"a13bdacb55\", width=600)"
   ]
  },
  {
   "cell_type": "markdown",
   "id": "7cf82a6b-81b7-402e-97e0-247b48e2af27",
   "metadata": {
    "deletable": false,
    "editable": false
   },
   "source": [
    "**Task 5.3.18:** Using a context manager, save your best-performing model to a a file named `\"model-5-3.pkl\"`. \n",
    "\n",
    "- [What's serialization?](../%40textbook/03-pandas-getting-started.ipynb#Pickle-Files)\n",
    "- [Store a Python object as a serialized file using pickle.](../%40textbook/03-pandas-getting-started.ipynb#Pickle-Files) "
   ]
  },
  {
   "cell_type": "code",
   "execution_count": null,
   "id": "3038e7b4-e125-4315-8764-4259907bd362",
   "metadata": {
    "deletable": false
   },
   "outputs": [],
   "source": [
    "# Save model\n"
   ]
  },
  {
   "cell_type": "code",
   "execution_count": null,
   "id": "a633e34a-8827-4d7f-b3d0-7155363b0837",
   "metadata": {
    "deletable": false,
    "editable": false,
    "init_cell": true
   },
   "outputs": [],
   "source": [
    "VimeoVideo(\"694695451\", h=\"fc96dd8d1f\", width=600)"
   ]
  },
  {
   "cell_type": "markdown",
   "id": "8b6f4286-8f3f-449f-bf52-39d3fe02eefb",
   "metadata": {
    "deletable": false,
    "editable": false
   },
   "source": [
    "**Task 5.3.19:** Create a function `make_predictions`. It should take two arguments: the path of a JSON file that contains test data and the path of a serialized model. The function should load and clean the data using the `wrangle` function you created, load the model, generate an array of predictions, and convert that array into a Series. (The Series should have the name `\"bankrupt\"` and the same index labels as the test data.) Finally, the function should return its predictions as a Series. \n",
    "\n",
    "- [What's a function?](../%40textbook/02-python-advanced.ipynb#Functions)\n",
    "- [Load a serialized file](../%40textbook/03-pandas-getting-started.ipynb#Pickle-Files)\n",
    "- [What's a Series?](../%40textbook/05-pandas-summary-statistics.ipynb#Series)\n",
    "- [Create a Series in pandas](../%40textbook/03-pandas-getting-started.ipynb#Working-with-Columns)"
   ]
  },
  {
   "cell_type": "code",
   "execution_count": null,
   "id": "1ca88012-3462-429c-a5f4-d7cf9af9c54c",
   "metadata": {
    "deletable": false
   },
   "outputs": [],
   "source": [
    "def make_predictions(data_filepath, model_filepath):\n",
    "    # Wrangle JSON file\n",
    "    X_test = ...\n",
    "    # Load model\n",
    "    \n",
    "    # Generate predictions\n",
    "    y_test_pred = ...\n",
    "    # Put predictions into Series with name \"bankrupt\", and same index as X_test\n",
    "    y_test_pred = ...\n",
    "    return y_test_pred"
   ]
  },
  {
   "cell_type": "code",
   "execution_count": null,
   "id": "662a4e31-0f61-4b3a-be66-ddbf69cfd622",
   "metadata": {
    "deletable": false,
    "editable": false,
    "init_cell": true
   },
   "outputs": [],
   "source": [
    "VimeoVideo(\"694695426\", h=\"f75588d43a\", width=600)"
   ]
  },
  {
   "cell_type": "markdown",
   "id": "456ba113-e075-427c-8f3a-ffb9b6975c7b",
   "metadata": {
    "deletable": false,
    "editable": false
   },
   "source": [
    "**Task 5.3.20:** Use the code below to check your `make_predictions` function. Once you're satisfied with the result, submit it to the grader. "
   ]
  },
  {
   "cell_type": "code",
   "execution_count": null,
   "id": "c668b57d-93e0-4f64-857e-60b4e0b07b67",
   "metadata": {
    "deletable": false
   },
   "outputs": [],
   "source": [
    "y_test_pred = make_predictions(\n",
    "    data_filepath=\"data/poland-bankruptcy-data-2009-mvp-features.json.gz\",\n",
    "    model_filepath=\"model-5-3.pkl\",\n",
    ")\n",
    "\n",
    "print(\"predictions shape:\", y_test_pred.shape)\n",
    "y_test_pred.head()"
   ]
  },
  {
   "cell_type": "code",
   "execution_count": null,
   "id": "8cdb2213-b088-4b93-ba48-7e22938f1186",
   "metadata": {
    "deletable": false,
    "editable": false
   },
   "outputs": [],
   "source": [
    "wqet_grader.grade(\n",
    "    \"Project 5 Assessment\",\n",
    "    \"Task 5.3.19\",\n",
    "    make_predictions(\n",
    "        data_filepath=\"data/poland-bankruptcy-data-2009-mvp-features.json.gz\",\n",
    "        model_filepath=\"model-5-3.pkl\",\n",
    "    ),\n",
    ")"
   ]
  },
  {
   "cell_type": "markdown",
   "id": "8df8a5cd",
   "metadata": {
    "deletable": false,
    "editable": false
   },
   "source": [
    "---\n",
    "Copyright © 2022 WorldQuant University. This\n",
    "content is licensed solely for personal use. Redistribution or\n",
    "publication of this material is strictly prohibited.\n"
   ]
  }
 ],
 "metadata": {
  "kernelspec": {
   "display_name": "Python 3 (ipykernel)",
   "language": "python",
   "name": "python3"
  },
  "language_info": {
   "codemirror_mode": {
    "name": "ipython",
    "version": 3
   },
   "file_extension": ".py",
   "mimetype": "text/x-python",
   "name": "python",
   "nbconvert_exporter": "python",
   "pygments_lexer": "ipython3",
   "version": "3.9.6"
  }
 },
 "nbformat": 4,
 "nbformat_minor": 5
}
