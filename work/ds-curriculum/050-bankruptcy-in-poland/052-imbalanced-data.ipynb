{
 "cells": [
  {
   "cell_type": "markdown",
   "id": "a38665e1-edaf-45c9-ac69-3862e5ff7831",
   "metadata": {
    "deletable": false,
    "editable": false
   },
   "source": [
    "<font size=\"+3\"><strong>5.2. Imbalanced Data</strong></font>"
   ]
  },
  {
   "cell_type": "markdown",
   "id": "ef5d6484-df67-482b-a062-394e715c642e",
   "metadata": {
    "deletable": false,
    "editable": false
   },
   "source": [
    "In the last lesson, we prepared the data. \n",
    "\n",
    "In this lesson, we're going to explore some of the features of the dataset, use visualizations to help us understand those features, and develop a model that solves the problem of imbalanced data by under- and over-sampling."
   ]
  },
  {
   "cell_type": "code",
   "execution_count": null,
   "id": "e89949a0-4a09-4a49-9f79-b51c4b34f1d8",
   "metadata": {
    "deletable": false,
    "editable": false,
    "init_cell": true,
    "tags": []
   },
   "outputs": [],
   "source": [
    "import gzip\n",
    "import json\n",
    "import pickle\n",
    "\n",
    "import matplotlib.pyplot as plt\n",
    "import pandas as pd\n",
    "import seaborn as sns\n",
    "import wqet_grader\n",
    "from imblearn.over_sampling import RandomOverSampler\n",
    "from imblearn.under_sampling import RandomUnderSampler\n",
    "from IPython.display import VimeoVideo\n",
    "from sklearn.impute import SimpleImputer\n",
    "from sklearn.metrics import ConfusionMatrixDisplay\n",
    "from sklearn.model_selection import train_test_split\n",
    "from sklearn.pipeline import make_pipeline\n",
    "from sklearn.tree import DecisionTreeClassifier\n",
    "\n",
    "wqet_grader.init(\"Project 5 Assessment\")\n"
   ]
  },
  {
   "cell_type": "code",
   "execution_count": null,
   "id": "fd1507d9-7ecd-4e3c-934e-d2257478ba99",
   "metadata": {
    "deletable": false,
    "editable": false,
    "init_cell": true
   },
   "outputs": [],
   "source": [
    "VimeoVideo(\"694058667\", h=\"44426f200b\", width=600)"
   ]
  },
  {
   "cell_type": "markdown",
   "id": "2209334e-f9a2-4764-83d8-150e25c5017f",
   "metadata": {
    "deletable": false,
    "editable": false
   },
   "source": [
    "# Prepare Data"
   ]
  },
  {
   "cell_type": "markdown",
   "id": "dd41eebd-6443-4b5f-9392-641506cd6589",
   "metadata": {
    "deletable": false,
    "editable": false
   },
   "source": [
    "## Import"
   ]
  },
  {
   "cell_type": "markdown",
   "id": "1a5b0717-0975-441c-9036-963c2c432df8",
   "metadata": {
    "deletable": false,
    "editable": false
   },
   "source": [
    "As always, we need to begin by bringing our data into the project, and the function we developed in the previous module is exactly what we need. "
   ]
  },
  {
   "cell_type": "code",
   "execution_count": null,
   "id": "0674563c-ede3-4440-9992-3c2992655704",
   "metadata": {
    "deletable": false,
    "editable": false,
    "init_cell": true
   },
   "outputs": [],
   "source": [
    "VimeoVideo(\"694058628\", h=\"00b4cfd027\", width=600)"
   ]
  },
  {
   "cell_type": "markdown",
   "id": "9261a342-9846-4d0c-b653-9ac0d101fdf8",
   "metadata": {
    "deletable": false,
    "editable": false
   },
   "source": [
    "**Task 5.2.1:** Complete the `wrangle` function below using the code you developed in the last lesson. Then use it to import `poland-bankruptcy-data-2009.json.gz` into the DataFrame `df`.\n",
    "\n",
    "- [<span id='technique'>Write a function in <span id='tool'>Python</span></span>.](../%40textbook/02-python-advanced.ipynb#Functions)"
   ]
  },
  {
   "cell_type": "code",
   "execution_count": null,
   "id": "8189d8c1-e5ad-4739-9502-3e1982998139",
   "metadata": {
    "deletable": false
   },
   "outputs": [],
   "source": [
    "def wrangle(filename):\n",
    "    \n",
    "    # Open compressed file, load into dictionary\n",
    "\n",
    "    # Load dictionary into DataFrame, set index\n",
    "\n",
    "    return df"
   ]
  },
  {
   "cell_type": "code",
   "execution_count": null,
   "id": "25b19635-4c1a-4a3f-85e1-dfe462874c20",
   "metadata": {
    "deletable": false
   },
   "outputs": [],
   "source": [
    "df = ...\n",
    "print(df.shape)\n",
    "df.head()"
   ]
  },
  {
   "cell_type": "markdown",
   "id": "e89f608b-1e91-42d5-b1ce-8008eaa51ef8",
   "metadata": {
    "deletable": false,
    "editable": false
   },
   "source": [
    "## Explore"
   ]
  },
  {
   "cell_type": "markdown",
   "id": "bff799dd-2b03-4122-972a-c93ccec20f8a",
   "metadata": {
    "deletable": false,
    "editable": false
   },
   "source": [
    "Let's take a moment to refresh our memory on what's in this dataset. In the last lesson, we noticed that the data was stored in a JSON file (similar to a Python dictionary), and we explored the key-value pairs. This time, we're going to look at what the values in those pairs actually are."
   ]
  },
  {
   "cell_type": "code",
   "execution_count": null,
   "id": "fc31dd1f-4dea-4beb-9446-86775b9f1aee",
   "metadata": {
    "deletable": false,
    "editable": false,
    "init_cell": true
   },
   "outputs": [],
   "source": [
    "VimeoVideo(\"694058591\", h=\"8fc20629aa\", width=600)"
   ]
  },
  {
   "cell_type": "markdown",
   "id": "d821578e-5c6b-4c5d-8beb-d1904a9f2243",
   "metadata": {
    "deletable": false,
    "editable": false
   },
   "source": [
    "**Task 5.2.2:** Use the `info` method to explore `df`. What type of features does this dataset have? Which column is the target? Are there columns will missing values that we'll need to address?\n",
    "\n",
    "- [Inspect a DataFrame using the `shape`, `info`, and `head` in pandas.](../%40textbook/03-pandas-getting-started.ipynb#Inspecting-DataFrames)"
   ]
  },
  {
   "cell_type": "code",
   "execution_count": null,
   "id": "03e4b625-da67-4322-8598-4ea4e5de2896",
   "metadata": {
    "deletable": false
   },
   "outputs": [],
   "source": [
    "# Inspect DataFrame\n"
   ]
  },
  {
   "cell_type": "markdown",
   "id": "0743bccb-2695-478f-b983-3f1345013ea3",
   "metadata": {
    "deletable": false,
    "editable": false
   },
   "source": [
    "That's solid information. We know all our features are numerical and that we have missing data. But, as always, it's a good idea to do some visualizations to see if there are any interesting trends or ideas we should keep in mind while we work. First, let's take a look at how many firms are bankrupt, and how many are not."
   ]
  },
  {
   "cell_type": "code",
   "execution_count": null,
   "id": "6ac24acf-1ce9-43d0-b563-8fd530809f96",
   "metadata": {
    "deletable": false,
    "editable": false,
    "init_cell": true
   },
   "outputs": [],
   "source": [
    "VimeoVideo(\"694058537\", h=\"01caf9ae83\", width=600)"
   ]
  },
  {
   "cell_type": "markdown",
   "id": "91a64015-cca6-40e7-b236-1c38ff0354e9",
   "metadata": {
    "deletable": false,
    "editable": false
   },
   "source": [
    "**Task 5.2.3:** Create a bar chart of the value counts for the `\"bankrupt\"` column. You want to calculate the relative frequencies of the classes, not the raw count, so be sure to set the `normalize` argument to `True`.\n",
    "\n",
    "- [What's a <span id='term'>bar chart</span>?](../%40textbook/06-visualization-matplotlib.ipynb#Bar-Charts)\n",
    "- [What's a <span id='technique'>majority class</span>?](../%40textbook/14-ml-classification.ipynb#Majority-and-Minority-Classes)\n",
    "- [What's a <span id='technique'>minority class</span>?](../%40textbook/14-ml-classification.ipynb#Majority-and-Minority-Classes)\n",
    "- [What's a positive class?](../%40textbook/14-ml-classification.ipynb#Positive-and-Negative-Classes)\n",
    "- [What's a negative class?](../%40textbook/14-ml-classification.ipynb#Positive-and-Negative-Classes)\n",
    "- [<span id='technique'>Aggregate data in a Series using `value_counts` in <span id='tool'>pandas</span></span>.](../%40textbook/04-pandas-advanced.ipynb#Working-with-value_counts-in-a-Series)\n",
    "- [<span id='technique'>Create a bar chart using <span id='tool'>pandas</span></span>.](../%40textbook/07-visualization-pandas.ipynb#Bar-Charts)"
   ]
  },
  {
   "cell_type": "code",
   "execution_count": null,
   "id": "49357719-acf1-4180-8fde-8ad1b79d281b",
   "metadata": {
    "deletable": false
   },
   "outputs": [],
   "source": [
    "# Plot class balance\n"
   ]
  },
  {
   "cell_type": "markdown",
   "id": "6b4b37f1-4a10-479c-80df-d7d073d8c005",
   "metadata": {
    "deletable": false,
    "editable": false
   },
   "source": [
    "That's good news for Poland's economy! Since it looks like most of the companies in our dataset are doing all right for themselves, let's drill down a little farther. However, it also shows us that we have an imbalanced dataset, where our majority class is far bigger than our minority class.\n",
    "\n",
    "In the last lesson, we saw that there were 64 features of each company, each of which had some kind of numerical value. It might be useful to understand where the values for one of these features cluster, so let's make a boxplot to see how the values in `\"feat_27\"` are distributed."
   ]
  },
  {
   "cell_type": "code",
   "execution_count": null,
   "id": "bccc1725-792e-481a-bbb6-4e2bc7dd4046",
   "metadata": {
    "deletable": false,
    "editable": false,
    "init_cell": true
   },
   "outputs": [],
   "source": [
    "VimeoVideo(\"694058487\", h=\"6e066151d9\", width=600)"
   ]
  },
  {
   "cell_type": "markdown",
   "id": "42cbe8e8-265e-47ef-83e9-2956f6c746ff",
   "metadata": {
    "deletable": false,
    "editable": false
   },
   "source": [
    "**Task 5.2.4:** Use seaborn to create a boxplot that shows the distributions of the `\"feat_27\"` column for both groups in the `\"bankrupt\"` column. Remember to label your axes. \n",
    "\n",
    "- [What's a <span id='term'>boxplot</span>?](../%40textbook/06-visualization-matplotlib.ipynb#Boxplots)\n",
    "- [<span id='technique'>Create a boxplot using <span id='tool'>Matplotlib</span></span>.](../%40textbook/06-visualization-matplotlib.ipynb#Boxplots)"
   ]
  },
  {
   "cell_type": "code",
   "execution_count": null,
   "id": "196afdf0-15bb-48ce-8b14-dc4a660d8253",
   "metadata": {
    "deletable": false
   },
   "outputs": [],
   "source": [
    "# Create boxplot\n",
    "\n",
    "plt.xlabel(\"Bankrupt\")\n",
    "plt.ylabel(\"POA / financial expenses\")\n",
    "plt.title(\"Distribution of Profit/Expenses Ratio, by Class\");"
   ]
  },
  {
   "cell_type": "markdown",
   "id": "028779e4-1e06-440f-b12e-c1c13fcfc4eb",
   "metadata": {
    "deletable": false,
    "editable": false
   },
   "source": [
    "Why does this look so funny? Remember that boxplots exist to help us see the quartiles in a dataset, and this one doesn't really do that. Let's check the distribution of `\"feat_27\"`to see if we can figure out what's going on here."
   ]
  },
  {
   "cell_type": "code",
   "execution_count": null,
   "id": "9f635493-679e-4d48-8d68-4523ce908ef9",
   "metadata": {
    "deletable": false,
    "editable": false,
    "init_cell": true
   },
   "outputs": [],
   "source": [
    "VimeoVideo(\"694058435\", h=\"8f0ae805d6\", width=600)"
   ]
  },
  {
   "cell_type": "markdown",
   "id": "7636d728-345d-44af-986b-521d509bed52",
   "metadata": {
    "deletable": false,
    "editable": false
   },
   "source": [
    "**Task 5.2.5:** Use the `describe` method on the column for `\"feat_27\"`. What can you tell about the distribution of the data based on the mean and median?"
   ]
  },
  {
   "cell_type": "code",
   "execution_count": null,
   "id": "dd909c80-6bb1-4da3-9945-75e3c8e9a68b",
   "metadata": {
    "deletable": false
   },
   "outputs": [],
   "source": [
    "# Summary statistics for `feat_27`\n"
   ]
  },
  {
   "cell_type": "markdown",
   "id": "956e3938-f05d-4ab4-8c7c-1c128201240b",
   "metadata": {
    "deletable": false,
    "editable": false
   },
   "source": [
    "Hmmm. Note that the median is around 1, but the mean is over 1000. That suggests that this feature is skewed to the right. Let's make a histogram to see what the distribution actually looks like."
   ]
  },
  {
   "cell_type": "code",
   "execution_count": null,
   "id": "85af2af0-f048-47eb-a0be-cbdbc8cca586",
   "metadata": {
    "deletable": false,
    "editable": false,
    "init_cell": true
   },
   "outputs": [],
   "source": [
    "VimeoVideo(\"694058398\", h=\"1078bb6d8b\", width=600)"
   ]
  },
  {
   "cell_type": "markdown",
   "id": "3334b78f-c578-4fe8-867c-aaf301cf07c3",
   "metadata": {
    "deletable": false,
    "editable": false
   },
   "source": [
    "**Task 5.2.6:** Create a histogram of `\"feat_27\"`. Make sure to label x-axis `\"POA / financial expenses\"`, the y-axis `\"Count\"`, and use the title `\"Distribution of Profit/Expenses Ratio\"`.\n",
    "\n",
    "- [What's a histogram?](../%40textbook/06-visualization-matplotlib.ipynb#Histograms)\n",
    "- [Create a histogram using Matplotlib.](../%40textbook/06-visualization-matplotlib.ipynb#Histograms) "
   ]
  },
  {
   "cell_type": "code",
   "execution_count": null,
   "id": "4889da74-cb9d-4f21-a17a-823c9955fbdf",
   "metadata": {
    "deletable": false
   },
   "outputs": [],
   "source": [
    "# Plot histogram of `feat_27`\n",
    "\n",
    "plt.xlabel(\"POA / financial expenses\")\n",
    "plt.ylabel(\"Count\"),\n",
    "plt.title(\"Distribution of Profit/Expenses Ratio\");"
   ]
  },
  {
   "cell_type": "markdown",
   "id": "38583fa5-9cf8-4021-88f5-4f486c636e59",
   "metadata": {
    "deletable": false,
    "editable": false
   },
   "source": [
    "Aha! We saw it in the numbers and now we see it in the histogram. The data is very skewed. So, in order to create a helpful boxplot, we need to trim the data. "
   ]
  },
  {
   "cell_type": "code",
   "execution_count": null,
   "id": "77b8aaa6-ee87-464c-a894-8e3885000d10",
   "metadata": {
    "deletable": false,
    "editable": false,
    "init_cell": true
   },
   "outputs": [],
   "source": [
    "VimeoVideo(\"694058328\", h=\"4aecdc442d\", width=600)"
   ]
  },
  {
   "cell_type": "markdown",
   "id": "ac83aeab-48a6-4a18-9b5a-3768fd69d48f",
   "metadata": {
    "deletable": false,
    "editable": false
   },
   "source": [
    "**Task 5.2.7:** Recreate the boxplot that you made above, this time only using the values for `\"feat_27\"` that fall between the `0.1` and `0.9` quantiles for the column.\n",
    "\n",
    "- [What's a boxplot?](../%40textbook/06-visualization-matplotlib.ipynb#Boxplots)\n",
    "- [What's a quantile?](../%40textbook/05-pandas-summary-statistics.ipynb#Calculate-the-Quantiles-for-a-Series)\n",
    "- [Calculate the quantiles for a Series in pandas.](../%40textbook/05-pandas-summary-statistics.ipynb#Calculate-the-Quantiles-for-a-Series)\n",
    "- [Create a boxplot using Matplotlib.](../%40textbook/06-visualization-matplotlib.ipynb#Boxplots)"
   ]
  },
  {
   "cell_type": "code",
   "execution_count": null,
   "id": "94328747-6212-4505-9d8d-39c4b68ef126",
   "metadata": {
    "deletable": false
   },
   "outputs": [],
   "source": [
    "# Create clipped boxplot\n",
    "\n",
    "plt.xlabel(\"Bankrupt\")\n",
    "plt.ylabel(\"POA / financial expenses\")\n",
    "plt.title(\"Distribution of Profit/Expenses Ratio, by Bankruptcy Status\");"
   ]
  },
  {
   "cell_type": "markdown",
   "id": "68ad9d1b-3dc4-413e-8264-f5e2058c9c2d",
   "metadata": {
    "deletable": false,
    "editable": false
   },
   "source": [
    "That makes a lot more sense. Let's take a look at some of the other features in the dataset to see what else is out there."
   ]
  },
  {
   "cell_type": "markdown",
   "id": "460743a9-1be1-438f-a7bd-591dfafa8385",
   "metadata": {
    "deletable": false,
    "editable": false
   },
   "source": [
    "<div class=\"alert alert-info\" role=\"alert\">\n",
    "    <p><b>More context on <code>\"feat_27\"</code>:</b> <em>Profit on operating activities</em> is profit that a company makes through its \"normal\" operations. For instance, a car company profits from the sale of its cars. However, a company may have other forms of profit, such as financial investments. So a company's <em>total profit</em> may be positive even when its profit on operating activities is negative.\n",
    "    <p><em>Financial expenses</em> include things like interest due on loans, and does not include \"normal\" expenses (like the money that a car company spends on raw materials to manufacture cars). \n",
    "   </div>"
   ]
  },
  {
   "cell_type": "markdown",
   "id": "3a6390ae-0647-496c-8b45-da345b2baffc",
   "metadata": {
    "deletable": false,
    "editable": false
   },
   "source": [
    "**Task 5.2.8:** Repeat the exploration you just did for `\"feat_27\"` on two other features in the dataset. Do they show the same skewed distribution? Are there large differences between bankrupt and solvent companies?"
   ]
  },
  {
   "cell_type": "code",
   "execution_count": null,
   "id": "051b35a0",
   "metadata": {
    "deletable": false
   },
   "outputs": [],
   "source": [
    "# Explore another feature"
   ]
  },
  {
   "cell_type": "markdown",
   "id": "9bee0894-eeb3-48fa-84b9-50bb3f053c9d",
   "metadata": {
    "deletable": false,
    "editable": false
   },
   "source": [
    "Looking at other features, we can see that they're skewed, too. This will be important to keep in mind when we decide what type of model we want to use.\n",
    "\n",
    "Another important consideration for model selection is whether there are any issues with multicollinearity in our model. Let's check."
   ]
  },
  {
   "cell_type": "code",
   "execution_count": null,
   "id": "1916f298-bd7e-4a18-9b28-d9d928f5c3bd",
   "metadata": {
    "deletable": false,
    "editable": false,
    "init_cell": true
   },
   "outputs": [],
   "source": [
    "VimeoVideo(\"694058273\", h=\"85b3be2f63\", width=600)"
   ]
  },
  {
   "cell_type": "markdown",
   "id": "dac54512-c22d-475f-9fbf-c0d5ce8946da",
   "metadata": {
    "deletable": false,
    "editable": false
   },
   "source": [
    "**Task 5.2.9:** Plot a correlation heatmap of features in `df`. Since `\"bankrupt\"` will be your target, you don't need to include it in your heatmap.\n",
    "\n",
    "- [What's a <span id='term'>heatmap?](../%40textbook/09-visualization-seaborn.ipynb#Correlation-Heatmaps)\n",
    "- [<span id='technique'>Create a correlation matrix in <span id='tool'>pandas.](../%40textbook/07-visualization-pandas.ipynb#Correlation-Matrices)\n",
    "- [<span id='technique'>Create a heatmap in <span id='tool'>seaborn.](../%40textbook/09-visualization-seaborn.ipynb#Correlation-Heatmaps)"
   ]
  },
  {
   "cell_type": "code",
   "execution_count": null,
   "id": "40887a1b-bcb2-4ad2-af68-bea899d0c434",
   "metadata": {
    "deletable": false
   },
   "outputs": [],
   "source": [
    "corr = ...\n"
   ]
  },
  {
   "cell_type": "markdown",
   "id": "c87d1c97-2e52-4bfa-aa15-640dcb2bb2e0",
   "metadata": {
    "deletable": false,
    "editable": false
   },
   "source": [
    "So what did we learn from this EDA? First, our data is imbalanced. This is something we need to address in our data preparation. Second, many of our features have missing values that we'll need to impute. And since the features are highly skewed, the best imputation strategy is likely median, not mean. Finally, we have autocorrelation issues, which means that we should steer clear of linear models, and try a tree-based model instead."
   ]
  },
  {
   "cell_type": "markdown",
   "id": "2f852aed-4154-4b49-9e40-af3fb52caee0",
   "metadata": {
    "deletable": false,
    "editable": false
   },
   "source": [
    "## Split"
   ]
  },
  {
   "cell_type": "markdown",
   "id": "37fa80b9-5bf4-4ced-8c0f-050b8514e1e6",
   "metadata": {
    "deletable": false,
    "editable": false
   },
   "source": [
    "So let's start building that model. If you need a refresher on how and why we split data in these situations, take a look back at the Time Series module."
   ]
  },
  {
   "cell_type": "markdown",
   "id": "034eddda-8e40-47eb-95fe-f31d0e88b929",
   "metadata": {
    "deletable": false,
    "editable": false
   },
   "source": [
    "**Task 5.2.10:** Create your feature matrix `X` and target vector `y`. Your target is `\"bankrupt\"`. \n",
    "\n",
    "- [What's a <span id='term'>feature matrix</span>?](../%40textbook/15-ml-regression.ipynb#Linear-Regression)\n",
    "- [What's a <span id='term'>target vector</span>?](../%40textbook/15-ml-regression.ipynb#Linear-Regression)\n",
    "- [<span id='technique'>Subset a DataFrame by selecting one or more columns in <span id='tool'>pandas</span></span>.](../%40textbook/04-pandas-advanced.ipynb#Subset-a-DataFrame-by-Selecting-One-or-More-Columns) \n",
    "- [<span id='technique'>Select a Series from a DataFrame in <span id='tool'>pandas</span></span>.](../%40textbook/04-pandas-advanced.ipynb#Combine-multiple-categories-in-a-Series) "
   ]
  },
  {
   "cell_type": "code",
   "execution_count": null,
   "id": "3c1ca108-7089-45f3-8ec7-bc8e738808d9",
   "metadata": {
    "deletable": false
   },
   "outputs": [],
   "source": [
    "target = \"bankrupt\"\n",
    "X = ...\n",
    "y = ...\n",
    "\n",
    "print(\"X shape:\", X.shape)\n",
    "print(\"y shape:\", y.shape)"
   ]
  },
  {
   "cell_type": "markdown",
   "id": "0c5e37a4-6104-4422-b5ca-493eeb4fed55",
   "metadata": {
    "deletable": false,
    "editable": false
   },
   "source": [
    "In order to make sure that our model can generalize, we need to put aside a test set that we'll use to evaluate our model once it's trained. "
   ]
  },
  {
   "cell_type": "markdown",
   "id": "9500b64a-eaa5-4a89-98a4-8370717be4ff",
   "metadata": {
    "deletable": false,
    "editable": false
   },
   "source": [
    "**Task 5.2.11:** Divide your data (`X` and `y`) into training and test sets using a randomized train-test split. Your validation set should be 20% of your total data. And don't forget to set a `random_state` for reproducibility. \n",
    "\n",
    "- [<span id='technique'>Perform a randomized train-test split using <span id='tool'>scikit-learn</span></span>.](../%40textbook/14-ml-classification.ipynb#Randomized-Train-Test-split)"
   ]
  },
  {
   "cell_type": "code",
   "execution_count": null,
   "id": "4e1cb3c3-231d-47e5-9361-bec2f83ef353",
   "metadata": {
    "deletable": false
   },
   "outputs": [],
   "source": [
    "X_train, X_test, y_train, y_test = ...\n",
    "\n",
    "print(\"X_train shape:\", X_train.shape)\n",
    "print(\"y_train shape:\", y_train.shape)\n",
    "print(\"X_test shape:\", X_test.shape)\n",
    "print(\"y_test shape:\", y_test.shape)"
   ]
  },
  {
   "cell_type": "markdown",
   "id": "a24fc49d-6b3e-424d-8be2-4ff085b8c641",
   "metadata": {
    "deletable": false,
    "editable": false
   },
   "source": [
    "Note that if we wanted to tune any hyperparameters for our model, we'd do another split here, further dividing the training set into training and validation sets. However, we're going to leave hyperparameters for the next lesson, so no need to do the extra split now."
   ]
  },
  {
   "cell_type": "markdown",
   "id": "35999f04-63f3-4178-8e31-75dc45f461ba",
   "metadata": {
    "deletable": false,
    "editable": false
   },
   "source": [
    "## Resample"
   ]
  },
  {
   "cell_type": "markdown",
   "id": "5e6dab03-4e55-4d2a-a9a4-6068aa274ac6",
   "metadata": {
    "deletable": false,
    "editable": false
   },
   "source": [
    "Now that we've split our data into training and validation sets, we can address the class imbalance we saw during our EDA. One strategy is to resample the training data. (This will be different than the resampling we did with time series data in Project 3.) There are many to do this, so let's start with under-sampling."
   ]
  },
  {
   "cell_type": "code",
   "execution_count": null,
   "id": "6cf88493-1c74-4c0a-8c2e-3c91952c77f8",
   "metadata": {
    "deletable": false,
    "editable": false,
    "init_cell": true
   },
   "outputs": [],
   "source": [
    "VimeoVideo(\"694058220\", h=\"00c3a98358\", width=600)"
   ]
  },
  {
   "cell_type": "markdown",
   "id": "53713713-d9ba-4776-936a-95e327b7d202",
   "metadata": {
    "deletable": false,
    "editable": false
   },
   "source": [
    "**Task 5.2.12:** Create a new feature matrix `X_train_under` and target vector `y_train_under` by performing random under-sampling on your training data.\n",
    "\n",
    "- [What is under-sampling?](../%40textbook/13-ml-data-pre-processing-and-production.ipynb#Under-sampling)\n",
    "- [Perform random under-sampling using imbalanced-learn.](../%40textbook/13-ml-data-pre-processing-and-production.ipynb#Under-sampling)"
   ]
  },
  {
   "cell_type": "code",
   "execution_count": null,
   "id": "676afb5f-268b-4080-9825-1a4f69e7b558",
   "metadata": {
    "deletable": false
   },
   "outputs": [],
   "source": [
    "under_sampler = ...\n",
    "X_train_under, y_train_under = ...\n",
    "print(X_train_under.shape)\n",
    "X_train_under.head()"
   ]
  },
  {
   "cell_type": "markdown",
   "id": "b84cf5b1-2c98-4531-97cf-5855d778a0e8",
   "metadata": {
    "deletable": false,
    "editable": false
   },
   "source": [
    "<div class=\"alert alert-info\" role=\"alert\">\n",
    "    <b>Note:</b> Depending on the random state you set above, you may get a different  shape for <code>X_train_under</code>. Don't worry, it's normal!\n",
    "</div>"
   ]
  },
  {
   "cell_type": "markdown",
   "id": "dd0939f0-25dc-49a0-9421-f1a7de418728",
   "metadata": {
    "deletable": false,
    "editable": false
   },
   "source": [
    "And then we'll over-sample."
   ]
  },
  {
   "cell_type": "code",
   "execution_count": null,
   "id": "6b735652-e3af-4fa4-983a-c2adb3581514",
   "metadata": {
    "deletable": false,
    "editable": false,
    "init_cell": true
   },
   "outputs": [],
   "source": [
    "VimeoVideo(\"694058177\", h=\"5cef977f2d\", width=600)"
   ]
  },
  {
   "cell_type": "markdown",
   "id": "5f1a2efc-3bba-4b7a-b6bb-9dab726d7ab5",
   "metadata": {
    "deletable": false,
    "editable": false
   },
   "source": [
    "**Task 5.2.13:** Create a new feature matrix `X_train_over` and target vector `y_train_over` by performing random over-sampling on your training data.\n",
    "\n",
    "- [What is over-sampling?](../%40textbook/13-ml-data-pre-processing-and-production.ipynb#Over-sampling)\n",
    "- [Perform random over-sampling using imbalanced-learn.](../%40textbook/13-ml-data-pre-processing-and-production.ipynb#Over-sampling)"
   ]
  },
  {
   "cell_type": "code",
   "execution_count": null,
   "id": "1ddf4a38-4635-4255-ae18-d0a396d4cfa5",
   "metadata": {
    "deletable": false
   },
   "outputs": [],
   "source": [
    "over_sampler = ...\n",
    "X_train_over, y_train_over = ...\n",
    "print(X_train_over.shape)\n",
    "X_train_over.head()"
   ]
  },
  {
   "cell_type": "markdown",
   "id": "d18094c9-d024-4570-ba60-e3c820ec7f66",
   "metadata": {
    "deletable": false,
    "editable": false
   },
   "source": [
    "# Build Model"
   ]
  },
  {
   "cell_type": "markdown",
   "id": "b093e0e2-1044-4969-81e4-05c1c6276a26",
   "metadata": {
    "deletable": false,
    "editable": false
   },
   "source": [
    "## Baseline"
   ]
  },
  {
   "cell_type": "markdown",
   "id": "751a3ea4-e345-4a9d-b942-ec438dc3d76e",
   "metadata": {
    "deletable": false,
    "editable": false
   },
   "source": [
    "As always, we need to establish the baseline for our model. Since this is a classification problem, we'll use accuracy score."
   ]
  },
  {
   "cell_type": "code",
   "execution_count": null,
   "id": "5d0bedaa-0569-4326-ae97-3a036995d52a",
   "metadata": {
    "deletable": false,
    "editable": false,
    "init_cell": true
   },
   "outputs": [],
   "source": [
    "VimeoVideo(\"694058140\", h=\"7ae111412f\", width=600)"
   ]
  },
  {
   "cell_type": "markdown",
   "id": "f18915ca-86cf-46b8-91e5-0afbcbceb842",
   "metadata": {
    "deletable": false,
    "editable": false
   },
   "source": [
    "**Task 5.2.14:** Calculate the baseline accuracy score for your model.\n",
    "\n",
    "- [What's <span id='tool'>accuracy score</span>?](../%40textbook/14-ml-classification.ipynb#Calculating-Accuracy-Score)\n",
    "- [<span id='technique'>Aggregate data in a Series using `value_counts` in <span id='tool'>pandas</span></span>.](../%40textbook/04-pandas-advanced.ipynb#Working-with-value_counts-in-a-Series)"
   ]
  },
  {
   "cell_type": "code",
   "execution_count": null,
   "id": "2f2897bc-04b0-476b-b97d-d219f274a645",
   "metadata": {
    "deletable": false
   },
   "outputs": [],
   "source": [
    "acc_baseline = ...\n",
    "print(\"Baseline Accuracy:\", round(acc_baseline, 4))"
   ]
  },
  {
   "cell_type": "markdown",
   "id": "e65e1626-f07b-4c5f-8aa8-bce7a3222926",
   "metadata": {
    "deletable": false,
    "editable": false
   },
   "source": [
    "Note here that, because our classes are imbalanced, the baseline accuracy is very high. We should keep this in mind because, even if our trained model gets a high validation accuracy score, that doesn't mean it's actually *good.* "
   ]
  },
  {
   "cell_type": "markdown",
   "id": "a0b46478-78d8-4183-b990-fc264ef9a68b",
   "metadata": {
    "deletable": false,
    "editable": false
   },
   "source": [
    "## Iterate"
   ]
  },
  {
   "cell_type": "markdown",
   "id": "7596eb36-4b1a-4140-863e-e4ba5155d33c",
   "metadata": {
    "deletable": false,
    "editable": false
   },
   "source": [
    "Now that we have a baseline, let's build a model to see if we can beat it."
   ]
  },
  {
   "cell_type": "code",
   "execution_count": null,
   "id": "0f46d66f-4342-49af-b4d1-24ced1b80c3f",
   "metadata": {
    "deletable": false,
    "editable": false,
    "init_cell": true
   },
   "outputs": [],
   "source": [
    "VimeoVideo(\"694058110\", h=\"dc751751bf\", width=600)"
   ]
  },
  {
   "cell_type": "markdown",
   "id": "892cf7eb-cc7d-4aec-9903-06ddd45e3638",
   "metadata": {
    "deletable": false,
    "editable": false
   },
   "source": [
    "**Task 5.2.15:** Create three identical models: `model_reg`, `model_under` and `model_over`. All of them should use a `SimpleImputer` followed by a `DecisionTreeClassifier`. Train `model_reg` using the unaltered training data. For `model_under`, use the undersampled data. For `model_over`, use the oversampled data.\n",
    "\n",
    "- [What's a <span id='term'>decision tree</span>?](../%40textbook/14-ml-classification.ipynb#Decision-Trees)\n",
    "- [What's imputation?](../%40textbook/12-ml-core.ipynb#Imputation) \n",
    "- [<span id='technique'>Create a pipeline in <span id='tool'>scikit-learn</span></span>.](../%40textbook/13-ml-data-pre-processing-and-production.ipynb#Creating-a-Pipeline-in-scikit-learn)\n",
    "- [<span id='technique'>Fit a model to training data in <span id='tool'>scikit-learn</span></span>.](../%40textbook/15-ml-regression.ipynb#Fitting-a-Model-to-Training-Data)"
   ]
  },
  {
   "cell_type": "code",
   "execution_count": null,
   "id": "4ff60fd6-184c-4c3c-88e2-11589d212859",
   "metadata": {
    "deletable": false
   },
   "outputs": [],
   "source": [
    "# Fit on `X_train`, `y_train`\n",
    "model_reg = ...\n",
    "model_reg.fit(..., ...)\n",
    "\n",
    "# Fit on `X_train_under`, `y_train_under`\n",
    "model_under = ...\n",
    "model_under.fit(..., ...)\n",
    "\n",
    "# Fit on `X_train_over`, `y_train_over`\n",
    "model_over = ...\n",
    "model_over.fit(..., ...)"
   ]
  },
  {
   "cell_type": "markdown",
   "id": "596ba5e3-c366-44ef-ac73-9f853fb0bbd2",
   "metadata": {
    "deletable": false,
    "editable": false
   },
   "source": [
    "## Evaluate"
   ]
  },
  {
   "cell_type": "markdown",
   "id": "a03c9432-c519-4d27-a517-d3805771a482",
   "metadata": {
    "deletable": false,
    "editable": false
   },
   "source": [
    "How did we do?"
   ]
  },
  {
   "cell_type": "code",
   "execution_count": null,
   "id": "dc37b9e4-be81-4edb-9ccc-18bfae4e85d9",
   "metadata": {
    "deletable": false,
    "editable": false,
    "init_cell": true
   },
   "outputs": [],
   "source": [
    "VimeoVideo(\"694058076\", h=\"d57fb27d07\", width=600)"
   ]
  },
  {
   "cell_type": "markdown",
   "id": "3b127381-5f48-4ba9-88a6-80191e24e374",
   "metadata": {
    "deletable": false,
    "editable": false
   },
   "source": [
    "**Task 5.2.16:** Calculate training and test accuracy for your three models. \n",
    "\n",
    "- [What's an accuracy score?](../%40textbook/14-ml-classification.ipynb#Evaluation)\n",
    "- [Calculate the accuracy score for a model in scikit-learn.](../%40textbook/14-ml-classification.ipynb#Evaluation)"
   ]
  },
  {
   "cell_type": "code",
   "execution_count": null,
   "id": "c0ca1a2b-e958-4520-8665-d40f22f07390",
   "metadata": {
    "deletable": false
   },
   "outputs": [],
   "source": [
    "for m in [model_reg, model_under, model_over]:\n",
    "    acc_train = ...\n",
    "    acc_test = ...\n",
    "\n",
    "    print(\"Training Accuracy:\", round(acc_train, 4))\n",
    "    print(\"Test Accuracy:\", round(acc_test, 4))"
   ]
  },
  {
   "cell_type": "markdown",
   "id": "8f554cac-2023-4940-ace4-03ff0d80b4b8",
   "metadata": {
    "deletable": false,
    "editable": false
   },
   "source": [
    "As we mentioned earlier, \"good\" accuracy scores don't tell us much about the model's performance when dealing with imbalanced data. So instead of looking at what the model got right or wrong, let's see how its predictions differ for the two classes in the dataset."
   ]
  },
  {
   "cell_type": "code",
   "execution_count": null,
   "id": "c1fbb0b3-0552-4a8a-8096-da9844cff6e3",
   "metadata": {
    "deletable": false,
    "editable": false,
    "init_cell": true
   },
   "outputs": [],
   "source": [
    "VimeoVideo(\"694058022\", h=\"ce29f57dee\", width=600)"
   ]
  },
  {
   "cell_type": "markdown",
   "id": "2a281947-e846-4173-81c2-40dbbc944bf0",
   "metadata": {
    "deletable": false,
    "editable": false
   },
   "source": [
    "**Task 5.2.17:** Plot a confusion matrix that shows how your best model performs on your validation set. \n",
    "\n",
    "- [What's a confusion matrix?](../%40textbook/14-ml-classification.ipynb#Confusion-Matrix)\n",
    "- [Create a confusion matrix using scikit-learn.](../%40textbook/14-ml-classification.ipynb#Confusion-Matrix) "
   ]
  },
  {
   "cell_type": "code",
   "execution_count": null,
   "id": "f47c811c-58bb-433f-8af5-742b2188fddf",
   "metadata": {
    "deletable": false
   },
   "outputs": [],
   "source": [
    "# Plot confusion matrix\n"
   ]
  },
  {
   "cell_type": "markdown",
   "id": "4d23026f-9d8d-4e0d-a93c-9f8599af6d27",
   "metadata": {
    "deletable": false,
    "editable": false
   },
   "source": [
    "In this lesson, we didn't do any hyperparameter tuning, but it will be helpful in the next lesson to know what the depth of the tree `model_over`."
   ]
  },
  {
   "cell_type": "code",
   "execution_count": null,
   "id": "6c483996-2a99-4197-a850-42f9308c7c54",
   "metadata": {
    "deletable": false,
    "editable": false,
    "init_cell": true
   },
   "outputs": [],
   "source": [
    "VimeoVideo(\"694057996\", h=\"73882663cf\", width=600)"
   ]
  },
  {
   "cell_type": "markdown",
   "id": "f982fbc2-2802-4e26-9ac4-0477b2511db8",
   "metadata": {
    "deletable": false,
    "editable": false
   },
   "source": [
    "**Task 5.2.18:** Determine the depth of the decision tree in `model_over`.\n",
    "\n",
    "- [What's a decision tree?](../%40textbook/14-ml-classification.ipynb#Decision-Trees)\n",
    "- [Access an object in a pipeline in scikit-learn.](../%40textbook/13-ml-data-pre-processing-and-production.ipynb#Accessing-an-Object-in-a-Pipeline)"
   ]
  },
  {
   "cell_type": "code",
   "execution_count": null,
   "id": "408b3f41-3444-4515-83d3-0c5fd36483b3",
   "metadata": {
    "deletable": false
   },
   "outputs": [],
   "source": [
    "depth = ...\n",
    "print(depth)"
   ]
  },
  {
   "cell_type": "markdown",
   "id": "b0131cd6-b7e6-4ff1-afb1-6913f2dc1a60",
   "metadata": {
    "deletable": false,
    "editable": false
   },
   "source": [
    "# Communicate"
   ]
  },
  {
   "cell_type": "markdown",
   "id": "df2beac9-6df5-4c38-9dfc-3992c50affdf",
   "metadata": {
    "deletable": false,
    "editable": false
   },
   "source": [
    "Now that we have a reasonable model, let's graph the importance of each feature."
   ]
  },
  {
   "cell_type": "code",
   "execution_count": null,
   "id": "529b15f9-1169-41df-870f-282cb472596e",
   "metadata": {
    "deletable": false,
    "editable": false,
    "init_cell": true
   },
   "outputs": [],
   "source": [
    "VimeoVideo(\"694057962\", h=\"f60aa3b614\", width=600)"
   ]
  },
  {
   "cell_type": "markdown",
   "id": "60b7a603-a3f4-4c95-a514-8c61d9feb2bf",
   "metadata": {
    "deletable": false,
    "editable": false
   },
   "source": [
    "**Task 5.2.19:** Create a horizontal bar chart with the 15 most important features for `model_over`. Be sure to label your x-axis `\"Gini Importance\"`.\n",
    "\n",
    "- [What's a <span id='term'>bar chart</span>?](../%40textbook/07-visualization-pandas.ipynb#Bar-Charts)\n",
    "- [<span id='technique'>Access an object in a pipeline in <span id='tool'>scikit-learn</span></span>.](../%40textbook/13-ml-data-pre-processing-and-production.ipynb#Accessing-an-Object-in-a-Pipeline)\n",
    "- [<span id='technique'>Create a bar chart using <span id='tool'>pandas</span></span>.](../%40textbook/07-visualization-pandas.ipynb#Bar-Charts)\n",
    "- [<span id='technique'>Create a Series in <span id='tool'>pandas</span></span>.](../%40textbook/03-pandas-getting-started.ipynb#Adding-Columns)"
   ]
  },
  {
   "cell_type": "code",
   "execution_count": null,
   "id": "8275986a-74d1-44d0-80c9-d1cab4183da6",
   "metadata": {
    "deletable": false
   },
   "outputs": [],
   "source": [
    "# Get importances\n",
    "importances = ...\n",
    "\n",
    "# Put importances into a Series\n",
    "feat_imp = ...\n",
    "\n",
    "# Plot series\n",
    "\n",
    "plt.xlabel(\"Gini Importance\")\n",
    "plt.ylabel(\"Feature\")\n",
    "plt.title(\"model_over Feature Importance\");"
   ]
  },
  {
   "cell_type": "markdown",
   "id": "abc81c45-5048-471f-a8cd-37749bd0052e",
   "metadata": {
    "deletable": false,
    "editable": false
   },
   "source": [
    "There's our old friend `\"feat_27\"` near the top, along with features 34 and 26. It's time to share our findings.\n",
    "\n",
    "Sometimes communication means sharing a visualization. Other times, it means sharing the actual model you've made so that colleagues can use it on new data or deploy your model into production. First step towards production: saving your model."
   ]
  },
  {
   "cell_type": "code",
   "execution_count": null,
   "id": "55ca1eb8-dec7-43d6-94cd-680035d111d5",
   "metadata": {
    "deletable": false,
    "editable": false,
    "init_cell": true
   },
   "outputs": [],
   "source": [
    "VimeoVideo(\"694057923\", h=\"85a50bb588\", width=600)"
   ]
  },
  {
   "cell_type": "markdown",
   "id": "2dfbb91b-9608-49a7-af74-da68695e9341",
   "metadata": {
    "deletable": false,
    "editable": false
   },
   "source": [
    "**Task 5.2.20:** Using a context manager, save your best-performing model to a a file named `\"model-5-2.pkl\"`. \n",
    "\n",
    "- [What's serialization?](../%40textbook/03-pandas-getting-started.ipynb#Pickle-Files)\n",
    "- [Store a Python object as a serialized file using pickle.](../%40textbook/03-pandas-getting-started.ipynb#Pickle-Files) "
   ]
  },
  {
   "cell_type": "code",
   "execution_count": null,
   "id": "4b4409a0-249f-4a70-b356-2fdd83d501f9",
   "metadata": {
    "deletable": false
   },
   "outputs": [],
   "source": [
    "# Save your model as `\"model-5-2.pkl\"`\n"
   ]
  },
  {
   "cell_type": "code",
   "execution_count": null,
   "id": "966dbb0d-29fd-45c1-af6d-102d5e0826f8",
   "metadata": {
    "deletable": false,
    "editable": false,
    "init_cell": true
   },
   "outputs": [],
   "source": [
    "VimeoVideo(\"694057859\", h=\"fecd8f9e54\", width=600)"
   ]
  },
  {
   "cell_type": "markdown",
   "id": "1185a161-dc20-47a6-a8bc-0195793b746b",
   "metadata": {
    "deletable": false,
    "editable": false
   },
   "source": [
    "**Task 5.2.21:** Make sure you've saved your model correctly by loading `\"model-5-2.pkl\"` and assigning to the variable `loaded_model`. Once you're satisfied with the result, run the last cell to submit your model to the grader. \n",
    "\n",
    "- [Load a Python object from a serialized file using pickle.](../%40textbook/03-pandas-getting-started.ipynb#Pickle-Files)"
   ]
  },
  {
   "cell_type": "code",
   "execution_count": null,
   "id": "7b8b2502-6b8e-442f-9a4b-f9aa14563954",
   "metadata": {
    "deletable": false
   },
   "outputs": [],
   "source": [
    "# Load `\"model-5-2.pkl\"`\n",
    "\n",
    "print(loaded_model)"
   ]
  },
  {
   "cell_type": "code",
   "execution_count": null,
   "id": "18c954f3-4ba2-4c1f-a77b-71f90c5431c8",
   "metadata": {
    "deletable": false,
    "editable": false
   },
   "outputs": [],
   "source": [
    "with open(\"model-5-2.pkl\", \"rb\") as f:\n",
    "    loaded_model = pickle.load(f)\n",
    "    wqet_grader.grade(\n",
    "        \"Project 5 Assessment\",\n",
    "        \"Task 5.2.16\",\n",
    "        loaded_model,\n",
    "    )"
   ]
  },
  {
   "cell_type": "markdown",
   "id": "03a89dc7",
   "metadata": {
    "deletable": false,
    "editable": false
   },
   "source": [
    "---\n",
    "Copyright © 2022 WorldQuant University. This\n",
    "content is licensed solely for personal use. Redistribution or\n",
    "publication of this material is strictly prohibited.\n"
   ]
  }
 ],
 "metadata": {
  "kernelspec": {
   "display_name": "Python 3 (ipykernel)",
   "language": "python",
   "name": "python3"
  },
  "language_info": {
   "codemirror_mode": {
    "name": "ipython",
    "version": 3
   },
   "file_extension": ".py",
   "mimetype": "text/x-python",
   "name": "python",
   "nbconvert_exporter": "python",
   "pygments_lexer": "ipython3",
   "version": "3.9.6"
  }
 },
 "nbformat": 4,
 "nbformat_minor": 5
}
