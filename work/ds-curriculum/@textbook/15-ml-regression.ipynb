{
 "cells": [
  {
   "cell_type": "markdown",
   "id": "bc5fd3c6-b00c-4289-9376-b81ff2f3385e",
   "metadata": {
    "deletable": false,
    "editable": false
   },
   "source": [
    "<font size=\"+3\"><strong>Machine Learning: Linear Regression</strong></font>"
   ]
  },
  {
   "cell_type": "markdown",
   "id": "0211eda8-af06-4201-b1c4-f9526948c4d3",
   "metadata": {
    "deletable": false,
    "editable": false
   },
   "source": [
    "# Linear Regression"
   ]
  },
  {
   "cell_type": "code",
   "execution_count": null,
   "id": "0099293b-4988-4346-b8d0-6e94dbaff74b",
   "metadata": {
    "deletable": false
   },
   "outputs": [],
   "source": [
    "from IPython.display import YouTubeVideo"
   ]
  },
  {
   "cell_type": "markdown",
   "id": "a011996c-7b8c-4e68-9df6-d001a1d0bf3f",
   "metadata": {
    "deletable": false,
    "editable": false
   },
   "source": [
    "In machine learning, a **regression** problem is when you need to build a model that's going to predict a continuous, numerical value, like the sale price of an apartment. One of the models that you can use for regression problems is called **linear regression**. In it's simplest form, we fit a model that will predict a single output variable (called a **target vector**) as a linear function of a single input variable (called a **feature matrix**). \n",
    "\n",
    "Speaking mathematically, if we have input data points $x$ and corresponding measured output $y$, then we find parameters $m$ and $b$ such that $y \\approx m\\times x + b$ for our measured data points.  We then use the fitted values of $m$ and $b$ to predict values of $y$ for new values of $x$."
   ]
  },
  {
   "cell_type": "markdown",
   "id": "d51d8bb6-31fb-460a-a89f-d21624e5b7b8",
   "metadata": {
    "deletable": false,
    "editable": false
   },
   "source": [
    "## Fitting a Model to Training Data"
   ]
  },
  {
   "cell_type": "markdown",
   "id": "16c0cd85-cb66-430c-ba0e-fc4a4e0af2c7",
   "metadata": {
    "deletable": false,
    "editable": false
   },
   "source": [
    "You'll work on two cases: a model on the raw data set and a model on transformed data. First try to use linear regression to predict `price_aprox_usd` as a multiple of `surface_covered_in_m2` and the addition of a constant for the `mexico-city-real-estate-1.csv` dataset."
   ]
  },
  {
   "cell_type": "code",
   "execution_count": null,
   "id": "570fb3bc-6825-4496-9034-6a407089b76e",
   "metadata": {
    "deletable": false
   },
   "outputs": [],
   "source": [
    "import pandas as pd\n",
    "from sklearn.linear_model import LinearRegression\n",
    "\n",
    "# Import data\n",
    "columns = [\"surface_covered_in_m2\", \"price_aprox_usd\"]\n",
    "mexico_city1 = pd.read_csv(\"./data/mexico-city-real-estate-1.csv\", usecols=columns)\n",
    "\n",
    "# Drop rows with missing values\n",
    "# (or you could use an imputer ☝️)\n",
    "mexico_city1.dropna(inplace=True)\n",
    "\n",
    "# Split data into feature matrix\n",
    "X = mexico_city1[[\"surface_covered_in_m2\"]]\n",
    "y = mexico_city1[\"price_aprox_usd\"]\n",
    "\n",
    "# Instantiate predictor\n",
    "lr = LinearRegression()\n",
    "\n",
    "# Fit predictor to data\n",
    "lr.fit(X, y)"
   ]
  },
  {
   "cell_type": "markdown",
   "id": "a6e689ac-ea7a-4cc6-8810-9a65c1da6ca3",
   "metadata": {
    "deletable": false,
    "editable": false
   },
   "source": [
    "<font size=\"+1\">Practice</font> \n",
    "\n",
    "Fit a linear regression model to the `mexico-city-real-estate-2.csv` data set to relate `\"price_aprox_usd\"` and `\"surface_covered_in_m2\"`."
   ]
  },
  {
   "cell_type": "code",
   "execution_count": null,
   "id": "674185fc-1b78-43fc-a035-94eb32748e91",
   "metadata": {
    "deletable": false
   },
   "outputs": [],
   "source": [
    "# Import data\n",
    "columns = [\"price_aprox_usd\", \"surface_covered_in_m2\"]\n",
    "mexico_city2 = ...\n",
    "# Drop rows with missing values\n",
    "\n",
    "\n",
    "# Split data into feature matrix\n",
    "X = ...\n",
    "y = ...\n",
    "\n",
    "# Instantiate predictor\n",
    "lr = ...\n",
    "\n",
    "# Fit predictor to data\n"
   ]
  },
  {
   "cell_type": "markdown",
   "id": "654cfb86-5790-408c-b543-90e5f381ddf9",
   "metadata": {
    "deletable": false,
    "editable": false
   },
   "source": [
    "## Generating Predictions Using a Trained Model"
   ]
  },
  {
   "cell_type": "markdown",
   "id": "55d0b5e8-ccd2-4c94-9858-35fb97ca43ca",
   "metadata": {
    "deletable": false,
    "editable": false
   },
   "source": [
    "After fitting the model, we want to use it to make predictions. In most applications, you'll want to predict an unknown quantity from data that's different from the data you've fitted our model on. To test the accuracy of your fitted model, you'll typically use a different set of data with an outcome you already know. Here, we'll use the dataset from `mexico-city-test-features.csv` and `mexico-city-test-labels.csv`.  It's also helpful to plot the data and predicted data to see if there are any patterns that suggest fitting a different model."
   ]
  },
  {
   "cell_type": "code",
   "execution_count": null,
   "id": "4a4913ee-544f-45f2-b81f-c39c5d2d425b",
   "metadata": {
    "deletable": false
   },
   "outputs": [],
   "source": [
    "# Import data\n",
    "mexico_city_features = pd.read_csv(\n",
    "    \"./data/mexico-city-test-features.csv\", usecols=[\"surface_covered_in_m2\"]\n",
    ")\n",
    "mexico_city_labels = pd.read_csv(\"./data/mexico-city-test-labels.csv\")\n",
    "\n",
    "# Drop missing values\n",
    "mexico_city_features.dropna(inplace=True)\n",
    "\n",
    "# Generate predictions\n",
    "price_pred_example = lr.predict(mexico_city_features)\n",
    "\n",
    "# Print predictions\n",
    "price_pred_example[:5]"
   ]
  },
  {
   "cell_type": "markdown",
   "id": "0b75c2b4-48e8-4422-a269-a34af0977dea",
   "metadata": {
    "deletable": false,
    "editable": false
   },
   "source": [
    "<font size=\"+1\">Practice</font> \n",
    "\n",
    "Read the data from `mexico-city-real-estate-4.csv` into a DataFrame and then generate a list of price predictions for the properties using your model `lr`."
   ]
  },
  {
   "cell_type": "code",
   "execution_count": null,
   "id": "8ef4e428-b06b-4686-a2c8-ebdf0572cda4",
   "metadata": {
    "deletable": false
   },
   "outputs": [],
   "source": [
    "# Import data\n",
    "mexico_city4 = ...\n",
    "\n",
    "# Drop missing values\n",
    "mexico_city4.dropna(inplace=True)\n",
    "\n",
    "# Generate predictions\n",
    "price_pred = ...\n",
    "\n",
    "# Print predictions\n",
    "price_pred[:5]"
   ]
  },
  {
   "cell_type": "markdown",
   "id": "e4dfeac4-9f63-4cba-919d-db4ee972b509",
   "metadata": {
    "deletable": false,
    "editable": false
   },
   "source": [
    "## Ridge Regression\n",
    "Sometimes,the values for coefficients and the intercept - both positive and negative - are very large. When you see this in a linear model — especially a high-dimensional model — what's happening is that the model is **overfitting** to the training data and then can't generalize to the test data. Some people call this the **curse of dimensionality**. ☠️\n",
    "\n",
    "The way to solve this problem is to use **regularization**, a group of techniques that prevent overfitting. In this case, we'll change the predictor from `LinearRegression` to `Ridge`, which is a linear regressor with an added tool for keeping model coefficients from getting too big.\n",
    "\n",
    "Here's a good explanation of what a ridge regression is and why it's important:"
   ]
  },
  {
   "cell_type": "code",
   "execution_count": null,
   "id": "e597f297-2c6a-493e-8531-010ca8cf8a52",
   "metadata": {
    "deletable": false
   },
   "outputs": [],
   "source": [
    "YouTubeVideo(\"Q81RR3yKn30\")"
   ]
  },
  {
   "cell_type": "markdown",
   "id": "f8128931-6d02-4ae6-a5d4-f8230b51d91e",
   "metadata": {
    "deletable": false,
    "editable": false
   },
   "source": [
    "## Generalization"
   ]
  },
  {
   "cell_type": "markdown",
   "id": "7f23bd28-5c69-4f0d-b9aa-f424f6d37cb0",
   "metadata": {
    "deletable": false,
    "editable": false
   },
   "source": [
    "Notice that we tested the model with a dataset that's *different* from the one we used to train the model. Machine learning models are useful if they allow you to make predictions about data other than what you used to train your model. We call this concept **generalization**.  By testing your model with different data than you used to train it, you're checking to see if your model can generalize.  Most machine learning models do not generalize to all possible types of input data, so they should be used with care. On the other hand, machine learning models that don't generalize to make predictions for at least a restricted set of data aren't very useful."
   ]
  },
  {
   "cell_type": "markdown",
   "id": "6f458338-32b5-4c8b-9d97-df2bc24bbc24",
   "metadata": {
    "deletable": false,
    "editable": false
   },
   "source": [
    "## Calculating the Mean Absolute Error for a List of Predictions"
   ]
  },
  {
   "cell_type": "markdown",
   "id": "acf81008-e213-40a4-b406-dcbb7a5c1bb8",
   "metadata": {
    "deletable": false,
    "editable": false
   },
   "source": [
    "Plots are great for displaying information, but a value that tells you the typical error in a prediction is helpful too. This value is called the **mean absolute error**, and it's defined as the average value of the magnitude of the error in the predictions. The closer the MAE is to `0`, the better our model fits the data. scikit-learn will do this for you if you pass it the price predictions from your regression model and the actual prices from the test data set. Let's see how our `lr` model did by comparing its predictions to the true values in `mexico_city_labels`."
   ]
  },
  {
   "cell_type": "code",
   "execution_count": null,
   "id": "85541b94-dc52-4aba-b57c-f7783b5b7b8d",
   "metadata": {
    "deletable": false
   },
   "outputs": [],
   "source": [
    "from sklearn.metrics import mean_absolute_error\n",
    "\n",
    "mean_absolute_error(price_pred_example, mexico_city_labels)"
   ]
  },
  {
   "cell_type": "markdown",
   "id": "0dd2af3d-194a-49da-b91d-fd96322a2d5c",
   "metadata": {
    "deletable": false,
    "editable": false
   },
   "source": [
    "## Access an Attribute of a Trained Model"
   ]
  },
  {
   "cell_type": "markdown",
   "id": "07825362-5b7f-4ba7-889b-53d27f1b809f",
   "metadata": {
    "deletable": false,
    "editable": false
   },
   "source": [
    "After training a model that fits a straight line to your data, you can now obtain the parameters that fit your line. We're particularly interested in the slope `regr_lr.coef_` and the axis intercept `regr_lr.intercept_`"
   ]
  },
  {
   "cell_type": "code",
   "execution_count": null,
   "id": "e7800b6d-0798-4314-81a9-063aedd8133b",
   "metadata": {
    "deletable": false
   },
   "outputs": [],
   "source": [
    "print(lr.coef_)"
   ]
  },
  {
   "cell_type": "code",
   "execution_count": null,
   "id": "eee3dcca-19b0-4a1b-bb6b-67167804d7bb",
   "metadata": {
    "deletable": false
   },
   "outputs": [],
   "source": [
    "print(lr.intercept_)"
   ]
  },
  {
   "cell_type": "markdown",
   "id": "2c33ecbb-9bc1-4b72-b3ff-ebcb1ad420b5",
   "metadata": {
    "deletable": false,
    "editable": false
   },
   "source": [
    "## Multicollinearity"
   ]
  },
  {
   "cell_type": "markdown",
   "id": "56ab838f-490d-44d4-8c87-05e85ce84e99",
   "metadata": {
    "deletable": false,
    "editable": false
   },
   "source": [
    "When you're creating a linear model that uses many features to make predictions, some of those features can be highly correlated with each other. This isn't a problem that's going to break your model; it will still make predictions and it might have good performance metrics. But it is an issue if you want to interpret the coefficients for your model because it becomes hard to tell which features are truly important. \n",
    "\n",
    "Let's look at `mexico-city-real-estate-1.csv` for an example. First we'll import the data."
   ]
  },
  {
   "cell_type": "code",
   "execution_count": null,
   "id": "70bc0ef8-5ea7-4257-b387-7df724789f5d",
   "metadata": {
    "deletable": false
   },
   "outputs": [],
   "source": [
    "import pandas as pd\n",
    "from sklearn.linear_model import LinearRegression\n",
    "\n",
    "# Import data\n",
    "columns = [\n",
    "    \"price\",\n",
    "    \"price_aprox_local_currency\",\n",
    "    \"price_aprox_usd\",\n",
    "    \"surface_total_in_m2\",\n",
    "    \"surface_covered_in_m2\",\n",
    "    \"price_per_m2\",\n",
    "]\n",
    "mexico_city1 = pd.read_csv(\"./data/mexico-city-real-estate-1.csv\", usecols=columns)\n",
    "\n",
    "# Drop missing values\n",
    "mexico_city1.dropna(inplace=True)\n",
    "\n",
    "mexico_city1.head()"
   ]
  },
  {
   "cell_type": "markdown",
   "id": "6d26856d-f935-4f41-8359-5150f0740c96",
   "metadata": {
    "deletable": false,
    "editable": false
   },
   "source": [
    "Now let's find the correlations between the columns."
   ]
  },
  {
   "cell_type": "code",
   "execution_count": null,
   "id": "f7e50453-3a3b-49d2-9ec0-7b583d23a5fe",
   "metadata": {
    "deletable": false
   },
   "outputs": [],
   "source": [
    "mexico_city1.corr()"
   ]
  },
  {
   "cell_type": "markdown",
   "id": "5c96fbaa-dc54-42d3-8789-ca236e4bed96",
   "metadata": {
    "deletable": false,
    "editable": false
   },
   "source": [
    "Let's see what happens when we fit a linear regression model for `surface_covered_in_m2` as a function of `price_aprox_usd` and `price_aprox_local_currency`."
   ]
  },
  {
   "cell_type": "code",
   "execution_count": null,
   "id": "a23285ee-a27f-4689-9aeb-4abbe0457a72",
   "metadata": {
    "deletable": false
   },
   "outputs": [],
   "source": [
    "lr = LinearRegression()\n",
    "lr.fit(\n",
    "    mexico_city1[[\"price_aprox_usd\", \"price_aprox_local_currency\"]],\n",
    "    mexico_city1[\"surface_covered_in_m2\"],\n",
    ")"
   ]
  },
  {
   "cell_type": "markdown",
   "id": "6ef94769-943b-42a8-8ae8-32e0cd1a533a",
   "metadata": {
    "deletable": false,
    "editable": false
   },
   "source": [
    "Let's take a look at the coefficients of the model:"
   ]
  },
  {
   "cell_type": "code",
   "execution_count": null,
   "id": "8bb40ada-e4f3-42fa-8694-e7b64f48adeb",
   "metadata": {
    "deletable": false
   },
   "outputs": [],
   "source": [
    "print(lr.coef_)"
   ]
  },
  {
   "cell_type": "markdown",
   "id": "b6c2d684-f585-4f41-909b-e77840050a36",
   "metadata": {
    "deletable": false,
    "editable": false
   },
   "source": [
    "Ask yourself: Does it make sense that increasing the price of a property by one US dollar would translate to a 6593 m<sup>2</sup> increase in size? Perhaps, though it seems unlikely. And does it make sense that increasing the price by one Mexican peso would translate to a 350 m<sup>2</sup> *decrease* in size? Definitely not. So while this model may perform well when we evaluate it using metrics like mean absolute error, we can't use it to determine which features actually our target."
   ]
  },
  {
   "cell_type": "markdown",
   "id": "011baf79-dca7-4c60-89e0-8ebbace371d3",
   "metadata": {
    "deletable": false,
    "editable": false
   },
   "source": [
    "*References & Further Reading*\n",
    "\n",
    "- [A primer on linear regression](https://medium.com/data-science-group-iitr/linear-regression-back-to-basics-e4819829d78b)\n",
    "- [More on resampling from the pandas documentation](https://pandas.pydata.org/docs/reference/api/pandas.DataFrame.resample.html)\n",
    "- [More information on rolling averages](https://www.statisticshowto.com/probability-and-statistics/statistics-definitions/moving-average/)\n",
    "- [More on absolute and mean absolute errors](https://www.statisticshowto.com/absolute-error/)\n",
    "- [A discussion of the various uses of model fitting in machine learning](https://www.datarobot.com/wiki/fitting/)\n",
    "- [Wikipedia Page on Multicollinearity](https://en.wikipedia.org/wiki/Multicollinearity)\n",
    "- [Online Article on Multicollinearity](https://www.analyticsvidhya.com/blog/2020/03/what-is-multicollinearity/)\n",
    "- [Wikipedia Article on Generalization](https://en.wikipedia.org/wiki/Generalization_error)\n",
    "- [Online Tutorial on Regression with scikit-learn](https://stackabuse.com/linear-regression-in-python-with-scikit-learn/)\n",
    "- [Official scikit-learn Documentation on Linear Models](https://scikit-learn.org/stable/auto_examples/linear_model/plot_ols.html)\n",
    "- [Wikipedia Article on Logarithm Function](https://en.wikipedia.org/wiki/Logarithm)"
   ]
  },
  {
   "cell_type": "markdown",
   "id": "3bf68be3-eeb3-443f-958f-d706a174dbe0",
   "metadata": {
    "deletable": false,
    "editable": false
   },
   "source": [
    "---\n",
    "Copyright © 2022 WorldQuant University. This\n",
    "content is licensed solely for personal use. Redistribution or\n",
    "publication of this material is strictly prohibited.\n"
   ]
  }
 ],
 "metadata": {
  "kernelspec": {
   "display_name": "Python 3 (ipykernel)",
   "language": "python",
   "name": "python3"
  },
  "language_info": {
   "codemirror_mode": {
    "name": "ipython",
    "version": 3
   },
   "file_extension": ".py",
   "mimetype": "text/x-python",
   "name": "python",
   "nbconvert_exporter": "python",
   "pygments_lexer": "ipython3",
   "version": "3.9.6"
  }
 },
 "nbformat": 4,
 "nbformat_minor": 5
}
