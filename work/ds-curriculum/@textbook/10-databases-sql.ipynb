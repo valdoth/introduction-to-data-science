{
 "cells": [
  {
   "cell_type": "markdown",
   "id": "6d2322ce-77df-4b3e-abd9-00061823cfd3",
   "metadata": {
    "deletable": false,
    "editable": false
   },
   "source": [
    "<font size=\"+3\"><strong>Databases: SQL</strong></font>"
   ]
  },
  {
   "cell_type": "code",
   "execution_count": null,
   "id": "c92572fd-22ee-4293-ba18-4100c02e9467",
   "metadata": {
    "deletable": false
   },
   "outputs": [],
   "source": [
    "from IPython.display import YouTubeVideo"
   ]
  },
  {
   "cell_type": "markdown",
   "id": "f7e1184e-e619-4cc7-b6f6-31487c2f11fd",
   "metadata": {
    "deletable": false,
    "editable": false
   },
   "source": [
    "# Working with SQL Databases"
   ]
  },
  {
   "cell_type": "markdown",
   "id": "54cb3a81-6761-41df-8377-499bd10438b0",
   "metadata": {
    "deletable": false,
    "editable": false
   },
   "source": [
    "A database is a collection of interrelated data. The primary goal of a database is to store and retrieve information in a convenient and efficient way. There are many types of databases. In this section, we will be dealing with a **relational database**. A relational database is a widely used database model that consists of a collection of uniquely named **tables** used to store information. The structure of a database model with its tables, constraints, and relationships is called a **schema**. \n",
    "\n",
    "A Structured Query Language (**SQL**), is used to retrieve information from a relational database. SQL is one of the most commonly used database languages. It allows data stored in a relational database to be queried, modified, and manipulated easily with basic commands. SQL powers database engines like MySQL, SQL Server, SQLite, and PostgreSQL. The examples and projects in this course will use SQLite. \n",
    "\n",
    "A **table** refers to a collection of rows and columns in a relational database. When reading data into a pandas DataFrame, an **index** can be defined, which acts as the label for every row in the DataFrame."
   ]
  },
  {
   "cell_type": "markdown",
   "id": "a33adc80-3433-4c60-993f-95e4cf836656",
   "metadata": {
    "deletable": false,
    "editable": false
   },
   "source": [
    "# Connecting to a Database"
   ]
  },
  {
   "cell_type": "markdown",
   "id": "34ae870a-3889-4773-97bc-f63074b479d1",
   "metadata": {
    "deletable": false,
    "editable": false
   },
   "source": [
    "## ipython-sql "
   ]
  },
  {
   "cell_type": "markdown",
   "id": "f64dc5d6-8240-4acf-a431-d3d416a49bad",
   "metadata": {
    "deletable": false,
    "editable": false
   },
   "source": [
    "### Magic Commands"
   ]
  },
  {
   "cell_type": "markdown",
   "id": "2d160b23-c377-416e-8247-00ea43ed48c0",
   "metadata": {
    "deletable": false,
    "editable": false
   },
   "source": [
    "Jupyter notebooks can run code that is not valid Python code but still affect the notebook . These special commands are called magic commands. Magic commands can have a range of properties. Some commonly used magic functions are below:\n",
    "\n",
    "| Magic Command | Description of Command | \n",
    "| --- | --- | \n",
    "| `%pwd` | Print the current working directory |\n",
    "| `%cd` | Change the current working directory |\n",
    "| `%ls` | List the contents of the current directory |\n",
    "| `%history` | Show the history of the In [ ]: commands |\n",
    "\n",
    "We will be leveraging magic commands to work with a SQLite database. "
   ]
  },
  {
   "cell_type": "markdown",
   "id": "8ada0629-e197-456b-acb0-af3ca5ff682f",
   "metadata": {
    "deletable": false,
    "editable": false
   },
   "source": [
    "### ipython-sql"
   ]
  },
  {
   "cell_type": "markdown",
   "id": "8cd7730b-6728-4ef9-88ed-00a9eb1a6d7b",
   "metadata": {
    "deletable": false,
    "editable": false
   },
   "source": [
    "`ipython-sql` allows you to write SQL code directly in a Jupyter Notebook. The `%sql` (or `%%sql`) magic command is added to the beginning of a code block and then SQL code can be written."
   ]
  },
  {
   "cell_type": "markdown",
   "id": "de64b032-3bc3-41ac-adcb-7aa468701abb",
   "metadata": {
    "deletable": false,
    "editable": false
   },
   "source": [
    "### Connecting with ipython-sql"
   ]
  },
  {
   "cell_type": "markdown",
   "id": "129963a6-31c3-4102-976a-aeacc822d26a",
   "metadata": {
    "deletable": false,
    "editable": false
   },
   "source": [
    "We can connect to a database using the %sql magic function:"
   ]
  },
  {
   "cell_type": "code",
   "execution_count": null,
   "id": "a85e7900-3aea-47fc-af0c-945a1aa54852",
   "metadata": {
    "deletable": false
   },
   "outputs": [],
   "source": [
    "%load_ext sql\n",
    "%sql sqlite:////home/jovyan/nepal.sqlite"
   ]
  },
  {
   "cell_type": "markdown",
   "id": "4bf133c4-41aa-42ea-b86c-4b4035e0499c",
   "metadata": {
    "deletable": false,
    "editable": false
   },
   "source": [
    "## sqlite3"
   ]
  },
  {
   "cell_type": "markdown",
   "id": "8b849955-a016-4da4-92b1-242b57961848",
   "metadata": {
    "deletable": false,
    "editable": false
   },
   "source": [
    "We can also connect to the same database using the sqlite3 package:"
   ]
  },
  {
   "cell_type": "code",
   "execution_count": null,
   "id": "11f2250e-545b-4500-b45a-584cbb4b3292",
   "metadata": {
    "deletable": false
   },
   "outputs": [],
   "source": [
    "import sqlite3\n",
    "\n",
    "conn = sqlite3.connect(\"/home/jovyan/nepal.sqlite\")"
   ]
  },
  {
   "cell_type": "markdown",
   "id": "815f4869-97b7-48cd-bf06-52b4a19fa3e9",
   "metadata": {
    "deletable": false,
    "editable": false
   },
   "source": [
    "# Querying a Database"
   ]
  },
  {
   "cell_type": "markdown",
   "id": "8e7c37a8-9ecf-475d-bc7f-b34baf884cfb",
   "metadata": {
    "deletable": false,
    "editable": false
   },
   "source": [
    "## Building Blocks of the Basic Query"
   ]
  },
  {
   "cell_type": "markdown",
   "id": "0176c3b3-6bd1-49bc-a523-62d4871554a1",
   "metadata": {
    "deletable": false,
    "editable": false
   },
   "source": [
    "There are six common clauses used for querying data:\n",
    "   \n",
    "| Clause Name | Definition | \n",
    "| --- | --- | \n",
    "| `SELECT` | Determines which columns to include in the query's result |\n",
    "| `FROM` | Identifies the table from which to query the data from |\n",
    "| `WHERE` | filters data |\n",
    "| `GROUP BY` | groups rows by common values in columns |\n",
    "| `HAVING` | filters out unwanted groups from GROUP BY |\n",
    "| `ORDER BY` | Orders the rows using one or more columns |\n",
    "| `LIMIT` | Outputs the specified number of rows |\n",
    "\n",
    "All clauses may be used together, but `SELECT` and `FROM` are the only required clauses. The format of clauses is in the example query below:\n",
    "\n",
    "```sql\n",
    "SELECT column1, column2\n",
    "FROM table_name\n",
    "WHERE \"conditions\"\n",
    "GROUP BY \"column-list\"\n",
    "HAVING \"conditions\"\n",
    "ORDER BY \"column-list\"\n",
    "```"
   ]
  },
  {
   "cell_type": "markdown",
   "id": "966d7fb9-0a84-42c5-a5ce-a2fdafe1075a",
   "metadata": {
    "deletable": false,
    "editable": false
   },
   "source": [
    "## SELECT and FROM"
   ]
  },
  {
   "cell_type": "markdown",
   "id": "06b1fb2d-808a-47ff-b40f-3abea758eeae",
   "metadata": {
    "deletable": false,
    "editable": false
   },
   "source": [
    "You can use `SELECT *` to select all columns in a table. `FROM` specifies the table in the database to query. `LIMIT 5` will select only the first five rows. \n",
    "\n",
    "*Example*"
   ]
  },
  {
   "cell_type": "code",
   "execution_count": null,
   "id": "9f39f5f6-1297-40bc-9ce0-836997ff0453",
   "metadata": {
    "deletable": false
   },
   "outputs": [],
   "source": [
    "%%sql\n",
    "SELECT *\n",
    "FROM id_map\n",
    "LIMIT 5"
   ]
  },
  {
   "cell_type": "markdown",
   "id": "5d862ff6-e5a0-4fc5-8a96-930f12c04503",
   "metadata": {
    "deletable": false,
    "editable": false
   },
   "source": [
    "You can also use `SELECT` to select certain columns in a table"
   ]
  },
  {
   "cell_type": "code",
   "execution_count": null,
   "id": "fd626d30-3223-4a05-aa63-f6e15e10be3c",
   "metadata": {
    "deletable": false
   },
   "outputs": [],
   "source": [
    "%%sql\n",
    "SELECT household_id,\n",
    "       building_id\n",
    "FROM id_map\n",
    "LIMIT 5"
   ]
  },
  {
   "cell_type": "markdown",
   "id": "785cd74a-2b31-42d3-9906-3cd99ae7b0f4",
   "metadata": {
    "deletable": false,
    "editable": false
   },
   "source": [
    "<font size=\"+1\">Practice</font>\n",
    "\n",
    "Try it yourself! Use `SELECT` to select the `district_id` column from the `id_map` table."
   ]
  },
  {
   "cell_type": "code",
   "execution_count": null,
   "id": "3f8fe511-17bd-4cfc-989d-bdbcae31cb57",
   "metadata": {
    "deletable": false
   },
   "outputs": [],
   "source": [
    "%%sql\n"
   ]
  },
  {
   "cell_type": "markdown",
   "id": "ca48ffbf-7cd2-4b40-9821-e0ac529fd14e",
   "metadata": {
    "deletable": false,
    "editable": false
   },
   "source": [
    "We can also assign an **alias** or temporary name to a column using the `AS` command. Aliases can also be used on a table. See the example below, which assigns the alias `household_number` to `household_id`"
   ]
  },
  {
   "cell_type": "code",
   "execution_count": null,
   "id": "7fb3b807-daa9-429c-9397-0b5e7cc361e6",
   "metadata": {
    "deletable": false
   },
   "outputs": [],
   "source": [
    "%%sql\n",
    "SELECT household_id AS household_number,\n",
    "       building_id\n",
    "FROM id_map\n",
    "LIMIT 5"
   ]
  },
  {
   "cell_type": "markdown",
   "id": "d88e9f98-0535-4efa-bac2-8a43dd824a6a",
   "metadata": {
    "deletable": false,
    "editable": false
   },
   "source": [
    "<font size=\"+1\">Practice</font>\n",
    "\n",
    "Try it yourself! Use `SELECT`, `FROM`, `AS`, and `LIMIT` to select the first 5 rows from the `id_map` table. Rename the  `district_id` column to `district_number`. "
   ]
  },
  {
   "cell_type": "code",
   "execution_count": null,
   "id": "e7a00431-2947-4fd9-b9fc-b272dd60ed4a",
   "metadata": {
    "deletable": false
   },
   "outputs": [],
   "source": [
    "%%sql\n"
   ]
  },
  {
   "cell_type": "markdown",
   "id": "04e2103c-fb6b-4c5e-9c96-edef94827c9e",
   "metadata": {
    "deletable": false,
    "editable": false
   },
   "source": [
    "## Filtering and Sorting Data"
   ]
  },
  {
   "cell_type": "markdown",
   "id": "eaa5b1e7-abf1-497e-980d-f90cda161c6c",
   "metadata": {
    "deletable": false,
    "editable": false
   },
   "source": [
    "SQL provides a variety of comparison operators that can be used with the WHERE clause to filter the data. \n",
    "\n",
    "\n",
    "| Comparison Operator | Description | \n",
    "| --- | --- | \n",
    "| = | Equal |\n",
    "| > | Greater than |\n",
    "| < | Less than|\n",
    "| >= | Greater than or equal to |\n",
    "| <= | Less than or equal to |\n",
    "| <> or != | Not equal to |\n",
    "| LIKE | String comparison test |"
   ]
  },
  {
   "cell_type": "markdown",
   "id": "8227048c-6344-45cd-bfb3-21593295d7aa",
   "metadata": {
    "deletable": false,
    "editable": false
   },
   "source": [
    "For example, to select the first 5 homes in Ramechhap (district `2`):"
   ]
  },
  {
   "cell_type": "code",
   "execution_count": null,
   "id": "60670f82-b7f8-4d09-8eab-cd44d3c313f7",
   "metadata": {
    "deletable": false
   },
   "outputs": [],
   "source": [
    "%%sql\n"
   ]
  },
  {
   "cell_type": "markdown",
   "id": "cf80785f-f961-4cac-8699-e634492c27ec",
   "metadata": {
    "deletable": false,
    "editable": false
   },
   "source": [
    "<font size=\"+1\">Practice</font>\n",
    "\n",
    "Try it yourself! Use `WHERE` to select the row with `household_id` equal to 13735001"
   ]
  },
  {
   "cell_type": "code",
   "execution_count": null,
   "id": "6a054ebb-add1-465b-9047-f656d3126dce",
   "metadata": {
    "deletable": false
   },
   "outputs": [],
   "source": [
    "%%sql\n"
   ]
  },
  {
   "cell_type": "markdown",
   "id": "b01f4964-fd95-4832-8f0e-152078ed63f5",
   "metadata": {
    "deletable": false,
    "editable": false
   },
   "source": [
    "## Aggregating Data"
   ]
  },
  {
   "cell_type": "markdown",
   "id": "e112472e-aa41-4a80-bdb1-5c32d709e247",
   "metadata": {
    "deletable": false,
    "editable": false
   },
   "source": [
    "Aggregation functions take a collection of values as inputs and return one value as the output. The table below gives the frequently used built-in aggregation functions:\n",
    "\n",
    "| Aggregation Function | Definition                        |\n",
    "| -------------------- | --------------------------------- |\n",
    "| `MIN`                  | Return the minimum value          |\n",
    "| `MAX`                  | Return the largest value          |\n",
    "| `SUM`                  | Return the sum of values          |\n",
    "| `AVG`                  | Return the average of values      |\n",
    "| `COUNT`                | Return the number of observations |"
   ]
  },
  {
   "cell_type": "markdown",
   "id": "4952bad4-bdb6-4027-9fc8-7e464c4a377b",
   "metadata": {
    "deletable": false,
    "editable": false
   },
   "source": [
    "Use the `COUNT` function to find the number of observations in the `id_map` table that come from Ramechhap (district `2`):"
   ]
  },
  {
   "cell_type": "code",
   "execution_count": null,
   "id": "6fa02464-45fd-44e0-9f89-fc6d178f4820",
   "metadata": {
    "deletable": false
   },
   "outputs": [],
   "source": [
    "%%sql\n",
    "SELECT count(*)\n",
    "FROM id_map\n",
    "WHERE district_id = 2"
   ]
  },
  {
   "cell_type": "markdown",
   "id": "3ae0ecd3-d7b6-4d76-91ed-62ee5e354995",
   "metadata": {
    "deletable": false,
    "editable": false
   },
   "source": [
    "Aggregation functions are frequently used with a `GROUP BY` clause to perform the aggregation on groups of data. For example, the query below returns the count of observations in each District:"
   ]
  },
  {
   "cell_type": "code",
   "execution_count": null,
   "id": "5f875d74-901f-443c-a7b9-24b64704d318",
   "metadata": {
    "deletable": false
   },
   "outputs": [],
   "source": [
    "%%sql\n",
    "SELECT district_id,\n",
    "       count(*)\n",
    "FROM id_map\n",
    "GROUP BY district_id"
   ]
  },
  {
   "cell_type": "markdown",
   "id": "d0486ce4-1af7-425e-8fd2-f1465e903d49",
   "metadata": {
    "deletable": false,
    "editable": false
   },
   "source": [
    " `DISTINCT` is a keyword to select unique records in a query result. For example, if we want to know the unique values in the `district_id` column:"
   ]
  },
  {
   "cell_type": "code",
   "execution_count": null,
   "id": "ab88de0b-3974-43ce-b2d1-d91dcf6c2aba",
   "metadata": {
    "deletable": false
   },
   "outputs": [],
   "source": [
    "%%sql\n",
    "SELECT distinct(district_id)\n",
    "FROM id_map"
   ]
  },
  {
   "cell_type": "markdown",
   "id": "8cadf400-d3eb-40c3-9a3a-f14cc27eac76",
   "metadata": {
    "deletable": false,
    "editable": false
   },
   "source": [
    "<font size=\"+1\">Practice</font>\n",
    "\n",
    "Try it yourself! Use `DISTINCT` to count the number of unique values in the `vdcmun_id` column. "
   ]
  },
  {
   "cell_type": "code",
   "execution_count": null,
   "id": "80c485d2-2ac3-4947-b8d1-18d31a1c618b",
   "metadata": {
    "deletable": false
   },
   "outputs": [],
   "source": [
    "%%sql\n"
   ]
  },
  {
   "cell_type": "markdown",
   "id": "0b44444a-21c9-4400-ba56-3c1920a0c283",
   "metadata": {
    "deletable": false,
    "editable": false
   },
   "source": [
    "`DISTINCT` and `COUNT` can be used in combination to count the number of distinct records. For example, if we want to know the number of unique values in the `district_id` column:"
   ]
  },
  {
   "cell_type": "code",
   "execution_count": null,
   "id": "53fa4d80-f573-47f6-9673-f9d4375dca74",
   "metadata": {
    "deletable": false
   },
   "outputs": [],
   "source": [
    "%%sql\n",
    "SELECT count(distinct(district_id))\n",
    "FROM id_map"
   ]
  },
  {
   "cell_type": "markdown",
   "id": "efabefc2-6fea-48f9-bb0b-1e4cef0b01fe",
   "metadata": {
    "deletable": false,
    "editable": false
   },
   "source": [
    "<font size=\"+1\">Practice</font>\n",
    "\n",
    "Try it yourself! Use `DISTINCT` and `COUNT` to count the number of unique values in the `vdcmun_id` column. "
   ]
  },
  {
   "cell_type": "code",
   "execution_count": null,
   "id": "2df9b03a-ac5d-4fca-8423-97aa544cd6a5",
   "metadata": {
    "deletable": false
   },
   "outputs": [],
   "source": [
    "%%sql\n"
   ]
  },
  {
   "cell_type": "markdown",
   "id": "3b3869b2-d744-4f7a-b0e0-0b98b1733ee4",
   "metadata": {
    "deletable": false,
    "editable": false
   },
   "source": [
    "# Joining Tables"
   ]
  },
  {
   "cell_type": "markdown",
   "id": "fa398fbc-b0a0-48a0-972b-b183a1903e47",
   "metadata": {
    "deletable": false,
    "editable": false
   },
   "source": [
    "Joins link data from two or more tables together by using a column that is common between the two tables. The basic syntax for a join is below, where `table1` and `table2` refer to the two tables being joined, `column1` and `column2` refer to columns to be returned from both tables, and `ID` refers to the common column in the two tables. \n",
    "\n",
    "```sql\n",
    "SELECT table1.column1,\n",
    "       table2.column2\n",
    "FROM table_1\n",
    "JOIN table2 ON table1.id = table1.id\n",
    "```\n"
   ]
  },
  {
   "cell_type": "markdown",
   "id": "7661aa2b-f5c1-46c0-9e72-b67af0759716",
   "metadata": {
    "deletable": false,
    "editable": false
   },
   "source": [
    "We'll explore the concept of joins by first identifying a single household that we'd like to pull in building information for. For example, let's say we want to see the corresponding `foundation_type` for the first home in Ramechhap (District 1). We'll start by looking at this single record in the `id_map` table."
   ]
  },
  {
   "cell_type": "code",
   "execution_count": null,
   "id": "9a11ffd8-83d6-4206-98e8-21b5b64ff29c",
   "metadata": {
    "deletable": false
   },
   "outputs": [],
   "source": [
    "%%sql\n",
    "SELECT *\n",
    "FROM id_map\n",
    "WHERE district_id = 2\n",
    "LIMIT 1"
   ]
  },
  {
   "cell_type": "markdown",
   "id": "e4cd093b-1e1c-4bc7-9fae-9fc262ba78d8",
   "metadata": {
    "deletable": false,
    "editable": false
   },
   "source": [
    "This household has `building_id` equal to 23. Let's look at the `foundation_type` for this building, by filtering the `building_structure` table to find this building."
   ]
  },
  {
   "cell_type": "code",
   "execution_count": null,
   "id": "45645c9d-4bea-4512-8d62-3f40d076fc1a",
   "metadata": {
    "deletable": false
   },
   "outputs": [],
   "source": [
    "%%sql\n",
    "SELECT building_id,\n",
    "       foundation_type\n",
    "FROM building_structure\n",
    "WHERE building_id = 23"
   ]
  },
  {
   "cell_type": "markdown",
   "id": "c2e01dbd-aa56-4d41-861c-923aa04d15fd",
   "metadata": {
    "deletable": false,
    "editable": false
   },
   "source": [
    "To join the two tables and limit the results to `building_id = 23`:    "
   ]
  },
  {
   "cell_type": "code",
   "execution_count": null,
   "id": "f5c8c187-04e4-48b7-9c10-32f41e6f7452",
   "metadata": {
    "deletable": false
   },
   "outputs": [],
   "source": [
    "%%sql\n",
    "SELECT id_map.*,\n",
    "       building_structure.foundation_type\n",
    "FROM id_map\n",
    "JOIN building_structure ON id_map.building_id = building_structure.building_id\n",
    "WHERE id_map.building_id = 23"
   ]
  },
  {
   "cell_type": "markdown",
   "id": "d5e75538-95f7-4b66-9913-a529184d2e82",
   "metadata": {
    "deletable": false,
    "editable": false
   },
   "source": [
    "In addition to the basic `JOIN` clause, specific join types can be specified, which specify whether the common column needs to be in one, both, or either of the two tables being joined. The different join types are below. The left table is the table specified first, immediately after the `FROM` clause and the right table is the table specified after the `JOIN` clause. If the generic `JOIN` clause is used, then by default the `INNER JOIN` will be used.\n",
    "\n",
    "| JOIN Type | Definition                        |\n",
    "| -------------------- | --------------------------------- |\n",
    "| `INNER JOIN`                  | Returns rows where ID is in both tables         |\n",
    "| `LEFT JOIN`                  | Returns rows where ID is in the left table. Return NA for values in column, if ID is not in right table.          |\n",
    "| `RIGHT JOIN`                  | Returns rows where ID is in the right table. Return NA for values in column, if ID is not in left table. \n",
    "| `FULL JOIN`                  | Returns rows where ID is in either table. Return NA for values in column, if ID is not in either table.           |   |\n"
   ]
  },
  {
   "cell_type": "markdown",
   "id": "628465d7-f80d-48aa-9f7b-1f8a2792e84c",
   "metadata": {
    "deletable": false,
    "editable": false
   },
   "source": [
    "The video below outlines the main types of joins:"
   ]
  },
  {
   "cell_type": "code",
   "execution_count": null,
   "id": "7e78b480-3077-4c2a-82fe-cd463cf127fc",
   "metadata": {
    "deletable": false
   },
   "outputs": [],
   "source": [
    "YouTubeVideo(\"2HVMiPPuPIM\")"
   ]
  },
  {
   "cell_type": "markdown",
   "id": "567bd1e1-a1b0-4112-ae07-f6afbc257934",
   "metadata": {
    "deletable": false,
    "editable": false
   },
   "source": [
    "<font size=\"+1\">Practice</font>\n",
    "\n",
    "Try it yourself! Use the `DISTINCT` command to create a column with all unique building IDs in the `id_map` table. `LEFT JOIN` this column with the `roof_type` column from the `building_structure` table, showing only buildings where **`district_id`** is `1` and limiting your results to the first five rows of the new table."
   ]
  },
  {
   "cell_type": "code",
   "execution_count": null,
   "id": "28b88dbe-9cc0-461f-8516-c7dc1846b186",
   "metadata": {
    "deletable": false
   },
   "outputs": [],
   "source": [
    "%%sql\n"
   ]
  },
  {
   "cell_type": "markdown",
   "id": "f50fcb55-78d1-46e2-93fb-3a6cad4973b0",
   "metadata": {
    "deletable": false,
    "editable": false
   },
   "source": [
    "# Using pandas with SQL Databases"
   ]
  },
  {
   "cell_type": "markdown",
   "id": "f4c8f090-43e4-4673-b229-75067df12d24",
   "metadata": {
    "deletable": false,
    "editable": false
   },
   "source": [
    "To save the output of a query into a pandas DataFrame, we will use connect to the SQLite database using the SQLite3 package:"
   ]
  },
  {
   "cell_type": "code",
   "execution_count": null,
   "id": "56c94fb6-a28f-4542-9b2e-f06a2e0210d8",
   "metadata": {
    "deletable": false
   },
   "outputs": [],
   "source": [
    "import sqlite3\n",
    "\n",
    "conn = sqlite3.connect(\"/home/jovyan/nepal.sqlite\")"
   ]
  },
  {
   "cell_type": "markdown",
   "id": "664217ac-6679-41b2-9cda-0db9694092f8",
   "metadata": {
    "deletable": false,
    "editable": false
   },
   "source": [
    "To run a query using `sqlite3`, we need to store the query as a string. For example, the variable below called `query` is a string containing a query which returns the first 10 rows from the `id_map` table:"
   ]
  },
  {
   "cell_type": "code",
   "execution_count": null,
   "id": "34959fe5-4f7b-4dc9-a99a-32ca836ba579",
   "metadata": {
    "deletable": false
   },
   "outputs": [],
   "source": [
    "query = \"\"\"\n",
    "    SELECT *\n",
    "    FROM id_map\n",
    "    LIMIT 10\n",
    "    \"\"\""
   ]
  },
  {
   "cell_type": "markdown",
   "id": "1f56de07-27d7-40cf-bf4b-cab3a2a2bb8b",
   "metadata": {
    "deletable": false,
    "editable": false
   },
   "source": [
    "To save the results of the query into a pandas DataFrame, use the `pd.read_sql()` function. The optional parameter `index_col` can be used to set the index to a specific column from the query. "
   ]
  },
  {
   "cell_type": "code",
   "execution_count": null,
   "id": "86177a59-0d43-4f99-b93d-00aa5f343ace",
   "metadata": {
    "deletable": false
   },
   "outputs": [],
   "source": [
    "import pandas as pd\n",
    "\n",
    "df = pd.read_sql(query, conn, index_col=\"building_id\")\n",
    "\n",
    "df.head()"
   ]
  },
  {
   "cell_type": "markdown",
   "id": "dea1ac8b-e053-4653-8a8b-6e77650f7914",
   "metadata": {
    "deletable": false,
    "editable": false
   },
   "source": [
    "<font size=\"+1\">Practice</font>\n",
    "\n",
    "Try it yourself! Use the `pd.read_sql` function to save the results of a query to a DataFrame. The query should select first 20 rows from the `id_map` table. "
   ]
  },
  {
   "cell_type": "code",
   "execution_count": null,
   "id": "041aadd2-999e-40f7-919a-51c6c1734db3",
   "metadata": {
    "deletable": false
   },
   "outputs": [],
   "source": [
    "query = ...\n",
    "\n",
    "df2 = ...\n",
    "\n",
    "df2.head()"
   ]
  },
  {
   "cell_type": "markdown",
   "id": "326927ca-0271-426b-a04d-b7f836e42275",
   "metadata": {
    "deletable": false,
    "editable": false
   },
   "source": [
    "# References & Further Reading\n",
    "\n",
    "- [Additional Explanation of Magic Commands](https://problemsolvingwithpython.com/02-Jupyter-Notebooks/02.06-Magic-Commands/)\n",
    "- [ipython-SQL User Documentation](https://anaconda.org/conda-forge/ipython-sql)\n",
    "- [Data Carpentry Course on SQL in Python](https://datacarpentry.org/python-ecology-lesson/09-working-with-sql/index.html)\n",
    "- [SQL Course Material on GitHub (1)](https://github.com/exlskills/course-sql-introduction)\n",
    "- [SQL Course Material on GitHub (2)](https://github.com/MicrosoftLearning/QueryingT-SQL)"
   ]
  },
  {
   "cell_type": "markdown",
   "id": "2aebfbd2-96ef-4f32-a605-f61fc10de449",
   "metadata": {
    "deletable": false,
    "editable": false
   },
   "source": [
    "---\n",
    "Copyright © 2022 WorldQuant University. This\n",
    "content is licensed solely for personal use. Redistribution or\n",
    "publication of this material is strictly prohibited.\n"
   ]
  }
 ],
 "metadata": {
  "kernelspec": {
   "display_name": "Python 3 (ipykernel)",
   "language": "python",
   "name": "python3"
  },
  "language_info": {
   "codemirror_mode": {
    "name": "ipython",
    "version": 3
   },
   "file_extension": ".py",
   "mimetype": "text/x-python",
   "name": "python",
   "nbconvert_exporter": "python",
   "pygments_lexer": "ipython3",
   "version": "3.9.6"
  }
 },
 "nbformat": 4,
 "nbformat_minor": 5
}
