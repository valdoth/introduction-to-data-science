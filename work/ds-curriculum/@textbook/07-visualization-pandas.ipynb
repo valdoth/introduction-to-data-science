{
 "cells": [
  {
   "cell_type": "markdown",
   "id": "f2ff9404",
   "metadata": {
    "deletable": false,
    "editable": false
   },
   "source": [
    "<font size=\"+3\"><strong>Visualizing Data: pandas</strong></font>"
   ]
  },
  {
   "cell_type": "markdown",
   "id": "477348c1-1971-4625-b3d7-3aa3abc2cf31",
   "metadata": {
    "deletable": false,
    "editable": false
   },
   "source": [
    "There are many ways to interact with data, and one of the most powerful modes of interaction is through **visualizations**. Visualizations show data graphically, and are useful for exploring, analyzing, and presenting datasets. We use four libraries for making visualizations: pandas, [Matplotlib](../%40textbook/06-visualization-matplotlib.ipynb), [plotly express](../%40textbook/08-visualization-plotly.ipynb), and [seaborn](../%40textbook/09-visualization-seaborn.ipynb). In this section, we'll focus on using pandas.\n",
    "\n",
    "# Correlation Matrices\n",
    "\n",
    "When examining numerical data in columns of a DataFrame, you might want to know how well one column can be approximated as a linear function of another column. In our `mexico-city-real-estate-1` dataset, for example, we might suspect that there was some relationship between the `\"price_aprox_usd\"` and `\"surface_covered_in_m2\"` variables. For the sake of thoroughness, let's make a table that shows all the **correlations** in the dataset. the code looks like this:"
   ]
  },
  {
   "cell_type": "code",
   "execution_count": null,
   "id": "0655a130-88b8-4d0a-9517-40294dc12d60",
   "metadata": {
    "deletable": false
   },
   "outputs": [],
   "source": [
    "import pandas as pd\n",
    "\n",
    "columns = [\"price_aprox_usd\", \"surface_covered_in_m2\"]\n",
    "mexico_city1 = pd.read_csv(\"./data/mexico-city-real-estate-1.csv\", usecols=columns)\n",
    "corr = mexico_city1.corr()\n",
    "corr.style.background_gradient(axis=None)"
   ]
  },
  {
   "cell_type": "markdown",
   "id": "055bf03c-ecb7-4a8a-b734-3fecdedb64fd",
   "metadata": {
    "deletable": false,
    "editable": false
   },
   "source": [
    "As you can see, there seems to be a moderate, positive correlation between `\"price_aprox_usd\"` and `\"surface_covered_in_m2\"`, but there are other relationships here, too. For instance, what if we look at the square root of `\"surface_covered_in_m2\"`, which is an approximation of a property's length?"
   ]
  },
  {
   "cell_type": "code",
   "execution_count": null,
   "id": "5d3a7631-4b05-404d-b5bb-13ccb55335c2",
   "metadata": {
    "deletable": false
   },
   "outputs": [],
   "source": [
    "mexico_city1[\"length\"] = mexico_city1[\"surface_covered_in_m2\"] ** 0.5\n",
    "corr = mexico_city1.corr()\n",
    "corr.style.background_gradient(axis=None)"
   ]
  },
  {
   "cell_type": "markdown",
   "id": "fd6e93e7-e00b-48cd-8005-4850e42f94d6",
   "metadata": {
    "deletable": false,
    "editable": false
   },
   "source": [
    "We see that `price_aprox_local_currency` and `price_aprox_usd` have a stronger positive correlation with the `length` of a property than with `surface_covered_in_m2`. This sort of transformation can help improve the performance of a linear model."
   ]
  },
  {
   "cell_type": "markdown",
   "id": "ad117312-d06a-450f-bca4-d4b948c2bb71",
   "metadata": {
    "deletable": false,
    "editable": false
   },
   "source": [
    "<font size=\"+1\">Practice</font> \n",
    "\n",
    "Try it yourself! Repeat the previous calculations for the `mexico-city-real-estate-5.csv` dataset. Is `\"length\"` better correlated with `\"price_aprox_local_currency\"` than `\"surface_covered_in_m2\"`?"
   ]
  },
  {
   "cell_type": "code",
   "execution_count": null,
   "id": "c696448c-f4ed-4252-8a5c-cfc72565c172",
   "metadata": {
    "deletable": false
   },
   "outputs": [],
   "source": [
    "# Load CSV into DataFrame\n",
    "columns = [\"price_aprox_local_currency\", \"surface_covered_in_m2\"]\n",
    "mexico_city5 = ...\n",
    "mexico_city5[\"length\"] = ...\n",
    "corr = ...\n",
    "corr.style.background_gradient(axis=None)"
   ]
  },
  {
   "cell_type": "markdown",
   "id": "2412628b-c020-4e09-89bf-84ebf2d93799",
   "metadata": {
    "deletable": false,
    "editable": false,
    "tags": []
   },
   "source": [
    "# Bar Charts\n",
    "\n",
    "A **bar chart** is a graph that shows all the values of a categorical variable in a dataset. They consist of an axis and a series of labeled horizontal or vertical bars. The bars depict frequencies of different values of a variable or simply the different values themselves. The numbers on the y-axis of a vertical bar chart or the x-axis of a horizontal bar chart are called the scale.\n",
    "\n",
    "Let's make a bar chart in pandas using the `colombia-real-estate-1` dataset. We might be curious about how many houses and apartments there are in Colombia, so let's take a look at all the values in the `property_type` variable.\n",
    "\n",
    "While we often use Matplotlib for our visualizations, pandas has many plotting tools that it borrows from Matplotlib. So we can generate a Series from our DataFrame using `value_counts` and then append the `plot` method to make our visualization. Here's what the code looks like:"
   ]
  },
  {
   "cell_type": "code",
   "execution_count": null,
   "id": "276678e1-70ee-4ee0-9d05-ea373a44c2de",
   "metadata": {
    "deletable": false
   },
   "outputs": [],
   "source": [
    "df1 = pd.read_csv(\"data/colombia-real-estate-1.csv\", usecols=[\"property_type\"])\n",
    "df1[\"property_type\"].value_counts().plot(\n",
    "    kind=\"bar\", title=\"Property Types in Colombia\", ylabel=\"Count\"\n",
    ");"
   ]
  },
  {
   "cell_type": "markdown",
   "id": "515fd989-7910-49b4-81a4-9d5822cd24b1",
   "metadata": {
    "deletable": false,
    "editable": false
   },
   "source": [
    "If we would prefer a horizontal bar chart (it'll be easier to read the labels), we can change `\"bar\"` to `\"barh\"`, like this:"
   ]
  },
  {
   "cell_type": "code",
   "execution_count": null,
   "id": "09f40908-c9c2-4214-aef0-23cef5c7e4e6",
   "metadata": {
    "deletable": false
   },
   "outputs": [],
   "source": [
    "df1[\"property_type\"].value_counts().plot(\n",
    "    kind=\"barh\", title=\"Property Types in Colombia\", ylabel=\"Count\"\n",
    ");"
   ]
  },
  {
   "cell_type": "markdown",
   "id": "91a0425a-f9c3-4929-8653-d45fff6bc91f",
   "metadata": {
    "deletable": false,
    "editable": false
   },
   "source": [
    "<font size=\"+1\">Practice</font>\n",
    "\n",
    "Try it yourself! Use `value_counts` and the `colombia-real-estate-2` dataset to make a bar chart called `\"Property Types in Colombia\"`."
   ]
  },
  {
   "cell_type": "code",
   "execution_count": null,
   "id": "c8ef9965-d664-4b6d-a13d-f5f6fa994814",
   "metadata": {
    "deletable": false
   },
   "outputs": [],
   "source": []
  },
  {
   "cell_type": "markdown",
   "id": "e1f2f54a-d6d1-4b48-9b4d-9c82a587d453",
   "metadata": {
    "deletable": false,
    "editable": false
   },
   "source": [
    "# Histograms"
   ]
  },
  {
   "cell_type": "markdown",
   "id": "4de77426-bc9f-4a80-8368-6d3a6e720c2b",
   "metadata": {
    "deletable": false,
    "editable": false
   },
   "source": [
    "A **histogram** is a graph that shows the frequency distribution of numerical data. In addition to helping us understand frequency, histograms are also useful for detecting outliers. We can use the `.hist()` function from Pandas DataFrame to draw histograms for a specific column, as long as the data type is numerical. Let's check the following example:"
   ]
  },
  {
   "cell_type": "code",
   "execution_count": null,
   "id": "3dfd7bb8-4488-46ff-849c-1bd6d4c4d750",
   "metadata": {
    "deletable": false
   },
   "outputs": [],
   "source": [
    "df1 = pd.read_csv(\"data/mexico-city-real-estate-1.csv\")\n",
    "df1.head()"
   ]
  },
  {
   "cell_type": "markdown",
   "id": "7956db54-bd52-4bc7-863b-1a4e7ace2ab3",
   "metadata": {
    "deletable": false,
    "editable": false
   },
   "source": [
    "We can plot the histogram for the `price` column:"
   ]
  },
  {
   "cell_type": "code",
   "execution_count": null,
   "id": "af77f136-3e42-40a6-a845-3ee332282f4f",
   "metadata": {
    "deletable": false
   },
   "outputs": [],
   "source": [
    "df1[\"price\"].hist()"
   ]
  },
  {
   "cell_type": "markdown",
   "id": "d44fdd13-d315-4389-b315-21b76399f772",
   "metadata": {
    "deletable": false,
    "editable": false
   },
   "source": [
    "We can specify the number of `bins` for the histogram to see a more detailed distribution plot. The default number of bins equals to 10."
   ]
  },
  {
   "cell_type": "code",
   "execution_count": null,
   "id": "e9028955-e386-449d-8133-2318547203a5",
   "metadata": {
    "deletable": false
   },
   "outputs": [],
   "source": [
    "df1[\"price\"].hist(bins=100)"
   ]
  },
  {
   "cell_type": "markdown",
   "id": "bc4051f3-c95f-4f92-8088-97ca12a172f4",
   "metadata": {
    "deletable": false,
    "editable": false
   },
   "source": [
    "<font size=\"+1\">Practice</font>\n",
    "\n",
    "Try it yourself! Make a histogram for the `\"price_aprox_usd\"` column in `\"mexico-city-real-estate-1.csv\"`, specify 100 bins:"
   ]
  },
  {
   "cell_type": "code",
   "execution_count": null,
   "id": "25ae4655-19c8-49f6-b4ed-35dfa0c0772e",
   "metadata": {
    "deletable": false
   },
   "outputs": [],
   "source": []
  },
  {
   "cell_type": "markdown",
   "id": "930e76da-a3b8-40aa-a3fb-f31d3ab2fb7b",
   "metadata": {
    "deletable": false,
    "editable": false
   },
   "source": [
    "# Scatter Plots"
   ]
  },
  {
   "cell_type": "markdown",
   "id": "061c96ce-8b1c-42f3-8ea3-ec1acbeed9a2",
   "metadata": {
    "deletable": false,
    "editable": false
   },
   "source": [
    "A **scatter plot** is a graph that uses dots to represent values for two different numeric variables. The position of each dot on the horizontal and vertical axis indicates values for an individual data point. Scatter plots are used to observe relationships between variables, and are especially useful if you're looking for **correlations**. \n",
    "\n",
    "You can create a scatter plot from a DataFrame using the `plot` method. You need to set the `kind` as `\"scatter\"`, and then you specify the columns you want to plot on the x- and y-axes. Check the following example:"
   ]
  },
  {
   "cell_type": "code",
   "execution_count": null,
   "id": "6fa25e4f-82e0-41d4-ae3f-8412e2391093",
   "metadata": {
    "deletable": false
   },
   "outputs": [],
   "source": [
    "df1 = pd.read_csv(\"data/mexico-city-real-estate-1.csv\")\n",
    "df1.head()"
   ]
  },
  {
   "cell_type": "code",
   "execution_count": null,
   "id": "02c8c004-e4d6-45da-b8f8-6e1d5901d54f",
   "metadata": {
    "deletable": false
   },
   "outputs": [],
   "source": [
    "df1.plot(kind=\"scatter\", x=\"price\", y=\"surface_covered_in_m2\")"
   ]
  },
  {
   "cell_type": "markdown",
   "id": "14c27f0d-5c6e-4e41-b52c-cab407f5a60e",
   "metadata": {
    "deletable": false,
    "editable": false
   },
   "source": [
    "The scatter plot shows a week positive correlation between real estate price and area.  "
   ]
  },
  {
   "cell_type": "markdown",
   "id": "e1995ec4-3ecd-4468-88d3-5c3b971afd54",
   "metadata": {
    "deletable": false,
    "editable": false
   },
   "source": [
    "<font size=\"+1\">Practice</font>\n",
    "\n",
    "Try it yourself! Make a scatter plot for `\"price\"` and `\"surface_total_in_m2\"` in `\"mexico-city-real-estate-1.csv\"`:"
   ]
  },
  {
   "cell_type": "code",
   "execution_count": null,
   "id": "f5241bae-0a56-4241-bed4-c13d5cae3046",
   "metadata": {
    "deletable": false
   },
   "outputs": [],
   "source": []
  },
  {
   "cell_type": "markdown",
   "id": "42b5b458-f8df-48b6-af7e-192fb9c385e5",
   "metadata": {
    "deletable": false,
    "editable": false
   },
   "source": [
    "# Line Plots\n",
    "\n",
    "**Line plots** demonstrate relationships between two variables which have some order. If we look at the data in `mexico-city-real-estate-1.csv`, a scatter plot shows us that there's a relationship between `\"surface_covered_in_m2\"` and `\"price_aprox_local_currency\"`. "
   ]
  },
  {
   "cell_type": "code",
   "execution_count": null,
   "id": "9bc09362-1393-4bf5-9bb8-166fcb93eddf",
   "metadata": {
    "deletable": false
   },
   "outputs": [],
   "source": [
    "columns = [\"surface_covered_in_m2\", \"price_aprox_local_currency\"]\n",
    "mexico_city1 = pd.read_csv(\"./data/mexico-city-real-estate-1.csv\", usecols=columns)\n",
    "mexico_city1.plot.scatter(x=\"surface_covered_in_m2\", y=\"price_aprox_local_currency\");"
   ]
  },
  {
   "cell_type": "markdown",
   "id": "a02c2c40-3400-42ee-b80f-6776c5f25f96",
   "metadata": {
    "deletable": false,
    "editable": false
   },
   "source": [
    "To make clear the relationship between these two features, it would be helpful to have a line showing how price goes up as surface area increases. If we create a linear regression model using this data, the equation for this line would be In Module 2, we determine that the equation for such a line is `price = 3467349 + 23642 * area`. Let's create a series of `x` and `y` values for this line and then plot it."
   ]
  },
  {
   "cell_type": "code",
   "execution_count": null,
   "id": "a34bb866-eaaa-433b-9ffd-89b62513ad66",
   "metadata": {
    "deletable": false
   },
   "outputs": [],
   "source": [
    "df = pd.DataFrame({\"x_coords\": range(0, 9000, 1000)})\n",
    "df[\"y_coords\"] = 3467349 + 23642 * df[\"x_coords\"]\n",
    "df"
   ]
  },
  {
   "cell_type": "code",
   "execution_count": null,
   "id": "3ae571f4-dea7-4207-bab7-f73af2655650",
   "metadata": {
    "deletable": false
   },
   "outputs": [],
   "source": [
    "df.plot(\n",
    "    x=\"x_coords\",\n",
    "    y=\"y_coords\",\n",
    "    xlabel=\"surface_covered_in_m2\",\n",
    "    ylabel=\"price_aprox_local_currency\",\n",
    "    label=\"linear model\",\n",
    ");"
   ]
  },
  {
   "cell_type": "markdown",
   "id": "227975f2-90e3-40cb-8066-28b3369ecab1",
   "metadata": {
    "deletable": false,
    "editable": false
   },
   "source": [
    "<font size=\"+1\">Practice</font>\n",
    "\n",
    "Create a line plot for properties with areas from `0` to `8000`, where the price is determined by the equation `price = 2500000 + 2000 * area`."
   ]
  },
  {
   "cell_type": "code",
   "execution_count": null,
   "id": "b65fc2d2-c427-49f6-a06b-bee1927fe3b2",
   "metadata": {
    "deletable": false
   },
   "outputs": [],
   "source": [
    "df = pd.DataFrame({\"x_coords\": range(0, 9000, 1000)})\n",
    "df[\"y_coords\"] = ...\n"
   ]
  },
  {
   "cell_type": "markdown",
   "id": "6158122a-7f1c-47d9-a5d1-6988f8a43e24",
   "metadata": {
    "deletable": false,
    "editable": false
   },
   "source": [
    "# References & Further Reading\n",
    "\n",
    "- [Online Tutorial on Correlation Matrices using Pandas](https://www.stackvidhya.com/plot-correlation-matrix-in-pandas-python/)\n",
    "- [Official Pandas Documentation on Correlations in DataFrames](https://pandas.pydata.org/pandas-docs/stable/reference/api/pandas.DataFrame.corr.html)\n",
    "- [Official Pandas Documentation on Styling a Table](https://pandas.pydata.org/pandas-docs/stable/reference/api/pandas.io.formats.style.Styler.background_gradient.html)\n",
    "- [Wikipedia Article on Correlation](https://en.wikipedia.org/wiki/Correlation)\n",
    "- [Investopedia Article on Correlation](https://www.investopedia.com/terms/c/correlationcoefficient.asp)\n",
    "- [Online Tutorial on Correlations](https://www.statology.org/what-is-a-strong-correlation/)\n",
    "- [Pandas Documentation for Bar Charts](https://pandas.pydata.org/docs/reference/api/pandas.DataFrame.plot.barh.html)\n",
    "- [Pandas Official Visualization User Guide](https://pandas.pydata.org/pandas-docs/stable/user_guide/visualization.html)\n",
    "- [Pandas Official Documentation on Sorting Values in a DataFrame](https://pandas.pydata.org/pandas-docs/stable/reference/api/pandas.DataFrame.sort_values.html#pandas.DataFrame.sort_values)"
   ]
  },
  {
   "cell_type": "markdown",
   "id": "961e6d3f-bed1-4c84-86c3-2c9512401576",
   "metadata": {
    "deletable": false,
    "editable": false
   },
   "source": [
    "---\n",
    "Copyright © 2022 WorldQuant University. This\n",
    "content is licensed solely for personal use. Redistribution or\n",
    "publication of this material is strictly prohibited.\n"
   ]
  }
 ],
 "metadata": {
  "kernelspec": {
   "display_name": "Python 3 (ipykernel)",
   "language": "python",
   "name": "python3"
  },
  "language_info": {
   "codemirror_mode": {
    "name": "ipython",
    "version": 3
   },
   "file_extension": ".py",
   "mimetype": "text/x-python",
   "name": "python",
   "nbconvert_exporter": "python",
   "pygments_lexer": "ipython3",
   "version": "3.9.6"
  }
 },
 "nbformat": 4,
 "nbformat_minor": 5
}
