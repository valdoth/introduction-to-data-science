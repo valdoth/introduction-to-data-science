{
 "cells": [
  {
   "cell_type": "markdown",
   "id": "163d2996-0e0a-4fdb-ac13-756f734accff",
   "metadata": {
    "deletable": false,
    "editable": false
   },
   "source": [
    "<font size=\"+3\"><strong>Databases: PyMongo</strong></font>"
   ]
  },
  {
   "cell_type": "markdown",
   "id": "af38cf62-a63a-40f5-b372-30207e8e9e56",
   "metadata": {
    "deletable": false,
    "editable": false
   },
   "source": [
    "# Working with PyMongo\n",
    "\n",
    "For all of these examples, we're going to be working with the `\"lagos\"` collection in the `\"air-quality\"` database. Before we can do anything else, we need to bring in pandas (which we won't use until the very end), pprint (a module that lets us see the data in an understandable way), and PyMongo (a library for working with MongoDB databases). "
   ]
  },
  {
   "cell_type": "code",
   "execution_count": null,
   "id": "ef0a4043-05ef-4ea6-9306-56e001991823",
   "metadata": {
    "deletable": false
   },
   "outputs": [],
   "source": [
    "from pprint import PrettyPrinter\n",
    "\n",
    "import pandas as pd\n",
    "from pymongo import MongoClient"
   ]
  },
  {
   "cell_type": "markdown",
   "id": "81a9f6ef-cb24-4b0a-9d85-fbe0077e16cb",
   "metadata": {
    "deletable": false,
    "editable": false
   },
   "source": [
    "## Databases\n",
    "\n",
    "Data comes to us in lots of different ways, and one of those ways is in a **database**. A database is a collection of data. "
   ]
  },
  {
   "cell_type": "markdown",
   "id": "be6c4b2a-08ec-4309-bae1-05804b8a5069",
   "metadata": {
    "deletable": false,
    "editable": false
   },
   "source": [
    "## Servers and Clients\n",
    "\n",
    "Next, we need to connect to a server. A database **server** is where the database resides; it can be accessed using a **client**. Without a client, a database is just a collection of information that we can't work with, because we have no way in. We're going to be learning more about a database called MongoDB, and we'll use `PrettyPrinter` to make the information it generates easier to understand. Here's how the connection works: "
   ]
  },
  {
   "cell_type": "code",
   "execution_count": null,
   "id": "06174415-e4ed-4fee-9277-a5152f32ecf5",
   "metadata": {
    "deletable": false
   },
   "outputs": [],
   "source": [
    "pp = PrettyPrinter(indent=2)\n",
    "client = MongoClient(host=\"localhost\", port=27017)"
   ]
  },
  {
   "cell_type": "markdown",
   "id": "1b06be3f-a775-4cb1-92b5-48ae95188502",
   "metadata": {
    "deletable": false,
    "editable": false
   },
   "source": [
    "## Semi-structured Data\n",
    "\n",
    "Databases are designed to work with either structured data or semi-structured data. In this part of the course, we're going to be working with databases that contain **semi-structured data**. Data is semi-structured when it has some kind of organizing logic, but that logic can't be displayed using rows and columns. Your email account contains semi-structured data if it’s divided into sections like *Inbox*, *Sent*, and *Trash*. If you’ve ever seen tweets from Twitter grouped by hashtag, that’s semi-structured data too. Semi-structured data is also used in sensor readings, which is what we'll be working with here."
   ]
  },
  {
   "cell_type": "markdown",
   "id": "190224ed-4f06-45c2-9d33-5b3a16833a49",
   "metadata": {
    "deletable": false,
    "editable": false
   },
   "source": [
    "## Exploring a Database\n",
    "\n",
    "So, now that we're connected to a server, let's take a look at what's there. Working our way down the specificity scale, the first thing we need to do is figure out which databases are on this server. To see which databases on the server, we'll use the [`list_databases`](https://pymongo.readthedocs.io/en/stable/api/pymongo/mongo_client.html#pymongo.mongo_client.MongoClient.list_databases) method, like this:"
   ]
  },
  {
   "cell_type": "code",
   "execution_count": null,
   "id": "ad0c2067-418e-4d5f-929d-4c122dd7d928",
   "metadata": {
    "deletable": false
   },
   "outputs": [],
   "source": [
    "pp.pprint(list(client.list_databases()))"
   ]
  },
  {
   "cell_type": "markdown",
   "id": "bcb08b3f-cdab-4ab3-9853-0cf1d4296e01",
   "metadata": {
    "deletable": false,
    "editable": false
   },
   "source": [
    "It looks like this server contains four databases: `\"admin\"`, `\"air-quality\"`, `\"config\"`, and `\"local\"`. We're only interested in `\"air-quality\"`, so let's connect to that one:"
   ]
  },
  {
   "cell_type": "code",
   "execution_count": null,
   "id": "72c39358-66d5-4437-8012-a01fa04a3b2e",
   "metadata": {
    "deletable": false
   },
   "outputs": [],
   "source": [
    "db = client[\"air-quality\"]"
   ]
  },
  {
   "cell_type": "markdown",
   "id": "f255589b-538e-404c-97bb-f67f1dab4745",
   "metadata": {
    "deletable": false,
    "editable": false
   },
   "source": [
    "In MongoDB, a **database** is a container for **collections**. Each database gets its own set of files, and a single MongoDB **server** typically has multiple databases."
   ]
  },
  {
   "cell_type": "markdown",
   "id": "dded5be4-5c21-465c-a0d7-0ecfbb6a84dd",
   "metadata": {
    "deletable": false,
    "editable": false
   },
   "source": [
    "## Collections\n",
    "\n",
    "Let's use a `for` loop to take a look at the collections in the \"`air-quality\"` database:"
   ]
  },
  {
   "cell_type": "code",
   "execution_count": null,
   "id": "94004847-b511-4b9a-964b-8d1d8fc6eac8",
   "metadata": {
    "deletable": false
   },
   "outputs": [],
   "source": [
    "for c in db.list_collections():\n",
    "    print(c[\"name\"])"
   ]
  },
  {
   "cell_type": "markdown",
   "id": "ccc5a1e6-93b2-4b8b-9451-ae787ab4d74c",
   "metadata": {
    "deletable": false,
    "editable": false
   },
   "source": [
    "As you can see, there are three actual collections here: `\"nairobi\"`, `\"lagos\"`, and `\"dar-es-salaam\"`. Since we're only interested in the `\"lagos\"` collection, let's get it on its own like this: "
   ]
  },
  {
   "cell_type": "code",
   "execution_count": null,
   "id": "697c33ba-8a8f-4e97-8b32-d1a4f84e3cdb",
   "metadata": {
    "deletable": false
   },
   "outputs": [],
   "source": [
    "lagos = db[\"lagos\"]"
   ]
  },
  {
   "cell_type": "markdown",
   "id": "92ba0e8d-64eb-4ffc-be84-5f8949da4ea8",
   "metadata": {
    "deletable": false,
    "editable": false
   },
   "source": [
    "## Documents"
   ]
  },
  {
   "cell_type": "markdown",
   "id": "f954ebca-e660-40ca-ba3f-132c5ccc4b3c",
   "metadata": {
    "deletable": false,
    "editable": false
   },
   "source": [
    "A MongoDB **document** is an individual record of data in a **collection**, and is the basic unit of analysis in MongoDB. Documents come with **metadata** that helps us understand what the document is; we'll get back to that in a minute. In the meantime, let's use the [`count_documents`](https://pymongo.readthedocs.io/en/stable/api/pymongo/collection.html#pymongo.collection.Collection.count_documents) method to see how many documents the `\"lagos\"` collection contains:"
   ]
  },
  {
   "cell_type": "code",
   "execution_count": null,
   "id": "107430a2-8855-4721-9f9e-6bfc4476ad42",
   "metadata": {
    "deletable": false
   },
   "outputs": [],
   "source": [
    "lagos.count_documents({})"
   ]
  },
  {
   "cell_type": "markdown",
   "id": "ff92f44e-896d-4ec9-849b-77afd9060bd9",
   "metadata": {
    "deletable": false,
    "editable": false
   },
   "source": [
    "<font size=\"+1\">Practice</font>\n",
    "\n",
    "Try it yourself! Bring in all the necessary libraries and modules, then connect to the `\"air-quality\"` database and print the number of documents in the `\"nairobi\"` collection."
   ]
  },
  {
   "cell_type": "code",
   "execution_count": null,
   "id": "2080d617-2e37-466c-befb-b0330d823a4a",
   "metadata": {
    "deletable": false
   },
   "outputs": [],
   "source": [
    "\n",
    "\n",
    "    "
   ]
  },
  {
   "cell_type": "markdown",
   "id": "a31dd6c5-611a-41dd-8c04-37b83fefd805",
   "metadata": {
    "deletable": false,
    "editable": false
   },
   "source": [
    "### Retrieving Data\n",
    "\n",
    "Now that we know how many documents the `\"lagos\"` collection contains, let's take a closer look at what's there. The first thing you'll notice is that the output starts out with a curly bracket (`{`), and ends with a curly bracket (`}`). That tells us that this information is a **dictionary**.  To access documents in the collection, we'll use two methods: [`find`](https://pymongo.readthedocs.io/en/stable/api/pymongo/collection.html#pymongo.collection.Collection.find) and [`find_one`](https://pymongo.readthedocs.io/en/stable/api/pymongo/collection.html#pymongo.collection.Collection.find_one). As you might expect, `find` will retrieve all the documents, and `find_one` will bring back only the first document. For now, let's stick to `find_one`; we'll come back to `find` later.\n",
    "\n",
    "Just like everywhere else, we'll need to assign a variable name to whatever comes back, so let's call this one `result`. "
   ]
  },
  {
   "cell_type": "code",
   "execution_count": null,
   "id": "8e25d1a7-3ae9-4e97-8116-34b296973f27",
   "metadata": {
    "deletable": false
   },
   "outputs": [],
   "source": [
    "result = lagos.find_one({})\n",
    "pp.pprint(result)"
   ]
  },
  {
   "cell_type": "markdown",
   "id": "3bcd4b0d-570f-4375-9e3d-86d614c424ca",
   "metadata": {
    "deletable": false,
    "editable": false
   },
   "source": [
    "### Key-Value Pairs\n",
    "\n",
    "There's a lot going on here! Let's work from the bottom up, starting with this: \n",
    "\n",
    "```python\n",
    "{\n",
    "    'temperature': 27.0,\n",
    "    'timestamp': datetime.datetime(2017, 9, 6, 13, 18, 10, 120000)\n",
    "}\n",
    "```\n",
    "\n",
    "\n",
    "The actual data is labeled `temperature` and `timestamp`, and if seeing it presented this way seems familiar, that's because what you're seeing at the bottom are two **key-value pairs**.  In PyMongo, `\"_id\"` is always the **primary key**. Primary keys are the column(s) which contain values that uniquely identify each row in a table; we'll talk about that more in a minute. "
   ]
  },
  {
   "cell_type": "markdown",
   "id": "6aebfd15-3193-4c66-b8cc-d244e22c1322",
   "metadata": {
    "deletable": false,
    "editable": false
   },
   "source": [
    "### Metadata\n",
    "\n",
    "Next, we have this: \n",
    "\n",
    "```python\n",
    "'metadata': { 'lat': 6.602,\n",
    "              'lon': 3.351,\n",
    "              'measurement': 'temperature',\n",
    "              'sensor_id': 9,\n",
    "              'sensor_type': 'DHT11',\n",
    "              'site': 2}\n",
    "```\n",
    "                \n",
    "This is the document's **metadata**. Metadata is data about the data. If you’re working with a database, its data is the information it contains, and its metadata describes what that information is. In MongoDB, each document often has metadata of its own. If we go back to the example of your email account, each message in your *Sent* folder includes both the message itself and information about when you sent it and who you sent it to; the message is data, and the other information is metadata.\n",
    "\n",
    "The metadata we see in this block of code tells us what the key-value pairs from the last code block mean, and where the information stored there comes from. There's location data, a line telling us what about the format of the key-value pairs, some information about the equipment used to gather the data, and where the data came from."
   ]
  },
  {
   "cell_type": "markdown",
   "id": "4043c6c2-8cf8-41b0-b9c8-25f1780d859e",
   "metadata": {
    "deletable": false,
    "editable": false
   },
   "source": [
    "### Identifiers\n",
    "\n",
    "Finally, at the top, we have this:\n",
    "\n",
    "```python\n",
    "{ \n",
    "    '_id': ObjectId('6126f1780e45360640bf240a')\n",
    "}\n",
    "```\n",
    "\n",
    "This is the document's unique identifier, which is similar to the index label for each row in a pandas DataFrame. "
   ]
  },
  {
   "cell_type": "markdown",
   "id": "f3c00ee5-4a90-4644-be56-0a1899079288",
   "metadata": {
    "deletable": false,
    "editable": false
   },
   "source": [
    "<font size=\"+1\">Practice</font>\n",
    "\n",
    "Try it yourself! Retrieve a single document from the `\"nairobi\"` collection, and print the result."
   ]
  },
  {
   "cell_type": "code",
   "execution_count": null,
   "id": "38be137d-dc2f-4f7d-89f0-dbaa5d84c1cc",
   "metadata": {
    "deletable": false
   },
   "outputs": [],
   "source": [
    "result = ...\n",
    "pp.pprint(result)"
   ]
  },
  {
   "cell_type": "markdown",
   "id": "a56ef59a-f297-418e-a0fc-c12cf37c07b2",
   "metadata": {
    "deletable": false,
    "editable": false
   },
   "source": [
    "## Analyzing Data\n",
    "\n",
    "Now that we've seen what a document looks like in this collection, let's start working with what we've got. Since our metadata includes information about each sensor's `\"site\"`, we might be curious to know how many sites are in the `\"lagos\"` collection. To do that, we'll use the [`distinct`](https://pymongo.readthedocs.io/en/stable/api/pymongo/collection.html#pymongo.collection.Collection.distinct) method, like this:"
   ]
  },
  {
   "cell_type": "code",
   "execution_count": null,
   "id": "3b9e632e-803c-4f31-abd0-0eb096daa153",
   "metadata": {
    "deletable": false
   },
   "outputs": [],
   "source": [
    "lagos.distinct(\"metadata.site\")"
   ]
  },
  {
   "cell_type": "markdown",
   "id": "4b00da6e-4ad5-413b-9804-da86d2371f5a",
   "metadata": {
    "deletable": false,
    "editable": false
   },
   "source": [
    "Notice that in order to grab the `\"site\"` number, we needed to include the `\"metadata\"` tag. \n",
    "\n",
    "This tells us that there are 2 sensor sites in Lagos: one labeled `3` and the other labeled `4`.\n",
    "\n",
    "Let's go further. We know that there are two sensor sites in Lagos, but we don't know how many documents are associated with each site. To find that out, we'll use the [`count_documents`](https://pymongo.readthedocs.io/en/stable/api/pymongo/collection.html#pymongo.collection.Collection.count_documents) method for each site."
   ]
  },
  {
   "cell_type": "code",
   "execution_count": null,
   "id": "ae646d87-c218-493c-a0b7-649676ecb896",
   "metadata": {
    "deletable": false
   },
   "outputs": [],
   "source": [
    "print(\"Documents from site 3:\", lagos.count_documents({\"metadata.site\": 3}))\n",
    "print(\"Documents from site 4:\", lagos.count_documents({\"metadata.site\": 4}))"
   ]
  },
  {
   "cell_type": "markdown",
   "id": "4898eb14-fd18-4e37-8321-36878416eb4f",
   "metadata": {
    "deletable": false,
    "editable": false
   },
   "source": [
    "<font size=\"+1\">Practice</font>\n",
    "\n",
    "Try it yourself! Find out how many sensor sites are in Nairobi, what their labels are, and how many documents are associated with each one."
   ]
  },
  {
   "cell_type": "code",
   "execution_count": null,
   "id": "a701250b-f018-4712-931b-b4608285eb22",
   "metadata": {
    "deletable": false
   },
   "outputs": [],
   "source": []
  },
  {
   "cell_type": "code",
   "execution_count": null,
   "id": "83bc2206-88ab-4de4-8591-37a2e0d27406",
   "metadata": {
    "deletable": false
   },
   "outputs": [],
   "source": [
    "print(\"Documents from site 29:\", nairobi.count_documents({\"metadata.site\": 29}))\n",
    "print(\"Documents from site 6:\", nairobi.count_documents({\"metadata.site\": 6}))\n",
    "# REMOVE}"
   ]
  },
  {
   "cell_type": "markdown",
   "id": "10f500b6-ca44-4d85-a4bd-54d52e786a4c",
   "metadata": {
    "deletable": false,
    "editable": false
   },
   "source": [
    "Now that we know how many *documents* are associated with each site, let's keep drilling down and find the number of *readings* for each site. We'll do this with the [`aggregate`](https://pymongo.readthedocs.io/en/stable/api/pymongo/collection.html#pymongo.collection.Collection.aggregate) method.\n",
    "\n",
    "Before we run it, let's take a look at some of what's happening in the code here. First, you'll notice that there are several dollar signs (`$`) in the list. This is telling the collection that we want to create something new. Here, we're saying that we want there to be a new `group`, and that the new group needs to be updated with data from `metadata.site`, and then updated again with data from `count`.\n",
    "\n",
    "There's also a new field: `\"_id\"`. In PyMongo, `\"_id\"` is always the **primary key**. Primary keys are the fields which contain values that uniquely identify each row in a table. \n",
    "\n",
    "Let's run the code and see what happens:"
   ]
  },
  {
   "cell_type": "code",
   "execution_count": null,
   "id": "47dcfb25-0e2c-4969-b2ba-490b49cc8e61",
   "metadata": {
    "deletable": false
   },
   "outputs": [],
   "source": [
    "result = lagos.aggregate(\n",
    "    # Here's the `$` and the `\"_id\"`\n",
    "    [{\"$group\": {\"_id\": \"$metadata.site\", \"count\": {\"$count\": {}}}}]\n",
    ")\n",
    "pp.pprint(list(result))"
   ]
  },
  {
   "cell_type": "markdown",
   "id": "077015e7-4b42-45cc-94ef-0291b1d88a43",
   "metadata": {
    "deletable": false,
    "editable": false
   },
   "source": [
    "With that information in mind, we might want to know what those readings actually are. Since we're really interested in measures of air quality, let's take a look at the `P2` values in the `\"lagos\"` collection. `P2` measures the amount of particulate matter in the air, which in this case is something called PM 2.5. If we wanted to get all the documents in a collection, we could, but that would result in an unmanageably large number of records clogging up the memory on our machines. Instead, let's use the [`find`](https://pymongo.readthedocs.io/en/stable/api/pymongo/collection.html#pymongo.collection.Collection.find) method and use `limit` to make sure we only get back the first 3. "
   ]
  },
  {
   "cell_type": "code",
   "execution_count": null,
   "id": "efa1efee-1405-4c70-b618-8f287505550d",
   "metadata": {
    "deletable": false
   },
   "outputs": [],
   "source": [
    "result = lagos.find({\"metadata.measurement\": \"P2\"}).limit(3)\n",
    "pp.pprint(list(result))"
   ]
  },
  {
   "cell_type": "markdown",
   "id": "56cd6987-4efa-4612-96da-2ee0fea30b03",
   "metadata": {
    "deletable": false,
    "editable": false
   },
   "source": [
    "<font size=\"+1\">Practice</font>\n",
    "\n",
    "Try it yourself! Find out how many sensor sites are in Nairobi, what their labels are, how many documents are associated with each one, and the number of observations from each site. Then, return the first three documents with the value `P2`."
   ]
  },
  {
   "cell_type": "code",
   "execution_count": null,
   "id": "a4211fe6-2a97-4c00-a855-4863ed861b41",
   "metadata": {
    "deletable": false
   },
   "outputs": [],
   "source": [
    "\n",
    "result = ...\n",
    "pp.pprint(list(result))"
   ]
  },
  {
   "cell_type": "markdown",
   "id": "02ef1cf0-cecb-4544-aa0c-ef34101fad91",
   "metadata": {
    "deletable": false,
    "editable": false
   },
   "source": [
    "So far, we've been dealing with relatively small subsets of the data in our collections, but what if we need to work with something bigger? Let's start by using `distinct` to remind ourselves of the kinds of data we have at our disposal."
   ]
  },
  {
   "cell_type": "code",
   "execution_count": null,
   "id": "56f643b2-b3da-4db6-ad26-ef4ee4424d28",
   "metadata": {
    "deletable": false
   },
   "outputs": [],
   "source": [
    "lagos.distinct(\"metadata.measurement\")"
   ]
  },
  {
   "cell_type": "markdown",
   "id": "1b9e8e32-095d-4bc1-83e2-b230f85a18e3",
   "metadata": {
    "deletable": false,
    "editable": false
   },
   "source": [
    "Since we're looking for *big* numbers, we need to figure out which one of those dimensions has the largest number of measurements by **aggregating** the data in each document. Since we already know that `site 3` has significantly more documents than `site 2`, let's start looking at `site 3`.  The code to do that looks like this: "
   ]
  },
  {
   "cell_type": "code",
   "execution_count": null,
   "id": "dfe7b714-30d2-4946-bebe-40cd2cfe09bf",
   "metadata": {
    "deletable": false
   },
   "outputs": [],
   "source": [
    "result = lagos.aggregate(\n",
    "    [\n",
    "        {\"$match\": {\"metadata.site\": 3}},  # `3` is the site number.\n",
    "        {\"$group\": {\"_id\": \"$metadata.measurement\", \"count\": {\"$count\": {}}}},\n",
    "    ]\n",
    ")\n",
    "pp.pprint(list(result))"
   ]
  },
  {
   "cell_type": "markdown",
   "id": "ab1b6bcd-f102-4bba-a67e-dccfd76c503e",
   "metadata": {
    "deletable": false,
    "editable": false
   },
   "source": [
    "<font size=\"+1\">Practice</font>\n",
    "\n",
    "Try it yourself find the number of each measurement type at `site 29` in Nairobi."
   ]
  },
  {
   "cell_type": "code",
   "execution_count": null,
   "id": "44973be1-94eb-4ae2-b474-40ef6e21e51c",
   "metadata": {
    "deletable": false
   },
   "outputs": [],
   "source": [
    "result = ...\n",
    "pp.pprint(list(result))"
   ]
  },
  {
   "cell_type": "markdown",
   "id": "63216eb1-b8e8-414c-bb45-fbb678bae1b3",
   "metadata": {
    "deletable": false,
    "editable": false
   },
   "source": [
    "## Finishing Up\n",
    "\n",
    "So far, we've connected to a server, accessed that server with a client, found the collection we were looking for within a database, and explored that collection in all sorts of different ways. Now it's time to get the data we'll actually need to build a model, and store that in a way we'll be able to use.\n",
    "\n",
    "Let's use `find` to retrieve the PM 2.5 data from site 3. And, since we don't need any of the metadata to build our model, let's strip that out using the `projection` argument. In this case, we're telling the collection that we only want to see `\"timestamp\"` and `\"P2\"`. Keep in mind that we limited the number of records we'll get back to 3 when we defined `result` above. "
   ]
  },
  {
   "cell_type": "code",
   "execution_count": null,
   "id": "b303dea6-70c8-4c87-a71f-f2b343f02b61",
   "metadata": {
    "deletable": false
   },
   "outputs": [],
   "source": [
    "result = lagos.find(\n",
    "    {\"metadata.site\": 3, \"metadata.measurement\": \"P2\"},\n",
    "    # `projection` limits the kinds of data we'll get back.\n",
    "    projection={\"P2\": 1, \"timestamp\": 1, \"_id\": 0},\n",
    ")\n",
    "pp.pprint(result.next())"
   ]
  },
  {
   "cell_type": "markdown",
   "id": "afbb60cc-a424-4632-8df6-4c3742e89d11",
   "metadata": {
    "deletable": false,
    "editable": false
   },
   "source": [
    "Finally, we'll use pandas to read the extracted data into a DataFrame, making sure to set `timestamp` as the index:"
   ]
  },
  {
   "cell_type": "code",
   "execution_count": null,
   "id": "c55b55c7-e2b1-4c33-8545-6fcd43cab8d1",
   "metadata": {
    "deletable": false
   },
   "outputs": [],
   "source": [
    "df = pd.DataFrame(result).set_index(\"timestamp\")\n",
    "df.head()"
   ]
  },
  {
   "cell_type": "markdown",
   "id": "6eaf3e2c-3bce-4353-a11a-9cd61b39798f",
   "metadata": {
    "deletable": false,
    "editable": false
   },
   "source": [
    "<font size=\"+1\">Practice</font>\n",
    "\n",
    "Try it yourself! Retrieve the PM 2.5 data from site 29 in Nairobi and strip out the metadata to create a DataFrame that shows only `timestamp` and `P2`. Print the result."
   ]
  },
  {
   "cell_type": "code",
   "execution_count": null,
   "id": "f924755b-f0e6-4845-afaa-eebec766f168",
   "metadata": {
    "deletable": false
   },
   "outputs": [],
   "source": [
    "result = ...\n",
    "df = ...\n",
    "df.head()"
   ]
  },
  {
   "cell_type": "markdown",
   "id": "c895a3c1-5310-4cf3-9ac8-d9c177b1d805",
   "metadata": {
    "deletable": false,
    "editable": false
   },
   "source": [
    "# References & Further Reading\n",
    "\n",
    "- [Further reading about servers and clients](https://isaaccomputerscience.org/concepts/data_dbs_client_server?examBoard=all&stage=all)\n",
    "- [Definitions from the MongoDB documentation](https://docs.mongodb.com/compass/current/databases/)\n",
    "- [Information on Iterators](https://www.w3schools.com/python/python_iterators.asp)"
   ]
  },
  {
   "cell_type": "markdown",
   "id": "a9c6d534-a1e1-4054-9b6b-feb5d6ab8bbc",
   "metadata": {
    "deletable": false,
    "editable": false
   },
   "source": [
    "---\n",
    "Copyright © 2022 WorldQuant University. This\n",
    "content is licensed solely for personal use. Redistribution or\n",
    "publication of this material is strictly prohibited.\n"
   ]
  }
 ],
 "metadata": {
  "kernelspec": {
   "display_name": "Python 3 (ipykernel)",
   "language": "python",
   "name": "python3"
  },
  "language_info": {
   "codemirror_mode": {
    "name": "ipython",
    "version": 3
   },
   "file_extension": ".py",
   "mimetype": "text/x-python",
   "name": "python",
   "nbconvert_exporter": "python",
   "pygments_lexer": "ipython3",
   "version": "3.9.6"
  }
 },
 "nbformat": 4,
 "nbformat_minor": 5
}
