{
 "cells": [
  {
   "cell_type": "markdown",
   "id": "9ba1895f-7a29-41b4-a6bd-14df334c359b",
   "metadata": {
    "deletable": false,
    "editable": false
   },
   "source": [
    "<font size=\"+3\"><strong>Pandas: Advanced</strong></font>"
   ]
  },
  {
   "cell_type": "markdown",
   "id": "a0389a0d-f42f-48c8-98cc-e7121f5f268d",
   "metadata": {
    "deletable": false,
    "editable": false
   },
   "source": [
    "# Calculate Summary Statistics for a DataFrame or Series"
   ]
  },
  {
   "cell_type": "markdown",
   "id": "cdd839d3-1928-4868-be57-99d99352a77e",
   "metadata": {
    "deletable": false,
    "editable": false
   },
   "source": [
    "Many datasets are large, and it can be helpful to get a summary of information in them. Let's load a dataset and examine the first few rows:"
   ]
  },
  {
   "cell_type": "code",
   "execution_count": null,
   "id": "e0ec0607-afd1-451c-a005-cdd479417604",
   "metadata": {
    "deletable": false
   },
   "outputs": [],
   "source": [
    "import pandas as pd\n",
    "\n",
    "mexico_city1 = pd.read_csv(\"./data/mexico-city-real-estate-1.csv\")\n",
    "mexico_city1.head()"
   ]
  },
  {
   "cell_type": "markdown",
   "id": "637f40e8-af77-400d-9bf3-aa76c7dd38e2",
   "metadata": {
    "deletable": false,
    "editable": false
   },
   "source": [
    "Let's get a summary description of this dataset."
   ]
  },
  {
   "cell_type": "code",
   "execution_count": null,
   "id": "deea6584-44ca-4a71-a958-1195b15de46e",
   "metadata": {
    "deletable": false
   },
   "outputs": [],
   "source": [
    "mexico_city1.describe()"
   ]
  },
  {
   "cell_type": "markdown",
   "id": "c4131059-1d15-40f6-9b96-c7fa382c0e78",
   "metadata": {
    "deletable": false,
    "editable": false
   },
   "source": [
    "Like most large datasets, this one has many values which are missing. The describe function will ignore missing values in each column. You can also remove rows and columns with missing values, and then get a summary of the data that's still there. We need to remove columns first, before removing the rows; the sequence of operations here is important. The code looks like this:"
   ]
  },
  {
   "cell_type": "code",
   "execution_count": null,
   "id": "b67e2276-75ec-4d83-bb86-80701df8ac69",
   "metadata": {
    "deletable": false
   },
   "outputs": [],
   "source": [
    "mexico_city1 = mexico_city1.drop(\n",
    "    [\"floor\", \"price_usd_per_m2\", \"expenses\", \"rooms\"], axis=1\n",
    ")\n",
    "mexico_city1 = mexico_city1.dropna(axis=0)\n",
    "mexico_city1.head()"
   ]
  },
  {
   "cell_type": "markdown",
   "id": "6f438828-3dec-418e-8f54-a7e7fd6340d3",
   "metadata": {
    "deletable": false,
    "editable": false
   },
   "source": [
    "Let's take a look at our new, cleaner dataset."
   ]
  },
  {
   "cell_type": "code",
   "execution_count": null,
   "id": "861a8282-f841-4d88-88aa-a3c95981a041",
   "metadata": {
    "deletable": false
   },
   "outputs": [],
   "source": [
    "mexico_city1.describe()"
   ]
  },
  {
   "cell_type": "markdown",
   "id": "9d37cb96-4bbe-4f71-9523-85b89275069e",
   "metadata": {
    "deletable": false,
    "editable": false
   },
   "source": [
    "<font size=\"+1\">Practice</font> \n",
    "\n",
    "Reload the `mexico-city-real-estate-1.csv` dataset. Reverse the sequence of operations by first dropping all rows where there is a missing value, and then dropping the columns, `floor`, `price_usd_per_m2`,`expenses` and `rooms`. What is the size of the resulting DataFrame?"
   ]
  },
  {
   "cell_type": "code",
   "execution_count": null,
   "id": "460b44bd-04f8-459f-82e9-fcbc8a8b1fb3",
   "metadata": {
    "deletable": false
   },
   "outputs": [],
   "source": [
    "mexico_city1 = pd.read_csv(\"./data/mexico-city-real-estate-1.csv\")\n",
    "mexico_city1 = ...\n",
    "mexico_city1 = mexico_city1.drop(\n",
    "    [\"floor\", \"price_usd_per_m2\", \"expenses\", \"rooms\"], axis=1\n",
    ")  # REMOVERHS\n",
    "print(mexico_city1.shape)"
   ]
  },
  {
   "cell_type": "markdown",
   "id": "1a452e7d-5a4e-43d9-9786-4ad798b1b20e",
   "metadata": {
    "deletable": false,
    "editable": false
   },
   "source": [
    "# Select a Series from a DataFrame"
   ]
  },
  {
   "cell_type": "markdown",
   "id": "b19f422b-94ed-485f-9027-6dbe39b975c0",
   "metadata": {
    "deletable": false,
    "editable": false
   },
   "source": [
    "Since the datasets we work with are so large, you might want to focus on a single column of a DataFrame. Let's load up the `mexico-city-real-estate-2` dataset, and examine the first few rows to find the column names."
   ]
  },
  {
   "cell_type": "code",
   "execution_count": null,
   "id": "7ed83c53-24cd-4e89-84b3-31a7eb8ba885",
   "metadata": {
    "deletable": false
   },
   "outputs": [],
   "source": [
    "mexico_city2 = pd.read_csv(\"./data/mexico-city-real-estate-2.csv\")\n",
    "mexico_city2.head()"
   ]
  },
  {
   "cell_type": "markdown",
   "id": "d82a5aa1-623a-4d9c-9498-df51edd61efe",
   "metadata": {
    "deletable": false,
    "editable": false
   },
   "source": [
    "Maybe we're interested in the `surface_covered_in_m2` column. The code to extract just that one column looks like this:"
   ]
  },
  {
   "cell_type": "code",
   "execution_count": null,
   "id": "3fa04ea8-f4e4-431b-9143-88a291303d6c",
   "metadata": {
    "deletable": false
   },
   "outputs": [],
   "source": [
    "surface_covered_in_m2 = mexico_city2[\"surface_covered_in_m2\"]\n",
    "surface_covered_in_m2"
   ]
  },
  {
   "cell_type": "markdown",
   "id": "4e6bea3e-811d-4eb2-b2b1-c08890244d72",
   "metadata": {
    "deletable": false,
    "editable": false
   },
   "source": [
    "<font size=\"+1\">Practice</font> \n",
    "\n",
    "Select the `price` series from the `mexico-city-real-estate-2` dataset, and load it into the `mexico_city2` DataFrame"
   ]
  },
  {
   "cell_type": "code",
   "execution_count": null,
   "id": "95142f38-35a6-4eb5-9bb8-213a32687974",
   "metadata": {
    "deletable": false
   },
   "outputs": [],
   "source": [
    "price = ...\n",
    "print(price)"
   ]
  },
  {
   "cell_type": "markdown",
   "id": "28c05cba-23d2-486e-85f3-a5de3409120b",
   "metadata": {
    "deletable": false,
    "editable": false
   },
   "source": [
    "# Subset a DataFrame by Selecting One or More Columns"
   ]
  },
  {
   "cell_type": "markdown",
   "id": "cba558ae-f5e4-4b76-abe3-4959c60bb5bb",
   "metadata": {
    "deletable": false,
    "editable": false
   },
   "source": [
    "You may find it more efficient to work with a smaller portion of a dataset that's relevant to you. One way to do this is to select some columns from a DataFrame and make a new DataFrame with them. Let's load a dataset to do this and examine the first few rows to find the column headings:"
   ]
  },
  {
   "cell_type": "code",
   "execution_count": null,
   "id": "fc800cf6-fac3-4192-ad2c-e4da69ee96f0",
   "metadata": {
    "deletable": false
   },
   "outputs": [],
   "source": [
    "mexico_city4 = pd.read_csv(\"./data/mexico-city-real-estate-4.csv\")\n",
    "mexico_city4.head()"
   ]
  },
  {
   "cell_type": "markdown",
   "id": "a9f7e22d-571f-4188-b7a7-643e03440ed3",
   "metadata": {
    "deletable": false,
    "editable": false
   },
   "source": [
    "Let's choose `\"operation\"`, `\"property_type\"`, `\"place_with_parent_names\"`, and `\"price\"`:"
   ]
  },
  {
   "cell_type": "code",
   "execution_count": null,
   "id": "d07dffc3-d01e-4bde-8b17-ddc1e3b21668",
   "metadata": {
    "deletable": false
   },
   "outputs": [],
   "source": [
    "mexico_city4_subset = mexico_city4[\n",
    "    [\"operation\", \"property_type\", \"place_with_parent_names\", \"price\"]\n",
    "]"
   ]
  },
  {
   "cell_type": "markdown",
   "id": "4aa3a16c-1e55-40f7-aaa9-89174ffd94d0",
   "metadata": {
    "deletable": false,
    "editable": false
   },
   "source": [
    "Once we've done that, we can find the resulting number of entries in the DataFrame:"
   ]
  },
  {
   "cell_type": "code",
   "execution_count": null,
   "id": "c891bf4a-fbec-43af-83fb-c2c7a43579f4",
   "metadata": {
    "deletable": false
   },
   "outputs": [],
   "source": [
    "mexico_city4_subset.shape"
   ]
  },
  {
   "cell_type": "markdown",
   "id": "aba2cd62-49af-4670-a9e5-5a5f3ba9cab2",
   "metadata": {
    "deletable": false,
    "editable": false
   },
   "source": [
    "<font size=\"+1\">Practice</font> \n",
    "\n",
    "Load the `mexico-city-real-estate-1.csv` dataset and subset it to obtain the `operation`, `lat-lon` and `place_with_property_names` columns only. How many entries are in the resulting DataFrame?"
   ]
  },
  {
   "cell_type": "code",
   "execution_count": null,
   "id": "3f3ac90f-a83f-473e-8924-cde488311402",
   "metadata": {
    "deletable": false
   },
   "outputs": [],
   "source": [
    "mexico_city1 = ...\n",
    "mexico_city1_subset = mexico_city1[\n",
    "    [\"operation\", \"lat-lon\", \"place_with_parent_names\"]\n",
    "]  # REMOVERHS\n",
    "print(mexico_city1_subset.shape)"
   ]
  },
  {
   "cell_type": "markdown",
   "id": "f15a5466-6c8a-4f52-8cd6-d73228ee668a",
   "metadata": {
    "deletable": false,
    "editable": false
   },
   "source": [
    "# Subset the Columns of a DataFrame Based on Data Types"
   ]
  },
  {
   "cell_type": "markdown",
   "id": "3f185482-4d2e-4707-ad1b-f6343b8c9e5b",
   "metadata": {
    "deletable": false,
    "editable": false
   },
   "source": [
    "It's helpful to be able to find specific types of entries &mdash; typically numeric ones &mdash; and put all of these in a separate DataFrame. First, let's take a look at the `mexico-city-real-estate-5` dataset."
   ]
  },
  {
   "cell_type": "code",
   "execution_count": null,
   "id": "1fdcc5a2-5f36-44de-a6d9-91a9fa0cf514",
   "metadata": {
    "deletable": false
   },
   "outputs": [],
   "source": [
    "mexico_city5 = pd.read_csv(\"./data/mexico-city-real-estate-5.csv\")\n",
    "mexico_city5.head()"
   ]
  },
  {
   "cell_type": "markdown",
   "id": "0620d55e-dae7-469a-868b-2c70c1261617",
   "metadata": {
    "deletable": false,
    "editable": false
   },
   "source": [
    "The code to subset just the numerical entries looks like this:"
   ]
  },
  {
   "cell_type": "code",
   "execution_count": null,
   "id": "5b642126-5443-4e91-a196-477b0078ceee",
   "metadata": {
    "deletable": false
   },
   "outputs": [],
   "source": [
    "mexico_city5_numbers = mexico_city5.select_dtypes(include=\"number\")\n",
    "mexico_city5_numbers.head()"
   ]
  },
  {
   "cell_type": "markdown",
   "id": "c55f1557-4be2-4c9c-8b5f-8fcc8f5457e3",
   "metadata": {
    "deletable": false,
    "editable": false
   },
   "source": [
    "<font size=\"+1\">Practice</font> \n",
    "\n",
    "Create a subset of the DataFrame from `mexico-city-real-estate-5` which excludes numbers."
   ]
  },
  {
   "cell_type": "code",
   "execution_count": null,
   "id": "eeee62b8-1e93-42c9-806a-f72a581cd14e",
   "metadata": {
    "deletable": false
   },
   "outputs": [],
   "source": [
    "mexico_city3 = ...\n",
    "mexico_city3_no_numbers = ...\n",
    "print(mexico_city3_no_numbers.shape)"
   ]
  },
  {
   "cell_type": "markdown",
   "id": "4dac45ec-d9cc-452a-b915-1eed85e4fc08",
   "metadata": {
    "deletable": false,
    "editable": false
   },
   "source": [
    "# Working with `value_counts` in a Series\n",
    "\n",
    "In order to use the data in a series for other types of analysis, it might be helpful to know how often each value occurs in the Series. To do that, we use the `value_counts` method to aggregate the data. Let's take a look at the number of properties associated with each department in the `colombia-real-estate-1` dataset."
   ]
  },
  {
   "cell_type": "code",
   "execution_count": null,
   "id": "96f86b31-5c8e-4b6e-849e-7593038c3440",
   "metadata": {
    "deletable": false
   },
   "outputs": [],
   "source": [
    "df1 = pd.read_csv(\"data/colombia-real-estate-1.csv\", usecols=[\"department\"])\n",
    "df1[\"department\"].value_counts()"
   ]
  },
  {
   "cell_type": "markdown",
   "id": "ff8b4e4f-29a8-43d9-8f9d-f3ac317163fa",
   "metadata": {
    "deletable": false,
    "editable": false
   },
   "source": [
    "<font size=\"+1\">Practice</font>\n",
    "\n",
    "Try it yourself! Aggregate the different property types in the `colombia-real-estate-2` dataset."
   ]
  },
  {
   "cell_type": "code",
   "execution_count": null,
   "id": "a43e2128-cf42-4161-8c46-3ffffd47ac2a",
   "metadata": {
    "deletable": false
   },
   "outputs": [],
   "source": [
    "df2 = ...\n"
   ]
  },
  {
   "cell_type": "markdown",
   "id": "867be805-7796-4b93-8ab7-124a635dc0db",
   "metadata": {
    "deletable": false,
    "editable": false
   },
   "source": [
    "# Series and `Groupby`\n",
    "\n",
    "Large Series often include data points that have some attribute in common, but which are nevertheless not grouped together in the dataset. Happily, pandas has a method that will bring these data points together into groups. \n",
    "\n",
    "Let's take a look at the `colombia-real-estate-1` dataset. The set includes properties scattered across Colombia, so it might be useful to group properties from the same department together; to do this, we'll use the `groupby` method. The code looks like this:"
   ]
  },
  {
   "cell_type": "code",
   "execution_count": null,
   "id": "418c31f0-edf4-4972-9b26-0bfac874521b",
   "metadata": {
    "deletable": false
   },
   "outputs": [],
   "source": [
    "dept_group = df1.groupby(\"department\")"
   ]
  },
  {
   "cell_type": "markdown",
   "id": "99200fde-ad69-4e87-92fa-25cae25833d3",
   "metadata": {
    "deletable": false,
    "editable": false
   },
   "source": [
    "To make sure we got all the departments in the dataset, let's print the first occurrence of each department."
   ]
  },
  {
   "cell_type": "code",
   "execution_count": null,
   "id": "e2743428-ee34-44ce-81e2-3ee9524909da",
   "metadata": {
    "deletable": false
   },
   "outputs": [],
   "source": [
    "dept_group.first()"
   ]
  },
  {
   "cell_type": "markdown",
   "id": "89d44791-8d0e-4e28-a2e5-f5f62d5ff5a3",
   "metadata": {
    "deletable": false,
    "editable": false
   },
   "source": [
    "<font size=\"+1\">Practice</font>\n",
    "\n",
    "Try it yourself! Group the properties in `colombia-real-estate-2` by department, and print the result."
   ]
  },
  {
   "cell_type": "code",
   "execution_count": null,
   "id": "35f70a53-012e-4375-ad2e-c7398ad740a9",
   "metadata": {
    "deletable": false
   },
   "outputs": [],
   "source": [
    "df2 = ...\n",
    "dept_group = ...\n",
    "dept_group.first()"
   ]
  },
  {
   "cell_type": "markdown",
   "id": "28e2ea20-1db8-4a8b-ac24-06f11bb0cce3",
   "metadata": {
    "deletable": false,
    "editable": false
   },
   "source": [
    "Now that we have all the properties grouped by department, we might want to see the properties in just one of the departments. We can use the `get_group` method to do that. If we just wanted to see the properties in `\"Santander\"`, for example, the code would look like this: "
   ]
  },
  {
   "cell_type": "code",
   "execution_count": null,
   "id": "8f4f2506-2237-482b-bd93-f1978fd69590",
   "metadata": {
    "deletable": false
   },
   "outputs": [],
   "source": [
    "dept_group1 = df1.groupby(\"department\")\n",
    "dept_group1.get_group(\"Santander\")"
   ]
  },
  {
   "cell_type": "markdown",
   "id": "964fe48d-3eb5-4d75-8784-41039bdd47e9",
   "metadata": {
    "deletable": false,
    "editable": false
   },
   "source": [
    "We can also make groups based on more than one category by adding them to the `groupby` method. After resetting the `df1` DataFrame, here's what the code looks like if we want to group properties both by `department` and by `property_type`."
   ]
  },
  {
   "cell_type": "code",
   "execution_count": null,
   "id": "8e24a956-1548-46c1-b5ff-ba2339994258",
   "metadata": {
    "deletable": false
   },
   "outputs": [],
   "source": [
    "df1 = pd.read_csv(\"data/colombia-real-estate-1.csv\")\n",
    "dept_group2 = df1.groupby([\"department\", \"property_type\"])\n",
    "dept_group2.first()"
   ]
  },
  {
   "cell_type": "markdown",
   "id": "a6fe89ac-671e-4374-abc8-242ee4ec7d3d",
   "metadata": {
    "deletable": false,
    "editable": false
   },
   "source": [
    "<font size=\"+1\">Practice</font>\n",
    "\n",
    "Try it yourself! Group the properties in `colombia-real-estate-2` by department and property type, and print the result."
   ]
  },
  {
   "cell_type": "code",
   "execution_count": null,
   "id": "88fd87f8-02c9-4538-a34c-e7ccc094aed5",
   "metadata": {
    "deletable": false
   },
   "outputs": [],
   "source": [
    "dept_group = ...\n",
    "dept_group.first()"
   ]
  },
  {
   "cell_type": "markdown",
   "id": "1d967ded-59f4-440e-bfe3-17de1d781b53",
   "metadata": {
    "deletable": false,
    "editable": false
   },
   "source": [
    "Finally, it's possible to use `groupby` to calculate aggregations. For example, if we wanted to find the average property area in each department, we would use the `.mean()` method. This is what the code for that looks like:"
   ]
  },
  {
   "cell_type": "code",
   "execution_count": null,
   "id": "cef187eb-57ef-4a3f-951e-90b3edcf88ab",
   "metadata": {
    "deletable": false
   },
   "outputs": [],
   "source": [
    "dept_group = df1.groupby(\"department\")[\"area_m2\"].mean()\n",
    "dept_group"
   ]
  },
  {
   "cell_type": "markdown",
   "id": "ecb0c646-147e-4d40-b8a6-413e851cc6e0",
   "metadata": {
    "deletable": false,
    "editable": false
   },
   "source": [
    "*Practice*\n",
    "Try it yourself! Use the `.mean` method in the `colombia-real-estate-2` dataset to find the average price in Colombian pesos (`\"price_cop\"`) for properties in each `\"department\"`."
   ]
  },
  {
   "cell_type": "code",
   "execution_count": null,
   "id": "883654c5-e0c7-46ce-af47-ff174c275a1a",
   "metadata": {
    "deletable": false
   },
   "outputs": [],
   "source": [
    "dept_group = ...\n",
    "dept_group"
   ]
  },
  {
   "cell_type": "markdown",
   "id": "cb2b8ee4-5289-467f-9bdd-607062d67984",
   "metadata": {
    "deletable": false,
    "editable": false
   },
   "source": [
    "# Subset a DataFrame's Columns Based on the Column Data Types"
   ]
  },
  {
   "cell_type": "markdown",
   "id": "0fd8db67-f557-4fa1-be08-be5676b37909",
   "metadata": {
    "deletable": false,
    "editable": false
   },
   "source": [
    "It's helpful to be able to find entries of a certain type, typically numerical entries, and put all of these in a separate DataFrame. Let's load a dataset to see how this works:"
   ]
  },
  {
   "cell_type": "code",
   "execution_count": null,
   "id": "250b3e96-2c8f-445a-b17e-21bebf39918a",
   "metadata": {
    "deletable": false
   },
   "outputs": [],
   "source": [
    "mexico_city5 = pd.read_csv(\"./data/mexico-city-real-estate-5.csv\")\n",
    "mexico_city5.head()"
   ]
  },
  {
   "cell_type": "markdown",
   "id": "763e3870-dcda-44bd-90a6-2ba5115f3a40",
   "metadata": {
    "deletable": false,
    "editable": false
   },
   "source": [
    "Now let's get only numerical entries:"
   ]
  },
  {
   "cell_type": "code",
   "execution_count": null,
   "id": "7ffbefd7-18ad-429c-a887-9362437b2537",
   "metadata": {
    "deletable": false
   },
   "outputs": [],
   "source": [
    "mexico_city5_numbers = mexico_city5.select_dtypes(include=\"number\")\n",
    "mexico_city5_numbers.head()"
   ]
  },
  {
   "cell_type": "markdown",
   "id": "bb751fb6-21a9-4d4e-bc7e-7cc0ee858d78",
   "metadata": {
    "deletable": false,
    "editable": false
   },
   "source": [
    "Let's now find all entries which are not numerical entries:"
   ]
  },
  {
   "cell_type": "code",
   "execution_count": null,
   "id": "da81a3eb-65af-40e1-be30-6817bfc8c0ec",
   "metadata": {
    "deletable": false
   },
   "outputs": [],
   "source": [
    "mexico_city5_no_numbers = mexico_city5.select_dtypes(exclude=\"number\")\n",
    "mexico_city5_no_numbers.head()"
   ]
  },
  {
   "cell_type": "markdown",
   "id": "83461a78-b573-403d-8564-a5b078d3d6b9",
   "metadata": {
    "deletable": false,
    "editable": false
   },
   "source": [
    "<font size=\"+1\">Practice</font> \n",
    "\n",
    "Create a subset of the DataFrame from `mexico-city-real-estate-5.csv` which excludes numbers. How many entries does it have?"
   ]
  },
  {
   "cell_type": "code",
   "execution_count": null,
   "id": "2925bc80-df8c-4945-8ee8-7b24ac095ede",
   "metadata": {
    "deletable": false
   },
   "outputs": [],
   "source": [
    "mexico_city3 = ...\n",
    "mexico_city3_no_numbers = ...\n",
    "print(mexico_city3_no_numbers.shape)"
   ]
  },
  {
   "cell_type": "markdown",
   "id": "eb754640-2df4-4507-bc2f-118a28061bd8",
   "metadata": {
    "deletable": false,
    "editable": false
   },
   "source": [
    "# Subset a DataFrame's columns based on column names"
   ]
  },
  {
   "cell_type": "markdown",
   "id": "d1b1c1d8-23c5-427b-a409-c25b6ce14ae4",
   "metadata": {
    "deletable": false,
    "editable": false
   },
   "source": [
    "To subset a DataFrame by column names, either define a list of columns to include or define a list of columns to exclude. Once you've done that, you can retain or drop the columns accordingly. For example, let's suppose we want to modify the `mexico_city3` dataset and only retain the first three columns. Let's define two lists, one with the columns to retain and one with the columns to drop:"
   ]
  },
  {
   "cell_type": "code",
   "execution_count": null,
   "id": "1a663a95-bec4-4d1b-a2ac-1db7433da9e5",
   "metadata": {
    "deletable": false
   },
   "outputs": [],
   "source": [
    "drop_cols = [\n",
    "    \"lat-lon\",\n",
    "    \"price\",\n",
    "    \"currency\",\n",
    "    \"price_aprox_local_currency\",\n",
    "    \"price_aprox_usd\",\n",
    "    \"surface_total_in_m2\",\n",
    "    \"surface_covered_in_m2\",\n",
    "    \"price_usd_per_m2\",\n",
    "    \"price_per_m2\",\n",
    "    \"floor\",\n",
    "    \"rooms\",\n",
    "    \"expenses\",\n",
    "    \"properati_url\",\n",
    "]\n",
    "\n",
    "keep_cols = [\"operation\", \"property_type\", \"place_with_parent_names\"]"
   ]
  },
  {
   "cell_type": "markdown",
   "id": "3e0b157c-d2e2-47c6-b067-1902fb7c1c62",
   "metadata": {
    "deletable": false,
    "editable": false
   },
   "source": [
    "Next, we'll explore both approaches to subset `mexico_city3`. To retain columns based on `keep_cols`:"
   ]
  },
  {
   "cell_type": "code",
   "execution_count": null,
   "id": "cbb492b4-b20a-47b3-952a-043085427efe",
   "metadata": {
    "deletable": false
   },
   "outputs": [],
   "source": [
    "mexico_city3_subsetted = mexico_city3[keep_cols]"
   ]
  },
  {
   "cell_type": "markdown",
   "id": "3a50fb32-ea12-4c26-9aaf-5a4c35a9bd76",
   "metadata": {
    "deletable": false,
    "editable": false
   },
   "source": [
    "To drop columns in `drop_cols`:"
   ]
  },
  {
   "cell_type": "code",
   "execution_count": null,
   "id": "3d4e82ce-eeb5-47ce-929b-c6808116d1d0",
   "metadata": {
    "deletable": false
   },
   "outputs": [],
   "source": [
    "mexico_city3_subsetted = mexico_city3.drop(columns=drop_cols)"
   ]
  },
  {
   "cell_type": "markdown",
   "id": "68e2ddd0-743f-443b-8355-1cf90ba1442c",
   "metadata": {
    "deletable": false,
    "editable": false
   },
   "source": [
    "<font size=\"+1\">Practice</font> \n",
    "\n",
    "Create a subset of the DataFrame from `mexico-city-real-estate-3.csv` which excludes the last two columns."
   ]
  },
  {
   "cell_type": "code",
   "execution_count": null,
   "id": "0cf2be4c-148c-4155-81f9-53ea4f1bd824",
   "metadata": {
    "deletable": false
   },
   "outputs": [],
   "source": []
  },
  {
   "cell_type": "markdown",
   "id": "8ee9f227-b1da-4147-ab6d-65e3f9ebf2be",
   "metadata": {
    "deletable": false,
    "editable": false
   },
   "source": [
    "## Pivot Tables\n",
    "\n",
    "A pivot table allows to aggregate and summarize a DataFrame across multiple variables. For example, let's suppose we wanted to calculate the mean of the `price` column in the `mexico_city3` dataset for the different values in the `property_type` column:"
   ]
  },
  {
   "cell_type": "code",
   "execution_count": null,
   "id": "42a33846-aab7-456d-88a1-1c53bf0998dc",
   "metadata": {
    "deletable": false
   },
   "outputs": [],
   "source": [
    "import numpy as np\n",
    "\n",
    "mexico_city3_pivot = ...\n",
    "mexico_city3_pivot"
   ]
  },
  {
   "cell_type": "markdown",
   "id": "a9e22aca-2f6e-4197-b82c-657d3293ccbb",
   "metadata": {
    "deletable": false,
    "editable": false
   },
   "source": [
    "# Subsetting with Masks\n",
    "\n",
    "Another way to to create subsets from a larger dataset is through **masking**. Masks are ways to filter out the data you're not interested in so that you can focus on the data you are. For example, we might want to look at properties in Colombia that are bigger than 200 square meters. In order to create this subset, we'll need to use a mask. \n",
    "\n",
    "First, we'll reset our `df1` DataFrame so that we can draw on all the data in its original form. Then we'll create a statement and then assign the result to `mask`."
   ]
  },
  {
   "cell_type": "code",
   "execution_count": null,
   "id": "a1fcb9ed-5643-4ea0-94e7-503166c9ded9",
   "metadata": {
    "deletable": false
   },
   "outputs": [],
   "source": [
    "df1 = pd.read_csv(\"data/colombia-real-estate-1.csv\")\n",
    "mask = df1[\"area_m2\"] > 200\n",
    "mask.head()"
   ]
  },
  {
   "cell_type": "markdown",
   "id": "cca6fc85-24c3-4e2d-b9da-a61a24156eda",
   "metadata": {
    "deletable": false,
    "editable": false
   },
   "source": [
    "Notice that `mask` is a Series of Boolean values. Where properties are smaller than 200 square meters, our statement evaluates as `False`; where they're bigger than 200, it evaluates to `True`.\n",
    "\n",
    "Once we have our mask, we can use it to select all the rows from `df1` that evaluate as `True`."
   ]
  },
  {
   "cell_type": "code",
   "execution_count": null,
   "id": "665b72c8-9d10-4be7-8a2a-2e6e9f627bb2",
   "metadata": {
    "deletable": false
   },
   "outputs": [],
   "source": [
    "df1[mask].head()"
   ]
  },
  {
   "cell_type": "markdown",
   "id": "1b1b56b7-c876-4e1e-a0d0-08d597d7bb47",
   "metadata": {
    "deletable": false,
    "editable": false
   },
   "source": [
    "<font size=\"+1\">Practice</font>\n",
    "\n",
    "Try it yourself! Read `colombia-real-estate-2` into a DataFrame named `df2`, and create a mask to select all the properties that are smaller than 100 square meters."
   ]
  },
  {
   "cell_type": "code",
   "execution_count": null,
   "id": "6d68e9f1-1b98-423f-83fa-700178d0bbf9",
   "metadata": {
    "deletable": false
   },
   "outputs": [],
   "source": [
    "df2 = ...\n",
    "mask = ...\n",
    "df2[mask].head()"
   ]
  },
  {
   "cell_type": "markdown",
   "id": "c536c78a-6554-4062-aae5-83a769f89684",
   "metadata": {
    "deletable": false,
    "editable": false
   },
   "source": [
    "We can also create masks with multiple criteria using `&` for \"and\" and `|` for \"or.\" For example, here's how we would find all properties in Atlántico that are bigger than 400 square meters."
   ]
  },
  {
   "cell_type": "code",
   "execution_count": null,
   "id": "20c52080-17df-4698-8204-ee6da2f3b2c0",
   "metadata": {
    "deletable": false
   },
   "outputs": [],
   "source": [
    "mask = (df1[\"area_m2\"] > 400) & (df1[\"department\"] == \"Atlántico\")\n",
    "df1[mask].head()"
   ]
  },
  {
   "cell_type": "markdown",
   "id": "a6a0889f-68f7-4687-aba0-71b68599248c",
   "metadata": {
    "deletable": false,
    "editable": false
   },
   "source": [
    "<font size=\"+1\">Practice</font>\n",
    "\n",
    "Try it yourself! Create a mask for `df2` to select all the properties in Tolima that are smaller than 150 square meters."
   ]
  },
  {
   "cell_type": "code",
   "execution_count": null,
   "id": "fda684c7-f45f-4945-a04b-03b3b3cfbe6b",
   "metadata": {
    "deletable": false
   },
   "outputs": [],
   "source": [
    "mask = ...\n",
    "df2[mask].head()"
   ]
  },
  {
   "cell_type": "markdown",
   "id": "21b8ee65-0f00-46d6-8954-4fa15b846efb",
   "metadata": {
    "deletable": false,
    "editable": false
   },
   "source": [
    "## Reshape a DataFrame based on column values"
   ]
  },
  {
   "cell_type": "markdown",
   "id": "a19a0916-779b-4752-8f74-e8c0ef60526b",
   "metadata": {
    "deletable": false,
    "editable": false
   },
   "source": [
    "## What's a pivot table?\n",
    "\n",
    "A pivot table allows you to quickly aggregate and summarize a DataFrame using an aggregation function. For example, to build a pivot table that summarizes the mean of the `price_cop` column for each of the unique categories in the `property_type` column in `df2`:"
   ]
  },
  {
   "cell_type": "code",
   "execution_count": null,
   "id": "09ace282-99a9-412f-9247-29188519d2a6",
   "metadata": {
    "deletable": false
   },
   "outputs": [],
   "source": [
    "import numpy as np\n",
    "\n",
    "pivot1 = pd.pivot_table(df2, values=\"price_cop\", index=\"property_type\", aggfunc=np.mean)\n",
    "pivot1"
   ]
  },
  {
   "cell_type": "markdown",
   "id": "2a26b30b-ccfa-4ebd-8c42-c398d5eddb2b",
   "metadata": {
    "deletable": false,
    "editable": false
   },
   "source": [
    "<font size=\"+1\">Practice</font>\n",
    "\n",
    "Try it yourself! build a pivot table that summarizes the mean of the `price_cop` column for each of the unique departments in the `department` column in `df2`:"
   ]
  },
  {
   "cell_type": "code",
   "execution_count": null,
   "id": "4b1d690a-58af-410b-a1ba-383a5ac8fb94",
   "metadata": {
    "deletable": false
   },
   "outputs": [],
   "source": [
    "# REMOVE {\n",
    "pivot2 = pd.pivot_table(df2, values=\"price_cop\", index=\"department\", aggfunc=np.mean)\n",
    "# REMOVE }\n",
    "pivot2"
   ]
  },
  {
   "cell_type": "markdown",
   "id": "e3a9b762-4e9e-434f-b059-4c8d4b8aa8ad",
   "metadata": {
    "deletable": false,
    "editable": false
   },
   "source": [
    "## Combine multiple categories in a Series"
   ]
  },
  {
   "cell_type": "markdown",
   "id": "6fe27666-5071-4609-bdc4-fa897c03acd0",
   "metadata": {
    "deletable": false,
    "editable": false
   },
   "source": [
    "Categorical variables can be collapsed into a fewer number of categories. One approach is to retain the values of the most frequently observed values and collapse all remaining values into a single category. For example, to retain only the values of the top 10 most frequent categories in the `department` column and then collapse the other categories together, use `value_counts` to generate the count of the values:"
   ]
  },
  {
   "cell_type": "code",
   "execution_count": null,
   "id": "5bc62002-1b69-495b-92a6-ac46b74692e3",
   "metadata": {
    "deletable": false
   },
   "outputs": [],
   "source": [
    "df2[\"department\"].value_counts()"
   ]
  },
  {
   "cell_type": "markdown",
   "id": "42db5ec8-6242-43bc-8af8-e59556c5bd0d",
   "metadata": {
    "deletable": false,
    "editable": false
   },
   "source": [
    "Next, select just the top 10 using the `head()` method, and select the column names by using the `index` attribute of the series:"
   ]
  },
  {
   "cell_type": "code",
   "execution_count": null,
   "id": "ce366527-b9ab-4078-8aba-33db749abc79",
   "metadata": {
    "deletable": false
   },
   "outputs": [],
   "source": [
    "top_10 = df2[\"department\"].value_counts().head(10).index"
   ]
  },
  {
   "cell_type": "markdown",
   "id": "81e3f8c0-fa7a-4515-90e5-f78f4945639c",
   "metadata": {
    "deletable": false,
    "editable": false
   },
   "source": [
    "Finally, use the apply method and a lambda function to select only the values from the `department` column and collapse the remaining values into the value `Other`:"
   ]
  },
  {
   "cell_type": "code",
   "execution_count": null,
   "id": "9f5a8640-2e5d-4fbb-9181-c35c32ae1a9a",
   "metadata": {
    "deletable": false
   },
   "outputs": [],
   "source": [
    "df2[\"department\"] = df2[\"department\"].apply(lambda x: x if x in top_10 else \"Other\")"
   ]
  },
  {
   "cell_type": "markdown",
   "id": "106ad867-2a62-4eb2-94ef-a713eaf2cf69",
   "metadata": {
    "deletable": false,
    "editable": false
   },
   "source": [
    "<font size=\"+1\">Practice</font>\n",
    "\n",
    "Try it yourself! Retain the remaining top 5 most frequent values in the `department` column and collapse the remaining values into the category `Other`. "
   ]
  },
  {
   "cell_type": "code",
   "execution_count": null,
   "id": "b34a80b2-f3ca-4765-8582-897786729712",
   "metadata": {
    "deletable": false
   },
   "outputs": [],
   "source": []
  },
  {
   "cell_type": "markdown",
   "id": "f4dd8d91-7470-4d44-994e-b4728e9a3977",
   "metadata": {
    "deletable": false,
    "editable": false
   },
   "source": [
    "# Applying Functions to DataFrames and Series"
   ]
  },
  {
   "cell_type": "markdown",
   "id": "a1f425e3-1b09-499c-8c4b-beedf57d71f2",
   "metadata": {
    "deletable": false,
    "editable": false
   },
   "source": [
    "`apply` is a useful method for to using one function on all the rows or columns of a DataFrame efficiently. Let's take the following real estate dataset as an example:"
   ]
  },
  {
   "cell_type": "code",
   "execution_count": null,
   "id": "0c0de1aa-8c20-44cc-aaa7-ff4f4dec60bc",
   "metadata": {
    "deletable": false
   },
   "outputs": [],
   "source": [
    "# Read data, only use the numerical columns\n",
    "df = pd.read_csv(\"data/colombia-real-estate-2.csv\", usecols=[\"area_m2\", \"price_cop\"])\n",
    "df.head()"
   ]
  },
  {
   "cell_type": "markdown",
   "id": "a408572c-d5d6-42e5-a425-3d073e0467c4",
   "metadata": {
    "deletable": false,
    "editable": false
   },
   "source": [
    "By specifying the function inside `apply()`, we can transform the whole DataFrame. For example, I am calculating the square root of each row at each column:"
   ]
  },
  {
   "cell_type": "code",
   "execution_count": null,
   "id": "2b8bc8f2-25e3-4643-9d6c-2b71cb512b60",
   "metadata": {
    "deletable": false
   },
   "outputs": [],
   "source": [
    "import numpy as np\n",
    "\n",
    "df.apply(np.sqrt)"
   ]
  },
  {
   "cell_type": "markdown",
   "id": "46c7decd-fbf5-49a6-bab7-c77273e7c48d",
   "metadata": {
    "deletable": false,
    "editable": false
   },
   "source": [
    "Note you can also specify the `\"axis\"` inside `apply`. By default we have `axis=0`, which means we are applying the function to each column. We can also switch to `axis=1` if we want to apply the function to each row. See the following example showing the sum of all rows for each column:"
   ]
  },
  {
   "cell_type": "code",
   "execution_count": null,
   "id": "3204849d-36c1-4dd5-8f89-c3c624b625a2",
   "metadata": {
    "deletable": false
   },
   "outputs": [],
   "source": [
    "df.apply(np.sum, axis=0)"
   ]
  },
  {
   "cell_type": "markdown",
   "id": "118a3569-fb77-48b0-9ace-ebebbd8b0113",
   "metadata": {
    "deletable": false,
    "editable": false
   },
   "source": [
    "The following code will get the sum of all columns for each row:"
   ]
  },
  {
   "cell_type": "code",
   "execution_count": null,
   "id": "d8932a85-e3e2-473c-9985-f6f697daef11",
   "metadata": {
    "deletable": false
   },
   "outputs": [],
   "source": [
    "df.apply(np.sum, axis=1)"
   ]
  },
  {
   "cell_type": "markdown",
   "id": "176b1bb5-1632-49c5-a4bd-a7e4bed0c597",
   "metadata": {
    "deletable": false,
    "editable": false
   },
   "source": [
    "By specifying the column name, we can also apply the function to a specific column or columns. Note that we can also specify index (row names) to only apply functions to specific rows, however, it is not common in practice."
   ]
  },
  {
   "cell_type": "code",
   "execution_count": null,
   "id": "61cac7c8-1d9b-4165-8aa9-988a35ba1adf",
   "metadata": {
    "deletable": false
   },
   "outputs": [],
   "source": [
    "df[\"area_m2\"].apply(np.sqrt)"
   ]
  },
  {
   "cell_type": "markdown",
   "id": "bf2401c1-ae93-4e13-8598-23665e040637",
   "metadata": {
    "deletable": false,
    "editable": false
   },
   "source": [
    "We can assign the results to a new column:"
   ]
  },
  {
   "cell_type": "code",
   "execution_count": null,
   "id": "4798c991-0c6c-4081-ad1b-8c2d02f48f79",
   "metadata": {
    "deletable": false
   },
   "outputs": [],
   "source": [
    "df[\"area_sqrt\"] = df[\"area_m2\"].apply(np.sqrt)\n",
    "df"
   ]
  },
  {
   "cell_type": "markdown",
   "id": "da320a3b-5e9f-4aea-ab29-012214ece2aa",
   "metadata": {
    "deletable": false,
    "editable": false
   },
   "source": [
    "<font size=\"+1\">Practice</font>\n",
    "\n",
    "Try it yourself! Create a new column named 'sum_columns', which is the sum of all numerical columns in `df`:"
   ]
  },
  {
   "cell_type": "code",
   "execution_count": null,
   "id": "0528fe90-d29c-4ceb-8902-efe5a9bd21a6",
   "metadata": {
    "deletable": false
   },
   "outputs": [],
   "source": [
    "df[\"sum_columns\"] = ...\n",
    "df.head()"
   ]
  },
  {
   "cell_type": "markdown",
   "id": "3fa16be1-a998-46c8-a6b1-57aa7da216b0",
   "metadata": {
    "deletable": false,
    "editable": false
   },
   "source": [
    "`df.aggregate()`, or `df.agg()`, shares the same concept as `df.apply()` in terms of applying functions to a DataFrame, but `df.aggregate()` can only apply aggregate functions like `sum`, `mean`, `min`, `max`, etc. See the following example for more details:"
   ]
  },
  {
   "cell_type": "code",
   "execution_count": null,
   "id": "ebe68991-c096-4ee9-b7a8-68d2c588c451",
   "metadata": {
    "deletable": false
   },
   "outputs": [],
   "source": [
    "df = pd.read_csv(\"data/colombia-real-estate-2.csv\", usecols=[\"area_m2\", \"price_cop\"])\n",
    "df.head()"
   ]
  },
  {
   "cell_type": "markdown",
   "id": "a104b5c6-7749-4a7e-aef6-ac26d7367fba",
   "metadata": {
    "deletable": false,
    "editable": false
   },
   "source": [
    "We can check what's the minimum number for each column calling the `min` aggregate function:"
   ]
  },
  {
   "cell_type": "code",
   "execution_count": null,
   "id": "4c9dddf1-c41d-4a29-a7af-0cae032a8857",
   "metadata": {
    "deletable": false
   },
   "outputs": [],
   "source": [
    "df.agg(\"min\")"
   ]
  },
  {
   "cell_type": "markdown",
   "id": "78bb6bd8-e587-49e5-aa70-0fde9060f7f8",
   "metadata": {
    "deletable": false,
    "editable": false
   },
   "source": [
    "Like `apply()`, we can also specify the `axis` argument to switch axis:"
   ]
  },
  {
   "cell_type": "code",
   "execution_count": null,
   "id": "900f224a-e2ee-4e5f-b15b-02e80d02adae",
   "metadata": {
    "deletable": false
   },
   "outputs": [],
   "source": [
    "df.agg(\"min\", axis=1)"
   ]
  },
  {
   "cell_type": "markdown",
   "id": "14f1b821-bec1-4bca-a6a7-f7247ab8e84e",
   "metadata": {
    "deletable": false,
    "editable": false
   },
   "source": [
    "We can apply aggregate function to a whole DataFrame using `df.agg()`, or specify the column name for a subset of DataFrame:"
   ]
  },
  {
   "cell_type": "code",
   "execution_count": null,
   "id": "7c205902-b813-476c-9618-d35302b06b67",
   "metadata": {
    "deletable": false
   },
   "outputs": [],
   "source": [
    "df[\"area_m2\"].agg(\"min\")"
   ]
  },
  {
   "cell_type": "markdown",
   "id": "b7e67848-05c7-471e-b7b4-e864d77c4e1e",
   "metadata": {
    "deletable": false,
    "editable": false
   },
   "source": [
    "We can also apply a list of aggregate functions to a DataFrame:"
   ]
  },
  {
   "cell_type": "code",
   "execution_count": null,
   "id": "7719830a-f618-459f-a205-5d45d303bc59",
   "metadata": {
    "deletable": false
   },
   "outputs": [],
   "source": [
    "df.agg([\"sum\", \"max\"])"
   ]
  },
  {
   "cell_type": "markdown",
   "id": "2f610d9e-0449-41e7-aece-e160b5405ca6",
   "metadata": {
    "deletable": false,
    "editable": false
   },
   "source": [
    "The syntax above will calculate both `sum` and `max` for each column, and store the result as index. Besides, we can also apply different aggregate functions to different columns. In this case, we need to pass a dictionary specifying key as column names, and value as corresponding aggregate function names:"
   ]
  },
  {
   "cell_type": "code",
   "execution_count": null,
   "id": "514ef2c8-bc2f-405b-b030-e3eaff7f0d6c",
   "metadata": {
    "deletable": false
   },
   "outputs": [],
   "source": [
    "df.agg({\"area_m2\": \"sum\", \"price_cop\": \"min\"})"
   ]
  },
  {
   "cell_type": "markdown",
   "id": "ecc0c27c-9666-4ac2-979c-a916f0663f65",
   "metadata": {
    "deletable": false,
    "editable": false
   },
   "source": [
    "<font size=\"+1\">Practice</font>\n",
    "\n",
    "Try it yourself! Find the minimum for column `area_m2` and the maximum for column `price_cop` using `df.agg()`:"
   ]
  },
  {
   "cell_type": "code",
   "execution_count": null,
   "id": "fdcd289d-a35d-4a02-a9da-822e5113fc6c",
   "metadata": {
    "deletable": false
   },
   "outputs": [],
   "source": []
  },
  {
   "cell_type": "markdown",
   "id": "5e95ce56-3060-4d59-8986-3de155fd6be9",
   "metadata": {
    "deletable": false,
    "editable": false
   },
   "source": [
    "# References & Further Reading\n",
    "- [Pandas Documentation on Dropping a Column in a DataFrame](https://pandas.pydata.org/docs/reference/api/pandas.DataFrame.drop.html)\n",
    "- [Pandas Documentation on Printing out the First Few Rows of a DataFrame](https://pandas.pydata.org/docs/reference/api/pandas.DataFrame.head.html)\n",
    "- [Pandas Documentation on Reading in a CSV File Into a DataFrame](https://pandas.pydata.org/docs/reference/api/pandas.read_csv.html)\n",
    "- [Getting Started with Pandas Documentation](https://pandas.pydata.org/docs/getting_started/intro_tutorials/01_table_oriented.html#min-tut-01-tableoriented)\n",
    "- [Pandas Documentation on Extracting a Column to a Series](https://pandas.pydata.org/docs/getting_started/intro_tutorials/01_table_oriented.html#each-column-in-a-dataframe-is-a-series)\n",
    "- [Pandas Official Indexing Guide](https://pandas.pydata.org/pandas-docs/stable/user_guide/indexing.html)\n",
    "- [Series in pandas](https://www.geeksforgeeks.org/python-pandas-series/)\n",
    "- [Tutorial for `value_counts`](https://www.geeksforgeeks.org/python-pandas-series-value_counts/)\n",
    "- [Tutorial for `groupby`](https://pandas.pydata.org/pandas-docs/dev/reference/api/pandas.DataFrame.groupby.html)\n",
    "- [pandas Documentation for `groupby`](https://pandas.pydata.org/pandas-docs/version/0.25.3/reference/api/pandas.core.groupby.GroupBy.mean.html)\n",
    "- [Pandas Official Indexing Guide](https://pandas.pydata.org/pandas-docs/stable/user_guide/indexing.html)\n",
    "- [Online Examples of Selecting Numeric Columns of a DataFrame](https://pythonexamples.org/pandas-dataframe-select-columns-of-numeric-datatype/)\n",
    "- [Official Pandas Documentation on Data Types in a DataFrame](https://pandas.pydata.org/docs/reference/api/pandas.DataFrame.select_dtypes.html)\n",
    "- [Pandas documentation for Boolean indexing](https://pandas.pydata.org/pandas-docs/stable/user_guide/indexing.html#boolean-indexing)\n",
    "- [More information on creating various kinds of subsets](https://datacarpentry.org/python-ecology-lesson/03-index-slice-subset/index.html#subsetting-data-using-criteria)\n",
    "- [More on boolean indexing](https://pandas.pydata.org/pandas-docs/stable/user_guide/indexing.html#boolean-indexing)\n",
    "- [A tutorial on using various criteria to create subsets](https://datacarpentry.org/python-ecology-lesson/03-index-slice-subset/index.html#subsetting-data-using-criteria)\n",
    "- [Pandas.DataFrame.apply](https://pandas.pydata.org/docs/reference/api/pandas.DataFrame.apply.html)\n",
    "- [Pandas.DataFrame.aggregate](https://pandas.pydata.org/docs/reference/api/pandas.DataFrame.aggregate.html)"
   ]
  },
  {
   "cell_type": "markdown",
   "id": "67129af4-e6b5-43d5-88dc-63b2b3cd48e8",
   "metadata": {
    "deletable": false,
    "editable": false
   },
   "source": [
    "---\n",
    "Copyright © 2022 WorldQuant University. This\n",
    "content is licensed solely for personal use. Redistribution or\n",
    "publication of this material is strictly prohibited.\n"
   ]
  }
 ],
 "metadata": {
  "kernelspec": {
   "display_name": "Python 3 (ipykernel)",
   "language": "python",
   "name": "python3"
  },
  "language_info": {
   "codemirror_mode": {
    "name": "ipython",
    "version": 3
   },
   "file_extension": ".py",
   "mimetype": "text/x-python",
   "name": "python",
   "nbconvert_exporter": "python",
   "pygments_lexer": "ipython3",
   "version": "3.9.6"
  }
 },
 "nbformat": 4,
 "nbformat_minor": 5
}
