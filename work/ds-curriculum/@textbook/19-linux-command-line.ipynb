{
 "cells": [
  {
   "cell_type": "markdown",
   "id": "e34b3735-86d9-4f70-8d7d-188d3a86481b",
   "metadata": {
    "deletable": false,
    "editable": false
   },
   "source": [
    "<font size=\"+3\"><strong>The Linux Command Line</strong></font>"
   ]
  },
  {
   "cell_type": "markdown",
   "id": "e4364f97-f6d4-49e6-97af-e8ff82d89756",
   "metadata": {
    "deletable": false,
    "editable": false
   },
   "source": [
    "Linux is an open source operating system. On computers operating with Linux, you can pass commands using a text interface to your computer which then later returns what you request. The text interface could be a shell or a terminal."
   ]
  },
  {
   "cell_type": "markdown",
   "id": "2ee8a4a9-29cd-4726-b2be-b6ba58d9b9ba",
   "metadata": {
    "deletable": false,
    "editable": false
   },
   "source": [
    "# Navigating Files and Directories\n",
    "\n",
    "We can run command directly in Jupyter Notebook using by adding the magic command `%%bash`:"
   ]
  },
  {
   "cell_type": "markdown",
   "id": "e8e3aded-d1dd-4d37-b3cf-c524eeaefc1c",
   "metadata": {
    "deletable": false,
    "editable": false
   },
   "source": [
    "First we can look at current directory we are in:"
   ]
  },
  {
   "cell_type": "code",
   "execution_count": null,
   "id": "84f3ecde-2e7e-48e0-9df5-d73b8335c416",
   "metadata": {
    "deletable": false
   },
   "outputs": [],
   "source": [
    "%%bash\n",
    "\n",
    "pwd"
   ]
  },
  {
   "cell_type": "markdown",
   "id": "671459c5-0598-4ece-aeaa-f07141993be4",
   "metadata": {
    "deletable": false,
    "editable": false
   },
   "source": [
    "From the current directory, we can see what files are inside this directory"
   ]
  },
  {
   "cell_type": "code",
   "execution_count": null,
   "id": "62ffe38c-2671-4277-90ff-efdd7c53b9c6",
   "metadata": {
    "deletable": false
   },
   "outputs": [],
   "source": [
    "%%bash\n",
    "\n",
    "ls"
   ]
  },
  {
   "cell_type": "markdown",
   "id": "373fd7bd-6e51-4522-9792-163437d12008",
   "metadata": {
    "deletable": false,
    "editable": false
   },
   "source": [
    "We can go further, into the `data` directory using `cd` and the directory name"
   ]
  },
  {
   "cell_type": "code",
   "execution_count": null,
   "id": "95bb8818-051d-4340-8c36-f08dd0652ee4",
   "metadata": {
    "deletable": false
   },
   "outputs": [],
   "source": [
    "%%bash\n",
    "\n",
    "cd data\n",
    "ls"
   ]
  },
  {
   "cell_type": "markdown",
   "id": "6354e8f8-d498-44e9-9a12-6961741dcaf9",
   "metadata": {
    "deletable": false,
    "editable": false
   },
   "source": [
    "Now we are in the `work` directory"
   ]
  },
  {
   "cell_type": "markdown",
   "id": "68743a70-267b-4330-940f-dd277767e0a1",
   "metadata": {
    "deletable": false,
    "editable": false
   },
   "source": [
    "If we want to go back to the previous directory"
   ]
  },
  {
   "cell_type": "code",
   "execution_count": null,
   "id": "a0e664c9-4151-4619-8540-ec918602fbde",
   "metadata": {
    "deletable": false
   },
   "outputs": [],
   "source": [
    "%%bash\n",
    "\n",
    "cd ..\n",
    "pwd"
   ]
  },
  {
   "cell_type": "markdown",
   "id": "277676e0-4e1b-4068-a5e8-f509dcb199fd",
   "metadata": {
    "deletable": false,
    "editable": false
   },
   "source": [
    "or use `cd` to go directly back to home directory"
   ]
  },
  {
   "cell_type": "code",
   "execution_count": null,
   "id": "ec7e43a8-8dc5-4970-875d-5e3afc17f0f7",
   "metadata": {
    "deletable": false
   },
   "outputs": [],
   "source": [
    "%%bash\n",
    "\n",
    "cd\n",
    "pwd"
   ]
  },
  {
   "cell_type": "markdown",
   "id": "d0a4324d-bb3c-42ee-947c-b8230b3f48f5",
   "metadata": {
    "deletable": false,
    "editable": false
   },
   "source": [
    "<font size=\"+1\">Practice</font> \n",
    "\n",
    "Navigate to the `ds_curriculum/010-housing-in-mexico` directory, and list all files there."
   ]
  },
  {
   "cell_type": "code",
   "execution_count": null,
   "id": "aee68516-908a-40c4-a5b1-9e3ef9984055",
   "metadata": {
    "deletable": false
   },
   "outputs": [],
   "source": [
    "%%bash\n"
   ]
  },
  {
   "cell_type": "markdown",
   "id": "5412f4c2-734c-46ca-8594-e0254c426e06",
   "metadata": {
    "deletable": false,
    "editable": false
   },
   "source": [
    "# Viewing File Contents "
   ]
  },
  {
   "cell_type": "markdown",
   "id": "fa61e13c-1b7d-4236-a2c2-30adc3d35051",
   "metadata": {
    "deletable": false,
    "editable": false
   },
   "source": [
    "### Navigate into the data directory"
   ]
  },
  {
   "cell_type": "code",
   "execution_count": null,
   "id": "1010cb3d-fec0-443c-90da-3ee8bc036bbd",
   "metadata": {
    "deletable": false
   },
   "outputs": [],
   "source": [
    "%%bash\n",
    "\n",
    "pwd"
   ]
  },
  {
   "cell_type": "code",
   "execution_count": null,
   "id": "3375bcd7-6b2d-4c6c-ab59-a9d6adcb22f2",
   "metadata": {
    "deletable": false
   },
   "outputs": [],
   "source": [
    "%%bash\n",
    "\n",
    "cd data\n",
    "pwd"
   ]
  },
  {
   "cell_type": "markdown",
   "id": "2bfa0d40-a5df-4e0e-9b91-1d182f4ca694",
   "metadata": {
    "deletable": false,
    "editable": false
   },
   "source": [
    "### Create a `.txt` file using Context Manager"
   ]
  },
  {
   "cell_type": "code",
   "execution_count": null,
   "id": "f09dc13d-1fac-4457-9c65-57885bc1b616",
   "metadata": {
    "deletable": false
   },
   "outputs": [],
   "source": [
    "with open(\"data/example.txt\", \"w\") as f:\n",
    "    f.write(\"Hello\")"
   ]
  },
  {
   "cell_type": "markdown",
   "id": "4dde7efd-bc9e-4dfa-91cb-5ff8e769ab1e",
   "metadata": {
    "deletable": false,
    "editable": false
   },
   "source": [
    "#### View the head of this file"
   ]
  },
  {
   "cell_type": "code",
   "execution_count": null,
   "id": "597bea4e-0cc2-48b4-aaea-b93433b9c692",
   "metadata": {
    "deletable": false
   },
   "outputs": [],
   "source": [
    "%%bash\n",
    "\n",
    "cd data\n",
    "head example.txt"
   ]
  },
  {
   "cell_type": "markdown",
   "id": "36ed411d-5571-4740-991c-8d8a83943a1d",
   "metadata": {
    "deletable": false,
    "editable": false
   },
   "source": [
    "#### View head and tail for file with multiple lines"
   ]
  },
  {
   "cell_type": "code",
   "execution_count": null,
   "id": "9f37647b-5060-46c3-a26d-f6892df5808e",
   "metadata": {
    "deletable": false
   },
   "outputs": [],
   "source": [
    "with open(\"data/example.txt\", \"w\") as f:\n",
    "    f.write(\"Hello\")\n",
    "    f.write(\"\\n\")\n",
    "    f.write(\"Hola\")"
   ]
  },
  {
   "cell_type": "code",
   "execution_count": null,
   "id": "d5bd67a5-e7b0-41b2-bfc5-9bb6732d35fe",
   "metadata": {
    "deletable": false
   },
   "outputs": [],
   "source": [
    "%%bash\n",
    "\n",
    "cd data\n",
    "head example.txt"
   ]
  },
  {
   "cell_type": "markdown",
   "id": "2da72406-484f-4ab3-8dbb-77dea37e7051",
   "metadata": {
    "deletable": false,
    "editable": false
   },
   "source": [
    "#### View the tail of this file"
   ]
  },
  {
   "cell_type": "code",
   "execution_count": null,
   "id": "e87310ff-304b-4adc-b929-210045458bd1",
   "metadata": {
    "deletable": false
   },
   "outputs": [],
   "source": [
    "%%bash\n",
    "\n",
    "cd data\n",
    "tail -1 example.txt"
   ]
  },
  {
   "cell_type": "markdown",
   "id": "2e4fa0e0-e42c-4f30-a466-75603a35a069",
   "metadata": {
    "deletable": false,
    "editable": false
   },
   "source": [
    "# Compressing and Decompressing Files"
   ]
  },
  {
   "cell_type": "markdown",
   "id": "d39b7e83-4106-4816-9f83-e49b317f5080",
   "metadata": {
    "deletable": false,
    "editable": false
   },
   "source": [
    "## Data Compressing"
   ]
  },
  {
   "cell_type": "markdown",
   "id": "e9fab8fd-f4ae-4cdd-be34-7495714a1aa0",
   "metadata": {
    "deletable": false,
    "editable": false
   },
   "source": [
    "`Data Compression` is the process of encoding information using fewer bits than a decoded representation would use through the use of specific encoding schemes. Compression is needed because it helps to reduce the consumption of expensive resources such as a hard disk or transmission bandwidth."
   ]
  },
  {
   "cell_type": "markdown",
   "id": "61c515b2-ba38-4fde-8052-b24292e479ed",
   "metadata": {
    "deletable": false,
    "editable": false
   },
   "source": [
    "### `gzip`"
   ]
  },
  {
   "cell_type": "markdown",
   "id": "0fe42a6a-50db-45f5-92e9-43a740934b70",
   "metadata": {
    "deletable": false,
    "editable": false
   },
   "source": [
    "`gzip` is a form of data compression. The original data can be restored by unzipping the compressed file. `gzip` can compress all files; it doesn't make any difference what the file type is or the encoding. Obviously, some files can be compressed more effectively than others, so the bandwidth saving will vary - text files like HTML give the best results; images are not compressed so much by `gzip` because they already have some compression built-in. "
   ]
  },
  {
   "cell_type": "markdown",
   "id": "de0d7caf-e862-4046-a79b-2679c76a8087",
   "metadata": {
    "deletable": false,
    "editable": false
   },
   "source": [
    "Here are the code to compress and decompress files using `gzip`:"
   ]
  },
  {
   "cell_type": "markdown",
   "id": "82ebaf5a-330a-41ee-9b76-f2789b6063e6",
   "metadata": {
    "deletable": false,
    "editable": false
   },
   "source": [
    "First we go back to home directory, and navigate towards the directory where the file is at."
   ]
  },
  {
   "cell_type": "code",
   "execution_count": null,
   "id": "047b257a-31be-40b6-844c-0140a49c15f0",
   "metadata": {
    "deletable": false
   },
   "outputs": [],
   "source": [
    "%%bash\n",
    "\n",
    "cd\n",
    "pwd"
   ]
  },
  {
   "cell_type": "code",
   "execution_count": null,
   "id": "c3734cb8-bb73-401c-b147-5533b97eb12c",
   "metadata": {
    "deletable": false
   },
   "outputs": [],
   "source": [
    "%%bash\n",
    "\n",
    "cd data\n",
    "gzip example.txt\n",
    "ls"
   ]
  },
  {
   "cell_type": "markdown",
   "id": "7fe233f4-aff6-4824-92f4-5f2c7d57e566",
   "metadata": {
    "deletable": false,
    "editable": false
   },
   "source": [
    "Now we can see the `example.txt.gz` file in the directory"
   ]
  },
  {
   "cell_type": "markdown",
   "id": "ae5d17a4-ef08-4c0a-8638-46045da09037",
   "metadata": {
    "deletable": false,
    "editable": false
   },
   "source": [
    "We can unzip the file with the code below:"
   ]
  },
  {
   "cell_type": "code",
   "execution_count": null,
   "id": "0fe88d4f-f94e-43ef-9f59-d8595cc1aad0",
   "metadata": {
    "deletable": false
   },
   "outputs": [],
   "source": [
    "%%bash\n",
    "\n",
    "cd data\n",
    "gzip -d example.txt.gz\n",
    "ls"
   ]
  },
  {
   "cell_type": "markdown",
   "id": "1e3846cc-14ab-498d-9a4c-37e2c7226884",
   "metadata": {
    "deletable": false,
    "editable": false
   },
   "source": [
    "Now you see the unzipped `example.txt` file"
   ]
  },
  {
   "cell_type": "markdown",
   "id": "9dda7fea-60c4-4da3-98c5-04a6f33abaa0",
   "metadata": {
    "deletable": false,
    "editable": false
   },
   "source": [
    "We can also customized the name of the zipped file using the code below:"
   ]
  },
  {
   "cell_type": "code",
   "execution_count": null,
   "id": "507ca9f9-96c3-4323-80aa-811a57d7677e",
   "metadata": {
    "deletable": false
   },
   "outputs": [],
   "source": [
    "%%bash\n",
    "\n",
    "cd data\n",
    "gzip -c example.txt > output.txt.gz\n",
    "ls"
   ]
  },
  {
   "cell_type": "markdown",
   "id": "3f78c25c-9e2e-4b25-ae44-c798ecf245a8",
   "metadata": {
    "deletable": false,
    "editable": false
   },
   "source": [
    " `example.txt` and `output.txt.gz` are both in the directory"
   ]
  },
  {
   "cell_type": "markdown",
   "id": "be9ab274-f18f-4d7c-9800-4d5911654dc7",
   "metadata": {
    "deletable": false,
    "editable": false
   },
   "source": [
    "### Practice: Create a text file in data directory and zip it."
   ]
  },
  {
   "cell_type": "markdown",
   "id": "4b5ac03b-b053-4500-8fec-b37f2f6a2ee2",
   "metadata": {
    "deletable": false,
    "editable": false
   },
   "source": [
    "Create a text file in the `data` directory called `text.txt`, and fill it with any text you want."
   ]
  },
  {
   "cell_type": "code",
   "execution_count": null,
   "id": "55ee380e-9039-4c20-b609-b81107f1cb2a",
   "metadata": {
    "deletable": false
   },
   "outputs": [],
   "source": [
    "# create text file called text file, write any random text in it\n",
    "\n"
   ]
  },
  {
   "cell_type": "markdown",
   "id": "e098f000-2a0c-40a3-b082-188a371cb0a5",
   "metadata": {
    "deletable": false,
    "editable": false
   },
   "source": [
    "Next, compress `text.txt` using `gzip`."
   ]
  },
  {
   "cell_type": "code",
   "execution_count": null,
   "id": "f68476af-2b81-4f1f-bdf6-527b0d292ad2",
   "metadata": {
    "deletable": false
   },
   "outputs": [],
   "source": [
    "%%bash\n",
    "\n"
   ]
  },
  {
   "cell_type": "markdown",
   "id": "6659ee44-64a6-4cc9-abfc-66fc23bd194f",
   "metadata": {
    "deletable": false,
    "editable": false
   },
   "source": [
    "# References and Further Reading"
   ]
  },
  {
   "cell_type": "markdown",
   "id": "a47e2a06-81a9-4526-aab2-c4a47839d162",
   "metadata": {
    "deletable": false,
    "editable": false
   },
   "source": [
    "- [Software Carpentries, *The Unix Shell*](https://swcarpentry.github.io/shell-novice/)\n",
    "- [Data Compressing](https://www.asquero.com/article/what-is-data-compression-and-why-do-we-need-it/)\n",
    "- [Stack Overflow: What is gzip](https://stackoverflow.com/questions/16691506/what-is-gzip-compression)"
   ]
  },
  {
   "cell_type": "markdown",
   "id": "daef4501",
   "metadata": {
    "deletable": false,
    "editable": false
   },
   "source": [
    "---\n",
    "Copyright © 2022 WorldQuant University. This\n",
    "content is licensed solely for personal use. Redistribution or\n",
    "publication of this material is strictly prohibited.\n"
   ]
  }
 ],
 "metadata": {
  "kernelspec": {
   "display_name": "Python 3 (ipykernel)",
   "language": "python",
   "name": "python3"
  },
  "language_info": {
   "codemirror_mode": {
    "name": "ipython",
    "version": 3
   },
   "file_extension": ".py",
   "mimetype": "text/x-python",
   "name": "python",
   "nbconvert_exporter": "python",
   "pygments_lexer": "ipython3",
   "version": "3.9.6"
  }
 },
 "nbformat": 4,
 "nbformat_minor": 5
}
