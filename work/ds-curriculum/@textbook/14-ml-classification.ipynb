{
 "cells": [
  {
   "cell_type": "markdown",
   "id": "8bb52e74-a0f8-485c-81eb-e734eb3fd39c",
   "metadata": {
    "deletable": false,
    "editable": false
   },
   "source": [
    "<font size=\"+3\"><strong>Machine Learning: Classification</strong></font>"
   ]
  },
  {
   "cell_type": "code",
   "execution_count": null,
   "id": "2a39aa45-1f4b-4f4b-be9a-8c58492d5bea",
   "metadata": {
    "deletable": false
   },
   "outputs": [],
   "source": [
    "import sqlite3\n",
    "import warnings\n",
    "\n",
    "import matplotlib.pyplot as plt\n",
    "import numpy as np\n",
    "import pandas as pd\n",
    "from category_encoders import OneHotEncoder, OrdinalEncoder\n",
    "from IPython.display import YouTubeVideo\n",
    "from sklearn.linear_model import LogisticRegression\n",
    "from sklearn.metrics import accuracy_score\n",
    "from sklearn.model_selection import train_test_split\n",
    "from sklearn.pipeline import make_pipeline\n",
    "from sklearn.tree import DecisionTreeClassifier, plot_tree\n",
    "\n",
    "warnings.simplefilter(action=\"ignore\", category=FutureWarning)"
   ]
  },
  {
   "cell_type": "markdown",
   "id": "f1461057-1cce-48d4-a221-6c6679b0c5b2",
   "metadata": {
    "deletable": false,
    "editable": false
   },
   "source": [
    "# Data Preprocessing"
   ]
  },
  {
   "cell_type": "markdown",
   "id": "d9259c01-f18d-4fc9-9541-eec46e3c97e4",
   "metadata": {
    "deletable": false,
    "editable": false
   },
   "source": [
    "For the examples here, we'll look at buildings in the Ramechhap district of Nepal. (In our SQLite database, Ramechhap has the `district_id` of `1`.) Run the wrangle function below to connect to the SQLite database load the data into the DataFrame `df`."
   ]
  },
  {
   "cell_type": "code",
   "execution_count": null,
   "id": "a1824582-3230-4073-84cb-58970ce2870d",
   "metadata": {
    "deletable": false
   },
   "outputs": [],
   "source": [
    "def wrangle(db_path):\n",
    "    # Connect to database\n",
    "    conn = sqlite3.connect(db_path)\n",
    "\n",
    "    # Construct query\n",
    "    query = \"\"\"\n",
    "        SELECT distinct(i.building_id) AS b_id,\n",
    "           s.*,\n",
    "           d.damage_grade\n",
    "        FROM id_map AS i\n",
    "        JOIN building_structure AS s ON i.building_id = s.building_id\n",
    "        JOIN building_damage AS d ON i.building_id = d.building_id\n",
    "        WHERE district_id = 1\n",
    "    \"\"\"\n",
    "\n",
    "    # Read query results into DataFrame\n",
    "    df = ...\n",
    "\n",
    "    # Create binary target column\n",
    "    df[\"damage_grade\"] = df[\"damage_grade\"].str[-1]\n",
    "    df[\"damage_grade\"] = pd.to_numeric(df[\"damage_grade\"], errors=\"coerce\")\n",
    "    df[\"severe_damage\"] = (df[\"damage_grade\"] > 3).astype(int)\n",
    "\n",
    "    # Identify leaky columns\n",
    "    drop_cols = [col for col in df.columns if \"post_eq\" in col]\n",
    "\n",
    "    # Add high-cardinality / redundant column\n",
    "    \n",
    "\n",
    "    # Drop old target\n",
    "    drop_cols.append(\"damage_grade\")\n",
    "\n",
    "    # Drop multicollinearity column\n",
    "    drop_cols.append(\"count_floors_pre_eq\")\n",
    "\n",
    "    # Drop columns\n",
    "    df.drop(columns=drop_cols, inplace=True)\n",
    "\n",
    "    return df"
   ]
  },
  {
   "cell_type": "code",
   "execution_count": null,
   "id": "dd896de7-0b86-4226-b610-f937d8bb1a0d",
   "metadata": {
    "deletable": false
   },
   "outputs": [],
   "source": [
    "df = ...\n",
    "df.head()"
   ]
  },
  {
   "cell_type": "markdown",
   "id": "aafc3e65-fe51-4882-b1e4-5ddefd3f5558",
   "metadata": {
    "deletable": false,
    "editable": false
   },
   "source": [
    "# Data Segregation"
   ]
  },
  {
   "cell_type": "markdown",
   "id": "43d2108f-8ed1-4d39-a878-c1f154ba415c",
   "metadata": {
    "deletable": false,
    "editable": false
   },
   "source": [
    "## Training Sets"
   ]
  },
  {
   "cell_type": "markdown",
   "id": "28845dde-6e55-46b5-8238-c37c333f254a",
   "metadata": {
    "deletable": false,
    "editable": false
   },
   "source": [
    "### Randomized Train-Test split"
   ]
  },
  {
   "cell_type": "markdown",
   "id": "036047e7-c086-4c6f-ba10-39d473ec347b",
   "metadata": {
    "deletable": false,
    "editable": false
   },
   "source": [
    "**Splitting a dataset** into different sets is an important part of the model development process. The initial dataset is typically split into **two** (**training** and **testing**) or **three** (**training**, **validation**, and **testing**) datasets. This helps ensure that the model can generalize. Usually, more data is used for training than for validation or testing. If splitting into two datasets, a good rule of thumb is to split your data randomly into a ratio of **80:20** training:testing. If splitting into three datasets, splitting the data into a ratio of **70:20:10** (training:validation:testing) is commonly used. \n",
    "\n",
    "Validation datasets are usually used to tune model hyperparameters. A hyperparameter is a model setting that can't be learned during model training and must be explicitly set. In contrast, a model parameter can be learned. An example of a hyperparameter is the depth of a decision tree . An example of a model parameter includes a coefficient of a variable from linear regression.\n",
    "\n",
    "In order to split our data, we'll be using the `train_test_split` function from scikit-learn. We'll begin by splitting our data into a training and testing set. Next, we'll apply the `train_test_split` function to our testing set to generate our validation dataset and new testing dataset. \n",
    "\n",
    "We will create a feature matrix X and target vector y. The target is \"severe_damage\"."
   ]
  },
  {
   "cell_type": "code",
   "execution_count": null,
   "id": "74f01cea-ae1d-4ceb-a2cb-ab32997cbc34",
   "metadata": {
    "deletable": false
   },
   "outputs": [],
   "source": [
    "target = \"severe_damage\""
   ]
  },
  {
   "cell_type": "markdown",
   "id": "f1f9b1b9-1925-490b-95e6-7d2111e239d0",
   "metadata": {
    "deletable": false,
    "editable": false
   },
   "source": [
    "Drop the target from the DataFrame and save the results into a X. Save the target column into y. "
   ]
  },
  {
   "cell_type": "code",
   "execution_count": null,
   "id": "cdf56500-f7a4-462a-a674-0b85c0eb1ef9",
   "metadata": {
    "deletable": false
   },
   "outputs": [],
   "source": [
    "X = ...\n",
    "y = ..."
   ]
  },
  {
   "cell_type": "markdown",
   "id": "0b02f17a-d149-44f0-87ff-9310650fe0b5",
   "metadata": {
    "deletable": false,
    "editable": false
   },
   "source": [
    "Finally, we will split our dataset into a training and test set using the `train_test_split` function from `scikit-learn`. "
   ]
  },
  {
   "cell_type": "code",
   "execution_count": null,
   "id": "cd2c3ee3-5d5e-46e8-9b93-d47b6dc121bf",
   "metadata": {
    "deletable": false
   },
   "outputs": [],
   "source": [
    "X_train, X_test, y_train, y_test = train_test_split(\n",
    "    X, y, test_size=0.2, random_state=42\n",
    ")"
   ]
  },
  {
   "cell_type": "markdown",
   "id": "a53bad2c-09bd-4f53-92f1-d5a1c3b1b3ee",
   "metadata": {
    "deletable": false,
    "editable": false
   },
   "source": [
    "## Validation Set"
   ]
  },
  {
   "cell_type": "markdown",
   "id": "8374c060-3b31-4cf9-b473-34c8c5407e0b",
   "metadata": {
    "deletable": false,
    "editable": false
   },
   "source": [
    "<font size=\"+1\">Practice: Perform a randomized split using scikit-learn</font>\n",
    "\n",
    "Try it yourself! Use `train_test_split` to divide the training data (X_train and y_train) into training and validation sets using the same randomized train-test split function used previously. The validation data will be 20% of the previously constructed training data. Don't forget to set a random_state."
   ]
  },
  {
   "cell_type": "code",
   "execution_count": null,
   "id": "ffedcab4-1bfe-48b7-b6e9-e88a6a3c1d6f",
   "metadata": {
    "deletable": false
   },
   "outputs": [],
   "source": [
    "X_train, X_val, y_train, y_val = ..."
   ]
  },
  {
   "cell_type": "markdown",
   "id": "5770e7d4-151b-4a22-a403-5f41e1162b61",
   "metadata": {
    "deletable": false,
    "editable": false
   },
   "source": [
    "# Key Concepts"
   ]
  },
  {
   "cell_type": "markdown",
   "id": "005f63c7-d3bf-4d88-a5e9-9ced9a6bde5c",
   "metadata": {
    "deletable": false,
    "editable": false
   },
   "source": [
    "## Majority and Minority Classes"
   ]
  },
  {
   "cell_type": "markdown",
   "id": "f4b50a94-7e19-4b7b-b2be-4672d91b7ba2",
   "metadata": {
    "deletable": false,
    "editable": false
   },
   "source": [
    "The majority class refers to whatever category in a binary target occurs most frequently, and the minority class refers to whatever category in a binary target occurs less frequently. Let's use the `value_counts` method to plot the relative frequency of the two plots with a bar chart.  "
   ]
  },
  {
   "cell_type": "code",
   "execution_count": null,
   "id": "922d5322-3193-4e6e-abd1-21b6b2a08060",
   "metadata": {
    "deletable": false
   },
   "outputs": [],
   "source": [
    "y_train.value_counts(normalize=True).plot(\n",
    "    kind=\"bar\", xlabel=\"Group\", ylabel=\"Relative Frequency\"\n",
    ")"
   ]
  },
  {
   "cell_type": "markdown",
   "id": "00e2e0dd-cc2e-4243-917e-4c9e9af59833",
   "metadata": {
    "deletable": false,
    "editable": false
   },
   "source": [
    "Since the category 1 (`severe_damage` = True) occurs most frequently, this is the majority class. "
   ]
  },
  {
   "cell_type": "markdown",
   "id": "238c656d-75ec-4f41-b670-27f9a05fe538",
   "metadata": {
    "deletable": false,
    "editable": false
   },
   "source": [
    "## Positive and Negative Classes"
   ]
  },
  {
   "cell_type": "markdown",
   "id": "b1bc840d-08a3-4db6-8ba8-c3e380f6d388",
   "metadata": {
    "deletable": false,
    "editable": false
   },
   "source": [
    "**Positive class** and **negative class** are the two possible labels for binary classification problems. For example, if we are classifying whether an email is spam or not, we can designate \"spam\" as the positive class and \"not spam\" as the negative class. For the example in the project, we have \"bankrupt\" as the positive class and \"not bankrupt\" as the negative class. Conventionally, we use `0` or `False` to represent negative class, and `1` or `True` to represent positive class."
   ]
  },
  {
   "cell_type": "markdown",
   "id": "16bf7551-6290-464a-8417-bc18a5190341",
   "metadata": {
    "deletable": false,
    "editable": false
   },
   "source": [
    "# Classification with Logistic Regression"
   ]
  },
  {
   "cell_type": "markdown",
   "id": "020af8bf-b606-42f0-a3d1-bd2e9cd25526",
   "metadata": {
    "deletable": false,
    "editable": false
   },
   "source": [
    "## Logistic Regression\n",
    "The logistic regression model is the classifier version of linear regression. It will predict probability values that can be used to assign class labels. The model works by taking the output of a linear regression model and feeding it into a sigmoid or logistic function. \n",
    "\n",
    "Why transform a linear model this way? Linear regression models are great for **regression** problems because they can give you predictions that range from negative infinity to positive infinity. However, the sigmoid function bounds predictions between 0 and 1, which we then treat as a probability. This allows us to use the model for **classification** problems. \n",
    "\n",
    "An example of the sigmoid function is shown below."
   ]
  },
  {
   "cell_type": "code",
   "execution_count": null,
   "id": "06b8a482-eddb-462b-abad-3a367f62a945",
   "metadata": {
    "deletable": false
   },
   "outputs": [],
   "source": [
    "x = np.linspace(-10, 10, 100)\n",
    "s = 1 / (1 + np.exp(-x))\n",
    "\n",
    "plt.plot(x, s)\n",
    "plt.xlabel(\"$x$\")\n",
    "plt.ylabel(\"$S(x)$\");"
   ]
  },
  {
   "cell_type": "markdown",
   "id": "033ee895-b8ec-4cbd-b98c-45371c8df4cd",
   "metadata": {
    "deletable": false,
    "editable": false
   },
   "source": [
    "The following video summarizes the math behind logistic regression:"
   ]
  },
  {
   "cell_type": "code",
   "execution_count": null,
   "id": "0eea80c0-cfe7-497a-a27c-cd7a5f4fbd4f",
   "metadata": {
    "deletable": false
   },
   "outputs": [],
   "source": [
    "YouTubeVideo(\"yIYKR4sgzI8\")"
   ]
  },
  {
   "cell_type": "markdown",
   "id": "3d7090cb-4f58-441d-891a-990bdd579ce0",
   "metadata": {
    "deletable": false,
    "editable": false
   },
   "source": [
    "You can add the logistic regression as a named step in a model pipeline like below:"
   ]
  },
  {
   "cell_type": "code",
   "execution_count": null,
   "id": "3d0f7086-db33-4a5b-adb1-93e9c78eeb45",
   "metadata": {
    "deletable": false
   },
   "outputs": [],
   "source": [
    "model = make_pipeline(OneHotEncoder(), LogisticRegression(max_iter=1000))\n",
    "model.fit(X_train, y_train);"
   ]
  },
  {
   "cell_type": "markdown",
   "id": "158262ba-42bc-4dc7-bfe0-290d8e912c8b",
   "metadata": {
    "deletable": false,
    "editable": false
   },
   "source": [
    "## High-cardinality Features"
   ]
  },
  {
   "cell_type": "markdown",
   "id": "baa53e8a-791c-4c7e-a4d0-fc29054cb3ae",
   "metadata": {
    "deletable": false,
    "editable": false
   },
   "source": [
    "Cardinality refers to the number of unique values in a categorical variable. High cardinality means the categorical features have a large number of unique values. These features often don't work well with either one hot encoding or ordinal encoding. There is no exact number of unique values that makes a feature high-cardinality, but if the value of the categorical feature is unique for almost all observations, it can usually be dropped. You can see the number of unique values in a variable by using the `value_counts` method. For example, to check the number of unique values in the `roof_type` column:"
   ]
  },
  {
   "cell_type": "code",
   "execution_count": null,
   "id": "7269af41-fa56-4c8d-817e-9ca689a8fc20",
   "metadata": {
    "deletable": false
   },
   "outputs": [],
   "source": [
    "df[\"roof_type\"].value_counts()"
   ]
  },
  {
   "cell_type": "markdown",
   "id": "77af9852-1dd9-4ecc-8ad6-88cd64c9ff94",
   "metadata": {
    "deletable": false,
    "editable": false
   },
   "source": [
    "There are only three unique values, so we will leave the column in the DataFrame. \n",
    "\n",
    "<font size=\"+1\">Practice</font>\n",
    "\n",
    "Try it yourself! Use `value_counts` to check the number of unique values in the `building_id` column. Remove the column in the wrangle function if it has a large number of unique values. "
   ]
  },
  {
   "cell_type": "code",
   "execution_count": null,
   "id": "a4d556be-8dd6-4b8c-b27f-8b571806f5e4",
   "metadata": {
    "deletable": false
   },
   "outputs": [],
   "source": [
    "# REMOVE{\n",
    "# X_train[\"building_id\"].value_counts()\n",
    "# REMOVE }"
   ]
  },
  {
   "cell_type": "markdown",
   "id": "6f027492-db49-4b22-b716-cb83f5fcf2d1",
   "metadata": {
    "deletable": false,
    "editable": false
   },
   "source": [
    "# Classification with Tree-based Models"
   ]
  },
  {
   "cell_type": "markdown",
   "id": "91128514-f355-4880-9570-796cb511e037",
   "metadata": {
    "deletable": false,
    "editable": false
   },
   "source": [
    "## Decision Trees"
   ]
  },
  {
   "cell_type": "markdown",
   "id": "181c0383-d262-47c9-84a1-67f11b82f008",
   "metadata": {
    "deletable": false,
    "editable": false
   },
   "source": [
    "Decision trees are a general class of machine learning models that are used for both classification and regression. The model resemble a tree, complete with branches and leaves. The model is essentially a series of questions with \"yes\" or \"no\" answers. The decision tree starts by checking whatever condition does the best job at correctly separating the data into the two classes in the binary target. It then progressively checks more conditions until it can predict an observation's label. They are popular because they are more flexible than linear models and intuitive in a way that makes them easy to explain to stakeholders who are not familiar with data science.  "
   ]
  },
  {
   "cell_type": "markdown",
   "id": "bb1a6d61-e58a-4a66-9102-0e0fb30d49a8",
   "metadata": {
    "deletable": false,
    "editable": false
   },
   "source": [
    "Decision trees pros and cons:\n",
    "\n",
    "| Pros | Cons | \n",
    "| --- | --- | \n",
    "| can be used for classification and regression | generalization: they are prone to overfitting |\n",
    "| handles both numerical and categorical data | robustness: small variations in data can result in a different tree |\n",
    "| models nonlinear relationships between the features and target | class imbalance: if one class is much larger than the other, the tree may be unbalanced |"
   ]
  },
  {
   "cell_type": "markdown",
   "id": "b2cbd116-826e-43e9-ba76-ec06ea143f18",
   "metadata": {
    "deletable": false,
    "editable": false
   },
   "source": [
    "The following video summarizes a decision tree:"
   ]
  },
  {
   "cell_type": "code",
   "execution_count": null,
   "id": "36ab5149-2da2-4fc0-94b5-485ba26dafe6",
   "metadata": {
    "deletable": false
   },
   "outputs": [],
   "source": [
    "YouTubeVideo(\"7VeUPuFGJHk\")"
   ]
  },
  {
   "cell_type": "markdown",
   "id": "8a724764-d8e2-4a63-bd03-07ab10a14e4b",
   "metadata": {
    "deletable": false,
    "editable": false
   },
   "source": [
    "We will fit a decision tree to the training data, using an ordinal encoder to encode the categorical features:"
   ]
  },
  {
   "cell_type": "code",
   "execution_count": null,
   "id": "f19f509b-80a0-45c9-b10d-e256b5ac6315",
   "metadata": {
    "deletable": false
   },
   "outputs": [],
   "source": [
    "model = make_pipeline(\n",
    "    OrdinalEncoder(), DecisionTreeClassifier(max_depth=6, random_state=42)\n",
    ")\n",
    "\n",
    "model.fit(X_train, y_train);"
   ]
  },
  {
   "cell_type": "markdown",
   "id": "63f618e5-9ebc-42de-834a-d63a85789ef3",
   "metadata": {
    "deletable": false,
    "editable": false
   },
   "source": [
    "## Prediction"
   ]
  },
  {
   "cell_type": "markdown",
   "id": "4173336c-a806-4260-8103-93ebef505bd2",
   "metadata": {
    "deletable": false,
    "editable": false
   },
   "source": [
    "## Probability Estimates"
   ]
  },
  {
   "cell_type": "markdown",
   "id": "fc75e88b-e386-447c-b16d-72a40c9c71de",
   "metadata": {
    "deletable": false,
    "editable": false
   },
   "source": [
    "Sometimes a model makes the same prediction for the target of two observations, but is more certain about one prediction. This is the difference between the prediction and the prediction's associated probability. \n",
    "\n",
    "The `predict` method predicts the target of an unlabeled observation. The `predict_proba` outputs the probability that an unlabeled observation belongs to one of two classes in the target. Both methods work similarly. They each are run on the fitted model and take a set of features as their input. For example, if we want to see the associated predictions if we used the `X_train` as an input:"
   ]
  },
  {
   "cell_type": "code",
   "execution_count": null,
   "id": "db570ab9-aa09-4008-a355-b26754c55241",
   "metadata": {
    "deletable": false
   },
   "outputs": [],
   "source": [
    "model.predict(X_train)"
   ]
  },
  {
   "cell_type": "markdown",
   "id": "13348a21-d09e-4dce-ae93-ff6c54b06628",
   "metadata": {
    "deletable": false,
    "editable": false
   },
   "source": [
    "And if we wanted to see the associated probabilities for these predictions:"
   ]
  },
  {
   "cell_type": "code",
   "execution_count": null,
   "id": "64cbd448-39b8-44a6-8761-9d9ba46210ed",
   "metadata": {
    "deletable": false
   },
   "outputs": [],
   "source": [
    "model.predict_proba(X_train)"
   ]
  },
  {
   "cell_type": "markdown",
   "id": "256f0be4-1c69-4e4c-9880-5de223edb1f1",
   "metadata": {
    "deletable": false,
    "editable": false
   },
   "source": [
    "Note that there are two probability estimates for each observation, one for the likelihood of each class in the target. The second probability is the likelihood that the unknown observation belongs to the class equal to 1 and the first probability is the likelihood that the unknown observation belongs to the class equal to 0. Whichever class's probability is higher is the predicted class from `predict`. "
   ]
  },
  {
   "cell_type": "markdown",
   "id": "80b672cb-aebd-43eb-bbc6-c6a54d2d0432",
   "metadata": {
    "deletable": false,
    "editable": false
   },
   "source": [
    "<font size=\"+1\">Practice: Generate probability estimates using a trained model in scikit-learn</font>\n",
    "\n",
    "Try it yourself! Use `predict_proba` to generate probability estimates for the observations in `X_test`. "
   ]
  },
  {
   "cell_type": "code",
   "execution_count": null,
   "id": "790e7f93-9b7f-49e4-8a10-afd51612ac0f",
   "metadata": {
    "deletable": false
   },
   "outputs": [],
   "source": [
    "# Remove{\n",
    "model.predict_proba(X_test)\n",
    "# Remove}"
   ]
  },
  {
   "cell_type": "markdown",
   "id": "b32f9160-da0d-4fa5-9f43-e752a43cf251",
   "metadata": {
    "deletable": false,
    "editable": false
   },
   "source": [
    "## Evaluation"
   ]
  },
  {
   "cell_type": "markdown",
   "id": "91f1790e-91e8-487a-b48e-d6e18afa6ba3",
   "metadata": {
    "deletable": false,
    "editable": false
   },
   "source": [
    "### Calculating Accuracy Score"
   ]
  },
  {
   "cell_type": "markdown",
   "id": "28f0b1f3-6682-42f0-a346-a6287bb63303",
   "metadata": {
    "deletable": false,
    "editable": false
   },
   "source": [
    "A natural choice for a metric for classification is accuracy. Accuracy is equal to the number of observations you correctly classified over all observations. For example, if your model properly identified 77 out of 100 images, you have an accuracy of 77%. Accuracy is an easy metric to both understand and calculate. Mathematically, it is simply\n",
    "\n",
    "$$ \\frac{\\text{number of correct observations}}{\\text{number of observations}}.$$\n",
    "\n",
    "Model accuracy can be calculated using the `accuracy_score` function. The function requires two arguments, the true labels and the predicted labels. For example, if we want to calculate the model accuracy score on the training data:  "
   ]
  },
  {
   "cell_type": "code",
   "execution_count": null,
   "id": "fec7068a-9c5a-40b8-9bb0-305741892c63",
   "metadata": {
    "deletable": false
   },
   "outputs": [],
   "source": [
    "acc_train = accuracy_score(y_train, model.predict(X_train))\n",
    "print(\"Training Accuracy:\", round(acc_train, 2))"
   ]
  },
  {
   "cell_type": "markdown",
   "id": "020a4bcf-d09f-406d-8388-59e534231d49",
   "metadata": {
    "deletable": false,
    "editable": false
   },
   "source": [
    "<font size=\"+1\">Practice: Calculate the accuracy score for a model in scikit-learn</font>\n",
    "\n",
    "Try it yourself! Calculate the model's accuracy on the validation data:"
   ]
  },
  {
   "cell_type": "code",
   "execution_count": null,
   "id": "2d5e1145-b377-4276-9cb5-a4af8bff04de",
   "metadata": {
    "deletable": false
   },
   "outputs": [],
   "source": [
    "acc_val = ...\n",
    "print(\"Validation Accuracy:\", round(acc_val, 2))"
   ]
  },
  {
   "cell_type": "markdown",
   "id": "7620cacb-da8e-4ea6-bdc4-ffc2e56506a3",
   "metadata": {
    "deletable": false,
    "editable": false,
    "tags": []
   },
   "source": [
    "### Baseline Accuracy Score\n",
    "\n",
    "How do you know whether or not the accuracy score you calculated for your model is good? A baseline accuracy score for the model can be used to compare your model accuracy results against. A common baseline is to use the percentage that the majority class shows up in the training data. This would be your accuracy if you simply predicted the majority class for all observations. If the model is not beating this baseline, that suggests that the features are not adding any valuable information to classify your observations. \n",
    "\n",
    "We can use the `value_counts` method with the `normalize = True` argument to calculate the baseline accuracy:"
   ]
  },
  {
   "cell_type": "code",
   "execution_count": null,
   "id": "7f8fec6f-2511-47af-829e-8a607fd99100",
   "metadata": {
    "deletable": false
   },
   "outputs": [],
   "source": [
    "acc_baseline = y_train.value_counts(normalize=True).max()\n",
    "print(\"Baseline Accuracy:\", round(acc_baseline, 2))"
   ]
  },
  {
   "cell_type": "markdown",
   "id": "a43d4d0e-2548-4e7c-ad26-cab65269a65d",
   "metadata": {
    "deletable": false,
    "editable": false
   },
   "source": [
    "### Confusion Matrix"
   ]
  },
  {
   "cell_type": "markdown",
   "id": "c8610a5b-5db4-4d62-9f4c-eda2b8649fcf",
   "metadata": {
    "deletable": false,
    "editable": false
   },
   "source": [
    "Accuracy score may not provide enough information to assess how a model is performing because it only gives us an overall score. Also, imbalanced data can lead to a high accuracy score even when a model isn't particularly useful. If we want to know what fraction of all positive predictions were correct and what fraction of positive observations did we identify, we can use a **confusion matrix**.\n",
    "\n",
    "A confusion matrix is a table summarizing the performance of the model by enumerating true and false positives and the true and false negatives.\n",
    "\n",
    "|                     | Positive Observation     | Negative Observation    |\n",
    "|---------------------|:------------------------:|:-----------------------:|\n",
    "| **Positive Prediction** |     True Positive (`TP`)   | False Positive (`FP`)     |\n",
    "| **Negative Prediction** | False Negative (`FN`)      |     True Negative (`TN`)  |"
   ]
  },
  {
   "cell_type": "markdown",
   "id": "39d3fbce-822c-4020-982c-e2d8b88969f7",
   "metadata": {
    "deletable": false,
    "editable": false
   },
   "source": [
    "Refer to this video for more details in confusion matrix:"
   ]
  },
  {
   "cell_type": "code",
   "execution_count": null,
   "id": "1310026a-70bf-418f-8339-406c9d286ac2",
   "metadata": {
    "deletable": false
   },
   "outputs": [],
   "source": [
    "YouTubeVideo(\"_cpiuMuFj3U\")"
   ]
  },
  {
   "cell_type": "markdown",
   "id": "3ba413c8-2db5-4522-a7e8-083644c39ce8",
   "metadata": {
    "deletable": false,
    "editable": false
   },
   "source": [
    "Here is the code to get the confusion matrix in the training set:"
   ]
  },
  {
   "cell_type": "code",
   "execution_count": null,
   "id": "cbf19a5e-300a-438f-809a-305f155d6bd1",
   "metadata": {
    "deletable": false
   },
   "outputs": [],
   "source": [
    "from sklearn.metrics import confusion_matrix\n",
    "\n",
    "cm = confusion_matrix(y_train, model.predict(X_train))\n",
    "cm"
   ]
  },
  {
   "cell_type": "markdown",
   "id": "7cc7b881-6034-44a8-82e6-548ae9c0b509",
   "metadata": {
    "deletable": false,
    "editable": false
   },
   "source": [
    "You can also use the heatmap to better visualize confusion matrix using `ConfusionMatrixDisplay`:"
   ]
  },
  {
   "cell_type": "code",
   "execution_count": null,
   "id": "0f3e7633-4c96-4e3d-8238-35c241c5e600",
   "metadata": {
    "deletable": false
   },
   "outputs": [],
   "source": [
    "import matplotlib.pyplot as plt\n",
    "from sklearn.metrics import ConfusionMatrixDisplay\n",
    "\n",
    "disp = ConfusionMatrixDisplay(confusion_matrix=cm, display_labels=model.classes_)\n",
    "disp.plot()\n",
    "plt.show()"
   ]
  },
  {
   "cell_type": "markdown",
   "id": "03da9954-5ecf-4895-a80a-3f70a6f4692e",
   "metadata": {
    "deletable": false,
    "editable": false
   },
   "source": [
    "<font size=\"+1\">Practice</font>\n",
    "\n",
    "Get confusion matrix for the validation set and display with `ConfusionMatrixDisplay`:"
   ]
  },
  {
   "cell_type": "code",
   "execution_count": null,
   "id": "617a3f67-7f03-428d-9841-9553fafb0f78",
   "metadata": {
    "deletable": false
   },
   "outputs": [],
   "source": [
    "cm = ...\n",
    "\n",
    "\n",
    "disp.plot()\n",
    "plt.show()"
   ]
  },
  {
   "cell_type": "markdown",
   "id": "2375b7fd-0aa1-4a73-8102-02f8d2f5cd27",
   "metadata": {
    "deletable": false,
    "editable": false
   },
   "source": [
    "### Precision Score"
   ]
  },
  {
   "cell_type": "markdown",
   "id": "6bdd8b47-b957-4171-a439-3977a4d192d5",
   "metadata": {
    "deletable": false,
    "editable": false
   },
   "source": [
    "Depending on the context of the problem, instead of knowing model performances in both classes, sometimes we are more interested in the results in positive class. That's when we use **precision**. Precision is the fraction of true positives over all positive predictions. It is a measure of how \"precise\" our model is with regard to labeling observations as positive. \n",
    "\n",
    "For example in Project 3, we try to predict whether a company will go bankrupt, with `\"bankrupt\"` as the positive class. Out of all positive predictions made by the model, some companies actually went bankrupt (True Positive `TP`), while others didn't (False Positive `FP`). Precision measures how many times model predicted positives (`TP`+`FP`) correctly (`TP`). The equation for precision is:\n",
    "\n",
    "$$ \\text{precision} = \\frac{\\text{TP}}{TP + FP}$$"
   ]
  },
  {
   "cell_type": "markdown",
   "id": "07780c39-4b79-4b1c-8d8d-090ee832ffd7",
   "metadata": {
    "deletable": false,
    "editable": false
   },
   "source": [
    "Using the data and model above, we can get a precision score using the code below:"
   ]
  },
  {
   "cell_type": "code",
   "execution_count": null,
   "id": "1f85c9ec-fdaf-4fb0-9067-b5e5d44658de",
   "metadata": {
    "deletable": false
   },
   "outputs": [],
   "source": [
    "from sklearn.metrics import precision_score\n",
    "\n",
    "precision = precision_score(y_train, model.predict(X_train))\n",
    "\n",
    "print(f\"Training Set Precision is {round(precision,2)}\")"
   ]
  },
  {
   "cell_type": "markdown",
   "id": "76f03a0f-5f2a-43ba-b7aa-73f7fbaacecc",
   "metadata": {
    "deletable": false,
    "editable": false
   },
   "source": [
    "<font size=\"+1\">Practice</font>\n",
    "\n",
    "Get precision for the validation set"
   ]
  },
  {
   "cell_type": "code",
   "execution_count": null,
   "id": "b7117b8e-7b18-45d7-a704-c05bebdc1f9d",
   "metadata": {
    "deletable": false
   },
   "outputs": [],
   "source": [
    "precision_val = ...\n",
    "print(f\"Validation Set Precision is {round(precision_val, 2)}\")"
   ]
  },
  {
   "cell_type": "markdown",
   "id": "b0ddd170-c023-4471-8834-7ccbc2305342",
   "metadata": {
    "deletable": false,
    "editable": false
   },
   "source": [
    "### Recall Score"
   ]
  },
  {
   "cell_type": "markdown",
   "id": "279e1d40-ef77-402d-8e08-2f9ef37d5f70",
   "metadata": {
    "deletable": false,
    "editable": false
   },
   "source": [
    "What if we care more about the model performance in the negative class? In this case, we need to calculate **recall**. Recall the fraction of true positives over all positive observations. It is a measure of our model's ability to \"catch\" and properly label observations that are positive. \n",
    "\n",
    "Let's return to the Poland bankruptcy example. Of all the companies that actually went bankrupt (`TP`+`FN`), how many companies did out model predict as going bankrupt (`TP`)? That's what recall measures. The equation to calculate recall is:\n",
    "\n",
    "$$ \\text{Recall} = \\frac{\\text{TP}}{\\text{TP} + \\text{FN}}. $$"
   ]
  },
  {
   "cell_type": "markdown",
   "id": "7ce07482-da2d-4d59-88b4-aec887eb9a4a",
   "metadata": {
    "deletable": false,
    "editable": false
   },
   "source": [
    "Here is the code to calculate recall:"
   ]
  },
  {
   "cell_type": "code",
   "execution_count": null,
   "id": "083c0608-6e68-449f-8713-5ca05a6d86b6",
   "metadata": {
    "deletable": false
   },
   "outputs": [],
   "source": [
    "from sklearn.metrics import recall_score\n",
    "\n",
    "recall = recall_score(y_train, model.predict(X_train))\n",
    "\n",
    "print(f\"Training Set Recall is {round(recall, 2)}\")"
   ]
  },
  {
   "cell_type": "markdown",
   "id": "c7d4c3e3-e271-4e8d-9aeb-bbd5c0d37ac3",
   "metadata": {
    "deletable": false,
    "editable": false
   },
   "source": [
    "<font size=\"+1\">Practice</font>\n",
    "\n",
    "Get precision for the validation set"
   ]
  },
  {
   "cell_type": "code",
   "execution_count": null,
   "id": "fc057737-3790-4df2-93c2-fc61c2e0c3ec",
   "metadata": {
    "deletable": false
   },
   "outputs": [],
   "source": [
    "recall_val = ...}\n",
    "print(f\"Validation Set Precision is {round(recall_val, 2)}\")"
   ]
  },
  {
   "cell_type": "markdown",
   "id": "bd2fc02d-ce8d-466c-93f4-e69e91d34af5",
   "metadata": {
    "deletable": false,
    "editable": false
   },
   "source": [
    "### Classification Report"
   ]
  },
  {
   "cell_type": "markdown",
   "id": "1026fa0c-a314-4ec5-9777-089dc537d8fc",
   "metadata": {
    "deletable": false,
    "editable": false
   },
   "source": [
    "We can also use a **classification report** to look at the whole picture of the classification model performances. A classification report includes precision, recall, **F1 score** and **support**. We already know the first two, but F1 score is the harmonic mean of precision and recall, it equation is:\n",
    "\n",
    "$$ \\text{F1} = 2 \\left( \\frac{\\text{precision} \\cdot \\text{recall}}{\\text{precision} + \\text{recall}} \\right)$$\n",
    "\n",
    "Support number of observations for each class, thus it is useful to understand whether the data is imbalanced or not."
   ]
  },
  {
   "cell_type": "code",
   "execution_count": null,
   "id": "acc77987-7626-47fd-b05c-d1fc4ec50e7f",
   "metadata": {
    "deletable": false
   },
   "outputs": [],
   "source": [
    "from sklearn.metrics import classification_report\n",
    "\n",
    "print(classification_report(y_train, model.predict(X_train)))"
   ]
  },
  {
   "cell_type": "markdown",
   "id": "f5abc46b-a228-4bd6-9ace-e0e531b3bcce",
   "metadata": {
    "deletable": false,
    "editable": false
   },
   "source": [
    "Note in the last two rows, we have the macro and the weighted average,. Macro average is the arithmetic average of a metric between the two classes:\n",
    "\n",
    "$$ \\text{0.65} = \\frac{0.70+0.60}{2} $$\n",
    "\n",
    "The weighted average is calculated as:\n",
    "\n",
    "$$ \\frac{\\sum(\\text{metric of interest} \\cdot \\text{weight})}{\\sum(\\text{weights})} $$\n",
    "\n",
    "Here the weights are the number of observation for each class."
   ]
  },
  {
   "cell_type": "markdown",
   "id": "dadedbc3-fa87-4e4d-9f92-4e09181c52d2",
   "metadata": {
    "deletable": false,
    "editable": false
   },
   "source": [
    "Here you may notice there are two rows of metrics. If you refer back to what we calculated previous on precision and recall, the second row actually align with what we found. That's because we usually define class one as the **positive class**, thus we are referring class 1's metric performance as the true precision and recall value."
   ]
  },
  {
   "cell_type": "markdown",
   "id": "2eac6b51-8d51-4b5f-8d65-6659822adefe",
   "metadata": {
    "deletable": false,
    "editable": false
   },
   "source": [
    "<font size=\"+1\">Practice</font>\n",
    "\n",
    "Get classification report for the validation set"
   ]
  },
  {
   "cell_type": "code",
   "execution_count": null,
   "id": "cafe0843-cf86-4b26-af7f-f889e9b49d04",
   "metadata": {
    "deletable": false
   },
   "outputs": [],
   "source": [
    "\n",
    "print(...)"
   ]
  },
  {
   "cell_type": "markdown",
   "id": "9de12dc1-75a9-446a-ae40-76137f50a802",
   "metadata": {
    "deletable": false,
    "editable": false,
    "tags": []
   },
   "source": [
    "## Communication"
   ]
  },
  {
   "cell_type": "markdown",
   "id": "14289438-3145-4f0e-bccf-ff78865e4be5",
   "metadata": {
    "deletable": false,
    "editable": false
   },
   "source": [
    "### Plotting a Decision Tree"
   ]
  },
  {
   "cell_type": "markdown",
   "id": "e439a7c3-8622-4ecb-b76e-70f23bd0e354",
   "metadata": {
    "deletable": false,
    "editable": false
   },
   "source": [
    "The `plot_tree` function can be used to a plot a decision tree. The visualization is fit to the size of the axis set with `matplotlib`. Use the `figsize` argument of `plt.subplots` to control the size of the tree."
   ]
  },
  {
   "cell_type": "markdown",
   "id": "ec5dbf38-30da-4069-9e67-d4685d0b68a1",
   "metadata": {
    "deletable": false,
    "editable": false
   },
   "source": [
    "We'll demonstrate how to use the `plot_tree` function to graphically display a decision tree:"
   ]
  },
  {
   "cell_type": "code",
   "execution_count": null,
   "id": "98a34cb8-2f96-4d8a-85d1-9ca877d5a45d",
   "metadata": {
    "deletable": false
   },
   "outputs": [],
   "source": [
    "# Create larger figure\n",
    "fig, ax = plt.subplots(figsize=(25, 12))\n",
    "\n",
    "# Plot tree\n",
    "plot_tree(\n",
    "    decision_tree=...,\n",
    "    feature_names=...,\n",
    "    filled=True,  # Color leaf with class\n",
    "    rounded=True,  # Round leaf edges\n",
    "    proportion=True,  # Display proportion of classes in leaf\n",
    "    max_depth=3,  # Only display first 3 levels\n",
    "    fontsize=12,  # Enlarge font\n",
    "    ax=ax,  # Place in figure axis\n",
    ");"
   ]
  },
  {
   "cell_type": "markdown",
   "id": "333ff0c7-71fe-4aee-b9ea-5593b0cd90f7",
   "metadata": {
    "deletable": false,
    "editable": false
   },
   "source": [
    "<font size=\"+1\">Practice: Plot a decision tree using `scikit-learn`</font>\n",
    "\n",
    "Try it yourself! Use `plot_tree` to plot the decision tree from the `model` object, modifying the parameters of the tree to only display the first 3 levels and to not display the proportion of classes in a leaf.  "
   ]
  },
  {
   "cell_type": "code",
   "execution_count": null,
   "id": "c9cab4c7-11bf-4f33-b6db-56f672a8275b",
   "metadata": {
    "deletable": false
   },
   "outputs": [],
   "source": [
    "# Create larger figure\n",
    "fig, ax = plt.subplots(figsize=(25, 12))\n",
    "\n",
    "# Plot tree\n",
    "plot_tree(\n",
    "    decision_tree=...,\n",
    "    feature_names=...,\n",
    "    filled=...,\n",
    "    rounded=...,\n",
    "    proportion=...,\n",
    "    max_depth=...,\n",
    "    fontsize=...,\n",
    "    ax=...,\n",
    ");"
   ]
  },
  {
   "cell_type": "markdown",
   "id": "b00d828b-e981-4ce1-83a6-0a1f389a5d39",
   "metadata": {
    "deletable": false,
    "editable": false
   },
   "source": [
    "The feature names and importance of features can be extracted from the column names in your training set. For the `importances`, you can access the [`feature_importances_`](https://scikit-learn.org/stable/modules/generated/sklearn.tree.DecisionTreeClassifier.html#sklearn.tree.DecisionTreeClassifier.feature_importances_) attribute of your model's `DecisionTreeClassifier`. "
   ]
  },
  {
   "cell_type": "code",
   "execution_count": null,
   "id": "fe8947e6-923b-43bd-9d15-ecdd0ad48fb9",
   "metadata": {
    "deletable": false
   },
   "outputs": [],
   "source": [
    "features = X_train.columns\n",
    "importances = model.named_steps[\"decisiontreeclassifier\"].feature_importances_\n",
    "\n",
    "print(\"Features:\", features[:3])\n",
    "print(\"Importances:\", importances[:3])"
   ]
  },
  {
   "cell_type": "markdown",
   "id": "bc173066-018f-47f8-92ae-efa2928d551c",
   "metadata": {
    "deletable": false,
    "editable": false
   },
   "source": [
    "The importance of a feature is based on how well the feature correctly classifies observations. In a decision tree, this is on average how much a feature reduces the impurity metric. The tree determines how to split based on an impurity function. The impurity function calculates how homogeneous observations are at a particular leaf node. Conditions that do a better job minimizing impurity are used to split first. The `sklearn.tree` algorithm uses the Gini impurity by default. The Gini impurity measures the probability of an incorrect classification in the model for each branch. It ranges from 0 to 1. "
   ]
  },
  {
   "cell_type": "markdown",
   "id": "08ac978f-fce2-443f-9813-71b23863de62",
   "metadata": {
    "deletable": false,
    "editable": false
   },
   "source": [
    "Let's create a bar chart to plot each feature with its corresponding importance. To build this bar chart, we'll create a pandas Series named feat_imp, where the index is features and the values are your importances. The Series should be sorted from smallest to largest importance so that the bar chart is also in order. "
   ]
  },
  {
   "cell_type": "code",
   "execution_count": null,
   "id": "1b745cd8-c923-47ff-b9fe-a8d60bcde8de",
   "metadata": {
    "deletable": false
   },
   "outputs": [],
   "source": [
    "feat_imp = pd.Series(importances, index=features).sort_values()\n",
    "feat_imp.head()"
   ]
  },
  {
   "cell_type": "markdown",
   "id": "399cf794-983c-4d02-80dd-03f8cdb82ecb",
   "metadata": {
    "deletable": false,
    "editable": false
   },
   "source": [
    "Next, we'll use the series to build a bar chart:"
   ]
  },
  {
   "cell_type": "code",
   "execution_count": null,
   "id": "7b51cf84-981a-4fa7-a920-654b3e21f93e",
   "metadata": {
    "deletable": false
   },
   "outputs": [],
   "source": [
    "feat_imp.plot(kind=\"barh\")\n",
    "plt.xlabel(\"Gini Importance\");"
   ]
  },
  {
   "cell_type": "markdown",
   "id": "3a2c8317-b9af-4818-84c2-91d1c1d8909d",
   "metadata": {
    "deletable": false,
    "editable": false
   },
   "source": [
    "# Classification with Ensemble Models"
   ]
  },
  {
   "cell_type": "markdown",
   "id": "0a0d084b-3bbe-4211-8433-7dc6f9b2fde5",
   "metadata": {
    "deletable": false,
    "editable": false
   },
   "source": [
    "Ensemble models are machine learning models that use more than one predictor to arrive at a prediction. A group of predictors form an _ensemble_. In general, ensemble models perform better than using a single predictor. There are three types of ensemble models: **bagging**, **boosting**, and **blending**. Of the three, decision trees are commonly used to construct bagging and boosting models."
   ]
  },
  {
   "cell_type": "markdown",
   "id": "30b0cee7-6433-4fb5-afeb-468cf95faa41",
   "metadata": {
    "deletable": false,
    "editable": false
   },
   "source": [
    "## Random Forest"
   ]
  },
  {
   "cell_type": "markdown",
   "id": "d5a6c692-7428-4e41-8873-ebb4f21c7bfd",
   "metadata": {
    "deletable": false,
    "editable": false
   },
   "source": [
    "The performance of a single decision tree will be limited. Instead of relying on one tree, a better approach is to aggregate the predictions of multiple trees. On average, aggregation will perform better than a single predictor. You can envision the aggregation as mimicking the idea of \"wisdom of the crowd.\" We call a tree based model that aggregates the predictions of multiple trees a **random forest**.\n",
    "\n",
    "In order for a random forest to be effective, the model needs a diverse collection of trees. There should be variations in the chosen thresholds for splitting and the number of nodes and branches. There is no point in aggregating the predicted results if all the trees are nearly identical and produce the same result. There is no \"wisdom of the crowd\" if everyone thinks alike. To achieve a diverse set of trees, we need to:\n",
    "\n",
    "1. Train each tree in the forest using a different subset of the training set.\n",
    "1. Only consider a subset of features when deciding how to split the nodes.\n",
    "\n",
    "On the first point, we would ideally generate a new training set for each tree. However, oftentimes it's too difficult or expensive to collect more data, so we have to make do with what we have. Bootstrapping is a general statistical technique to generate \"new\" data sets with a single set by random sampling with _replacement_. Sampling with replacement allows for a data point to be sampled more than once.\n",
    "\n",
    "Typically, when training the standard decision tree model, the algorithm will consider all features in deciding the node split. Considering only a subset of your features ensures that your trees do not resemble each other. If the algorithm had considered all features, a dominant feature would be continuously chosen for node splits.\n",
    "\n",
    "The hyperparameters available for random forests include those of decision tress with some additions.\n",
    "\n",
    "<table>\n",
    "<tr>\n",
    "<th style=\"text-align: left\">Hyperparameter</th>\n",
    "<th style=\"text-align: left\">Description</th>\n",
    "</tr>\n",
    "    \n",
    "<tr>\n",
    "<td style=\"text-align: left\"><code>n_estimators</code></td>\n",
    "<td style=\"text-align: left\">The number of trees in the forest</td>\n",
    "</tr>\n",
    "\n",
    "<tr style=\"text-align: left\">\n",
    "<td style=\"text-align: left\"><code>max_samples</code></td>\n",
    "<td style=\"text-align: left\">If bootstrap is True, the number of samples to draw from X to train each base estimator</td>\n",
    "</tr>\n",
    "\n",
    "<tr style=\"text-align: left\">\n",
    "<td style=\"text-align: left\"><code>max_features</code></td>\n",
    "<td style=\"text-align: left\">The number of features to consider when looking for the best split</td>\n",
    "</tr>\n",
    "\n",
    "<tr>\n",
    "<td style=\"text-align: left\"><code>n_jobs</code></td>\n",
    "<td style=\"text-align: left\">The number of jobs to run in parallel when fitting and predicting</td>\n",
    "</tr>\n",
    "\n",
    "<tr style=\"text-align: left\">\n",
    "<td style=\"text-align: left\"><code>warm_start</code></td>\n",
    "<td style=\"text-align: left\">If set to <code>True</code>, reuse the trained tree from a prior fitting and just train the additional trees</td>\n",
    "</tr>\n",
    "</table>\n",
    "\n",
    "Since the random forest is based on idea of bootstrapping and aggregating the results, it is referred to as a **bagging** ensemble model."
   ]
  },
  {
   "cell_type": "markdown",
   "id": "13a2d013-4335-4b4a-9a5c-2a99812b584f",
   "metadata": {
    "deletable": false,
    "editable": false
   },
   "source": [
    "## Gradient Boosting Trees"
   ]
  },
  {
   "cell_type": "markdown",
   "id": "e96af308-0f2e-440d-8982-d630c95eb98c",
   "metadata": {
    "deletable": false,
    "editable": false
   },
   "source": [
    "Gradient boosting trees is another ensemble model. It uses a collection of tree models arranged in a sequence. Here, the model is built stage-wise; each additional tree aims to correct the previous tree's incorrect. \n",
    "\n",
    "Where does the name *gradient* in gradient boosting trees come from? Gradient descent is a minimization algorithm that updates/improves the current answer by taking a step in the direction of minimizing the loss function. This is the same as the gradient boosting trees algorithm as it adds trees to minimize loss/improve model performance. The term **boosting** refers to the algorithm's ability to combine multiple weak models in sequence to form a stronger model. "
   ]
  },
  {
   "cell_type": "markdown",
   "id": "2dca7882-0b1c-42a2-a996-f44ba2fb33ac",
   "metadata": {
    "deletable": false,
    "editable": false
   },
   "source": [
    "Gradient boosting trees have a similar set of hyperparameters as random forests but with some key additions.\n",
    "\n",
    "<table>\n",
    "\t<tr>\n",
    "    <th style=\"text-align: left\">Hyperparameter</th>\n",
    "    <th style=\"text-align: left\">Description</th>\n",
    "\t</tr>  \n",
    "    <tr>\n",
    "        <td style=\"text-align: left\"><code>learning_rate</code></td>\n",
    "        <td style=\"text-align: left\">Multiplicative factor of the tree's contribution to the model.</td>\n",
    "\t</tr>\n",
    "    <tr>\n",
    "        <td style=\"text-align: left\"><code>subsample</code></td>\n",
    "        <td style=\"text-align: left\">Fraction of the training data to use when fitting the trees.</td>\n",
    "\t</tr>\n",
    "</table>"
   ]
  },
  {
   "cell_type": "markdown",
   "id": "18130231-fa4f-42b8-9bee-8f25cded2e6d",
   "metadata": {
    "deletable": false,
    "editable": false
   },
   "source": [
    "The learning rate determines how much each tree affect the final outcome and is very important in model convergence. Thus it should be considered during hyperparameter tuning to improve model performance."
   ]
  },
  {
   "cell_type": "markdown",
   "id": "3cef7d0e-ebe2-449c-a14c-00b424366ba1",
   "metadata": {
    "deletable": false,
    "editable": false
   },
   "source": [
    "# Hyperparameter Tuning"
   ]
  },
  {
   "cell_type": "markdown",
   "id": "eccf0aa8-4efc-4140-b22f-5596935d0f73",
   "metadata": {
    "deletable": false,
    "editable": false
   },
   "source": [
    "When we defined our decision tree estimator, we chose how many layers the tree would have using the `max_depth` argument. More generally, when we instantiate any estimator, we can pass keyword arguments that will dictate its structure. The decision tree regressor accepts [12 different keyword arguments](http://scikit-learn.org/stable/modules/generated/sklearn.tree.DecisionTreeRegressor.html#sklearn.tree.DecisionTreeRegressor). These arguments are called **hyperparameters**. This is in contrast to **parameters**, which are the numbers that our model uses to predict labels based on features. Hyperparameters are decided before training and dictate the model's structure. Parameters are optimized during training. Basically all models have hyperparameters. Even a simple linear regressor has a hyperparameter: `fit_intercept`.\n",
    "\n",
    "Since changing a hyperparameters will change the structure of the model, we should think of choosing hyperparameters as part of the model building process. We can usually use **cross validation** combined with **grid search** when looking for the best model with the right hyperparameters. This process is called **hyperparameter tuning**."
   ]
  },
  {
   "cell_type": "markdown",
   "id": "45da785a-12de-43df-938d-1e960452b255",
   "metadata": {
    "deletable": false,
    "editable": false
   },
   "source": [
    "## Cross-Validation"
   ]
  },
  {
   "cell_type": "markdown",
   "id": "77b748ac-1fec-43e1-8d0e-d3b332d9de46",
   "metadata": {
    "deletable": false,
    "editable": false
   },
   "source": [
    "When trying out different hyperparameter settings for estimators (such as the `max_depth` for a random forest), there's a risk in using the test set to evaluate these settings. What happens is that your knowledge about the test set can “leak” into the model, and performance metrics no longer reflect the model's ability to generalize. \n",
    "\n",
    "The generalization problem can be solved adding an extra set called **validation set**. In this case, we train the model with the training set, then evaluate different hyperparameters using the validation set. If the model is performing well in both sets, finally we will evaluate the model on the test set.\n",
    "\n",
    "But there's a drawback to this strategy. The potential issue we may face dividing data into three sets is that we will reduce the number of samples available to fit and train the model. In addition, the model results will change with respect to difference choices of training and validation portions.\n",
    "\n",
    "The solution here is to use **cross validation** (CV for short). In this case, we will still use a test set, but a validation set is no longer needed. **k-fold CV** is the most used cross validation method(http://scikit-learn.org/stable/modules/cross_validation.html#k-fold). The algorithm divides the training set into $k$ small folds. For each fold $k$, we:\n",
    "\n",
    "1. Train the model using all the folds but one (i.e. $k-1$ folds) as training data;\n",
    "\n",
    "1. Validate the model using the remaining fold as if it were test data, and store the performance metric;\n",
    "\n",
    "This approach makes the best use of all the data we are given, so it's particularly useful when the sample size is small."
   ]
  },
  {
   "cell_type": "markdown",
   "id": "fd09b8a3-7ed1-4bce-aa16-02bbcf482539",
   "metadata": {
    "deletable": false,
    "editable": false
   },
   "source": [
    "Here is the code for conducting a 5-fold cross-validation and reporting the accuracy score for each fold."
   ]
  },
  {
   "cell_type": "code",
   "execution_count": null,
   "id": "0b946ff1-fc2b-4d0d-932f-f343169ec172",
   "metadata": {
    "deletable": false
   },
   "outputs": [],
   "source": [
    "from sklearn.model_selection import cross_val_score\n",
    "\n",
    "clf = make_pipeline(OneHotEncoder(), DecisionTreeClassifier())\n",
    "scores = cross_val_score(clf, X_train, y_train, cv=5)\n",
    "scores"
   ]
  },
  {
   "cell_type": "code",
   "execution_count": null,
   "id": "98f98157-6f51-48a8-899d-4a3474a4d047",
   "metadata": {
    "deletable": false
   },
   "outputs": [],
   "source": [
    "print(\n",
    "    f\"{round(scores.mean(),2)} accuracy with a standard deviation of {round(scores.std(),2)}\"\n",
    ")"
   ]
  },
  {
   "cell_type": "markdown",
   "id": "a0224f90-cd71-44e5-8064-ffd7cc9e3b4d",
   "metadata": {
    "deletable": false,
    "editable": false
   },
   "source": [
    "<font size=\"+1\">Practice</font>\n",
    "\n",
    "Perform 2-fold Cross Validation"
   ]
  },
  {
   "cell_type": "code",
   "execution_count": null,
   "id": "62d4604b-ec99-4245-97ef-ee25c0c767e8",
   "metadata": {
    "deletable": false
   },
   "outputs": [],
   "source": [
    "clf = ...\n",
    "scores = ...\n",
    "scores"
   ]
  },
  {
   "cell_type": "markdown",
   "id": "f2bf445b-8dbd-4f77-b8ec-005221e0b103",
   "metadata": {
    "deletable": false,
    "editable": false
   },
   "source": [
    "## Grid Search"
   ]
  },
  {
   "cell_type": "markdown",
   "id": "b1c42a34-79ed-44fa-b70f-e45b32d91b1c",
   "metadata": {
    "deletable": false,
    "editable": false
   },
   "source": [
    "Another a useful tool for comparing different hyperparameter values is `GridSearchCV`. There are two ideas behind `GridSearchCV`: first we split the data using k-fold cross-validation, and then we train and evaluate models with different hyperparameter settings selected from a grid of possible combinations."
   ]
  },
  {
   "cell_type": "markdown",
   "id": "cd0aaf12-2f3e-44ef-84f3-b8735529b3ca",
   "metadata": {
    "deletable": false,
    "editable": false
   },
   "source": [
    "First, we need to define the hyperparameters we want to tune, and tuning in what range. Here we are using an example of searching the best value for the `max_depth` in decision tree model. Since we will be building a pipeline including a transformer and estimator, we need to specify `max_depth` comes from the estimator `decisiontreeclassifier`."
   ]
  },
  {
   "cell_type": "code",
   "execution_count": null,
   "id": "8cdec893-0809-4417-90bd-1b9fd8cc68f4",
   "metadata": {
    "deletable": false
   },
   "outputs": [],
   "source": [
    "from sklearn.model_selection import GridSearchCV\n",
    "\n",
    "params = {\"decisiontreeclassifier__max_depth\": range(1, 15)}"
   ]
  },
  {
   "cell_type": "markdown",
   "id": "b4c755f5-4cce-4fcc-b75a-9a80d488d9ff",
   "metadata": {
    "deletable": false,
    "editable": false
   },
   "source": [
    "The we define the pipeline and the model with `GridSearchCV`."
   ]
  },
  {
   "cell_type": "code",
   "execution_count": null,
   "id": "192c455a-dd77-4de6-a4d2-7c0cd27e77eb",
   "metadata": {
    "deletable": false
   },
   "outputs": [],
   "source": [
    "clf = make_pipeline(OneHotEncoder(), DecisionTreeClassifier())\n",
    "model = GridSearchCV(clf, param_grid=params, cv=5)"
   ]
  },
  {
   "cell_type": "markdown",
   "id": "fffac4ca-a73a-492e-b732-96f5f124e956",
   "metadata": {
    "deletable": false,
    "editable": false
   },
   "source": [
    "Lastly fit the model:"
   ]
  },
  {
   "cell_type": "code",
   "execution_count": null,
   "id": "458cd288-0671-48f1-afec-cd4b1833c2aa",
   "metadata": {
    "deletable": false
   },
   "outputs": [],
   "source": [
    "model.fit(X_train, y_train)"
   ]
  },
  {
   "cell_type": "markdown",
   "id": "29b6dc56-83fc-4e6a-b2a5-942c02057e5d",
   "metadata": {
    "deletable": false,
    "editable": false
   },
   "source": [
    "We can check the best parameters once the fitting process finished:"
   ]
  },
  {
   "cell_type": "code",
   "execution_count": null,
   "id": "22dd63b8-863e-4ff6-b6d7-e6d539edc7f9",
   "metadata": {
    "deletable": false
   },
   "outputs": [],
   "source": [
    "model.best_params_"
   ]
  },
  {
   "cell_type": "markdown",
   "id": "4e01ec81-04b0-45be-adf5-82bb265e8f21",
   "metadata": {
    "deletable": false,
    "editable": false
   },
   "source": [
    "<font size=\"+1\">Practice</font>\n",
    "\n",
    "Perform `GridSearchCV` on both `max_depth` and `criterion` for the validation set"
   ]
  },
  {
   "cell_type": "code",
   "execution_count": null,
   "id": "778aba62-c32a-4e20-98b0-a7ecdad68ab1",
   "metadata": {
    "deletable": false
   },
   "outputs": [],
   "source": [
    "# Define grid\n",
    "params = ...\n",
    "\n",
    "# Build classifier\n",
    "clf = ...\n",
    "\n",
    "# Build grid search model\n",
    "model = ...\n",
    "\n",
    "# Fit model to training data\n",
    "\n",
    "\n",
    "# Check the best hyperparameters\n"
   ]
  },
  {
   "cell_type": "markdown",
   "id": "b5529225-2286-401a-a1dc-7c63f71c8a30",
   "metadata": {
    "deletable": false,
    "editable": false
   },
   "source": [
    "# References & Further Reading\n",
    "\n",
    "- [`scikit-learn` documentation on decision tree classifier model object](https://scikit-learn.org/stable/modules/generated/sklearn.tree.DecisionTreeClassifier.html)\n",
    "- [`scikit-learn` documentation on decision tree plot](https://scikit-learn.org/stable/modules/generated/sklearn.tree.plot_tree.html)\n",
    "- [`scikit-learn` documentation on decision tree math](https://scikit-learn.org/stable/modules/tree.html)\n",
    "- [`scikit-learn` confusion matrix](https://scikit-learn.org/stable/modules/generated/sklearn.metrics.precision_score.html)\n",
    "- [`scikit-learn` precision score](https://scikit-learn.org/stable/modules/generated/sklearn.metrics.precision_score.html)\n",
    "- [`scikit-learn` recall score](https://scikit-learn.org/stable/modules/generated/sklearn.metrics.recall_score.html)\n",
    "- [`scikit-learn` classification report](https://scikit-learn.org/stable/modules/generated/sklearn.metrics.classification_report.html)\n",
    "-[`Youtube`Confusion Matrix](https://www.youtube.com/watch?v=_cpiuMuFj3U)\n",
    "- [`scikit-learn`Cross Validation](https://scikit-learn.org/stable/modules/cross_validation.html)\n",
    "- [`scikit-learn`k-fold Cross Validation](https://scikit-learn.org/stable/modules/cross_validation.html#k-fold)\n",
    "\n"
   ]
  },
  {
   "cell_type": "markdown",
   "id": "63b1da26-aa25-4b9f-b3e2-cd93bb9b2d1c",
   "metadata": {
    "deletable": false,
    "editable": false
   },
   "source": [
    "---\n",
    "Copyright © 2022 WorldQuant University. This\n",
    "content is licensed solely for personal use. Redistribution or\n",
    "publication of this material is strictly prohibited.\n"
   ]
  }
 ],
 "metadata": {
  "kernelspec": {
   "display_name": "Python 3 (ipykernel)",
   "language": "python",
   "name": "python3"
  },
  "language_info": {
   "codemirror_mode": {
    "name": "ipython",
    "version": 3
   },
   "file_extension": ".py",
   "mimetype": "text/x-python",
   "name": "python",
   "nbconvert_exporter": "python",
   "pygments_lexer": "ipython3",
   "version": "3.8.8"
  }
 },
 "nbformat": 4,
 "nbformat_minor": 5
}
