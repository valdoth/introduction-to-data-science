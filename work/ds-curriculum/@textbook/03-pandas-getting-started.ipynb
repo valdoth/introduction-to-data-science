{
 "cells": [
  {
   "cell_type": "markdown",
   "id": "81b9abc0-be3d-46d9-937f-c0f70b600f96",
   "metadata": {
    "deletable": false,
    "editable": false
   },
   "source": [
    "<font size=\"+3\"><strong>Pandas: Getting Started</strong></font>"
   ]
  },
  {
   "cell_type": "markdown",
   "id": "27919832-a430-449c-8f8e-294937201ceb",
   "metadata": {
    "deletable": false,
    "editable": false
   },
   "source": [
    "# Pandas\n",
    "\n",
    "**Pandas** is a Python library used for working with datasets. It does that by helping us make sense of **DataFrames**, which are a form of two-dimensional **structured data**, like a table with columns and rows. But before we can do anything else, we need to start with data in a CSV file."
   ]
  },
  {
   "cell_type": "markdown",
   "id": "aaadd788-e6bc-4b67-aac2-5bc196c4e424",
   "metadata": {
    "deletable": false,
    "editable": false
   },
   "source": [
    "# Importing Data"
   ]
  },
  {
   "cell_type": "markdown",
   "id": "3dc02e4f-6939-45db-afbf-28ae801582f6",
   "metadata": {
    "deletable": false,
    "editable": false
   },
   "source": [
    "## CSV Files\n",
    "\n",
    "CSV stands for Comma Separated Values, and it's a file type that allows data to be saved in a table. Data presented in a table is called **structured data**, because it adheres to the idea that there is a meaningful relationship between the columns and rows. A CSV might also show **panel data**, which is data that shows observations of the same behavior at various different times. The datasets we're using in this part of the course are all structured tables, but you'll see other arrangements of data as you move through your projects.\n",
    "\n",
    "If you're familiar with the way data tables look in spreadsheet applications like Excel, you might be surprised to see that raw CSV files don't look like that. If you came across a CSV file and opened it to see what it looked like, you'd see something like this:\n",
    "\n",
    "```python\n",
    "property_type,department,lat,lon,area_m2,price_usd\n",
    "house,Bogotá D.C,4.69,-74.048,187.0,\"$330,899.98\"\n",
    "house,Bogotá D.C,4.695,-74.082,82.0,\"$121,555.09\"\n",
    "house,Quindío,4.535,-75.676,235.0,\"$219,474.47\"\n",
    "house,Bogotá D.C,4.62,-74.129,195.0,\"$97,919.38\"\n",
    "```"
   ]
  },
  {
   "cell_type": "markdown",
   "id": "a9ce6613-3f2f-490a-8e96-5d732f21a56e",
   "metadata": {
    "deletable": false,
    "editable": false
   },
   "source": [
    "## Dictionaries"
   ]
  },
  {
   "cell_type": "markdown",
   "id": "de4f2fe5-7916-496b-b810-3d47420912e9",
   "metadata": {
    "deletable": false,
    "editable": false
   },
   "source": [
    "You can create a DataFrame from a Python dictionary using `from_dict` function."
   ]
  },
  {
   "cell_type": "code",
   "execution_count": null,
   "id": "52b4edb7-eaba-476e-a98e-be7db0491843",
   "metadata": {
    "deletable": false
   },
   "outputs": [],
   "source": [
    "import pandas as pd\n",
    "\n",
    "data = {\"col_1\": [3, 2, 1, 0], \"col_2\": [\"a\", \"b\", \"c\", \"d\"]}\n",
    "pd.DataFrame.from_dict(data)"
   ]
  },
  {
   "cell_type": "markdown",
   "id": "3555cc41-7955-4d77-9f01-96cc62ff1f07",
   "metadata": {
    "deletable": false,
    "editable": false
   },
   "source": [
    "By default, DataFrame will be created using keys as columns. Note the length of the values should be equal for each key for the code to work. We can also let keys to be index instead of the columns:"
   ]
  },
  {
   "cell_type": "code",
   "execution_count": null,
   "id": "a7d6dbc8-9fc7-48d9-a425-38a10a1c6421",
   "metadata": {
    "deletable": false
   },
   "outputs": [],
   "source": [
    "pd.DataFrame.from_dict(data, orient=\"index\")"
   ]
  },
  {
   "cell_type": "markdown",
   "id": "c9d2161c-4448-4225-a59a-2eec52e36361",
   "metadata": {
    "deletable": false,
    "editable": false
   },
   "source": [
    "We can also specify column names:"
   ]
  },
  {
   "cell_type": "code",
   "execution_count": null,
   "id": "0cd8d3d9-51d4-4e46-ab34-77f2ba6211a3",
   "metadata": {
    "deletable": false
   },
   "outputs": [],
   "source": [
    "pd.DataFrame.from_dict(data, orient=\"index\", columns=[\"A\", \"B\", \"C\", \"D\"])"
   ]
  },
  {
   "cell_type": "markdown",
   "id": "2affca0e-eb66-47b6-ab23-c0cb48306a95",
   "metadata": {
    "deletable": false,
    "editable": false
   },
   "source": [
    "<font size=\"+1\">Practice</font>\n",
    "\n",
    "Try it yourself! Create a DataFrame called using the dictionary `clothes` and make the keys as index, and put column names as ['color','size']"
   ]
  },
  {
   "cell_type": "code",
   "execution_count": null,
   "id": "0dd35d07-7910-46df-9473-44f193b2b1dd",
   "metadata": {
    "deletable": false
   },
   "outputs": [],
   "source": [
    "clothes = {\"shirt\": [\"red\", \"M\"], \"sweater\": [\"yellow\", \"L\"], \"jacket\": [\"black\", \"L\"]}\n",
    "\n"
   ]
  },
  {
   "cell_type": "markdown",
   "id": "c4440b2d-50b5-47c1-98ea-74bb97bf2c63",
   "metadata": {
    "deletable": false,
    "editable": false
   },
   "source": [
    "## JSON Files"
   ]
  },
  {
   "cell_type": "markdown",
   "id": "51838f5a-6833-4283-8563-b6d013eb29fe",
   "metadata": {
    "deletable": false,
    "editable": false
   },
   "source": [
    "JSON is short for JavaScript Object Notation. It is another widely used data format to store and transfer the data. It is light-weight and very human readable. In Python, we can use the `json` library to read JSON files. Here is an example of a JSON string."
   ]
  },
  {
   "cell_type": "code",
   "execution_count": null,
   "id": "643661da-35d1-4054-94a1-496d232d335d",
   "metadata": {
    "deletable": false
   },
   "outputs": [],
   "source": [
    "info = \"\"\"{\n",
    "    \"firstName\": \"Jane\",\n",
    "    \"lastName\": \"Doe\",\n",
    "    \"hobby\": \"running\",\n",
    "    \"age\": 35\n",
    "}\"\"\"\n",
    "print(info)"
   ]
  },
  {
   "cell_type": "markdown",
   "id": "762e6482-bbb2-440a-b824-1a75a5368617",
   "metadata": {
    "deletable": false,
    "editable": false
   },
   "source": [
    "Use `json` library to load the json string into a Python dictionary:"
   ]
  },
  {
   "cell_type": "code",
   "execution_count": null,
   "id": "feb3fedd-952a-45de-a64d-2b5128cd1009",
   "metadata": {
    "deletable": false
   },
   "outputs": [],
   "source": [
    "import json\n",
    "\n",
    "data = json.loads(info)\n",
    "data"
   ]
  },
  {
   "cell_type": "markdown",
   "id": "dfe58024-01fa-42f5-a203-cf6be127aa1e",
   "metadata": {
    "deletable": false,
    "editable": false
   },
   "source": [
    "We can load a json string or file into a dictionary because they are organized in the same way: key-value pairs."
   ]
  },
  {
   "cell_type": "code",
   "execution_count": null,
   "id": "c18b34dc-7d53-4dd3-97a6-29f1fc1987f8",
   "metadata": {
    "deletable": false
   },
   "outputs": [],
   "source": [
    "data[\"firstName\"]"
   ]
  },
  {
   "cell_type": "markdown",
   "id": "357f95b8-ee99-4ad4-b46a-1cf3f5c3138b",
   "metadata": {
    "deletable": false,
    "editable": false
   },
   "source": [
    "A dictionary may not be as convenient as a `DataFrame` in terms of data manipulation and cleaning. But once we've turned our json string into a dictionary, we can transform it into a `DataFrame` using the `from_dict` method."
   ]
  },
  {
   "cell_type": "code",
   "execution_count": null,
   "id": "e7bebada-c1c7-41f6-86e6-f466cad3f363",
   "metadata": {
    "deletable": false
   },
   "outputs": [],
   "source": [
    "df = pd.DataFrame.from_dict(data, orient=\"index\", columns=[\"subject 1\"])\n",
    "df"
   ]
  },
  {
   "cell_type": "markdown",
   "id": "4d1e23d9-d7e6-4ef9-8356-b8df34653557",
   "metadata": {
    "deletable": false,
    "editable": false
   },
   "source": [
    "<font size=\"+1\">Practice</font>\n",
    "\n",
    "Try it yourself! Load the JSON file `clothes` and then transform it to `DataFrame`, name column properly."
   ]
  },
  {
   "cell_type": "code",
   "execution_count": null,
   "id": "db89b3a3-d66a-4588-ae06-6d724fad092f",
   "metadata": {
    "deletable": false
   },
   "outputs": [],
   "source": [
    "clothes = \"\"\"{\"shirt\": [\"red\",\"M\"], \"sweater\": [\"yellow\",\"L\"]}\"\"\"\n",
    "\n",
    "\n",
    "data = ...\n",
    "df = ...\n",
    "df"
   ]
  },
  {
   "cell_type": "markdown",
   "id": "04f7d569-cf3e-481d-8c22-60adc66e4a96",
   "metadata": {
    "deletable": false,
    "editable": false
   },
   "source": [
    "# Load Compressed file in Python\n",
    "\n",
    "In the big data era, it is very likely that we'll need to read data from compressed files. One way to unzip the data is to use gzip. We can load the `poland-bankruptcy-data-2008.json.gz` file from the data folder using the following code:"
   ]
  },
  {
   "cell_type": "code",
   "execution_count": null,
   "id": "2341efe0-673e-4926-925a-646988e83da6",
   "metadata": {
    "deletable": false
   },
   "outputs": [],
   "source": [
    "import gzip\n",
    "import json\n",
    "\n",
    "with gzip.open(\"data/poland-bankruptcy-data-2008.json.gz\", \"r\") as f:\n",
    "    poland_data_gz = json.load(f)"
   ]
  },
  {
   "cell_type": "markdown",
   "id": "853bd252-964c-4690-bcf3-f1b4f6e112eb",
   "metadata": {
    "deletable": false,
    "editable": false
   },
   "source": [
    "`poland_data_gz` is a dictionary, and we only need the `data` portion of it."
   ]
  },
  {
   "cell_type": "code",
   "execution_count": null,
   "id": "687362e6-f31b-412d-887d-f92279f1942d",
   "metadata": {
    "deletable": false
   },
   "outputs": [],
   "source": [
    "poland_data_gz.keys()"
   ]
  },
  {
   "cell_type": "markdown",
   "id": "81fcf14e-419d-404a-92e5-673f6c036d67",
   "metadata": {
    "deletable": false,
    "editable": false
   },
   "source": [
    "We can use the `from_dict` function from pandas to read the data:"
   ]
  },
  {
   "cell_type": "code",
   "execution_count": null,
   "id": "3cf5dcfa-a6ab-442b-a5d4-43601be24853",
   "metadata": {
    "deletable": false
   },
   "outputs": [],
   "source": [
    "df = pd.DataFrame().from_dict(poland_data_gz[\"data\"])"
   ]
  },
  {
   "cell_type": "code",
   "execution_count": null,
   "id": "1ff3e0c3-9ac6-4235-a892-50aee7cf0b4f",
   "metadata": {
    "deletable": false
   },
   "outputs": [],
   "source": [
    "df.head()"
   ]
  },
  {
   "cell_type": "markdown",
   "id": "ae419a6b-4d8f-4f56-93bc-7f94d03e6a26",
   "metadata": {
    "deletable": false,
    "editable": false
   },
   "source": [
    "<font size=\"+1\">Practice</font>\n",
    " \n",
    "Read `poland-bankruptcy-data-2007.json.gz` into a DataFrame."
   ]
  },
  {
   "cell_type": "code",
   "execution_count": null,
   "id": "314b58ef-8ebc-4d56-bb35-ecd26243340d",
   "metadata": {
    "deletable": false
   },
   "outputs": [],
   "source": [
    "# Load file into dictionary\n",
    "\n",
    "\n",
    "# Transform dictionary into DataFrame\n",
    "df = ...\n",
    "df.head()"
   ]
  },
  {
   "cell_type": "markdown",
   "id": "fd591d76-7d6b-45af-9179-78dd0c98b70f",
   "metadata": {
    "deletable": false,
    "editable": false
   },
   "source": [
    "## Pickle Files"
   ]
  },
  {
   "cell_type": "markdown",
   "id": "2642a899-075a-4f74-82f5-b72669bde71d",
   "metadata": {
    "deletable": false,
    "editable": false
   },
   "source": [
    "Pickle in Python is primarily used in `serializing` and `deserializing` a Python object structure. `Serialization` is the process of turning an object in memory into a stream of bytes so you can store it on disk or send it over a network. `Deserialization` is the reverse process: turning a stream of bytes back into an object in memory.\n",
    "\n",
    "According to the pickle module documentation, the following types can be pickled:\n",
    "\n",
    "* `None`\n",
    "* Booleans\n",
    "* Integers, long integers, floating point numbers, complex numbers\n",
    "* Normal and Unicode strings\n",
    "* Tuples, lists, sets, and dictionaries containing only objects that can be pickled\n",
    "* Functions defined at the top level of a module\n",
    "* Built-in functions defined at the top level of a module\n",
    "* Classes that are defined at the top level of a module\n",
    "\n",
    "Let's demonstrate using a python dictionary as an example."
   ]
  },
  {
   "cell_type": "code",
   "execution_count": null,
   "id": "156ab712-85eb-48f4-9d3b-4fafc6fa2767",
   "metadata": {
    "deletable": false
   },
   "outputs": [],
   "source": [
    "clothes = {\"shirt\": [\"red\", \"M\"], \"sweater\": [\"yellow\", \"L\"], \"jacket\": [\"black\", \"L\"]}\n",
    "clothes"
   ]
  },
  {
   "cell_type": "code",
   "execution_count": null,
   "id": "939b339a-bbe0-408d-a765-68ea5dd5cd1e",
   "metadata": {
    "deletable": false
   },
   "outputs": [],
   "source": [
    "import pickle\n",
    "\n",
    "pickle.dump(clothes, open(\"./data/clothes.pkl\", \"wb\"))"
   ]
  },
  {
   "cell_type": "markdown",
   "id": "15feb1e1-99ec-445a-8860-5d4cab46c794",
   "metadata": {
    "deletable": false,
    "editable": false
   },
   "source": [
    "Now in the data folder, there will be a file named `clothes.pkl`. We can read the pickled file using the following code:"
   ]
  },
  {
   "cell_type": "code",
   "execution_count": null,
   "id": "fbb87c61-e766-4e9e-9349-4f1754af0d2a",
   "metadata": {
    "deletable": false
   },
   "outputs": [],
   "source": [
    "with open(\"./data/clothes.pkl\", \"rb\") as f:\n",
    "    unpickled = pickle.load(f)"
   ]
  },
  {
   "cell_type": "code",
   "execution_count": null,
   "id": "088b48e0-5e76-435c-ba47-9adc88bc6e79",
   "metadata": {
    "deletable": false
   },
   "outputs": [],
   "source": [
    "unpickled"
   ]
  },
  {
   "cell_type": "markdown",
   "id": "a8faa9f4-dd33-44c7-a0bc-31cabf218c5a",
   "metadata": {
    "deletable": false,
    "editable": false
   },
   "source": [
    "Note first we are using `wb` inside the `open` function because we are creating this file, while `deserializing` the file, we are using `rb` to read the file"
   ]
  },
  {
   "cell_type": "markdown",
   "id": "5304d58d-2839-42ab-9022-13cb7b2cd5e1",
   "metadata": {
    "deletable": false,
    "editable": false
   },
   "source": [
    "<font size=\"+1\">Practice</font>\n",
    "\n",
    "Store the sample list into a pickle file, and load the pickle file back to a list."
   ]
  },
  {
   "cell_type": "code",
   "execution_count": null,
   "id": "1fe257e5-5fee-4b29-8cb2-7194cfc9f89d",
   "metadata": {
    "deletable": false
   },
   "outputs": [],
   "source": [
    "sample_list = [1, 2, 3, 4, 5]"
   ]
  },
  {
   "cell_type": "code",
   "execution_count": null,
   "id": "dc2a6bc7-e34e-4148-91c3-47281ef4d5ef",
   "metadata": {
    "deletable": false
   },
   "outputs": [],
   "source": [
    "\n",
    "\n",
    "unpickled"
   ]
  },
  {
   "cell_type": "markdown",
   "id": "5a33bdd2-1988-4c50-85c5-d35e14cb8051",
   "metadata": {
    "deletable": false,
    "editable": false
   },
   "source": [
    "# Working with DataFrames\n",
    "\n",
    "The first thing we need to do is import pandas; we'll use `pd` as an *alias* when we include it in our code.\n",
    "\n",
    "Pandas is just a library; to get anything done, we need a dataset too. We'll use the `read_csv` method to create a DataFrame from a CSV file."
   ]
  },
  {
   "cell_type": "code",
   "execution_count": null,
   "id": "575a79dc-2924-41d6-8573-97b519b92fc9",
   "metadata": {
    "deletable": false
   },
   "outputs": [],
   "source": [
    "import pandas as pd\n",
    "\n",
    "df = pd.read_csv(\"data/colombia-real-estate-1.csv\")\n",
    "df.head()"
   ]
  },
  {
   "cell_type": "markdown",
   "id": "dccb6496-cadd-4e79-ae56-855d94a231d2",
   "metadata": {
    "deletable": false,
    "editable": false
   },
   "source": [
    "<font size=\"+1\">Practice</font>\n",
    "\n",
    "Try it yourself! Create a DataFrame called `df2` using the `colombia-real-estate-2` CSV file."
   ]
  },
  {
   "cell_type": "code",
   "execution_count": null,
   "id": "9bf077e6-6cd1-4c56-8a92-96c0668686a2",
   "metadata": {
    "deletable": false
   },
   "outputs": [],
   "source": [
    "df2 = ...\n",
    "df2.head()"
   ]
  },
  {
   "cell_type": "markdown",
   "id": "93520021-0106-4888-a734-bdbdd710d453",
   "metadata": {
    "deletable": false,
    "editable": false
   },
   "source": [
    "# Working with DataFrame Indices"
   ]
  },
  {
   "cell_type": "markdown",
   "id": "00ce13ce-47f4-4b87-9041-765e3899523a",
   "metadata": {
    "deletable": false,
    "editable": false
   },
   "source": [
    "A DataFrame stores data in a row-and-column format. The DataFrame Index is a special kind of column that helps identify the location of each row. The default Index uses integers starting at zero, but you can also set up customized indices like `\"name\"`, `\"location\"`, etc. For example, in the following real estate data set, the default index are the integer counts. "
   ]
  },
  {
   "cell_type": "code",
   "execution_count": null,
   "id": "df18bf44-07af-4624-93c6-ec423baa2299",
   "metadata": {
    "deletable": false
   },
   "outputs": [],
   "source": [
    "import pandas as pd\n",
    "\n",
    "df = ...\n",
    "df.head()"
   ]
  },
  {
   "cell_type": "markdown",
   "id": "e96116de-a60d-491f-b47b-efd57f438d4a",
   "metadata": {
    "deletable": false,
    "editable": false
   },
   "source": [
    "We can call the index column through `.index`:"
   ]
  },
  {
   "cell_type": "code",
   "execution_count": null,
   "id": "db1aa454-1d93-4861-bc73-e73b371e0ecb",
   "metadata": {
    "deletable": false
   },
   "outputs": [],
   "source": [
    "df.index[:5]"
   ]
  },
  {
   "cell_type": "markdown",
   "id": "ee2941f2-8ea8-443f-818c-5ec005cc5264",
   "metadata": {
    "deletable": false,
    "editable": false
   },
   "source": [
    "Use the `set_index` method, we can set the column `department` as the index instead. Note index column cannot have duplicate rows, like here we cannot set `property_type` as the index column."
   ]
  },
  {
   "cell_type": "code",
   "execution_count": null,
   "id": "309452c7-1ff6-49d3-9a7a-24d46ec7600d",
   "metadata": {
    "deletable": false
   },
   "outputs": [],
   "source": [
    "df.set_index(\"department\", inplace=True)\n",
    "df.head()"
   ]
  },
  {
   "cell_type": "markdown",
   "id": "7be37132-b2ca-494d-aa36-a8a9e258b82f",
   "metadata": {
    "deletable": false,
    "editable": false
   },
   "source": [
    "Now you can see the index column has changed:"
   ]
  },
  {
   "cell_type": "code",
   "execution_count": null,
   "id": "60cc18db-cbd8-422a-a3ca-1d5556075821",
   "metadata": {
    "deletable": false
   },
   "outputs": [],
   "source": [
    "df.index[:5]"
   ]
  },
  {
   "cell_type": "markdown",
   "id": "242a0e47-6103-412b-8f2b-4b0a0d4b0614",
   "metadata": {
    "deletable": false,
    "editable": false
   },
   "source": [
    "Using the `reset_index()` function, we can reset index back to default integer counts, and `department` will become a column again."
   ]
  },
  {
   "cell_type": "code",
   "execution_count": null,
   "id": "f078bddb-fdea-4fb6-89f2-c7c81169aef7",
   "metadata": {
    "deletable": false
   },
   "outputs": [],
   "source": [
    "df.reset_index(inplace=True)\n",
    "df.head()"
   ]
  },
  {
   "cell_type": "markdown",
   "id": "5f9bd15d-a085-47fb-b5ec-7fb0465a896c",
   "metadata": {
    "deletable": false,
    "editable": false
   },
   "source": [
    "<font size=\"+1\">Practice</font>\n",
    "\n",
    "Try it yourself! Set `letter` as the index, then call the index. Then reset the index."
   ]
  },
  {
   "cell_type": "code",
   "execution_count": null,
   "id": "9e55da64-1d54-4eb0-9694-e28e081b0952",
   "metadata": {
    "deletable": false
   },
   "outputs": [],
   "source": [
    "data = {\n",
    "    \"letter\": [\"a\", \"b\", \"c\", \"d\"],\n",
    "    \"number\": [3, 2, 1, 0],\n",
    "    \"location\": [\"east\", \"east\", \"east\", \"west\"],\n",
    "}\n",
    "df = pd.DataFrame.from_dict(data)\n",
    "\n",
    "# set index 'numbers'\n",
    "\n",
    "df"
   ]
  },
  {
   "cell_type": "code",
   "execution_count": null,
   "id": "d36f437a-2e5b-4c9b-b78e-a17c88e7be13",
   "metadata": {
    "deletable": false
   },
   "outputs": [],
   "source": [
    "# reset index\n",
    "\n",
    "df"
   ]
  },
  {
   "cell_type": "markdown",
   "id": "e6e5d2c9-397c-46a9-9a01-c657252c6c18",
   "metadata": {
    "deletable": false,
    "editable": false
   },
   "source": [
    "# Inspecting DataFrames\n",
    "Once we've created a DataFrame, we need to **inspect** it in order to see what's there. Pandas has many ways to inspect a DataFrame, but we're only going to look at three of them: `shape`, `info`, and `head`.\n",
    "\n",
    "If we're interested in understanding the **dimensionality** of the DataFrame, we can use the `df.shape` method. The code looks like this:"
   ]
  },
  {
   "cell_type": "code",
   "execution_count": null,
   "id": "d0ba9280-7e0b-4a0c-9d85-3ee4a437c212",
   "metadata": {
    "deletable": false
   },
   "outputs": [],
   "source": [
    "df.shape"
   ]
  },
  {
   "cell_type": "markdown",
   "id": "41193cc5-daa3-4333-b0e4-b50f1ae1fc31",
   "metadata": {
    "deletable": false,
    "editable": false
   },
   "source": [
    "The `shape` output tells us that the `colombia-real-estate-1` DataFrame -- which we called `df1` -- has 3066 rows and 6 columns. "
   ]
  },
  {
   "cell_type": "markdown",
   "id": "7d808571-60a8-417f-a7fc-7d6fb2ff0e3f",
   "metadata": {
    "deletable": false,
    "editable": false
   },
   "source": [
    "If we're trying to get a **general idea** of what the DataFrame contained, we can use the `info` method. The code looks like this:"
   ]
  },
  {
   "cell_type": "code",
   "execution_count": null,
   "id": "a906c716-1b1b-4d93-a88b-5d9eff74c80f",
   "metadata": {
    "deletable": false
   },
   "outputs": [],
   "source": [
    "df.info()"
   ]
  },
  {
   "cell_type": "markdown",
   "id": "28410755-b9fa-49d9-9638-a47114fecbbe",
   "metadata": {
    "deletable": false,
    "editable": false
   },
   "source": [
    "The `info` output tells us all sorts of things about the DataFrame: the number of columns, the names of the columns, the data type for each column, how many non-null rows are contained in the DataFrame."
   ]
  },
  {
   "cell_type": "markdown",
   "id": "d8e467dd-90c4-46c7-b3b6-60dc0c395589",
   "metadata": {
    "deletable": false,
    "editable": false
   },
   "source": [
    "<font size=\"+1\">Practice</font>\n",
    "\n",
    "Try it yourself! Use `info` and `shape` to explore `df2`, which you created above."
   ]
  },
  {
   "cell_type": "code",
   "execution_count": null,
   "id": "efae3c9f-2558-4673-83a8-e8d1a1a0ffeb",
   "metadata": {
    "deletable": false
   },
   "outputs": [],
   "source": [
    "\n"
   ]
  },
  {
   "cell_type": "markdown",
   "id": "f5d7ff4a-73f1-4ba5-8dfc-734adcb3d6f8",
   "metadata": {
    "deletable": false,
    "editable": false
   },
   "source": [
    "If we wanted to see all the rows in our new DataFrame, we could use the `print` method. Keep in mind that the entire dataset gets printed when you use `print`, even though it only shows you the first few lines. That's not much of a problem with this particular dataset, but once you start working with much bigger datasets, printing the whole thing will cause all sorts of problems. \n",
    "\n",
    "So instead of doing that, we'll just take a look at the first five rows by using the `head` method. The code looks like this:"
   ]
  },
  {
   "cell_type": "code",
   "execution_count": null,
   "id": "ab5a1e5c-50f5-4768-877e-2327d6a9977b",
   "metadata": {
    "deletable": false
   },
   "outputs": [],
   "source": [
    "df.head()"
   ]
  },
  {
   "cell_type": "markdown",
   "id": "3dd2e1d1-4b43-434a-b509-fb0bddc6b69e",
   "metadata": {
    "deletable": false,
    "editable": false
   },
   "source": [
    "By default, `head` returns the first five rows of data, but you can specify as many rows as you like. Here's what the code looks like for just the first two rows:"
   ]
  },
  {
   "cell_type": "code",
   "execution_count": null,
   "id": "6bd201c9-0890-4e83-8ebf-257747bf6958",
   "metadata": {
    "deletable": false
   },
   "outputs": [],
   "source": [
    "print(df.head(2))"
   ]
  },
  {
   "cell_type": "markdown",
   "id": "f33d379d-78b6-4461-b625-7c7e295b51b1",
   "metadata": {
    "deletable": false,
    "editable": false
   },
   "source": [
    "<font size=\"+1\">Practice</font>\n",
    "\n",
    "Try it yourself! Use the `head` method to return the first five and first 7 rows of the `colombia-real-estate-2` dataset."
   ]
  },
  {
   "cell_type": "code",
   "execution_count": null,
   "id": "394859aa-b92e-477e-864b-cda280bffd30",
   "metadata": {
    "deletable": false
   },
   "outputs": [],
   "source": [
    "\n"
   ]
  },
  {
   "cell_type": "markdown",
   "id": "51a7f190-ec38-4f43-9f66-cc7d00516c27",
   "metadata": {
    "deletable": false,
    "editable": false
   },
   "source": [
    "# Working with Columns\n",
    "\n",
    "Sometimes, it’s handy to duplicate a column of data. It might be that you’d like to drop some data points or erase empty cells while still preserving the original column. If you’d like to do that, you’ll need to duplicate the column. We can do this by placing the name of the new column in square brackets. "
   ]
  },
  {
   "cell_type": "markdown",
   "id": "59934b82-a381-412d-a14b-0188e179ab51",
   "metadata": {
    "deletable": false,
    "editable": false
   },
   "source": [
    "## Adding Columns\n",
    "\n",
    "For example, we might want to add a column of data that shows the price per square meter of each house in US dollars. To do that, we're going to need to create a new column, and include the necessary math to populate it. First, we need to import the CSV and inspect the first five rows using the `head` method, like this:"
   ]
  },
  {
   "cell_type": "code",
   "execution_count": null,
   "id": "de52eaa4-4aa4-4028-a93c-10769ae8b677",
   "metadata": {
    "deletable": false
   },
   "outputs": [],
   "source": [
    "df3 = pd.read_csv(\"data/colombia-real-estate-3.csv\")\n",
    "df3.head()"
   ]
  },
  {
   "cell_type": "markdown",
   "id": "d62653e7-cf16-4fc4-9af3-366ac7b06bf6",
   "metadata": {
    "deletable": false,
    "editable": false
   },
   "source": [
    "Then, we create a new column called `\"price_m2\"`, provide the formula to populate it, and inspect the first five rows of the dataset to make sure the new column includes the new values:"
   ]
  },
  {
   "cell_type": "code",
   "execution_count": null,
   "id": "3a52fda0-6c22-43fa-82a0-7f92c0a84ff9",
   "metadata": {
    "deletable": false
   },
   "outputs": [],
   "source": [
    "df3[\"price_m2\"] = df3[\"price_usd\"] / df3[\"area_m2\"]\n",
    "df3.head()"
   ]
  },
  {
   "cell_type": "markdown",
   "id": "96be12bb-07ff-4d28-a23a-1270799e8799",
   "metadata": {
    "deletable": false,
    "editable": false
   },
   "source": [
    "<font size=\"+1\">Practice</font>\n",
    "\n",
    "Try it yourself! Add a column to the `colombia-real-estate-2` dataset that shows the price per square meter of each house in Colombian pesos."
   ]
  },
  {
   "cell_type": "code",
   "execution_count": null,
   "id": "1e7a36d7-99cc-471f-9c86-eefff92e40f8",
   "metadata": {
    "deletable": false
   },
   "outputs": [],
   "source": [
    "df = ...\n",
    "df[\"price_m2\"] = ...\n"
   ]
  },
  {
   "cell_type": "markdown",
   "id": "9ad53dde-eae6-4ac4-86f7-327742062bc3",
   "metadata": {
    "deletable": false,
    "editable": false
   },
   "source": [
    "## Dropping Columns\n",
    "\n",
    "Just like we can add columns, we can also take them away. To do this, we’ll use the `drop` method. If I wanted to drop the `“department”` column from `colombia-real-estate-1`, the code would look like this:\n"
   ]
  },
  {
   "cell_type": "code",
   "execution_count": null,
   "id": "1c428c33-5846-41cd-9212-248ea6f78819",
   "metadata": {
    "deletable": false
   },
   "outputs": [],
   "source": [
    "df2 = df.drop(\"department\", axis=\"columns\")\n",
    "df2.head()"
   ]
  },
  {
   "cell_type": "markdown",
   "id": "a14f76a6-0e9e-48b3-8405-1db0c6718063",
   "metadata": {
    "deletable": false,
    "editable": false
   },
   "source": [
    "Note that we specified that we wanted to drop a column by setting the `axis` argument to `\"columns\"`. We can drop rows from the dataset if we change the `axis` argument to `\"index\"`. If we wanted to drop row 2 from the `df2` data, the code would look like this:\n"
   ]
  },
  {
   "cell_type": "code",
   "execution_count": null,
   "id": "5159a1e2-5c5f-4967-8f32-f972bb8baa02",
   "metadata": {
    "deletable": false
   },
   "outputs": [],
   "source": [
    "df2 = df.drop(2, axis=\"index\")\n",
    "df2.head()"
   ]
  },
  {
   "cell_type": "markdown",
   "id": "2ab985b4-a427-4c6b-917e-9a470ff7c964",
   "metadata": {
    "deletable": false,
    "editable": false
   },
   "source": [
    "<font size=\"+1\">Practice</font>\n",
    "\n",
    "Try it yourself! Drop the `\"property_type\"` column and row 4 in the `colombia-real-estate-2` dataset.\n"
   ]
  },
  {
   "cell_type": "code",
   "execution_count": null,
   "id": "4b751041-c503-4eb0-8600-8cb96e5008f9",
   "metadata": {
    "deletable": false
   },
   "outputs": [],
   "source": [
    "df1 = ...\n"
   ]
  },
  {
   "cell_type": "markdown",
   "id": "c5d092d6-c60f-4226-9061-d7d0a2b18f2c",
   "metadata": {
    "deletable": false,
    "editable": false
   },
   "source": [
    "## Dropping Rows\n",
    "\n",
    "Including rows with empty cells can radically skew the results of our analysis, so we often drop them from the dataset. We can do this with the `dropna` method. If we wanted to do this with `df`, the code would look like this:"
   ]
  },
  {
   "cell_type": "code",
   "execution_count": null,
   "id": "b094178f-04bd-44be-9227-fe4040ee2cec",
   "metadata": {
    "deletable": false
   },
   "outputs": [],
   "source": [
    "print(\"df shape before dropping rows\", df.shape)\n",
    "df.dropna(inplace=True)\n",
    "print(\"df shape after dropping rows\", df.shape)\n",
    "df.head()"
   ]
  },
  {
   "cell_type": "markdown",
   "id": "e2be0a87-e6d2-4c6d-b4fa-9cf2eae9fa92",
   "metadata": {
    "deletable": false,
    "editable": false
   },
   "source": [
    "By default, pandas will keep the original DataFrame, and will create a copy that reflects the changes we just made. That's perfectly fine, but if we want to make sure that copies of the DataFrame aren't clogging up the memory on our computers, then we need to intervene with the `inplace` argument. `inplace=True` means that we want the original DataFrame updated without making a copy. If we don't include `inplace=True` (or if we do include `inplace=False`), then pandas will revert to the default. "
   ]
  },
  {
   "cell_type": "markdown",
   "id": "813e2a32-96c7-49b2-83d5-910a1db25077",
   "metadata": {
    "deletable": false,
    "editable": false
   },
   "source": [
    "<font size=\"+1\">Practice</font>\n",
    "\n",
    "Drop rows with empty cells from the `colombia-real-estate-2` dataset."
   ]
  },
  {
   "cell_type": "code",
   "execution_count": null,
   "id": "564578c5-6df0-4a8b-a70d-6110ad42e8e5",
   "metadata": {
    "deletable": false
   },
   "outputs": [],
   "source": [
    "df2 = ...\n",
    "\n"
   ]
  },
  {
   "cell_type": "markdown",
   "id": "0ea448d1-e075-4d77-90bd-9edd4f74c1be",
   "metadata": {
    "deletable": false,
    "editable": false
   },
   "source": [
    "## Splitting Strings\n",
    "\n",
    "It might be useful to split strings into their constituent parts, and create new columns to contain them. To do this, we’ll use the `.str.split` method, and include the character we want to use as the place where the data splits apart. In the `colombia-real-estate-3` dataset, we might be interested breaking the `\"lat-lon\"` column into a `\"lat\"` column and a `\"lon\"` column. We’ll split it at `“,”` with code that looks like this:\n"
   ]
  },
  {
   "cell_type": "code",
   "execution_count": null,
   "id": "3dd52fb6-f4e1-4543-8be0-ab72e79286c4",
   "metadata": {
    "deletable": false
   },
   "outputs": [],
   "source": [
    "df3[[\"lat\", \"lon\"]] = df3[\"lat-lon\"].str.split(\",\", expand=True)"
   ]
  },
  {
   "cell_type": "markdown",
   "id": "d38c6a92-0736-409e-bd14-50e9acfe1ee7",
   "metadata": {
    "deletable": false,
    "editable": false
   },
   "source": [
    "Here, `expand` is telling pandas to make the DataFrame bigger; that is, to create a new column without dropping any of the ones that already exist."
   ]
  },
  {
   "cell_type": "markdown",
   "id": "32bb9a60-d2d6-46bd-9ca4-3aa456764e7d",
   "metadata": {
    "deletable": false,
    "editable": false
   },
   "source": [
    "<font size=\"+1\">Practice</font>\n",
    "\n",
    "Try it yourself! In `df3`, split `\"place_with_parent_names\"` into three columns (one called `\"place\"`, one called `\"department\"`, and one called `\"state\"`, using the character `“|”`, and then return the new `\"department\"` column. "
   ]
  },
  {
   "cell_type": "code",
   "execution_count": null,
   "id": "4210a678-b7df-423b-a5e1-75755860ab72",
   "metadata": {
    "deletable": false
   },
   "outputs": [],
   "source": []
  },
  {
   "cell_type": "markdown",
   "id": "e12dfc68-d996-44c3-9ce4-0c0b375991a4",
   "metadata": {
    "deletable": false,
    "editable": false
   },
   "source": [
    "## Recasting Data\n",
    "\n",
    "Depending on who formatted your dataset, the types of data assigned to each column might need to be changed. If, for example, a column containing only numbers had been mistaken for a column containing only strings, we’d need to change that through a process called *recasting*. Using the `colombia-real-estate-1` dataset, we could recast the entire dataset as strings by using the `astype` method, like this:"
   ]
  },
  {
   "cell_type": "code",
   "execution_count": null,
   "id": "40fad242-b854-4dd5-aaa8-1f9a48939786",
   "metadata": {
    "deletable": false
   },
   "outputs": [],
   "source": [
    "print(df.info())\n",
    "newdf = df.astype(\"str\")\n",
    "print(newdf.info())"
   ]
  },
  {
   "cell_type": "markdown",
   "id": "8a74bff2-ee86-4e04-aefa-4eb8149f02ed",
   "metadata": {
    "deletable": false,
    "editable": false
   },
   "source": [
    "This is a useful approach, but, more often than not, you’ll want to only recast individual columns. In the `colombia-real-estate-1` dataset, the `\"area_m2\"` column is cast as `float64`. Let's change it to `int`. We’ll still use the `astype` method, but we'll insert the name of the column. The code looks like this:\n"
   ]
  },
  {
   "cell_type": "code",
   "execution_count": null,
   "id": "951672be-0299-4d6e-bd98-d1e63387eb7c",
   "metadata": {
    "deletable": false
   },
   "outputs": [],
   "source": [
    "df[\"area_m2\"] = df.area_m2.astype(int)\n",
    "df.info()"
   ]
  },
  {
   "cell_type": "markdown",
   "id": "05f42906-3f5b-428b-8819-22d54fb95709",
   "metadata": {
    "deletable": false,
    "editable": false
   },
   "source": [
    "<font size=\"+1\">Practice</font>\n",
    "\n",
    "Try it yourself! In the `colombia-real-estate-2` dataset, recast `\"price_cop\"` as an object."
   ]
  },
  {
   "cell_type": "code",
   "execution_count": null,
   "id": "17a1430f-4b2b-4d30-87b8-54cac936d0b4",
   "metadata": {
    "deletable": false
   },
   "outputs": [],
   "source": [
    "df = ...\n",
    "df2[\"price_cop\"] = ...\n",
    "df.info()"
   ]
  },
  {
   "cell_type": "markdown",
   "id": "a8719499-07cd-4015-9b6f-818bf69dfcb2",
   "metadata": {
    "deletable": false,
    "editable": false
   },
   "source": [
    "## Access a substring in a Series\n",
    "\n",
    "To access a substring from a Series, use the `.str` attribute from the Series. Then, index each string in the Series by providing the `start:stop:step`. Keep in mind that the start position is inclusive and the stop position is exclusive, meaning the value at the start index is included but the value at the stop index is not included. Also, Python is a 0-indexed language, so the first element in the substring is at index position 0. For example, using the `colombia-real-estate-1` dataset, we could the values at index position 0, 2, and 4 of the `department` column:"
   ]
  },
  {
   "cell_type": "code",
   "execution_count": null,
   "id": "8eab6264-81a1-4e39-a2ca-65cf84f62468",
   "metadata": {
    "deletable": false
   },
   "outputs": [],
   "source": [
    "df[\"department\"].str[0:5:2]"
   ]
  },
  {
   "cell_type": "markdown",
   "id": "f67d954e-1360-45f2-bae2-70c3564b95b1",
   "metadata": {
    "deletable": false,
    "editable": false
   },
   "source": [
    "<font size=\"+1\">Practice: Access a substring in a Series using pandas</font>\n",
    "\n",
    "Try it yourself! In the `colombia-real-estate-2` dataset, access the `property_type` column and return the first 5 characters from each row:"
   ]
  },
  {
   "cell_type": "code",
   "execution_count": null,
   "id": "e7f81624-319c-45e6-8546-95de4936249c",
   "metadata": {
    "deletable": false
   },
   "outputs": [],
   "source": []
  },
  {
   "cell_type": "markdown",
   "id": "692dd644-829c-41c2-a3eb-3da1a0603c44",
   "metadata": {
    "deletable": false,
    "editable": false
   },
   "source": [
    "## Replacing String Characters\n",
    "\n",
    "Another change you might want to make is replacing the characters in a string. To do this, we’ll use the `replace` method again, being sure to specify which string should be replaced, and what new string should replace it. For example, if we wanted to replace the string `“house”` with the string `“single_family”` in the `colombia-real-estate-1` dataset, the code would look like this:"
   ]
  },
  {
   "cell_type": "code",
   "execution_count": null,
   "id": "836c7168-0f14-4553-806a-e24f9e223721",
   "metadata": {
    "deletable": false
   },
   "outputs": [],
   "source": [
    "df[\"property_type\"] = df[\"property_type\"].str.replace(\"house\", \"single_family\")\n",
    "df.head()"
   ]
  },
  {
   "cell_type": "markdown",
   "id": "ee3f032c-3d5d-4080-9dad-91be248ccc92",
   "metadata": {
    "deletable": false,
    "editable": false
   },
   "source": [
    "There are two important things to note here. The first is that the old value needs to come before the new value inside the parentheses of `str.replace`. \n",
    "\n",
    "The second important issue here is that, unless you specify differently, *all* instances of the old value will be replaced. If you only want to replace the first three instances, the code would look like this: `str.replace(“house”, “single_family”, 3)`\n"
   ]
  },
  {
   "cell_type": "code",
   "execution_count": null,
   "id": "7304fca4-c503-4373-9f4d-2203089027fd",
   "metadata": {
    "deletable": false
   },
   "outputs": [],
   "source": [
    "df[\"property_type\"] = df[\"property_type\"].str.replace(\"house\", \"single_family\", 3)\n",
    "df.head()"
   ]
  },
  {
   "cell_type": "markdown",
   "id": "e7eb1306-5b35-4acc-8e05-c63e4f7cd498",
   "metadata": {
    "deletable": false,
    "editable": false
   },
   "source": [
    "<font size=\"+1\">Practice</font>\n",
    "\n",
    "Try it yourself! In the `colombia-real-estate-2` dataset, change `“apartment”` to `“multi_family”`, in the first 7 rows, and print the result."
   ]
  },
  {
   "cell_type": "code",
   "execution_count": null,
   "id": "9acfc749-8051-4c01-b829-4e515fa322a7",
   "metadata": {
    "deletable": false
   },
   "outputs": [],
   "source": [
    "df = ...\n"
   ]
  },
  {
   "cell_type": "markdown",
   "id": "243f06d2-a652-4658-a1cd-5302f2a37750",
   "metadata": {
    "deletable": false,
    "editable": false
   },
   "source": [
    "### Rename a Series\n",
    "\n",
    "Another change you might want to make is to rename a Series in pandas. To do this, we’ll use the `rename` method, being sure to specify the mapping of old and new columns. For example, if we wanted to replace the column name `property_type` with the string `type_property` in the `colombia-real-estate-1` dataset, the code would look like this:"
   ]
  },
  {
   "cell_type": "code",
   "execution_count": null,
   "id": "8b50dfc1-8ae4-4cd5-94af-c1457e55fd6a",
   "metadata": {
    "deletable": false
   },
   "outputs": [],
   "source": [
    "df.rename(columns={\"property_type\": \"type_property\"})"
   ]
  },
  {
   "cell_type": "markdown",
   "id": "f6737609-9d22-4898-8203-b296fa4cef6a",
   "metadata": {
    "deletable": false,
    "editable": false
   },
   "source": [
    "<font size=\"+1\">Practice: Rename a Series</font>\n",
    "\n",
    "Try it yourself! In the `colombia-real-estate-2` dataset, change the column `lat` to `latitude` and print the head of DataFrame. "
   ]
  },
  {
   "cell_type": "code",
   "execution_count": null,
   "id": "656857c4-d730-4825-99bf-7360d46ed921",
   "metadata": {
    "deletable": false
   },
   "outputs": [],
   "source": []
  },
  {
   "cell_type": "markdown",
   "id": "f168e390-dd6c-4d25-adbf-1c7a8edaa7f3",
   "metadata": {
    "deletable": false,
    "editable": false
   },
   "source": [
    "### Determine the unique values in a column\n",
    "\n",
    "You might be interested in the unique values in a Series using pandas. To do this, we’ll use the `unique` method. For example, if we wanted to identify the unique values in the column  `property_type` in the `colombia-real-estate-1` dataset, the code would look like this:"
   ]
  },
  {
   "cell_type": "code",
   "execution_count": null,
   "id": "8ca16f44-70a2-40a3-9d30-1996f78e2de2",
   "metadata": {
    "deletable": false
   },
   "outputs": [],
   "source": [
    "df[\"property_type\"].unique()"
   ]
  },
  {
   "cell_type": "markdown",
   "id": "3dae8bdd-dc99-4913-9707-8cc820e413b7",
   "metadata": {
    "deletable": false,
    "editable": false
   },
   "source": [
    "<font size=\"+1\">Practice: Determine the unique values in a column</font>\n",
    "\n",
    "Try it yourself! In the `colombia-real-estate-2` dataset, identify the unique values in the column  `department`:"
   ]
  },
  {
   "cell_type": "code",
   "execution_count": null,
   "id": "b465b522-95fd-4d40-9131-e5a544232532",
   "metadata": {
    "deletable": false
   },
   "outputs": [],
   "source": []
  },
  {
   "cell_type": "markdown",
   "id": "458e5ef5-d1b6-48e3-b60f-34ac4be08475",
   "metadata": {
    "deletable": false,
    "editable": false
   },
   "source": [
    "## Replacing Column Values"
   ]
  },
  {
   "cell_type": "markdown",
   "id": "b7ee7efa-7398-4af1-9ecb-c3f2ec139f97",
   "metadata": {
    "deletable": false,
    "editable": false
   },
   "source": [
    "If you want to replace a columns' values, simply use the `.replace()` function:"
   ]
  },
  {
   "cell_type": "code",
   "execution_count": null,
   "id": "84adcd17-2f68-4383-98bd-5018a507b59b",
   "metadata": {
    "deletable": false
   },
   "outputs": [],
   "source": [
    "# Series.rename() example\n",
    "df = pd.read_csv(\"data/colombia-real-estate-2.csv\")\n",
    "df.head()"
   ]
  },
  {
   "cell_type": "markdown",
   "id": "65f37d3f-5151-4bb8-b722-be14a75c2249",
   "metadata": {
    "deletable": false,
    "editable": false
   },
   "source": [
    "We can replace a specific row with other values"
   ]
  },
  {
   "cell_type": "code",
   "execution_count": null,
   "id": "a15eef92-c829-46be-bce9-d25c6da8991a",
   "metadata": {
    "deletable": false
   },
   "outputs": [],
   "source": [
    "df[\"area_m2\"].replace(235.0, 0)"
   ]
  },
  {
   "cell_type": "markdown",
   "id": "881069fe-98bf-4f00-8573-4f8f8f608baf",
   "metadata": {
    "deletable": false,
    "editable": false
   },
   "source": [
    "If you want to replace multiple values at the same time, you can also define a dictionary ahead of time, with dictionary keys the originals and dictionary values the replaced values. Then pass the dictionary to the `replace()` function."
   ]
  },
  {
   "cell_type": "code",
   "execution_count": null,
   "id": "79b998e5-697d-4bf9-9a9d-eb1e962df6cc",
   "metadata": {
    "deletable": false
   },
   "outputs": [],
   "source": [
    "replace_value = {235: 0, 130: 1, 137: 2}\n",
    "\n",
    "df[\"area_m2\"].replace(replace_value)"
   ]
  },
  {
   "cell_type": "markdown",
   "id": "82a5a16d-af8d-4e94-abef-a3252a5ef840",
   "metadata": {
    "deletable": false,
    "editable": false
   },
   "source": [
    "Or we can apply specific operations to a whole column. In the following example, we have changed the `price_cop` unit to millions."
   ]
  },
  {
   "cell_type": "code",
   "execution_count": null,
   "id": "0861a2c6-65f9-45f3-b6df-7bb3c5a80554",
   "metadata": {
    "deletable": false
   },
   "outputs": [],
   "source": [
    "df[\"price_cop\"] = df[\"price_cop\"] / 1e6\n",
    "df.head()"
   ]
  },
  {
   "cell_type": "markdown",
   "id": "d796cec5-6df5-435c-b1d6-064061b86d31",
   "metadata": {
    "deletable": false,
    "editable": false
   },
   "source": [
    "<font size=\"+1\">Practice: Replace Column Values</font>\n",
    "\n",
    "Try it yourself! Define a dictionary to replace values in `price_cop`. Replace 400 to 0, 850 to 1. "
   ]
  },
  {
   "cell_type": "code",
   "execution_count": null,
   "id": "fb94b920-c028-4902-b432-4821920a3b14",
   "metadata": {
    "deletable": false
   },
   "outputs": [],
   "source": [
    "replace_value = ...\n",
    "\n",
    "# Replace values\n"
   ]
  },
  {
   "cell_type": "markdown",
   "id": "b2666104-d2a6-42f5-8015-c80bcf9fff87",
   "metadata": {
    "deletable": false,
    "editable": false
   },
   "source": [
    "# Concatenating\n",
    "\n",
    "When we **concatenate** data, we're combining two or more separate sets of data into a single large dataset."
   ]
  },
  {
   "cell_type": "markdown",
   "id": "89e8ff8d-bbec-4866-a71d-b7d1e33dd233",
   "metadata": {
    "deletable": false,
    "editable": false
   },
   "source": [
    "## Concatenating DataFrames\n",
    "\n",
    "If we want to combine two DataFrames, we need to import Pandas and read in our data."
   ]
  },
  {
   "cell_type": "code",
   "execution_count": null,
   "id": "14ec7576-e6e2-4d2b-8a24-967a59e07b63",
   "metadata": {
    "deletable": false
   },
   "outputs": [],
   "source": [
    "df1 = pd.read_csv(\"data/colombia-real-estate-1.csv\")\n",
    "df2 = pd.read_csv(\"data/colombia-real-estate-2.csv\")\n",
    "print(\"df1 shape:\", df1.shape)\n",
    "print(\"df2 shape:\", df2.shape)"
   ]
  },
  {
   "cell_type": "markdown",
   "id": "fae46f35-d0d5-413d-905c-880d370f43ee",
   "metadata": {
    "deletable": false,
    "editable": false
   },
   "source": [
    "Next, we'll use the `concat` method to put our DataFrames together, using each DataFrame's name in a list. "
   ]
  },
  {
   "cell_type": "code",
   "execution_count": null,
   "id": "7b4ceb10-46a6-45fe-9806-2422ed3424c8",
   "metadata": {
    "deletable": false
   },
   "outputs": [],
   "source": [
    "concat_df = pd.concat([df1, df2])\n",
    "print(\"concat_df shape:\", concat_df.shape)\n",
    "concat_df.head()"
   ]
  },
  {
   "cell_type": "markdown",
   "id": "756f528a-aeea-4951-8cdd-b73cb0a5ac3b",
   "metadata": {
    "deletable": false,
    "editable": false
   },
   "source": [
    "<font size=\"+1\">Practice</font>\n",
    "\n",
    "Try it yourself! Create two DataFrames from `colombia-real-estate-2.csv` and `colombia-real-estate-3.csv`, and concatenate them as the DataFrame `concat_df`."
   ]
  },
  {
   "cell_type": "code",
   "execution_count": null,
   "id": "0482b3ec-f318-438d-8548-b7ee66f0a39c",
   "metadata": {
    "deletable": false
   },
   "outputs": [],
   "source": [
    "df2 = ...\n",
    "df3 = ...\n",
    "concat_df = ...\n",
    "concat_df.head()"
   ]
  },
  {
   "cell_type": "markdown",
   "id": "694bcc67-b141-4d64-9dc8-626edbd17aae",
   "metadata": {
    "deletable": false,
    "editable": false
   },
   "source": [
    "## Concatenating Series\n",
    "\n",
    "We can also concatenate a Series using a similar set of commands. First, let's take two Series from the `df1` and `df2` respectively."
   ]
  },
  {
   "cell_type": "code",
   "execution_count": null,
   "id": "a18c3596-067c-4aa4-a15e-f9d8735ee8b9",
   "metadata": {
    "deletable": false
   },
   "outputs": [],
   "source": [
    "df1 = pd.read_csv(\"data/colombia-real-estate-1.csv\")\n",
    "df2 = pd.read_csv(\"data/colombia-real-estate-2.csv\")\n",
    "sr1 = df1[\"property_type\"]\n",
    "sr2 = df2[\"property_type\"]\n",
    "print(\"len sr1:\", len(sr1)),\n",
    "print(sr1.head())\n",
    "print()\n",
    "print(\"len sr2:\", len(sr2)),\n",
    "print(sr2.head())"
   ]
  },
  {
   "cell_type": "markdown",
   "id": "e5dc4ce7-3d5b-46e4-949f-9c924aa5a103",
   "metadata": {
    "deletable": false,
    "editable": false
   },
   "source": [
    "Now that we have two Series, let's put them together."
   ]
  },
  {
   "cell_type": "code",
   "execution_count": null,
   "id": "d6df45f0-ec9d-41b0-8b9b-c8c06c451886",
   "metadata": {
    "deletable": false
   },
   "outputs": [],
   "source": [
    "concat_sr = pd.concat([sr1, sr2])\n",
    "print(\"len concat_sr:\", len(concat_sr)),\n",
    "print(concat_sr.head())"
   ]
  },
  {
   "cell_type": "markdown",
   "id": "6e24a0ef-d510-4a22-b82e-edbe2b34be53",
   "metadata": {
    "deletable": false,
    "editable": false
   },
   "source": [
    "<font size=\"+1\">Practice</font>\n",
    "\n",
    "Try it yourself! Use the `colombia-real-estate-2` and `colombia-rea-estate-3` datasets to create a concatenated Series for the `area_m2` column, and print the result."
   ]
  },
  {
   "cell_type": "code",
   "execution_count": null,
   "id": "a9781e45-0645-49cf-9840-6907fc016f3d",
   "metadata": {
    "deletable": false
   },
   "outputs": [],
   "source": [
    "df1 = ...\n"
   ]
  },
  {
   "cell_type": "markdown",
   "id": "8d23b360-1a93-4f76-a6e0-a70f3bf526d4",
   "metadata": {
    "deletable": false,
    "editable": false
   },
   "source": [
    "# Saving a DataFrame as a CSV\n",
    "Once you’ve cleaned all your data and gotten the DataFrame to show everything you want it to show, it’s time to save the DataFrame as a new CSV file using the [`to_csv`](https://pandas.pydata.org/docs/reference/api/pandas.DataFrame.to_csv.html?highlight=to_csv#pandas.DataFrame.to_csv) method. First, let's load up the `colombia-real-estate-1` dataset, and use `head` to see the first five rows of data:"
   ]
  },
  {
   "cell_type": "code",
   "execution_count": null,
   "id": "646cfd11-2e2d-4d33-ba32-1d983cd42eef",
   "metadata": {
    "deletable": false
   },
   "outputs": [],
   "source": [
    "import pandas as pd\n",
    "\n",
    "df = pd.read_csv(\"data/colombia-real-estate-1.csv\")\n",
    "df.head()"
   ]
  },
  {
   "cell_type": "markdown",
   "id": "912ce392-5acd-4abc-829c-22c9666f6c99",
   "metadata": {
    "deletable": false,
    "editable": false
   },
   "source": [
    "Maybe we're only interested in those first five rows, so let's save that as its own new CSV file using the `to_csv` method. Note that we're setting the `index` argument to `False` so that the DataFrame index isn't included in the CSV file."
   ]
  },
  {
   "cell_type": "code",
   "execution_count": null,
   "id": "adb0f5d9-7705-4320-9956-5ac71f408185",
   "metadata": {
    "deletable": false
   },
   "outputs": [],
   "source": [
    "df = df.head()\n",
    "df.to_csv(\"data/small-df.csv\", index=False)"
   ]
  },
  {
   "cell_type": "markdown",
   "id": "84d1100d-4980-42b9-9ec3-2b849f4066d1",
   "metadata": {
    "deletable": false,
    "editable": false
   },
   "source": [
    "# References & Further Reading \n",
    "\n",
    "- [Tutorial for `shape`](https://www.w3resource.com/pandas/dataframe/dataframe-shape.php)\n",
    "- [Tutorial for `info`](https://www.w3schools.com/python/pandas/ref_df_info.asp)\n",
    "- [Adding columns to a DataFrame](https://pandas.pydata.org/pandas-docs/version/1.0.5/getting_started/intro_tutorials/05_add_columns.html)\n",
    "- [Creating DataFrame from dictionary](https://pandas.pydata.org/docs/reference/api/pandas.DataFrame.from_dict.html)\n",
    "- [Working with JSON](https://realpython.com/python-json/)\n",
    "- [Dropping columns from a DataFrame](https://www.w3schools.com/python/pandas/ref_df_drop.asp)\n",
    "- [Splitting columns in a DataFrame](https://www.geeksforgeeks.org/split-a-text-column-into-two-columns-in-pandas-dataframe/)\n",
    "- [Recasting values](https://www.w3schools.com/Python/pandas/ref_df_astype.asp)\n",
    "- [Replacing strings](https://www.w3schools.com/python/ref_string_replace.asp)\n",
    "- [Concatenating DataFrames](https://cmdlinetips.com/2020/04/how-to-concatenate-two-or-more-pandas-dataframes/)\n",
    "- [From DataFrames to Series](https://datatofish.com/pandas-dataframe-to-series/)\n",
    "- [Stack Overflow: What is serialization](https://stackoverflow.com/questions/633402/what-is-serialization)\n",
    "- [Understand Python Pickling](https://www.synopsys.com/blogs/software-security/python-pickling/#:~:text=Pickle%20in%20Python%20is%20primarily,transport%20data%20over%20the%20network.)"
   ]
  },
  {
   "cell_type": "markdown",
   "id": "2606228a-d39b-41f8-a202-2d2a782819a7",
   "metadata": {
    "deletable": false,
    "editable": false
   },
   "source": [
    "---\n",
    "Copyright © 2022 WorldQuant University. This\n",
    "content is licensed solely for personal use. Redistribution or\n",
    "publication of this material is strictly prohibited.\n"
   ]
  }
 ],
 "metadata": {
  "kernelspec": {
   "display_name": "Python 3 (ipykernel)",
   "language": "python",
   "name": "python3"
  },
  "language_info": {
   "codemirror_mode": {
    "name": "ipython",
    "version": 3
   },
   "file_extension": ".py",
   "mimetype": "text/x-python",
   "name": "python",
   "nbconvert_exporter": "python",
   "pygments_lexer": "ipython3",
   "version": "3.9.6"
  }
 },
 "nbformat": 4,
 "nbformat_minor": 5
}
