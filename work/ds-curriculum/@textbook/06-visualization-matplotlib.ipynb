{
 "cells": [
  {
   "cell_type": "markdown",
   "id": "d50ab9e5",
   "metadata": {
    "deletable": false,
    "editable": false
   },
   "source": [
    "<font size=\"+3\"><strong>Visualizing Data: Matplotlib</strong></font>"
   ]
  },
  {
   "cell_type": "markdown",
   "id": "b1f07810-1f51-4196-988b-f52947e451a0",
   "metadata": {
    "deletable": false,
    "editable": false
   },
   "source": [
    "There are many ways to interact with data, and one of the most powerful modes of interaction is through **visualizations**. Visualizations show data graphically, and are useful for exploring, analyzing, and presenting datasets. We use four libraries for making visualizations: [pandas](../%40textbook/07-visualization-pandas.ipynb), Matplotlib, [plotly express](../%40textbook/08-visualization-plotly.ipynb), and [seaborn](../%40textbook/09-visualization-seaborn.ipynb). In this section, we'll focus on using Matplotlib.\n",
    "\n",
    "# Boxplots\n",
    "\n",
    "A **boxplot** is a graph that shows the minimum, first quartile, median, third quartile, and the maximum values in a dataset. Boxplots are useful, as they provide a visual summary of the data enabling researchers to quickly identify mean values, the dispersion of the data set, and signs of skewness.\n",
    "\n",
    "Let's create a boxplot using the `\"area_m2\"` data from `colombia-real-estate-1`.\n",
    "Note that the `usecols` argument allow us to only read in the columns we want, in this case `\"area_m2\"`."
   ]
  },
  {
   "cell_type": "code",
   "execution_count": null,
   "id": "f8007adf-732c-4ef6-b6e1-12fdf01a61d5",
   "metadata": {
    "deletable": false
   },
   "outputs": [],
   "source": [
    "import matplotlib.pyplot as plt\n",
    "import pandas as pd\n",
    "\n",
    "df = pd.read_csv(\"data/colombia-real-estate-1.csv\", usecols=[\"area_m2\"])\n",
    "plt.boxplot(df[\"area_m2\"])\n",
    "plt.ylabel(\"Area [sq. meters]\")\n",
    "plt.title(\"Area in Square Meters\");"
   ]
  },
  {
   "cell_type": "markdown",
   "id": "6b4ef7f0-3c1e-4d81-b7bb-472d228e87fc",
   "metadata": {
    "deletable": false,
    "editable": false
   },
   "source": [
    "Here's how to interpret a boxplot. Each section of the plot shows us one quartile of the data. The bottom line, which is called a **whisker**, shows us the first quartile, the bottom part of the box shows us the second quartile, the line in the middle of the box represents the median value in the dataset, the top part of the box shows us the third quartile, and the top whisker shows us the fourth quartile. \n",
    "\n",
    "Keeping that in mind, this boxplot shows that while there are some very large properties in the dataset, half of the properties tend to be much smaller. There are also several outliers above the top whisker. These represent values that fall outside the upper limit of the data. Part of the purpose of making a boxplot is to find those outliers and discard them from future analyses.\n",
    "\n",
    "<font size=\"+1\">Practice</font>\n",
    "\n",
    "Try it yourself! Create a boxplot using the `price_cop` data from `colombia-real-estate-2`."
   ]
  },
  {
   "cell_type": "code",
   "execution_count": null,
   "id": "e24d4286-3785-4377-86e4-78090944c814",
   "metadata": {
    "deletable": false
   },
   "outputs": [],
   "source": [
    "df2 = ...\n",
    "\n"
   ]
  },
  {
   "cell_type": "markdown",
   "id": "eee00e32-bca0-4942-a650-d28c9cde3e04",
   "metadata": {
    "deletable": false,
    "editable": false
   },
   "source": [
    "# Histograms\n",
    "\n",
    "A **histogram** is a graph that shows the frequency distribution of numerical data. In addition to helping us understand frequency, histograms are also useful for detecting outliers.\n",
    "\n",
    "Let's create a histogram using the `\"area_m2\"` data from `colombia-real-estate-1`."
   ]
  },
  {
   "cell_type": "code",
   "execution_count": null,
   "id": "b461d9fa-e52e-4c38-8704-6c4951597af7",
   "metadata": {
    "deletable": false
   },
   "outputs": [],
   "source": [
    "df = pd.read_csv(\"data/colombia-real-estate-1.csv\", usecols=[\"area_m2\"])\n",
    "plt.hist(df, bins=10, rwidth=0.9, color=\"b\")\n",
    "plt.title(\"The Area of Real Estate in Colombia\")\n",
    "plt.xlabel(\"Property Area\")\n",
    "plt.ylabel(\"Number of Properties\")\n",
    "plt.grid(axis=\"y\", alpha=0.75);"
   ]
  },
  {
   "cell_type": "markdown",
   "id": "962c2df7-1ffa-4fb6-8f8a-7ee6e7f2487a",
   "metadata": {
    "deletable": false,
    "editable": false
   },
   "source": [
    "There are two things to consider in this histogram. First and foremost is its interpretation: the distribution is skewed significantly to the left. In this case, the data suggest that the majority of properties in Colombia are smaller than 150 square meters.\n",
    "\n",
    "You might also have noticed that there are ten bars. In a histogram, we call these bars **bins**. A bin is simply a way to group data to make it easier to see trends. You can use as many or as few as you like; just recognize that the fewer bins you use, the less detailed the output will become. \n",
    "             \n",
    "Let's take a look at what the same data looks like when it's in 20 bins instead of 10."
   ]
  },
  {
   "cell_type": "code",
   "execution_count": null,
   "id": "80c9636a-b10d-49ee-9e13-7498445c7b32",
   "metadata": {
    "deletable": false
   },
   "outputs": [],
   "source": [
    "df = pd.read_csv(\"data/colombia-real-estate-1.csv\", usecols=[\"area_m2\"])\n",
    "# Notice that we changed `bins` from 10 to 20\n",
    "plt.hist(df, bins=20, rwidth=0.9, color=\"b\")\n",
    "plt.title(\"The Area of Real Estate in Colombia\")\n",
    "plt.xlabel(\"Property Area\")\n",
    "plt.ylabel(\"Number of Properties\")\n",
    "plt.grid(axis=\"y\", alpha=0.75);"
   ]
  },
  {
   "cell_type": "markdown",
   "id": "b2390e67-6283-4ed9-8e50-eeecac55bada",
   "metadata": {
    "deletable": false,
    "editable": false
   },
   "source": [
    "The line isn't quite as smooth as it was before. Depending on the story you want your histogram to tell, it might be more important for a trend to be smooth, or it might be more important to show smaller levels of variation. Here, we can still see that the properties in Colombia tend to be small, but the size of the properties are not evenly distributed. This histogram doesn't tell us anything about *why* this might be true, but it does suggest that there might be something more interesting going on in the background."
   ]
  },
  {
   "cell_type": "markdown",
   "id": "1d23b122-0b12-41b2-bc5d-c5c80ccda188",
   "metadata": {
    "deletable": false,
    "editable": false
   },
   "source": [
    "<font size=\"+1\">Practice</font>\n",
    "\n",
    "Try it yourself! Create two histograms using the `price_cop` data from Colombia Real Estate 2: one with five bins, and the other with 15 bins."
   ]
  },
  {
   "cell_type": "code",
   "execution_count": null,
   "id": "058347e2-a0c0-40c3-b093-ebff53a64f2b",
   "metadata": {
    "deletable": false
   },
   "outputs": [],
   "source": [
    "df2 = ...\n",
    "\n",
    "plt.title(\"The Area of Real Estate in Colombia\")\n",
    "plt.xlabel(\"Property Area\")\n",
    "plt.ylabel(\"Number of Properties\")\n",
    "plt.grid(axis=\"y\", alpha=0.75)"
   ]
  },
  {
   "cell_type": "code",
   "execution_count": null,
   "id": "a2f90e4f-cd91-41df-8824-e796e41190bb",
   "metadata": {
    "deletable": false
   },
   "outputs": [],
   "source": [
    "\n",
    "plt.title(\"The Area of Real Estate in Colombia\")\n",
    "plt.xlabel(\"Propert Area\")\n",
    "plt.ylabel(\"Number of Properties\")\n",
    "plt.grid(axis=\"y\", alpha=0.75)"
   ]
  },
  {
   "cell_type": "markdown",
   "id": "5a14f734-5250-4e39-a137-e4d128fe240b",
   "metadata": {
    "deletable": false,
    "editable": false
   },
   "source": [
    "# Bar Charts\n",
    "\n",
    "A **bar chart** is a graph that shows all the values of a categorical variable in a dataset. They consist of an axis and a series of labeled horizontal or vertical bars. The bars depict frequencies of different values of a variable or simply the different values themselves. The numbers on the y-axis of a vertical bar chart or the x-axis of a horizontal bar chart are called the scale.\n",
    "\n",
    "Let's make a bar chart showing the number of properties in each borough, using the `mexico-city-real-estate-1` dataset. First, let's pull out the values in the `borough` variable."
   ]
  },
  {
   "cell_type": "code",
   "execution_count": null,
   "id": "0c6cb551-360b-4f88-aae7-381415f226fc",
   "metadata": {
    "deletable": false
   },
   "outputs": [],
   "source": [
    "mexico_city1 = pd.read_csv(\"./data/mexico-city-real-estate-1.csv\")\n",
    "\n",
    "new_columns = [\"empty1\", \"country\", \"city\", \"borough\", \"empty2\"]\n",
    "mexico_city1[new_columns] = mexico_city1[\"place_with_parent_names\"].str.split(\n",
    "    \"|\", 4, expand=True\n",
    ")\n",
    "mexico_city1 = mexico_city1.drop([\"empty1\", \"empty2\"], axis=1)\n",
    "\n",
    "by_borough = mexico_city1[\"borough\"].value_counts()\n",
    "by_borough"
   ]
  },
  {
   "cell_type": "markdown",
   "id": "0466d2e0-ace1-4a86-9364-97ecfe97f59c",
   "metadata": {
    "deletable": false,
    "editable": false
   },
   "source": [
    "Now, let's make a bar chart of the Series."
   ]
  },
  {
   "cell_type": "code",
   "execution_count": null,
   "id": "3fede9b0-6b58-472b-96db-76446c37ed8f",
   "metadata": {
    "deletable": false
   },
   "outputs": [],
   "source": [
    "plt.bar(x=by_borough.index, height=by_borough.values)\n",
    "plt.ylabel(\"Number of Properties\")\n",
    "plt.xticks(rotation=90);"
   ]
  },
  {
   "cell_type": "markdown",
   "id": "9d5f8150-3e08-4719-90ea-2a03070ca8a3",
   "metadata": {
    "deletable": false,
    "editable": false
   },
   "source": [
    "<font size=\"+1\">Practice</font> \n",
    "\n",
    "Try it yourself! Make a bar chart by property types in the `mexico-city-real-estate-1.csv` dataset."
   ]
  },
  {
   "cell_type": "code",
   "execution_count": null,
   "id": "7ab875f1-dc7e-4c51-aaca-e6001107c91b",
   "metadata": {
    "deletable": false
   },
   "outputs": [],
   "source": [
    "by_property_type = ...\n",
    "\n",
    "plt.ylabel(\"Number of Properties\")\n",
    "plt.xticks(rotation=90);"
   ]
  },
  {
   "cell_type": "markdown",
   "id": "33b2e280-cc3e-4fee-a800-6f170685f108",
   "metadata": {
    "deletable": false,
    "editable": false
   },
   "source": [
    "# Scatter Plots\n",
    "A **scatter plot** is a graph that uses dots to represent values for two different numeric variables. The position of each dot on the horizontal and vertical axis indicates values for an individual data point. Scatter plots are used to observe relationships between variables, and are especially useful if you're looking for **correlations**.\n",
    "\n",
    "Let's create a simple scatter plot using the `\"area_m2\"` data from `colombia-real-estate-3`. Note that we use the `usecols` argument below to import only two columns from the CSV file."
   ]
  },
  {
   "cell_type": "code",
   "execution_count": null,
   "id": "7d715696-8078-4055-a8fd-356fa2ea750e",
   "metadata": {
    "deletable": false
   },
   "outputs": [],
   "source": [
    "df1 = pd.read_csv(\"data/colombia-real-estate-3.csv\", usecols=[\"area_m2\", \"price_usd\"])\n",
    "plt.scatter(df1[\"area_m2\"], df1[\"price_usd\"], color=\"r\")\n",
    "plt.xlabel(\"Property Area\")\n",
    "plt.ylabel(\"Price in US Dollars\")\n",
    "plt.title(\"Property Area vs Price in US Dollars\");"
   ]
  },
  {
   "cell_type": "markdown",
   "id": "547ae6b5-33de-4d3c-a609-59ef9893f8d8",
   "metadata": {
    "deletable": false,
    "editable": false
   },
   "source": [
    "This scatter plot is showing us what we might already have suspected: there are lots of cheap, small properties, and as the size of the property goes up, so does the price. \n",
    "\n",
    "<font size=\"+1\">Practice</font>\n",
    "\n",
    "Try it yourself! Create a scatter plot using the `area_m2` and `price_cop` columns in the `colombia-real-estate-2` dataset. Try changing the `color` argument to `\"b\"`, `\"g\"`, or `\"y\"`, and see what happens!"
   ]
  },
  {
   "cell_type": "code",
   "execution_count": null,
   "id": "40f328a9-6874-4886-b839-2f533cec9f2f",
   "metadata": {
    "deletable": false
   },
   "outputs": [],
   "source": [
    "df2 = pd.read_csv(\n",
    "    \"data/colombia-real-estate-2.csv\", usecols=[\"area_m2\", \"price_cop\"]\n",
    ")  # REMOVERHS\n",
    "\n",
    "plt.xlabel(\"Property Area\")\n",
    "plt.ylabel(\"Price in Colombian Pesos\")\n",
    "plt.title(\"Property Area vs Price in Colombian Pesos\");"
   ]
  },
  {
   "cell_type": "markdown",
   "id": "52a2c6c1-ca00-40a5-a1af-031eb74a2b82",
   "metadata": {
    "deletable": false,
    "editable": false
   },
   "source": [
    "You may have noticed that there are lots of data points here, which makes it difficult to see if there's really a trend going on. This issue is called **over-plotting**, and it's very common in large datasets.\n",
    "\n",
    "One solution to over-plotting is to use the `df.sample` method to select a random sample from the dataset. In the example below, note that the `frac=0.50` indicates that the random sample will consist of 50% of the data points in the set."
   ]
  },
  {
   "cell_type": "code",
   "execution_count": null,
   "id": "0b353497-2d2c-4d54-a1a0-01bc7a5f92a3",
   "metadata": {
    "deletable": false
   },
   "outputs": [],
   "source": [
    "df3 = pd.read_csv(\"data/colombia-real-estate-3.csv\", usecols=[\"area_m2\", \"price_usd\"])\n",
    "df4 = df3.sample(frac=0.50, replace=True, random_state=1)\n",
    "plt.scatter(df4[\"area_m2\"], df4[\"price_usd\"], color=\"r\")\n",
    "plt.xlabel(\"Property Area\")\n",
    "plt.ylabel(\"Price in US Dollars\")\n",
    "plt.title(\"Property Area vs Price in US Dollars\");"
   ]
  },
  {
   "cell_type": "markdown",
   "id": "349381e9-5d84-478e-b81c-63b04da61335",
   "metadata": {
    "deletable": false,
    "editable": false
   },
   "source": [
    "That looks better, but things are still a little muddled. Let's try for a random sample that only looks at 25% of the data."
   ]
  },
  {
   "cell_type": "code",
   "execution_count": null,
   "id": "164252f8-314b-4e2f-97b0-18c335eb0576",
   "metadata": {
    "deletable": false
   },
   "outputs": [],
   "source": [
    "df4 = df3.sample(frac=0.25, replace=True, random_state=1)\n",
    "plt.scatter(df4[\"area_m2\"], df4[\"price_usd\"], color=\"r\")\n",
    "plt.xlabel(\"Property Area\")\n",
    "plt.ylabel(\"Price in US Dollars\")\n",
    "plt.title(\"Property Area vs Price in US Dollars\");"
   ]
  },
  {
   "cell_type": "markdown",
   "id": "7269e184-fdf6-490a-b37a-b5de13c38119",
   "metadata": {
    "deletable": false,
    "editable": false
   },
   "source": [
    "Perfect! With a smaller sample, it's much easier to see what's going on. \n",
    "\n",
    "<font size=\"+1\">Practice</font>\n",
    "\n",
    "Try it yourself! Using a random sample of 25% of the `area_m2` and `price_cop` data from the `colombia-rea-estate-3` data, create a green scatter plot."
   ]
  },
  {
   "cell_type": "code",
   "execution_count": null,
   "id": "8ef432bb-1aa6-4ed2-a123-5735f4effdfc",
   "metadata": {
    "deletable": false
   },
   "outputs": [],
   "source": [
    "df3 = pd.read_csv(\"data/colombia-real-estate-3.csv\", usecols=[\"area_m2\", \"price_usd\"])\n",
    "df4 = ...\n"
   ]
  },
  {
   "cell_type": "markdown",
   "id": "aa3af2fc-236c-4d29-bad6-f3e8ffd39e57",
   "metadata": {
    "deletable": false,
    "editable": false
   },
   "source": [
    "With the data as broadly scattered as this, it's unlikely that the two variables share a strong positive correlation, but let's calculate the **correlation coefficient,** just to be sure. \n",
    "\n",
    "To do that, we'll go back to the full dataset, and use the `corr` method. The code looks like this:"
   ]
  },
  {
   "cell_type": "code",
   "execution_count": null,
   "id": "d3255880-3660-4408-a1cd-24d19d3bf65f",
   "metadata": {
    "deletable": false
   },
   "outputs": [],
   "source": [
    "df = pd.read_csv(\"data/colombia-real-estate-3.csv\", usecols=[\"area_m2\", \"price_usd\"])\n",
    "area_m2 = df[\"area_m2\"]\n",
    "price_usd = df[\"price_usd\"]\n",
    "correlation = area_m2.corr(price_usd)\n",
    "print(correlation)"
   ]
  },
  {
   "cell_type": "markdown",
   "id": "046d1e5a-f9d1-401f-abc6-72a73ff83bc0",
   "metadata": {
    "deletable": false,
    "editable": false
   },
   "source": [
    "This indicates a moderate positive correlation between `\"area_m2\"` and `\"price_usd\"`, which is consistent with the scatter plot we made.\n",
    "\n",
    "<font size=\"+1\">Practice</font>\n",
    "\n",
    "Try it yourself! Use the `corr` method to find the correlation coefficient of `\"area_m2\"` and `\"price_cop\"` in the `colombia-real-estate-3` dataset."
   ]
  },
  {
   "cell_type": "code",
   "execution_count": null,
   "id": "27fdc174-0246-43c4-b911-fc6bb5b5c0fb",
   "metadata": {
    "deletable": false
   },
   "outputs": [],
   "source": [
    "import pandas as pd\n",
    "\n",
    "df = pd.read_csv(\"data/colombia-real-estate-3.csv\", usecols=[\"area_m2\", \"price_usd\"])\n",
    "area_m2 = df[\"area_m2\"]\n",
    "price_usd = df[\"price_usd\"]\n",
    "correlation = ...\n",
    "print(correlation)"
   ]
  },
  {
   "cell_type": "markdown",
   "id": "b4097153-f8af-4d7f-bf17-9284cc1eeec8",
   "metadata": {
    "deletable": false,
    "editable": false
   },
   "source": [
    "# Add a vertical or horizontal line across a plot"
   ]
  },
  {
   "cell_type": "markdown",
   "id": "923652ba-f8af-4c40-94bf-12ce4ac186a7",
   "metadata": {
    "deletable": false,
    "editable": false
   },
   "source": [
    "Vertical lines can be added to an existing plot in Matplotlib using `plt.axvline`. For this example, we'll add a vertical line using the scatter plot created in the previous step:"
   ]
  },
  {
   "cell_type": "code",
   "execution_count": null,
   "id": "225dc186-4558-4838-b8b6-73240b769958",
   "metadata": {
    "deletable": false
   },
   "outputs": [],
   "source": [
    "plt.scatter(df4[\"area_m2\"], df4[\"price_usd\"], color=\"r\")\n",
    "plt.axvline(250, linestyle=\"--\", color=\"blue\", label=\"Line Title\")\n",
    "plt.xlabel(\"Property Area\")\n",
    "plt.ylabel(\"Price in US Dollars\")\n",
    "plt.title(\"Property Area vs Price in US Dollars\");"
   ]
  },
  {
   "cell_type": "markdown",
   "id": "eb0b9434-342e-4f73-ba15-90b1a0e87523",
   "metadata": {
    "deletable": false,
    "editable": false
   },
   "source": [
    "<font size=\"+1\">Practice</font>\n",
    "\n",
    "Try it yourself! Use the `axvline` function to plot a vertical line at 350 and at 150 on the x-axis using the same scatter plot from the previous example. "
   ]
  },
  {
   "cell_type": "code",
   "execution_count": null,
   "id": "b4f76a3f-63e0-4571-aa03-4b519a7e53b8",
   "metadata": {
    "deletable": false
   },
   "outputs": [],
   "source": [
    "# Remove {\n",
    "plt.scatter(df4[\"area_m2\"], df4[\"price_usd\"], color=\"r\")\n",
    "plt.axvline(150, linestyle=\"--\", color=\"blue\", label=\"Line Title\")\n",
    "plt.axvline(350, linestyle=\"--\", color=\"blue\", label=\"Line Title\")\n",
    "plt.xlabel(\"Property Area\")\n",
    "plt.ylabel(\"Price in US Dollars\")\n",
    "plt.title(\"Property Area vs Price in US Dollars\");\n",
    "# Remove }"
   ]
  },
  {
   "cell_type": "markdown",
   "id": "96200e97-45d5-4034-82d6-0ff35eae71d1",
   "metadata": {
    "deletable": false,
    "editable": false
   },
   "source": [
    "# Sources & Further Reading\n",
    "\n",
    "- [Example Boxplot from the Matplotlib Documentation](https://matplotlib.org/3.1.1/gallery/pyplots/boxplot_demo_pyplot.html#sphx-glr-gallery-pyplots-boxplot-demo-pyplot-py)\n",
    "- [Discussion of How to Interpret a Histogram](https://www150.statcan.gc.ca/n1/edu/power-pouvoir/ch9/histo/5214822-eng.htm)\n",
    "- [Python Documentation on Histograms](https://realpython.com/python-histograms/#visualizing-histograms-with-matplotlib-and-pandas)\n",
    "- [Pandas Official DataFrame Bar Plot Documentation](https://pandas.pydata.org/pandas-docs/stable/reference/api/pandas.DataFrame.plot.bar.html)\n",
    "- [Online Tutorial on Using Groupby and Count in Pandas](https://www.statology.org/pandas-groupby-count/)\n",
    "- [Pandas Official Documentation on Splitting a String Entry in a Column](https://pandas.pydata.org/pandas-docs/stable/reference/api/pandas.Series.str.split.html)\n",
    "- [Wikipedia Entry on Boroughs of Mexico City](https://en.wikipedia.org/wiki/Boroughs_of_Mexico_City)\n",
    "- [stackoverflow Entry on Adding Labels and Titles to Pandas Plots](https://stackoverflow.com/questions/63650646/add-labels-and-title-to-a-plot-made-using-pandas#63650741)\n",
    "- [Further Information on Scatter Plots](https://chartio.com/learn/charts/what-is-a-scatter-plot/)\n",
    "- [Scatter Plot Tutorial](https://www.tutorialspoint.com/matplotlib/matplotlib_scatter_plot.htm)\n",
    "- [Subsetting Random Samples in a DataFrame](https://pandas.pydata.org/pandas-docs/stable/reference/api/pandas.DataFrame.sample.html)\n",
    "- [Pandas `corr` Documentation](https://pandas.pydata.org/docs/reference/api/pandas.DataFrame.corr.html)"
   ]
  },
  {
   "cell_type": "markdown",
   "id": "851f8ebf-98d6-4c92-8582-6e8352952e86",
   "metadata": {
    "deletable": false,
    "editable": false
   },
   "source": [
    "---\n",
    "Copyright © 2022 WorldQuant University. This\n",
    "content is licensed solely for personal use. Redistribution or\n",
    "publication of this material is strictly prohibited.\n"
   ]
  }
 ],
 "metadata": {
  "kernelspec": {
   "display_name": "Python 3 (ipykernel)",
   "language": "python",
   "name": "python3"
  },
  "language_info": {
   "codemirror_mode": {
    "name": "ipython",
    "version": 3
   },
   "file_extension": ".py",
   "mimetype": "text/x-python",
   "name": "python",
   "nbconvert_exporter": "python",
   "pygments_lexer": "ipython3",
   "version": "3.9.6"
  }
 },
 "nbformat": 4,
 "nbformat_minor": 5
}
