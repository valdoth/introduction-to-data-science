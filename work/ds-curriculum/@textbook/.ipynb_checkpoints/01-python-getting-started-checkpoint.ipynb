{
 "cells": [
  {
   "cell_type": "markdown",
   "id": "cf67dd3c-d597-4053-9bae-75d1aa48af01",
   "metadata": {
    "deletable": false,
    "editable": false
   },
   "source": [
    "<font size=\"+3\"><strong>Python: Getting Started</strong></font>"
   ]
  },
  {
   "cell_type": "markdown",
   "id": "a268c8b0-e275-4d59-9bb7-a6b29d7ff315",
   "metadata": {
    "deletable": false,
    "editable": false
   },
   "source": [
    "# Simple Calculations"
   ]
  },
  {
   "cell_type": "markdown",
   "id": "b64a0654-a42f-4b53-9815-2960b1ec51c3",
   "metadata": {
    "deletable": false,
    "editable": false
   },
   "source": [
    "In addition to all the more complex things you can do in Python, it is also useful for completing simple mathematical operations."
   ]
  },
  {
   "cell_type": "markdown",
   "id": "c32d060d-32b2-4849-b039-c4e8e69b1d5a",
   "metadata": {
    "deletable": false,
    "editable": false
   },
   "source": [
    "**Addition and Subtraction**\n",
    "\n",
    "Add numbers together like this:"
   ]
  },
  {
   "cell_type": "code",
   "execution_count": null,
   "id": "18278b9c-5a89-4f56-8af4-4e4955d6528b",
   "metadata": {
    "deletable": false
   },
   "outputs": [],
   "source": [
    "1 + 1"
   ]
  },
  {
   "cell_type": "markdown",
   "id": "0dc80bc4-be35-4a1e-9304-5ac4b904aaf5",
   "metadata": {
    "deletable": false,
    "editable": false
   },
   "source": [
    "Notice that you don't need to include `=` in order to make the operation work.\n",
    "\n",
    "Subtract numbers like this:"
   ]
  },
  {
   "cell_type": "code",
   "execution_count": null,
   "id": "d6064802-51d9-4085-be9b-1e39c5f70784",
   "metadata": {
    "deletable": false
   },
   "outputs": [],
   "source": [
    "2 - 1"
   ]
  },
  {
   "cell_type": "markdown",
   "id": "585dc0d6-5fa2-49db-a06b-8f2a19b7f98b",
   "metadata": {
    "deletable": false,
    "editable": false
   },
   "source": [
    "**Division**\n",
    "\n",
    "Divide numbers like this:"
   ]
  },
  {
   "cell_type": "code",
   "execution_count": null,
   "id": "5123f135-bebe-400d-a2a7-2f9644e57f89",
   "metadata": {
    "deletable": false
   },
   "outputs": [],
   "source": [
    "4 / 2"
   ]
  },
  {
   "cell_type": "markdown",
   "id": "b61921d1-6a2d-4a56-9d3a-3bd9ce16a3bb",
   "metadata": {
    "deletable": false,
    "editable": false
   },
   "source": [
    "Remember that Python will return an error if you try to divide by 0!"
   ]
  },
  {
   "cell_type": "markdown",
   "id": "f230edfb-c677-44c0-896e-34357c7e14e5",
   "metadata": {
    "deletable": false,
    "editable": false
   },
   "source": [
    "**Modulo Division**\n",
    "\n",
    "Perform modulo division like this:"
   ]
  },
  {
   "cell_type": "code",
   "execution_count": null,
   "id": "b88f6f76-c422-49d9-8fe9-89014262fb7b",
   "metadata": {
    "deletable": false
   },
   "outputs": [],
   "source": [
    "5 % 2"
   ]
  },
  {
   "cell_type": "markdown",
   "id": "db415a92-8dd3-4b33-9a20-9e4604c71fbd",
   "metadata": {
    "deletable": false,
    "editable": false
   },
   "source": [
    "**Multiplication**\n",
    "\n",
    "Multiply numbers like this: "
   ]
  },
  {
   "cell_type": "code",
   "execution_count": null,
   "id": "8eb5f392-ae8f-434e-a9ac-e6185df7b231",
   "metadata": {
    "deletable": false
   },
   "outputs": [],
   "source": [
    "4 * 2"
   ]
  },
  {
   "cell_type": "markdown",
   "id": "5da8847c-80dd-4a75-984c-cdd2b6d5fc8a",
   "metadata": {
    "deletable": false,
    "editable": false
   },
   "source": [
    "Add **exponents** to numbers like this:"
   ]
  },
  {
   "cell_type": "code",
   "execution_count": null,
   "id": "1d9e0e72-af92-457c-b507-1f01efeabeb2",
   "metadata": {
    "deletable": false
   },
   "outputs": [],
   "source": [
    "4**2"
   ]
  },
  {
   "cell_type": "markdown",
   "id": "b2b0b355-cf9f-4bc1-9094-b32c87acbe01",
   "metadata": {
    "deletable": false,
    "editable": false
   },
   "source": [
    "## Order of Operations\n",
    "Just like everywhere else, Python works on a specific order of operations. That order is:\n",
    "\n",
    "Parentheses Exponents Multiplication Addition Subtraction\n",
    "\n",
    "If you remember being taught PEMDAS, then this is the same thing! All the operations in Python work with levels of parentheses, so if you wanted to add two numbers together, and then add another number to the result, the code would look like this:"
   ]
  },
  {
   "cell_type": "code",
   "execution_count": null,
   "id": "e32348f1-581d-4757-9297-48acd88201f0",
   "metadata": {
    "deletable": false
   },
   "outputs": [],
   "source": [
    "(6 + 4) + 4"
   ]
  },
  {
   "cell_type": "markdown",
   "id": "00a20f53-fc17-4dcf-8900-b1925fc2facf",
   "metadata": {
    "deletable": false,
    "editable": false
   },
   "source": [
    "Things get more complicated when we add more terms to the equation, but the principle remains the same: if you open a set of parentheses, make sure you close it too. Here's an example that uses all the PEMDAS possibilities:"
   ]
  },
  {
   "cell_type": "code",
   "execution_count": null,
   "id": "a073678e-7706-419a-9552-e222c35e5ca9",
   "metadata": {
    "deletable": false
   },
   "outputs": [],
   "source": [
    "(((5**3 + 7) * 4) / 16 + 9 - 2)"
   ]
  },
  {
   "cell_type": "markdown",
   "id": "31de5e6a-9c73-45eb-a973-dc8701698568",
   "metadata": {
    "deletable": false,
    "editable": false
   },
   "source": [
    "# Data Types"
   ]
  },
  {
   "cell_type": "markdown",
   "id": "9feb5c31-79c5-4e51-a514-821fe1deac45",
   "metadata": {
    "deletable": false,
    "editable": false
   },
   "source": [
    "\n",
    "There are lots of different types of data in the world, and Python groups that data into several categories.\n",
    "\n",
    "**Boolean** (`bool`)**:** \n",
    "- Any data which can be expressed as either `True` or `False`.\n",
    "- Used when comparing two values. For example, if you enter `10 > 9`, Python will return `True`.\n",
    "\n",
    "**String** (`str`)**:**\n",
    "\n",
    "- Data that involves text — either letters, numbers, or special characters. \n",
    "- Strings are enclosed in either single- or double-quotation marks: `\"string-1\"` or `'string-2'`.\n",
    "\n",
    "**Numeric** (`int`, `float`, `complex`)**:**\n",
    "\n",
    "- Data that can be expressed numerically.\n",
    "- An integer, or `int`, is a whole number, positive or negative, without decimals, of unlimited length:  `123`.\n",
    "- A floating-point number, or `float`, is a number, positive or negative, containing one or more decimals: `123.01`.\n",
    "- A complex number, or `complex`, are imaginary numbers, designated by a `j`: `(3 + 6j)`.\n",
    "\n",
    "**Sequence** (`list`, `tuple`, `set`)**:**\n",
    "\n",
    "- Data that is a collection of discrete items.\n",
    "- A `list` is collection that is ordered and changeable. It's designated using square brackets `[]`, and items can be of different data types: `[\"red\", 1, 1.03, 1]`.\n",
    "- A `tuple` is a collection which is ordered and unchangeable. It's designated using parentheses `()`: `(\"red\", 1, 1.03, 1)`.\n",
    "- A `set` is a collection which is unordered, unchangeable, and does not permit duplicate items. It's designated using curly brackets `{}`: `{\"red\", 1, 1.03}`.\n",
    "\n",
    "**Mapping** (`dict`)**:** \n",
    "- Dictionaries store data in *key-value* pairs. They're designated using curly brackets `{}`, like a `set`, but notice that keys and values are associated with each other using a colon `:`. Each pair is separated from the next using a comma `,`.\n",
    "\n",
    "```python\n",
    "dict1 = {\n",
    "    \"department\": \"quindio\", \n",
    "    \"property_type\": \"house\", \n",
    "    \"price_usd\": 330899.98\n",
    "}\n",
    "```\n",
    "\n",
    "**Binary** (`bytes`, `bytearray`, `memoryview`)**:**\n",
    "- Used to manipulate and display binary data. That is, data that can be expressed with integers represented with base 2.\n",
    "- Unlike the other data types described above, `binary` types are not human-readable."
   ]
  },
  {
   "cell_type": "markdown",
   "id": "0bc7bf57-ceb9-4260-867f-97211423594b",
   "metadata": {
    "deletable": false,
    "editable": false
   },
   "source": [
    "# Lists"
   ]
  },
  {
   "cell_type": "markdown",
   "id": "fcfa9cdf-c693-4483-9d5d-6969b2973a4f",
   "metadata": {
    "deletable": false,
    "editable": false
   },
   "source": [
    "In Python, a **list** is a collection of data that stores multiple items in a single variable. These items must be ordered, able to be changed, and can be duplicated. A list can store data of multiple types; not all the items in the list need to be the same type."
   ]
  },
  {
   "cell_type": "markdown",
   "id": "1213138b-4acc-4d4b-894f-4e872b2fdd4e",
   "metadata": {
    "deletable": false,
    "editable": false
   },
   "source": [
    "## Creating Lists\n",
    "Lists can be as long or as short as you like. Let's create a short list based on data from the Colombian real estate market to give us something to work with.\n",
    "\n",
    "Lists are written with square brackets. Code for a short list that shows the price of houses in US dollars looks like this:"
   ]
  },
  {
   "cell_type": "code",
   "execution_count": null,
   "id": "816d1ff2-da76-40c5-b643-32084fc12ef4",
   "metadata": {
    "deletable": false
   },
   "outputs": [],
   "source": [
    "price_usd = [97919.38, 300511.20, 293758.14]\n",
    "print(price_usd)"
   ]
  },
  {
   "cell_type": "markdown",
   "id": "31ce8cb4-2e56-4459-a37f-48e0b87573b6",
   "metadata": {
    "deletable": false,
    "editable": false
   },
   "source": [
    "## Working with Lists\n",
    "After you've created a list, you can **access** any item on the list by referring to the item's index number. Keep in mind that in Python, the first item in a list is always 0. \n",
    "\n",
    "Let's access the second item of our `price_usd` list."
   ]
  },
  {
   "cell_type": "code",
   "execution_count": null,
   "id": "15c768ca-ff3e-45c8-9166-382fe6ac9467",
   "metadata": {
    "deletable": false
   },
   "outputs": [],
   "source": [
    "print(price_usd[1])"
   ]
  },
  {
   "cell_type": "markdown",
   "id": "8aae9a63-e90a-4d16-a5d6-ce1ddd978216",
   "metadata": {
    "deletable": false,
    "editable": false
   },
   "source": [
    "<font size=\"+1\">Practice</font>\n",
    "\n",
    "Try it yourself! Create and print a list that shows the area of the houses, called `area_m2`. Include the items `187.0`, `82.0`, and `235.0`."
   ]
  },
  {
   "cell_type": "code",
   "execution_count": null,
   "id": "ee89fc1d-5ed7-4fa8-9941-8060cbbbb215",
   "metadata": {
    "deletable": false
   },
   "outputs": [],
   "source": [
    "area_m2 = ...\n",
    "print(area_m2)"
   ]
  },
  {
   "cell_type": "markdown",
   "id": "675aee55-f65a-4ca0-a2b3-5548915e1b99",
   "metadata": {
    "deletable": false,
    "editable": false
   },
   "source": [
    "If we want to access the an item at the end of the list, we can use **negative indexing**. In negative indexing, -1 refers to the last item, -2 to the second to last, and so on. \n",
    "\n",
    "Let's access the last item in our `department` list."
   ]
  },
  {
   "cell_type": "code",
   "execution_count": null,
   "id": "b601fb2f-e1e4-4643-aeb7-0ba792354ba9",
   "metadata": {
    "deletable": false
   },
   "outputs": [],
   "source": [
    "print(price_usd[-1])"
   ]
  },
  {
   "cell_type": "markdown",
   "id": "ac806bf0-28be-41a7-84ac-e4ba60b093b6",
   "metadata": {
    "deletable": false,
    "editable": false
   },
   "source": [
    "<font size=\"+1\">Practice</font>\n",
    "\n",
    "Try accessing the second item in your `area_m2` list."
   ]
  },
  {
   "cell_type": "code",
   "execution_count": null,
   "id": "ef64816d-9ffc-410e-8247-6ec35afd0c83",
   "metadata": {
    "deletable": false
   },
   "outputs": [],
   "source": []
  },
  {
   "cell_type": "markdown",
   "id": "ba9dd2ca-8a34-435b-b54e-b4e77cfc4d6d",
   "metadata": {
    "deletable": false,
    "editable": false
   },
   "source": [
    "Try accessing the last item in the same list."
   ]
  },
  {
   "cell_type": "code",
   "execution_count": null,
   "id": "749fa130-0918-4dce-8c0a-f45bb690ad30",
   "metadata": {
    "deletable": false
   },
   "outputs": [],
   "source": []
  },
  {
   "cell_type": "markdown",
   "id": "0f35313e-c84a-496e-8a11-bfd43c1140a3",
   "metadata": {
    "deletable": false,
    "editable": false
   },
   "source": [
    "### Appending Items\n",
    "It's also possible to add an item to a list that already exists using the  `append` method like this:"
   ]
  },
  {
   "cell_type": "code",
   "execution_count": null,
   "id": "d2a5e55d-81c1-4ef0-a41f-e7f658ec4ca8",
   "metadata": {
    "deletable": false
   },
   "outputs": [],
   "source": [
    "price_usd.append(540244.86)"
   ]
  },
  {
   "cell_type": "markdown",
   "id": "c618e3ca-7642-4560-b69a-9cef6ac75ca9",
   "metadata": {
    "deletable": false,
    "editable": false
   },
   "source": [
    "<font size=\"+1\">Practice</font>\n",
    "\n",
    "Add the item `195.0` to your `area_m2` list."
   ]
  },
  {
   "cell_type": "code",
   "execution_count": null,
   "id": "787e6d02-4432-493e-9aac-f1d74849132b",
   "metadata": {
    "deletable": false
   },
   "outputs": [],
   "source": [
    "\n",
    "print(area_m2)"
   ]
  },
  {
   "cell_type": "markdown",
   "id": "107899fb-514b-48d8-9607-8a929c0ebcfc",
   "metadata": {
    "deletable": false,
    "editable": false
   },
   "source": [
    "### Aggregating Items\n",
    "\n",
    "We can also **aggregate** items on a list to make analyzing the list more useful. For example, if we wanted to know the total value in US dollars of the houses on our `price_usd` list, we could use the `sum` method."
   ]
  },
  {
   "cell_type": "code",
   "execution_count": null,
   "id": "e675df2e-a83c-4e70-80b0-2123af9bfa6d",
   "metadata": {
    "deletable": false
   },
   "outputs": [],
   "source": [
    "total_usd = sum(price_usd)"
   ]
  },
  {
   "cell_type": "markdown",
   "id": "b94da493-3d51-4e89-a254-ee6fdb8fd74a",
   "metadata": {
    "deletable": false,
    "editable": false
   },
   "source": [
    "We might also be interested in the average value in US dollars of the houses on the same list. To find the average, we add the `len` method to the `sum` method."
   ]
  },
  {
   "cell_type": "code",
   "execution_count": null,
   "id": "918e08b9-a2c0-43db-87b4-ab654a154750",
   "metadata": {
    "deletable": false
   },
   "outputs": [],
   "source": [
    "average_usd = sum(price_usd) / len(price_usd)"
   ]
  },
  {
   "cell_type": "markdown",
   "id": "f7bd71e2-3d27-42aa-bce2-cdc8a1dfb54e",
   "metadata": {
    "deletable": false,
    "editable": false
   },
   "source": [
    "<font size=\"+1\">Practice</font>\n",
    "\n",
    "Try it yourself! Calculate the total area of the houses on your `area_m2` list, and find the average area of all the houses on the list. "
   ]
  },
  {
   "cell_type": "code",
   "execution_count": null,
   "id": "232a5546-ef81-4d99-94da-0d28ccd67fa9",
   "metadata": {
    "deletable": false
   },
   "outputs": [],
   "source": [
    "total_area_m2 = ...\n",
    "print(total_area_m2)"
   ]
  },
  {
   "cell_type": "code",
   "execution_count": null,
   "id": "b4698b30-c363-4ba7-b146-c322c388c002",
   "metadata": {
    "deletable": false
   },
   "outputs": [],
   "source": [
    "average_area_m2 = ...\n",
    "print(average_area_m2)"
   ]
  },
  {
   "cell_type": "markdown",
   "id": "681af221-9660-4145-9e6c-100c42bc39c4",
   "metadata": {
    "deletable": false,
    "editable": false
   },
   "source": [
    "### Zipping Items\n",
    "\n",
    "Finally, it might be useful to combine -- or **zip** -- two lists together. For example, we might want to create a new list that pairs the values in our `price_usd` list with our `area_m2` list. To do that, we use the `zip` method. The code looks like this:\n",
    "\n",
    "You might have noticed that the above code involving putting one list (in this case, `new_list`) inside another list (in this case, `list`). This approach is called a **generator**, and we'll come back to what that is and how it works later in the course. "
   ]
  },
  {
   "cell_type": "code",
   "execution_count": null,
   "id": "5c3009d8-920a-4e33-92f8-8fb0b8fd9399",
   "metadata": {
    "deletable": false
   },
   "outputs": [],
   "source": [
    "new_list = zip(price_usd, area_m2)\n",
    "zipped_list = list(new_list)"
   ]
  },
  {
   "cell_type": "markdown",
   "id": "89fc820d-fe87-477d-8fb7-a729d34f3373",
   "metadata": {
    "deletable": false,
    "editable": false
   },
   "source": [
    "You might have noticed that the above code involving putting one list (in this case, `new_list`) inside another list (in this case, `list`). This approach is called a **generator**, and we'll come back to what that is and how it works later in the course. "
   ]
  },
  {
   "cell_type": "markdown",
   "id": "f9812a0f-5902-4c07-b1d4-d10ab595d41c",
   "metadata": {
    "deletable": false,
    "editable": false
   },
   "source": [
    "<font size=\"+1\">Practice</font>\n",
    "\n",
    "Try it yourself! Create a list called `area_m2` that includes the terms `235.0`, `130.0`, and `137.0`, then create another list called `price_cop` that includes the terms `400000000.0`, `850000000.0`, and `475000000.0`. Then zip them together to create a new list called `area_price`, and `print` the result."
   ]
  },
  {
   "cell_type": "code",
   "execution_count": null,
   "id": "0f1ed5e0-e9c8-4952-b4b8-6cd5b76fd271",
   "metadata": {
    "deletable": false
   },
   "outputs": [],
   "source": [
    "area_m2 = ...\n"
   ]
  },
  {
   "cell_type": "markdown",
   "id": "baeec353-50a1-4a71-ac91-c039ff65e06f",
   "metadata": {
    "deletable": false,
    "editable": false
   },
   "source": [
    "# Python `for` Loops"
   ]
  },
  {
   "cell_type": "markdown",
   "id": "08dc614f-a2d2-40b3-ab76-8fa6708c3f48",
   "metadata": {
    "deletable": false,
    "editable": false
   },
   "source": [
    "A `for` Loop is used for executing a set of statements for each item in a list."
   ]
  },
  {
   "cell_type": "markdown",
   "id": "9a8b5eee-30d9-4610-93e1-19f612df8cae",
   "metadata": {
    "deletable": false,
    "editable": false
   },
   "source": [
    "## Working with `for` Loops\n",
    "\n",
    "There can be as many statements as there are items in the list, but to keep things manageable, let's use our list of real estate values in Colombia."
   ]
  },
  {
   "cell_type": "code",
   "execution_count": null,
   "id": "cb013522-644b-42de-9be8-b5c7c98172cb",
   "metadata": {
    "deletable": false
   },
   "outputs": [],
   "source": [
    "price_usd = [97919.38, 300511.20, 293758.14, 540244.86]\n",
    "print(price_usd)"
   ]
  },
  {
   "cell_type": "markdown",
   "id": "8f65c875-c5c4-46a1-98cf-706cbf4bc7cc",
   "metadata": {
    "deletable": false,
    "editable": false
   },
   "source": [
    "We might want to see each of the values in the list, so we insert a `for` Loop:"
   ]
  },
  {
   "cell_type": "code",
   "execution_count": null,
   "id": "55e9f504-909c-4c12-b835-ba7f12425cd4",
   "metadata": {
    "deletable": false
   },
   "outputs": [],
   "source": [
    "price_usd = [97919.38, 300511.20, 293758.14, 540244.86]\n",
    "for x in price_usd:\n",
    "    print(x)"
   ]
  },
  {
   "cell_type": "markdown",
   "id": "86546ddd-8a37-4484-a9fb-91352964702e",
   "metadata": {
    "deletable": false,
    "editable": false
   },
   "source": [
    "Note that the `print` command is indented."
   ]
  },
  {
   "cell_type": "markdown",
   "id": "2af17911-79fd-40b5-b2c6-dd662912b241",
   "metadata": {
    "deletable": false,
    "editable": false
   },
   "source": [
    "<font size=\"+1\">Practice</font>\n",
    "\n",
    "Try it yourself using the `area_m2` list:"
   ]
  },
  {
   "cell_type": "code",
   "execution_count": null,
   "id": "338c7aab-0244-41e2-a5c8-510d4f566082",
   "metadata": {
    "deletable": false
   },
   "outputs": [],
   "source": [
    "area_m2 = ..."
   ]
  },
  {
   "cell_type": "code",
   "execution_count": null,
   "id": "28e3b36a-b870-4504-b2e5-6730f197634c",
   "metadata": {
    "deletable": false
   },
   "outputs": [],
   "source": [
    "\n"
   ]
  },
  {
   "cell_type": "markdown",
   "id": "f66f3ae9-1753-4a22-a742-f9195efd9478",
   "metadata": {
    "deletable": false,
    "editable": false
   },
   "source": [
    "# Python Dictionaries"
   ]
  },
  {
   "cell_type": "markdown",
   "id": "f6072d24-8732-4586-8102-025bb90fd438",
   "metadata": {
    "deletable": false,
    "editable": false
   },
   "source": [
    "In Python, a **dictionary** is a collection of data that occurs in an order, is able to be changed, and does not allow duplicates. Data in a dictionary are always presented as **keys** and **values**, and those key-value pairs cannot be duplicated in the dataset."
   ]
  },
  {
   "cell_type": "markdown",
   "id": "585cbb87-6a7e-4ae0-8d24-665023f29e2c",
   "metadata": {
    "deletable": false,
    "editable": false
   },
   "source": [
    "## Creating Dictionaries\n",
    "\n",
    "Dictionaries can be as big or as small as you like. Let's create a small dictionary based on data from the Colombian real estate market to give us something to work with. \n",
    "\n",
    "Dictionaries are written with curly brackets, with key-value pairs inside. Code for a small dictionary looks like this:"
   ]
  },
  {
   "cell_type": "code",
   "execution_count": null,
   "id": "bf5f3976-6c52-4e8b-b56f-f55f9acf8200",
   "metadata": {
    "deletable": false
   },
   "outputs": [],
   "source": [
    "colomdict = {\n",
    "    \"property_type\": \"house\",\n",
    "    \"department\": \"quindio\",\n",
    "    \"area\": 235.0,\n",
    "}"
   ]
  },
  {
   "cell_type": "markdown",
   "id": "2dfba9ee-1d4a-4a9c-9dcf-afc2cd054364",
   "metadata": {
    "deletable": false,
    "editable": false
   },
   "source": [
    "<font size=\"+1\">Practice</font>\n",
    "\n",
    "Try it yourself! Create and `print` a dictionary called `bogota` with the key-value pairs `\"price_usd\": 121,555.09`, `\"area_m2\": 82.0`, and `\"property_type\": \"house\"`"
   ]
  },
  {
   "cell_type": "code",
   "execution_count": null,
   "id": "b745d729-e079-4447-ab39-ff131f99dce6",
   "metadata": {
    "deletable": false
   },
   "outputs": [],
   "source": [
    "bogota = ...\n",
    "print(bogota)"
   ]
  },
  {
   "cell_type": "markdown",
   "id": "1c1374d8-b445-4536-b23b-a7fae1f5e69b",
   "metadata": {
    "deletable": false,
    "editable": false
   },
   "source": [
    "## Working with Dictionaries \n",
    "\n",
    "After you've created a dictionary, you can **access** any item by using its key name inside square brackets.\n",
    "\n",
    "Going back to our example dictionary, let's access the value for \"department\"."
   ]
  },
  {
   "cell_type": "code",
   "execution_count": null,
   "id": "3a955ce4-6d60-4537-9e67-66db1fd4de7f",
   "metadata": {
    "deletable": false
   },
   "outputs": [],
   "source": [
    "x = colomdict[\"department\"]\n",
    "print(x)"
   ]
  },
  {
   "cell_type": "markdown",
   "id": "ed2c4be0-4538-48d6-ad32-9554f35d91ba",
   "metadata": {
    "deletable": false,
    "editable": false
   },
   "source": [
    "<font size=\"+1\">Practice</font>\n",
    "\n",
    "Try accessing the value for `price_usd` in the Bogotá dictionary you created above."
   ]
  },
  {
   "cell_type": "code",
   "execution_count": null,
   "id": "bc6a1afe-d556-48f1-bcd3-9cb807c20fdb",
   "metadata": {
    "deletable": false
   },
   "outputs": [],
   "source": [
    "x = ...\n"
   ]
  },
  {
   "cell_type": "markdown",
   "id": "59a9aa9f-7578-4211-bca5-9413a1e7f256",
   "metadata": {
    "deletable": false,
    "editable": false
   },
   "source": [
    "You can also use `get` to retrieve a value. That looks like this:"
   ]
  },
  {
   "cell_type": "code",
   "execution_count": null,
   "id": "3079144b-f68e-4045-8610-98fd93f15221",
   "metadata": {
    "deletable": false
   },
   "outputs": [],
   "source": [
    "x = colomdict.get(\"department\")"
   ]
  },
  {
   "cell_type": "markdown",
   "id": "9fb64be4-5f40-4f13-b00f-934966c52b7a",
   "metadata": {
    "deletable": false,
    "editable": false
   },
   "source": [
    "<font size=\"+1\">Practice</font>\n",
    "\n",
    "Now try accessing the value for `area_m2` using the `get` method, and print the result."
   ]
  },
  {
   "cell_type": "code",
   "execution_count": null,
   "id": "1fc569ea-9448-4edc-ba1d-cae005fcef1b",
   "metadata": {
    "deletable": false
   },
   "outputs": [],
   "source": [
    "x = ...\n"
   ]
  },
  {
   "cell_type": "markdown",
   "id": "6edf5eb5-56be-46fe-90c7-fd389b0e24f2",
   "metadata": {
    "deletable": false,
    "editable": false
   },
   "source": [
    "### Dictionary Keys"
   ]
  },
  {
   "cell_type": "markdown",
   "id": "ab746f4e-db3e-4deb-8b92-7b0d2b8869a9",
   "metadata": {
    "deletable": false,
    "editable": false
   },
   "source": [
    "Sometimes you want to know what the keys are in the dictionary, or you want to iterate through the dictionary. In such cases, you need to write code to access all keys in a dictionary by utilizing the `keys` method:"
   ]
  },
  {
   "cell_type": "code",
   "execution_count": null,
   "id": "3e2b46d0-57a2-41a6-ae2d-4606156e2193",
   "metadata": {
    "deletable": false
   },
   "outputs": [],
   "source": [
    "colomdict.keys()"
   ]
  },
  {
   "cell_type": "markdown",
   "id": "4158674e-49d0-487b-b9bc-d4dc11129b05",
   "metadata": {
    "deletable": false,
    "editable": false
   },
   "source": [
    "If you need to use the keys in a list, you can transform the output:"
   ]
  },
  {
   "cell_type": "code",
   "execution_count": null,
   "id": "ddc6d462-93c1-414d-ba46-f7cea9bd09c5",
   "metadata": {
    "deletable": false
   },
   "outputs": [],
   "source": [
    "list(colomdict.keys())"
   ]
  },
  {
   "cell_type": "markdown",
   "id": "1eeb10d9-749f-4b74-8052-4ffae432e059",
   "metadata": {
    "deletable": false,
    "editable": false
   },
   "source": [
    "You can also iterate though `colomdict.keys()` without converting it to a list:"
   ]
  },
  {
   "cell_type": "code",
   "execution_count": null,
   "id": "b6a311fa-e07d-4df0-91aa-2518b05fa7f7",
   "metadata": {
    "deletable": false
   },
   "outputs": [],
   "source": [
    "for k in colomdict.keys():\n",
    "    print(k)"
   ]
  },
  {
   "cell_type": "markdown",
   "id": "373cb569-2178-4b67-a4ac-b6b6027e22c8",
   "metadata": {
    "deletable": false,
    "editable": false
   },
   "source": [
    "<font size=\"+1\">Practice</font>\n",
    "\n",
    "print the value of each key in the `colomdict` dictionary"
   ]
  },
  {
   "cell_type": "code",
   "execution_count": null,
   "id": "752d6553-b80f-4e5b-a3a4-ddd447a66c11",
   "metadata": {
    "deletable": false
   },
   "outputs": [],
   "source": []
  },
  {
   "cell_type": "markdown",
   "id": "cbf450f0-f2d1-45e4-a148-289d3d716bf8",
   "metadata": {
    "deletable": false,
    "editable": false
   },
   "source": [
    "# JSON"
   ]
  },
  {
   "cell_type": "markdown",
   "id": "d70ab393-4d7e-40b2-8155-2dbcad38cdce",
   "metadata": {
    "deletable": false,
    "editable": false
   },
   "source": [
    "JSON stands for Java Script Object Notation, and it's a text format for storing and transporting data."
   ]
  },
  {
   "cell_type": "markdown",
   "id": "74921ff3-914a-4fbb-987b-6aa391787e9e",
   "metadata": {
    "deletable": false,
    "editable": false
   },
   "source": [
    "## Working with JSON\n",
    "\n",
    "JSON works by creating **key-value pairs**, where the key is data that can be represented by letters (called a **string**). JSON values can be strings, numbers, objects, arrays, boolean data, or null. JSON usually comes as a list of dictionaries, which look like this:\n",
    "\n",
    "Here's an example from our `colombia-real-estate-1` dataset with two key-value pairs that both include string values:"
   ]
  },
  {
   "cell_type": "code",
   "execution_count": null,
   "id": "f62da62c-d195-45b3-9d46-cc98063eed2d",
   "metadata": {
    "deletable": false
   },
   "outputs": [],
   "source": [
    "[\n",
    "    {\"property_type\": \"house\", \"department\": \"bogota\"},\n",
    "    {\"property_type\": \"house\", \"department\": \"bogota\"},\n",
    "    {\"property_type\": \"house\", \"department\": \"bogota\"},\n",
    "]"
   ]
  },
  {
   "cell_type": "markdown",
   "id": "58d5837a-8185-4ed3-a687-9d4f01028ba7",
   "metadata": {
    "deletable": false,
    "editable": false
   },
   "source": [
    "Here's an simplified example from our `colombia-real-estate-1` dataset with two key-value pairs that both include string values:"
   ]
  },
  {
   "cell_type": "code",
   "execution_count": null,
   "id": "ac22da37-34b8-4d98-96b5-fccf52c19d01",
   "metadata": {
    "deletable": false
   },
   "outputs": [],
   "source": [
    "{\"property_type\": \"house\", \"department\": \"bogota\"}"
   ]
  },
  {
   "cell_type": "markdown",
   "id": "7813fc48-e1fc-44f3-87f0-008d2a4ce069",
   "metadata": {
    "deletable": false,
    "editable": false
   },
   "source": [
    "JSON pairs with numbers look like this:"
   ]
  },
  {
   "cell_type": "code",
   "execution_count": null,
   "id": "a1b37035-c366-4576-a5c9-a80a01916506",
   "metadata": {
    "deletable": false
   },
   "outputs": [],
   "source": [
    "{\"area_m2\": 187.0, \"price_usd\": 330899.98}"
   ]
  },
  {
   "cell_type": "markdown",
   "id": "49d79750-a6c4-4a21-8d31-cadf01a4fa34",
   "metadata": {
    "deletable": false,
    "editable": false
   },
   "source": [
    "When you mix more than one type of value, it looks like this:"
   ]
  },
  {
   "cell_type": "code",
   "execution_count": null,
   "id": "05dcbba0-7f52-445b-82af-77e44007db16",
   "metadata": {
    "deletable": false
   },
   "outputs": [],
   "source": [
    "{\"property_type\": \"house\", \"price_usd\": 330899.98}"
   ]
  },
  {
   "cell_type": "markdown",
   "id": "222df5ca-64e9-446e-bf1a-64652bbe768c",
   "metadata": {
    "deletable": false,
    "editable": false
   },
   "source": [
    "# References & Further Reading\n",
    "\n",
    "- [A guide to basic math operations in Python](https://codingexplained.com/coding/python/basic-math-operators-in-python)\n",
    "- [Python documentation on built-in data types](https://docs.python.org/3/library/stdtypes.html)\n",
    "- [Summary of Python data types](https://www.w3schools.com/python/python_datatypes.asp)\n",
    "- [Tutorial on type conversion in Python](https://www.datacamp.com/community/tutorials/python-data-type-conversion)\n",
    "- [A description of how dictionaries work in Python](https://www.w3schools.com/python/python_dictionaries.asp)\n",
    "- [An introduction to JSON](https://www.w3schools.com/js/js_json_syntax.asp)\n",
    "- [An introduction to lists in Python](https://www.w3schools.com/python/python_lists.asp)\n",
    "- [How to zip lists](https://www.kite.com/python/answers/how-to-zip-two-lists-in-python)\n",
    "- [Calculating mean, median, and mode in Python](https://stackabuse.com/calculating-mean-median-and-mode-in-python/)\n",
    "- [A brief tutorial of For Loops](https://www.w3schools.com/python/python_for_loops.asp)"
   ]
  },
  {
   "cell_type": "markdown",
   "id": "4aed406c-c1fd-49e0-a608-e9819cea6142",
   "metadata": {
    "deletable": false,
    "editable": false
   },
   "source": [
    "---\n",
    "Copyright © 2022 WorldQuant University. This\n",
    "content is licensed solely for personal use. Redistribution or\n",
    "publication of this material is strictly prohibited.\n"
   ]
  }
 ],
 "metadata": {
  "kernelspec": {
   "display_name": "Python 3 (ipykernel)",
   "language": "python",
   "name": "python3"
  },
  "language_info": {
   "codemirror_mode": {
    "name": "ipython",
    "version": 3
   },
   "file_extension": ".py",
   "mimetype": "text/x-python",
   "name": "python",
   "nbconvert_exporter": "python",
   "pygments_lexer": "ipython3",
   "version": "3.9.6"
  }
 },
 "nbformat": 4,
 "nbformat_minor": 5
}
