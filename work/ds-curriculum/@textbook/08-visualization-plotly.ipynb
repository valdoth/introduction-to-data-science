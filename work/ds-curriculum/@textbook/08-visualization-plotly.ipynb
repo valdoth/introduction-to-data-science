{
 "cells": [
  {
   "cell_type": "markdown",
   "id": "b47bad2c-0894-4ab9-b1f3-e71857965cd9",
   "metadata": {
    "deletable": false,
    "editable": false
   },
   "source": [
    "<font size=\"+3\"><strong>Visualizing Data: plotly express</strong></font>"
   ]
  },
  {
   "cell_type": "markdown",
   "id": "89f98751-e767-45b4-acd2-8ce08d819701",
   "metadata": {
    "deletable": false,
    "editable": false
   },
   "source": [
    "There are many ways to interact with data, and one of the most powerful modes of interaction is through **visualizations**. Visualizations show data graphically, and are useful for exploring, analyzing, and presenting datasets. We use four libraries for making visualizations: [pandas](../%40textbook/07-visualization-pandas.ipynb), [Matplotlib](../%40textbook/06-visualization-matplotlib.ipynb), plotly express, and [seaborn](../%40textbook/09-visualization-seaborn.ipynb). In this section, we'll focus on using plotly express."
   ]
  },
  {
   "cell_type": "markdown",
   "id": "8acc153d-a19e-473e-a1be-5684b951e7da",
   "metadata": {
    "deletable": false,
    "editable": false
   },
   "source": [
    "# Scatter Plots"
   ]
  },
  {
   "cell_type": "markdown",
   "id": "12cd7145-e4a2-4b98-b083-fd72d76948db",
   "metadata": {
    "deletable": false,
    "editable": false
   },
   "source": [
    "A **scatter plot** is a graph that uses dots to represent values for two different numeric variables. The position of each dot on the horizontal and vertical axis indicates values for an individual data point. Scatter plots are used to observe relationships between variables, and are especially useful if you're looking for **correlations**."
   ]
  },
  {
   "cell_type": "code",
   "execution_count": null,
   "id": "3c5ad5e7-6667-42c6-9574-7b0e41835449",
   "metadata": {
    "deletable": false
   },
   "outputs": [],
   "source": [
    "import pandas as pd\n",
    "\n",
    "mexico_city1 = pd.read_csv(\"./data/mexico-city-real-estate-1.csv\")\n",
    "\n",
    "# clean the data and drop `NaNs`\n",
    "mexico_city1 = mexico_city1.drop(\n",
    "    [\"floor\", \"price_usd_per_m2\", \"expenses\", \"rooms\"], axis=1\n",
    ")\n",
    "mexico_city1 = mexico_city1.dropna(axis=0)\n",
    "mexico_city1.head()"
   ]
  },
  {
   "cell_type": "markdown",
   "id": "68c329a4-813e-4b96-8e9b-ed875167947c",
   "metadata": {
    "deletable": false,
    "editable": false
   },
   "source": [
    "After cleaning the data, we can use plotly express to draw scatter plots by specifying the DataFrame and the interested column names."
   ]
  },
  {
   "cell_type": "code",
   "execution_count": null,
   "id": "cf08232f-12a5-4219-b4c3-ad6a24b1f4b6",
   "metadata": {
    "deletable": false
   },
   "outputs": [],
   "source": [
    "import plotly.express as px\n",
    "\n",
    "fig = px.scatter(mexico_city1, x=\"price\", y=\"surface_covered_in_m2\")\n",
    "fig.show()"
   ]
  },
  {
   "cell_type": "markdown",
   "id": "cfdf7126-50fc-4643-87f8-e3c7b1dd1197",
   "metadata": {
    "deletable": false,
    "editable": false
   },
   "source": [
    "<font size=\"+1\">Practice</font> \n",
    "\n",
    "Plot the scatter plot for column \"price\" and \"surface_total_in_m2\"."
   ]
  },
  {
   "cell_type": "code",
   "execution_count": null,
   "id": "89fe4769-e99f-4226-a7a9-a2139ac533a1",
   "metadata": {
    "deletable": false
   },
   "outputs": [],
   "source": [
    "fig = ...\n",
    "fig.show()"
   ]
  },
  {
   "cell_type": "markdown",
   "id": "3a1c6fa1-f04c-43ca-89cd-a2bcf72f5038",
   "metadata": {
    "deletable": false,
    "editable": false
   },
   "source": [
    "# 3D Scatter Plots\n",
    "\n",
    "**Scatter plots** can summarize information in a DataFrame. Three dimensional scatter plots look great, but be careful: it can be difficult for people who might not be sure what they're looking at to accurately determine values of points in the plot. Still, scatter plots are useful for displaying relationships between three quantities that would be more difficult to observe in a two dimensional plot. \n",
    "\n",
    "Let's take a look at the first 50 rows of the `mexico-city-real-estate-1.csv` dataset."
   ]
  },
  {
   "cell_type": "code",
   "execution_count": null,
   "id": "40e7eed4-d076-4e9b-bcbf-e82e8da26a65",
   "metadata": {
    "deletable": false
   },
   "outputs": [],
   "source": [
    "import pandas as pd\n",
    "import plotly.express as px\n",
    "\n",
    "mexico_city1 = pd.read_csv(\"./data/mexico-city-real-estate-1.csv\")\n",
    "mexico_city1 = mexico_city1.drop(\n",
    "    [\"floor\", \"price_usd_per_m2\", \"expenses\", \"rooms\"], axis=1\n",
    ")\n",
    "mexico_city1 = mexico_city1.dropna(axis=0)\n",
    "mexico_city1[\n",
    "    [\"First Empty\", \"Country\", \"City\", \"Borough\", \"Second Empty\"]\n",
    "] = mexico_city1[\"place_with_parent_names\"].str.split(\"|\", 4, expand=True)\n",
    "mexico_city1 = mexico_city1.drop([\"First Empty\", \"Second Empty\"], axis=1)\n",
    "mexico_city1_subset = mexico_city1.loc[1:50]\n",
    "fig = px.scatter_3d(\n",
    "    mexico_city1_subset,\n",
    "    x=\"Borough\",\n",
    "    y=\"surface_covered_in_m2\",\n",
    "    z=\"price\",\n",
    "    symbol=\"property_type\",\n",
    "    color=\"property_type\",\n",
    "    labels={\n",
    "        \"surface_covered_in_m2\": \"Surface Covered in m^2\",\n",
    "        \"price\": \"Price\",\n",
    "        \"property_type\": \"Property Type\",\n",
    "    },\n",
    ")\n",
    "\n",
    "fig.show()"
   ]
  },
  {
   "cell_type": "markdown",
   "id": "09eeb1ce-811c-48c6-9f14-881580ebe9f6",
   "metadata": {
    "deletable": false,
    "editable": false
   },
   "source": [
    "Notice that the plot is interactive: you can rotate it zoom in or out. These kinds of plots also makes outliers easier to find; here, we can see that houses have higher prices than other types of properties."
   ]
  },
  {
   "cell_type": "markdown",
   "id": "dc98a955-5c6f-4129-9133-4db476a9b8e7",
   "metadata": {
    "deletable": false,
    "editable": false
   },
   "source": [
    "<font size=\"+1\">Practice</font> \n",
    "\n",
    "Modify the DataFrame to include columns for the base 10 log of `price` and `surface_covered_in_m2` and then plot these for the entire `mexico-city-real-estate-1.csv` dataset."
   ]
  },
  {
   "cell_type": "code",
   "execution_count": null,
   "id": "d226aa15-446e-4a65-8342-eec5c6db48b1",
   "metadata": {
    "deletable": false
   },
   "outputs": [],
   "source": [
    "import math\n",
    "\n"
   ]
  },
  {
   "cell_type": "markdown",
   "id": "842b6910-90f3-4e62-a7c9-4e6df9794723",
   "metadata": {
    "deletable": false,
    "editable": false
   },
   "source": [
    "# Mapbox Scatter Plots"
   ]
  },
  {
   "cell_type": "markdown",
   "id": "75cd0f32-cbbb-4152-b105-ae35e2101717",
   "metadata": {
    "deletable": false,
    "editable": false
   },
   "source": [
    "A **mapbox scatter plot** is a special kind of scatter plot that allows you to create scatter plots in two dimensions and then superimpose them on top of a map. Our `mexico-city-real-estate-1.csv` dataset is a good place to start, because it includes **location data**. After importing the dataset and removing rows with missing data, split the `lat-lon` column into two separate columns: one for `latitude` and the other for `longitude`. Then use these to make a mapbox plot. Unfortunately, at present this type of plot does not easily allow for marker shape to vary based on a column of the DataFrame."
   ]
  },
  {
   "cell_type": "code",
   "execution_count": null,
   "id": "82cb32d2-a9ac-457c-b1b5-0dda6781af20",
   "metadata": {
    "deletable": false
   },
   "outputs": [],
   "source": [
    "mexico_city1 = pd.read_csv(\"./data/mexico-city-real-estate-1.csv\")\n",
    "mexico_city1 = mexico_city1.drop(\n",
    "    [\"floor\", \"price_usd_per_m2\", \"expenses\", \"rooms\"], axis=1\n",
    ")\n",
    "mexico_city1 = mexico_city1.dropna(axis=0)\n",
    "mexico_city1[[\"latitude\", \"longitude\"]] = mexico_city1[\"lat-lon\"].str.split(\n",
    "    \",\", 2, expand=True\n",
    ")\n",
    "mexico_city1[\"latitude\"] = mexico_city1[\"latitude\"].astype(float)\n",
    "mexico_city1[\"longitude\"] = mexico_city1[\"longitude\"].astype(float)\n",
    "fig = px.scatter_mapbox(\n",
    "    mexico_city1,\n",
    "    lat=\"latitude\",\n",
    "    lon=\"longitude\",\n",
    "    color=\"property_type\",\n",
    "    mapbox_style=\"carto-positron\",\n",
    "    labels={\"property_type\": \"Property Type\"},\n",
    "    title=\"Distribution of Property Types for Sale in Mexico City\",\n",
    ")\n",
    "fig.show()"
   ]
  },
  {
   "cell_type": "markdown",
   "id": "a28db6e6-9047-4fa4-88bb-d969f8129eba",
   "metadata": {
    "deletable": false,
    "editable": false
   },
   "source": [
    "<font size=\"+1\">Practice</font> \n",
    "\n",
    "Create another column in the DataFrame with a log scale of the prices. Then create three separate plots, one for `stores`, another for `houses`, and a final one for `apartments`. Color the points in the plots by the log of the price."
   ]
  },
  {
   "cell_type": "code",
   "execution_count": null,
   "id": "29f86d25-c2db-46ec-b963-285cb4e13a11",
   "metadata": {
    "deletable": false
   },
   "outputs": [],
   "source": [
    "from math import log10\n",
    "\n"
   ]
  },
  {
   "cell_type": "markdown",
   "id": "711fd029-e10e-4461-8116-6002c59940d3",
   "metadata": {
    "deletable": false,
    "editable": false
   },
   "source": [
    "# Boxplots"
   ]
  },
  {
   "cell_type": "markdown",
   "id": "b3ae9d49-076e-4b42-b8ae-cbd5a458d5f9",
   "metadata": {
    "deletable": false,
    "editable": false
   },
   "source": [
    "A **boxplot** is a graph that shows the minimum, first quartile, median, third quartile, and the maximum values in a dataset. Boxplots are useful because they provide a visual summary of the data, enabling researchers to quickly identify mean values, the dispersion of the data set, and signs of skewness. In the following example, we will explore how to draw boxplots for specific columns of a DataFrame."
   ]
  },
  {
   "cell_type": "code",
   "execution_count": null,
   "id": "f1a06358-fa3d-473c-a075-2c8ddaba2e3d",
   "metadata": {
    "deletable": false
   },
   "outputs": [],
   "source": [
    "# Read Data\n",
    "mexico_city1 = pd.read_csv(\"./data/mexico-city-real-estate-1.csv\")\n",
    "\n",
    "# Clean the data and drop `NaNs`\n",
    "mexico_city1 = mexico_city1.drop(\n",
    "    [\"floor\", \"price_usd_per_m2\", \"expenses\", \"rooms\"], axis=1\n",
    ")\n",
    "mexico_city1 = mexico_city1.dropna(axis=0)\n",
    "\n",
    "# Exclude some outliers\n",
    "mexico_city1 = mexico_city1[mexico_city1[\"price\"] < 100000000]\n",
    "mexico_city1.head()"
   ]
  },
  {
   "cell_type": "markdown",
   "id": "f5cd5e13-96c6-4787-8cf2-14b486822cfd",
   "metadata": {
    "deletable": false,
    "editable": false
   },
   "source": [
    "Check the boxplot for column `\"price\"`:"
   ]
  },
  {
   "cell_type": "code",
   "execution_count": null,
   "id": "1a6a52a4-4f56-4183-8f1c-05dd424aeed8",
   "metadata": {
    "deletable": false
   },
   "outputs": [],
   "source": [
    "import plotly.express as px\n",
    "\n",
    "fig = px.box(mexico_city1, y=\"price\")\n",
    "fig.show()"
   ]
  },
  {
   "cell_type": "markdown",
   "id": "8d143ecf-bec8-4be8-9c3b-adc376edf23c",
   "metadata": {
    "deletable": false,
    "editable": false
   },
   "source": [
    "If you want to check the distribution of a column value by different categories, defined by another categorical column, you can add an `x` argument to specify the name of the categorical column. In the following example, we check the price distribution across different property types:"
   ]
  },
  {
   "cell_type": "code",
   "execution_count": null,
   "id": "b7394262-dbc0-472b-a8ec-9933e8df1c46",
   "metadata": {
    "deletable": false
   },
   "outputs": [],
   "source": [
    "fig = px.box(mexico_city1, x=\"property_type\", y=\"price\")\n",
    "fig.show()"
   ]
  },
  {
   "cell_type": "markdown",
   "id": "dd5e6523-1d76-4261-abdf-1a9d3859ffbc",
   "metadata": {
    "deletable": false,
    "editable": false
   },
   "source": [
    "<font size=\"+1\">Practice</font> \n",
    "\n",
    "Check the \"surface_covered_in_m2\" distribution by property types."
   ]
  },
  {
   "cell_type": "code",
   "execution_count": null,
   "id": "74343eb8-8dee-4fca-9109-f39702427d9d",
   "metadata": {
    "deletable": false
   },
   "outputs": [],
   "source": [
    "fig = ...\n",
    "fig.show()"
   ]
  },
  {
   "cell_type": "markdown",
   "id": "98ca9c18-760b-458e-84b7-7be9ac06054d",
   "metadata": {
    "deletable": false,
    "editable": false
   },
   "source": [
    "# Bar Chart"
   ]
  },
  {
   "cell_type": "markdown",
   "id": "ed626f81-f99c-4390-9ff5-322e413dc63f",
   "metadata": {
    "deletable": false,
    "editable": false
   },
   "source": [
    "A **bar chart** is a graph that shows all the values of a categorical variable in a dataset. They consist of an axis and a series of labeled horizontal or vertical bars. The bars depict frequencies of different values of a variable or simply the different values themselves. The numbers on the y-axis of a vertical bar chart or the x-axis of a horizontal bar chart are called the scale. \n",
    "\n",
    "In the following example, we will see some bar plots based on the Mexico City real estate dataset. Specifically, we will count the number of observations in each borough and plot them. We first need to read the data set and extract Borough and other location information from column `\"place_with_parent_names\"`."
   ]
  },
  {
   "cell_type": "code",
   "execution_count": null,
   "id": "7f59dfaf-f87a-420e-bbaf-79e23212a42c",
   "metadata": {
    "deletable": false
   },
   "outputs": [],
   "source": [
    "# Read Data\n",
    "mexico_city1 = pd.read_csv(\"./data/mexico-city-real-estate-1.csv\")\n",
    "\n",
    "# Clean the data and drop `NaNs`\n",
    "mexico_city1 = mexico_city1.drop(\n",
    "    [\"floor\", \"price_usd_per_m2\", \"expenses\", \"rooms\"], axis=1\n",
    ")\n",
    "\n",
    "# find location columns from place_with_parent_names\n",
    "mexico_city1[\n",
    "    [\"First Empty\", \"Country\", \"City\", \"Borough\", \"Second Empty\"]\n",
    "] = mexico_city1[\"place_with_parent_names\"].str.split(\"|\", 4, expand=True)\n",
    "mexico_city1 = mexico_city1.drop([\"First Empty\", \"Second Empty\"], axis=1)\n",
    "mexico_city1 = mexico_city1.dropna(axis=0)\n",
    "\n",
    "# Exclude some outliers\n",
    "mexico_city1 = mexico_city1[mexico_city1[\"price\"] < 100000000]\n",
    "mexico_city1 = mexico_city1[mexico_city1[\"Borough\"] != \"\"]\n",
    "\n",
    "mexico_city1.head()"
   ]
  },
  {
   "cell_type": "markdown",
   "id": "cbd1ed57-5764-49a9-ace6-959d67ebda43",
   "metadata": {
    "deletable": false,
    "editable": false
   },
   "source": [
    "We can calculate the number of real estate showing in the data set by Borough using `value_counts()`, then plot it as bar plot:"
   ]
  },
  {
   "cell_type": "code",
   "execution_count": null,
   "id": "151ed334-a5d2-464d-8e25-067db761e6ff",
   "metadata": {
    "deletable": false
   },
   "outputs": [],
   "source": [
    "# Use value_counts() to get the data\n",
    "mexico_city1[\"Borough\"].value_counts()"
   ]
  },
  {
   "cell_type": "code",
   "execution_count": null,
   "id": "264970e8-0589-4901-946c-84af15603edf",
   "metadata": {
    "deletable": false
   },
   "outputs": [],
   "source": [
    "# Plot value_counts() data\n",
    "fig = px.bar(mexico_city1[\"Borough\"].value_counts())\n",
    "fig.show()"
   ]
  },
  {
   "cell_type": "markdown",
   "id": "fce2b2fd-d776-48a0-bef4-8ad4aef771b2",
   "metadata": {
    "deletable": false,
    "editable": false
   },
   "source": [
    "We can plot more expressive bar plots by adding more arguments. For example, we can plot the number of observations by borough and property type. First of all, we need use `groupby` to calculate the aggregated counts for each Borough and property type combination:"
   ]
  },
  {
   "cell_type": "code",
   "execution_count": null,
   "id": "e695151b-1e0f-4dec-a93e-0f1278853653",
   "metadata": {
    "deletable": false
   },
   "outputs": [],
   "source": [
    "size_df = mexico_city1.groupby([\"Borough\", \"property_type\"], as_index=False).size()\n",
    "size_df.head()"
   ]
  },
  {
   "cell_type": "markdown",
   "id": "8f21d512-c040-4180-a519-141d2404031a",
   "metadata": {
    "deletable": false,
    "editable": false
   },
   "source": [
    "By specifying `x`, `y` and `color`, the following bar graph shows the total counts by Borough, with different property types showing in different colors. Note `y` has to be numerical, while `x` and `color` are usually categorical variables."
   ]
  },
  {
   "cell_type": "code",
   "execution_count": null,
   "id": "91ae93d8-cfd1-4847-b306-26bb0be2c47e",
   "metadata": {
    "deletable": false
   },
   "outputs": [],
   "source": [
    "fig = px.bar(size_df, x=\"Borough\", y=\"size\", color=\"property_type\", barmode=\"relative\")\n",
    "fig.show()"
   ]
  },
  {
   "cell_type": "markdown",
   "id": "c49f807a-1248-40ea-bea8-32730ea459da",
   "metadata": {
    "deletable": false,
    "editable": false
   },
   "source": [
    "Note the argument `barmode` is specified as 'relative', which is also the default value. In this mode, bars are stacked above each other. We can also use 'overlay' where bars are drawn on top of each other."
   ]
  },
  {
   "cell_type": "code",
   "execution_count": null,
   "id": "b33804eb-9c23-4866-b765-24645641b55c",
   "metadata": {
    "deletable": false
   },
   "outputs": [],
   "source": [
    "fig = px.bar(size_df, x=\"Borough\", y=\"size\", color=\"property_type\", barmode=\"overlay\")\n",
    "fig.show()"
   ]
  },
  {
   "cell_type": "markdown",
   "id": "8159a6d5-ce68-4583-af9d-a1d7c29763fa",
   "metadata": {
    "deletable": false,
    "editable": false
   },
   "source": [
    "If we want bars to be placed beside each other, we can specify `barmode` as \"group\":"
   ]
  },
  {
   "cell_type": "code",
   "execution_count": null,
   "id": "35de5515-05fa-4333-ae66-bb4e6f8786d0",
   "metadata": {
    "deletable": false
   },
   "outputs": [],
   "source": [
    "fig = px.bar(size_df, x=\"Borough\", y=\"size\", color=\"property_type\", barmode=\"group\")\n",
    "fig.show()"
   ]
  },
  {
   "cell_type": "markdown",
   "id": "0297a409-c747-4c60-8107-0988e89d4efe",
   "metadata": {
    "deletable": false,
    "editable": false
   },
   "source": [
    "<font size=\"+1\">Practice</font> \n",
    "\n",
    "Plot bar plot for the number of observations by property types in `\"mexico-city-real-estate-1.csv\"`."
   ]
  },
  {
   "cell_type": "code",
   "execution_count": null,
   "id": "1f2c1b39-6be5-4e35-b6eb-a216c9a62782",
   "metadata": {
    "deletable": false
   },
   "outputs": [],
   "source": [
    "bar_df = ...\n",
    "\n",
    "fig = ...\n",
    "fig.show()"
   ]
  },
  {
   "cell_type": "markdown",
   "id": "82040316-4390-430e-b80d-f9d6bfad21ce",
   "metadata": {
    "deletable": false,
    "editable": false
   },
   "source": [
    "# References and Further Reading\n",
    "- [Official plotly express Documentation on Scatter Plots](https://plotly.com/python/plotly-express/#scatter-line-area-and-bar-charts)\n",
    "- [Official plotly Express Documentation on 3D Plots](https://plotly.com/python/plotly-express/#3d-coordinates)\n",
    "- [Official plotly Documentation on Notebooks](https://plotly.com/python/ipython-notebook-tutorial/)\n",
    "- [plotly Community Forum Post on Axis Labeling](https://community.plotly.com/t/re-name-the-axes-in-plotly-express/39645/3)\n",
    "- [plotly express Official Documentation on Tile Maps](https://plotly.com/python/plotly-express/#tile-maps)\n",
    "- [plotly express Official Documentation on Figure Display](https://plotly.com/python/renderers/#setting-the-default-renderer)\n",
    "- [Online Tutorial on String Conversion in Pandas](https://www.statology.org/convert-string-to-float-pandas/)\n",
    "- [Official Pandas Documentation on using Lambda Functions on a Column](https://pandas.pydata.org/pandas-docs/stable/reference/api/pandas.DataFrame.apply.html)\n",
    "- [Official Seaborn Documentation on Generating a Heatmap](https://seaborn.pydata.org/generated/seaborn.heatmap.html)\n",
    "- [Online Tutorial on Correlation Matrices in Pandas](https://www.stackvidhya.com/plot-correlation-matrix-in-pandas-python/)\n",
    "- [Official Pandas Documentation on Correlation Matrices](https://pandas.pydata.org/pandas-docs/stable/reference/api/pandas.DataFrame.corr.html)\n",
    "- [Official Matplotlib Documentation on Colormaps](https://matplotlib.org/stable/tutorials/colors/colormaps.html)\n",
    "- [Official Pandas Documentation on Box Plots](https://pandas.pydata.org/pandas-docs/stable/user_guide/visualization.html#box-plots)\n",
    "- [Online Tutorial on Box Plots](https://www.statology.org/matplotlib-boxplot-by-group/)\n",
    "- [Online Tutorial on Axes Labels in Seaborn and Matplotlib](https://www.geeksforgeeks.org/rotate-axis-tick-labels-in-seaborn-and-matplotlib/)\n",
    "- [Matplotlib Gallery Example of an Annotated Heatmap](https://matplotlib.org/stable/gallery/images_contours_and_fields/image_annotated_heatmap.html#sphx-glr-gallery-images-contours-and-fields-image-annotated-heatmap-py)"
   ]
  },
  {
   "cell_type": "markdown",
   "id": "d7db0dd7-608c-4841-8b32-bb4336f19ae3",
   "metadata": {
    "deletable": false,
    "editable": false
   },
   "source": [
    "---\n",
    "Copyright © 2022 WorldQuant University. This\n",
    "content is licensed solely for personal use. Redistribution or\n",
    "publication of this material is strictly prohibited.\n"
   ]
  }
 ],
 "metadata": {
  "kernelspec": {
   "display_name": "Python 3 (ipykernel)",
   "language": "python",
   "name": "python3"
  },
  "language_info": {
   "codemirror_mode": {
    "name": "ipython",
    "version": 3
   },
   "file_extension": ".py",
   "mimetype": "text/x-python",
   "name": "python",
   "nbconvert_exporter": "python",
   "pygments_lexer": "ipython3",
   "version": "3.9.6"
  }
 },
 "nbformat": 4,
 "nbformat_minor": 5
}
