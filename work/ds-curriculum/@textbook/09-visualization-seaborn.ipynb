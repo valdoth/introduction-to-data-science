{
 "cells": [
  {
   "cell_type": "markdown",
   "id": "fdc92b89-84e2-4cf2-9b87-0925b7bd0d78",
   "metadata": {
    "deletable": false,
    "editable": false
   },
   "source": [
    "<font size=\"+3\"><strong>Visualizing Data: seaborn</strong></font>"
   ]
  },
  {
   "cell_type": "markdown",
   "id": "69bbcd08-a242-4812-9187-aad31b2235e0",
   "metadata": {
    "deletable": false,
    "editable": false
   },
   "source": [
    "There are many ways to interact with data, and one of the most powerful modes of interaction is through **visualizations**. Visualizations show data graphically, and are useful for exploring, analyzing, and presenting datasets. We use four libraries for making visualizations: [pandas](../%40textbook/07-visualization-pandas.ipynb), [Matplotlib](../%40textbook/06-visualization-matplotlib.ipynb), [plotly express](../%40textbook/08-visualization-plotly.ipynb), and seaborn. In this section, we'll focus on using seaborn."
   ]
  },
  {
   "cell_type": "markdown",
   "id": "00c44d9d-676d-4f1d-a4bc-824804e5ef96",
   "metadata": {
    "deletable": false,
    "editable": false
   },
   "source": [
    "# Scatter Plots"
   ]
  },
  {
   "cell_type": "markdown",
   "id": "d18a5924-db78-4b59-8722-f7bb1bcf3c78",
   "metadata": {
    "deletable": false,
    "editable": false
   },
   "source": [
    "A **scatter plot** is a graph that uses dots to represent values for two different numeric variables. The position of each dot on the horizontal and vertical axis indicates values for an individual data point. Scatter plots are used to observe relationships between variables, and are especially useful if you're looking for **correlations**. \n",
    "\n",
    "In the following example, we will see some scatter plots based on the Mexico City real estate data. Specifically, we can use scatter plot to show how `\"price\"` and `\"surface_covered_in_m2\"` are correlated. First we need to read the data set and do a little cleaning."
   ]
  },
  {
   "cell_type": "code",
   "execution_count": null,
   "id": "70717ff5-5138-4ba8-8318-2b9d09bcf143",
   "metadata": {
    "deletable": false
   },
   "outputs": [],
   "source": [
    "import pandas as pd\n",
    "import seaborn as sns\n",
    "\n",
    "# Read Data\n",
    "mexico_city1 = pd.read_csv(\"./data/mexico-city-real-estate-1.csv\")\n",
    "\n",
    "# Clean the data and drop `NaNs`\n",
    "mexico_city1 = mexico_city1.drop(\n",
    "    [\"floor\", \"price_usd_per_m2\", \"expenses\", \"rooms\"], axis=1\n",
    ")\n",
    "\n",
    "mexico_city1 = mexico_city1.dropna(axis=0)\n",
    "\n",
    "# Exclude some outliers\n",
    "mexico_city1 = mexico_city1[mexico_city1[\"price\"] < 100000000]\n",
    "\n",
    "mexico_city1.head()"
   ]
  },
  {
   "cell_type": "markdown",
   "id": "c611806f-bbf5-41db-a79b-2efc0e09e7fc",
   "metadata": {
    "deletable": false,
    "editable": false
   },
   "source": [
    "Use seaborn to plot the scatter plot for `\"price\"` and `\"surface_covered_in_m2\"`:"
   ]
  },
  {
   "cell_type": "code",
   "execution_count": null,
   "id": "25ce66f1-0704-4af3-88c6-758154aac6a1",
   "metadata": {
    "deletable": false
   },
   "outputs": [],
   "source": [
    "sns.scatterplot(data=mexico_city1, x=\"price\", y=\"surface_covered_in_m2\");"
   ]
  },
  {
   "cell_type": "markdown",
   "id": "e1ae61f5-566f-429c-943b-bc9af6c416ae",
   "metadata": {
    "deletable": false,
    "editable": false
   },
   "source": [
    "There is a very useful argument in `scatterplot` called `hue`. By specifying a categorical column as `hue`, seaborn can create a scatter plot between two variables in different categories with different colors. Let's check the following example using `\"property_type\"`:"
   ]
  },
  {
   "cell_type": "code",
   "execution_count": null,
   "id": "1b16fb22-82bb-4a42-b56f-34b7a5fc879d",
   "metadata": {
    "deletable": false
   },
   "outputs": [],
   "source": [
    "sns.scatterplot(\n",
    "    data=mexico_city1, x=\"price\", y=\"surface_covered_in_m2\", hue=\"property_type\"\n",
    ");"
   ]
  },
  {
   "cell_type": "markdown",
   "id": "7f2ac30c-3086-46c4-b675-3e1868b4a914",
   "metadata": {
    "deletable": false,
    "editable": false
   },
   "source": [
    "<font size=\"+1\">Practice</font>\n",
    "\n",
    "Plot a scatter plot for `\"price\"` and `\"surface_total_in_m2\"` by `\"property_type\"` for `\"mexico-city-real-estate-1.csv\"`:"
   ]
  },
  {
   "cell_type": "code",
   "execution_count": null,
   "id": "149065fd-b8e2-4a15-8bc6-963afca3bf80",
   "metadata": {
    "deletable": false
   },
   "outputs": [],
   "source": []
  },
  {
   "cell_type": "markdown",
   "id": "3e69f1c0-d388-4a9e-94a2-a9f1e378697a",
   "metadata": {
    "deletable": false,
    "editable": false
   },
   "source": [
    "# Bar Charts"
   ]
  },
  {
   "cell_type": "markdown",
   "id": "43a230ae-09bd-453f-8b48-2fd01e6acf1a",
   "metadata": {
    "deletable": false,
    "editable": false
   },
   "source": [
    "A **bar chart** is a graph that shows all the values of a categorical variable in a dataset. They consist of an axis and a series of labeled horizontal or vertical bars. The bars depict frequencies of different values of a variable or simply the different values themselves. The numbers on the y-axis of a vertical bar chart or the x-axis of a horizontal bar chart are called the scale. \n",
    "\n",
    "In the following example, we will see some bar plots based on the Mexico City real estate dataset. Specifically, we will count the number of observations in each borough and plot them. We first need to import the dataset and extract the borough and other location information from column `\"place_with_parent_names\"`."
   ]
  },
  {
   "cell_type": "code",
   "execution_count": null,
   "id": "12b55e6d-c462-4639-a9fc-9ced512db66b",
   "metadata": {
    "deletable": false
   },
   "outputs": [],
   "source": [
    "# Read Data\n",
    "mexico_city1 = pd.read_csv(\"./data/mexico-city-real-estate-1.csv\")\n",
    "\n",
    "# Clean the data and drop `NaNs`\n",
    "mexico_city1 = mexico_city1.drop(\n",
    "    [\"floor\", \"price_usd_per_m2\", \"expenses\", \"rooms\"], axis=1\n",
    ")\n",
    "\n",
    "# find location columns from place_with_parent_names\n",
    "mexico_city1[\n",
    "    [\"First Empty\", \"Country\", \"City\", \"Borough\", \"Second Empty\"]\n",
    "] = mexico_city1[\"place_with_parent_names\"].str.split(\"|\", 4, expand=True)\n",
    "mexico_city1 = mexico_city1.drop([\"First Empty\", \"Second Empty\"], axis=1)\n",
    "mexico_city1 = mexico_city1.dropna(axis=0)\n",
    "\n",
    "# Exclude some outliers\n",
    "mexico_city1 = mexico_city1[mexico_city1[\"price\"] < 100000000]\n",
    "mexico_city1 = mexico_city1[mexico_city1[\"Borough\"] != \"\"]\n",
    "\n",
    "mexico_city1.head()"
   ]
  },
  {
   "cell_type": "markdown",
   "id": "95b01fae-cfb6-4cc2-b11d-5fd3de3f1d63",
   "metadata": {
    "deletable": false,
    "editable": false
   },
   "source": [
    "Let's check the example of a bar plot showing the value counts of each borough in the dataset. We first need to create a DataFrame showing the value counts:"
   ]
  },
  {
   "cell_type": "code",
   "execution_count": null,
   "id": "48ecf872-32d8-466c-b0f3-380967cae763",
   "metadata": {
    "deletable": false
   },
   "outputs": [],
   "source": [
    "bar_df = pd.DataFrame(mexico_city1[\"Borough\"].value_counts()).reset_index()\n",
    "bar_df"
   ]
  },
  {
   "cell_type": "markdown",
   "id": "ca25f910-b93e-4af7-8b69-2b1fecb418be",
   "metadata": {
    "deletable": false,
    "editable": false
   },
   "source": [
    "Since there are 16 different categories in Borough, we should increase the default plot size and rotate the x axis to make the plot more readable using the following syntax:"
   ]
  },
  {
   "cell_type": "code",
   "execution_count": null,
   "id": "3aac8242-10de-467b-8794-77789765774a",
   "metadata": {
    "deletable": false
   },
   "outputs": [],
   "source": [
    "# Increase plot size\n",
    "sns.set(rc={\"figure.figsize\": (15, 4)})\n",
    "\n",
    "# Plot the bar plot\n",
    "ax = sns.barplot(data=bar_df, x=\"index\", y=\"Borough\")\n",
    "\n",
    "# Rotate the x axis\n",
    "ax.set_xticklabels(ax.get_xticklabels(), rotation=75)"
   ]
  },
  {
   "cell_type": "markdown",
   "id": "011607b9-b163-4aef-9a43-9ed9b32875eb",
   "metadata": {
    "deletable": false,
    "editable": false
   },
   "source": [
    "<font size=\"+1\">Practice</font>\n",
    "\n",
    "Plot a bar plot showing the value counts for property types in `\"mexico-city-real-estate-1.csv\"`:"
   ]
  },
  {
   "cell_type": "code",
   "execution_count": null,
   "id": "0202ee1f-815b-4983-9057-137a30703d2d",
   "metadata": {
    "deletable": false
   },
   "outputs": [],
   "source": [
    "bar_df = ...\n"
   ]
  },
  {
   "cell_type": "markdown",
   "id": "c775f3e9-a4d7-4e43-b884-87fb25564a02",
   "metadata": {
    "deletable": false,
    "editable": false
   },
   "source": [
    "# Correlation Heatmaps\n",
    "\n",
    "A **correlation heatmap** shows the relative strength of correlations between the variables in a dataset. Here's what the code looks like:"
   ]
  },
  {
   "cell_type": "code",
   "execution_count": null,
   "id": "6f6bf435-8be8-40e7-b428-93e80163bf59",
   "metadata": {
    "deletable": false
   },
   "outputs": [],
   "source": [
    "import pandas as pd\n",
    "import seaborn as sns\n",
    "\n",
    "mexico_city1 = pd.read_csv(\"./data/mexico-city-real-estate-1.csv\")\n",
    "mexico_city1 = mexico_city1.drop(\n",
    "    [\"floor\", \"price_usd_per_m2\", \"expenses\", \"rooms\"], axis=1\n",
    ")\n",
    "mexico_city1 = mexico_city1.dropna(axis=0)\n",
    "mexico_city1_numeric = mexico_city1.select_dtypes(include=\"number\")\n",
    "corr = mexico_city1_numeric.corr(method=\"pearson\")\n",
    "sns.heatmap(corr)"
   ]
  },
  {
   "cell_type": "markdown",
   "id": "48736b1c-f9b0-4342-8f95-fc3c3bd01d09",
   "metadata": {
    "deletable": false,
    "editable": false
   },
   "source": [
    "Notice that we dropped the columns and rows with missing entries before plotting the graph.\n",
    "\n",
    "This heatmap is showing us what we might already have suspected: the price is moderately positively correlated with the size of the properties. "
   ]
  },
  {
   "cell_type": "markdown",
   "id": "7e6f49b8-1208-410b-ad78-e2f798eb466b",
   "metadata": {
    "deletable": false,
    "editable": false
   },
   "source": [
    "<font size=\"+1\">Practice</font>\n",
    "\n",
    "The seaborn documentation on heat maps indicates how to add numeric labels to each cell and how to use a different colormap. Modify the plot to use the `viridis` colormap, have a linewidth of 0.5 between each cell and have numeric labels for each cell."
   ]
  },
  {
   "cell_type": "code",
   "execution_count": null,
   "id": "1d4fda21-9a2c-4297-bd13-e2b693366332",
   "metadata": {
    "deletable": false
   },
   "outputs": [],
   "source": []
  },
  {
   "cell_type": "markdown",
   "id": "bcd142fa-be58-4679-a88a-f91bd452b48a",
   "metadata": {
    "deletable": false,
    "editable": false
   },
   "source": [
    "# References and Further Reading\n",
    "- [Official Plotly Express Documentation on Scatter Plots](https://plotly.com/python/plotly-express/#scatter-line-area-and-bar-charts)\n",
    "- [Official Plotly Express Documentation on 3D Plots](https://plotly.com/python/plotly-express/#3d-coordinates)\n",
    "- [Official Plotly Documentation on Notebooks](https://plotly.com/python/ipython-notebook-tutorial/)\n",
    "- [Plotly Community Forum Post on Axis Labeling](https://community.plotly.com/t/re-name-the-axes-in-plotly-express/39645/3)\n",
    "- [Plotly Express Official Documentation on Tile Maps](https://plotly.com/python/plotly-express/#tile-maps)\n",
    "- [Plotly Express Official Documentation on Figure Display](https://plotly.com/python/renderers/#setting-the-default-renderer)\n",
    "- [Online Tutorial on String Conversion in Pandas](https://www.statology.org/convert-string-to-float-pandas/)\n",
    "- [Official Pandas Documentation on using Lambda Functions on a Column](https://pandas.pydata.org/pandas-docs/stable/reference/api/pandas.DataFrame.apply.html)\n",
    "- [Official seaborn Documentation on Generating a Heatmap](https://seaborn.pydata.org/generated/seaborn.heatmap.html)\n",
    "- [Online Tutorial on Correlation Matrices in Pandas](https://www.stackvidhya.com/plot-correlation-matrix-in-pandas-python/)\n",
    "- [Official Pandas Documentation on Correlation Matrices](https://pandas.pydata.org/pandas-docs/stable/reference/api/pandas.DataFrame.corr.html)\n",
    "- [Official Matplotlib Documentation on Colormaps](https://matplotlib.org/stable/tutorials/colors/colormaps.html)\n",
    "- [Official Pandas Documentation on Box Plots](https://pandas.pydata.org/pandas-docs/stable/user_guide/visualization.html#box-plots)\n",
    "- [Online Tutorial on Box Plots](https://www.statology.org/matplotlib-boxplot-by-group/)\n",
    "- [Online Tutorial on Axes Labels in seaborn and Matplotlib](https://www.geeksforgeeks.org/rotate-axis-tick-labels-in-seaborn-and-matplotlib/)\n",
    "- [Matplotlib Gallery Example of an Annotated Heatmap](https://matplotlib.org/stable/gallery/images_contours_and_fields/image_annotated_heatmap.html#sphx-glr-gallery-images-contours-and-fields-image-annotated-heatmap-py)"
   ]
  },
  {
   "cell_type": "markdown",
   "id": "2f767f45",
   "metadata": {
    "deletable": false,
    "editable": false
   },
   "source": [
    "---\n",
    "Copyright © 2022 WorldQuant University. This\n",
    "content is licensed solely for personal use. Redistribution or\n",
    "publication of this material is strictly prohibited.\n"
   ]
  }
 ],
 "metadata": {
  "kernelspec": {
   "display_name": "Python 3 (ipykernel)",
   "language": "python",
   "name": "python3"
  },
  "language_info": {
   "codemirror_mode": {
    "name": "ipython",
    "version": 3
   },
   "file_extension": ".py",
   "mimetype": "text/x-python",
   "name": "python",
   "nbconvert_exporter": "python",
   "pygments_lexer": "ipython3",
   "version": "3.9.6"
  }
 },
 "nbformat": 4,
 "nbformat_minor": 5
}
