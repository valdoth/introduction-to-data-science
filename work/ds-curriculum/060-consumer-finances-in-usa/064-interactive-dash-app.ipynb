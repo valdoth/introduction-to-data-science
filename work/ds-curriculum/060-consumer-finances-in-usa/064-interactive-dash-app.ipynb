{
 "cells": [
  {
   "cell_type": "markdown",
   "id": "af32b387-69b1-4676-914a-095e88c780d4",
   "metadata": {
    "deletable": false,
    "editable": false
   },
   "source": [
    "<font size=\"+3\"><strong>6.4. Interactive Dashboard</strong></font>"
   ]
  },
  {
   "cell_type": "markdown",
   "id": "62449b42-769f-413e-b478-6e52785a4af8",
   "metadata": {
    "deletable": false,
    "editable": false
   },
   "source": [
    "In the last lesson, we built a model based on the highest-variance features in our dataset and created several visualizations to communicate our results. In this lesson, we're going to combine all of these elements into a dynamic web application that will allow users to choose their own features, build a model, and evaluate its performance through a graphic user interface. In other words, you'll create a tool that will allow anyone to build a model without code. "
   ]
  },
  {
   "cell_type": "markdown",
   "id": "4dbca003-9143-44c2-91ee-5e5f1e016ab2",
   "metadata": {
    "deletable": false,
    "editable": false
   },
   "source": [
    "<div class=\"alert alert-block alert-warning\">\n",
    "<p><b>Warning:</b> If you have issues with your app launching during this project, try restarting your kernel and re-running the notebook from the beginning. Go to <b>Kernel</b> > <b>Restart Kernel and Clear All Outputs</b>.</p>\n",
    "<p>If that doesn't work, close the browser window for your virtual machine, and then relaunch it from the \"Overview\" section of the WQU learning platform.</p> \n",
    "</div>"
   ]
  },
  {
   "cell_type": "code",
   "execution_count": null,
   "id": "ca5eb70c-c80e-430e-bf38-df36ceb397fd",
   "metadata": {
    "deletable": false,
    "editable": false,
    "init_cell": true
   },
   "outputs": [],
   "source": [
    "\n",
    "import pandas as pd\n",
    "import plotly.express as px\n",
    "import wqet_grader\n",
    "from dash import Input, Output, dcc, html\n",
    "from IPython.display import VimeoVideo\n",
    "from jupyter_dash import JupyterDash\n",
    "from scipy.stats.mstats import trimmed_var\n",
    "from sklearn.cluster import KMeans\n",
    "from sklearn.decomposition import PCA\n",
    "from sklearn.metrics import silhouette_score\n",
    "from sklearn.pipeline import make_pipeline\n",
    "from sklearn.preprocessing import StandardScaler\n",
    "\n",
    "wqet_grader.init(\"Project 6 Assessment\")\n",
    "\n",
    "\n",
    "JupyterDash.infer_jupyter_proxy_config()"
   ]
  },
  {
   "cell_type": "code",
   "execution_count": null,
   "id": "519c9f52-ceba-4a84-811d-6061916bfd10",
   "metadata": {
    "deletable": false,
    "editable": false,
    "init_cell": true
   },
   "outputs": [],
   "source": [
    "VimeoVideo(\"715724401\", h=\"062cb7d8cb\", width=600)"
   ]
  },
  {
   "cell_type": "markdown",
   "id": "09d45f07-ad60-470a-b546-5f81f6501508",
   "metadata": {
    "deletable": false,
    "editable": false
   },
   "source": [
    "# Prepare Data"
   ]
  },
  {
   "cell_type": "markdown",
   "id": "aa1a1a1f-6c1a-419d-a792-f2376b17e66f",
   "metadata": {
    "deletable": false,
    "editable": false
   },
   "source": [
    "As always, we'll start by bringing our data into the project using a `wrangle` function."
   ]
  },
  {
   "cell_type": "markdown",
   "id": "524ddb91-b26e-46c8-a31f-ae32473240d4",
   "metadata": {
    "deletable": false,
    "editable": false
   },
   "source": [
    "## Import"
   ]
  },
  {
   "cell_type": "code",
   "execution_count": null,
   "id": "682f4b92-537c-4215-8081-11e494ec6544",
   "metadata": {
    "deletable": false,
    "editable": false,
    "init_cell": true
   },
   "outputs": [],
   "source": [
    "VimeoVideo(\"715724313\", h=\"711e785135\", width=600)"
   ]
  },
  {
   "cell_type": "markdown",
   "id": "30f14287-a675-47db-bf79-7c2160e87e0e",
   "metadata": {
    "deletable": false,
    "editable": false
   },
   "source": [
    "**Task 6.4.1:** Complete the `wrangle` function below, using the docstring as a guide. Then use your function to read the file `\"data/SCFP2019.csv.gz\"` into a DataFrame. "
   ]
  },
  {
   "cell_type": "code",
   "execution_count": null,
   "id": "a9838abc-c3ab-4206-a40d-de4bee1d0be9",
   "metadata": {
    "deletable": false
   },
   "outputs": [],
   "source": [
    "def wrangle():\n",
    "\n",
    "    \"\"\"Read SCF data file into ``DataFrame``.\n",
    "\n",
    "    Returns only credit fearful households whose net worth is less than $2 million.\n",
    "\n",
    "    Parameters\n",
    "    ----------\n",
    "    filepath : str\n",
    "        Location of CSV file.\n",
    "    \"\"\"\n",
    "    \n",
    "    return df"
   ]
  },
  {
   "cell_type": "code",
   "execution_count": null,
   "id": "0d5e7904-a278-4005-96e2-461ef3b7aed5",
   "metadata": {
    "deletable": false
   },
   "outputs": [],
   "source": [
    "df = ...\n",
    "print(df.shape)\n",
    "df.head()"
   ]
  },
  {
   "cell_type": "markdown",
   "id": "14c46dc7-23ae-4194-adc9-8be47cff4090",
   "metadata": {
    "deletable": false,
    "editable": false
   },
   "source": [
    "# Build Dashboard"
   ]
  },
  {
   "cell_type": "markdown",
   "id": "ca16e01a-9139-425f-9d11-c5b22fe3fb82",
   "metadata": {
    "deletable": false,
    "editable": false
   },
   "source": [
    "It's app time! There are lots of steps to follow here, but, by the end, you'll have made an interactive dashboard! We'll start with the layout."
   ]
  },
  {
   "cell_type": "markdown",
   "id": "063b0371-9a99-443e-9cdb-9129813db84c",
   "metadata": {
    "deletable": false,
    "editable": false
   },
   "source": [
    "## Application Layout"
   ]
  },
  {
   "cell_type": "markdown",
   "id": "97ba509a-e351-4f25-af26-06677b361d51",
   "metadata": {
    "deletable": false,
    "editable": false
   },
   "source": [
    "First, instantiate the application."
   ]
  },
  {
   "cell_type": "code",
   "execution_count": null,
   "id": "5bb3068b-2e26-402e-a247-026e21ee07a4",
   "metadata": {
    "deletable": false,
    "editable": false,
    "init_cell": true
   },
   "outputs": [],
   "source": [
    "VimeoVideo(\"715724244\", h=\"41e32f352f\", width=600)"
   ]
  },
  {
   "cell_type": "markdown",
   "id": "beeb5780-037c-442b-8c3c-1c1edf75e702",
   "metadata": {
    "deletable": false,
    "editable": false
   },
   "source": [
    "**Task 6.4.2:** Instantiate a `JupyterDash` application and assign it to the variable name `app`."
   ]
  },
  {
   "cell_type": "code",
   "execution_count": null,
   "id": "31c32471-9621-47c3-afae-4ca46930c1e8",
   "metadata": {
    "deletable": false
   },
   "outputs": [],
   "source": [
    "app = ..."
   ]
  },
  {
   "cell_type": "markdown",
   "id": "e34359f0-f25f-4778-b5bd-d556c86502b7",
   "metadata": {
    "deletable": false,
    "editable": false
   },
   "source": [
    "Then, let's give the app some labels."
   ]
  },
  {
   "cell_type": "code",
   "execution_count": null,
   "id": "2bd2692c-ce09-49e1-afc7-75ef2994e9b0",
   "metadata": {
    "deletable": false,
    "editable": false,
    "init_cell": true
   },
   "outputs": [],
   "source": [
    "VimeoVideo(\"715724173\", h=\"21f2757631\", width=600)"
   ]
  },
  {
   "cell_type": "markdown",
   "id": "fb919e8c-f402-4fe9-badb-bfc2f2e9e498",
   "metadata": {
    "deletable": false,
    "editable": false
   },
   "source": [
    "**Task 6.4.3:** Start building the layout of your `app` by creating a `Div` object that has two child objects: an `H1` header that reads `\"Survey of Consumer Finances\"` and an `H2` header that reads `\"High Variance Features\"`."
   ]
  },
  {
   "cell_type": "markdown",
   "id": "99dfb9a5-ed31-4f52-9181-acf9039a3355",
   "metadata": {
    "deletable": false,
    "editable": false
   },
   "source": [
    "<div class=\"alert alert-block alert-info\">\n",
    "<b>Note:</b> We're going to build the layout for our application iteratively. So be prepared to return to this block of code several times as we add features.\n",
    "</div>"
   ]
  },
  {
   "cell_type": "code",
   "execution_count": null,
   "id": "bb6f5bcc-e481-418d-b091-03c467721d3d",
   "metadata": {
    "deletable": false
   },
   "outputs": [],
   "source": [
    "app.layout = ..."
   ]
  },
  {
   "cell_type": "markdown",
   "id": "5d5402d4-4d49-46d6-87a4-75b1870b2597",
   "metadata": {
    "deletable": false,
    "editable": false
   },
   "source": [
    "Eventually, the app we make will have several interactive parts. We'll start with a bar chart."
   ]
  },
  {
   "cell_type": "markdown",
   "id": "f720959c-1648-44f2-a1b0-b436fa605eb5",
   "metadata": {
    "deletable": false,
    "editable": false
   },
   "source": [
    "## Variance Bar Chart"
   ]
  },
  {
   "cell_type": "markdown",
   "id": "fb81db97-f3f2-4e79-88af-2ad1b44b8d2e",
   "metadata": {
    "deletable": false,
    "editable": false
   },
   "source": [
    "No matter how well-designed the chart might be, it won't show up in the app unless we add it to the dashboard as an object first."
   ]
  },
  {
   "cell_type": "code",
   "execution_count": null,
   "id": "4b2e4eb4-ba5d-491d-a524-b40f7e5d5835",
   "metadata": {
    "deletable": false,
    "editable": false,
    "init_cell": true
   },
   "outputs": [],
   "source": [
    "VimeoVideo(\"715724086\", h=\"e9ed963958\", width=600)"
   ]
  },
  {
   "cell_type": "markdown",
   "id": "ae81dc19-c25c-4504-b5cf-f065736ce2a6",
   "metadata": {
    "deletable": false,
    "editable": false
   },
   "source": [
    "**Task 6.4.4:** Add a `Graph` object to your application's layout. Be sure to give it the id `\"bar-chart\"`."
   ]
  },
  {
   "cell_type": "markdown",
   "id": "5dba69c3-935e-47b4-80f4-7105360f1288",
   "metadata": {
    "deletable": false,
    "editable": false
   },
   "source": [
    "Just like we did last time, we need to retrieve the features with the highest variance."
   ]
  },
  {
   "cell_type": "code",
   "execution_count": null,
   "id": "3a50e167-7659-421c-a9f3-9e75bf7b8b87",
   "metadata": {
    "deletable": false,
    "editable": false,
    "init_cell": true
   },
   "outputs": [],
   "source": [
    "VimeoVideo(\"715724816\", h=\"80ec24d3d6\", width=600)"
   ]
  },
  {
   "cell_type": "markdown",
   "id": "18ab681b-e602-4c22-9f22-22ef5f063bbe",
   "metadata": {
    "deletable": false,
    "editable": false
   },
   "source": [
    "**Task 6.4.5:** Create a `get_high_var_features` function that returns the five highest-variance features in a DataFrame. Use the docstring for guidance. "
   ]
  },
  {
   "cell_type": "code",
   "execution_count": null,
   "id": "34b08cee-6d89-4a3c-b573-2f36f1b88959",
   "metadata": {
    "deletable": false
   },
   "outputs": [],
   "source": [
    "def get_high_var_features():\n",
    "\n",
    "    \"\"\"Returns the five highest-variance features of ``df``.\n",
    "\n",
    "    Parameters\n",
    "    ----------\n",
    "    trimmed : bool, default=True\n",
    "        If ``True``, calculates trimmed variance, removing bottom and top 10%\n",
    "        of observations.\n",
    "\n",
    "    return_feat_names : bool, default=False\n",
    "        If ``True``, returns feature names as a ``list``. If ``False``\n",
    "        returns ``Series``, where index is feature names and values are\n",
    "        variances.\n",
    "    \"\"\"\n",
    "    \n",
    "    return top_five_features"
   ]
  },
  {
   "cell_type": "markdown",
   "id": "e637f419-9b0e-44b6-9624-464b5144aeba",
   "metadata": {
    "deletable": false,
    "editable": false
   },
   "source": [
    "Now that we have our top five features, we can use a function to return them in a bar chart."
   ]
  },
  {
   "cell_type": "code",
   "execution_count": null,
   "id": "01d66d7d-a838-4e68-91b1-b9d196940fc1",
   "metadata": {
    "deletable": false,
    "editable": false,
    "init_cell": true
   },
   "outputs": [],
   "source": [
    "VimeoVideo(\"715724735\", h=\"5238a5c518\", width=600)"
   ]
  },
  {
   "cell_type": "markdown",
   "id": "da29b216-6595-47f3-b319-bed3a625076f",
   "metadata": {
    "deletable": false,
    "editable": false
   },
   "source": [
    "**Task 6.4.6:** Create a `serve_bar_chart` function that returns a plotly express bar chart of the five highest-variance features. You should use `get_high_var_features` as a helper function. Follow the docstring for guidance."
   ]
  },
  {
   "cell_type": "code",
   "execution_count": null,
   "id": "2f8cd50f-db8a-4bce-a07e-ca1f479ea271",
   "metadata": {
    "deletable": false
   },
   "outputs": [],
   "source": [
    "\n",
    "def serve_bar_chart():\n",
    "\n",
    "    \"\"\"Returns a horizontal bar chart of five highest-variance features.\n",
    "\n",
    "    Parameters\n",
    "    ----------\n",
    "    trimmed : bool, default=True\n",
    "        If ``True``, calculates trimmed variance, removing bottom and top 10%\n",
    "        of observations.\n",
    "    \"\"\"\n",
    "    \n",
    "    return fig"
   ]
  },
  {
   "cell_type": "markdown",
   "id": "a5187149-7035-4be2-b465-9980e73d27d6",
   "metadata": {
    "deletable": false,
    "editable": false
   },
   "source": [
    "Now, add the actual chart to the app."
   ]
  },
  {
   "cell_type": "code",
   "execution_count": null,
   "id": "5821ceba-e7b7-4d6e-8de5-f2cae3a35f8b",
   "metadata": {
    "deletable": false,
    "editable": false,
    "init_cell": true
   },
   "outputs": [],
   "source": [
    "VimeoVideo(\"715724706\", h=\"b672dd9202\", width=600)"
   ]
  },
  {
   "cell_type": "markdown",
   "id": "3ef0141d-5942-4f50-91c7-135b5d143dbc",
   "metadata": {
    "deletable": false,
    "editable": false
   },
   "source": [
    "**Task 6.4.7:** Use your `serve_bar_chart` function to add a bar chart to `\"bar-chart\"`. "
   ]
  },
  {
   "cell_type": "markdown",
   "id": "9e839a41-5d9e-45a5-8eee-e296dad04add",
   "metadata": {
    "deletable": false,
    "editable": false
   },
   "source": [
    "What we've done so far hasn't been all that different from other visualizations we've built in the past. Most of those charts have been static, but this one's going to be interactive. Let's add a radio button to give people something to play with."
   ]
  },
  {
   "cell_type": "code",
   "execution_count": null,
   "id": "4988b363-b0f7-4a61-b46e-b9a94b9682d2",
   "metadata": {
    "deletable": false,
    "editable": false,
    "init_cell": true
   },
   "outputs": [],
   "source": [
    "VimeoVideo(\"715724662\", h=\"957a128506\", width=600)"
   ]
  },
  {
   "cell_type": "markdown",
   "id": "2bec4f98-a4d3-4811-bfa9-4af90d0874b0",
   "metadata": {
    "deletable": false,
    "editable": false
   },
   "source": [
    "**Task 6.4.8:** Add a radio button to your application's layout. It should have two options: `\"trimmed\"` (which carries the value `True`) and `\"not trimmed\"` (which carries the value `False`). Be sure to give it the id `\"trim-button\"`."
   ]
  },
  {
   "cell_type": "markdown",
   "id": "ebd771d3-116c-4886-953d-45e3e242f36f",
   "metadata": {
    "deletable": false,
    "editable": false
   },
   "source": [
    "Now that we have code to create our bar chart, a place in our app to put it, and a button to manipulate it, let's connect all three elements."
   ]
  },
  {
   "cell_type": "code",
   "execution_count": null,
   "id": "502624cd-c881-4d86-a3e0-f0195677c264",
   "metadata": {
    "deletable": false,
    "editable": false,
    "init_cell": true
   },
   "outputs": [],
   "source": [
    "VimeoVideo(\"715724573\", h=\"7de7932f70\", width=600)"
   ]
  },
  {
   "cell_type": "markdown",
   "id": "d63a7013-17c8-4e8f-b0bb-476c77c9000e",
   "metadata": {
    "deletable": false,
    "editable": false
   },
   "source": [
    "**Task 6.4.9:** Add a callback decorator to your `serve_bar_chart` function. The callback input should be the value returned by `\"trim-button\"`, and the output should be directed to `\"bar-chart\"`."
   ]
  },
  {
   "cell_type": "markdown",
   "id": "f2a05787-a170-4db5-821a-9f1aa9baf925",
   "metadata": {
    "deletable": false,
    "editable": false
   },
   "source": [
    "When you're satisfied with your bar chart and radio buttons, scroll down to the bottom of this page and run the last block of code to see your work in action!"
   ]
  },
  {
   "cell_type": "markdown",
   "id": "4839f4b4-e967-4a11-9d57-73f7db0e0c18",
   "metadata": {
    "deletable": false,
    "editable": false
   },
   "source": [
    "## K-means Slider and Metrics"
   ]
  },
  {
   "cell_type": "markdown",
   "id": "17c1963f-bd30-4973-a6b4-c4a0ebbf027a",
   "metadata": {
    "deletable": false,
    "editable": false
   },
   "source": [
    "Okay, so now our app has a radio button, but that's only one thing for a viewer to interact with. Buttons are fun, but what if we made a slider to help people see what it means for the number of clusters to change. Let's do it!\n",
    "\n",
    "Again, start by adding some objects to the layout."
   ]
  },
  {
   "cell_type": "code",
   "execution_count": null,
   "id": "88408852-31a6-4b1a-9f04-a3b80f975820",
   "metadata": {
    "deletable": false,
    "editable": false,
    "init_cell": true
   },
   "outputs": [],
   "source": [
    "VimeoVideo(\"715725482\", h=\"88aa75b1e2\", width=600)"
   ]
  },
  {
   "cell_type": "markdown",
   "id": "24f0b8ed-b62a-46e6-a4fc-fe009d0b87bb",
   "metadata": {
    "deletable": false,
    "editable": false
   },
   "source": [
    "**Task 6.4.10:** Add two text objects to your application's layout: an `H2` header that reads `\"K-means Clustering\"` and an `H3` header that reads `\"Number of Clusters (k)\"`. "
   ]
  },
  {
   "cell_type": "markdown",
   "id": "520232f3-4c2b-4fe2-bad8-af265953e44e",
   "metadata": {
    "deletable": false,
    "editable": false
   },
   "source": [
    "Now add the slider."
   ]
  },
  {
   "cell_type": "code",
   "execution_count": null,
   "id": "7e082990-2d03-4a58-b1cc-bcc72d5a2da7",
   "metadata": {
    "deletable": false,
    "editable": false,
    "init_cell": true
   },
   "outputs": [],
   "source": [
    "VimeoVideo(\"715725430\", h=\"5d24607b0c\", width=600)"
   ]
  },
  {
   "cell_type": "markdown",
   "id": "574120df-2476-4f0e-9046-0f458df44625",
   "metadata": {
    "deletable": false,
    "editable": false
   },
   "source": [
    "**Task 6.4.11:** Add a slider to your application's layout. It should range from `2` to `12`. Be sure to give it the id `\"k-slider\"`."
   ]
  },
  {
   "cell_type": "markdown",
   "id": "d6d3bbce-9d66-4374-923a-f15b7cf8fe62",
   "metadata": {
    "deletable": false,
    "editable": false
   },
   "source": [
    "And add the whole thing to the app."
   ]
  },
  {
   "cell_type": "code",
   "execution_count": null,
   "id": "8ce73f9e-dfd6-4ef0-97bf-d1b04e95357a",
   "metadata": {
    "deletable": false,
    "editable": false,
    "init_cell": true
   },
   "outputs": [],
   "source": [
    "VimeoVideo(\"715725405\", h=\"8944b9c674\", width=600)"
   ]
  },
  {
   "cell_type": "markdown",
   "id": "576f3cc9-a507-45c5-bdf3-e4cd02fd6815",
   "metadata": {
    "deletable": false,
    "editable": false
   },
   "source": [
    "**Task 6.4.12:** Add a `Div` object to your applications layout. Be sure to give it the id `\"metrics\"`."
   ]
  },
  {
   "cell_type": "markdown",
   "id": "b81942f5-16fb-459c-90ae-38629141adb5",
   "metadata": {
    "deletable": false,
    "editable": false
   },
   "source": [
    "So now we have a bar chart that changes with a radio button, and a slider that changes... well, nothing yet. Let's give it a model to work with."
   ]
  },
  {
   "cell_type": "code",
   "execution_count": null,
   "id": "3af52001-e8d6-4024-870b-4eed711c3460",
   "metadata": {
    "deletable": false,
    "editable": false,
    "init_cell": true
   },
   "outputs": [],
   "source": [
    "VimeoVideo(\"715725235\", h=\"55229ebf88\", width=600)"
   ]
  },
  {
   "cell_type": "markdown",
   "id": "1bdf9584-f880-458b-a923-aff95de5c4e3",
   "metadata": {
    "deletable": false,
    "editable": false
   },
   "source": [
    "**Task 6.4.13:** Create a `get_model_metrics` function that builds, trains, and evaluates `KMeans` model. Use the docstring for guidance. Note that, like the model you made in the last lesson, your model here should be a pipeline that includes a `StandardScaler`. Once you're done, submit your function to the grader."
   ]
  },
  {
   "cell_type": "code",
   "execution_count": null,
   "id": "48dad925-6043-48a8-9d43-ae53bdefbbe2",
   "metadata": {
    "deletable": false
   },
   "outputs": [],
   "source": [
    "def get_model_metrics():\n",
    "\n",
    "    \"\"\"Build ``KMeans`` model based on five highest-variance features in ``df``.\n",
    "\n",
    "    Parameters\n",
    "    ----------\n",
    "    trimmed : bool, default=True\n",
    "        If ``True``, calculates trimmed variance, removing bottom and top 10%\n",
    "        of observations.\n",
    "\n",
    "    k : int, default=2\n",
    "        Number of clusters.\n",
    "\n",
    "    return_metrics : bool, default=False\n",
    "        If ``False`` returns ``KMeans`` model. If ``True`` returns ``dict``\n",
    "        with inertia and silhouette score.\n",
    "\n",
    "    \"\"\"\n",
    "    \n",
    "    return model"
   ]
  },
  {
   "cell_type": "code",
   "execution_count": null,
   "id": "e8f08016-30f0-4d58-9a80-9927eddad894",
   "metadata": {
    "deletable": false,
    "editable": false
   },
   "outputs": [],
   "source": [
    "\n",
    "wqet_grader.grade(\"Project 6 Assessment\", \"Task 6.4.13\", get_model_metrics())"
   ]
  },
  {
   "cell_type": "markdown",
   "id": "8b445947-b8c3-427f-ac5e-7afe8d8d3670",
   "metadata": {
    "deletable": false,
    "editable": false
   },
   "source": [
    "Part of what we want people to be able to do with the dashboard is see how the model's inertia and silhouette score when they move the slider around, so let's calculate those numbers..."
   ]
  },
  {
   "cell_type": "code",
   "execution_count": null,
   "id": "9d8c6235-9c5f-4c22-8c2e-ae6bbe0ce436",
   "metadata": {
    "deletable": false,
    "editable": false,
    "init_cell": true
   },
   "outputs": [],
   "source": [
    "VimeoVideo(\"715725137\", h=\"124312b155\", width=600)"
   ]
  },
  {
   "cell_type": "markdown",
   "id": "a2343f5d-79d5-4f10-ba37-7bca33b25656",
   "metadata": {
    "deletable": false,
    "editable": false
   },
   "source": [
    "**Task 6.4.14:** Create a `serve_metrics` function. It should use your `get_model_metrics` to build and get the metrics for a model, and then return two objects: An `H3` header with the model's inertia and another `H3` header with the silhouette score."
   ]
  },
  {
   "cell_type": "code",
   "execution_count": null,
   "id": "c75ad50a-7b8c-497b-9a7d-782ce287e0a5",
   "metadata": {
    "deletable": false
   },
   "outputs": [],
   "source": [
    "\n",
    "def serve_metrics():\n",
    "\n",
    "    \"\"\"Returns list of ``H3`` elements containing inertia and silhouette score\n",
    "    for ``KMeans`` model.\n",
    "\n",
    "    Parameters\n",
    "    ----------\n",
    "    trimmed : bool, default=True\n",
    "        If ``True``, calculates trimmed variance, removing bottom and top 10%\n",
    "        of observations.\n",
    "\n",
    "    k : int, default=2\n",
    "        Number of clusters.\n",
    "    \"\"\"\n",
    "    \n",
    "    return text"
   ]
  },
  {
   "cell_type": "markdown",
   "id": "02651021-35d8-4e8c-aea5-b7acf42038fe",
   "metadata": {
    "deletable": false,
    "editable": false
   },
   "source": [
    "... and add them to the app."
   ]
  },
  {
   "cell_type": "code",
   "execution_count": null,
   "id": "8e89ddd2-08ba-4ed3-bb45-daa2162da9b1",
   "metadata": {
    "deletable": false,
    "editable": false,
    "init_cell": true
   },
   "outputs": [],
   "source": [
    "VimeoVideo(\"715726075\", h=\"ee0510063c\", width=600)"
   ]
  },
  {
   "cell_type": "markdown",
   "id": "8755d2bd-6993-4a71-828d-ff909ee2957b",
   "metadata": {
    "deletable": false,
    "editable": false
   },
   "source": [
    "**Task 6.4.15:** Add a callback decorator to your `serve_metrics` function. The callback inputs should be the values returned by `\"trim-button\"` and `\"k-slider\"`, and the output should be directed to `\"metrics\"`."
   ]
  },
  {
   "cell_type": "markdown",
   "id": "e1fe4c0b-0bac-400f-bdd1-1b1fce8d355a",
   "metadata": {
    "deletable": false,
    "editable": false
   },
   "source": [
    "## PCA Scatter Plot"
   ]
  },
  {
   "cell_type": "markdown",
   "id": "11732cce-fce9-47f6-81b7-1f9cda845c2f",
   "metadata": {
    "deletable": false,
    "editable": false
   },
   "source": [
    "We just made a slider that can change the inertia and silhouette scores, but not everyone will be able to understand what those changing numbers mean. Let's make a scatter plot to help them along."
   ]
  },
  {
   "cell_type": "code",
   "execution_count": null,
   "id": "35663f63-cac7-4ee5-bdc9-f114811688f3",
   "metadata": {
    "deletable": false,
    "editable": false,
    "init_cell": true
   },
   "outputs": [],
   "source": [
    "VimeoVideo(\"715726033\", h=\"a658095771\", width=600)"
   ]
  },
  {
   "cell_type": "markdown",
   "id": "c5aa6a29-1308-4c39-8605-28c1e0ab8374",
   "metadata": {
    "deletable": false,
    "editable": false
   },
   "source": [
    "**Task 6.4.16:** Add a `Graph` object to your application's layout. Be sure to give it the id `\"pca-scatter\"`."
   ]
  },
  {
   "cell_type": "markdown",
   "id": "c09bfea9-5681-4c4e-ae79-aad4256776dc",
   "metadata": {
    "deletable": false,
    "editable": false
   },
   "source": [
    "Just like with the bar chart, we need to get the five highest-variance features of the data, so let's start with that."
   ]
  },
  {
   "cell_type": "code",
   "execution_count": null,
   "id": "3fdb84b6-0a14-4f1a-a22b-da84107a9cdb",
   "metadata": {
    "deletable": false,
    "editable": false,
    "init_cell": true
   },
   "outputs": [],
   "source": [
    "VimeoVideo(\"715725930\", h=\"f957d27741\", width=600)"
   ]
  },
  {
   "cell_type": "markdown",
   "id": "18b13375-60ab-4193-8b4c-ad257c70bbfd",
   "metadata": {
    "deletable": false,
    "editable": false
   },
   "source": [
    "**Task 6.4.17:** Create a function `get_pca_labels` that subsets a DataFrame to its five highest-variance features, reduces those features to two dimensions using `PCA`, and returns a new DataFrame with three columns: `\"PC1\"`, `\"PC2\"`, and `\"labels\"`. This last column should be the labels determined by a `KMeans` model. Your function should you `get_high_var_features` and `get_model_metrics` as helpers. Refer to the docstring for guidance. "
   ]
  },
  {
   "cell_type": "code",
   "execution_count": null,
   "id": "aa8ee497-e89f-439f-984a-d5051daeeca4",
   "metadata": {
    "deletable": false
   },
   "outputs": [],
   "source": [
    "def get_pca_labels():\n",
    "\n",
    "    \"\"\"\n",
    "    ``KMeans`` labels.\n",
    "\n",
    "    Parameters\n",
    "    ----------\n",
    "    trimmed : bool, default=True\n",
    "        If ``True``, calculates trimmed variance, removing bottom and top 10%\n",
    "        of observations.\n",
    "\n",
    "    k : int, default=2\n",
    "        Number of clusters.\n",
    "    \"\"\"\n",
    "    \n",
    "    return X_pca"
   ]
  },
  {
   "cell_type": "markdown",
   "id": "818f1c65-b981-413b-97ba-375239723ac3",
   "metadata": {
    "deletable": false,
    "editable": false
   },
   "source": [
    "Now we can use those five features to make the actual scatter plot."
   ]
  },
  {
   "cell_type": "code",
   "execution_count": null,
   "id": "50df55d9-d616-4fea-b771-b9b578e074c0",
   "metadata": {
    "deletable": false,
    "editable": false,
    "init_cell": true
   },
   "outputs": [],
   "source": [
    "VimeoVideo(\"715725877\", h=\"21365c862f\", width=600)"
   ]
  },
  {
   "cell_type": "markdown",
   "id": "e53f27bd-18e3-4ce6-9a70-9ffad355cd1a",
   "metadata": {
    "deletable": false,
    "editable": false
   },
   "source": [
    "**Task 6.4.18:** Create a function `serve_scatter_plot` that creates a 2D scatter plot of the data used to train a `KMeans` model, along with color-coded clusters. Use `get_pca_labels` as a helper. Refer to the docstring for guidance. "
   ]
  },
  {
   "cell_type": "code",
   "execution_count": null,
   "id": "f8314cd4-e49b-41ef-857b-5c4a54e213ca",
   "metadata": {
    "deletable": false
   },
   "outputs": [],
   "source": [
    "\n",
    "def serve_scatter_plot():\n",
    "\n",
    "    \"\"\"Build 2D scatter plot of ``df`` with ``KMeans`` labels.\n",
    "\n",
    "    Parameters\n",
    "    ----------\n",
    "    trimmed : bool, default=True\n",
    "        If ``True``, calculates trimmed variance, removing bottom and top 10%\n",
    "        of observations.\n",
    "\n",
    "    k : int, default=2\n",
    "        Number of clusters.\n",
    "    \"\"\"\n",
    "    \n",
    "    return fig"
   ]
  },
  {
   "cell_type": "markdown",
   "id": "e8c7fedb-8c48-42bc-b282-25f663ee7fce",
   "metadata": {
    "deletable": false,
    "editable": false
   },
   "source": [
    "Again, we finish up by adding some code to make the interactive elements of our app actually work."
   ]
  },
  {
   "cell_type": "code",
   "execution_count": null,
   "id": "476daac0-0470-4e1f-a096-7ecc17b9333e",
   "metadata": {
    "deletable": false,
    "editable": false,
    "init_cell": true
   },
   "outputs": [],
   "source": [
    "VimeoVideo(\"715725777\", h=\"4b3ecacb85\", width=600)"
   ]
  },
  {
   "cell_type": "markdown",
   "id": "e712ab71-12ff-4f69-b019-1950f74d86bf",
   "metadata": {
    "deletable": false,
    "editable": false
   },
   "source": [
    "**Task 6.4.19:** Add a callback decorator to your `serve_scatter_plot` function. The callback inputs should be the values returned by `\"trim-button\"` and `\"k-slider\"`, and the output should be directed to `\"pca-scatter\"`."
   ]
  },
  {
   "cell_type": "markdown",
   "id": "f5d41c5f-2272-4a53-89f1-abb6a47d09f7",
   "metadata": {
    "deletable": false,
    "editable": false
   },
   "source": [
    "## Application Deployment"
   ]
  },
  {
   "cell_type": "markdown",
   "id": "fd1bc90c-8f7d-4264-a0e8-22e4a5853cc8",
   "metadata": {
    "deletable": false,
    "editable": false
   },
   "source": [
    "Once you're feeling good about all the work we just did, run the cell and watch the app come to life! "
   ]
  },
  {
   "cell_type": "markdown",
   "id": "57e08e72-e66c-40c9-81dd-f3bbebd885e5",
   "metadata": {
    "deletable": false,
    "editable": false
   },
   "source": [
    "**Task 6.4.20:** Run the cell below to deploy your application. 😎"
   ]
  },
  {
   "cell_type": "markdown",
   "id": "c5874f1c-530f-432f-84c5-59a10b7bf9af",
   "metadata": {
    "deletable": false,
    "editable": false
   },
   "source": [
    "<div class=\"alert alert-block alert-info\">\n",
    "<b>Note:</b> We're going to build the layout for our application iteratively. So even though this is the last task, you'll run this cell multiple times as you add features to your application.\n",
    "</div>"
   ]
  },
  {
   "cell_type": "markdown",
   "id": "b18cf98e-73ed-4046-a36c-36971b5798b3",
   "metadata": {
    "deletable": false,
    "editable": false
   },
   "source": [
    "<div class=\"alert alert-block alert-warning\">\n",
    "<p><b>Warning:</b> If you have issues with your app launching during this project, try restarting your kernel and re-running the notebook from the beginning. Go to <b>Kernel</b> > <b>Restart Kernel and Clear All Outputs</b>.</p>\n",
    "<p>If that doesn't work, close the browser window for your virtual machine, and then relaunch it from the \"Overview\" section of the WQU learning platform.</p> \n",
    "</div>"
   ]
  },
  {
   "cell_type": "code",
   "execution_count": null,
   "id": "b2d947df-bda3-466a-96bb-ac2f8aa588f0",
   "metadata": {
    "deletable": false,
    "editable": false
   },
   "outputs": [],
   "source": [
    "app.run_server(host=\"0.0.0.0\", mode=\"external\")"
   ]
  },
  {
   "cell_type": "markdown",
   "id": "6e3ad674",
   "metadata": {
    "deletable": false,
    "editable": false
   },
   "source": [
    "---\n",
    "Copyright © 2022 WorldQuant University. This\n",
    "content is licensed solely for personal use. Redistribution or\n",
    "publication of this material is strictly prohibited.\n"
   ]
  }
 ],
 "metadata": {
  "kernelspec": {
   "display_name": "Python 3 (ipykernel)",
   "language": "python",
   "name": "python3"
  },
  "language_info": {
   "codemirror_mode": {
    "name": "ipython",
    "version": 3
   },
   "file_extension": ".py",
   "mimetype": "text/x-python",
   "name": "python",
   "nbconvert_exporter": "python",
   "pygments_lexer": "ipython3",
   "version": "3.9.6"
  }
 },
 "nbformat": 4,
 "nbformat_minor": 5
}
