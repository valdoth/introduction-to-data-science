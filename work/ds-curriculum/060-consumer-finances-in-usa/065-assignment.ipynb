{
 "cells": [
  {
   "cell_type": "markdown",
   "id": "eaf66f20-bac8-428a-b20f-2ffd9451d889",
   "metadata": {
    "deletable": false,
    "editable": false
   },
   "source": [
    "<font size=\"+3\"><strong>6.5. Small Business Owners in the United States🇺🇸</strong></font>"
   ]
  },
  {
   "cell_type": "markdown",
   "id": "8678b1d2-e6a0-4fdd-af08-f79488580ae5",
   "metadata": {
    "deletable": false,
    "editable": false
   },
   "source": [
    "In this assignment, you're going to focus on business owners in the United States. You'll start by examining some demographic characteristics of the group, such as age, income category, and debt vs home value. Then you'll select high-variance features, and create a clustering model to divide small business owners into subgroups. Finally, you'll create some visualizations to highlight the differences between these subgroups. Good luck! 🍀"
   ]
  },
  {
   "cell_type": "code",
   "execution_count": null,
   "id": "13f84b13-6e18-4545-b282-8066724fe5a7",
   "metadata": {
    "deletable": false,
    "editable": false,
    "init_cell": true
   },
   "outputs": [],
   "source": [
    "import wqet_grader\n",
    "\n",
    "wqet_grader.init(\"Project 6 Assessment\")\n"
   ]
  },
  {
   "cell_type": "code",
   "execution_count": null,
   "id": "a8555d1a-b9e8-4dc9-a5c3-e8946c31b35f",
   "metadata": {
    "deletable": false
   },
   "outputs": [],
   "source": [
    "# Import libraries here\n"
   ]
  },
  {
   "cell_type": "markdown",
   "id": "1576e1a0-c324-4cef-b0a2-1b9f3a57d03f",
   "metadata": {
    "deletable": false,
    "editable": false
   },
   "source": [
    "# Prepare Data"
   ]
  },
  {
   "cell_type": "markdown",
   "id": "ed7add58-2e20-46cf-8eae-de94f7da3b9f",
   "metadata": {
    "deletable": false,
    "editable": false
   },
   "source": [
    "## Import"
   ]
  },
  {
   "cell_type": "markdown",
   "id": "fe611a88-176a-4c58-b155-a10e088eed94",
   "metadata": {
    "deletable": false,
    "editable": false
   },
   "source": [
    "Let's start by bringing our data into the assignment."
   ]
  },
  {
   "cell_type": "markdown",
   "id": "f96b9129-a4ab-47c1-8d19-2297beb9e33d",
   "metadata": {
    "deletable": false,
    "editable": false
   },
   "source": [
    "**Task 6.5.1:** Read the file `\"data/SCFP2019.csv.gz\"` into the DataFrame `df`."
   ]
  },
  {
   "cell_type": "code",
   "execution_count": null,
   "id": "2f78f00e-097e-45c4-9ea4-8a0149d51026",
   "metadata": {
    "deletable": false
   },
   "outputs": [],
   "source": [
    "df = ...\n",
    "print(\"df shape:\", df.shape)\n",
    "df.head()"
   ]
  },
  {
   "cell_type": "code",
   "execution_count": null,
   "id": "42fb78ff-5da2-4bab-81bd-d8fb36e4dbbe",
   "metadata": {
    "deletable": false,
    "editable": false
   },
   "outputs": [],
   "source": [
    "wqet_grader.grade(\"Project 6 Assessment\", \"Task 6.5.1\", list(df.shape))"
   ]
  },
  {
   "cell_type": "markdown",
   "id": "4e80136a-eca6-4c03-9b46-0776f30d1a41",
   "metadata": {
    "deletable": false,
    "editable": false
   },
   "source": [
    "## Explore"
   ]
  },
  {
   "cell_type": "markdown",
   "id": "380628f9-502e-4cbd-9472-0a49f7f39bc9",
   "metadata": {
    "deletable": false,
    "editable": false
   },
   "source": [
    "As mentioned at the start of this assignment, you're focusing on business owners. But what percentage of the respondents in `df` are business owners?"
   ]
  },
  {
   "cell_type": "markdown",
   "id": "79ce64e2-381e-4b20-8aad-bd097367fffd",
   "metadata": {
    "deletable": false,
    "editable": false
   },
   "source": [
    "**Task 6.5.2:** Calculate the proportion of respondents in `df` that are business owners, and assign the result to the variable `pct_biz_owners`. You'll need to review the documentation regarding the `\"HBUS\"` column to complete these tasks."
   ]
  },
  {
   "cell_type": "code",
   "execution_count": null,
   "id": "8fb64979-1988-4f2c-b77e-3ba4e74a4977",
   "metadata": {
    "deletable": false
   },
   "outputs": [],
   "source": [
    "pct_biz_owners = ...\n",
    "print(\"proportion of business owners in df:\", pct_biz_owners)"
   ]
  },
  {
   "cell_type": "code",
   "execution_count": null,
   "id": "165702e1-211a-4272-adf1-1c8fb22dfe19",
   "metadata": {
    "deletable": false,
    "editable": false
   },
   "outputs": [],
   "source": [
    "wqet_grader.grade(\"Project 6 Assessment\", \"Task 6.5.2\", [pct_biz_owners])"
   ]
  },
  {
   "cell_type": "markdown",
   "id": "ee42fb89-d051-4e9d-9b66-f2eb81284a28",
   "metadata": {
    "deletable": false,
    "editable": false
   },
   "source": [
    "Is the distribution of income different for business owners and non-business owners?"
   ]
  },
  {
   "cell_type": "markdown",
   "id": "de5dcf89-85d2-4148-9f5e-dfdef1ee4596",
   "metadata": {
    "deletable": false,
    "editable": false
   },
   "source": [
    "**Task 6.5.3:** Create a DataFrame `df_inccat` that shows the normalized frequency for income categories for business owners and non-business owners. Your final DataFrame should look something like this:\n",
    "\n",
    "```\n",
    "    HBUS   INCCAT  frequency\n",
    "0      0     0-20   0.210348\n",
    "1      0  21-39.9   0.198140\n",
    "...\n",
    "11     1     0-20   0.041188\n",
    "```"
   ]
  },
  {
   "cell_type": "code",
   "execution_count": null,
   "id": "7ed3832d-8456-499a-8ce7-81abf061a534",
   "metadata": {
    "deletable": false
   },
   "outputs": [],
   "source": [
    "inccat_dict = {\n",
    "    1: \"0-20\",\n",
    "    2: \"21-39.9\",\n",
    "    3: \"40-59.9\",\n",
    "    4: \"60-79.9\",\n",
    "    5: \"80-89.9\",\n",
    "    6: \"90-100\",\n",
    "}\n",
    "\n",
    "df_inccat = ...\n",
    "\n",
    "df_inccat"
   ]
  },
  {
   "cell_type": "code",
   "execution_count": null,
   "id": "51940bf9-0f40-43c2-930c-8e43f6c23f87",
   "metadata": {
    "deletable": false,
    "editable": false
   },
   "outputs": [],
   "source": [
    "\n",
    "wqet_grader.grade(\"Project 6 Assessment\", \"Task 6.5.3\", df_inccat)"
   ]
  },
  {
   "cell_type": "markdown",
   "id": "f7dda946-db04-434a-862f-6f34143f55d3",
   "metadata": {
    "deletable": false,
    "editable": false
   },
   "source": [
    "**Task 6.5.4:** Using seaborn, create a side-by-side bar chart of `df_inccat`. Set `hue` to `\"HBUS\"`, and make sure that the income categories are in the correct order along the x-axis. Label to the x-axis `\"Income Category\"`, the y-axis `\"Frequency (%)\"`, and use the title `\"Income Distribution: Business Owners vs. Non-Business Owners\"`."
   ]
  },
  {
   "cell_type": "code",
   "execution_count": null,
   "id": "c986bda0-ee6e-495b-9185-155b97d49314",
   "metadata": {
    "deletable": false
   },
   "outputs": [],
   "source": [
    "# Create bar chart of `df_inccat`\n",
    "\n",
    "# Don't delete the code below 👇\n",
    "plt.savefig(\"images/6-5-4.png\", dpi=150)\n"
   ]
  },
  {
   "cell_type": "code",
   "execution_count": null,
   "id": "3f6469d7-d269-4389-857b-63b16cfd4360",
   "metadata": {
    "deletable": false,
    "editable": false
   },
   "outputs": [],
   "source": [
    "with open(\"images/6-5-4.png\", \"rb\") as file:\n",
    "    wqet_grader.grade(\"Project 6 Assessment\", \"Task 6.5.4\", file)"
   ]
  },
  {
   "cell_type": "markdown",
   "id": "579afd36-0d9b-49a1-9d3b-6aab29e72719",
   "metadata": {
    "deletable": false,
    "editable": false
   },
   "source": [
    "We looked at the relationship between home value and household debt in the context of the the credit fearful, but what about business owners? Are there notable differences between business owners and non-business owners?"
   ]
  },
  {
   "cell_type": "markdown",
   "id": "b8ce1e69-92db-4059-86d8-83f592f8a423",
   "metadata": {
    "deletable": false,
    "editable": false
   },
   "source": [
    "**Task 6.5.5:** Using seaborn, create a scatter plot that shows `\"HOUSES\"` vs. `\"DEBT\"`. You should color the datapoints according to business ownership. Be sure to label the x-axis `\"Household Debt\"`, the y-axis `\"Home Value\"`, and use the title `\"Home Value vs. Household Debt\"`. "
   ]
  },
  {
   "cell_type": "code",
   "execution_count": null,
   "id": "8ace27c9-20a6-4964-945c-b8597240a342",
   "metadata": {
    "deletable": false
   },
   "outputs": [],
   "source": [
    "# Plot \"HOUSES\" vs \"DEBT\" with hue=label\n",
    "\n",
    "# Don't delete the code below 👇\n",
    "plt.savefig(\"images/6-5-5.png\", dpi=150)\n"
   ]
  },
  {
   "cell_type": "markdown",
   "id": "18a9f681-75f9-44ef-acd7-0708703182fd",
   "metadata": {
    "deletable": false,
    "editable": false
   },
   "source": [
    "For the model building part of the assignment, you're going to focus on small business owners, defined as respondents who have a business and whose income does not exceed \\\\$500,000."
   ]
  },
  {
   "cell_type": "code",
   "execution_count": null,
   "id": "9a3bb450-9aef-4396-8dad-f2b6ff413adb",
   "metadata": {
    "deletable": false,
    "editable": false
   },
   "outputs": [],
   "source": [
    "with open(\"images/6-5-5.png\", \"rb\") as file:\n",
    "    wqet_grader.grade(\"Project 6 Assessment\", \"Task 6.5.5\", file)"
   ]
  },
  {
   "cell_type": "markdown",
   "id": "12832ea1-4d20-431c-9f4e-a221aeebba48",
   "metadata": {
    "deletable": false,
    "editable": false
   },
   "source": [
    "**Task 6.5.6:** Create a new DataFrame `df_small_biz` that contains only business owners whose income is below \\\\$500,000."
   ]
  },
  {
   "cell_type": "code",
   "execution_count": null,
   "id": "54386eea-e699-4d7a-9f7f-433d800f3267",
   "metadata": {
    "deletable": false
   },
   "outputs": [],
   "source": [
    "mask = ...\n",
    "df_small_biz = ...\n",
    "print(\"df_small_biz shape:\", df_small_biz.shape)\n",
    "df_small_biz.head()"
   ]
  },
  {
   "cell_type": "code",
   "execution_count": null,
   "id": "f10b8540-6cd8-4858-916f-72c9be561e7f",
   "metadata": {
    "deletable": false,
    "editable": false
   },
   "outputs": [],
   "source": [
    "wqet_grader.grade(\"Project 6 Assessment\", \"Task 6.5.6\", list(df_small_biz.shape))"
   ]
  },
  {
   "cell_type": "markdown",
   "id": "3338de70-5283-4a1d-bbaf-9dc6966579ae",
   "metadata": {
    "deletable": false,
    "editable": false
   },
   "source": [
    "We saw that credit-fearful respondents were relatively young. Is the same true for small business owners?"
   ]
  },
  {
   "cell_type": "markdown",
   "id": "f9bebe06-eab0-4cdb-9863-585c9a5cfd11",
   "metadata": {
    "deletable": false,
    "editable": false
   },
   "source": [
    "**Task 6.5.7:** Create a histogram from the `\"AGE\"` column in `df_small_biz` with 10 bins. Be sure to label the x-axis `\"Age\"`, the y-axis `\"Frequency (count)\"`, and use the title `\"Small Business Owners: Age Distribution\"`. "
   ]
  },
  {
   "cell_type": "code",
   "execution_count": null,
   "id": "4228d654-24bb-4059-86ab-0969da0144c3",
   "metadata": {
    "deletable": false
   },
   "outputs": [],
   "source": [
    "# Plot histogram of \"AGE\"\n",
    "\n",
    "# Don't delete the code below 👇\n",
    "plt.savefig(\"images/6-5-7.png\", dpi=150)\n"
   ]
  },
  {
   "cell_type": "markdown",
   "id": "32b9d4c0-0444-4b69-bade-b67484b312a4",
   "metadata": {
    "deletable": false,
    "editable": false
   },
   "source": [
    "So, can we say the same thing about small business owners as we can about credit-fearful people?"
   ]
  },
  {
   "cell_type": "code",
   "execution_count": null,
   "id": "e0850a96-f37e-49ba-81ec-ea54d53af827",
   "metadata": {
    "deletable": false,
    "editable": false
   },
   "outputs": [],
   "source": [
    "with open(\"images/6-5-7.png\", \"rb\") as file:\n",
    "    wqet_grader.grade(\"Project 6 Assessment\", \"Task 6.5.7\", file)"
   ]
  },
  {
   "cell_type": "markdown",
   "id": "b0f3cb7a-aab3-437c-8cd3-a4e562099b44",
   "metadata": {
    "deletable": false,
    "editable": false
   },
   "source": [
    "Let's take a look at the variance in the dataset."
   ]
  },
  {
   "cell_type": "markdown",
   "id": "2c8a64c6-00b8-46c4-8049-474724baf2af",
   "metadata": {
    "deletable": false,
    "editable": false
   },
   "source": [
    "**Task 6.5.8:** Calculate the variance for all the features in `df_small_biz`, and create a Series `top_ten_var` with the 10 features with the largest variance."
   ]
  },
  {
   "cell_type": "code",
   "execution_count": null,
   "id": "0394ffbf-25b5-4377-9533-57441f9454f9",
   "metadata": {
    "deletable": false
   },
   "outputs": [],
   "source": [
    "# Calculate variance, get 10 largest features\n",
    "top_ten_var = ...\n",
    "top_ten_var"
   ]
  },
  {
   "cell_type": "code",
   "execution_count": null,
   "id": "067f7293-6d86-41b7-9fda-d05eb2f044d8",
   "metadata": {
    "deletable": false,
    "editable": false
   },
   "outputs": [],
   "source": [
    "\n",
    "wqet_grader.grade(\"Project 6 Assessment\", \"Task 6.5.8\", top_ten_var)"
   ]
  },
  {
   "cell_type": "markdown",
   "id": "9361d41c-cbd7-44cd-8cd2-0cb0390c00a5",
   "metadata": {
    "deletable": false,
    "editable": false
   },
   "source": [
    "We'll need to remove some outliers to avoid problems in our calculations, so let's trim them out."
   ]
  },
  {
   "cell_type": "markdown",
   "id": "774f1692-11f9-45bd-8810-42d4403c3914",
   "metadata": {
    "deletable": false,
    "editable": false
   },
   "source": [
    "**Task 6.5.9:** Calculate the trimmed variance for the features in `df_small_biz`. Your calculations should not include the top and bottom 10% of observations. Then create a Series `top_ten_trim_var` with the 10 features with the largest variance."
   ]
  },
  {
   "cell_type": "code",
   "execution_count": null,
   "id": "fcacbed3-1fc2-4525-95df-9e3721be7952",
   "metadata": {
    "deletable": false
   },
   "outputs": [],
   "source": [
    "# Calculate trimmed variance\n",
    "top_ten_trim_var = ...\n",
    "top_ten_trim_var"
   ]
  },
  {
   "cell_type": "code",
   "execution_count": null,
   "id": "342f5288-7f94-4ecd-8540-5df67c0da62f",
   "metadata": {
    "deletable": false,
    "editable": false
   },
   "outputs": [],
   "source": [
    "\n",
    "wqet_grader.grade(\"Project 6 Assessment\", \"Task 6.5.9\", top_ten_trim_var)"
   ]
  },
  {
   "cell_type": "markdown",
   "id": "ae250baf-a145-405f-bb2d-94e3d02ce090",
   "metadata": {
    "deletable": false,
    "editable": false
   },
   "source": [
    "Let's do a quick visualization of those values."
   ]
  },
  {
   "cell_type": "markdown",
   "id": "ad3c5499-d30a-492f-806c-169ca1971626",
   "metadata": {
    "deletable": false,
    "editable": false
   },
   "source": [
    "**Task 6.5.10:** Use plotly express to create a horizontal bar chart of `top_ten_trim_var`. Be sure to label your x-axis `\"Trimmed Variance [$]\"`, the y-axis `\"Feature\"`, and use the title `\"Small Business Owners: High Variance Features\"`."
   ]
  },
  {
   "cell_type": "code",
   "execution_count": null,
   "id": "7ff0beec-afbc-44f6-ad22-ea18be1cc3f0",
   "metadata": {
    "deletable": false
   },
   "outputs": [],
   "source": [
    "# Create horizontal bar chart of `top_ten_trim_var`\n",
    "\n",
    "# Don't delete the code below 👇\n",
    "fig.write_image(\"images/6-5-10.png\", scale=1, height=500, width=700)\n",
    "\n",
    "fig.show()"
   ]
  },
  {
   "cell_type": "code",
   "execution_count": null,
   "id": "c9dc4afe-ec6c-4edf-9d4c-cc7621163ca5",
   "metadata": {
    "deletable": false,
    "editable": false
   },
   "outputs": [],
   "source": [
    "with open(\"images/6-5-10.png\", \"rb\") as file:\n",
    "    wqet_grader.grade(\"Project 6 Assessment\", \"Task 6.5.10\", file)"
   ]
  },
  {
   "cell_type": "markdown",
   "id": "b295bb84-b165-4112-ac1c-1897d38f24be",
   "metadata": {
    "deletable": false,
    "editable": false
   },
   "source": [
    "Based on this graph, which five features have the highest variance?"
   ]
  },
  {
   "cell_type": "markdown",
   "id": "79f95249-6f85-4e9e-8d5c-662347671cbb",
   "metadata": {
    "deletable": false,
    "editable": false
   },
   "source": [
    "**Task 6.5.11:** Generate a list `high_var_cols` with the column names of the  five features with the highest trimmed variance."
   ]
  },
  {
   "cell_type": "code",
   "execution_count": null,
   "id": "d84c998d-1884-41c0-a181-29fd470c480c",
   "metadata": {
    "deletable": false
   },
   "outputs": [],
   "source": [
    "high_var_cols = ...\n",
    "high_var_cols"
   ]
  },
  {
   "cell_type": "code",
   "execution_count": null,
   "id": "734ddd72-4fe6-4c53-9ed5-bb9778f01c2d",
   "metadata": {
    "deletable": false,
    "editable": false
   },
   "outputs": [],
   "source": [
    "wqet_grader.grade(\"Project 6 Assessment\", \"Task 6.5.11\", high_var_cols)"
   ]
  },
  {
   "cell_type": "markdown",
   "id": "9cb41e82-ba92-4c96-906a-6f5ac4ba5f6e",
   "metadata": {
    "deletable": false,
    "editable": false
   },
   "source": [
    "## Split"
   ]
  },
  {
   "cell_type": "markdown",
   "id": "0afbab92-374f-4d01-b12b-81bdf5d45dcd",
   "metadata": {
    "deletable": false,
    "editable": false
   },
   "source": [
    "Let's turn that list into a feature matrix."
   ]
  },
  {
   "cell_type": "markdown",
   "id": "947b81b0-9434-4a0b-aaa7-ce7120e1674f",
   "metadata": {
    "deletable": false,
    "editable": false
   },
   "source": [
    "**Task 6.5.12:** Create the feature matrix `X`. It should contain the five columns in `high_var_cols`."
   ]
  },
  {
   "cell_type": "code",
   "execution_count": null,
   "id": "9ff30fe3-28df-4845-9b0f-03596b8172d1",
   "metadata": {
    "deletable": false
   },
   "outputs": [],
   "source": [
    "X = ...\n",
    "print(\"X shape:\", X.shape)"
   ]
  },
  {
   "cell_type": "code",
   "execution_count": null,
   "id": "ce0f214c-e632-4cec-9863-bd4c3e42feca",
   "metadata": {
    "deletable": false,
    "editable": false
   },
   "outputs": [],
   "source": [
    "wqet_grader.grade(\"Project 6 Assessment\", \"Task 6.5.12\", list(X.shape))"
   ]
  },
  {
   "cell_type": "markdown",
   "id": "5ba22177-d828-4cb3-a79b-73e0794472f9",
   "metadata": {
    "deletable": false,
    "editable": false
   },
   "source": [
    "# Build Model"
   ]
  },
  {
   "cell_type": "markdown",
   "id": "3cee6745-7456-407b-a737-c17b36bf3694",
   "metadata": {
    "deletable": false,
    "editable": false
   },
   "source": [
    "Now that our data is in order, let's get to work on the model."
   ]
  },
  {
   "cell_type": "markdown",
   "id": "f3b7e7f9-496b-4142-a1f7-e9e3b4547ab8",
   "metadata": {
    "deletable": false,
    "editable": false
   },
   "source": [
    "## Iterate"
   ]
  },
  {
   "cell_type": "markdown",
   "id": "bbf67d41-8379-43a5-958e-fee93e1d3036",
   "metadata": {
    "deletable": false,
    "editable": false
   },
   "source": [
    "**Task 6.5.13:** Use a `for` loop to build and train a K-Means model where `n_clusters` ranges from 2 to 12 (inclusive). Your model should include a `StandardScaler`. Each time a model is trained, calculate the inertia and add it to the list `inertia_errors`, then calculate the silhouette score and add it to the list `silhouette_scores`."
   ]
  },
  {
   "cell_type": "markdown",
   "id": "56ea5c4b-8cc2-4add-aa8c-9167b90b8e88",
   "metadata": {
    "deletable": false,
    "editable": false
   },
   "source": [
    "<div class=\"alert alert-info\" role=\"alert\">\n",
    "    <b>Note:</b> For reproducibility, make sure you set the random state for your model to <code>42</code>. \n",
    "</div>"
   ]
  },
  {
   "cell_type": "code",
   "execution_count": null,
   "id": "79c7764f-75f1-4299-a6b3-bd71f67ef3eb",
   "metadata": {
    "deletable": false
   },
   "outputs": [],
   "source": [
    "n_clusters = ...\n",
    "inertia_errors = ...\n",
    "silhouette_scores = ...\n",
    "\n",
    "# Add `for` loop to train model and calculate inertia, silhouette score.\n",
    "\n",
    "\n",
    "print(\"Inertia:\", inertia_errors[:11])\n",
    "print()\n",
    "print(\"Silhouette Scores:\", silhouette_scores[:3])"
   ]
  },
  {
   "cell_type": "code",
   "execution_count": null,
   "id": "6cdc4b61-db0c-46f0-9211-c2c7c8dca352",
   "metadata": {
    "deletable": false,
    "editable": false
   },
   "outputs": [],
   "source": [
    "wqet_grader.grade(\"Project 6 Assessment\", \"Task 6.5.13\", list(inertia_errors))"
   ]
  },
  {
   "cell_type": "markdown",
   "id": "3e98ef3c-ba19-46a7-b308-9627e82e2053",
   "metadata": {
    "deletable": false,
    "editable": false
   },
   "source": [
    "Just like we did in the previous module, we can start to figure out how many clusters we'll need with a line plot based on Inertia."
   ]
  },
  {
   "cell_type": "markdown",
   "id": "89ab36dd-ff46-46e5-8065-e82010a66cf1",
   "metadata": {
    "deletable": false,
    "editable": false
   },
   "source": [
    "**Task 6.5.14:** Use plotly express to create a line plot that shows the values of `inertia_errors` as a function of `n_clusters`. Be sure to label your x-axis `\"Number of Clusters\"`, your y-axis `\"Inertia\"`, and use the title `\"K-Means Model: Inertia vs Number of Clusters\"`."
   ]
  },
  {
   "cell_type": "code",
   "execution_count": null,
   "id": "4e3e7d2e-a5cb-4ae8-bbdc-d9a754747930",
   "metadata": {
    "deletable": false
   },
   "outputs": [],
   "source": [
    "# Create line plot of `inertia_errors` vs `n_clusters`\n",
    "\n",
    "# Don't delete the code below 👇\n",
    "fig.write_image(\"images/6-5-14.png\", scale=1, height=500, width=700)\n",
    "\n",
    "fig.show()"
   ]
  },
  {
   "cell_type": "code",
   "execution_count": null,
   "id": "440b68fa-f810-4670-b259-cab98ab337b3",
   "metadata": {
    "deletable": false,
    "editable": false
   },
   "outputs": [],
   "source": [
    "with open(\"images/6-5-14.png\", \"rb\") as file:\n",
    "    wqet_grader.grade(\"Project 6 Assessment\", \"Task 6.5.14\", file)"
   ]
  },
  {
   "cell_type": "markdown",
   "id": "4c4fb9a3-04dc-4983-8629-e8e6405b8a4b",
   "metadata": {
    "deletable": false,
    "editable": false
   },
   "source": [
    "And let's do the same thing with our Silhouette Scores."
   ]
  },
  {
   "cell_type": "markdown",
   "id": "1a0ecb8c-fb8a-47c0-8803-fea1024652d4",
   "metadata": {
    "deletable": false,
    "editable": false
   },
   "source": [
    "**Task 6.5.15:** Use plotly express to create a line plot that shows the values of `silhouette_scores` as a function of `n_clusters`. Be sure to label your x-axis `\"Number of Clusters\"`, your y-axis `\"Silhouette Score\"`, and use the title `\"K-Means Model: Silhouette Score vs Number of Clusters\"`."
   ]
  },
  {
   "cell_type": "code",
   "execution_count": null,
   "id": "c018ecda-03d3-415c-b2ed-38c834784179",
   "metadata": {
    "deletable": false
   },
   "outputs": [],
   "source": [
    "# Create a line plot of `silhouette_scores` vs `n_clusters`\n",
    "\n",
    "# Don't delete the code below 👇\n",
    "fig.write_image(\"images/6-5-15.png\", scale=1, height=500, width=700)\n",
    "\n",
    "fig.show()"
   ]
  },
  {
   "cell_type": "code",
   "execution_count": null,
   "id": "f4adf7db-e886-46db-80e4-1a2a4a4eb87e",
   "metadata": {
    "deletable": false,
    "editable": false
   },
   "outputs": [],
   "source": [
    "with open(\"images/6-5-15.png\", \"rb\") as file:\n",
    "    wqet_grader.grade(\"Project 6 Assessment\", \"Task 6.5.15\", file)"
   ]
  },
  {
   "cell_type": "markdown",
   "id": "883d1b9e-4547-48bb-bca6-534a7c9111e6",
   "metadata": {
    "deletable": false,
    "editable": false
   },
   "source": [
    "How many clusters should we use? When you've made a decision about that, it's time to build the final model."
   ]
  },
  {
   "cell_type": "markdown",
   "id": "e266725f-fba7-4705-966c-0a47f7867aa0",
   "metadata": {
    "deletable": false,
    "editable": false
   },
   "source": [
    "**Task 6.5.16:** Build and train a new k-means model named `final_model`. The number of clusters should be `3`."
   ]
  },
  {
   "cell_type": "markdown",
   "id": "29b36653-b6b2-4de1-9b3b-2321d402e343",
   "metadata": {
    "deletable": false,
    "editable": false
   },
   "source": [
    "<div class=\"alert alert-info\" role=\"alert\">\n",
    "    <b>Note:</b> For reproducibility, make sure you set the random state for your model to <code>42</code>. \n",
    "</div>"
   ]
  },
  {
   "cell_type": "code",
   "execution_count": null,
   "id": "a6d22f05-5109-425c-9ed3-838d03fcec76",
   "metadata": {
    "deletable": false
   },
   "outputs": [],
   "source": [
    "final_model = ...\n"
   ]
  },
  {
   "cell_type": "code",
   "execution_count": null,
   "id": "e8a9319a-c76b-4e20-a919-4e08a9110896",
   "metadata": {
    "deletable": false,
    "editable": false
   },
   "outputs": [],
   "source": [
    "# match_steps, match_hyperparameters, prune_hyperparameters should all be True\n",
    "\n",
    "wqet_grader.grade(\"Project 6 Assessment\", \"Task 6.5.16\", final_model)"
   ]
  },
  {
   "cell_type": "markdown",
   "id": "b4e3d785-f4e9-4e56-8c93-d9267eb92846",
   "metadata": {
    "deletable": false,
    "editable": false
   },
   "source": [
    "# Communicate"
   ]
  },
  {
   "cell_type": "markdown",
   "id": "694245d3-c0f5-47ad-94a3-c220c41d1239",
   "metadata": {
    "deletable": false,
    "editable": false
   },
   "source": [
    "Excellent! Let's share our work! "
   ]
  },
  {
   "cell_type": "markdown",
   "id": "45a447ef-6416-4c01-b0bf-41f24e879ad2",
   "metadata": {
    "deletable": false,
    "editable": false
   },
   "source": [
    "**Task 6.5.17:** Create a DataFrame `xgb` that contains the mean values of the features in `X` for the 3 clusters in your `final_model`."
   ]
  },
  {
   "cell_type": "code",
   "execution_count": null,
   "id": "d990fee8-db2d-41a7-be39-c602f7b2a078",
   "metadata": {
    "deletable": false
   },
   "outputs": [],
   "source": [
    "labels = ...\n",
    "xgb = ...\n",
    "xgb"
   ]
  },
  {
   "cell_type": "code",
   "execution_count": null,
   "id": "bb23a333-a25e-4150-bc91-d63669c7ae96",
   "metadata": {
    "deletable": false,
    "editable": false
   },
   "outputs": [],
   "source": [
    "\n",
    "wqet_grader.grade(\"Project 6 Assessment\", \"Task 6.5.17\", xgb)"
   ]
  },
  {
   "cell_type": "markdown",
   "id": "7c1584d1-d6cb-49e0-860c-5359b433eb45",
   "metadata": {
    "deletable": false,
    "editable": false
   },
   "source": [
    "As usual, let's make a visualization with the DataFrame."
   ]
  },
  {
   "cell_type": "markdown",
   "id": "2d220526-ccce-4ae2-8bac-4ce9a8ddd3ae",
   "metadata": {
    "deletable": false,
    "editable": false
   },
   "source": [
    "**Task 6.5.18:** Use plotly express to create a side-by-side bar chart from `xgb` that shows the mean of the features in `X` for each of the clusters in your `final_model`. Be sure to label the x-axis `\"Cluster\"`, the y-axis `\"Value [$]\"`, and use the title `\"Small Business Owner Finances by Cluster\"`."
   ]
  },
  {
   "cell_type": "code",
   "execution_count": null,
   "id": "ba00092d-c553-47eb-94f8-3125fe9dd791",
   "metadata": {
    "deletable": false
   },
   "outputs": [],
   "source": [
    "# Create side-by-side bar chart of `xgb`\n",
    "\n",
    "# Don't delete the code below 👇\n",
    "fig.write_image(\"images/6-5-18.png\", scale=1, height=500, width=700)\n",
    "\n",
    "fig.show()"
   ]
  },
  {
   "cell_type": "code",
   "execution_count": null,
   "id": "9c069da3-9fc6-41c8-9529-44cbd75e237f",
   "metadata": {
    "deletable": false,
    "editable": false
   },
   "outputs": [],
   "source": [
    "with open(\"images/6-5-18.png\", \"rb\") as file:\n",
    "    wqet_grader.grade(\"Project 6 Assessment\", \"Task 6.5.18\", file)"
   ]
  },
  {
   "cell_type": "markdown",
   "id": "87546eaf-b468-473a-a0b3-fdfc4bedd91b",
   "metadata": {
    "deletable": false,
    "editable": false
   },
   "source": [
    "Remember what we did with higher-dimension data last time? Let's do the same thing here."
   ]
  },
  {
   "cell_type": "markdown",
   "id": "cfafaa53-d2ae-4be8-a897-e8a990d58844",
   "metadata": {
    "deletable": false,
    "editable": false
   },
   "source": [
    "**Task 6.5.19:** Create a `PCA` transformer, use it to reduce the dimensionality of the data in `X` to 2, and then put the transformed data into a DataFrame named `X_pca`. The columns of `X_pca` should be named `\"PC1\"` and `\"PC2\"`."
   ]
  },
  {
   "cell_type": "code",
   "execution_count": null,
   "id": "146b72a1-9e28-46b3-b568-f3347a31b18d",
   "metadata": {
    "deletable": false
   },
   "outputs": [],
   "source": [
    "# Instantiate transformer\n",
    "pca = ...\n",
    "\n",
    "# Transform `X`\n",
    "X_t = ...\n",
    "\n",
    "# Put `X_t` into DataFrame\n",
    "X_pca = ...\n",
    "\n",
    "print(\"X_pca shape:\", X_pca.shape)\n",
    "X_pca.head()"
   ]
  },
  {
   "cell_type": "code",
   "execution_count": null,
   "id": "76b42eef-a518-40b4-a194-796a6f1d790a",
   "metadata": {
    "deletable": false,
    "editable": false
   },
   "outputs": [],
   "source": [
    "\n",
    "wqet_grader.grade(\"Project 6 Assessment\", \"Task 6.5.19\", X_pca)"
   ]
  },
  {
   "cell_type": "markdown",
   "id": "5f248d68-720a-4c0d-a746-9312e8976371",
   "metadata": {
    "deletable": false,
    "editable": false
   },
   "source": [
    "Finally, let's make a visualization of our final DataFrame."
   ]
  },
  {
   "cell_type": "markdown",
   "id": "57a44ed8-2888-4902-a156-805608d722ad",
   "metadata": {
    "deletable": false,
    "editable": false
   },
   "source": [
    "**Task 6.5.20:** Use plotly express to create a scatter plot of `X_pca` using seaborn. Be sure to color the data points using the labels generated by your `final_model`. Label the x-axis `\"PC1\"`, the y-axis `\"PC2\"`, and use the title `\"PCA Representation of Clusters\"`."
   ]
  },
  {
   "cell_type": "code",
   "execution_count": null,
   "id": "330b262c-3d70-4609-8745-b3c0eb219913",
   "metadata": {
    "deletable": false
   },
   "outputs": [],
   "source": [
    "# Create scatter plot of `PC2` vs `PC1`\n",
    "\n",
    "# Don't delete the code below 👇\n",
    "fig.write_image(\"images/6-5-20.png\", scale=1, height=500, width=700)\n",
    "\n",
    "fig.show()"
   ]
  },
  {
   "cell_type": "code",
   "execution_count": null,
   "id": "4b3cc188-2083-413e-b91d-a35ffec9c61b",
   "metadata": {
    "deletable": false,
    "editable": false
   },
   "outputs": [],
   "source": [
    "with open(\"images/6-5-20.png\", \"rb\") as file:\n",
    "    wqet_grader.grade(\"Project 6 Assessment\", \"Task 6.5.20\", file)"
   ]
  },
  {
   "cell_type": "markdown",
   "id": "dcd0fb5b",
   "metadata": {
    "deletable": false,
    "editable": false
   },
   "source": [
    "---\n",
    "Copyright © 2022 WorldQuant University. This\n",
    "content is licensed solely for personal use. Redistribution or\n",
    "publication of this material is strictly prohibited.\n"
   ]
  }
 ],
 "metadata": {
  "kernelspec": {
   "display_name": "Python 3 (ipykernel)",
   "language": "python",
   "name": "python3"
  },
  "language_info": {
   "codemirror_mode": {
    "name": "ipython",
    "version": 3
   },
   "file_extension": ".py",
   "mimetype": "text/x-python",
   "name": "python",
   "nbconvert_exporter": "python",
   "pygments_lexer": "ipython3",
   "version": "3.9.6"
  }
 },
 "nbformat": 4,
 "nbformat_minor": 5
}
