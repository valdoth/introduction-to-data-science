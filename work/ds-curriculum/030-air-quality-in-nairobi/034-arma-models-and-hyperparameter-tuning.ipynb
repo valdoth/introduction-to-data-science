{
 "cells": [
  {
   "cell_type": "markdown",
   "id": "58d3e6f5-9314-480c-b4bd-f4be542a0b38",
   "metadata": {
    "deletable": false,
    "editable": false
   },
   "source": [
    "<font size=\"+3\"><strong>3.4. ARMA Models</strong></font>"
   ]
  },
  {
   "cell_type": "code",
   "execution_count": null,
   "id": "2a2428fb-63b3-47b2-94c2-34501f9e3f3e",
   "metadata": {
    "deletable": false,
    "editable": false,
    "init_cell": true
   },
   "outputs": [],
   "source": [
    "import inspect\n",
    "import time\n",
    "import warnings\n",
    "\n",
    "import matplotlib.pyplot as plt\n",
    "import pandas as pd\n",
    "import plotly.express as px\n",
    "import seaborn as sns\n",
    "from IPython.display import VimeoVideo\n",
    "from pymongo import MongoClient\n",
    "from sklearn.metrics import mean_absolute_error\n",
    "from statsmodels.graphics.tsaplots import plot_acf, plot_pacf\n",
    "from statsmodels.tsa.arima.model import ARIMA\n",
    "\n",
    "warnings.filterwarnings(\"ignore\")"
   ]
  },
  {
   "cell_type": "code",
   "execution_count": null,
   "id": "435e37c9-bfd3-45d6-a094-4882a785ecd8",
   "metadata": {
    "deletable": false,
    "editable": false,
    "init_cell": true
   },
   "outputs": [],
   "source": [
    "VimeoVideo(\"665851728\", h=\"95c59d2805\", width=600)"
   ]
  },
  {
   "cell_type": "markdown",
   "id": "a44c6131-383c-4bf0-aa96-b2d2a186b347",
   "metadata": {
    "deletable": false,
    "editable": false
   },
   "source": [
    "# Prepare Data"
   ]
  },
  {
   "cell_type": "markdown",
   "id": "ebef2202-2537-452c-b0b0-568864edf912",
   "metadata": {
    "deletable": false,
    "editable": false
   },
   "source": [
    "## Import"
   ]
  },
  {
   "cell_type": "markdown",
   "id": "8ca1718b-4467-4c95-971c-fd4782701a7c",
   "metadata": {
    "deletable": false,
    "editable": false
   },
   "source": [
    "**Task 3.4.1:** Complete to the create a client to connect to the MongoDB server, assigns the `\"air-quality\"` database to `db`, and assigned the `\"nairobi\"` connection to `nairobi`.\n",
    "\n",
    "- [<span id='technique'>Create a client object for a <span id='tool'>MongoDB</span> instance.](../%40textbook/11-databases-mongodb.ipynb#Servers-and-Clients) \n",
    "- [<span id='technique'>Access a database using <span id='tool'>PyMongo.](../%40textbook/11-databases-mongodb.ipynb#Servers-and-Clients)\n",
    "- [<span id='technique'>Access a collection in a database using <span id='tool'>PyMongo.](../%40textbook/11-databases-mongodb.ipynb#Collections)"
   ]
  },
  {
   "cell_type": "code",
   "execution_count": null,
   "id": "9fe15e42-c61c-4d0b-8372-6c8e61409c2a",
   "metadata": {
    "deletable": false
   },
   "outputs": [],
   "source": [
    "client = ...\n",
    "db = ...\n",
    "nairobi = ..."
   ]
  },
  {
   "cell_type": "code",
   "execution_count": null,
   "id": "7ed78dd3-1e79-453f-867e-a6a092eb80a9",
   "metadata": {
    "deletable": false
   },
   "outputs": [],
   "source": [
    "def wrangle(collection):\n",
    "\n",
    "    results = collection.find(\n",
    "        {\"metadata.site\": 29, \"metadata.measurement\": \"P2\"},\n",
    "        projection={\"P2\": 1, \"timestamp\": 1, \"_id\": 0},\n",
    "    )\n",
    "\n",
    "    # Read results into DataFrame\n",
    "    df = pd.DataFrame(list(results)).set_index(\"timestamp\")\n",
    "\n",
    "    # Localize timezone\n",
    "    df.index = df.index.tz_localize(\"UTC\").tz_convert(\"Africa/Nairobi\")\n",
    "\n",
    "    # Remove outliers\n",
    "    df = df[df[\"P2\"] < 500]\n",
    "\n",
    "    # Resample and forward-fill\n",
    "    y = ...\n",
    "\n",
    "    return y"
   ]
  },
  {
   "cell_type": "code",
   "execution_count": null,
   "id": "cc06ea22-ecab-4952-8c51-b489f1fbc873",
   "metadata": {
    "deletable": false,
    "editable": false,
    "init_cell": true
   },
   "outputs": [],
   "source": [
    "VimeoVideo(\"665851670\", h=\"3efc0c20d4\", width=600)"
   ]
  },
  {
   "cell_type": "markdown",
   "id": "85cf363a-abaf-467b-800c-2b0771992d86",
   "metadata": {
    "deletable": false,
    "editable": false
   },
   "source": [
    "**Task 3.4.2:** Change your `wrangle` function so that it has a `resample_rule` argument that allows the user to change the resampling interval. The argument default should be `\"1H\"`.\n",
    "\n",
    "- [What's an <span id='term'>argument?](../%40textbook/02-python-advanced.ipynb#Functions)\n",
    "- [<span id='technique'>Include an argument in a function in <span id='tool'>Python.](../%40textbook/02-python-advanced.ipynb#Functions)"
   ]
  },
  {
   "cell_type": "code",
   "execution_count": null,
   "id": "48118ed6-5d9d-418c-891c-391a3ced71b2",
   "metadata": {
    "deletable": false
   },
   "outputs": [],
   "source": [
    "# Check your work\n",
    "func_params = set(inspect.signature(wrangle).parameters.keys())\n",
    "assert func_params == set(\n",
    "    [\"collection\", \"resample_rule\"]\n",
    "), f\"Your function should take two arguments: `'collection'`, `'resample_rule'`. Your function takes the following arguments: {func_params}\""
   ]
  },
  {
   "cell_type": "markdown",
   "id": "34db0659-01e8-468a-9bc2-53450fb2cf47",
   "metadata": {
    "deletable": false,
    "editable": false
   },
   "source": [
    "**Task 3.4.3:** Use your wrangle function to read the data from the `nairobi` collection into the Series `y`."
   ]
  },
  {
   "cell_type": "code",
   "execution_count": null,
   "id": "51ac4862-d53e-4ec9-8c30-b97be3156a7e",
   "metadata": {
    "deletable": false
   },
   "outputs": [],
   "source": [
    "y = ...\n",
    "y.head()"
   ]
  },
  {
   "cell_type": "code",
   "execution_count": null,
   "id": "0d9cfefc-96c5-44d7-a6a9-e6cef8238018",
   "metadata": {
    "deletable": false
   },
   "outputs": [],
   "source": [
    "# Check your work\n",
    "assert isinstance(y, pd.Series), f\"`y` should be a Series, not a {type(y)}.\"\n",
    "assert len(y) == 2928, f\"`y` should have 2,928 observations, not {len(y)}.\"\n",
    "assert (\n",
    "    y.isnull().sum() == 0\n",
    "), f\"There should be no null values in `y`. Your `y` has {y.isnull().sum()} null values.\""
   ]
  },
  {
   "cell_type": "markdown",
   "id": "70b6845c-24e9-4b4b-abc7-74de4f452032",
   "metadata": {
    "deletable": false,
    "editable": false
   },
   "source": [
    "## Explore"
   ]
  },
  {
   "cell_type": "code",
   "execution_count": null,
   "id": "9f6987bf-8a54-44fa-babe-b2f60af9ce09",
   "metadata": {
    "deletable": false,
    "editable": false,
    "init_cell": true
   },
   "outputs": [],
   "source": [
    "VimeoVideo(\"665851654\", h=\"687ff8d5ee\", width=600)"
   ]
  },
  {
   "cell_type": "markdown",
   "id": "3f4b2c02-1fd5-4ed3-96de-53e3e6689318",
   "metadata": {
    "deletable": false,
    "editable": false
   },
   "source": [
    "**Task 3.4.4:** Create an ACF plot for the data in `y`. Be sure to label the x-axis as `\"Lag [hours]\"` and the y-axis as `\"Correlation Coefficient\"`.\n",
    "\n",
    "- [What's an <span id='term'>ACF plot?](../%40textbook/17-ts-core.ipynb#ACF-Plot)\n",
    "- [<span id='technique'>Create an ACF plot using <span id='tool'>statsmodels](../%40textbook/18-ts-models.ipynb#Creating-an-ACF-Plot)"
   ]
  },
  {
   "cell_type": "code",
   "execution_count": null,
   "id": "5fd8fa58-e301-4b4c-890c-6a3a403a3fbc",
   "metadata": {
    "deletable": false
   },
   "outputs": [],
   "source": []
  },
  {
   "cell_type": "code",
   "execution_count": null,
   "id": "190544b1-b85b-41a9-baea-a653353af607",
   "metadata": {
    "deletable": false,
    "editable": false,
    "init_cell": true
   },
   "outputs": [],
   "source": [
    "VimeoVideo(\"665851644\", h=\"e857f05bfb\", width=600)"
   ]
  },
  {
   "cell_type": "markdown",
   "id": "816f6378-98ca-4ed6-8271-2043b66218ea",
   "metadata": {
    "deletable": false,
    "editable": false
   },
   "source": [
    "**Task 3.4.5:** Create an PACF plot for the data in `y`. Be sure to label the x-axis as `\"Lag [hours]\"` and the y-axis as `\"Correlation Coefficient\"`.\n",
    "\n",
    "- [What's an <span id='term'>PACF plot?](../%40textbook/17-ts-core.ipynb#PACF-Plot)\n",
    "- [<span id='technique'>Create an PACF plot using <span id='tool'>statsmodels](../%40textbook/18-ts-models.ipynb#Creating-a-PACF-Plot)"
   ]
  },
  {
   "cell_type": "code",
   "execution_count": null,
   "id": "a4680138-3e13-4968-9380-1e0e350bda74",
   "metadata": {
    "deletable": false
   },
   "outputs": [],
   "source": []
  },
  {
   "cell_type": "markdown",
   "id": "c21e2444-6d8b-4e01-8033-881720d97069",
   "metadata": {
    "deletable": false,
    "editable": false
   },
   "source": [
    "## Split"
   ]
  },
  {
   "cell_type": "markdown",
   "id": "8ab7de17-39eb-4098-ac2d-f1202cd622b6",
   "metadata": {
    "deletable": false,
    "editable": false
   },
   "source": [
    "**Task 3.4.6:** Create a training set `y_train` that contains only readings from October 2018, and a test set `y_test` that contains readings from November 1, 2018.\n",
    "\n",
    "- [<span id='technique'>Subset a DataFrame by selecting one or more rows in <span id='tool'>pandas.](../%40textbook/04-pandas-advanced.ipynb#Subsetting-with-Masks)"
   ]
  },
  {
   "cell_type": "code",
   "execution_count": null,
   "id": "c60edd04-b3d6-497b-8a30-5bdd2ea47383",
   "metadata": {
    "deletable": false
   },
   "outputs": [],
   "source": [
    "y_train = ...\n",
    "y_test = ..."
   ]
  },
  {
   "cell_type": "code",
   "execution_count": null,
   "id": "0c6ddea8-77e7-4800-834e-589ac3a17c9d",
   "metadata": {
    "deletable": false
   },
   "outputs": [],
   "source": [
    "# Check your work\n",
    "assert (\n",
    "    len(y_train) == 744\n",
    "), f\"`y_train` should have 744 observations, not {len(y_train)}.\"\n",
    "assert len(y_test) == 24, f\"`y_test` should have 24 observations, not {len(y_test)}.\""
   ]
  },
  {
   "cell_type": "markdown",
   "id": "bf970bec-f938-4fb7-a76e-41a12447991f",
   "metadata": {
    "deletable": false,
    "editable": false
   },
   "source": [
    "# Build Model"
   ]
  },
  {
   "cell_type": "markdown",
   "id": "324141f7-b68d-4128-bdc6-05d4339d31d3",
   "metadata": {
    "deletable": false,
    "editable": false
   },
   "source": [
    "## Baseline"
   ]
  },
  {
   "cell_type": "markdown",
   "id": "a8c18c9a-7ef9-4df5-b2f2-d8adbfce38cd",
   "metadata": {
    "deletable": false,
    "editable": false
   },
   "source": [
    "**Task 3.4.7:** Calculate the baseline mean absolute error for your model."
   ]
  },
  {
   "cell_type": "code",
   "execution_count": null,
   "id": "e2acfb6f-5296-401f-856d-4d9bccc0c4a7",
   "metadata": {
    "deletable": false
   },
   "outputs": [],
   "source": [
    "\n",
    "print(\"Mean P2 Reading:\", round(y_train_mean, 2))\n",
    "print(\"Baseline MAE:\", round(mae_baseline, 2))"
   ]
  },
  {
   "cell_type": "markdown",
   "id": "f6518765-f4f8-4b62-b667-7445caf775fa",
   "metadata": {
    "deletable": false,
    "editable": false
   },
   "source": [
    "## Iterate"
   ]
  },
  {
   "cell_type": "code",
   "execution_count": null,
   "id": "44d979c4-9446-42da-86cd-b1fd7718682d",
   "metadata": {
    "deletable": false,
    "editable": false,
    "init_cell": true
   },
   "outputs": [],
   "source": [
    "VimeoVideo(\"665851576\", h=\"36e2dc6269\", width=600)"
   ]
  },
  {
   "cell_type": "markdown",
   "id": "760d0f20-7085-409f-be9e-f45f88a7e86f",
   "metadata": {
    "deletable": false,
    "editable": false
   },
   "source": [
    "**Task 3.4.8:** Create ranges for possible $p$ and $q$ values. `p_params` should range between 0 and 25, by steps of 8. `q_params` should range between 0 and 3 by steps of 1.\n",
    "\n",
    "- [What's a <span id='term'>hyperparameter?](../%40textbook/17-ts-core.ipynb#Hyperparameters)\n",
    "- [What's an <span id='term'>iterator?](../%40textbook/02-python-advanced.ipynb#Iterators-and-Iterables-)\n",
    "- [<span id='technique'>Create a range in <span id='tool'>Python.](../%40textbook/18-ts-models.ipynb#Hyperparameters)"
   ]
  },
  {
   "cell_type": "code",
   "execution_count": null,
   "id": "6e0bffaa-1ebc-4b6f-8c4d-666676679739",
   "metadata": {
    "deletable": false
   },
   "outputs": [],
   "source": [
    "p_params = ...\n",
    "q_params = ..."
   ]
  },
  {
   "cell_type": "code",
   "execution_count": null,
   "id": "58e66ebd-f69a-48c5-abea-f70549bd5420",
   "metadata": {
    "deletable": false,
    "editable": false,
    "init_cell": true
   },
   "outputs": [],
   "source": [
    "VimeoVideo(\"665851476\", h=\"d60346ed30\", width=600)"
   ]
  },
  {
   "cell_type": "markdown",
   "id": "44473e54-56e2-49c2-a790-65010bc567a5",
   "metadata": {
    "deletable": false,
    "editable": false
   },
   "source": [
    "**Task 3.4.9:** Complete the code below to train a model with every combination of hyperparameters in `p_params` and `q_params`. Every time the model is trained, the mean absolute error is calculated and then saved to a dictionary. If you're not sure where to start, do the code-along with Nicholas!\n",
    "\n",
    "- [What's an <span id='term'>ARMA model?](../%40textbook/17-ts-core.ipynb#ARMA-Models)\n",
    "- [<span id='technique'>Append an item to a list in <span id='tool'>Python.](../%40textbook/01-python-getting-started.ipynb#Appending-Items)\n",
    "- [<span id='technique'>Calculate the mean absolute error for a list of predictions in <span id='tool'>scikit-learn.](../%40textbook/15-ml-regression.ipynb#Calculating-the-Mean-Absolute-Error-for-a-List-of-Predictions)\n",
    "- [<span id='technique'>Instantiate a predictor in <span id='tool'>statsmodels.](../%40textbook/18-ts-models.ipynb#Iterating)\n",
    "- [<span id='technique'>Train a model in <span id='tool'>statsmodels.](../%40textbook/18-ts-models.ipynb#Iterating)\n",
    "- [<span id='technique'>Write a for loop in <span id='tool'>Python.](../%40textbook/01-python-getting-started.ipynb#Working-with-for-Loops)"
   ]
  },
  {
   "cell_type": "code",
   "execution_count": null,
   "id": "d508c0a0-605e-4f6c-84a9-2d93bc405c21",
   "metadata": {
    "deletable": false,
    "tags": []
   },
   "outputs": [],
   "source": [
    "# Create dictionary to store MAEs\n",
    "mae_grid = dict()\n",
    "# Outer loop: Iterate through possible values for `p`\n",
    "for p in p_params:\n",
    "    # Create key-value pair in dict. Key is `p`, value is empty list.\n",
    "    mae_grid[p] = list()\n",
    "    # Inner loop: Iterate through possible values for `q`\n",
    "    for q in q_params:\n",
    "        # Combination of hyperparameters for model\n",
    "        order = (p, 0, q)\n",
    "        # Note start time\n",
    "        start_time = time.time()\n",
    "        # Train model\n",
    "        model = ...\n",
    "        # Calculate model training time\n",
    "        elapsed_time = round(time.time() - start_time, 2)\n",
    "        print(f\"Trained ARIMA {order} in {elapsed_time} seconds.\")\n",
    "        # Generate in-sample (training) predictions\n",
    "        y_pred = ...\n",
    "        # Calculate training MAE\n",
    "        mae = ...\n",
    "        # Append MAE to list in dictionary\n",
    "        mae_grid[p].append(mae)\n",
    "\n",
    "print()\n",
    "print(mae_grid)"
   ]
  },
  {
   "cell_type": "code",
   "execution_count": null,
   "id": "291d4e8b-ce89-42eb-835c-3c9d5409bc2e",
   "metadata": {
    "deletable": false,
    "editable": false,
    "init_cell": true
   },
   "outputs": [],
   "source": [
    "VimeoVideo(\"665851464\", h=\"12f4080d0b\", width=600)"
   ]
  },
  {
   "cell_type": "markdown",
   "id": "57afa00a-1006-4180-961c-6a6352ed0eb1",
   "metadata": {
    "deletable": false,
    "editable": false
   },
   "source": [
    "**Task 3.4.10:** Organize all the MAE's from above in a DataFrame names `mae_df`. Each row represents a possible value for $q$ and each column represents a possible value for $p$. \n",
    "\n",
    "- [<span id='technique'>Create a DataFrame from a dictionary using <span id='tool'>pandas.](../%40textbook/03-pandas-getting-started.ipynb#Working-with-DataFrames)"
   ]
  },
  {
   "cell_type": "code",
   "execution_count": null,
   "id": "c204ffbf-c2cb-40a1-a3f7-bd71c9c797d7",
   "metadata": {
    "deletable": false
   },
   "outputs": [],
   "source": [
    "mae_df = ...\n",
    "mae_df.round(4)"
   ]
  },
  {
   "cell_type": "code",
   "execution_count": null,
   "id": "1d85b935-2077-410e-9a75-42f0c2c05e71",
   "metadata": {
    "deletable": false,
    "editable": false,
    "init_cell": true
   },
   "outputs": [],
   "source": [
    "VimeoVideo(\"665851453\", h=\"dfd415bc08\", width=600)"
   ]
  },
  {
   "cell_type": "markdown",
   "id": "3cecf9db-d5c0-46d9-b7f8-234295a48d98",
   "metadata": {
    "deletable": false,
    "editable": false
   },
   "source": [
    "**Task 3.4.11:** Create heatmap of the values in `mae_grid`. Be sure to label your x-axis `\"p values\"` and your y-axis `\"q values\"`. \n",
    "\n",
    "- [<span id='technique'>Create a heatmap in <span id='tool'>seaborn.](../%40textbook/09-visualization-seaborn.ipynb#Correlation-Heatmaps)"
   ]
  },
  {
   "cell_type": "code",
   "execution_count": null,
   "id": "c1e49ebf-2277-4ddb-9779-b6c04271d192",
   "metadata": {
    "deletable": false
   },
   "outputs": [],
   "source": []
  },
  {
   "cell_type": "code",
   "execution_count": null,
   "id": "750e45f2-7c12-4dab-b538-393cd22b5197",
   "metadata": {
    "deletable": false,
    "editable": false,
    "init_cell": true
   },
   "outputs": [],
   "source": [
    "VimeoVideo(\"665851444\", h=\"8b58161f26\", width=600)"
   ]
  },
  {
   "cell_type": "markdown",
   "id": "d12b85ab-e750-47ec-a953-df56f327c0d8",
   "metadata": {
    "deletable": false,
    "editable": false
   },
   "source": [
    "**Task 3.4.12:** Use the [`plot_diagnostics`](https://www.statsmodels.org/stable/generated/statsmodels.tsa.arima.model.ARIMAResults.plot_diagnostics.html) method to check the residuals for your model. Keep in mind that the plot will represent the residuals from the last model you trained, so make sure it was your best model, too!\n",
    "\n",
    "- [<span id='technique'>Examine time series model residuals using <span id='tool'>statsmodels.](../%40textbook/18-ts-models.ipynb#Residuals)"
   ]
  },
  {
   "cell_type": "code",
   "execution_count": null,
   "id": "41421287-4ce6-4c10-8e6d-a2298211ce6a",
   "metadata": {
    "deletable": false
   },
   "outputs": [],
   "source": [
    "fig, ax = plt.subplots(figsize=(15, 12))\n"
   ]
  },
  {
   "cell_type": "markdown",
   "id": "37d0bcb3-7eeb-4577-beda-4fdb91357dc9",
   "metadata": {
    "deletable": false,
    "editable": false
   },
   "source": [
    "## Evaluate"
   ]
  },
  {
   "cell_type": "code",
   "execution_count": null,
   "id": "c8a97415-b608-42b7-836a-76659cc01385",
   "metadata": {
    "deletable": false,
    "editable": false,
    "init_cell": true
   },
   "outputs": [],
   "source": [
    "VimeoVideo(\"665851439\", h=\"c48d80cdf4\", width=600)"
   ]
  },
  {
   "cell_type": "markdown",
   "id": "d608c20f-2c51-41db-a87c-445d1711b37b",
   "metadata": {
    "deletable": false,
    "editable": false
   },
   "source": [
    "**Task 3.4.13:** Complete the code below to perform walk-forward validation for your model for the entire test set `y_test`. Store your model's predictions in the Series `y_pred_wfv`. Choose the values for $p$ and $q$ that best balance model performance and computation time. Remember: This model is going to have to train 24 times before you can see your test MAE!"
   ]
  },
  {
   "cell_type": "code",
   "execution_count": null,
   "id": "4f80c3d9-2226-4ce3-85ed-c5c5ec9f32e8",
   "metadata": {
    "deletable": false
   },
   "outputs": [],
   "source": [
    "y_pred_wfv = pd.Series()\n",
    "history = y_train.copy()\n",
    "for i in range(len(y_test)):\n",
    "    model = ...\n",
    "    next_pred = model.forecast()\n",
    "    y_pred_wfv = y_pred_wfv.append(next_pred)\n",
    "    history = history.append(y_test[next_pred.index])"
   ]
  },
  {
   "cell_type": "code",
   "execution_count": null,
   "id": "b635d955-6efe-4f6e-96c3-aea81486aff4",
   "metadata": {
    "deletable": false
   },
   "outputs": [],
   "source": [
    "test_mae = ...\n",
    "print(\"Test MAE (walk forward validation):\", round(test_mae, 2))"
   ]
  },
  {
   "cell_type": "markdown",
   "id": "d439159f-15b3-4cab-9a21-2c3768279f72",
   "metadata": {
    "deletable": false,
    "editable": false
   },
   "source": [
    "# Communicate Results"
   ]
  },
  {
   "cell_type": "code",
   "execution_count": null,
   "id": "f2c51a36-3332-4bd1-a2cc-62bd24d355d4",
   "metadata": {
    "deletable": false,
    "editable": false,
    "init_cell": true
   },
   "outputs": [],
   "source": [
    "VimeoVideo(\"665851423\", h=\"8236ff348f\", width=600)"
   ]
  },
  {
   "cell_type": "markdown",
   "id": "ef6d0d89-c652-4639-936b-3fe72a61b014",
   "metadata": {
    "deletable": false,
    "editable": false
   },
   "source": [
    "**Task 3.4.14:** First, generate the list of training predictions for your model. Next, create a DataFrame `df_predictions` with the true values `y_test` and your predictions `y_pred_wfv` (don't forget the index). Finally, plot `df_predictions` using plotly express. Make sure that the y-axis is labeled `\"P2\"`. \n",
    "\n",
    "- [<span id='technique'>Generate in-sample predictions for a model in <span id='tool'>statsmodels.](../%40textbook/18-ts-models.ipynb#Iterating)\n",
    "- [<span id='technique'>Create a DataFrame from a dictionary using <span id='tool'>pandas.](../%40textbook/03-pandas-getting-started.ipynb#Working-with-DataFrames)\n",
    "- [<span id='technique'>Create a line plot in <span id='tool'>pandas.](../%40textbook/07-visualization-pandas.ipynb#Line-Plots)    "
   ]
  },
  {
   "cell_type": "code",
   "execution_count": null,
   "id": "06140822-5ed2-4fbe-8852-c5a184ca5a6f",
   "metadata": {
    "deletable": false
   },
   "outputs": [],
   "source": [
    "df_predictions = ...\n",
    "fig = ...\n",
    "fig.show()"
   ]
  },
  {
   "cell_type": "markdown",
   "id": "ecfb2aeb",
   "metadata": {
    "deletable": false,
    "editable": false
   },
   "source": [
    "---\n",
    "Copyright © 2022 WorldQuant University. This\n",
    "content is licensed solely for personal use. Redistribution or\n",
    "publication of this material is strictly prohibited.\n"
   ]
  }
 ],
 "metadata": {
  "execution": {
   "timeout": 600
  },
  "kernelspec": {
   "display_name": "Python 3 (ipykernel)",
   "language": "python",
   "name": "python3"
  },
  "language_info": {
   "codemirror_mode": {
    "name": "ipython",
    "version": 3
   },
   "file_extension": ".py",
   "mimetype": "text/x-python",
   "name": "python",
   "nbconvert_exporter": "python",
   "pygments_lexer": "ipython3",
   "version": "3.9.6"
  }
 },
 "nbformat": 4,
 "nbformat_minor": 5
}
