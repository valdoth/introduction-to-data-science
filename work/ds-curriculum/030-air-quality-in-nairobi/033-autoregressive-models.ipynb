{
 "cells": [
  {
   "cell_type": "markdown",
   "id": "da0b1108-1533-44cb-9ca3-97c6cccd6a5e",
   "metadata": {
    "deletable": false,
    "editable": false
   },
   "source": [
    "<font size=\"+3\"><strong>3.3. Autoregressive Models</strong></font>"
   ]
  },
  {
   "cell_type": "code",
   "execution_count": null,
   "id": "2a2428fb-63b3-47b2-94c2-34501f9e3f3e",
   "metadata": {
    "deletable": false,
    "editable": false,
    "init_cell": true
   },
   "outputs": [],
   "source": [
    "import warnings\n",
    "\n",
    "import matplotlib.pyplot as plt\n",
    "import pandas as pd\n",
    "import plotly.express as px\n",
    "from IPython.display import VimeoVideo\n",
    "from pymongo import MongoClient\n",
    "from sklearn.metrics import mean_absolute_error\n",
    "from statsmodels.graphics.tsaplots import plot_acf, plot_pacf\n",
    "from statsmodels.tsa.ar_model import AutoReg\n",
    "\n",
    "warnings.simplefilter(action=\"ignore\", category=FutureWarning)"
   ]
  },
  {
   "cell_type": "code",
   "execution_count": null,
   "id": "38e20181-2307-4291-a9ea-26c84453f377",
   "metadata": {
    "deletable": false,
    "editable": false,
    "init_cell": true
   },
   "outputs": [],
   "source": [
    "VimeoVideo(\"665851858\", h=\"e39fc3d260\", width=600)"
   ]
  },
  {
   "cell_type": "markdown",
   "id": "19b28a2d-f364-4479-99f4-273cfcbd59e2",
   "metadata": {
    "deletable": false,
    "editable": false
   },
   "source": [
    "# Prepare Data"
   ]
  },
  {
   "cell_type": "markdown",
   "id": "00ce3f87-f7f4-482c-9c41-09173cdcefbb",
   "metadata": {
    "deletable": false,
    "editable": false,
    "tags": []
   },
   "source": [
    "## Import"
   ]
  },
  {
   "cell_type": "code",
   "execution_count": null,
   "id": "9da64f93-2a92-46a7-8541-4bee1807745e",
   "metadata": {
    "deletable": false,
    "editable": false,
    "init_cell": true
   },
   "outputs": [],
   "source": [
    "VimeoVideo(\"665851852\", h=\"16aa0a56e6\", width=600)"
   ]
  },
  {
   "cell_type": "markdown",
   "id": "4664b45c-ad3f-42e7-95c9-d1a566a31af1",
   "metadata": {
    "deletable": false,
    "editable": false
   },
   "source": [
    "**Task 3.3.1:** Complete to the create a client to connect to the MongoDB server, assigns the `\"air-quality\"` database to `db`, and assigned the `\"nairobi\"` connection to `nairobi`.\n",
    "\n",
    "- [<span id='technique'>Create a client object for a <span id='tool'>MongoDB</span> instance.](../%40textbook/11-databases-mongodb.ipynb#Servers-and-Clients) \n",
    "- [<span id='technique'>Access a database using <span id='tool'>PyMongo.](../%40textbook/11-databases-mongodb.ipynb#Servers-and-Clients)\n",
    "- [<span id='technique'>Access a collection in a database using <span id='tool'>PyMongo.](../%40textbook/11-databases-mongodb.ipynb#Collections)"
   ]
  },
  {
   "cell_type": "code",
   "execution_count": null,
   "id": "9fe15e42-c61c-4d0b-8372-6c8e61409c2a",
   "metadata": {
    "deletable": false
   },
   "outputs": [],
   "source": [
    "client = ...\n",
    "db = ...\n",
    "nairobi = ..."
   ]
  },
  {
   "cell_type": "code",
   "execution_count": null,
   "id": "ffb6d217-6809-42ed-bd49-939b92c64d40",
   "metadata": {
    "deletable": false,
    "editable": false,
    "init_cell": true
   },
   "outputs": [],
   "source": [
    "VimeoVideo(\"665851840\", h=\"e048425f49\", width=600)"
   ]
  },
  {
   "cell_type": "markdown",
   "id": "2d69b42e-025e-46ac-a4cb-2623d8f155a1",
   "metadata": {
    "deletable": false,
    "editable": false
   },
   "source": [
    "**Task 3.3.2:** Change the `wrangle` function below so that it returns a Series of the resampled data instead of a DataFrame."
   ]
  },
  {
   "cell_type": "code",
   "execution_count": null,
   "id": "7ed78dd3-1e79-453f-867e-a6a092eb80a9",
   "metadata": {
    "deletable": false
   },
   "outputs": [],
   "source": [
    "def wrangle(collection):\n",
    "    results = collection.find(\n",
    "        {\"metadata.site\": 29, \"metadata.measurement\": \"P2\"},\n",
    "        projection={\"P2\": 1, \"timestamp\": 1, \"_id\": 0},\n",
    "    )\n",
    "\n",
    "    # Read data into DataFrame\n",
    "    df = pd.DataFrame(list(results)).set_index(\"timestamp\")\n",
    "\n",
    "    # Localize timezone\n",
    "    df.index = df.index.tz_localize(\"UTC\").tz_convert(\"Africa/Nairobi\")\n",
    "\n",
    "    # Remove outliers\n",
    "    df = df[df[\"P2\"] < 500]\n",
    "\n",
    "    # Resample to 1hr window\n",
    "    y = df[\"P2\"].resample(\"1H\").mean().fillna(method='ffill').to_frame()\n",
    "\n",
    "    return y"
   ]
  },
  {
   "cell_type": "markdown",
   "id": "18d44196-3c70-4bf7-a2e0-3e061480be1d",
   "metadata": {
    "deletable": false,
    "editable": false
   },
   "source": [
    "**Task 3.3.3:** Use your wrangle function to read the data from the `nairobi` collection into the Series `y`."
   ]
  },
  {
   "cell_type": "code",
   "execution_count": null,
   "id": "51ac4862-d53e-4ec9-8c30-b97be3156a7e",
   "metadata": {
    "deletable": false
   },
   "outputs": [],
   "source": [
    "y = ...\n",
    "y.head()"
   ]
  },
  {
   "cell_type": "code",
   "execution_count": null,
   "id": "bc377937-46d2-4b73-b79a-acf4fd37603b",
   "metadata": {
    "deletable": false
   },
   "outputs": [],
   "source": [
    "# Check your work\n",
    "assert isinstance(y, pd.Series), f\"`y` should be a Series, not type {type(y)}\"\n",
    "assert len(y) == 2928, f\"`y` should have 2928 observations, not {len(y)}\"\n",
    "assert y.isnull().sum() == 0"
   ]
  },
  {
   "cell_type": "markdown",
   "id": "8730fa2c-0970-42b1-bb18-d334bd8d8b2d",
   "metadata": {
    "deletable": false,
    "editable": false
   },
   "source": [
    "## Explore"
   ]
  },
  {
   "cell_type": "code",
   "execution_count": null,
   "id": "86d3d7a9-ac9d-47f6-8b7e-d2eeda8e5d42",
   "metadata": {
    "deletable": false,
    "editable": false,
    "init_cell": true
   },
   "outputs": [],
   "source": [
    "VimeoVideo(\"665851830\", h=\"85f58bc92b\", width=600)"
   ]
  },
  {
   "cell_type": "markdown",
   "id": "a5829db3-8427-4f78-81b7-d4068ad5d480",
   "metadata": {
    "deletable": false,
    "editable": false
   },
   "source": [
    "**Task 3.3.4:** Create an ACF plot for the data in `y`. Be sure to label the x-axis as `\"Lag [hours]\"` and the y-axis as `\"Correlation Coefficient\"`.\n",
    "\n",
    "- [What's an <span id='term'>ACF plot?](../%40textbook/17-ts-core.ipynb#ACF-Plot)\n",
    "- [<span id='technique'>Create an ACF plot using <span id='tool'>statsmodels](../%40textbook/18-ts-models.ipynb#Creating-an-ACF-Plot)"
   ]
  },
  {
   "cell_type": "code",
   "execution_count": null,
   "id": "bda3cfc3-6353-4c19-806c-d91b7e44ad5c",
   "metadata": {
    "deletable": false
   },
   "outputs": [],
   "source": [
    "fig, ax = plt.subplots(figsize=(15, 6))\n",
    "\n",
    "plt.xlabel(\"Lag [hours]\")\n",
    "plt.ylabel(\"Correlation Coefficient\");"
   ]
  },
  {
   "cell_type": "code",
   "execution_count": null,
   "id": "4e32a266-ac58-40ab-8344-3d9023745828",
   "metadata": {
    "deletable": false,
    "editable": false,
    "init_cell": true
   },
   "outputs": [],
   "source": [
    "VimeoVideo(\"665851811\", h=\"ee3a2b5c24\", width=600)"
   ]
  },
  {
   "cell_type": "markdown",
   "id": "fbda5fe7-9fc3-424f-99f6-fc8131ae11ec",
   "metadata": {
    "deletable": false,
    "editable": false
   },
   "source": [
    "**Task 3.3.5:** Create an PACF plot for the data in `y`. Be sure to label the x-axis as `\"Lag [hours]\"` and the y-axis as `\"Correlation Coefficient\"`.\n",
    "\n",
    "- [What's an <span id='term'>PACF plot?](../%40textbook/17-ts-core.ipynb#PACF-Plot)\n",
    "- [<span id='technique'>Create an PACF plot using <span id='tool'>statsmodels](../%40textbook/18-ts-models.ipynb#Creating-a-PACF-Plot)"
   ]
  },
  {
   "cell_type": "code",
   "execution_count": null,
   "id": "c8df06e5-8c82-4f97-af26-baa3c2eaa6d6",
   "metadata": {
    "deletable": false
   },
   "outputs": [],
   "source": [
    "fig, ax = plt.subplots(figsize=(15, 6))\n",
    "\n",
    "plt.xlabel(\"Lag [hours]\")\n",
    "plt.ylabel(\"Correlation Coefficient\");"
   ]
  },
  {
   "cell_type": "markdown",
   "id": "c21e2444-6d8b-4e01-8033-881720d97069",
   "metadata": {
    "deletable": false,
    "editable": false
   },
   "source": [
    "## Split"
   ]
  },
  {
   "cell_type": "code",
   "execution_count": null,
   "id": "4babfeaf-69c4-4827-8c55-e3df0c482c66",
   "metadata": {
    "deletable": false,
    "editable": false,
    "init_cell": true
   },
   "outputs": [],
   "source": [
    "VimeoVideo(\"665851798\", h=\"6c191cd94c\", width=600)"
   ]
  },
  {
   "cell_type": "markdown",
   "id": "8ab7de17-39eb-4098-ac2d-f1202cd622b6",
   "metadata": {
    "deletable": false,
    "editable": false
   },
   "source": [
    "**Task 3.3.6:** Split `y` into training and test sets. The first 95% of the data should be in your training set. The remaining 5% should be in the test set.\n",
    "\n",
    "- [<span id='technique'>Divide data into training and test sets in <span id='tool'>pandas.](../%40textbook/18-ts-models.ipynb#Splitting-the-Data-in-pandas)"
   ]
  },
  {
   "cell_type": "code",
   "execution_count": null,
   "id": "c60edd04-b3d6-497b-8a30-5bdd2ea47383",
   "metadata": {
    "deletable": false
   },
   "outputs": [],
   "source": [
    "cutoff_test = ...\n",
    "\n",
    "y_train = ...\n",
    "y_test = ..."
   ]
  },
  {
   "cell_type": "markdown",
   "id": "3357bfd8-d9b8-4cb0-a777-4865150169ea",
   "metadata": {
    "deletable": false,
    "editable": false
   },
   "source": [
    "# Build Model"
   ]
  },
  {
   "cell_type": "markdown",
   "id": "324141f7-b68d-4128-bdc6-05d4339d31d3",
   "metadata": {
    "deletable": false,
    "editable": false
   },
   "source": [
    "## Baseline"
   ]
  },
  {
   "cell_type": "markdown",
   "id": "a4481ead-912b-483a-a828-1183836eb280",
   "metadata": {
    "deletable": false,
    "editable": false
   },
   "source": [
    "**Task 3.3.7:** Calculate the baseline mean absolute error for your model.\n",
    "\n",
    "- [<span id='technique'>Calculate summary statistics for a DataFrame or Series in <span id='tool'>pandas.](../%40textbook/04-pandas-advanced.ipynb#Calculate-Summary-Statistics-for-a-DataFrame-or-Series)"
   ]
  },
  {
   "cell_type": "code",
   "execution_count": null,
   "id": "e2acfb6f-5296-401f-856d-4d9bccc0c4a7",
   "metadata": {
    "deletable": false
   },
   "outputs": [],
   "source": [
    "y_train_mean = y_train.mean()\n",
    "y_pred_baseline = [y_train_mean] * len(y_train)\n",
    "mae_baseline = mean_absolute_error(y_train, y_pred_baseline)\n",
    "\n",
    "print(\"Mean P2 Reading:\", round(y_train_mean, 2))\n",
    "print(\"Baseline MAE:\", round(mae_baseline, 2))"
   ]
  },
  {
   "cell_type": "markdown",
   "id": "f7b59427-6cbe-4a1a-a927-81bcbacdb28f",
   "metadata": {
    "deletable": false,
    "editable": false
   },
   "source": [
    "## Iterate"
   ]
  },
  {
   "cell_type": "code",
   "execution_count": null,
   "id": "70c66e0c-48dc-45c6-8525-21e4dd1bcd94",
   "metadata": {
    "deletable": false,
    "editable": false,
    "init_cell": true
   },
   "outputs": [],
   "source": [
    "VimeoVideo(\"665851769\", h=\"94a4296cde\", width=600)"
   ]
  },
  {
   "cell_type": "markdown",
   "id": "82f28564-9154-4570-ac9a-6aee95e1fb21",
   "metadata": {
    "deletable": false,
    "editable": false
   },
   "source": [
    "**Task 3.3.8:** Instantiate an [`AutoReg`](https://www.statsmodels.org/stable/generated/statsmodels.tsa.ar_model.AutoReg.html) model and fit it to the training data `y_train`. Be sure to set the `lags` argument to `26`.\n",
    "\n",
    "- [What's an <span id='term'>AR model?](../%40textbook/17-ts-core.ipynb#Autoregression-Models)\n",
    "- [<span id='technique'>Instantiate a predictor in <span id='tool'>statsmodels.](../%40textbook/18-ts-models.ipynb#Splitting-the-Data-in-pandas)\n",
    "- [<span id='technique'>Train a model in <span id='tool'>statsmodels.](../%40textbook/18-ts-models.ipynb#Iterating)"
   ]
  },
  {
   "cell_type": "code",
   "execution_count": null,
   "id": "b73acf9a-c29b-4506-9d5b-91035067a4a3",
   "metadata": {
    "deletable": false
   },
   "outputs": [],
   "source": [
    "model = ..."
   ]
  },
  {
   "cell_type": "code",
   "execution_count": null,
   "id": "ee52eb26-e623-4d40-8d41-49dd7cfad152",
   "metadata": {
    "deletable": false,
    "editable": false,
    "init_cell": true
   },
   "outputs": [],
   "source": [
    "VimeoVideo(\"665851746\", h=\"1a4511e883\", width=600)"
   ]
  },
  {
   "cell_type": "markdown",
   "id": "3f8df0e4-7bdf-4448-a2df-7f125933242e",
   "metadata": {
    "deletable": false,
    "editable": false
   },
   "source": [
    "**Task 3.3.9:** Generate a list of training predictions for your model and use them to calculate your training mean absolute error. \n",
    "\n",
    "- [<span id='technique'>Generate in-sample predictions for a model in <span id='tool'>statsmodels.](../%40textbook/18-ts-models.ipynb#Iterating)\n",
    "- [<span id='technique'>Calculate the mean absolute error for a list of predictions in <span id='tool'>scikit-learn.](../%40textbook/15-ml-regression.ipynb#Calculating-the-Mean-Absolute-Error-for-a-List-of-Predictions)"
   ]
  },
  {
   "cell_type": "code",
   "execution_count": null,
   "id": "b277ad1e-8eb0-4ccf-a073-295486fa247a",
   "metadata": {
    "deletable": false
   },
   "outputs": [],
   "source": [
    "y_pred = ...\n",
    "training_mae = ...\n",
    "print(\"Training MAE:\", training_mae)"
   ]
  },
  {
   "cell_type": "code",
   "execution_count": null,
   "id": "a519ef88-5f74-414b-877c-038afa9d7111",
   "metadata": {
    "deletable": false,
    "editable": false,
    "init_cell": true
   },
   "outputs": [],
   "source": [
    "VimeoVideo(\"665851744\", h=\"60d053b455\", width=600)"
   ]
  },
  {
   "cell_type": "markdown",
   "id": "973c1eab-f79f-4c77-a3fe-e6a464092d3c",
   "metadata": {
    "deletable": false,
    "editable": false
   },
   "source": [
    "**Task 3.3.10:** Use `y_train` and `y_pred` to calculate the residuals for your model.\n",
    "\n",
    "- [What's a <span id='term'>residual?](../%40textbook/12-ml-core.ipynb#Residuals)\n",
    "- [<span id='technique'>Create new columns derived from existing columns in a DataFrame using <span id='tool'>pandas.](../%40textbook/03-pandas-getting-started.ipynb#Adding-Columns)"
   ]
  },
  {
   "cell_type": "code",
   "execution_count": null,
   "id": "dad3f406-422b-4faf-a5fa-b29d60f61c0c",
   "metadata": {
    "deletable": false
   },
   "outputs": [],
   "source": [
    "y_train_resid = ...\n",
    "y_train_resid.tail()"
   ]
  },
  {
   "cell_type": "code",
   "execution_count": null,
   "id": "8553d7cb-6a1f-4390-b641-d12f8123cfd8",
   "metadata": {
    "deletable": false,
    "editable": false,
    "init_cell": true
   },
   "outputs": [],
   "source": [
    "VimeoVideo(\"665851712\", h=\"9ff0cdba9c\", width=600)"
   ]
  },
  {
   "cell_type": "markdown",
   "id": "0d4130f7-cbcb-45d9-9b27-c27871620fcb",
   "metadata": {
    "deletable": false,
    "editable": false
   },
   "source": [
    "**Task 3.3.11:** Create a plot of `y_train_resid`.\n",
    "\n",
    "- [<span id='technique'>Create a line plot using <span id='tool'>pandas.](../%40textbook/07-visualization-pandas.ipynb#Line-Plots)"
   ]
  },
  {
   "cell_type": "code",
   "execution_count": null,
   "id": "2cc7744d-cc2e-429c-84af-adf5ba487a2b",
   "metadata": {
    "deletable": false
   },
   "outputs": [],
   "source": [
    "fig, ax = plt.subplots(figsize=(15, 6))\n"
   ]
  },
  {
   "cell_type": "code",
   "execution_count": null,
   "id": "a8c3eaf6-5fb5-4465-aa42-52375ed5a435",
   "metadata": {
    "deletable": false,
    "editable": false,
    "init_cell": true
   },
   "outputs": [],
   "source": [
    "VimeoVideo(\"665851702\", h=\"b494adc297\", width=600)"
   ]
  },
  {
   "cell_type": "markdown",
   "id": "de34974c-d25d-4bf9-8b33-f5b91d346c59",
   "metadata": {
    "deletable": false,
    "editable": false
   },
   "source": [
    "**Task 3.3.12:** Create a histogram of `y_train_resid`.\n",
    "\n",
    "- [<span id='technique'>Create a histogram using <span id='tool'>plotly express.](../%40textbook/06-visualization-matplotlib.ipynb#Histograms)"
   ]
  },
  {
   "cell_type": "code",
   "execution_count": null,
   "id": "f7c63952-50da-4ff1-b781-a2eea54a5071",
   "metadata": {
    "deletable": false
   },
   "outputs": [],
   "source": []
  },
  {
   "cell_type": "code",
   "execution_count": null,
   "id": "a1132cfd-28f3-4ae1-9c51-31eb5acf1e40",
   "metadata": {
    "deletable": false,
    "editable": false,
    "init_cell": true
   },
   "outputs": [],
   "source": [
    "VimeoVideo(\"665851684\", h=\"d6d782a1f3\", width=600)"
   ]
  },
  {
   "cell_type": "markdown",
   "id": "706b0579-4c23-4aee-ab59-10fadfb19dc6",
   "metadata": {
    "deletable": false,
    "editable": false
   },
   "source": [
    "**Task 3.3.13:** Create an ACF plot of `y_train_resid`.\n",
    "\n",
    "- [What's an <span id='term'>ACF plot?](../%40textbook/17-ts-core.ipynb#ACF-Plot)\n",
    "- [<span id='technique'>Create an ACF plot using <span id='tool'>statsmodels](../%40textbook/18-ts-models.ipynb#ACF-Plots)"
   ]
  },
  {
   "cell_type": "code",
   "execution_count": null,
   "id": "b31cb392-055d-4029-b57f-ef26f89b45c7",
   "metadata": {
    "deletable": false
   },
   "outputs": [],
   "source": [
    "fig, ax = plt.subplots(figsize=(15, 6))\n"
   ]
  },
  {
   "cell_type": "markdown",
   "id": "67b7658d-3e87-40c4-8a9e-aa6195bbd328",
   "metadata": {
    "deletable": false,
    "editable": false
   },
   "source": [
    "## Evaluate"
   ]
  },
  {
   "cell_type": "code",
   "execution_count": null,
   "id": "c17200fd-545e-45b4-b538-49519d08d767",
   "metadata": {
    "deletable": false,
    "editable": false,
    "init_cell": true
   },
   "outputs": [],
   "source": [
    "VimeoVideo(\"665851662\", h=\"72e767e121\", width=600)"
   ]
  },
  {
   "cell_type": "markdown",
   "id": "cf6cbc76-e549-43d6-8f27-67cf049788ac",
   "metadata": {
    "deletable": false,
    "editable": false,
    "jp-MarkdownHeadingCollapsed": true,
    "tags": []
   },
   "source": [
    "**Task 3.3.14:** Calculate the test mean absolute error for your model.\n",
    "\n",
    "- [<span id='technique'>Generate out-of-sample predictions using model in <span id='tool'>statsmodels.](../%40textbook/18-ts-models.ipynb#Out-of-Sample-Predictions)\n",
    "- [<span id='technique'>Calculate the mean absolute error for a list of predictions in <span id='tool'>scikit-learn.](../%40textbook/15-ml-regression.ipynb#Calculating-the-Mean-Absolute-Error-for-a-List-of-Predictions)"
   ]
  },
  {
   "cell_type": "code",
   "execution_count": null,
   "id": "51979f18-ff64-4d76-a350-e81377968149",
   "metadata": {
    "deletable": false
   },
   "outputs": [],
   "source": [
    "y_pred_test = ...\n",
    "test_mae = ...\n",
    "print(\"Test MAE:\", test_mae)"
   ]
  },
  {
   "cell_type": "markdown",
   "id": "7af0acb5-50f8-4cef-b757-10079aca4286",
   "metadata": {
    "deletable": false,
    "editable": false
   },
   "source": [
    "**Task 3.3.15:** Create a DataFrame `test_predictions` that has two columns: `\"y_test\"` and `\"y_pred\"`. The first should contain the true values for your test set, and the second should contain your model's predictions. Be sure the index of `test_predictions` matches the index of `y_test`.\n",
    "\n",
    "- [<span id='technique'>Create a DataFrame from a dictionary using <span id='tool'>pandas.](../%40textbook/03-pandas-getting-started.ipynb#Working-with-DataFrames)"
   ]
  },
  {
   "cell_type": "code",
   "execution_count": null,
   "id": "02a1d44e-c3e4-4ea5-8040-cd203687c88b",
   "metadata": {
    "deletable": false
   },
   "outputs": [],
   "source": [
    "df_pred_test = pd.DataFrame(\n",
    "    {\"y_test\": y_test, \"y_pred\": y_pred_test}, index=y_test.index\n",
    ")"
   ]
  },
  {
   "cell_type": "code",
   "execution_count": null,
   "id": "f7a4d03f-7be0-4043-b946-5e22a27aa4ee",
   "metadata": {
    "deletable": false,
    "editable": false,
    "init_cell": true
   },
   "outputs": [],
   "source": [
    "VimeoVideo(\"665851628\", h=\"29b43e482e\", width=600)"
   ]
  },
  {
   "cell_type": "markdown",
   "id": "aa368395-555c-4219-a924-15f38b79d32e",
   "metadata": {
    "deletable": false,
    "editable": false
   },
   "source": [
    "**Task 3.3.16:** Create a time series plot for the values in `test_predictions` using plotly express. Be sure that the y-axis is properly labeled as `\"P2\"`.\n",
    "\n",
    "- [<span id='technique'>Create a line plot in <span id='tool'>plotly express.](../%40textbook/07-visualization-pandas.ipynb#Line-Plots)"
   ]
  },
  {
   "cell_type": "code",
   "execution_count": null,
   "id": "6fe8be4e-05ed-4789-976b-93faff7b4103",
   "metadata": {
    "deletable": false
   },
   "outputs": [],
   "source": [
    "fig = px.line(df_pred_test, labels={\"value\": \"P2\"})\n",
    "fig.show()"
   ]
  },
  {
   "cell_type": "code",
   "execution_count": null,
   "id": "914b5af2-deca-4283-8afc-82ab25540d2f",
   "metadata": {
    "deletable": false,
    "editable": false,
    "init_cell": true
   },
   "outputs": [],
   "source": [
    "VimeoVideo(\"665851599\", h=\"bb30d96e43\", width=600)"
   ]
  },
  {
   "cell_type": "markdown",
   "id": "85a40559-c6ea-41ed-bc53-29f0971a732a",
   "metadata": {
    "deletable": false,
    "editable": false
   },
   "source": [
    "**Task 3.3.17:** Perform walk-forward validation for your model for the entire test set `y_test`. Store your model's predictions in the Series `y_pred_wfv`. \n",
    "\n",
    "- [What's <span id='term'>walk-forward validation?](../%40textbook/17-ts-core.ipynb#Walk-Forward-Validation)\n",
    "- [<span id='technique'>Perform walk-forward validation for time series model.](../%40textbook/18-ts-models.ipynb#Walk-forward-Validation)"
   ]
  },
  {
   "cell_type": "code",
   "execution_count": null,
   "id": "92379eeb-4546-4bad-b11a-ec2477eaf6cc",
   "metadata": {
    "deletable": false
   },
   "outputs": [],
   "source": [
    "%%capture\n",
    "\n",
    "y_pred_wfv = ...\n",
    "history = ...\n",
    "for i in range(len(y_test)):\n",
    "    \n",
    "    pass"
   ]
  },
  {
   "cell_type": "code",
   "execution_count": null,
   "id": "81401774-34c5-4108-b4fd-18e35035be47",
   "metadata": {
    "deletable": false,
    "editable": false,
    "init_cell": true
   },
   "outputs": [],
   "source": [
    "VimeoVideo(\"665851568\", h=\"a764ab5416\", width=600)"
   ]
  },
  {
   "cell_type": "markdown",
   "id": "4695b215-7312-4cd9-9e21-0603f5f9151b",
   "metadata": {
    "deletable": false,
    "editable": false
   },
   "source": [
    "**Task 3.3.18:** Calculate the test mean absolute error for your model.\n",
    "\n",
    "- [<span id='technique'>Calculate the mean absolute error for a list of predictions in <span id='tool'>scikit-learn.](../%40textbook/15-ml-regression.ipynb#Calculating-the-Mean-Absolute-Error-for-a-List-of-Predictions)"
   ]
  },
  {
   "cell_type": "code",
   "execution_count": null,
   "id": "1aba2273-eba8-4ace-8bbd-245fecd828f1",
   "metadata": {
    "deletable": false
   },
   "outputs": [],
   "source": [
    "test_mae = ...\n",
    "print(\"Test MAE (walk forward validation):\", round(test_mae, 2))"
   ]
  },
  {
   "cell_type": "markdown",
   "id": "6d8662e5-ab31-4eee-b0d2-0a34a207f697",
   "metadata": {
    "deletable": false,
    "editable": false
   },
   "source": [
    "# Communicate Results"
   ]
  },
  {
   "cell_type": "code",
   "execution_count": null,
   "id": "b90b7a1f-f4ad-419b-b4f1-c3e6f96f0e44",
   "metadata": {
    "deletable": false,
    "editable": false,
    "init_cell": true
   },
   "outputs": [],
   "source": [
    "VimeoVideo(\"665851553\", h=\"46338036cc\", width=600)"
   ]
  },
  {
   "cell_type": "markdown",
   "id": "1bbfa94d-a026-49fd-b1f6-b9d162c3aa53",
   "metadata": {
    "deletable": false,
    "editable": false
   },
   "source": [
    "**Task 3.3.19:** Print out the parameters for your trained model.\n",
    "\n",
    "- [<span id='technique'>Access model parameters in <span id='tool'>statsmodels](../%40textbook/18-ts-models.ipynb#Communicating-the-Results)"
   ]
  },
  {
   "cell_type": "code",
   "execution_count": null,
   "id": "5f31e84c-2e76-4438-ab7c-0e96a21cc298",
   "metadata": {
    "deletable": false,
    "tags": []
   },
   "outputs": [],
   "source": []
  },
  {
   "cell_type": "code",
   "execution_count": null,
   "id": "9c3ed2e8-8363-475f-89d7-880acd4c2516",
   "metadata": {
    "deletable": false,
    "editable": false,
    "init_cell": true
   },
   "outputs": [],
   "source": [
    "VimeoVideo(\"665851529\", h=\"39284d37ac\", width=600)"
   ]
  },
  {
   "cell_type": "markdown",
   "id": "6c81a4e3-da69-402a-a621-7cb794b684d8",
   "metadata": {
    "deletable": false,
    "editable": false,
    "tags": []
   },
   "source": [
    "**Task 3.3.20:** Put the values for `y_test` and `y_pred_wfv` into the DataFrame `df_pred_test` (don't forget the index). Then plot `df_pred_test` using plotly express.\n",
    "\n",
    "- [<span id='technique'>Create a line plot in <span id='tool'>plotly express.](../%40textbook/07-visualization-pandas.ipynb#Line-Plots)"
   ]
  },
  {
   "cell_type": "code",
   "execution_count": null,
   "id": "28486e70-6719-4ed6-a326-4a5fe7dddcab",
   "metadata": {
    "deletable": false
   },
   "outputs": [],
   "source": [
    "\n",
    "fig = ...\n",
    "fig.show()"
   ]
  },
  {
   "cell_type": "markdown",
   "id": "5610af83",
   "metadata": {
    "deletable": false,
    "editable": false
   },
   "source": [
    "---\n",
    "Copyright © 2022 WorldQuant University. This\n",
    "content is licensed solely for personal use. Redistribution or\n",
    "publication of this material is strictly prohibited.\n"
   ]
  }
 ],
 "metadata": {
  "execution": {
   "timeout": 600
  },
  "kernelspec": {
   "display_name": "Python 3 (ipykernel)",
   "language": "python",
   "name": "python3"
  },
  "language_info": {
   "codemirror_mode": {
    "name": "ipython",
    "version": 3
   },
   "file_extension": ".py",
   "mimetype": "text/x-python",
   "name": "python",
   "nbconvert_exporter": "python",
   "pygments_lexer": "ipython3",
   "version": "3.9.6"
  },
  "toc-autonumbering": true
 },
 "nbformat": 4,
 "nbformat_minor": 5
}
