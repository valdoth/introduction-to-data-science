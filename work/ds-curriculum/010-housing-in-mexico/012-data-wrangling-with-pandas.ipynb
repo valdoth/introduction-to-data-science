{
 "cells": [
  {
   "cell_type": "markdown",
   "id": "909f708f-adbe-46cc-a255-eaf916750756",
   "metadata": {
    "deletable": false,
    "editable": false
   },
   "source": [
    "<font size=\"+3\"><strong>Preparing Mexico Data</strong></font>"
   ]
  },
  {
   "cell_type": "code",
   "execution_count": null,
   "id": "f9ead14a-66b5-4157-b2b3-785e29370f80",
   "metadata": {
    "deletable": false,
    "editable": false,
    "init_cell": true
   },
   "outputs": [],
   "source": [
    "import pandas as pd\n",
    "from IPython.display import VimeoVideo"
   ]
  },
  {
   "cell_type": "markdown",
   "id": "144c5a4a-f25b-4293-8f79-16f4bb3af177",
   "metadata": {
    "deletable": false,
    "editable": false
   },
   "source": [
    "# Import"
   ]
  },
  {
   "cell_type": "markdown",
   "id": "2093dabe-90ec-43f6-b237-882dc0abb1b2",
   "metadata": {
    "deletable": false,
    "editable": false,
    "tags": []
   },
   "source": [
    "The first part of any data science project is preparing your data, which means making sure its in the right place and format for you to conduct your analysis. The first step of any data preparation is importing your raw data and cleaning it. \n",
    "\n",
    "If you look in the `small-data` directory on your machine, you'll see that the data for this project comes in three CSV files: `mexico-real-estate-1.csv`, `mexico-real-estate-2.csv`, and `mexico-real-estate-3.csv`."
   ]
  },
  {
   "cell_type": "code",
   "execution_count": null,
   "id": "aaa145a8-1071-4658-8783-07ffe6e0d502",
   "metadata": {
    "deletable": false,
    "editable": false,
    "init_cell": true
   },
   "outputs": [],
   "source": [
    "VimeoVideo(\"656321516\", h=\"e85e3bf248\", width=600)"
   ]
  },
  {
   "cell_type": "markdown",
   "id": "8df7281e-918b-48f7-9827-1e321b6827c0",
   "metadata": {
    "deletable": false,
    "editable": false
   },
   "source": [
    "**Task 1.2.1:** Read these three files into three separate DataFrames named `df1`, `df2`, and `df3`, respectively.\n",
    "\n",
    "- [What's a DataFrame?](../%40textbook/03-pandas-getting-started.ipynb#Pandas)\n",
    "- [What's a CSV file?](../%40textbook/03-pandas-getting-started.ipynb#CSV-Files)\n",
    "- [Read a CSV file into a DataFrame using pandas.](../%40textbook/03-pandas-getting-started.ipynb#Working-with-DataFrames)"
   ]
  },
  {
   "cell_type": "code",
   "execution_count": null,
   "id": "e7c17dfa-206f-454f-944a-6002a252b787",
   "metadata": {
    "deletable": false
   },
   "outputs": [],
   "source": [
    "df1 = ...\n",
    "df2 = ...\n",
    "df3 = ..."
   ]
  },
  {
   "cell_type": "markdown",
   "id": "b2a5efd3-357b-4896-a238-710198bf6ff5",
   "metadata": {
    "deletable": false,
    "editable": false
   },
   "source": [
    "## Clean `df1`"
   ]
  },
  {
   "cell_type": "markdown",
   "id": "a80b56f7-6692-4896-8e69-02b977a0936a",
   "metadata": {
    "deletable": false,
    "editable": false
   },
   "source": [
    "Now that you have your three DataFrames, it's time to inspect them to see if they need any cleaning. Let's look at them one-by-one."
   ]
  },
  {
   "cell_type": "code",
   "execution_count": null,
   "id": "a64338ab-f015-479d-92ba-534d7132599f",
   "metadata": {
    "deletable": false,
    "editable": false,
    "init_cell": true
   },
   "outputs": [],
   "source": [
    "VimeoVideo(\"656320563\", h=\"a6841fed28\", width=600)"
   ]
  },
  {
   "cell_type": "markdown",
   "id": "fbcad10a-93c1-4a30-a59a-d25e5cab4d5e",
   "metadata": {
    "deletable": false,
    "editable": false
   },
   "source": [
    "**Task 1.2.2:** Inspect `df1` by looking at its [`shape`](https://pandas.pydata.org/docs/reference/api/pandas.DataFrame.shape.html) attribute. Then use the [`info`](https://pandas.pydata.org/docs/reference/api/pandas.DataFrame.info.htm) method to see the data types and number of missing values for each column. Finally, use the [`head`](https://pandas.pydata.org/docs/reference/api/pandas.DataFrame.head.html) method to determine to look at the first five rows of your dataset.\n",
    "\n",
    "- [Inspect a DataFrame using the `shape`, `info`, and `head` in pandas.](../%40textbook/03-pandas-getting-started.ipynb#Inspecting-DataFrames)"
   ]
  },
  {
   "cell_type": "code",
   "execution_count": null,
   "id": "d340ce96-8ca7-4d71-afe5-f21b7d544083",
   "metadata": {
    "deletable": false
   },
   "outputs": [],
   "source": []
  },
  {
   "cell_type": "markdown",
   "id": "4b10f484-9767-4b06-9131-5ed13f7fde8a",
   "metadata": {
    "deletable": false,
    "editable": false
   },
   "source": [
    "It looks like there are a couple of problems in this DataFrame that you need to solve. First, there are many rows with `NaN` values in the `\"lat\"` and `\"lon\"` columns. Second, the data type for the `\"price_usd\"` column is `object` when it should be `float`. "
   ]
  },
  {
   "cell_type": "code",
   "execution_count": null,
   "id": "24be0210-ddf7-45e5-a902-8820d5f8cdf2",
   "metadata": {
    "deletable": false,
    "editable": false,
    "init_cell": true
   },
   "outputs": [],
   "source": [
    "VimeoVideo(\"656316512\", h=\"33eb5cb26e\", width=600)"
   ]
  },
  {
   "cell_type": "markdown",
   "id": "eb150275-3078-4022-9ab9-97cdc768ff61",
   "metadata": {
    "deletable": false,
    "editable": false
   },
   "source": [
    "**Task 1.2.3:** Clean `df1` by dropping rows with `NaN` values. Then remove the `\"$\"` and `\",\"` characters from `\"price_usd\"` and recast the values in the column as floats.\n",
    "\n",
    "- [What's a data type?](../%40textbook/01-python-getting-started.ipynb#Data-Types)\n",
    "- [Drop rows with missing values from a DataFrame using pandas.](../%40textbook/03-pandas-getting-started.ipynb#Dropping-Rows)\n",
    "- [Replace string characters in a column using pandas.](../%40textbook/03-pandas-getting-started.ipynb#Replacing-String-Characters) \n",
    "- [Recast a column as a different data type in pandas.](../%40textbook/03-pandas-getting-started.ipynb#Recasting-Data) "
   ]
  },
  {
   "cell_type": "code",
   "execution_count": null,
   "id": "39760229-1f67-4701-b128-8feb9e1de198",
   "metadata": {
    "deletable": false
   },
   "outputs": [],
   "source": []
  },
  {
   "cell_type": "markdown",
   "id": "525b86bc-24d1-46db-86d1-3a3267bcdf6d",
   "metadata": {
    "deletable": false,
    "editable": false
   },
   "source": [
    "## Clean `df2`"
   ]
  },
  {
   "cell_type": "markdown",
   "id": "aee52258-7585-4f03-9629-fb874bff7dd4",
   "metadata": {
    "deletable": false,
    "editable": false
   },
   "source": [
    "Now it's time to tackle `df2`. Take a moment to inspect it using the same commands you used before. You'll notice that it has the same issue of `NaN` values, but there's a new problem, too: The home prices are in Mexican pesos (`\"price_mxn\"`), not US dollars (`\"price_usd\"`). If we want to compare all the home prices in this dataset, they all need to be in the same currency."
   ]
  },
  {
   "cell_type": "code",
   "execution_count": null,
   "id": "39b3577a-3c87-4c4b-8c57-ed71b53c0758",
   "metadata": {
    "deletable": false,
    "editable": false,
    "init_cell": true
   },
   "outputs": [],
   "source": [
    "VimeoVideo(\"656315668\", h=\"c9bd116aca\", width=600)"
   ]
  },
  {
   "cell_type": "markdown",
   "id": "b0938e20-2845-483e-808b-10671d19ae37",
   "metadata": {
    "deletable": false,
    "editable": false
   },
   "source": [
    "**Task 1.2.4:** First, drop rows with `NaN` values in `df2`. Next, use the `\"price_mxn\"` column to create a new column named `\"price_usd\"`. (Keep in mind that, when this data was collected in 2014, a dollar cost 19 pesos.) Finally, drop the `\"price_mxn\"` from the DataFrame.\n",
    "\n",
    "- [Drop rows with missing values from a DataFrame using pandas.](../%40textbook/03-pandas-getting-started.ipynb#Dropping-Rows)\n",
    "- [Create new columns derived from existing columns in a DataFrame using pandas.](../%40textbook/03-pandas-getting-started.ipynb#Adding-Columns)\n",
    "- [Drop a column from a DataFrame using pandas.](../%40textbook/03-pandas-getting-started.ipynb#Dropping-Columns)"
   ]
  },
  {
   "cell_type": "code",
   "execution_count": null,
   "id": "b56c46ac-40e9-45d0-aaf0-3f5e4fe1489f",
   "metadata": {
    "deletable": false
   },
   "outputs": [],
   "source": []
  },
  {
   "cell_type": "markdown",
   "id": "f42a4a55-b5e2-44b3-a22f-5fa9a7e24e3f",
   "metadata": {
    "deletable": false,
    "editable": false
   },
   "source": [
    "## Clean `df3`"
   ]
  },
  {
   "cell_type": "markdown",
   "id": "bf07c051-988f-4865-bcf7-5345131336a2",
   "metadata": {
    "deletable": false,
    "editable": false
   },
   "source": [
    "Great work! We're now on the final DataFrame. Use the same `shape`, `info` and `head` commands to inspect the `df3`. Do you see any familiar issues? \n",
    "\n",
    "You'll notice that we still have `NaN` values, but there are two new problems:\n",
    "\n",
    "1. Instead of separate `\"lat\"` and `\"lon\"` columns, there's a single `\"lat-lon\"` column. \n",
    "2. Instead of a `\"state\"` column, there's a `\"place_with_parent_names\"` column.\n",
    "\n",
    "We need the resolve these problems so that `df3` has the same columns in the same format as `df1` and `df2`."
   ]
  },
  {
   "cell_type": "code",
   "execution_count": null,
   "id": "54599cb5-e37d-44aa-a45f-1f4630cdd1d9",
   "metadata": {
    "deletable": false,
    "editable": false,
    "init_cell": true
   },
   "outputs": [],
   "source": [
    "VimeoVideo(\"656314718\", h=\"8d1127a93f\", width=600)"
   ]
  },
  {
   "cell_type": "markdown",
   "id": "1648218b-f51f-4315-b7e7-a736267182b6",
   "metadata": {
    "deletable": false,
    "editable": false
   },
   "source": [
    "**Task 1.2.5:** Drop rows with `NaN` values in `df3`. Then use the [`split`](https://pandas.pydata.org/docs/reference/api/pandas.Series.str.split.html) method to create two new columns from `\"lat-lon\"` named `\"lat\"` and `\"lon\"`, respectively.\n",
    "\n",
    "- [Drop rows with missing values from a DataFrame using pandas.](../%40textbook/03-pandas-getting-started.ipynb#Dropping-Rows)\n",
    "- [Split the strings in one column to create another using pandas.](../%40textbook/03-pandas-getting-started.ipynb#Splitting-Strings) "
   ]
  },
  {
   "cell_type": "code",
   "execution_count": null,
   "id": "934f4f0d-197f-4741-8b1d-f14a9b3ff1fe",
   "metadata": {
    "deletable": false
   },
   "outputs": [],
   "source": []
  },
  {
   "cell_type": "code",
   "execution_count": null,
   "id": "fe1a5d6b-c8b4-4ce2-8c8a-95cbd867b3a3",
   "metadata": {
    "deletable": false,
    "editable": false,
    "init_cell": true
   },
   "outputs": [],
   "source": [
    "VimeoVideo(\"656314050\", h=\"13f6a677fd\", width=600)"
   ]
  },
  {
   "cell_type": "markdown",
   "id": "8467296c-bc67-4467-8f9f-cc3728d2d7db",
   "metadata": {
    "deletable": false,
    "editable": false
   },
   "source": [
    "**Task 1.2.6:** Use the [`split`](https://pandas.pydata.org/docs/reference/api/pandas.Series.str.split.html) method again, this time to extract the state for every house. (Note that the state name always appears after `\"México|\"` in each string.) Use this information to create a `\"state\"` column. Finally, drop the `\"place_with_parent_names\"` and `\"lat-lon\"` columns from the DataFrame. \n",
    "\n",
    "- [Split the strings in one column to create another using pandas.](../%40textbook/03-pandas-getting-started.ipynb#Splitting-Strings)\n",
    "- [Drop a column from a DataFrame using pandas.](../%40textbook/03-pandas-getting-started.ipynb#Dropping-Columns)"
   ]
  },
  {
   "cell_type": "code",
   "execution_count": null,
   "id": "fc395d19-d7d9-49fa-8dd5-cc1c1d66cdd3",
   "metadata": {
    "deletable": false
   },
   "outputs": [],
   "source": []
  },
  {
   "cell_type": "markdown",
   "id": "b3616fc4-66a0-484b-a844-a666cab5bb7a",
   "metadata": {
    "deletable": false,
    "editable": false
   },
   "source": [
    "## Concatenate DataFrames"
   ]
  },
  {
   "cell_type": "markdown",
   "id": "396a641f-d5f6-41b2-8b53-957068be2d32",
   "metadata": {
    "deletable": false,
    "editable": false
   },
   "source": [
    "Great work! You have three clean DataFrames, and now it's time to combine them into a single DataFrame so that you can conduct your analysis. "
   ]
  },
  {
   "cell_type": "code",
   "execution_count": null,
   "id": "a349dd5d-01fc-4baa-a572-87394dccbbdd",
   "metadata": {
    "deletable": false,
    "editable": false,
    "init_cell": true
   },
   "outputs": [],
   "source": [
    "VimeoVideo(\"656313395\", h=\"ccadbc2689\", width=600)"
   ]
  },
  {
   "cell_type": "markdown",
   "id": "e631437c-20ef-4b44-996f-e9bbc56ea389",
   "metadata": {
    "deletable": false,
    "editable": false
   },
   "source": [
    "**Task 1.2.7:** Use [`pd.concat`](https://pandas.pydata.org/pandas-docs/stable/reference/api/pandas.concat.html) to concatenate `df1`, `df2`, `df3` as new DataFrame named `df`. Your new DataFrame should have 1,736 rows and 6 columns:`\"property_type\"`, `\"state\"`, `\"lat\"`, `\"lon\"`, `\"area_m2\"`, `\"price_usd\"`, and `\"price_per_m2\"`. \n",
    "\n",
    "- [Concatenate two or more DataFrames using pandas.](../%40textbook/03-pandas-getting-started.ipynb#Concatenating-DataFrames)"
   ]
  },
  {
   "cell_type": "code",
   "execution_count": null,
   "id": "80aa20e1-521a-4eb1-aefe-4aef099f2aad",
   "metadata": {
    "deletable": false
   },
   "outputs": [],
   "source": [
    "df = ...\n",
    "print(df.shape)\n",
    "df.head()"
   ]
  },
  {
   "cell_type": "markdown",
   "id": "7458a11b-7bfa-4165-8956-d24d744723d6",
   "metadata": {
    "deletable": false,
    "editable": false
   },
   "source": [
    "## Save `df`"
   ]
  },
  {
   "cell_type": "markdown",
   "id": "3a42f68a-9754-43bb-8458-a91a6917ecc7",
   "metadata": {
    "deletable": false,
    "editable": false
   },
   "source": [
    "The data is clean and in a single DataFrame, and now you need to save it as a CSV file so that you can examine it in your exploratory data analysis. "
   ]
  },
  {
   "cell_type": "code",
   "execution_count": null,
   "id": "fc1a359c-b1ec-4ff3-8d42-2c9cdf0476cb",
   "metadata": {
    "deletable": false,
    "editable": false,
    "init_cell": true
   },
   "outputs": [],
   "source": [
    "VimeoVideo(\"656312464\", h=\"81ee04de15\", width=600)"
   ]
  },
  {
   "cell_type": "markdown",
   "id": "a79a7abb-f8cc-4f68-8ba3-1da69e7a2c74",
   "metadata": {
    "deletable": false,
    "editable": false
   },
   "source": [
    "**Task 1.2.8:** Save `df` as a CSV file using the [`to_csv`](https://pandas.pydata.org/docs/reference/api/pandas.DataFrame.to_csv.html) method. The file path should be `\"./data/mexico-real-estate-clean.csv\"`. Be sure to set the `index` argument to `False`.\n",
    "\n",
    "- [What's a CSV file?](../%40textbook/03-pandas-getting-started.ipynb#CSV-Files)\n",
    "- [Save a DataFrame as a CSV file using pandas.](../%40textbook/03-pandas-getting-started.ipynb#Saving-a-DataFrame-as-a-CSV)"
   ]
  },
  {
   "cell_type": "code",
   "execution_count": null,
   "id": "940b407f-7b32-4312-9933-6127635ce168",
   "metadata": {
    "deletable": false
   },
   "outputs": [],
   "source": []
  },
  {
   "cell_type": "markdown",
   "id": "65c46383",
   "metadata": {
    "deletable": false,
    "editable": false
   },
   "source": [
    "---\n",
    "Copyright © 2022 WorldQuant University. This\n",
    "content is licensed solely for personal use. Redistribution or\n",
    "publication of this material is strictly prohibited.\n"
   ]
  }
 ],
 "metadata": {
  "kernelspec": {
   "display_name": "Python 3 (ipykernel)",
   "language": "python",
   "name": "python3"
  },
  "language_info": {
   "codemirror_mode": {
    "name": "ipython",
    "version": 3
   },
   "file_extension": ".py",
   "mimetype": "text/x-python",
   "name": "python",
   "nbconvert_exporter": "python",
   "pygments_lexer": "ipython3",
   "version": "3.9.6"
  }
 },
 "nbformat": 4,
 "nbformat_minor": 5
}
