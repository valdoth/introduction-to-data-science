{
 "cells": [
  {
   "cell_type": "markdown",
   "id": "2a757017-43a7-4a4e-bf55-021447721fd6",
   "metadata": {
    "deletable": false,
    "editable": false
   },
   "source": [
    "<font size=\"+3\"><strong>Exploratory Data Analysis </strong></font>"
   ]
  },
  {
   "cell_type": "code",
   "execution_count": null,
   "id": "f9ead14a-66b5-4157-b2b3-785e29370f80",
   "metadata": {
    "deletable": false,
    "editable": false,
    "init_cell": true
   },
   "outputs": [],
   "source": [
    "import matplotlib.pyplot as plt\n",
    "import pandas as pd\n",
    "import plotly.express as px\n",
    "from IPython.display import VimeoVideo"
   ]
  },
  {
   "cell_type": "code",
   "execution_count": null,
   "id": "8b9ccd5d-8237-4e96-963d-3f36049c3579",
   "metadata": {
    "deletable": false,
    "editable": false,
    "init_cell": true
   },
   "outputs": [],
   "source": [
    "VimeoVideo(\"656355010\", h=\"3cc6a34eba\", width=600)"
   ]
  },
  {
   "cell_type": "markdown",
   "id": "3874f5ac-ff78-4b22-9359-67c5193c74ec",
   "metadata": {
    "deletable": false,
    "editable": false
   },
   "source": [
    "After importing, the next step in many data science projects is exploratory data analysis (EDA), where you get a feel for your data by summarizing its main characteristics using descriptive statistics and data visualization. A good way to plan your EDA is by looking each column and asking yourself questions what it says about your dataset.\n",
    "\n"
   ]
  },
  {
   "cell_type": "markdown",
   "id": "2dfcb4ea-7848-4970-9dde-6d72d0d8bf55",
   "metadata": {
    "deletable": false,
    "editable": false
   },
   "source": [
    "# Import Data"
   ]
  },
  {
   "cell_type": "code",
   "execution_count": null,
   "id": "3464b2cc-759f-4c33-b0d4-8a2241725425",
   "metadata": {
    "deletable": false,
    "editable": false,
    "init_cell": true
   },
   "outputs": [],
   "source": [
    "VimeoVideo(\"656354357\", h=\"8d99bdbfcd\", width=600)"
   ]
  },
  {
   "cell_type": "markdown",
   "id": "b3ee319a-4fe2-4308-993f-1b825a674833",
   "metadata": {
    "deletable": false,
    "editable": false
   },
   "source": [
    "**Task 1.3.1:** Read the CSV file that you created in the last notebook (`\"../small-data/mexico-real-estate-clean.csv\"`) into a DataFrame named `df`. Be sure to check that all your columns are the correct data type before you go to the next task.\n",
    "\n",
    "- [What's a DataFrame?](../%40textbook/03-pandas-getting-started.ipynb#Working-with-DataFrames)\n",
    "- [What's a CSV file?](../%40textbook/03-pandas-getting-started.ipynb#CSV-Files)\n",
    "- [Read a CSV file into a DataFrame using pandas.](../%40textbook/03-pandas-getting-started.ipynb#Working-with-DataFrames)"
   ]
  },
  {
   "cell_type": "code",
   "execution_count": null,
   "id": "7a0478b8-c6d3-4507-b106-315d8ff6698d",
   "metadata": {
    "deletable": false,
    "tags": []
   },
   "outputs": [],
   "source": [
    "df = ..."
   ]
  },
  {
   "cell_type": "markdown",
   "id": "ac9359a9-fa39-4166-adb0-8a26b41558d7",
   "metadata": {
    "deletable": false,
    "editable": false
   },
   "source": [
    "While there are only two `dtypes` in our DataFrame (`object` and `float64`), there are three categories of  data: location, categorical, and numeric. Each of these require a different kind of exploration in our analysis. \n"
   ]
  },
  {
   "cell_type": "markdown",
   "id": "55ac7f7f-c6f8-4e0c-a82f-506c8f2ef643",
   "metadata": {
    "deletable": false,
    "editable": false
   },
   "source": [
    "# Location Data: `\"lat\"` and `\"lon\"`"
   ]
  },
  {
   "cell_type": "markdown",
   "id": "8350e9ce-d11e-42f1-a0fa-b7826ba4ac46",
   "metadata": {
    "deletable": false,
    "editable": false
   },
   "source": [
    "They say that the most important thing in real estate is location, and we can see where where in Mexico our houses are located by using the `\"lat\"` and `\"lon\"` columns. Since latitude and longitude are based on a coordinate system, a good way to visualize them is to create a scatter plot on top of a map. A great tool for this is the [`scatter_mapbox`](https://plotly.github.io/plotly.py-docs/generated/plotly.express.scatter_mapbox.html) from the plotly library."
   ]
  },
  {
   "cell_type": "code",
   "execution_count": null,
   "id": "77c10170-cb23-44b3-a1f8-3d01721b7223",
   "metadata": {
    "deletable": false,
    "editable": false,
    "init_cell": true
   },
   "outputs": [],
   "source": [
    "VimeoVideo(\"656353826\", h=\"236e9c5d43\", width=600)"
   ]
  },
  {
   "cell_type": "markdown",
   "id": "12e97965-036c-45b6-9511-8fd7d14171cd",
   "metadata": {
    "deletable": false,
    "editable": false
   },
   "source": [
    "**Task 1.3.2:** Add `\"lat\"` and `\"lon\"` to the code below, and run the code. You'll see a map that's centered on Mexico City, and you can use the \"Zoom Out\" button in the upper-right corner of the map so that you can see the whole country. \n",
    "\n",
    "- [What's location data?](../%40textbook/05-pandas-summary-statistics.ipynb#Location-Data)\n",
    "- [What's a scatter plot?](../%40textbook/06-visualization-matplotlib.ipynb#Scatter-Plots)"
   ]
  },
  {
   "cell_type": "code",
   "execution_count": null,
   "id": "8fb37484-3b5f-45fb-af8b-e8dda4df2cc8",
   "metadata": {
    "deletable": false
   },
   "outputs": [],
   "source": [
    "fig = px.scatter_mapbox(\n",
    "    df,  # Our DataFrame\n",
    "    lat=...,\n",
    "    lon=...,\n",
    "    center={\"lat\": 19.43, \"lon\": -99.13},  # Map will be centered on Mexico City\n",
    "    width=600,  # Width of map\n",
    "    height=600,  # Height of map\n",
    "    hover_data=[\"price_usd\"],  # Display price when hovering mouse over house\n",
    ")\n",
    "\n",
    "fig.update_layout(mapbox_style=\"open-street-map\")\n",
    "\n",
    "fig.show()"
   ]
  },
  {
   "cell_type": "markdown",
   "id": "81063947-4b07-432e-8eca-0e93d4008ba4",
   "metadata": {
    "deletable": false,
    "editable": false
   },
   "source": [
    "Looking at this map, are the houses in our dataset distributed evenly throughout the country, or are there states or regions that are more prevalent? Can you guess where Mexico's biggest cities are based on this distribution?"
   ]
  },
  {
   "cell_type": "markdown",
   "id": "f0fd3468-5dab-416b-b42d-8c6d011ec460",
   "metadata": {
    "deletable": false,
    "editable": false
   },
   "source": [
    "# Categorical Data: `\"state\"`"
   ]
  },
  {
   "cell_type": "markdown",
   "id": "dee31040-c11b-41d9-972c-0cdd37a928c3",
   "metadata": {
    "deletable": false,
    "editable": false
   },
   "source": [
    "Even though we can get a good idea of which states are most common in our dataset from looking at a map, we can also get the exact count by using the `\"state\"` column. "
   ]
  },
  {
   "cell_type": "code",
   "execution_count": null,
   "id": "d1578191-9e2f-4c1e-836b-b2d96c4c29f4",
   "metadata": {
    "deletable": false,
    "editable": false,
    "init_cell": true
   },
   "outputs": [],
   "source": [
    "VimeoVideo(\"656353463\", h=\"ee8bffd02b\", width=600)"
   ]
  },
  {
   "cell_type": "markdown",
   "id": "c8bce57e-5a40-489c-8c4b-f94a19f90a4e",
   "metadata": {
    "deletable": false,
    "editable": false
   },
   "source": [
    "**Task 1.3.3:** Use the [`value_counts`](https://pandas.pydata.org/docs/reference/api/pandas.Series.value_counts.html) method on the `\"state\"` column to determine the 10 most prevalent states in our dataset.\n",
    "\n",
    "- [What's categorical data?](../%40textbook/05-pandas-summary-statistics.ipynb#Categorical-Data)\n",
    "- [What's a Series?](../%40textbook/05-pandas-summary-statistics.ipynb#Series)\n",
    "- [Aggregate data in a Series using `value_counts` in pandas.](../%40textbook/04-pandas-advanced.ipynb#Combine-multiple-categories-in-a-Series) "
   ]
  },
  {
   "cell_type": "code",
   "execution_count": null,
   "id": "492aad6c-aa56-4961-baf6-2e708f587628",
   "metadata": {
    "deletable": false
   },
   "outputs": [],
   "source": []
  },
  {
   "cell_type": "markdown",
   "id": "04158c91-bff3-4674-bd46-bdb8d80a9367",
   "metadata": {
    "deletable": false,
    "editable": false
   },
   "source": [
    "# Numerical Data: `\"area_m2\"` and `\"price_usd\"`"
   ]
  },
  {
   "cell_type": "markdown",
   "id": "91fc3487-8f54-42f1-8cab-910b985c7d97",
   "metadata": {
    "deletable": false,
    "editable": false
   },
   "source": [
    "We have a sense for where the houses in our dataset are located, but how much do they cost? How big are they? The best way to answer those questions is looking at descriptive statistics. "
   ]
  },
  {
   "cell_type": "code",
   "execution_count": null,
   "id": "33c5ed1b-3321-4867-ae4d-3ac51fab8e85",
   "metadata": {
    "deletable": false,
    "editable": false,
    "init_cell": true
   },
   "outputs": [],
   "source": [
    "VimeoVideo(\"656353149\", h=\"2d5b273746\", width=600)"
   ]
  },
  {
   "cell_type": "markdown",
   "id": "c6d2400b-4a6f-490e-be31-b385bfc7d6d8",
   "metadata": {
    "deletable": false,
    "editable": false
   },
   "source": [
    "**Task 1.3.4:** Use the [`describe`](https://pandas.pydata.org/pandas-docs/stable/reference/api/pandas.DataFrame.describe.html) method to print the mean, standard deviation, and quartiles for the `\"area_m2\"` and `\"price_usd\"` columns.\n",
    "\n",
    "- [What's numerical data?](../%40textbook/05-pandas-summary-statistics.ipynb#Numerical-Data)\n",
    "- [What's a mean?](../%40textbook/05-pandas-summary-statistics.ipynb#The-Mean)\n",
    "- [What's a standard deviation?](../%40textbook/05-pandas-summary-statistics.ipynb#Standard-Deviation)\n",
    "- [What are quartiles?](../%40textbook/05-pandas-summary-statistics.ipynb#Quartiles)\n",
    "- [Print the summary statistics for a DataFrame using pandas.](../%40textbook/05-pandas-summary-statistics.ipynb#Working-with-Summary-Statistics)"
   ]
  },
  {
   "cell_type": "code",
   "execution_count": null,
   "id": "255e5a4c-5e91-4771-8bc8-1c0877255e4d",
   "metadata": {
    "deletable": false
   },
   "outputs": [],
   "source": []
  },
  {
   "cell_type": "markdown",
   "id": "efa82db3-bebf-4554-9a92-c70201968a87",
   "metadata": {
    "deletable": false,
    "editable": false
   },
   "source": [
    "Let's start by looking at `\"area_m2\"`. It's interesting that the mean is larger than the median (another name for the 50% quartile). Both of these statistics are supposed to give an idea of the \"typical\" value for the column, so why is there a difference of almost 15 m<sup>2</sup> between them? To answer this question, we need to see how house sizes are distributed in our dataset. Let's look at two ways to visualize the distribution: a histogram and a boxplot."
   ]
  },
  {
   "cell_type": "code",
   "execution_count": null,
   "id": "25cb3a62-e447-418b-ab2a-73d112af2645",
   "metadata": {
    "deletable": false,
    "editable": false,
    "init_cell": true
   },
   "outputs": [],
   "source": [
    "VimeoVideo(\"656352616\", h=\"6075fbacb5\", width=600)"
   ]
  },
  {
   "cell_type": "markdown",
   "id": "91d04855-cdb1-4d60-b7c6-d252545bdb9e",
   "metadata": {
    "deletable": false,
    "editable": false
   },
   "source": [
    "**Task 1.3.5:** Create a histogram of `\"area_m2\"`. Make sure that the x-axis has the label `\"Area [sq meters]\"`, the y-axis has the label `\"Frequency\"`, and the plot has the title `\"Distribution of Home Sizes\"`. \n",
    "\n",
    "- [What's a histogram?](../%40textbook/06-visualization-matplotlib.ipynb#Histograms)\n",
    "- [Create a histogram using Matplotlib.](../%40textbook/06-visualization-matplotlib.ipynb#Histograms) "
   ]
  },
  {
   "cell_type": "code",
   "execution_count": null,
   "id": "718f9653-2931-495b-acc8-e73586f0b7df",
   "metadata": {
    "deletable": false
   },
   "outputs": [],
   "source": []
  },
  {
   "cell_type": "markdown",
   "id": "ebe7d6ae-258e-4ca1-a6c5-8f3082fed774",
   "metadata": {
    "deletable": false,
    "editable": false
   },
   "source": [
    "Looking at our histogram, we can see that `\"area_m2\"` skews right. In other words, there are more houses at the lower end of the distribution (50–200m<sup>2</sup>) than at the higher end (250–400m<sup>2</sup>). That explains the difference between the mean and the median."
   ]
  },
  {
   "cell_type": "code",
   "execution_count": null,
   "id": "9c2d38a7-f826-49b7-bdfb-d4e1692fe899",
   "metadata": {
    "deletable": false,
    "editable": false,
    "init_cell": true
   },
   "outputs": [],
   "source": [
    "VimeoVideo(\"656352166\", h=\"5531b6e160\", width=600)"
   ]
  },
  {
   "cell_type": "markdown",
   "id": "890ee78e-ae26-4ed4-9abe-b8a209986c6d",
   "metadata": {
    "deletable": false,
    "editable": false
   },
   "source": [
    "**Task 1.3.6:** Create a horizontal boxplot of `\"area_m2\"`. Make sure that the x-axis has the label `\"Area [sq meters]\"` and the plot has the title `\"Distribution of Home Sizes\"`. How is the distribution and its left skew represented differently here than in your histogram?\n",
    "\n",
    "- [What's a boxplot?](../%40textbook/06-visualization-matplotlib.ipynb#Boxplots)\n",
    "- [What's a skewed distribution?](../%40textbook/05-pandas-summary-statistics.ipynb#Skewed-Distributions)\n",
    "- [Create a boxplot using Matplotlib.](../%40textbook/06-visualization-matplotlib.ipynb#Boxplots)"
   ]
  },
  {
   "cell_type": "code",
   "execution_count": null,
   "id": "2144da9a-c058-4616-9c24-632d8aa14f07",
   "metadata": {
    "deletable": false
   },
   "outputs": [],
   "source": []
  },
  {
   "cell_type": "markdown",
   "id": "4232a001-f137-433b-aa15-392d69e4366d",
   "metadata": {
    "deletable": false,
    "editable": false
   },
   "source": [
    "Does `\"price_usd\"` have the same distribution as `\"price_per_m2\"`? Let's use the same two visualization tools to find out."
   ]
  },
  {
   "cell_type": "code",
   "execution_count": null,
   "id": "1ba76e52-9079-4d67-bd7c-4db4b2f1cd5d",
   "metadata": {
    "deletable": false,
    "editable": false,
    "init_cell": true
   },
   "outputs": [],
   "source": [
    "VimeoVideo(\"656351977\", h=\"a0868bd01e\", width=600)"
   ]
  },
  {
   "cell_type": "markdown",
   "id": "5330f3dc-a904-4e90-9ae8-522a2f08f030",
   "metadata": {
    "deletable": false,
    "editable": false
   },
   "source": [
    "**Task 1.3.7:** Create a histogram of `\"price_usd\"`. Make sure that the x-axis has the label `\"Price [USD]\"`, the y-axis has the label `\"Frequency\"`, and the plot has the title `\"Distribution of Home Prices\"`. \n",
    "\n",
    "- [What's a histogram?](../%40textbook/06-visualization-matplotlib.ipynb#Histograms)\n",
    "- [Create a histogram using Matplotlib.](../%40textbook/06-visualization-matplotlib.ipynb#Histograms) "
   ]
  },
  {
   "cell_type": "code",
   "execution_count": null,
   "id": "710b3235-7574-4484-87bc-7ad300fd492a",
   "metadata": {
    "deletable": false
   },
   "outputs": [],
   "source": []
  },
  {
   "cell_type": "markdown",
   "id": "c78928cf-aebc-432c-a491-6801f6c19c46",
   "metadata": {
    "deletable": false,
    "editable": false
   },
   "source": [
    "Looks like `\"price_usd\"` is even more skewed than `\"area_m2\"`. What does this bigger skew look like in a boxplot?"
   ]
  },
  {
   "cell_type": "code",
   "execution_count": null,
   "id": "e3124650-f8a9-49e6-a565-ff533412b680",
   "metadata": {
    "deletable": false,
    "editable": false,
    "init_cell": true
   },
   "outputs": [],
   "source": [
    "VimeoVideo(\"656351234\", h=\"44ca8af7ac\", width=600)"
   ]
  },
  {
   "cell_type": "markdown",
   "id": "2a961334-b6f8-4ffe-a2b6-13aae1d0b352",
   "metadata": {
    "deletable": false,
    "editable": false
   },
   "source": [
    "**Task 1.3.8:** Create a horizontal boxplot of `\"price_usd\"`. Make sure that the x-axis has the label `\"Price [USD]\"` and the plot has the title `\"Distribution of Home Prices\"`.\n",
    "\n",
    "- [What's a boxplot?](../%40textbook/06-visualization-matplotlib.ipynb#Boxplots)\n",
    "- [What's an outlier?](../%40textbook/05-pandas-summary-statistics.ipynb#Outliers)\n",
    "- [Create a boxplot using Matplotlib.](../%40textbook/06-visualization-matplotlib.ipynb#Boxplots)"
   ]
  },
  {
   "cell_type": "code",
   "execution_count": null,
   "id": "39673fab-d47b-4b98-900a-8ee4109ad353",
   "metadata": {
    "deletable": false
   },
   "outputs": [],
   "source": []
  },
  {
   "cell_type": "markdown",
   "id": "9630bfb7-7f2e-4a26-bd6b-71ea6024cc2d",
   "metadata": {
    "deletable": false,
    "editable": false
   },
   "source": [
    "Excellent job! Now that you have a sense of for the dataset, let's move to the next notebook and start answering some research questions about the relationship between house size, price, and location."
   ]
  },
  {
   "cell_type": "markdown",
   "id": "ffe056b4",
   "metadata": {
    "deletable": false,
    "editable": false
   },
   "source": [
    "---\n",
    "Copyright © 2022 WorldQuant University. This\n",
    "content is licensed solely for personal use. Redistribution or\n",
    "publication of this material is strictly prohibited.\n"
   ]
  }
 ],
 "metadata": {
  "kernelspec": {
   "display_name": "Python 3 (ipykernel)",
   "language": "python",
   "name": "python3"
  },
  "language_info": {
   "codemirror_mode": {
    "name": "ipython",
    "version": 3
   },
   "file_extension": ".py",
   "mimetype": "text/x-python",
   "name": "python",
   "nbconvert_exporter": "python",
   "pygments_lexer": "ipython3",
   "version": "3.9.6"
  }
 },
 "nbformat": 4,
 "nbformat_minor": 5
}
