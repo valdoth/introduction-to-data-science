{
 "cells": [
  {
   "cell_type": "markdown",
   "id": "76852d9a-e498-4f6f-818e-a4a95a672c06",
   "metadata": {
    "deletable": false,
    "editable": false
   },
   "source": [
    "<font size=\"+3\"><strong>4.3. Predicting Damage with Decision Trees</strong></font>"
   ]
  },
  {
   "cell_type": "code",
   "execution_count": null,
   "id": "574bf00b-4278-4d61-a496-c4f147cd2559",
   "metadata": {
    "deletable": false,
    "editable": false,
    "init_cell": true
   },
   "outputs": [],
   "source": [
    "import sqlite3\n",
    "import warnings\n",
    "\n",
    "import matplotlib.pyplot as plt\n",
    "import pandas as pd\n",
    "from category_encoders import OrdinalEncoder\n",
    "from IPython.display import VimeoVideo\n",
    "from sklearn.metrics import accuracy_score\n",
    "from sklearn.model_selection import train_test_split\n",
    "from sklearn.pipeline import Pipeline, make_pipeline\n",
    "from sklearn.tree import DecisionTreeClassifier, plot_tree\n",
    "from sklearn.utils.validation import check_is_fitted\n",
    "\n",
    "warnings.simplefilter(action=\"ignore\", category=FutureWarning)"
   ]
  },
  {
   "cell_type": "code",
   "execution_count": null,
   "id": "c69c218b-8fbb-45f0-925f-0fabdcad695f",
   "metadata": {
    "deletable": false,
    "editable": false,
    "init_cell": true
   },
   "outputs": [],
   "source": [
    "VimeoVideo(\"665414130\", h=\"71649d291e\", width=600)"
   ]
  },
  {
   "cell_type": "markdown",
   "id": "be63124d-1ffb-486b-ad8a-b64d1ff35f02",
   "metadata": {
    "deletable": false,
    "editable": false
   },
   "source": [
    "# Prepare Data"
   ]
  },
  {
   "cell_type": "markdown",
   "id": "80613140-d7f4-4661-874e-bab6ad500f30",
   "metadata": {
    "deletable": false,
    "editable": false
   },
   "source": [
    "## Import"
   ]
  },
  {
   "cell_type": "code",
   "execution_count": null,
   "id": "e55f3ea5-f30f-4428-a12c-d7b4611fd42d",
   "metadata": {
    "deletable": false
   },
   "outputs": [],
   "source": [
    "def wrangle(db_path):\n",
    "    # Connect to database\n",
    "    conn = sqlite3.connect(db_path)\n",
    "\n",
    "    # Construct query\n",
    "    query = \"\"\"\n",
    "        SELECT distinct(i.building_id) AS b_id,\n",
    "           s.*,\n",
    "           d.damage_grade\n",
    "        FROM id_map AS i\n",
    "        JOIN building_structure AS s ON i.building_id = s.building_id\n",
    "        JOIN building_damage AS d ON i.building_id = d.building_id\n",
    "        WHERE district_id = 4\n",
    "    \"\"\"\n",
    "\n",
    "    # Read query results into DataFrame\n",
    "    df = pd.read_sql(query, conn, index_col=\"b_id\")\n",
    "\n",
    "    # Identify leaky columns\n",
    "    drop_cols = [col for col in df.columns if \"post_eq\" in col]\n",
    "\n",
    "    # Add high-cardinality / redundant column\n",
    "    drop_cols.append(\"building_id\")\n",
    "\n",
    "    # Create binary target column\n",
    "    df[\"damage_grade\"] = df[\"damage_grade\"].str[-1].astype(int)\n",
    "    df[\"severe_damage\"] = (df[\"damage_grade\"] > 3).astype(int)\n",
    "\n",
    "    # Drop old target\n",
    "    drop_cols.append(\"damage_grade\")\n",
    "\n",
    "    # Drop multicollinearity column\n",
    "    drop_cols.append(\"count_floors_pre_eq\")\n",
    "\n",
    "    # Drop columns\n",
    "    df.drop(columns=drop_cols, inplace=True)\n",
    "\n",
    "    return df"
   ]
  },
  {
   "cell_type": "markdown",
   "id": "e1834f31-fabd-455d-870f-2964f8864bb9",
   "metadata": {
    "deletable": false,
    "editable": false
   },
   "source": [
    "**Task 4.3.1:** Use the `wrangle` function above to import your data set into the DataFrame `df`. The path to the SQLite database is `\"/home/jovyan/nepal.sqlite\"`\n",
    "\n",
    "- [<span id='technique'>Read SQL query into a DataFrame using <span id='tool'>pandas</span></span>.](../%40textbook/10-databases-sql.ipynb#Using-pandas-with-SQL-Databases)\n",
    "- [<span id='technique'>Write a function in <span id='tool'>Python</span></span>.](../%40textbook/02-python-advanced.ipynb#Functions)"
   ]
  },
  {
   "cell_type": "code",
   "execution_count": null,
   "id": "6700cb6f-50e9-469b-ac40-87dea0d38888",
   "metadata": {
    "deletable": false
   },
   "outputs": [],
   "source": [
    "df = ...\n",
    "df.head()"
   ]
  },
  {
   "cell_type": "code",
   "execution_count": null,
   "id": "325e89ff-f91f-4a96-8690-bc3fc936bd53",
   "metadata": {
    "deletable": false
   },
   "outputs": [],
   "source": [
    "# Check your work\n",
    "assert df.shape[0] == 70836, f\"`df` should have 70,836 rows, not {df.shape[0]}.\"\n",
    "assert df.shape[1] == 12, f\"`df` should have 12 columns, not {df.shape[1]}.\""
   ]
  },
  {
   "cell_type": "markdown",
   "id": "05b2c58b-e7d0-4883-9a24-082cd3a259a2",
   "metadata": {
    "deletable": false,
    "editable": false,
    "tags": []
   },
   "source": [
    "## Split"
   ]
  },
  {
   "cell_type": "markdown",
   "id": "0699190f-dffe-4769-acec-04b2bacca236",
   "metadata": {
    "deletable": false,
    "editable": false
   },
   "source": [
    "**Task 4.3.2:** Create your feature matrix `X` and target vector `y`. Your target is `\"severe_damage\"`. \n",
    "\n",
    "- [What's a <span id='term'>feature matrix</span>?](../%40textbook/15-ml-regression.ipynb#Linear-Regression)\n",
    "- [What's a <span id='term'>target vector</span>?](../%40textbook/15-ml-regression.ipynb#Linear-Regression)\n",
    "- [<span id='technique'>Subset a DataFrame by selecting one or more columns in <span id='tool'>pandas</span></span>.](../%40textbook/04-pandas-advanced.ipynb#Subset-a-DataFrame-by-Selecting-One-or-More-Columns) \n",
    "- [<span id='technique'>Select a Series from a DataFrame in <span id='tool'>pandas</span></span>.](../%40textbook/04-pandas-advanced.ipynb#Select-a-Series-from-a-DataFrame) "
   ]
  },
  {
   "cell_type": "code",
   "execution_count": null,
   "id": "65a5a66f-511e-4e0a-9602-8634b22fdc31",
   "metadata": {
    "deletable": false
   },
   "outputs": [],
   "source": [
    "target = \"severe_damage\"\n",
    "X = ...\n",
    "y = ..."
   ]
  },
  {
   "cell_type": "code",
   "execution_count": null,
   "id": "de8d0db2-147a-4c63-adcc-c3d9cac61b26",
   "metadata": {
    "deletable": false
   },
   "outputs": [],
   "source": [
    "# Check your work\n",
    "assert X.shape == (70836, 11), f\"The shape of `X` should be (70836, 11), not {X.shape}.\"\n",
    "assert y.shape == (70836,), f\"The shape of `y` should be (70836,), not {y.shape}.\""
   ]
  },
  {
   "cell_type": "code",
   "execution_count": null,
   "id": "89ee2ecd-2314-4d7e-b68b-2b7ade5e8acb",
   "metadata": {
    "deletable": false,
    "editable": false,
    "init_cell": true
   },
   "outputs": [],
   "source": [
    "VimeoVideo(\"665415006\", h=\"ecb1b87861\", width=600)"
   ]
  },
  {
   "cell_type": "markdown",
   "id": "ad54e1dc-2066-4e73-bd68-150c9b5bceb6",
   "metadata": {
    "deletable": false,
    "editable": false
   },
   "source": [
    "**Task 4.3.3:** Divide your data (`X` and `y`) into training and test sets using a randomized train-test split. Your test set should be 20% of your total data. And don't forget to set a `random_state` for reproducibility. \n",
    "\n",
    "- [<span id='technique'>Perform a randomized train-test split using <span id='tool'>scikit-learn</span></span>.](../%40textbook/14-ml-classification.ipynb#Randomized-Train-Test-split)"
   ]
  },
  {
   "cell_type": "code",
   "execution_count": null,
   "id": "76046b5f-370e-4128-8720-12647d353a41",
   "metadata": {
    "deletable": false
   },
   "outputs": [],
   "source": [
    "X_train, X_test, y_train, y_test = ..."
   ]
  },
  {
   "cell_type": "code",
   "execution_count": null,
   "id": "4adfdfa1-6f51-49b4-9f53-49641d7632ec",
   "metadata": {
    "deletable": false
   },
   "outputs": [],
   "source": [
    "# Check your work\n",
    "assert X_train.shape == (\n",
    "    56668,\n",
    "    11,\n",
    "), f\"The shape of `X_train` should be (56668, 11), not {X_train.shape}.\"\n",
    "assert y_train.shape == (\n",
    "    56668,\n",
    "), f\"The shape of `y_train` should be (56668,), not {y_train.shape}.\"\n",
    "assert X_test.shape == (\n",
    "    14168,\n",
    "    11,\n",
    "), f\"The shape of `X_test` should be (14168, 11), not {X_test.shape}.\"\n",
    "assert y_test.shape == (\n",
    "    14168,\n",
    "), f\"The shape of `y_test` should be (14168,), not {y_test.shape}.\""
   ]
  },
  {
   "cell_type": "markdown",
   "id": "5ba9c78e-a189-4c9c-89e3-0475c7b86c83",
   "metadata": {
    "deletable": false,
    "editable": false
   },
   "source": [
    "**Task 4.3.4:** Divide your training data (`X_train` and `y_train`) into training and validation sets using a randomized train-test split. Your validation data should be 20% of the remaining data. Don't forget to set a `random_state`.\n",
    "\n",
    "- [What's a <span id='term'>validation set</span>?](../%40textbook/14-ml-classification.ipynb#Randomized-Train-Test-split)\n",
    "- [<span id='technique'>Perform a randomized train-test split using <span id='tool'>scikit-learn</span></span>.](../%40textbook/14-ml-classification.ipynb#Randomized-Train-Test-split)"
   ]
  },
  {
   "cell_type": "code",
   "execution_count": null,
   "id": "4a86074a-5c59-4119-9a4e-34c16d523ca9",
   "metadata": {
    "deletable": false
   },
   "outputs": [],
   "source": [
    "X_train, X_val, y_train, y_val = ..."
   ]
  },
  {
   "cell_type": "code",
   "execution_count": null,
   "id": "6ceaa139-04e0-4fc8-b4f6-4512d69dd5fe",
   "metadata": {
    "deletable": false
   },
   "outputs": [],
   "source": [
    "# Check your work\n",
    "assert X_train.shape == (\n",
    "    45334,\n",
    "    11,\n",
    "), f\"The shape of `X_train` should be (45334, 11), not {X_train.shape}.\"\n",
    "assert y_train.shape == (\n",
    "    45334,\n",
    "), f\"The shape of `y_train` should be (45334,), not {y_train.shape}.\"\n",
    "assert X_val.shape == (\n",
    "    11334,\n",
    "    11,\n",
    "), f\"The shape of `X_val` should be (11334, 11), not {X_val.shape}.\"\n",
    "assert y_val.shape == (\n",
    "    11334,\n",
    "), f\"The shape of `y_val` should be (11334,), not {y_val.shape}.\""
   ]
  },
  {
   "cell_type": "markdown",
   "id": "cf2a6fc1-690b-42b9-b60b-c63f91aabce9",
   "metadata": {
    "deletable": false,
    "editable": false,
    "tags": []
   },
   "source": [
    "# Build Model"
   ]
  },
  {
   "cell_type": "markdown",
   "id": "c70843c4-fbc3-4225-b093-9cf4b92e8c91",
   "metadata": {
    "deletable": false,
    "editable": false
   },
   "source": [
    "## Baseline"
   ]
  },
  {
   "cell_type": "markdown",
   "id": "0b51d01d-83a4-49a0-9583-19449d088ad6",
   "metadata": {
    "deletable": false,
    "editable": false
   },
   "source": [
    "**Task 4.3.5:** Calculate the baseline accuracy score for your model.\n",
    "\n",
    "- [What's <span id='tool'>accuracy score</span>?](../%40textbook/14-ml-classification.ipynb#Calculating-Accuracy-Score)\n",
    "- [<span id='technique'>Aggregate data in a Series using `value_counts` in <span id='tool'>pandas</span></span>.](../%40textbook/04-pandas-advanced.ipynb#Working-with-value_counts-in-a-Series)"
   ]
  },
  {
   "cell_type": "code",
   "execution_count": null,
   "id": "70fc8e34-a25f-42a7-af9d-76161a35dbed",
   "metadata": {
    "deletable": false
   },
   "outputs": [],
   "source": [
    "acc_baseline = ...\n",
    "print(\"Baseline Accuracy:\", round(acc_baseline, 2))"
   ]
  },
  {
   "cell_type": "markdown",
   "id": "b6e3aa6e-03ea-4b05-9997-7886b2fef482",
   "metadata": {
    "deletable": false,
    "editable": false,
    "tags": []
   },
   "source": [
    "## Iterate"
   ]
  },
  {
   "cell_type": "code",
   "execution_count": null,
   "id": "890ae56d-c99d-4e22-b92c-8661b7ced1c1",
   "metadata": {
    "deletable": false,
    "editable": false,
    "init_cell": true
   },
   "outputs": [],
   "source": [
    "VimeoVideo(\"665415061\", h=\"6250826047\", width=600)"
   ]
  },
  {
   "cell_type": "code",
   "execution_count": null,
   "id": "f5be024c-55cb-4dfb-8469-f80529fab56f",
   "metadata": {
    "deletable": false,
    "editable": false,
    "init_cell": true
   },
   "outputs": [],
   "source": [
    "VimeoVideo(\"665415109\", h=\"b3bb82651d\", width=600)"
   ]
  },
  {
   "cell_type": "markdown",
   "id": "066ff773-54ec-4314-aaeb-fcfff62ba600",
   "metadata": {
    "deletable": false,
    "editable": false
   },
   "source": [
    "**Task 4.3.6:** Create a pipeline named `model` that contains a `OrdinalEncoder` transformer and a `DecisionTreeClassifier` predictor. (Be sure to set a `random_state` for your predictor.) Then fit your model to the training data. \n",
    "\n",
    "- [What's a <span id='term'>decision tree</span>?](../%40textbook/14-ml-classification.ipynb#Decision-Trees)\n",
    "- [What's <span id='term'>ordinal encoding</span>?](../%40textbook/13-ml-data-pre-processing-and-production.ipynb#Ordinal-Encoding)\n",
    "- [<span id='technique'>Create a pipeline in <span id='tool'>scikit-learn</span></span>.](../%40textbook/13-ml-data-pre-processing-and-production.ipynb#Creating-a-Pipeline-in-scikit-learn)\n",
    "- [<span id='technique'>Fit a model to training data in <span id='tool'>scikit-learn</span></span>.](../%40textbook/15-ml-regression.ipynb#Fitting-a-Model-to-Training-Data)"
   ]
  },
  {
   "cell_type": "code",
   "execution_count": null,
   "id": "4d05d9d5-54a4-43e7-9d4a-077b0f4f9066",
   "metadata": {
    "deletable": false
   },
   "outputs": [],
   "source": [
    "# Build Model\n",
    "model = ...\n",
    "# Fit model to training data\n"
   ]
  },
  {
   "cell_type": "code",
   "execution_count": null,
   "id": "7b62786e-6d4e-42af-9701-3ad42679220d",
   "metadata": {
    "deletable": false
   },
   "outputs": [],
   "source": [
    "# Check your work\n",
    "assert isinstance(\n",
    "    model, Pipeline\n",
    "), f\"`model` should be a Pipeline, not type {type(model)}.\"\n",
    "assert isinstance(\n",
    "    model[0], OrdinalEncoder\n",
    "), f\"The first step in your Pipeline should be an OrdinalEncoder, not type {type(model[0])}.\"\n",
    "assert isinstance(\n",
    "    model[-1], DecisionTreeClassifier\n",
    "), f\"The last step in your Pipeline should be an DecisionTreeClassifier, not type {type(model[-1])}.\"\n",
    "check_is_fitted(model)"
   ]
  },
  {
   "cell_type": "code",
   "execution_count": null,
   "id": "29301d5b-b0bf-4514-a46c-34b70998d340",
   "metadata": {
    "deletable": false,
    "editable": false,
    "init_cell": true
   },
   "outputs": [],
   "source": [
    "VimeoVideo(\"665415153\", h=\"f0ec320955\", width=600)"
   ]
  },
  {
   "cell_type": "markdown",
   "id": "0a9b5321-af28-4f8b-86c0-d833f93c6ed8",
   "metadata": {
    "deletable": false,
    "editable": false
   },
   "source": [
    "**Task 4.3.7:** Calculate the training and validation accuracy scores for your models. \n",
    "\n",
    "- [<span id='technique'>Calculate the accuracy score for a model in <span id='term'>scikit-learn</span></span>.](../%40textbook/14-ml-classification.ipynb#Calculating-Accuracy-Score)\n",
    "- [<span id='technique'>Generate predictions using a trained model in <span id='term'>scikit-learn</span></span>.](../%40textbook/15-ml-regression.ipynb#Generating-Predictions-Using-a-Trained-Model)"
   ]
  },
  {
   "cell_type": "code",
   "execution_count": null,
   "id": "e0d69484-3693-4c6b-a107-3063dcdaae29",
   "metadata": {
    "deletable": false
   },
   "outputs": [],
   "source": [
    "acc_train = ...\n",
    "acc_val = ...\n",
    "\n",
    "print(\"Training Accuracy:\", round(acc_train, 2))\n",
    "print(\"Validation Accuracy:\", round(acc_val, 2))"
   ]
  },
  {
   "cell_type": "code",
   "execution_count": null,
   "id": "27100046-4dbe-4c1a-bb2d-9ad92512e688",
   "metadata": {
    "deletable": false,
    "editable": false,
    "init_cell": true
   },
   "outputs": [],
   "source": [
    "VimeoVideo(\"665415169\", h=\"44702fc696\", width=600)"
   ]
  },
  {
   "cell_type": "markdown",
   "id": "830f879d-52bb-4f7e-ba6c-a272340e0031",
   "metadata": {
    "deletable": false,
    "editable": false
   },
   "source": [
    "**Task 4.3.8:** Use the [`get_depth`](https://scikit-learn.org/stable/modules/generated/sklearn.tree.DecisionTreeClassifier.html#sklearn.tree.DecisionTreeClassifier.get_depth) method on the `DecisionTreeClassifier` in your model to see how deep your tree grew during training. \n",
    "\n",
    "- [<span id='technique'>Access an object in a pipeline in <span id='tool'>scikit-learn</span></span>.](../%40textbook/13-ml-data-pre-processing-and-production.ipynb#Accessing-an-Object-in-a-Pipeline)"
   ]
  },
  {
   "cell_type": "code",
   "execution_count": null,
   "id": "7abbc1af-d46d-4975-b4d8-3a93832da7f0",
   "metadata": {
    "deletable": false
   },
   "outputs": [],
   "source": [
    "tree_depth = ...\n",
    "print(\"Tree Depth:\", tree_depth)"
   ]
  },
  {
   "cell_type": "code",
   "execution_count": null,
   "id": "24011e53-75ce-40e2-93f7-315333e473dd",
   "metadata": {
    "deletable": false,
    "editable": false,
    "init_cell": true
   },
   "outputs": [],
   "source": [
    "VimeoVideo(\"665415186\", h=\"c4ce187170\", width=600)"
   ]
  },
  {
   "cell_type": "markdown",
   "id": "8276ab78-eebf-4127-855b-011728908036",
   "metadata": {
    "deletable": false,
    "editable": false
   },
   "source": [
    "**Task 4.3.9:** Create a range of possible values for `max_depth` hyperparameter of your model's `DecisionTreeClassifier`. `depth_hyperparams` should range from `1` to `50` by steps of `2`.\n",
    "\n",
    "- [What's an <span id='term'>iterator</span>?](../%40textbook/02-python-advanced.ipynb#Iterators-and-Iterables-)\n",
    "- [<span id='technique'>Create a range in <span id='tool'>Python</span></span>.](../%40textbook/18-ts-models.ipynb#Hyperparameters)"
   ]
  },
  {
   "cell_type": "code",
   "execution_count": null,
   "id": "32481a79-206a-4842-a9f0-067cd1777f89",
   "metadata": {
    "deletable": false
   },
   "outputs": [],
   "source": [
    "depth_hyperparams = ..."
   ]
  },
  {
   "cell_type": "code",
   "execution_count": null,
   "id": "481670d3-fdb7-4f4e-8240-ab077642146e",
   "metadata": {
    "deletable": false
   },
   "outputs": [],
   "source": [
    "# Check your work\n",
    "assert (\n",
    "    len(list(depth_hyperparams)) == 25\n",
    "), f\"`depth_hyperparams` should contain 25 items, not {len(list(depth_hyperparams))}.\"\n",
    "assert (\n",
    "    list(depth_hyperparams)[0] == 1\n",
    "), f\"`depth_hyperparams` should begin at 1, not {list(depth_hyperparams)[0]}.\"\n",
    "assert (\n",
    "    list(depth_hyperparams)[-1] == 49\n",
    "), f\"`depth_hyperparams` should end at 49, not {list(depth_hyperparams)[-1]}.\""
   ]
  },
  {
   "cell_type": "code",
   "execution_count": null,
   "id": "22a4ad6d-31d5-4f8a-bd9f-1ab5c0d40252",
   "metadata": {
    "deletable": false,
    "editable": false,
    "init_cell": true
   },
   "outputs": [],
   "source": [
    "VimeoVideo(\"665415198\", h=\"b4b85c3308\", width=600)"
   ]
  },
  {
   "cell_type": "markdown",
   "id": "f0d09f37-0f63-48cf-8be3-6024d5204af2",
   "metadata": {
    "deletable": false,
    "editable": false
   },
   "source": [
    "**Task 4.3.10:** Complete the code below so that it trains a model for every `max_depth` in `depth_hyperparams`. Every time a new model is trained, the code should also calculate the training and validation accuracy scores and append them to the `training_acc` and `validation_acc` lists, respectively. \n",
    "\n",
    "- [<span id='technique'>Append an item to a list in <span id='tool'>Python</span></span>.](../%40textbook/01-python-getting-started.ipynb#Appending-Items)\n",
    "- [<span id='technique'>Create a pipeline in <span id='tool'>scikit-learn</span></span>.](../%40textbook/13-ml-data-pre-processing-and-production.ipynb#Creating-a-Pipeline-in-scikit-learn)\n",
    "- [<span id='technique'>Fit a model to training data in <span id='tool'>scikit-learn</span></span>.](../%40textbook/15-ml-regression.ipynb#Fitting-a-Model-to-Training-Data)\n",
    "- [<span id='technique'>Write a for loop in <span id='tool'>Python</span></span>.](../%40textbook/01-python-getting-started.ipynb#Python-for-Loops)"
   ]
  },
  {
   "cell_type": "code",
   "execution_count": null,
   "id": "504732b1-8dc8-4731-9842-014d1d5bb67b",
   "metadata": {
    "deletable": false
   },
   "outputs": [],
   "source": [
    "# Create empty lists for training and validation accuracy scores\n",
    "training_acc = []\n",
    "validation_acc = []\n",
    "\n",
    "for d in depth_hyperparams:\n",
    "    # Create model with `max_depth` of `d`\n",
    "    test_model = ...\n",
    "    # Fit model to training data\n",
    "    test_model.fit(X_train, y_train)\n",
    "    # Calculate training accuracy score and append to `training_acc`\n",
    "    training_acc.append(...)\n",
    "    # Calculate validation accuracy score and append to `training_acc`\n",
    "    validation_acc.append(...)\n",
    "\n",
    "print(\"Training Accuracy Scores:\", training_acc[:3])\n",
    "print(\"Validation Accuracy Scores:\", validation_acc[:3])"
   ]
  },
  {
   "cell_type": "code",
   "execution_count": null,
   "id": "595645c5-bbf8-4b72-a100-85009e88084a",
   "metadata": {
    "deletable": false
   },
   "outputs": [],
   "source": [
    "# Check your work\n",
    "assert (\n",
    "    len(training_acc) == 25\n",
    "), f\"`training_acc` should contain 25 items, not {len(training_acc)}.\"\n",
    "assert (\n",
    "    len(validation_acc) == 25\n",
    "), f\"`validation_acc` should contain 25 items, not {len(validation_acc)}.\""
   ]
  },
  {
   "cell_type": "code",
   "execution_count": null,
   "id": "d3178eb0-8bcf-4e07-9c37-d3b942bd9915",
   "metadata": {
    "deletable": false,
    "editable": false,
    "init_cell": true
   },
   "outputs": [],
   "source": [
    "VimeoVideo(\"665415236\", h=\"51d4be13fa\", width=600)"
   ]
  },
  {
   "cell_type": "markdown",
   "id": "e1f295a9-2c10-4d8f-8548-bfc7b20d641b",
   "metadata": {
    "deletable": false,
    "editable": false
   },
   "source": [
    "**Task 4.3.11:** Create a visualization with two lines. The first line should plot the `training_acc` values as a function of `depth_hyperparams`, and the second should plot `validation_acc` as a function of `depth_hyperparams`. You x-axis should be labeled `\"Max Depth\"`, and the y-axis `\"Accuracy Score\"`. Also include a legend so that your audience can distinguish between the two lines. \n",
    "\n",
    "- [What's a <span id='term'>line plot</span>?](../%40textbook/07-visualization-pandas.ipynb#Line-Plots)\n",
    "- [<span id='technique'>Create a line plot in <span id='tool'>Matplotlib</span></span>.](../%40textbook/07-visualization-pandas.ipynb#Line-Plots)"
   ]
  },
  {
   "cell_type": "code",
   "execution_count": null,
   "id": "cf11cadd-37f8-4011-a13b-0a1ca4b5b051",
   "metadata": {
    "deletable": false
   },
   "outputs": [],
   "source": [
    "# Plot `depth_hyperparams`, `training_acc`\n"
   ]
  },
  {
   "cell_type": "markdown",
   "id": "809c2c3c",
   "metadata": {
    "deletable": false,
    "editable": false
   },
   "source": [
    "## Evaluate"
   ]
  },
  {
   "cell_type": "code",
   "execution_count": null,
   "id": "6d50688b-0b49-416b-a128-92317cbdebcc",
   "metadata": {
    "deletable": false,
    "editable": false,
    "init_cell": true
   },
   "outputs": [],
   "source": [
    "VimeoVideo(\"665415255\", h=\"573e9cfd74\", width=600)"
   ]
  },
  {
   "cell_type": "markdown",
   "id": "41ab6e8a-9e99-488f-ad93-11acf8e802a8",
   "metadata": {
    "deletable": false,
    "editable": false
   },
   "source": [
    "**Task 4.3.12:** Based on your visualization, choose the `max_depth` value that leads to the best validation accuracy score. Then retrain your original model with that `max_depth` value. Lastly, check how your tuned model performs on your test set by calculating the test accuracy score below. Were you able to resolve the overfitting problem with this new `max_depth`?\n",
    "\n",
    "- [<span id='technique'>Calculate the accuracy score for a model in <span id='term'>scikit-learn</span></span>.](../%40textbook/14-ml-classification.ipynb#Calculating-Accuracy-Score)\n",
    "- [<span id='technique'>Generate predictions using a trained model in <span id='term'>scikit-learn</span></span>.](../%40textbook/15-ml-regression.ipynb#Generating-Predictions-Using-a-Trained-Model)"
   ]
  },
  {
   "cell_type": "code",
   "execution_count": null,
   "id": "7d82c732-0f80-4462-8c4d-0455a6706741",
   "metadata": {
    "deletable": false
   },
   "outputs": [],
   "source": [
    "test_acc = ...\n",
    "print(\"Test Accuracy:\", round(test_acc, 2))"
   ]
  },
  {
   "cell_type": "markdown",
   "id": "aae12723",
   "metadata": {
    "deletable": false,
    "editable": false
   },
   "source": [
    "# Communicate"
   ]
  },
  {
   "cell_type": "code",
   "execution_count": null,
   "id": "919fce9d-2e3d-41ad-9d72-408c5eaf47a0",
   "metadata": {
    "deletable": false,
    "editable": false,
    "init_cell": true
   },
   "outputs": [],
   "source": [
    "VimeoVideo(\"665415275\", h=\"880366a826\", width=600)"
   ]
  },
  {
   "cell_type": "markdown",
   "id": "6d9a6162-66af-4fa0-8018-ded8a49718be",
   "metadata": {
    "deletable": false,
    "editable": false
   },
   "source": [
    "**Task 4.3.13:** Complete the code below to use the [`plot_tree`](https://scikit-learn.org/stable/modules/generated/sklearn.tree.plot_tree.html) function from scikit-learn to visualize the decision logic of your model. \n",
    "\n",
    "- [<span id='technique'>Plot a decision tree using <span id='tool'>scikit-learn</span></span>.](../%40textbook/14-ml-classification.ipynb#Plotting-a-Decision-Tree)"
   ]
  },
  {
   "cell_type": "code",
   "execution_count": null,
   "id": "27a1ef60-b5e0-4e84-8905-e3b4f855ebab",
   "metadata": {
    "deletable": false
   },
   "outputs": [],
   "source": [
    "# Create larger figure\n",
    "fig, ax = plt.subplots(figsize=(25, 12))\n",
    "# Plot tree\n",
    "plot_tree(\n",
    "    decision_tree=...,\n",
    "    feature_names=...,\n",
    "    filled=True,  # Color leaf with class\n",
    "    rounded=True,  # Round leaf edges\n",
    "    proportion=True,  # Display proportion of classes in leaf\n",
    "    max_depth=3,  # Only display first 3 levels\n",
    "    fontsize=12,  # Enlarge font\n",
    "    ax=ax,  # Place in figure axis\n",
    ");"
   ]
  },
  {
   "cell_type": "code",
   "execution_count": null,
   "id": "b6f57604-3698-407a-8de2-db979de05e72",
   "metadata": {
    "deletable": false,
    "editable": false,
    "init_cell": true
   },
   "outputs": [],
   "source": [
    "VimeoVideo(\"665415304\", h=\"c7eeac08c9\", width=600)"
   ]
  },
  {
   "cell_type": "markdown",
   "id": "d39b7687-6a8b-42bf-83b8-693ec58ec685",
   "metadata": {
    "deletable": false,
    "editable": false
   },
   "source": [
    "**Task 4.3.14:** Assign the feature names and importances of your model to the variables below. For the `features`, you can get them from the column names in your training set. For the `importances`, you access the [`feature_importances_`](https://scikit-learn.org/stable/modules/generated/sklearn.tree.DecisionTreeClassifier.html#sklearn.tree.DecisionTreeClassifier.feature_importances_) attribute of your model's `DecisionTreeClassifier`. \n",
    "\n",
    "- [<span id='technique'>Access an object in a pipeline in <span id='tool'>scikit-learn</span></span>.](../%40textbook/13-ml-data-pre-processing-and-production.ipynb#Accessing-an-Object-in-a-Pipeline)"
   ]
  },
  {
   "cell_type": "code",
   "execution_count": null,
   "id": "a0ad2232-eec8-4a46-af26-cb9fd4068fc8",
   "metadata": {
    "deletable": false
   },
   "outputs": [],
   "source": [
    "features = ...\n",
    "importances = ...\n",
    "\n",
    "print(\"Features:\", features[:3])\n",
    "print(\"Importances:\", importances[:3])"
   ]
  },
  {
   "cell_type": "code",
   "execution_count": null,
   "id": "a43a03a4-d19f-41f2-9601-2d7f496c922c",
   "metadata": {
    "deletable": false
   },
   "outputs": [],
   "source": [
    "# Check your work\n",
    "assert len(features) == 11, f\"`features` should contain 11 items, not {len(features)}.\"\n",
    "assert (\n",
    "    len(importances) == 11\n",
    "), f\"`importances` should contain 11 items, not {len(importances)}.\""
   ]
  },
  {
   "cell_type": "markdown",
   "id": "c36a7198-2354-4ec2-a35a-921a7316e43d",
   "metadata": {
    "deletable": false,
    "editable": false
   },
   "source": [
    "**Task 4.3.15:** Create a pandas Series named `feat_imp`, where the index is `features` and the values are your `importances`. The Series should be sorted from smallest to largest importance.\n",
    "\n",
    "- [<span id='technique'>Create a Series in <span id='tool'>pandas</span></span>.](../%40textbook/03-pandas-getting-started.ipynb#Adding-Columns)"
   ]
  },
  {
   "cell_type": "code",
   "execution_count": null,
   "id": "1dc152b6-4781-403f-a67b-1c5cc5ef4e30",
   "metadata": {
    "deletable": false
   },
   "outputs": [],
   "source": [
    "feat_imp = ...\n",
    "feat_imp.head()"
   ]
  },
  {
   "cell_type": "code",
   "execution_count": null,
   "id": "5dd75215-a5d4-4da1-91ad-84ca6a3f4e36",
   "metadata": {
    "deletable": false
   },
   "outputs": [],
   "source": [
    "# Check your work\n",
    "assert isinstance(\n",
    "    feat_imp, pd.Series\n",
    "), f\"`feat_imp` should be a Series, not {type(feat_imp)}.\"\n",
    "assert feat_imp.shape == (\n",
    "    11,\n",
    "), f\"`feat_imp` should have shape (11,), not {feat_imp.shape}.\""
   ]
  },
  {
   "cell_type": "code",
   "execution_count": null,
   "id": "b981cd13-b283-46fb-831b-2ac1822c2211",
   "metadata": {
    "deletable": false,
    "editable": false,
    "init_cell": true
   },
   "outputs": [],
   "source": [
    "VimeoVideo(\"665415316\", h=\"0dd9004477\", width=600)"
   ]
  },
  {
   "cell_type": "markdown",
   "id": "5a246622-3962-4309-bcb5-85f13adde3f1",
   "metadata": {
    "deletable": false,
    "editable": false
   },
   "source": [
    "**Task 4.3.16:** Create a horizontal bar chart with all the features in `feat_imp`. Be sure to label your x-axis `\"Gini Importance\"`.\n",
    "\n",
    "- [What's a <span id='term'>bar chart</span>?](../%40textbook/07-visualization-pandas.ipynb#Bar-Charts)\n",
    "- [<span id='technique'>Create a bar chart using <span id='tool'>pandas</span></span>.](../%40textbook/07-visualization-pandas.ipynb#Bar-Charts)"
   ]
  },
  {
   "cell_type": "code",
   "execution_count": null,
   "id": "f801322d-0cac-4b3e-a825-258685dd71a2",
   "metadata": {
    "deletable": false
   },
   "outputs": [],
   "source": [
    "# Create horizontal bar chart\n"
   ]
  },
  {
   "cell_type": "markdown",
   "id": "bee6a956",
   "metadata": {
    "deletable": false,
    "editable": false
   },
   "source": [
    "---\n",
    "Copyright © 2022 WorldQuant University. This\n",
    "content is licensed solely for personal use. Redistribution or\n",
    "publication of this material is strictly prohibited.\n"
   ]
  }
 ],
 "metadata": {
  "kernelspec": {
   "display_name": "Python 3 (ipykernel)",
   "language": "python",
   "name": "python3"
  },
  "language_info": {
   "codemirror_mode": {
    "name": "ipython",
    "version": 3
   },
   "file_extension": ".py",
   "mimetype": "text/x-python",
   "name": "python",
   "nbconvert_exporter": "python",
   "pygments_lexer": "ipython3",
   "version": "3.9.6"
  }
 },
 "nbformat": 4,
 "nbformat_minor": 5
}
