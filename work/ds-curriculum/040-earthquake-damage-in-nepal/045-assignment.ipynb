{
 "cells": [
  {
   "cell_type": "markdown",
   "id": "7adfb2a2-f887-41a8-8003-6744801b7780",
   "metadata": {
    "deletable": false,
    "editable": false
   },
   "source": [
    "<font size=\"+3\"><strong>4.5. Earthquake Damage in Kavrepalanchok 🇳🇵</strong></font>"
   ]
  },
  {
   "cell_type": "markdown",
   "id": "bc60813d-d919-4f33-9e5c-8a5f5655d25f",
   "metadata": {
    "deletable": false,
    "editable": false
   },
   "source": [
    "In this assignment, you'll build a classification model to predict building damage for the district of [Kavrepalanchok](https://en.wikipedia.org/wiki/Kavrepalanchok_District)."
   ]
  },
  {
   "cell_type": "code",
   "execution_count": null,
   "id": "be0ad308-a8a9-4931-a803-14e479b5f015",
   "metadata": {
    "deletable": false,
    "editable": false,
    "init_cell": true
   },
   "outputs": [],
   "source": [
    "import warnings\n",
    "\n",
    "import wqet_grader\n",
    "\n",
    "warnings.simplefilter(action=\"ignore\", category=FutureWarning)\n",
    "wqet_grader.init(\"Project 4 Assessment\")"
   ]
  },
  {
   "cell_type": "code",
   "execution_count": null,
   "id": "2ef8eaa3-d1c0-42f7-87f9-ace7e1a4f712",
   "metadata": {
    "deletable": false
   },
   "outputs": [],
   "source": [
    "# Import libraries here\n"
   ]
  },
  {
   "cell_type": "markdown",
   "id": "0cec9bac-5fb3-4ad8-9ed3-d6d754160640",
   "metadata": {
    "deletable": false,
    "editable": false
   },
   "source": [
    "# Prepare Data"
   ]
  },
  {
   "cell_type": "markdown",
   "id": "bda33c00-118e-4000-92b8-536e4a4108d5",
   "metadata": {
    "deletable": false,
    "editable": false
   },
   "source": [
    "## Connect"
   ]
  },
  {
   "cell_type": "markdown",
   "id": "b8503125-3767-4385-b22c-b9b12cf048a7",
   "metadata": {
    "deletable": false,
    "editable": false
   },
   "source": [
    "Run the cell below to connect to the `nepal.sqlite` database."
   ]
  },
  {
   "cell_type": "code",
   "execution_count": null,
   "id": "b4f41e25-9e0f-4736-ae75-ab8e51bffcfb",
   "metadata": {
    "deletable": false
   },
   "outputs": [],
   "source": [
    "%load_ext sql\n",
    "%sql sqlite:////home/jovyan/nepal.sqlite"
   ]
  },
  {
   "cell_type": "markdown",
   "id": "72de701a-ead5-48c3-9c40-9e548d5cb634",
   "metadata": {
    "deletable": false,
    "editable": false
   },
   "source": [
    "<div class=\"alert alert-block alert-warning\">\n",
    "<b>Warning:</b>Be careful with your SQL queries in this assignment. If you try to get all the rows from a table (for example, <code>SELECT * FROM id_map</code>), you will cause an Out of Memory error on your virtual machine. So always include a <code>LIMIT</code> when first exploring a database.\n",
    "</div>"
   ]
  },
  {
   "cell_type": "markdown",
   "id": "fef7dca8-4955-43b0-b78d-d839702ab257",
   "metadata": {
    "deletable": false,
    "editable": false
   },
   "source": [
    "**Task 4.5.1:** What districts are represented in the `id_map` table? Determine the unique values in the **`district_id`** column."
   ]
  },
  {
   "cell_type": "code",
   "execution_count": null,
   "id": "e0fe1e67-0bf7-4955-83a8-c355a73c231d",
   "metadata": {
    "deletable": false
   },
   "outputs": [],
   "source": [
    "%%sql\n"
   ]
  },
  {
   "cell_type": "code",
   "execution_count": null,
   "id": "4a39553a-1b27-46c1-9eaf-a7abea645b81",
   "metadata": {
    "deletable": false,
    "editable": false
   },
   "outputs": [],
   "source": [
    "result = _.DataFrame().squeeze()  # noqa F821\n",
    "\n",
    "wqet_grader.grade(\"Project 4 Assessment\", \"Task 4.5.1\", result)"
   ]
  },
  {
   "cell_type": "markdown",
   "id": "e5e29983-87b0-4f09-b2e6-ebad6cc5d87f",
   "metadata": {
    "deletable": false,
    "editable": false
   },
   "source": [
    "What's the district ID for Kavrepalanchok? From the lessons, you already know that Gorkha is `4`; from the textbook, you know that Ramechhap is `2`. Of the remaining districts, Kavrepalanchok is the one with the largest number of observations in the `id_map` table."
   ]
  },
  {
   "cell_type": "markdown",
   "id": "8bfad7c2-f8c8-40d7-aed9-592af00d468f",
   "metadata": {
    "deletable": false,
    "editable": false
   },
   "source": [
    "**Task 4.5.2:** Calculate the number of observations in the `id_map` table associated with district `1`."
   ]
  },
  {
   "cell_type": "code",
   "execution_count": null,
   "id": "f69563d2-ed56-42ce-9bbb-bca91fb83245",
   "metadata": {
    "deletable": false
   },
   "outputs": [],
   "source": [
    "%%sql\n"
   ]
  },
  {
   "cell_type": "code",
   "execution_count": null,
   "id": "69bb36f0-e4ac-418a-a07e-b3e03418ac97",
   "metadata": {
    "deletable": false,
    "editable": false
   },
   "outputs": [],
   "source": [
    "result = [_.DataFrame().astype(float).squeeze()]  # noqa F821\n",
    "wqet_grader.grade(\"Project 4 Assessment\", \"Task 4.5.2\", result)"
   ]
  },
  {
   "cell_type": "markdown",
   "id": "a2d265c6-ebf5-4cd1-b414-6dbc58a62119",
   "metadata": {
    "deletable": false,
    "editable": false
   },
   "source": [
    "**Task 4.5.3:** Calculate the number of observations in the `id_map` table associated with district `3`."
   ]
  },
  {
   "cell_type": "code",
   "execution_count": null,
   "id": "ed88fe76-9572-4bc3-b8d0-f9bdff06d1b8",
   "metadata": {
    "deletable": false
   },
   "outputs": [],
   "source": [
    "%%sql\n"
   ]
  },
  {
   "cell_type": "code",
   "execution_count": null,
   "id": "648ad240-de2a-473a-8a7b-77949a8b3b2c",
   "metadata": {
    "deletable": false,
    "editable": false
   },
   "outputs": [],
   "source": [
    "result = [_.DataFrame().astype(float).squeeze()]  # noqa F821\n",
    "wqet_grader.grade(\"Project 4 Assessment\", \"Task 4.5.3\", result)"
   ]
  },
  {
   "cell_type": "markdown",
   "id": "712062bd-117a-4b18-857b-435b61a6913f",
   "metadata": {
    "deletable": false,
    "editable": false
   },
   "source": [
    "**Task 4.5.4:** Join the unique building IDs from Kavrepalanchok in `id_map`, all the columns from  `building_structure`, and the **`damage_grade`** column from `building_damage`, limiting. Make sure you rename the **`building_id`** column in `id_map` as **`b_id`** and limit your results to the first five rows of the new table."
   ]
  },
  {
   "cell_type": "code",
   "execution_count": null,
   "id": "4f19b935-07ec-4e13-a780-5aae82f8dfb3",
   "metadata": {
    "deletable": false
   },
   "outputs": [],
   "source": [
    "%%sql\n",
    "\n",
    "LIMIT 5"
   ]
  },
  {
   "cell_type": "code",
   "execution_count": null,
   "id": "18cfa95f-02ba-4ec7-8357-0eaca8756862",
   "metadata": {
    "deletable": false,
    "editable": false
   },
   "outputs": [],
   "source": [
    "result = _.DataFrame().set_index(\"b_id\")  # noqa F821\n",
    "\n",
    "wqet_grader.grade(\"Project 4 Assessment\", \"Task 4.5.4\", result)"
   ]
  },
  {
   "cell_type": "markdown",
   "id": "fa6700bb-fcf9-417f-92cd-83805a049873",
   "metadata": {
    "deletable": false,
    "editable": false
   },
   "source": [
    "## Import"
   ]
  },
  {
   "cell_type": "markdown",
   "id": "38989cd1-b725-4c23-b734-789f9f5315b9",
   "metadata": {
    "deletable": false,
    "editable": false
   },
   "source": [
    "**Task 4.5.5:** Write a `wrangle` function that will use the query you created in the previous task to create a DataFrame. In addition your function should:\n",
    "\n",
    "1. Create a `\"severe_damage\"` column, where all buildings with a damage grade greater than `3` should be encoded as `1`. All other buildings should be encoded at `0`. \n",
    "2. Drop any columns that could cause issues with leakage or multicollinearity in your model."
   ]
  },
  {
   "cell_type": "code",
   "execution_count": null,
   "id": "20fd1370-8034-4f96-a525-cc5c8153ca0e",
   "metadata": {
    "deletable": false
   },
   "outputs": [],
   "source": [
    "# Build your `wrangle` function here\n"
   ]
  },
  {
   "cell_type": "markdown",
   "id": "5d450d82-bccf-4734-8529-6e71abfc9d76",
   "metadata": {
    "deletable": false,
    "editable": false
   },
   "source": [
    "Use your `wrangle` function to query the database at `\"/home/jovyan/nepal.sqlite\"` and return  your cleaned results."
   ]
  },
  {
   "cell_type": "code",
   "execution_count": null,
   "id": "c07f1e9c-3037-4cf7-b282-f3cad3985761",
   "metadata": {
    "deletable": false
   },
   "outputs": [],
   "source": [
    "df = ...\n",
    "df.head()"
   ]
  },
  {
   "cell_type": "code",
   "execution_count": null,
   "id": "04b020ce-e371-47cf-8432-d2a3b979bc27",
   "metadata": {
    "deletable": false,
    "editable": false
   },
   "outputs": [],
   "source": [
    "\n",
    "wqet_grader.grade(\n",
    "    \"Project 4 Assessment\", \"Task 4.5.5\", wrangle(\"/home/jovyan/nepal.sqlite\")\n",
    ")"
   ]
  },
  {
   "cell_type": "markdown",
   "id": "65aa9771-74b9-4bdf-b7c4-65ae0aa40ba7",
   "metadata": {
    "deletable": false,
    "editable": false
   },
   "source": [
    "## Explore"
   ]
  },
  {
   "cell_type": "markdown",
   "id": "dffc3d6d-46ed-4929-952e-5bc79cd32db9",
   "metadata": {
    "deletable": false,
    "editable": false
   },
   "source": [
    "**Task 4.5.6:** Are the classes in this dataset balanced? Create a bar chart with the normalized value counts from the `\"severe_damage\"` column. Be sure to label the x-axis `\"Severe Damage\"` and the y-axis `\"Relative Frequency\"`. Use the title `\"Kavrepalanchok, Class Balance\"`."
   ]
  },
  {
   "cell_type": "code",
   "execution_count": null,
   "id": "f2b8ee83-1a0d-4362-b1a2-c7882128c50b",
   "metadata": {
    "deletable": false
   },
   "outputs": [],
   "source": [
    "# Plot value counts of `\"severe_damage\"`\n",
    "\n",
    "# Don't delete the code below 👇\n",
    "plt.savefig(\"images/4-5-6.png\", dpi=150)\n"
   ]
  },
  {
   "cell_type": "code",
   "execution_count": null,
   "id": "88d2853b-2d94-4c67-9a0e-f2c97cbfeaac",
   "metadata": {
    "deletable": false,
    "editable": false
   },
   "outputs": [],
   "source": [
    "with open(\"images/4-5-6.png\", \"rb\") as file:\n",
    "    wqet_grader.grade(\"Project 4 Assessment\", \"Task 4.5.6\", file)"
   ]
  },
  {
   "cell_type": "markdown",
   "id": "da85d06c-1071-473f-84df-9c030f2e3df8",
   "metadata": {
    "deletable": false,
    "editable": false
   },
   "source": [
    "**Task 4.5.7:** Is there a relationship between the footprint size of a building and the damage it sustained in the earthquake? Use seaborn to create a boxplot that shows the distributions of the `\"plinth_area_sq_ft\"` column for both groups in the `\"severe_damage\"` column. Label your x-axis `\"Severe Damage\"` and y-axis `\"Plinth Area [sq. ft.]\"`. Use the title `\"Kavrepalanchok, Plinth Area vs Building Damage\"`. "
   ]
  },
  {
   "cell_type": "code",
   "execution_count": null,
   "id": "5442fab6-d0ee-4b03-82d8-d4b13b1d7f0a",
   "metadata": {
    "deletable": false
   },
   "outputs": [],
   "source": [
    "\n",
    "# Don't delete the code below 👇\n",
    "plt.savefig(\"images/4-5-7.png\", dpi=150)\n"
   ]
  },
  {
   "cell_type": "code",
   "execution_count": null,
   "id": "ca7dd423-e94e-44b8-9197-730bbc051307",
   "metadata": {
    "deletable": false,
    "editable": false
   },
   "outputs": [],
   "source": [
    "with open(\"images/4-5-7.png\", \"rb\") as file:\n",
    "    wqet_grader.grade(\"Project 4 Assessment\", \"Task 4.5.7\", file)"
   ]
  },
  {
   "cell_type": "markdown",
   "id": "06724b29-fd2e-47fa-b528-a8de78b2572a",
   "metadata": {
    "deletable": false,
    "editable": false
   },
   "source": [
    "**Task 4.5.8:** Are buildings with certain roof types more likely to suffer severe damage? Create a pivot table of `df` where the index is `\"roof_type\"` and the values come from the `\"severe_damage\"` column, aggregated by the mean."
   ]
  },
  {
   "cell_type": "code",
   "execution_count": null,
   "id": "d67cf52d-e656-4c22-a81e-deeef1d069bc",
   "metadata": {
    "deletable": false
   },
   "outputs": [],
   "source": [
    "roof_pivot = ...\n",
    "roof_pivot"
   ]
  },
  {
   "cell_type": "code",
   "execution_count": null,
   "id": "ff95de69-c34e-4cf8-9cd9-5c0efa3e20f9",
   "metadata": {
    "deletable": false,
    "editable": false
   },
   "outputs": [],
   "source": [
    "\n",
    "wqet_grader.grade(\"Project 4 Assessment\", \"Task 4.5.8\", roof_pivot)"
   ]
  },
  {
   "cell_type": "markdown",
   "id": "02c31a37-40d4-4898-81f3-68f08ce8cc2a",
   "metadata": {
    "deletable": false,
    "editable": false
   },
   "source": [
    "## Split"
   ]
  },
  {
   "cell_type": "markdown",
   "id": "2fc525f3-5043-4630-ab7d-2d69594b0b32",
   "metadata": {
    "deletable": false,
    "editable": false
   },
   "source": [
    "**Task 4.5.9:** Create your feature matrix `X` and target vector `y`. Your target is `\"severe_damage\"`. "
   ]
  },
  {
   "cell_type": "code",
   "execution_count": null,
   "id": "dd434d37-3528-4929-b3cf-3a40518fdbe2",
   "metadata": {
    "deletable": false
   },
   "outputs": [],
   "source": [
    "\n",
    "X = ...\n",
    "y = ...\n",
    "print(\"X shape:\", X.shape)\n",
    "print(\"y shape:\", y.shape)"
   ]
  },
  {
   "cell_type": "code",
   "execution_count": null,
   "id": "6c5fb67c-33aa-4dae-b1f7-ca329692fbeb",
   "metadata": {
    "deletable": false,
    "editable": false
   },
   "outputs": [],
   "source": [
    "\n",
    "wqet_grader.grade(\"Project 4 Assessment\", \"Task 4.5.9a\", X)"
   ]
  },
  {
   "cell_type": "code",
   "execution_count": null,
   "id": "f19f6a26-17e6-4278-8fcb-8bd7368c8966",
   "metadata": {
    "deletable": false,
    "editable": false
   },
   "outputs": [],
   "source": [
    "\n",
    "wqet_grader.grade(\"Project 4 Assessment\", \"Task 4.5.9b\", y)"
   ]
  },
  {
   "cell_type": "markdown",
   "id": "60c087c2-6337-417f-aaaa-b204e9a33fbc",
   "metadata": {
    "deletable": false,
    "editable": false
   },
   "source": [
    "**Task 4.5.10:** Divide your dataset into training and validation sets using a randomized split. Your validation set should be 20% of your data."
   ]
  },
  {
   "cell_type": "code",
   "execution_count": null,
   "id": "dce122c9-97a9-40ff-bb09-2c8d28f1f6f5",
   "metadata": {
    "deletable": false
   },
   "outputs": [],
   "source": [
    "X_train, X_val, y_train, y_val = ...\n",
    "print(\"X_train shape:\", X_train.shape)\n",
    "print(\"y_train shape:\", y_train.shape)\n",
    "print(\"X_val shape:\", X_val.shape)\n",
    "print(\"y_val shape:\", y_val.shape)"
   ]
  },
  {
   "cell_type": "code",
   "execution_count": null,
   "id": "cdb3d627-6b2e-4f13-bf63-99e0c43420d4",
   "metadata": {
    "deletable": false,
    "editable": false
   },
   "outputs": [],
   "source": [
    "wqet_grader.grade(\"Project 4 Assessment\", \"Task 4.5.10\", [X_train.shape == (61226, 11)])"
   ]
  },
  {
   "cell_type": "markdown",
   "id": "bf76ec92-7473-4a25-ac72-a1ced1fd213a",
   "metadata": {
    "deletable": false,
    "editable": false
   },
   "source": [
    "# Build Model"
   ]
  },
  {
   "cell_type": "markdown",
   "id": "59e1e4d3-3ff9-41f7-8a38-35d622517486",
   "metadata": {
    "deletable": false,
    "editable": false
   },
   "source": [
    "## Baseline"
   ]
  },
  {
   "cell_type": "markdown",
   "id": "64ba0679-9abb-4a40-85b2-cdeb94481f72",
   "metadata": {
    "deletable": false,
    "editable": false
   },
   "source": [
    "**Task 4.5.11:** Calculate the baseline accuracy score for your model."
   ]
  },
  {
   "cell_type": "code",
   "execution_count": null,
   "id": "c9ecd21e-06c2-4917-8ed4-228a1004cd9c",
   "metadata": {
    "deletable": false
   },
   "outputs": [],
   "source": [
    "acc_baseline = ...\n",
    "print(\"Baseline Accuracy:\", round(acc_baseline, 2))"
   ]
  },
  {
   "cell_type": "code",
   "execution_count": null,
   "id": "07759c53-33ff-4b4d-9890-09abc7664d44",
   "metadata": {
    "deletable": false,
    "editable": false
   },
   "outputs": [],
   "source": [
    "wqet_grader.grade(\"Project 4 Assessment\", \"Task 4.5.11\", [acc_baseline])"
   ]
  },
  {
   "cell_type": "markdown",
   "id": "417d5536-9aa5-45f7-99db-946a792d5978",
   "metadata": {
    "deletable": false,
    "editable": false,
    "tags": []
   },
   "source": [
    "## Iterate"
   ]
  },
  {
   "cell_type": "markdown",
   "id": "1028a961-792a-4ab5-b2cf-c2a7531a6099",
   "metadata": {
    "deletable": false,
    "editable": false
   },
   "source": [
    "**Task 4.5.12:** Create a model `model_lr` that uses logistic regression to predict building damage. Be sure to include an appropriate encoder for categorical features. "
   ]
  },
  {
   "cell_type": "code",
   "execution_count": null,
   "id": "71ddc9e5-2c17-418e-ad3b-2eecf5ed7c1b",
   "metadata": {
    "deletable": false
   },
   "outputs": [],
   "source": [
    "model_lr = ...\n"
   ]
  },
  {
   "cell_type": "code",
   "execution_count": null,
   "id": "ca02d24e-2725-4b5b-8b28-a579cf7a8d14",
   "metadata": {
    "deletable": false,
    "editable": false
   },
   "outputs": [],
   "source": [
    "\n",
    "wqet_grader.grade(\"Project 4 Assessment\", \"Task 4.5.12\", model_lr)"
   ]
  },
  {
   "cell_type": "markdown",
   "id": "8c7837f0-f107-4abc-8ff4-86223dac5e08",
   "metadata": {
    "deletable": false,
    "editable": false
   },
   "source": [
    "**Task 4.5.13:** Calculate training and validation accuracy score for `model_lr`. "
   ]
  },
  {
   "cell_type": "code",
   "execution_count": null,
   "id": "4df9fcb4-c627-4eed-985d-db6cc7b55a42",
   "metadata": {
    "deletable": false
   },
   "outputs": [],
   "source": [
    "lr_train_acc = ...\n",
    "lr_val_acc = ...\n",
    "\n",
    "print(\"Logistic Regression, Training Accuracy Score:\", lr_train_acc)\n",
    "print(\"Logistic Regression, Validation Accuracy Score:\", lr_val_acc)"
   ]
  },
  {
   "cell_type": "code",
   "execution_count": null,
   "id": "4e679cce-f000-48d6-8c7d-24941a29b720",
   "metadata": {
    "deletable": false,
    "editable": false
   },
   "outputs": [],
   "source": [
    "submission = [lr_train_acc, lr_val_acc]\n",
    "wqet_grader.grade(\"Project 4 Assessment\", \"Task 4.5.13\", submission)"
   ]
  },
  {
   "cell_type": "markdown",
   "id": "aeee54b5-3a37-4bd8-9dd6-d1dee9ed9bc6",
   "metadata": {
    "deletable": false,
    "editable": false
   },
   "source": [
    "**Task 4.5.14:** Perhaps a decision tree model will perform better than logistic regression, but what's the best hyperparameter value for `max_depth`? Create a `for` loop to train and evaluate the model `model_dt` at all depths from 1 to 15. Be sure to use an appropriate encoder for your model, and to record its training and validation accuracy scores at every depth. The grader will evaluate your validation accuracy scores only."
   ]
  },
  {
   "cell_type": "code",
   "execution_count": null,
   "id": "7b41bf29-973d-4270-acd4-495c7c9de283",
   "metadata": {
    "deletable": false
   },
   "outputs": [],
   "source": [
    "depth_hyperparams = range(1, 16)\n",
    "training_acc = []\n",
    "validation_acc = []\n",
    "for d in depth_hyperparams:\n",
    "    model_dt = ...\n",
    "    model_dt.fit(X_train, y_train)\n",
    "    "
   ]
  },
  {
   "cell_type": "code",
   "execution_count": null,
   "id": "7801c268-1684-452e-90f4-5eda50e99203",
   "metadata": {
    "deletable": false,
    "editable": false
   },
   "outputs": [],
   "source": [
    "submission = pd.Series(validation_acc, index=depth_hyperparams)\n",
    "\n",
    "wqet_grader.grade(\"Project 4 Assessment\", \"Task 4.5.14\", submission)"
   ]
  },
  {
   "cell_type": "markdown",
   "id": "ccca1d0e-59fc-43cb-8dce-1cbb18c25d1d",
   "metadata": {
    "deletable": false,
    "editable": false
   },
   "source": [
    "**Task 4.5.15:** Using the values in `training_acc` and `validation_acc`, plot the validation curve for `model_dt`. Label your x-axis `\"Max Depth\"` and your y-axis `\"Accuracy Score\"`. Use the title `\"Validation Curve, Decision Tree Model\"`, and include a legend. "
   ]
  },
  {
   "cell_type": "code",
   "execution_count": null,
   "id": "b871f317-2c38-45fa-86c3-3446bf55a68f",
   "metadata": {
    "deletable": false
   },
   "outputs": [],
   "source": [
    "\n",
    "# Don't delete the code below 👇\n",
    "plt.savefig(\"images/4-5-15.png\", dpi=150)\n"
   ]
  },
  {
   "cell_type": "code",
   "execution_count": null,
   "id": "3df8c418-7e42-4956-a81b-f87bb6bc1c03",
   "metadata": {
    "deletable": false,
    "editable": false
   },
   "outputs": [],
   "source": [
    "with open(\"images/4-5-15.png\", \"rb\") as file:\n",
    "    wqet_grader.grade(\"Project 4 Assessment\", \"Task 4.5.15\", file)"
   ]
  },
  {
   "cell_type": "markdown",
   "id": "cf5db086-c8b9-4be4-8e03-78aa67e8f5a6",
   "metadata": {
    "deletable": false,
    "editable": false
   },
   "source": [
    "**Task 4.5.16:** Build and train a new decision tree model `final_model_dt`, using the value for `max_depth` that yielded the best validation accuracy score in your plot above. "
   ]
  },
  {
   "cell_type": "code",
   "execution_count": null,
   "id": "3b05fdc0-547e-4fca-8111-82b90f3c223b",
   "metadata": {
    "deletable": false
   },
   "outputs": [],
   "source": [
    "final_model_dt = ...\n"
   ]
  },
  {
   "cell_type": "code",
   "execution_count": null,
   "id": "2212ad7c-cb60-4d7a-aeb3-2a915436073d",
   "metadata": {
    "deletable": false,
    "editable": false
   },
   "outputs": [],
   "source": [
    "\n",
    "wqet_grader.grade(\"Project 4 Assessment\", \"Task 4.5.16\", final_model_dt)"
   ]
  },
  {
   "cell_type": "markdown",
   "id": "be7ec560-b79b-4fb1-9b86-350e26eed2f8",
   "metadata": {
    "deletable": false,
    "editable": false
   },
   "source": [
    "## Evaluate"
   ]
  },
  {
   "cell_type": "markdown",
   "id": "73082001-4b01-4aac-9c04-1d4d339d0d32",
   "metadata": {
    "deletable": false,
    "editable": false
   },
   "source": [
    "**Task 4.5.17:** How does your model perform on the test set? First, read the CSV file `\"data/kavrepalanchok-test-features.csv\"` into the DataFrame `X_test`. Next, use `final_model_dt` to generate a list of test predictions `y_test_pred`. Finally, submit your test predictions to the grader to see how your model performs.\n",
    "\n",
    "**Tip:** Make sure the order of the columns in `X_test` is the same as in your `X_train`. Otherwise, it could hurt your model's performance."
   ]
  },
  {
   "cell_type": "code",
   "execution_count": null,
   "id": "8f3a24cf-7053-464a-a558-08eb34fe867a",
   "metadata": {
    "deletable": false
   },
   "outputs": [],
   "source": [
    "X_test = pd.read_csv(\"data/kavrepalanchok-test-features.csv\", index_col=\"b_id\")\n",
    "y_test_pred = ...\n",
    "y_test_pred[:5]"
   ]
  },
  {
   "cell_type": "code",
   "execution_count": null,
   "id": "fdee354c-f7cf-4c64-819a-dc401e2040d8",
   "metadata": {
    "deletable": false,
    "editable": false
   },
   "outputs": [],
   "source": [
    "submission = pd.Series(y_test_pred)\n",
    "wqet_grader.grade(\"Project 4 Assessment\", \"Task 4.5.17\", submission)"
   ]
  },
  {
   "cell_type": "markdown",
   "id": "751232ec-054c-4773-a72f-7390481aefd8",
   "metadata": {
    "deletable": false,
    "editable": false
   },
   "source": [
    "# Communicate Results"
   ]
  },
  {
   "cell_type": "markdown",
   "id": "6a4ce549-358e-4b20-9471-027c24e8b2fb",
   "metadata": {
    "deletable": false,
    "editable": false
   },
   "source": [
    "**Task 4.5.18:** What are the most important features for `final_model_dt`? Create a Series Gini `feat_imp`, where the index labels are the feature names for your dataset and the values are the feature importances for your model. Be sure that the Series is sorted from smallest to largest feature importance. "
   ]
  },
  {
   "cell_type": "code",
   "execution_count": null,
   "id": "1edbfa3e-c51b-438e-a000-d99d135715d2",
   "metadata": {
    "deletable": false
   },
   "outputs": [],
   "source": [
    "\n",
    "feat_imp = ...\n",
    "feat_imp.head()"
   ]
  },
  {
   "cell_type": "code",
   "execution_count": null,
   "id": "9c605f43-e287-4f45-a73a-e9edfb7cc945",
   "metadata": {
    "deletable": false,
    "editable": false
   },
   "outputs": [],
   "source": [
    "\n",
    "wqet_grader.grade(\"Project 4 Assessment\", \"Task 4.5.18\", feat_imp)"
   ]
  },
  {
   "cell_type": "markdown",
   "id": "7be11cdd-a6dc-4fe2-bfea-2f8233640613",
   "metadata": {
    "deletable": false,
    "editable": false
   },
   "source": [
    "**Task 4.5.19:** Create a horizontal bar chart of `feat_imp`. Label your x-axis `\"Gini Importance\"` and your y-axis `\"Label\"`. Use the title `\"Kavrepalanchok Decision Tree, Feature Importance\"`.\n",
    "\n",
    "Do you see any relationship between this plot and the exploratory data analysis you did regarding roof type?"
   ]
  },
  {
   "cell_type": "code",
   "execution_count": null,
   "id": "43304b26-366c-4390-a581-bc049c9c6c86",
   "metadata": {
    "deletable": false
   },
   "outputs": [],
   "source": [
    "# Create horizontal bar chart of feature importances\n",
    "\n",
    "# Don't delete the code below 👇\n",
    "plt.tight_layout()\n",
    "plt.savefig(\"images/4-5-19.png\", dpi=150)\n"
   ]
  },
  {
   "cell_type": "code",
   "execution_count": null,
   "id": "69f13559-2a5a-468d-ae37-bfeb3715248b",
   "metadata": {
    "deletable": false,
    "editable": false
   },
   "outputs": [],
   "source": [
    "with open(\"images/4-5-19.png\", \"rb\") as file:\n",
    "    wqet_grader.grade(\"Project 4 Assessment\", \"Task 4.5.19\", file)"
   ]
  },
  {
   "cell_type": "markdown",
   "id": "8411d749-4338-4cc0-8bd3-6e3837a10435",
   "metadata": {
    "deletable": false,
    "editable": false
   },
   "source": [
    "Congratulations! You made it to the end of Project 4. 👏👏👏"
   ]
  },
  {
   "cell_type": "markdown",
   "id": "03da88f1",
   "metadata": {
    "deletable": false,
    "editable": false
   },
   "source": [
    "---\n",
    "Copyright © 2022 WorldQuant University. This\n",
    "content is licensed solely for personal use. Redistribution or\n",
    "publication of this material is strictly prohibited.\n"
   ]
  }
 ],
 "metadata": {
  "kernelspec": {
   "display_name": "Python 3 (ipykernel)",
   "language": "python",
   "name": "python3"
  },
  "language_info": {
   "codemirror_mode": {
    "name": "ipython",
    "version": 3
   },
   "file_extension": ".py",
   "mimetype": "text/x-python",
   "name": "python",
   "nbconvert_exporter": "python",
   "pygments_lexer": "ipython3",
   "version": "3.9.6"
  },
  "toc-autonumbering": false
 },
 "nbformat": 4,
 "nbformat_minor": 5
}
