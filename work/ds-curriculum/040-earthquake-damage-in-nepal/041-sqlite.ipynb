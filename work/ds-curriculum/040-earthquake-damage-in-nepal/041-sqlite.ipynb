{
 "cells": [
  {
   "cell_type": "markdown",
   "id": "3249299a-48f7-45e9-9b94-1c74fcd5989a",
   "metadata": {
    "deletable": false,
    "editable": false
   },
   "source": [
    "<font size=\"+3\"><strong>4.1. Wrangling Data with SQL</strong></font>"
   ]
  },
  {
   "cell_type": "code",
   "execution_count": null,
   "id": "489eaac3-6274-4594-81fe-40708b9a7d7b",
   "metadata": {
    "deletable": false,
    "editable": false,
    "init_cell": true
   },
   "outputs": [],
   "source": [
    "import sqlite3\n",
    "\n",
    "import pandas as pd\n",
    "from IPython.display import VimeoVideo"
   ]
  },
  {
   "cell_type": "code",
   "execution_count": null,
   "id": "6310ad95-1544-4fd8-9a78-e1217c4e81c7",
   "metadata": {
    "deletable": false,
    "editable": false,
    "init_cell": true
   },
   "outputs": [],
   "source": [
    "VimeoVideo(\"665414044\", h=\"ff34728e6a\", width=600)"
   ]
  },
  {
   "cell_type": "markdown",
   "id": "ebf076cf-a8fa-4b68-b89b-f1d5295bdc48",
   "metadata": {
    "deletable": false,
    "editable": false
   },
   "source": [
    "# Prepare Data"
   ]
  },
  {
   "cell_type": "markdown",
   "id": "27a78900-71b4-4fc4-a069-1e03dea39e1a",
   "metadata": {
    "deletable": false,
    "editable": false
   },
   "source": [
    "## Connect"
   ]
  },
  {
   "cell_type": "code",
   "execution_count": null,
   "id": "6561ba3b-bd4a-447f-9e37-c3f2549a41bc",
   "metadata": {
    "deletable": false,
    "editable": false,
    "init_cell": true
   },
   "outputs": [],
   "source": [
    "VimeoVideo(\"665414180\", h=\"573444d2f6\", width=600)"
   ]
  },
  {
   "cell_type": "markdown",
   "id": "e656afab-fad5-4e5c-a088-5f835ae619a1",
   "metadata": {
    "deletable": false,
    "editable": false
   },
   "source": [
    "**Task 4.1.1:** Run the cell below to connect to the `nepal.sqlite` database. \n",
    "\n",
    "- [What's <span id='term'>ipython-sql</span>?](../%40textbook/10-databases-sql.ipynb#SQL-Databases)\n",
    "- [What's a <span id='term'>Magics function</span>?](../%40textbook/10-databases-sql.ipynb#Magic-Commands)"
   ]
  },
  {
   "cell_type": "code",
   "execution_count": null,
   "id": "9779113e-ca27-46de-80f3-c7a37838b8f2",
   "metadata": {
    "deletable": false
   },
   "outputs": [],
   "source": [
    "%load_ext sql\n",
    "%sql sqlite:////home/jovyan/nepal.sqlite"
   ]
  },
  {
   "cell_type": "markdown",
   "id": "fd7b56db-bb81-43e4-82fd-5a5fe35f7448",
   "metadata": {
    "deletable": false,
    "editable": false
   },
   "source": [
    "## Explore"
   ]
  },
  {
   "cell_type": "code",
   "execution_count": null,
   "id": "6e00e2f8-47e3-4379-a2e1-aec38ee229b4",
   "metadata": {
    "deletable": false,
    "editable": false,
    "init_cell": true
   },
   "outputs": [],
   "source": [
    "VimeoVideo(\"665414201\", h=\"4f30b7a95f\", width=600)"
   ]
  },
  {
   "cell_type": "markdown",
   "id": "e976a08c-2892-4c0d-b376-1bdf4a149446",
   "metadata": {
    "deletable": false,
    "editable": false
   },
   "source": [
    "**Task 4.1.2:** Select all rows and columns from the `sqlite_schema` table, and examine the output. \n",
    "\n",
    "- [What's a <span id='term'>SQL database</span>?](../%40textbook/10-databases-sql.ipynb#SQL-Databases)\n",
    "- [What's a <span id='term'>SQL table</span>?](../%40textbook/10-databases-sql.ipynb#SQL-Databases)\n",
    "- [<span id='technique'>Write a basic query in <span id='tool'>SQL</span></span>.](../%40textbook/10-databases-sql.ipynb#Building-Blocks-of-the-Basic-Query)\n",
    "\n",
    "How many tables are in the `nepal.sqlite` database? What information do they hold? "
   ]
  },
  {
   "cell_type": "code",
   "execution_count": null,
   "id": "56b7f670-fafd-4499-9d1a-df1881d8b583",
   "metadata": {
    "deletable": false,
    "tags": []
   },
   "outputs": [],
   "source": [
    "%%sql\n"
   ]
  },
  {
   "cell_type": "code",
   "execution_count": null,
   "id": "71e095c4-091f-4993-bd2d-85a0d587893c",
   "metadata": {
    "deletable": false,
    "editable": false,
    "init_cell": true
   },
   "outputs": [],
   "source": [
    "VimeoVideo(\"665414239\", h=\"d7319aa0a8\", width=600)"
   ]
  },
  {
   "cell_type": "markdown",
   "id": "0282a3e4-fd30-4806-91ca-d83b2aeb770c",
   "metadata": {
    "deletable": false,
    "editable": false
   },
   "source": [
    "**Task 4.1.3:** Select the `name` column from the `sqlite_schema` table, showing only rows where the **`type`** is `\"table\"`.\n",
    "\n",
    "- [<span id='technique'>Select a column from a table in <span id='tool'>SQL</span></span>.](../%40textbook/10-databases-sql.ipynb#Building-Blocks-of-the-Basic-Query)\n",
    "- [<span id='technique'>Subset a table using a `WHERE` clause in <span id='tool'>SQL</span></span>.](../%40textbook/10-databases-sql.ipynb#Building-Blocks-of-the-Basic-Query)"
   ]
  },
  {
   "cell_type": "code",
   "execution_count": null,
   "id": "6ca7ff61-1c1f-48bf-8a83-8451ffec8b66",
   "metadata": {
    "deletable": false
   },
   "outputs": [],
   "source": [
    "%%sql\n"
   ]
  },
  {
   "cell_type": "code",
   "execution_count": null,
   "id": "9168bcc3-f615-4b08-b1eb-15c818402804",
   "metadata": {
    "deletable": false,
    "editable": false,
    "init_cell": true
   },
   "outputs": [],
   "source": [
    "VimeoVideo(\"665414263\", h=\"5b7d1e875f\", width=600)"
   ]
  },
  {
   "cell_type": "markdown",
   "id": "660709df-ec88-4afb-8c1a-ee35ba6624af",
   "metadata": {
    "deletable": false,
    "editable": false
   },
   "source": [
    "**Task 4.1.4:** Select all columns from the `id_map` table, limiting your results to the first five rows. \n",
    "\n",
    "- [<span id='technique'>Inspect a table using a `LIMIT` clause in <span id='tool'>SQL</span></span>.](../%40textbook/10-databases-sql.ipynb#Building-Blocks-of-the-Basic-Query)\n",
    "\n",
    "How is the data organized? What type of observation does each row represent? How do you think the **`household_id`**, **`building_id`**, **`vdcmun_id`**, and **`district_id`** columns are related to each other?"
   ]
  },
  {
   "cell_type": "code",
   "execution_count": null,
   "id": "71e00903-a311-4ff3-ba3d-ea674436d4a7",
   "metadata": {
    "deletable": false
   },
   "outputs": [],
   "source": [
    "%%sql\n"
   ]
  },
  {
   "cell_type": "code",
   "execution_count": null,
   "id": "74f04203-638b-42e1-9624-cf530a8de1fb",
   "metadata": {
    "deletable": false,
    "editable": false,
    "init_cell": true
   },
   "outputs": [],
   "source": [
    "VimeoVideo(\"665414293\", h=\"72fbe6b7d8\", width=600)"
   ]
  },
  {
   "cell_type": "markdown",
   "id": "fd7551e7-4032-492c-89d4-47b998d335fe",
   "metadata": {
    "deletable": false,
    "editable": false
   },
   "source": [
    "**Task 4.1.5:** How many observations are in the `id_map` table? Use the `count` command to find out.\n",
    "\n",
    "- [<span id='technique'>Calculate the number of rows in a table using a `count` function in <span id='tool'>SQL</span></span>.](../%40textbook/10-databases-sql.ipynb#Aggregating-Data) "
   ]
  },
  {
   "cell_type": "code",
   "execution_count": null,
   "id": "bc6cb5e0-240a-43aa-938f-0d33cfcc7a0b",
   "metadata": {
    "deletable": false
   },
   "outputs": [],
   "source": [
    "%%sql\n"
   ]
  },
  {
   "cell_type": "code",
   "execution_count": null,
   "id": "7d319b86-cc22-457f-ae21-ce0994c5e358",
   "metadata": {
    "deletable": false,
    "editable": false,
    "init_cell": true
   },
   "outputs": [],
   "source": [
    "VimeoVideo(\"665414303\", h=\"6ba10ddf88\", width=600)"
   ]
  },
  {
   "cell_type": "markdown",
   "id": "35284d1c-48ea-4489-911f-9782ab50bd3d",
   "metadata": {
    "deletable": false,
    "editable": false
   },
   "source": [
    "**Task 4.1.6:** What districts are represented in the `id_map` table? Use the `distinct` command to determine the unique values in the **`district_id`** column.\n",
    "\n",
    "- [<span id='technique'>Determine the unique values in a column using a `distinct` function in <span id='tool'>SQL</span></span>.](../%40textbook/10-databases-sql.ipynb#Aggregating-Data) "
   ]
  },
  {
   "cell_type": "code",
   "execution_count": null,
   "id": "8f500582-54ae-42b9-846e-faf638cea156",
   "metadata": {
    "deletable": false
   },
   "outputs": [],
   "source": [
    "%%sql\n"
   ]
  },
  {
   "cell_type": "code",
   "execution_count": null,
   "id": "11c18012-06ee-49c8-aad4-1eaaad1de032",
   "metadata": {
    "deletable": false,
    "editable": false,
    "init_cell": true
   },
   "outputs": [],
   "source": [
    "VimeoVideo(\"665414313\", h=\"adbab3e418\", width=600)"
   ]
  },
  {
   "cell_type": "markdown",
   "id": "7d1ed66e-bc1b-4b85-a276-91fe09ac8cd3",
   "metadata": {
    "deletable": false,
    "editable": false
   },
   "source": [
    "**Task 4.1.7:** How many buildings are there in `id_map` table? Combine the `count` and `distinct` commands to calculate the number of unique values in **`building_id`**.\n",
    "\n",
    "- [<span id='technique'>Calculate the number of rows in a table using a `count` function in <span id='tool'>SQL</span></span>.](../%40textbook/10-databases-sql.ipynb#Aggregating-Data) \n",
    "- [<span id='technique'>Determine the unique values in a column using a `distinct` function in <span id='tool'>SQL</span></span>.](../%40textbook/10-databases-sql.ipynb#Aggregating-Data) "
   ]
  },
  {
   "cell_type": "code",
   "execution_count": null,
   "id": "99ac2654-e442-4bd0-b61f-f3f20e5d921a",
   "metadata": {
    "deletable": false
   },
   "outputs": [],
   "source": [
    "%%sql\n"
   ]
  },
  {
   "cell_type": "code",
   "execution_count": null,
   "id": "f59abba0-183a-4e2c-8e22-83e2b3ea1240",
   "metadata": {
    "deletable": false,
    "editable": false,
    "init_cell": true
   },
   "outputs": [],
   "source": [
    "VimeoVideo(\"665414336\", h=\"5b595107c6\", width=600)"
   ]
  },
  {
   "cell_type": "markdown",
   "id": "81abfb2c-f2ef-4a4f-9c95-4a77978a0225",
   "metadata": {
    "deletable": false,
    "editable": false
   },
   "source": [
    "**Task 4.1.8:** For our model, we'll focus on Gorkha (district `4`). Select all columns that from `id_map`, showing only rows where the **`district_id`** is `4` and limiting your results to the first five rows.\n",
    "\n",
    "- [<span id='technique'>Inspect a table using a `LIMIT` clause in <span id='tool'>SQL</span></span>.](../%40textbook/10-databases-sql.ipynb#Building-Blocks-of-the-Basic-Query)\n",
    "- [<span id='technique'>Subset a table using a `WHERE` clause in <span id='tool'>SQL</span></span>.](../%40textbook/10-databases-sql.ipynb#Building-Blocks-of-the-Basic-Query)"
   ]
  },
  {
   "cell_type": "code",
   "execution_count": null,
   "id": "f946c744-d5ac-4b7a-84eb-0aa3abfce0fe",
   "metadata": {
    "deletable": false
   },
   "outputs": [],
   "source": [
    "%%sql\n"
   ]
  },
  {
   "cell_type": "code",
   "execution_count": null,
   "id": "5ded755a-5f5f-4ede-98ec-0719d336234c",
   "metadata": {
    "deletable": false,
    "editable": false,
    "init_cell": true
   },
   "outputs": [],
   "source": [
    "VimeoVideo(\"665414344\", h=\"bdcb4a50a3\", width=600)"
   ]
  },
  {
   "cell_type": "markdown",
   "id": "db689349-e167-43d3-8034-72774c188d4f",
   "metadata": {
    "deletable": false,
    "editable": false
   },
   "source": [
    "**Task 4.1.9:** How many observations in the `id_map` table come from Gorkha? Use the `count` and `WHERE` commands together to calculate the answer.\n",
    "\n",
    "- [<span id='technique'>Calculate the number of rows in a table using a `count` function in <span id='tool'>SQL</span></span>.](../%40textbook/10-databases-sql.ipynb#Aggregating-Data) \n",
    "- [<span id='technique'>Subset a table using a `WHERE` clause in <span id='tool'>SQL</span></span>.](../%40textbook/10-databases-sql.ipynb#Building-Blocks-of-the-Basic-Query)"
   ]
  },
  {
   "cell_type": "code",
   "execution_count": null,
   "id": "b8c6820c-13dd-48eb-8671-d0638d5d1fe8",
   "metadata": {
    "deletable": false
   },
   "outputs": [],
   "source": [
    "%%sql\n"
   ]
  },
  {
   "cell_type": "code",
   "execution_count": null,
   "id": "b5d212dc-d4ad-4ad8-b83c-1000f016dadf",
   "metadata": {
    "deletable": false,
    "editable": false,
    "init_cell": true
   },
   "outputs": [],
   "source": [
    "VimeoVideo(\"665414356\", h=\"5d2bdb3813\", width=600)"
   ]
  },
  {
   "cell_type": "markdown",
   "id": "838942e0-f0db-4266-beb5-3dfc9780480f",
   "metadata": {
    "deletable": false,
    "editable": false
   },
   "source": [
    "**Task 4.1.10:** How many buildings in the `id_map` table are in Gorkha? Combine the `count` and `distinct` commands to calculate the number of unique values in **`building_id`**, considering only rows where the **`district_id`** is `4`.\n",
    "\n",
    "- [<span id='technique'>Calculate the number of rows in a table using a `count` function in <span id='tool'>SQL</span></span>.](../%40textbook/10-databases-sql.ipynb#Aggregating-Data) \n",
    "- [<span id='technique'>Determine the unique values in a column using a `distinct` function in <span id='tool'>SQL</span></span>.](../%40textbook/10-databases-sql.ipynb#Aggregating-Data) \n",
    "- [<span id='technique'>Subset a table using a `WHERE` clause in <span id='tool'>SQL</span></span>.](../%40textbook/10-databases-sql.ipynb#Building-Blocks-of-the-Basic-Query)"
   ]
  },
  {
   "cell_type": "code",
   "execution_count": null,
   "id": "ebadb63c-be74-4e4d-9fb3-79bcdc7b6f47",
   "metadata": {
    "deletable": false
   },
   "outputs": [],
   "source": [
    "%%sql\n"
   ]
  },
  {
   "cell_type": "code",
   "execution_count": null,
   "id": "60c46767-8cd4-47d0-88f7-3d60d943928e",
   "metadata": {
    "deletable": false,
    "editable": false,
    "init_cell": true
   },
   "outputs": [],
   "source": [
    "VimeoVideo(\"665414390\", h=\"308ea86e4b\", width=600)"
   ]
  },
  {
   "cell_type": "markdown",
   "id": "647b6b9a-3901-46fd-87b9-fb11e46f1f31",
   "metadata": {
    "deletable": false,
    "editable": false
   },
   "source": [
    "**Task 4.1.11:** Select all the columns from the `building_structure` table, and limit your results to the first five rows. \n",
    "\n",
    "- [<span id='technique'>Inspect a table using a `LIMIT` clause in <span id='tool'>SQL</span></span>.](../%40textbook/10-databases-sql.ipynb#Querying-a-Database)\n",
    "\n",
    "What information is in this table? What does each row represent? How does it relate to the information in the `id_map` table?"
   ]
  },
  {
   "cell_type": "code",
   "execution_count": null,
   "id": "e578867f-8a7d-4be6-95a2-7077305e81ed",
   "metadata": {
    "deletable": false
   },
   "outputs": [],
   "source": [
    "%%sql\n"
   ]
  },
  {
   "cell_type": "code",
   "execution_count": null,
   "id": "94b28ce4-77ea-4364-bf75-02290bdeecbe",
   "metadata": {
    "deletable": false,
    "editable": false,
    "init_cell": true
   },
   "outputs": [],
   "source": [
    "VimeoVideo(\"665414402\", h=\"64875c7779\", width=600)"
   ]
  },
  {
   "cell_type": "markdown",
   "id": "23e5dbf0-7172-472c-846c-10cd3c00d477",
   "metadata": {
    "deletable": false,
    "editable": false
   },
   "source": [
    "**Task 4.1.12:** How many building are there in the `building_structure` table? Use the `count` command to find out.\n",
    "\n",
    "- [<span id='technique'>Calculate the number of rows in a table using a `count` function in <span id='tool'>SQL</span></span>.](../%40textbook/10-databases-sql.ipynb#Aggregating-Data) "
   ]
  },
  {
   "cell_type": "code",
   "execution_count": null,
   "id": "d1845a0f-bf0d-4a1d-9395-a4e957864d6f",
   "metadata": {
    "deletable": false
   },
   "outputs": [],
   "source": [
    "%%sql\n"
   ]
  },
  {
   "cell_type": "code",
   "execution_count": null,
   "id": "0d9a2c79-aabd-42ec-8657-748c0da06076",
   "metadata": {
    "deletable": false,
    "editable": false,
    "init_cell": true
   },
   "outputs": [],
   "source": [
    "VimeoVideo(\"665414414\", h=\"202f83f3cb\", width=600)"
   ]
  },
  {
   "cell_type": "markdown",
   "id": "f6e8e57f-cd33-4901-8ff7-25f37e5ef2fb",
   "metadata": {
    "deletable": false,
    "editable": false
   },
   "source": [
    "**Task 4.1.13:** There are over 200,000 buildings in the `building_structure` table, but how can we retrieve only buildings that are in Gorkha? Use the `JOIN` command to join the `id_map` and `building_structure` tables, showing only buildings where **`district_id`** is `4` and limiting your results to the first five rows of the new table.\n",
    "\n",
    "- [<span id='technique'>Create an alias for a column or table using the `AS` command in <span id='tool'>SQL</span></span>.](../%40textbook/10-databases-sql.ipynb#SELECT-and-FROM) \n",
    "- [<span id='technique'>Merge two tables using a `JOIN` clause in <span id='tool'>SQL</span></span>.](../%40textbook/10-databases-sql.ipynb#Joining-Tables)\n",
    "- [<span id='technique'>Inspect a table using a `LIMIT` clause in <span id='tool'>SQL</span></span>.](../%40textbook/10-databases-sql.ipynb#Building-Blocks-of-the-Basic-Query)\n",
    "- [<span id='technique'>Subset a table using a `WHERE` clause in <span id='tool'>SQL</span></span>.](../%40textbook/10-databases-sql.ipynb#Building-Blocks-of-the-Basic-Query)"
   ]
  },
  {
   "cell_type": "code",
   "execution_count": null,
   "id": "9b515665-3b59-4b0b-af20-fa0506ced7a8",
   "metadata": {
    "deletable": false
   },
   "outputs": [],
   "source": [
    "%%sql\n"
   ]
  },
  {
   "cell_type": "markdown",
   "id": "775b552c-72f0-4426-b151-814f8498119a",
   "metadata": {
    "deletable": false,
    "editable": false
   },
   "source": [
    "In the table we just made, each row represents a unique household in Gorkha. How can we create a table where each row represents a unique building?"
   ]
  },
  {
   "cell_type": "code",
   "execution_count": null,
   "id": "eca014c7-4c97-4cf0-a4ce-f4c3dd11a65e",
   "metadata": {
    "deletable": false,
    "editable": false,
    "init_cell": true
   },
   "outputs": [],
   "source": [
    "VimeoVideo(\"665414450\", h=\"0fcb4dc3fa\", width=600)"
   ]
  },
  {
   "cell_type": "markdown",
   "id": "36b36f82-53ab-4c62-a99a-25bc3b82bfbb",
   "metadata": {
    "deletable": false,
    "editable": false
   },
   "source": [
    "**Task 4.1.14:** Use the `distinct` command to create a column with all unique building IDs in the `id_map` table. `JOIN` this column with all the columns from the `building_structure` table, showing only buildings where **`district_id`** is `4` and limiting your results to the first five rows of the new table.\n",
    "\n",
    "- [<span id='technique'>Create an alias for a column or table using the `AS` command in <span id='tool'>SQL</span></span>.](../%40textbook/10-databases-sql.ipynb#SELECT-and-FROM) \n",
    "- [<span id='technique'>Determine the unique values in a column using a `distinct` function in <span id='tool'>SQL</span></span>.](../%40textbook/10-databases-sql.ipynb#Aggregating-Data) \n",
    "- [<span id='technique'>Merge two tables using a `JOIN` clause in <span id='tool'>SQL</span></span>.](../%40textbook/10-databases-sql.ipynb#Joining-Tables)\n",
    "- [<span id='technique'>Inspect a table using a `LIMIT` clause in <span id='tool'>SQL</span></span>.](../%40textbook/10-databases-sql.ipynb#Building-Blocks-of-the-Basic-Query)\n",
    "- [<span id='technique'>Subset a table using a `WHERE` clause in <span id='tool'>SQL</span></span>.](../%40textbook/10-databases-sql.ipynb#Building-Blocks-of-the-Basic-Query)"
   ]
  },
  {
   "cell_type": "code",
   "execution_count": null,
   "id": "3c8a6ea0-fb79-4988-b317-9c9c65d12d6b",
   "metadata": {
    "deletable": false
   },
   "outputs": [],
   "source": [
    "%%sql\n"
   ]
  },
  {
   "cell_type": "markdown",
   "id": "4003ac4e-cf3d-42c7-83f9-768f22f73414",
   "metadata": {
    "deletable": false,
    "editable": false
   },
   "source": [
    "We've combined the `id_map` and `building_structure` tables to create a table with all the buildings in Gorkha, but the final piece of data needed for our model, the damage that each building sustained in the earthquake, is in the `building_damage` table."
   ]
  },
  {
   "cell_type": "code",
   "execution_count": null,
   "id": "9d5b4fe4-8339-4743-bd36-f1946b461392",
   "metadata": {
    "deletable": false,
    "editable": false,
    "init_cell": true
   },
   "outputs": [],
   "source": [
    "VimeoVideo(\"665414466\", h=\"37dde03c93\", width=600)"
   ]
  },
  {
   "cell_type": "markdown",
   "id": "046ff321-45d6-4d82-bc29-4ca9dbff8d5e",
   "metadata": {
    "deletable": false,
    "editable": false
   },
   "source": [
    "**Task 4.1.15:** How can combine all three tables? Using the query you created in the last task as a foundation, include the **`damage_grade`** column to your table by adding a second `JOIN` for the `building_damage` table. Be sure to limit your results to the first five rows of the new table.\n",
    "\n",
    "- [<span id='technique'>Create an alias for a column or table using the `AS` command in <span id='tool'>SQL</span></span>.](../%40textbook/10-databases-sql.ipynb#SELECT-and-FROM) \n",
    "- [<span id='technique'>Determine the unique values in a column using a `distinct` function in <span id='tool'>SQL</span></span>.](../%40textbook/10-databases-sql.ipynb#Aggregating-Data) \n",
    "- [<span id='technique'>Merge two tables using a `JOIN` clause in <span id='tool'>SQL</span></span>.](../%40textbook/10-databases-sql.ipynb#Joining-Tables)\n",
    "- [<span id='technique'>Inspect a table using a `LIMIT` clause in <span id='tool'>SQL</span></span>.](../%40textbook/10-databases-sql.ipynb#Building-Blocks-of-the-Basic-Query)\n",
    "- [<span id='technique'>Subset a table using a `WHERE` clause in <span id='tool'>SQL</span></span>.](../%40textbook/10-databases-sql.ipynb#Building-Blocks-of-the-Basic-Query)"
   ]
  },
  {
   "cell_type": "code",
   "execution_count": null,
   "id": "84b84662-4fed-4dfe-8eb3-c2a527ecd5e0",
   "metadata": {
    "deletable": false
   },
   "outputs": [],
   "source": [
    "%%sql\n"
   ]
  },
  {
   "cell_type": "markdown",
   "id": "6fe8ea8f-24eb-47e8-9e1e-b3a60cbc04f8",
   "metadata": {
    "deletable": false,
    "editable": false,
    "tags": []
   },
   "source": [
    "## Import"
   ]
  },
  {
   "cell_type": "code",
   "execution_count": null,
   "id": "ccfba19f-1c5f-4e6d-8fbf-f9c9b60246f0",
   "metadata": {
    "deletable": false,
    "editable": false,
    "init_cell": true
   },
   "outputs": [],
   "source": [
    "VimeoVideo(\"665414492\", h=\"9392e1a66e\", width=600)"
   ]
  },
  {
   "cell_type": "markdown",
   "id": "38402a9c-b8e6-4b67-a510-ff5994ae02ec",
   "metadata": {
    "deletable": false,
    "editable": false
   },
   "source": [
    "**Task 4.1.16:** Use the [`connect`](https://docs.python.org/3/library/sqlite3.html#sqlite3.connect) method from the sqlite3 library to connect to the database. Remember that the database is located at `\"/home/jovyan/nepal.sqlite\"`.\n",
    "\n",
    "- [<span id='technique'>Open a connection to a SQL database using <span id='tool'>sqlite3</span></span>.](../%40textbook/10-databases-sql.ipynb#Using-pandas-with-SQL-Databases)"
   ]
  },
  {
   "cell_type": "code",
   "execution_count": null,
   "id": "a521f96d-974a-42dc-bf7a-4439f0bc73fe",
   "metadata": {
    "deletable": false
   },
   "outputs": [],
   "source": [
    "conn = ..."
   ]
  },
  {
   "cell_type": "code",
   "execution_count": null,
   "id": "b79c2177-491e-4902-bf8e-60e4f8ea8d56",
   "metadata": {
    "deletable": false,
    "editable": false,
    "init_cell": true
   },
   "outputs": [],
   "source": [
    "VimeoVideo(\"665414501\", h=\"812d482c73\", width=600)"
   ]
  },
  {
   "cell_type": "markdown",
   "id": "99fa42da-85eb-4ab3-88b5-8b8823834874",
   "metadata": {
    "deletable": false,
    "editable": false
   },
   "source": [
    "**Task 4.1.17:** Put your last SQL query into a string and assign it to the variable `query`."
   ]
  },
  {
   "cell_type": "code",
   "execution_count": null,
   "id": "165e85ec-efc7-4bcc-bae3-96859c70561f",
   "metadata": {
    "deletable": false
   },
   "outputs": [],
   "source": [
    "\n",
    "query = \"\"\"...\"\"\"\n",
    "print(query)"
   ]
  },
  {
   "cell_type": "code",
   "execution_count": null,
   "id": "0546da45-3a5e-4bb4-b6a4-dec33f38faf9",
   "metadata": {
    "deletable": false,
    "editable": false,
    "init_cell": true
   },
   "outputs": [],
   "source": [
    "VimeoVideo(\"665414513\", h=\"c6a81b49ad\", width=600)"
   ]
  },
  {
   "cell_type": "markdown",
   "id": "40cc8cb7-d701-4ab3-95a0-eb8178271baa",
   "metadata": {
    "deletable": false,
    "editable": false
   },
   "source": [
    "**Task 4.1.18:** Use the [`read_sql`](https://pandas.pydata.org/docs/reference/api/pandas.read_sql.html#pandas-read-sql) from the pandas library to create a DataFrame from your `query`. Be sure that the **`building_id`** is set as your index column.\n",
    "\n",
    "- [<span id='technique'>Read SQL query into a DataFrame using <span id='tool'>pandas</span></span>.](../%40textbook/10-databases-sql.ipynb#Using-pandas-with-SQL-Databases)\n",
    "\n",
    "<div class=\"alert alert-block alert-info\">\n",
    "<b>Tip:</b> Your table might have two <b><code>building_id</code></b> columns, and that will make it hard to set it as the index column for your DataFrame. If you face this problem, add an alias for one of the <b><code>building_id</code></b> columns in your query using <code>AS</code>.\n",
    "</div>"
   ]
  },
  {
   "cell_type": "code",
   "execution_count": null,
   "id": "fa9e252c-704f-4409-9eec-cbbdeb4a1e6e",
   "metadata": {
    "deletable": false
   },
   "outputs": [],
   "source": [
    "df = ...\n",
    "\n",
    "df.head()"
   ]
  },
  {
   "cell_type": "code",
   "execution_count": null,
   "id": "6fca7ad5-d5dd-4a5a-bb99-a1b850da9108",
   "metadata": {
    "deletable": false
   },
   "outputs": [],
   "source": [
    "# Check your work\n",
    "assert df.shape[0] == 70836, f\"`df` should have 70,836 rows, not {df.shape[0]}.\"\n",
    "assert (\n",
    "    df.shape[1] > 14\n",
    "), \"`df` seems to be missing columns. Does your query combine the `id_map`, `building_structure`, and `building_damage` tables?\"\n",
    "assert (\n",
    "    \"damage_grade\" in df.columns\n",
    "), \"`df` is missing the target column, `'damage_grade'`.\""
   ]
  },
  {
   "cell_type": "markdown",
   "id": "9983dd86",
   "metadata": {
    "deletable": false,
    "editable": false
   },
   "source": [
    "---\n",
    "Copyright © 2022 WorldQuant University. This\n",
    "content is licensed solely for personal use. Redistribution or\n",
    "publication of this material is strictly prohibited.\n"
   ]
  }
 ],
 "metadata": {
  "kernelspec": {
   "display_name": "Python 3 (ipykernel)",
   "language": "python",
   "name": "python3"
  },
  "language_info": {
   "codemirror_mode": {
    "name": "ipython",
    "version": 3
   },
   "file_extension": ".py",
   "mimetype": "text/x-python",
   "name": "python",
   "nbconvert_exporter": "python",
   "pygments_lexer": "ipython3",
   "version": "3.9.6"
  }
 },
 "nbformat": 4,
 "nbformat_minor": 5
}
