{
 "cells": [
  {
   "cell_type": "markdown",
   "id": "56a5f6d3-0bc8-4d17-a88e-3f435a485759",
   "metadata": {
    "deletable": false,
    "editable": false
   },
   "source": [
    "<font size=\"+3\"><strong>4.4. Beyond the Model: Data Ethics</strong></font>"
   ]
  },
  {
   "cell_type": "code",
   "execution_count": null,
   "id": "c0b5c020-d93a-4613-811b-44376e3497ee",
   "metadata": {
    "deletable": false,
    "editable": false,
    "init_cell": true
   },
   "outputs": [],
   "source": [
    "import sqlite3\n",
    "import warnings\n",
    "\n",
    "import matplotlib.pyplot as plt\n",
    "import numpy as np\n",
    "import pandas as pd\n",
    "from category_encoders import OneHotEncoder\n",
    "from IPython.display import VimeoVideo\n",
    "from sklearn.linear_model import LogisticRegression\n",
    "from sklearn.metrics import accuracy_score\n",
    "from sklearn.model_selection import train_test_split\n",
    "from sklearn.pipeline import Pipeline, make_pipeline\n",
    "from sklearn.utils.validation import check_is_fitted\n",
    "\n",
    "warnings.simplefilter(action=\"ignore\", category=FutureWarning)"
   ]
  },
  {
   "cell_type": "code",
   "execution_count": null,
   "id": "507fbbaa-3f2c-41df-aa68-22a629f3e76a",
   "metadata": {
    "deletable": false,
    "editable": false,
    "init_cell": true
   },
   "outputs": [],
   "source": [
    "VimeoVideo(\"665414155\", h=\"c8a3e81a05\", width=600)"
   ]
  },
  {
   "cell_type": "markdown",
   "id": "0d61ec2c-51ee-4c37-8469-d56909073ad1",
   "metadata": {
    "deletable": false,
    "editable": false
   },
   "source": [
    "# Prepare Data"
   ]
  },
  {
   "cell_type": "markdown",
   "id": "565c7aba-4476-44c7-8dba-32b3c0b8aac3",
   "metadata": {
    "deletable": false,
    "editable": false
   },
   "source": [
    "**Task 4.4.1:** Run the cell below to connect to the `nepal.sqlite` database.\n",
    "\n",
    "- [What's <span id='term'>ipython-sql</span>?](../%40textbook/10-databases-sql.ipynb#ipython-sql)\n",
    "- [What's a <span id='term'>Magics function</span>?](../%40textbook/10-databases-sql.ipynb#Magic-Commands)"
   ]
  },
  {
   "cell_type": "code",
   "execution_count": null,
   "id": "6431a589-9fbb-4307-93e0-02473719ef28",
   "metadata": {
    "deletable": false
   },
   "outputs": [],
   "source": [
    "%load_ext sql\n",
    "%sql sqlite:////home/jovyan/nepal.sqlite"
   ]
  },
  {
   "cell_type": "code",
   "execution_count": null,
   "id": "382e46aa-8bd6-4c8d-88cd-84df22c9c0c2",
   "metadata": {
    "deletable": false,
    "editable": false,
    "init_cell": true
   },
   "outputs": [],
   "source": [
    "VimeoVideo(\"665415362\", h=\"f677c48c46\", width=600)"
   ]
  },
  {
   "cell_type": "markdown",
   "id": "4aa77c39-044c-4723-a02d-3cc04eba5486",
   "metadata": {
    "deletable": false,
    "editable": false
   },
   "source": [
    "**Task 4.4.2:** Select all columns from the `household_demographics` table, limiting your results to the first five rows.\n",
    "\n",
    "- [<span id='technique'>Write a basic query in <span id='tool'>SQL</span></span>.](../%40textbook/10-databases-sql.ipynb#Building-Blocks-of-the-Basic-Query)\n",
    "- [<span id='technique'>Inspect a table using a `LIMIT` clause in <span id='tool'>SQL</span></span>.](../%40textbook/10-databases-sql.ipynb#Building-Blocks-of-the-Basic-Query)"
   ]
  },
  {
   "cell_type": "code",
   "execution_count": null,
   "id": "fcbb0f2b-071e-48c2-9709-de38f5076617",
   "metadata": {
    "deletable": false
   },
   "outputs": [],
   "source": [
    "%%sql\n"
   ]
  },
  {
   "cell_type": "markdown",
   "id": "73db4135-7ab4-4e56-aea8-e456c3acd58f",
   "metadata": {
    "deletable": false,
    "editable": false
   },
   "source": [
    "**Task 4.4.3:** How many observations are in the `household_demographics` table? Use the `count` command to find out.\n",
    "\n",
    "- [<span id='technique'>Calculate the number of rows in a table using a `count` function in <span id='tool'>SQL</span></span>.](../%40textbook/10-databases-sql.ipynb#Aggregating-Data) "
   ]
  },
  {
   "cell_type": "code",
   "execution_count": null,
   "id": "83c0e1cb-06f0-4510-a93d-3ba89eef144b",
   "metadata": {
    "deletable": false
   },
   "outputs": [],
   "source": [
    "%%sql\n"
   ]
  },
  {
   "cell_type": "code",
   "execution_count": null,
   "id": "2aa32452-4475-47a9-b14a-1a13f4284885",
   "metadata": {
    "deletable": false,
    "editable": false,
    "init_cell": true
   },
   "outputs": [],
   "source": [
    "VimeoVideo(\"665415378\", h=\"aa2b99493e\", width=600)"
   ]
  },
  {
   "cell_type": "markdown",
   "id": "4e8b1eb4-fe29-4d2b-9afd-a3ebdc64388d",
   "metadata": {
    "deletable": false,
    "editable": false
   },
   "source": [
    "**Task 4.4.4:** Select all columns from the `id_map` table, limiting your results to the first five rows.\n",
    "\n",
    "- [<span id='technique'>Inspect a table using a `LIMIT` clause in <span id='tool'>SQL</span></span>.](../%40textbook/10-databases-sql.ipynb#Building-Blocks-of-the-Basic-Query)\n",
    "\n",
    "What columns does it have in common with `household_demographics` that we can use to join them?"
   ]
  },
  {
   "cell_type": "code",
   "execution_count": null,
   "id": "114d6ba2-7a25-4710-b0b6-8791a129913c",
   "metadata": {
    "deletable": false
   },
   "outputs": [],
   "source": [
    "%%sql\n"
   ]
  },
  {
   "cell_type": "code",
   "execution_count": null,
   "id": "7e99be7c-6b71-4df7-9701-5759eb1c938c",
   "metadata": {
    "deletable": false,
    "editable": false,
    "init_cell": true
   },
   "outputs": [],
   "source": [
    "VimeoVideo(\"665415406\", h=\"46a990c8f7\", width=600)"
   ]
  },
  {
   "cell_type": "markdown",
   "id": "25c156e1-5245-42df-bb9f-144e09270caf",
   "metadata": {
    "deletable": false,
    "editable": false
   },
   "source": [
    "**Task 4.4.5:** Create a table with all the columns from `household_demographics`, all the columns from `building_structure`, the **`vdcmun_id`** column from `id_map`, and the **`damage_grade`** column from `building_damage`. Your results should show only rows where the **`district_id`** is `4` and limit your results to the first five rows.\n",
    "\n",
    "- [<span id='technique'>Create an alias for a column or table using the `AS` command in <span id='tool'>SQL</span></span>.](../%40textbook/10-databases-sql.ipynb#SELECT-and-FROM) \n",
    "- [<span id='technique'>Determine the unique values in a column using a `DISTINCT` function in <span id='tool'>SQL</span></span>.](../%40textbook/10-databases-sql.ipynb#Aggregating-Data) \n",
    "- [<span id='technique'>Merge two tables using a `JOIN` clause in <span id='tool'>SQL</span></span>.](../%40textbook/10-databases-sql.ipynb#Joining-Tables)\n",
    "- [<span id='technique'>Inspect a table using a `LIMIT` clause in <span id='tool'>SQL</span></span>.](../%40textbook/10-databases-sql.ipynb#Building-Blocks-of-the-Basic-Query)\n",
    "- [<span id='technique'>Subset a table using a `WHERE` clause in <span id='tool'>SQL</span></span>.](../%40textbook/10-databases-sql.ipynb#Building-Blocks-of-the-Basic-Query)"
   ]
  },
  {
   "cell_type": "code",
   "execution_count": null,
   "id": "bc2abf8c-43b2-43c1-b4a6-78cd8d3524e9",
   "metadata": {
    "deletable": false
   },
   "outputs": [],
   "source": [
    "%%sql\n"
   ]
  },
  {
   "cell_type": "markdown",
   "id": "a851c41b-472d-4827-ae2e-52a1a713937f",
   "metadata": {
    "deletable": false,
    "editable": false
   },
   "source": [
    "## Import"
   ]
  },
  {
   "cell_type": "code",
   "execution_count": null,
   "id": "0a9a898d-a7cc-474e-9e18-2459c658d4de",
   "metadata": {
    "deletable": false
   },
   "outputs": [],
   "source": [
    "def wrangle(db_path):\n",
    "    # Connect to database\n",
    "    conn = sqlite3.connect(db_path)\n",
    "\n",
    "    # Construct query\n",
    "    query = ...\n",
    "\n",
    "    # Read query results into DataFrame\n",
    "    df = ...\n",
    "\n",
    "    # Identify leaky columns\n",
    "    drop_cols = [col for col in df.columns if \"post_eq\" in col]\n",
    "\n",
    "    # Add high-cardinality / redundant column\n",
    "    drop_cols.append(\"building_id\")\n",
    "\n",
    "    # Create binary target column\n",
    "    df[\"damage_grade\"] = df[\"damage_grade\"].str[-1].astype(int)\n",
    "    df[\"severe_damage\"] = (df[\"damage_grade\"] > 3).astype(int)\n",
    "\n",
    "    # Drop old target\n",
    "    drop_cols.append(\"damage_grade\")\n",
    "\n",
    "    # Drop multicollinearity column\n",
    "    drop_cols.append(\"count_floors_pre_eq\")\n",
    "    \n",
    "    # Drop columns\n",
    "    df.drop(columns=drop_cols, inplace=True)\n",
    "\n",
    "    return df"
   ]
  },
  {
   "cell_type": "code",
   "execution_count": null,
   "id": "1de3554a-46e7-4858-9cb6-16d46c6e6cde",
   "metadata": {
    "deletable": false,
    "editable": false,
    "init_cell": true
   },
   "outputs": [],
   "source": [
    "VimeoVideo(\"665415443\", h=\"ca27a7ebfc\", width=600)"
   ]
  },
  {
   "cell_type": "markdown",
   "id": "a5cb7fba-d0a8-4f49-a239-3dcd11322b62",
   "metadata": {
    "deletable": false,
    "editable": false
   },
   "source": [
    "**Task 4.4.6:** Add the query you created in the previous task to the `wrangle` function above. Then import your data by running the cell below. The path to the database is `\"/home/jovyan/nepal.sqlite\"`.\n",
    "\n",
    "- [<span id='technique'>Read SQL query into a DataFrame using <span id='tool'>pandas</span></span>.](../%40textbook/10-databases-sql.ipynb#Using-pandas-with-SQL-Databases)\n",
    "- [<span id='technique'>Write a function in <span id='tool'>Python</span></span>.](../%40textbook/02-python-advanced.ipynb#Functions)"
   ]
  },
  {
   "cell_type": "code",
   "execution_count": null,
   "id": "a9f25089-8400-411a-aa4d-1a5b17aa4277",
   "metadata": {
    "deletable": false
   },
   "outputs": [],
   "source": [
    "df = ...\n",
    "df.head()"
   ]
  },
  {
   "cell_type": "code",
   "execution_count": null,
   "id": "0459a629-e2b5-4a2e-a9e2-8243f9d552dd",
   "metadata": {
    "deletable": false
   },
   "outputs": [],
   "source": [
    "# Check your work\n",
    "assert df.shape == (75883, 20), f\"`df` should have shape (75883, 20), not {df.shape}\""
   ]
  },
  {
   "cell_type": "markdown",
   "id": "7d254a79-a14c-4547-9cfc-d3a4d938abc5",
   "metadata": {
    "deletable": false,
    "editable": false
   },
   "source": [
    "## Explore"
   ]
  },
  {
   "cell_type": "code",
   "execution_count": null,
   "id": "f33220cc-10d2-46c0-9a49-65e0a786a652",
   "metadata": {
    "deletable": false,
    "editable": false,
    "init_cell": true
   },
   "outputs": [],
   "source": [
    "VimeoVideo(\"665415463\", h=\"86c306199f\", width=600)"
   ]
  },
  {
   "cell_type": "markdown",
   "id": "48afaec2-737f-4a61-b2be-585f3c82560f",
   "metadata": {
    "deletable": false,
    "editable": false
   },
   "source": [
    "**Task 4.4.7:** Combine the [`select_dtypes`](https://pandas.pydata.org/docs/reference/api/pandas.DataFrame.select_dtypes.html) and [`nunique`](https://pandas.pydata.org/docs/reference/api/pandas.DataFrame.nunique.html) methods to see if there are any high- or low-cardinality categorical features in the dataset. \n",
    "\n",
    "- [What are <span id='term'>high- and low-cardinality features</span>?](../%40textbook/14-ml-classification.ipynb#High-cardinality-Features)\n",
    "- [<span id='technique'>Determine the unique values in a column using <span id='tool'>pandas</span></span>.](../%40textbook/03-pandas-getting-started.ipynb#Determine-the-unique-values-in-a-column) \n",
    "- [<span id='technique'>Subset a DataFrame's columns based on the column data types in <span id='tool'>pandas</span></span>.](../%40textbook/04-pandas-advanced.ipynb#Subset-the-Columns-of-a-DataFrame-Based-on-Data-Types)"
   ]
  },
  {
   "cell_type": "code",
   "execution_count": null,
   "id": "76da7779-74cd-4057-a18e-a41b735241fa",
   "metadata": {
    "deletable": false
   },
   "outputs": [],
   "source": [
    "# Check for high- and low-cardinality categorical features\n"
   ]
  },
  {
   "cell_type": "code",
   "execution_count": null,
   "id": "22aa716c-6908-4955-8f10-ddc40f12d91d",
   "metadata": {
    "deletable": false,
    "editable": false,
    "init_cell": true
   },
   "outputs": [],
   "source": [
    "VimeoVideo(\"665415472\", h=\"1142d69e4a\", width=600)"
   ]
  },
  {
   "cell_type": "markdown",
   "id": "24eacbde-4bc1-43bd-ac24-67c9e0aef96c",
   "metadata": {
    "deletable": false,
    "editable": false
   },
   "source": [
    "**Task 4.4.8:** Add to your `wrangle` function so that the `\"caste_household\"` contains only the 10 largest caste groups. For the rows that are not in those groups, `\"caste_household\"` should be changed to `\"Other\"`.\n",
    "\n",
    "- [<span id='technique'>Determine the unique values in a column using <span id='tool'>pandas</span></span>.](../%40textbook/03-pandas-getting-started.ipynb#Determine-the-unique-values-in-a-column) \n",
    "- [<span id='technique'>Combine multiple categories in a Series using <span id='tool'>pandas</span></span>.](../%40textbook/04-pandas-advanced.ipynb#Combine-multiple-categories-in-a-Series)"
   ]
  },
  {
   "cell_type": "code",
   "execution_count": null,
   "id": "58f8e8d0-1f0e-4e44-a37f-0739a3d80215",
   "metadata": {
    "deletable": false
   },
   "outputs": [],
   "source": [
    "df[\"caste_household\"].nunique()"
   ]
  },
  {
   "cell_type": "code",
   "execution_count": null,
   "id": "d7baa30f-ecfd-47ca-98da-4be89eefbc96",
   "metadata": {
    "deletable": false
   },
   "outputs": [],
   "source": [
    "# Check your work\n",
    "assert (\n",
    "    df[\"caste_household\"].nunique() == 11\n",
    "), f\"The `'caste_household'` column should only have 11 unique values, not {df['caste_household'].nunique()}.\""
   ]
  },
  {
   "cell_type": "markdown",
   "id": "d59e6d93-b806-4c85-a9da-15e1cd2b9502",
   "metadata": {
    "deletable": false,
    "editable": false,
    "tags": []
   },
   "source": [
    "## Split"
   ]
  },
  {
   "cell_type": "code",
   "execution_count": null,
   "id": "36409eeb-6759-4e32-a185-0d3f1a6ceed8",
   "metadata": {
    "deletable": false,
    "editable": false,
    "init_cell": true
   },
   "outputs": [],
   "source": [
    "VimeoVideo(\"665415515\", h=\"defc252edd\", width=600)"
   ]
  },
  {
   "cell_type": "markdown",
   "id": "7dc16f7f-fa65-4244-b073-a0be9834ca7b",
   "metadata": {
    "deletable": false,
    "editable": false
   },
   "source": [
    "**Task 4.4.9:** Create your feature matrix `X` and target vector `y`. Since our model will only consider building and household data, `X` should not include the municipality column `\"vdcmun_id\"`. Your target is `\"severe_damage\"`. "
   ]
  },
  {
   "cell_type": "code",
   "execution_count": null,
   "id": "57db1b21-539a-43a3-8fa5-f730b45d4c37",
   "metadata": {
    "deletable": false
   },
   "outputs": [],
   "source": [
    "target = \"severe_damage\"\n",
    "X = ...\n",
    "y = ..."
   ]
  },
  {
   "cell_type": "code",
   "execution_count": null,
   "id": "73b08499-42da-4a53-8f0b-e117b9db6161",
   "metadata": {
    "deletable": false
   },
   "outputs": [],
   "source": [
    "# Check your work\n",
    "assert X.shape == (75883, 18), f\"The shape of `X` should be (75883, 18), not {X.shape}.\"\n",
    "assert \"vdcmun_id\" not in X.columns, \"There should be no `'vdcmun_id'` column in `X`.\"\n",
    "assert y.shape == (75883,), f\"The shape of `y` should be (75883,), not {y.shape}.\""
   ]
  },
  {
   "cell_type": "markdown",
   "id": "93681a6e-3480-41e5-9ce8-c9fd60552afb",
   "metadata": {
    "deletable": false,
    "editable": false
   },
   "source": [
    "**Task 4.4.10:** Divide your data (`X` and `y`) into training and test sets using a randomized train-test split. Your test set should be 20% of your total data. Be sure to set a `random_state` for reproducibility."
   ]
  },
  {
   "cell_type": "code",
   "execution_count": null,
   "id": "b85f1aa8-0987-4c5a-9fe8-9e3dfc7fca80",
   "metadata": {
    "deletable": false
   },
   "outputs": [],
   "source": [
    "X_train, X_test, y_train, y_test = ..."
   ]
  },
  {
   "cell_type": "code",
   "execution_count": null,
   "id": "53a5ad9a-0b1a-4bf1-8335-a23a1ff2695b",
   "metadata": {
    "deletable": false
   },
   "outputs": [],
   "source": [
    "# Check your work\n",
    "assert X_train.shape == (\n",
    "    60706,\n",
    "    18,\n",
    "), f\"The shape of `X_train` should be (60706, 18), not {X_train.shape}.\"\n",
    "assert y_train.shape == (\n",
    "    60706,\n",
    "), f\"The shape of `y_train` should be (60706,), not {y_train.shape}.\"\n",
    "assert X_test.shape == (\n",
    "    15177,\n",
    "    18,\n",
    "), f\"The shape of `X_test` should be (15177, 18), not {X_test.shape}.\"\n",
    "assert y_test.shape == (\n",
    "    15177,\n",
    "), f\"The shape of `y_test` should be (15177,), not {y_test.shape}.\""
   ]
  },
  {
   "cell_type": "markdown",
   "id": "111788b7-14fe-486c-9f89-2c078157cfd4",
   "metadata": {
    "deletable": false,
    "editable": false,
    "tags": []
   },
   "source": [
    "# Build Model"
   ]
  },
  {
   "cell_type": "markdown",
   "id": "15c1824f-355f-47e4-b5a6-8cd1251792c7",
   "metadata": {
    "deletable": false,
    "editable": false,
    "tags": []
   },
   "source": [
    "## Baseline"
   ]
  },
  {
   "cell_type": "markdown",
   "id": "6755e531-b6ff-4985-9fc5-0b6601eca074",
   "metadata": {
    "deletable": false,
    "editable": false
   },
   "source": [
    "**Task 4.4.11:** Calculate the baseline accuracy score for your model.\n",
    "\n",
    "- [What's <span id='tool'>accuracy score</span>?](../%40textbook/14-ml-classification.ipynb#Calculating-Accuracy-Score)\n",
    "- [<span id='technique'>Aggregate data in a Series using `value_counts` in <span id='tool'>pandas</span></span>.](../%40textbook/04-pandas-advanced.ipynb#Working-with-value_counts-in-a-Series)"
   ]
  },
  {
   "cell_type": "code",
   "execution_count": null,
   "id": "ceaa7203-0210-43e8-a1d7-ef413cc48aab",
   "metadata": {
    "deletable": false
   },
   "outputs": [],
   "source": [
    "acc_baseline = ...\n",
    "print(\"Baseline Accuracy:\", round(acc_baseline, 2))"
   ]
  },
  {
   "cell_type": "markdown",
   "id": "d4da0d3d-6636-451d-bb90-d2914ce4bde8",
   "metadata": {
    "deletable": false,
    "editable": false,
    "tags": []
   },
   "source": [
    "## Iterate"
   ]
  },
  {
   "cell_type": "markdown",
   "id": "b3e9324e-1d8d-4866-937f-151f44306a3d",
   "metadata": {
    "deletable": false,
    "editable": false
   },
   "source": [
    "**Task 4.4.12:** Create a Pipeline called `model_lr`. It should have an `OneHotEncoder` transformer and a `LogisticRegression` predictor. Be sure you set the `use_cat_names` argument for your transformer to `True`.\n",
    "\n",
    "- [What's <span id='term'>logistic regression</span>?](../%40textbook/14-ml-classification.ipynb#Logistic-Regression)\n",
    "- [What's <span id='term'>one-hot encoding</span>?](../%40textbook/13-ml-data-pre-processing-and-production.ipynb#One-Hot-Encoding)\n",
    "- [<span id='technique'>Create a pipeline in <span id='tool'>scikit-learn</span></span>.](../%40textbook/13-ml-data-pre-processing-and-production.ipynb#Creating-a-Pipeline-in-scikit-learn)\n",
    "- [<span id='technique'>Fit a model to training data in <span id='tool'>scikit-learn</span></span>.](../%40textbook/15-ml-regression.ipynb#Fitting-a-Model-to-Training-Data)"
   ]
  },
  {
   "cell_type": "code",
   "execution_count": null,
   "id": "57160f5e-b0f0-40f1-b055-46afd8d67e95",
   "metadata": {
    "deletable": false
   },
   "outputs": [],
   "source": [
    "model_lr = ...\n"
   ]
  },
  {
   "cell_type": "code",
   "execution_count": null,
   "id": "ba1581d6-59a2-4f06-ad41-dae616267740",
   "metadata": {
    "deletable": false
   },
   "outputs": [],
   "source": [
    "# Check your work\n",
    "assert isinstance(\n",
    "    model_lr, Pipeline\n",
    "), f\"`model_lr` should be a Pipeline, not type {type(model_lr)}.\"\n",
    "assert isinstance(\n",
    "    model_lr[0], OneHotEncoder\n",
    "), f\"The first step in your Pipeline should be a OneHotEncoder, not type {type(model_lr[0])}.\"\n",
    "assert isinstance(\n",
    "    model_lr[-1], LogisticRegression\n",
    "), f\"The last step in your Pipeline should be LogisticRegression, not type {type(model_lr[-1])}.\"\n",
    "check_is_fitted(model_lr)"
   ]
  },
  {
   "cell_type": "markdown",
   "id": "4be0e001-c5c4-49f6-abc1-df1170267642",
   "metadata": {
    "deletable": false,
    "editable": false
   },
   "source": [
    "## Evaluate"
   ]
  },
  {
   "cell_type": "markdown",
   "id": "494110a5-51ab-40ca-a064-40e959990b61",
   "metadata": {
    "deletable": false,
    "editable": false
   },
   "source": [
    "**Task 4.4.13:** Calculate the training and test accuracy scores for `model_lr`. \n",
    "\n",
    "- [<span id='technique'>Calculate the accuracy score for a model in <span id='term'>scikit-learn</span></span>.](../%40textbook/14-ml-classification.ipynb#Calculating-Accuracy-Score)\n",
    "- [<span id='technique'>Generate predictions using a trained model in <span id='term'>scikit-learn</span></span>.](../%40textbook/15-ml-regression.ipynb#Generating-Predictions-Using-a-Trained-Model)"
   ]
  },
  {
   "cell_type": "code",
   "execution_count": null,
   "id": "15bcf25d-2c39-4dc2-bc25-ef67be033a51",
   "metadata": {
    "deletable": false
   },
   "outputs": [],
   "source": [
    "acc_train = ...\n",
    "acc_test = ...\n",
    "\n",
    "print(\"LR Training Accuracy:\", acc_train)\n",
    "print(\"LR Validation Accuracy:\", acc_test)"
   ]
  },
  {
   "cell_type": "markdown",
   "id": "3f4cefe3-fcc2-498f-9be5-f324d753c52c",
   "metadata": {
    "deletable": false,
    "editable": false
   },
   "source": [
    "# Communicate"
   ]
  },
  {
   "cell_type": "code",
   "execution_count": null,
   "id": "b563cabb-db9f-4b4e-82af-e66b8766579e",
   "metadata": {
    "deletable": false,
    "editable": false,
    "init_cell": true
   },
   "outputs": [],
   "source": [
    "VimeoVideo(\"665415532\", h=\"00440f76a9\", width=600)"
   ]
  },
  {
   "cell_type": "markdown",
   "id": "9551ac0a-d7f2-48f5-8e5b-5e1783318a14",
   "metadata": {
    "deletable": false,
    "editable": false
   },
   "source": [
    "**Task 4.4.14:** First, extract the feature names and importances from your model. Then create a pandas Series named `feat_imp`, where the index is `features` and the values are your the exponential of the `importances`.\n",
    "\n",
    "- [What's a <span id='term'>bar chart</span>?](../%40textbook/06-visualization-matplotlib.ipynb#Bar-Charts)\n",
    "- [<span id='technique'>Access an object in a pipeline in <span id='tool'>scikit-learn</span></span>.](../%40textbook/13-ml-data-pre-processing-and-production.ipynb#Accessing-an-Object-in-a-Pipeline)\n",
    "- [<span id='technique'>Create a Series in <span id='tool'>pandas</span></span>.](../%40textbook/03-pandas-getting-started.ipynb#Adding-Columns)"
   ]
  },
  {
   "cell_type": "code",
   "execution_count": null,
   "id": "a90ee03f-f34b-4fed-a2a3-f0afeab696d0",
   "metadata": {
    "deletable": false
   },
   "outputs": [],
   "source": [
    "features = ...\n",
    "importances = ...\n",
    "feat_imp = ...\n",
    "feat_imp.head()"
   ]
  },
  {
   "cell_type": "code",
   "execution_count": null,
   "id": "612f935e-f492-4882-b9ad-6d594bc61204",
   "metadata": {
    "deletable": false,
    "editable": false,
    "init_cell": true
   },
   "outputs": [],
   "source": [
    "VimeoVideo(\"665415552\", h=\"5b2383ccf8\", width=600)"
   ]
  },
  {
   "cell_type": "markdown",
   "id": "c7a78530-86a7-46b6-a6a1-1b1a7dbc69fc",
   "metadata": {
    "deletable": false,
    "editable": false
   },
   "source": [
    "**Task 4.4.15:** Create a horizontal bar chart with the ten largest coefficients from `feat_imp`. Be sure to label your x-axis `\"Odds Ratio\"`.\n",
    "\n",
    "- [<span id='technique'>Create a bar chart using <span id='tool'>pandas</span></span>.](../%40textbook/06-visualization-matplotlib.ipynb#Bar-Charts)"
   ]
  },
  {
   "cell_type": "code",
   "execution_count": null,
   "id": "41f58673-655d-451a-a31b-1a6544d772d6",
   "metadata": {
    "deletable": false
   },
   "outputs": [],
   "source": []
  },
  {
   "cell_type": "code",
   "execution_count": null,
   "id": "0970da87-30d9-4c82-9f7e-e15dfa64ed19",
   "metadata": {
    "deletable": false,
    "editable": false,
    "init_cell": true
   },
   "outputs": [],
   "source": [
    "VimeoVideo(\"665415581\", h=\"d15477e14d\", width=600)"
   ]
  },
  {
   "cell_type": "markdown",
   "id": "afa4d9bf-a35f-4cf0-98d3-8d048841fb17",
   "metadata": {
    "deletable": false,
    "editable": false
   },
   "source": [
    "**Task 4.4.16:** Create a horizontal bar chart with the ten smallest coefficients from `feat_imp`. Be sure to label your x-axis `\"Odds Ratio\"`.\n",
    "\n",
    "- [<span id='technique'>Create a bar chart using <span id='tool'>pandas</span></span>.](../%40textbook/06-visualization-matplotlib.ipynb#Bar-Charts)"
   ]
  },
  {
   "cell_type": "code",
   "execution_count": null,
   "id": "37dc464c-705d-440e-abd5-166def0c39b0",
   "metadata": {
    "deletable": false
   },
   "outputs": [],
   "source": []
  },
  {
   "cell_type": "markdown",
   "id": "d03bb3b6-e827-450f-9c2f-032bceacb59f",
   "metadata": {
    "deletable": false,
    "editable": false
   },
   "source": [
    "## Explore Some More"
   ]
  },
  {
   "cell_type": "code",
   "execution_count": null,
   "id": "d4f82769-3322-400c-a466-53c2c6faf96e",
   "metadata": {
    "deletable": false,
    "editable": false,
    "init_cell": true
   },
   "outputs": [],
   "source": [
    "VimeoVideo(\"665415631\", h=\"90ba264392\", width=600)"
   ]
  },
  {
   "cell_type": "markdown",
   "id": "70c0be91-6417-4377-8d86-481687202ca7",
   "metadata": {
    "deletable": false,
    "editable": false
   },
   "source": [
    "**Task 4.4.17:** Which municipalities saw the highest proportion of severely damaged buildings? Create a DataFrame `damage_by_vdcmun` by grouping `df` by `\"vdcmun_id\"` and then calculating the mean of the `\"severe_damage\"` column. Be sure to sort `damage_by_vdcmun` from highest to lowest proportion.\n",
    "\n",
    "- [<span id='technique'>Aggregate data using the groupby method in <span id='tool'>pandas</span></span>.](../%40textbook/04-pandas-advanced.ipynb#Series-and-Groupby)"
   ]
  },
  {
   "cell_type": "code",
   "execution_count": null,
   "id": "ecb69747-f08b-49b3-aad2-8fcb8ecc5bd5",
   "metadata": {
    "deletable": false
   },
   "outputs": [],
   "source": [
    "damage_by_vdcmun = ...\n",
    "damage_by_vdcmun"
   ]
  },
  {
   "cell_type": "code",
   "execution_count": null,
   "id": "b4564954-dcb1-4064-a68d-017de1566081",
   "metadata": {
    "deletable": false
   },
   "outputs": [],
   "source": [
    "# Check your work\n",
    "assert isinstance(\n",
    "    damage_by_vdcmun, pd.DataFrame\n",
    "), f\"`damage_by_vdcmun` should be a Series, not type {type(damage_by_vdcmun)}.\"\n",
    "assert damage_by_vdcmun.shape == (\n",
    "    11,\n",
    "    1,\n",
    "), f\"`damage_by_vdcmun` should be shape (11,1), not {damage_by_vdcmun.shape}.\""
   ]
  },
  {
   "cell_type": "code",
   "execution_count": null,
   "id": "ad93a2fc-39d0-4b0c-bf7d-96f4c57c0dcc",
   "metadata": {
    "deletable": false,
    "editable": false,
    "init_cell": true
   },
   "outputs": [],
   "source": [
    "VimeoVideo(\"665415651\", h=\"9b5244dec1\", width=600)"
   ]
  },
  {
   "cell_type": "markdown",
   "id": "d471d9eb-ce26-4885-adfa-a60ae23771fe",
   "metadata": {
    "deletable": false,
    "editable": false
   },
   "source": [
    "**Task 4.4.18:** Create a line plot of `damage_by_vdcmun`. Label your x-axis `\"Municipality ID\"`, your y-axis `\"% of Total Households\"`, and give your plot the title `\"Household Damage by Municipality\"`.\n",
    "\n",
    "- [Create a line plot in Matplotlib.](../%40textbook/07-visualization-pandas.ipynb#Line-Plots)"
   ]
  },
  {
   "cell_type": "code",
   "execution_count": null,
   "id": "dc9b5d64-b1db-401c-b5f3-28a51ca2decc",
   "metadata": {
    "deletable": false
   },
   "outputs": [],
   "source": [
    "# Plot line\n",
    "\n",
    "plt.xlabel(\"Municipality ID\")\n",
    "plt.ylabel(\"% of Total Households\")\n",
    "plt.title(\"Severe Damage by Municipality\");"
   ]
  },
  {
   "cell_type": "markdown",
   "id": "a662e1c8-cbe0-469c-9cb9-abe428b527eb",
   "metadata": {
    "deletable": false,
    "editable": false
   },
   "source": [
    "Given the plot above, our next question is: How are the Gurung and Kumal populations distributed across these municipalities?"
   ]
  },
  {
   "cell_type": "code",
   "execution_count": null,
   "id": "20baf3f8-9896-4498-a8c4-8365fc399b7a",
   "metadata": {
    "deletable": false,
    "editable": false,
    "init_cell": true
   },
   "outputs": [],
   "source": [
    "VimeoVideo(\"665415693\", h=\"fb2e54aa04\", width=600)"
   ]
  },
  {
   "cell_type": "markdown",
   "id": "afa0fb8f-c496-4288-94ce-f7ec7db0b2f3",
   "metadata": {
    "deletable": false,
    "editable": false
   },
   "source": [
    "**Task 4.4.19:** Create a new column in `damage_by_vdcmun` that contains the the proportion of Gurung households in each municipality.\n",
    "\n",
    "- [<span id='technique'>Aggregate data using the groupby method in <span id='tool'>pandas</span></span>.](../%40textbook/04-pandas-advanced.ipynb#Series-and-Groupby)\n",
    "- [<span id='technique'>Create a Series in <span id='tool'>pandas</span></span>.](../%40textbook/03-pandas-getting-started.ipynb#Adding-Columns)"
   ]
  },
  {
   "cell_type": "code",
   "execution_count": null,
   "id": "61398132-62b1-4579-af67-63e780c8b5e7",
   "metadata": {
    "deletable": false
   },
   "outputs": [],
   "source": [
    "damage_by_vdcmun[\"Gurung\"] = ..."
   ]
  },
  {
   "cell_type": "code",
   "execution_count": null,
   "id": "0bd137d5-068f-4f58-982d-539cd98d47b5",
   "metadata": {
    "deletable": false,
    "editable": false,
    "init_cell": true
   },
   "outputs": [],
   "source": [
    "VimeoVideo(\"665415707\", h=\"9b29c23434\", width=600)"
   ]
  },
  {
   "cell_type": "markdown",
   "id": "caea7d3d-ad20-4d81-b1a5-42cb7deccd4b",
   "metadata": {
    "deletable": false,
    "editable": false
   },
   "source": [
    "**Task 4.4.20:** Create a new column in `damage_by_vdcmun` that contains the the proportion of Kumal households in each municipality. Replace any `NaN` values in the column with `0`.\n",
    "\n",
    "- [<span id='technique'>Aggregate data using the groupby method in <span id='tool'>pandas</span></span>.](../%40textbook/04-pandas-advanced.ipynb#Series-and-Groupby)\n",
    "- [<span id='technique'>Create a Series in <span id='tool'>pandas</span></span>.](../%40textbook/03-pandas-getting-started.ipynb#Adding-Columns)"
   ]
  },
  {
   "cell_type": "code",
   "execution_count": null,
   "id": "95e635f3-c6b7-4931-ac7f-0991e37691f3",
   "metadata": {
    "deletable": false
   },
   "outputs": [],
   "source": [
    "damage_by_vdcmun[\"Kumal\"] = ..."
   ]
  },
  {
   "cell_type": "code",
   "execution_count": null,
   "id": "9d00c957-2ddc-4a2c-8fd8-82e7745a17db",
   "metadata": {
    "deletable": false,
    "editable": false,
    "init_cell": true
   },
   "outputs": [],
   "source": [
    "VimeoVideo(\"665415729\", h=\"8d0712c306\", width=600)"
   ]
  },
  {
   "cell_type": "markdown",
   "id": "282c833c-3fc4-4be8-8d24-edd29b199f68",
   "metadata": {
    "deletable": false,
    "editable": false
   },
   "source": [
    "**Task 4.4.21:** Create a visualization that combines the line plot of severely damaged households you made above with a stacked bar chart showing the proportion of Gurung and Kumal households in each district. Label your x-axis `\"Municipality ID\"`, your y-axis `\"% of Total Households\"`.\n",
    "\n",
    "- [<span id='technique'>Create a bar chart using <span id='tool'>pandas</span></span>.](../%40textbook/06-visualization-matplotlib.ipynb#Bar-Charts)\n",
    "- [<span id='technique'>Drop a column from a DataFrame using <span id='tool'>pandas</span></span>.](../%40textbook/03-pandas-getting-started.ipynb#Dropping-Columns)"
   ]
  },
  {
   "cell_type": "code",
   "execution_count": null,
   "id": "277b4a0c-8ee1-4dda-b0c6-5aa520f8c6da",
   "metadata": {
    "deletable": false
   },
   "outputs": [],
   "source": [
    "\n",
    "plt.xlabel(\"Municipality ID\")\n",
    "plt.ylabel(\"% of Total Households\")\n",
    "plt.title(\"Household Caste by Municipality\")\n",
    "plt.legend();"
   ]
  },
  {
   "cell_type": "markdown",
   "id": "0b114c77",
   "metadata": {
    "deletable": false,
    "editable": false
   },
   "source": [
    "---\n",
    "Copyright © 2022 WorldQuant University. This\n",
    "content is licensed solely for personal use. Redistribution or\n",
    "publication of this material is strictly prohibited.\n"
   ]
  }
 ],
 "metadata": {
  "kernelspec": {
   "display_name": "Python 3 (ipykernel)",
   "language": "python",
   "name": "python3"
  },
  "language_info": {
   "codemirror_mode": {
    "name": "ipython",
    "version": 3
   },
   "file_extension": ".py",
   "mimetype": "text/x-python",
   "name": "python",
   "nbconvert_exporter": "python",
   "pygments_lexer": "ipython3",
   "version": "3.9.6"
  }
 },
 "nbformat": 4,
 "nbformat_minor": 5
}
